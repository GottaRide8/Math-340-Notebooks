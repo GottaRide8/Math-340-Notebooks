{
 "cells": [
  {
   "cell_type": "markdown",
   "metadata": {},
   "source": [
    "So while the book does not provide code for the 'Babylonian Algorithm', I think this makes things a little too abstract.  But before we get to the code, let's think about what it takes to compute $\\sqrt{2}$.  One way to do this is to first use a little notation, like writing $x = \\sqrt{2}$, which then immediately let's us write \n",
    "$$\n",
    "x^{2}=2.  \n",
    "$$\n",
    "Said another way, we see that $\\sqrt{2}$ is a root of the quadratic equation \n",
    "$$\n",
    "x^{2}-2=0.\n",
    "$$\n",
    "So now let us write the function $f(x) = x^{2} - 2$ and note that \n",
    "$$\n",
    "f(1) = -1, ~ f(2) = 2.\n",
    "$$\n",
    "Let's get visual:"
   ]
  },
  {
   "cell_type": "code",
   "execution_count": null,
   "metadata": {
    "collapsed": true
   },
   "outputs": [],
   "source": [
    "import matplotlib.pyplot as plt\n",
    "%matplotlib inline\n",
    "import numpy as np"
   ]
  },
  {
   "cell_type": "code",
   "execution_count": null,
   "metadata": {
    "collapsed": true
   },
   "outputs": [],
   "source": [
    "xvals = np.linspace(1,2,41)"
   ]
  },
  {
   "cell_type": "code",
   "execution_count": null,
   "metadata": {
    "collapsed": false
   },
   "outputs": [],
   "source": [
    "yvals = xvals**2 - 2"
   ]
  },
  {
   "cell_type": "code",
   "execution_count": null,
   "metadata": {
    "collapsed": false
   },
   "outputs": [],
   "source": [
    "plt.plot(xvals,yvals)\n",
    "plt.plot(xvals,np.zeros(xvals.size))\n",
    "plt.xlim(1,2)\n",
    "plt.ylabel(\"$f(x)$\")\n",
    "plt.xlabel(\"$x$\")"
   ]
  },
  {
   "cell_type": "markdown",
   "metadata": {},
   "source": [
    "So what we see is that since $f(x)$ is continuous and changes sign on the interval $[1,2]$, then it must be the case that \n",
    "$$\n",
    "\\sqrt{2} \\in [1,2].\n",
    "$$\n",
    "Now, from the above graph, we see that the midpoint of the interval $[1,2]$, which is $1.5$, yields a positive value for $f(x)$, and this is of course true since \n",
    "$$\n",
    "f\\left(1.5\\right) = .25.\n",
    "$$\n",
    "So, at this point, we might be inclined to say that \n",
    "$$\n",
    "\\sqrt{2} \\approx 1.5\n",
    "$$\n",
    "since $.25$ is certainly smaller in magnitude than either $1$ or $2$.  But what if we want to do better?  Well, we still have that there is a sign change in $f(x)$ on the interval $[1,1.5]$, so it might be worth it to try this midpoint thing again.  That is, use \n",
    "$$\n",
    "1.25 = \\frac{1+1.5}{2},\n",
    "$$ \n",
    "and then note that\n",
    "$$\n",
    "f(1.25) = -.4375.\n",
    "$$\n",
    "Now to be consistent with what we did before, we would say that \n",
    "$$\n",
    "\\sqrt{2} \\approx 1.25\n",
    "$$\n",
    "though this is maybe not as great an approximation as before.  \n",
    "\n",
    "But, we now see a method forming in all of this since I now see that I have a sign change in $f(x)$ on the interval $[1.25,1.5]$.  Now if we use the midpoint idea again, then we say that \n",
    "$$\n",
    "\\sqrt{2} \\approx \\frac{1.25 + 1.5}{2} = 1.375,\n",
    "$$\n",
    "and we see that \n",
    "$$\n",
    "f(1.375) = -.109375.\n",
    "$$\n",
    "So rad, $-.109375$ is smaller in magnitude than $.25$, and so we have a demonstrably better approximation to $\\sqrt{2}$."
   ]
  },
  {
   "cell_type": "markdown",
   "metadata": {},
   "source": [
    "Okay, what would you do next to generate a yet better approximation to $\\sqrt{2}$?"
   ]
  },
  {
   "cell_type": "markdown",
   "metadata": {},
   "source": [
    "Okay, now you probably have a general idea on how to keep this method going, and it is at this point that we should introduce notation to help turn this general idea into what we can properly call an algorithm.  To do this, we need to see that the above process started with two things:\n",
    "\n",
    "1: A continuous function $f(x)$ \n",
    "\n",
    "2: An interval $[a,b]$ such that $f(a)f(b) < 0$.\n",
    "\n",
    "To find a root of $f(x)$ in $[a,b]$, i.e. a point $x_{\\ast}\\in[a,b]$ such that $f(x_{\\ast})=0$, we compute the midpoint of the interval $[a,b]$, i.e. we find\n",
    "$$\n",
    "c = \\frac{a+b}{2}\n",
    "$$\n",
    "and say that \n",
    "$$\n",
    "x_{\\ast} \\approx c.\n",
    "$$\n",
    "\n",
    "We then check: \n",
    "\n",
    "is $f(c)f(a)<0$ or is $f(c)f(b)<0$?\n",
    "\n",
    "If $f(c)f(a)<0$, we set $b=c$ and repeat the above process.  \n",
    "\n",
    "If $f(c)f(b)<0$, we set $a=c$ and repeat the above process. \n",
    "\n",
    "Okay, great.  But we are still missing something.  How do we know when to stop?  "
   ]
  },
  {
   "cell_type": "code",
   "execution_count": null,
   "metadata": {
    "collapsed": true
   },
   "outputs": [],
   "source": []
  }
 ],
 "metadata": {
  "kernelspec": {
   "display_name": "Python [Root]",
   "language": "python",
   "name": "Python [Root]"
  },
  "language_info": {
   "codemirror_mode": {
    "name": "ipython",
    "version": 2
   },
   "file_extension": ".py",
   "mimetype": "text/x-python",
   "name": "python",
   "nbconvert_exporter": "python",
   "pygments_lexer": "ipython2",
   "version": "2.7.12"
  }
 },
 "nbformat": 4,
 "nbformat_minor": 0
}
