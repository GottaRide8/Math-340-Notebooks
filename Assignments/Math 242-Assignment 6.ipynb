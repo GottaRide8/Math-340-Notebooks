{
 "cells": [
  {
   "cell_type": "markdown",
   "metadata": {},
   "source": [
    "<strong> Problem 1 </strong>: 5pts, 18.3"
   ]
  },
  {
   "cell_type": "markdown",
   "metadata": {},
   "source": [
    "<strong> Problem 2 </strong>: 5pts, 18.4"
   ]
  },
  {
   "cell_type": "markdown",
   "metadata": {},
   "source": [
    "Alright, after a late night of trying to figure out how to make some of this sorting business more transparent, let's do the following.  By an *explicit* for loop I mean one involving an explicit `range` statement and index as in \n",
    "\n",
    "`for kk in range(0,len(vals))`\n",
    "\n",
    "In this case, we refer to or iterate over entries in the list `vals` by referring to the `kk` element of `vals` which we denote by `vals[kk]`.  \n",
    "\n",
    "By an *implicit* for loop, I mean one that iterates over values as in \n",
    "\n",
    "`for val in vals`\n",
    "\n",
    "In order to determine what index in `vals` correpsonds to `val`, we use \n",
    "\n",
    "`ind = vals.index(val)`\n",
    "\n",
    "So long as `val` is unique, we then have \n",
    "\n",
    "`vals[ind] = val`.\n",
    "\n",
    "<strong> However, if `val` is not unique, the command `vals.index(val)` ONLY returns the index corresponding to the FIRST occurence of `val`.  See Ch. 14 of the text for reference. SO USE THIS COMMAND WITH CAUTION! </strong>\n",
    "\n",
    "For Problems 3-5, test your functions on the list \n",
    "\n",
    "`vals = [1,4,2,302,432,97,5,16,16,17,18,432,39,39,12,11]`\n",
    "\n",
    "<strong> NOTE: The values in `vals` are not unique.  I did this on purpose so that you will proceed with caution.  Watch my pedagogical skills in action! </strong>"
   ]
  },
  {
   "cell_type": "markdown",
   "metadata": {},
   "source": [
    "<strong> Problem 3 </strong>: 5pts, Rewrite the function `i_sort` from Lecture 19 by replacing the explicit for loop with an implicit one like\n",
    "\n",
    "`for val in vals`\n",
    "\n",
    "You will need to rewrite the rest of the function accordingly.  "
   ]
  },
  {
   "cell_type": "markdown",
   "metadata": {},
   "source": [
    "<strong> Problem 4 </strong>: 5pts, Rewrite the function `i_sort` from Lecture 19 by using only explicit for loops.  In other words, get rid of the inner `while` loop and replace it with an explicit statement like\n",
    "\n",
    "`for cnt in range(0,len(svals))`\n",
    "\n",
    "You will need to rewrite the function accordingly.  "
   ]
  },
  {
   "cell_type": "markdown",
   "metadata": {},
   "source": [
    "<strong> Problem 5 </strong>: 5pts, Rewrite the function `i_sort` from Lecture 19 by using only implicit for loops.  In other words, use\n",
    "\n",
    "`for val in vals`\n",
    "\n",
    "for the outer for loop, and \n",
    "\n",
    "`for sval in svals`\n",
    "\n",
    "for the inner for loop."
   ]
  },
  {
   "cell_type": "markdown",
   "metadata": {},
   "source": [
    "<strong> Problem 6 </strong>: 5pts, In the function `i_sort_alpha` from Lecture 19, we iterate over each letter of the words `cword` and `nword`.  However, Python is smarter than that, and can compare two strings.  Said another way the statements\n",
    "\n",
    "`\"air\"<\"candy\"`, `\"air\"<\"and\"`, `\"air\"<\"airport\"`\n",
    "\n",
    "all return the Boolean value `True`.  Using this fact, rewrite `i_sort_alpha` to use only implicit for loops, but that makes use of full string comparison.  Note, this means you do not have to iterate over letters within words.  As a test, use the list of strings \n",
    "\n",
    "`vals = [\"candy\",\"air\",\"dandy\",\"Dandy\",\"Airport\",\"air\",\"is\",\"Candy\",\"I\",\"is\",\"vulnerable\"]`"
   ]
  },
  {
   "cell_type": "code",
   "execution_count": null,
   "metadata": {
    "collapsed": true
   },
   "outputs": [],
   "source": []
  }
 ],
 "metadata": {
  "kernelspec": {
   "display_name": "Python 2",
   "language": "python",
   "name": "python2"
  },
  "language_info": {
   "codemirror_mode": {
    "name": "ipython",
    "version": 2
   },
   "file_extension": ".py",
   "mimetype": "text/x-python",
   "name": "python",
   "nbconvert_exporter": "python",
   "pygments_lexer": "ipython2",
   "version": "2.7.11"
  }
 },
 "nbformat": 4,
 "nbformat_minor": 0
}
