{
 "cells": [
  {
   "cell_type": "markdown",
   "metadata": {},
   "source": [
    "<strong> Problem 1 </strong> 2pts each, Exercise 15.2"
   ]
  },
  {
   "cell_type": "markdown",
   "metadata": {},
   "source": [
    "<strong> Problem 2 </strong> 5pts, Using the file beyonce.txt, write a program which opens it, reads it line by line, splits each line into a list of words, and then stores each unique word in a separate list.  Note, to do this, you will need to convert the contractions (ain't = are not) into separate words, as well as remove punctuation.  When the program completes, sort and print the list in alphabetical order.  To do this, you will need to use the `.sort()` helper function for lists.  See both pg. 107 and pg. 141 of your book.  "
   ]
  },
  {
   "cell_type": "markdown",
   "metadata": {},
   "source": [
    "<strong> Problem 3 </strong> 5 pts, Exercise 17.2"
   ]
  },
  {
   "cell_type": "markdown",
   "metadata": {},
   "source": [
    "<strong> Problem 4 </strong> 5 pts,Exercise 17.5.  Note there is a typo in the problem.  The formula should read\n",
    "$$\n",
    "\\begin{pmatrix} n \\\\ k \\end{pmatrix} = \\frac{n!}{k!(n-k)!}\n",
    "$$\n",
    "Note, if you are going for all the recursive marbles, you should think about using the identity\n",
    "$$\n",
    "\\begin{pmatrix} n \\\\ k \\end{pmatrix} = \\begin{pmatrix} n-1 \\\\ k-1 \\end{pmatrix} + \\begin{pmatrix} n-1 \\\\ k \\end{pmatrix}\n",
    "$$\n"
   ]
  },
  {
   "cell_type": "markdown",
   "metadata": {},
   "source": [
    "<strong> Problem 5 </strong> 5pts, Excercise 17.7.  Note, by the Binomial Theorem the author means the identity\n",
    "$$\n",
    "(x+y)^{n} = \\sum_{l=0}^{n} \\begin{pmatrix} n \\\\ k \\end{pmatrix} x^{l}y^{n-l}\n",
    "$$\n",
    "\n",
    "where $n\\geq 0$ is an integer.  Naturally, you can make use of your answer to the last problem.  "
   ]
  },
  {
   "cell_type": "markdown",
   "metadata": {},
   "source": [
    "<strong> Problem 6 </strong> 5pts, Exercise 17.8"
   ]
  }
 ],
 "metadata": {
  "kernelspec": {
   "display_name": "Python [Root]",
   "language": "python",
   "name": "Python [Root]"
  },
  "language_info": {
   "codemirror_mode": {
    "name": "ipython",
    "version": 2
   },
   "file_extension": ".py",
   "mimetype": "text/x-python",
   "name": "python",
   "nbconvert_exporter": "python",
   "pygments_lexer": "ipython2",
   "version": "2.7.12"
  }
 },
 "nbformat": 4,
 "nbformat_minor": 0
}
