{
 "cells": [
  {
   "cell_type": "markdown",
   "metadata": {},
   "source": [
    "<strong> This assignment is due at the beginning of class on 9/14/16. </strong>"
   ]
  },
  {
   "cell_type": "code",
   "execution_count": 3,
   "metadata": {
    "collapsed": false
   },
   "outputs": [],
   "source": [
    "import numpy as np\n",
    "import matplotlib.pyplot as plt\n",
    "%matplotlib inline"
   ]
  },
  {
   "cell_type": "markdown",
   "metadata": {},
   "source": [
    "<strong> Problem 1 </strong> [2 pts each]: Provide your answers in a markdown cell immediately below this one.  If you understand how to maintain the list formatting, that is great, but if not, do not worry about it.    \n",
    "<ol>\n",
    "<li> \n",
    "Using 'np.linspace' generate an array of 41 points starting at $x=1$ and ending at $x=\\pi$.  Store this in a variable called 'xvals'.  What is the width $\\Delta x$ between points in this array? \n",
    "</li>\n",
    "<li> \n",
    "Using 'np.linspace' generate an array of 21 points starting at $x=1$ and ending at $x=2.4$.  Store this in a variable called 'xvals'.  What is the width $\\Delta x$ between points in this array? \n",
    "</li>\n",
    "<li> \n",
    "Using your last example of 'xvals', brielf explain the result of the code 'xvals.size'.\n",
    "</li>\n",
    "<li>\n",
    "Make an array 'yvals' which represents the function $f(x) = x^3 + 4x^2 + 3$ plotted over the interval $x\\in [1,2.4]$. \n",
    "</li>\n",
    "<li>\n",
    "Make an array 'dyvals' which represents the function $\\frac{df}{dx} = 3x^2 + 8x$ plotted over the interval $x\\in [1,2.4]$. \n",
    "</li>\n",
    "<li>\n",
    "Using the code provided below, make a plot of $f(x)$ and its derivative $\\frac{df}{dx}$ over the interval $[1,2.4]$.\n",
    "</li>\n",
    "</ol>"
   ]
  },
  {
   "cell_type": "markdown",
   "metadata": {},
   "source": [
    "*Answer to 1.1*"
   ]
  },
  {
   "cell_type": "code",
   "execution_count": 5,
   "metadata": {
    "collapsed": false
   },
   "outputs": [],
   "source": [
    "xvals = np.linspace(1,np.pi,41)"
   ]
  },
  {
   "cell_type": "markdown",
   "metadata": {},
   "source": [
    "The interval width for $41$ points in $[1,\\pi]$ is $\\Delta x = (\\pi-1)/40$."
   ]
  },
  {
   "cell_type": "markdown",
   "metadata": {},
   "source": [
    "*Answer to 1.2*"
   ]
  },
  {
   "cell_type": "code",
   "execution_count": 6,
   "metadata": {
    "collapsed": false
   },
   "outputs": [],
   "source": [
    "xvals = np.linspace(1,2.4,21)"
   ]
  },
  {
   "cell_type": "markdown",
   "metadata": {},
   "source": [
    "The interval width for $21$ points in $[1,2.4]$ is $\\Delta x = (2.4-1)/20$."
   ]
  },
  {
   "cell_type": "markdown",
   "metadata": {},
   "source": [
    "*Answer to 1.3*"
   ]
  },
  {
   "cell_type": "markdown",
   "metadata": {},
   "source": [
    "The command `xvals.size` will return the size of the array `xvals`, which in this case happens to be $21$."
   ]
  },
  {
   "cell_type": "markdown",
   "metadata": {},
   "source": [
    "*Answer to 1.4*"
   ]
  },
  {
   "cell_type": "code",
   "execution_count": 7,
   "metadata": {
    "collapsed": true
   },
   "outputs": [],
   "source": [
    "yvals = xvals**3 + 4*xvals**2 + 3"
   ]
  },
  {
   "cell_type": "markdown",
   "metadata": {},
   "source": [
    "*Answer to 1.5*"
   ]
  },
  {
   "cell_type": "code",
   "execution_count": 8,
   "metadata": {
    "collapsed": true
   },
   "outputs": [],
   "source": [
    "dyvals = 3*xvals**2 + 8*xvals"
   ]
  },
  {
   "cell_type": "markdown",
   "metadata": {},
   "source": [
    "*Answer to 1.6*"
   ]
  },
  {
   "cell_type": "code",
   "execution_count": 9,
   "metadata": {
    "collapsed": false
   },
   "outputs": [
    {
     "data": {
      "text/plain": [
       "<matplotlib.text.Text at 0x7982cf8>"
      ]
     },
     "execution_count": 9,
     "metadata": {},
     "output_type": "execute_result"
    },
    {
     "data": {
      "image/png": "[encoded data removed]",
      "text/plain": [
       "<matplotlib.figure.Figure at 0x703fb38>"
      ]
     },
     "metadata": {},
     "output_type": "display_data"
    }
   ],
   "source": [
    "plt.plot(xvals,yvals)\n",
    "plt.plot(xvals,dyvals)\n",
    "plt.xlim(1,2.4)\n",
    "plt.ylabel(\"$f(x)$,$f'(x)$\")\n",
    "plt.xlabel(\"$x$\")"
   ]
  },
  {
   "cell_type": "code",
   "execution_count": 12,
   "metadata": {
    "collapsed": true
   },
   "outputs": [],
   "source": [
    "# This is a function which computes the square root of 'A' \n",
    "# given the initial starting guess 'x0' up to the tolerance\n",
    "# specified by 'tol'.\n",
    "\n",
    "def babylon(x0,tol,A):\n",
    "    x1 = (x0 + A/x0)/2.\n",
    "    count = 1\n",
    "    while np.abs(x1-x0)>tol:\n",
    "        x0 = x1\n",
    "        x1 = (x0 + A/x0)/2.\n",
    "        print \"%1.16f\" % x1\n",
    "        count += 1\n",
    "    print \"The Babylonian Algorithm has approximated your root of %d to be %1.16f after %d iterations\" % (A,x1, count)"
   ]
  },
  {
   "cell_type": "markdown",
   "metadata": {},
   "source": [
    "<strong> Problem 2 </strong> [10 pts]: 3.1 from the book.  As you will note above, you have been given an algorithm for finding $\\sqrt{A}$.  Feel free to use it solve this problem.  Provide your answer in a cell immediately below this one.  "
   ]
  },
  {
   "cell_type": "markdown",
   "metadata": {},
   "source": [
    "*Answer to Problem 2*"
   ]
  },
  {
   "cell_type": "markdown",
   "metadata": {},
   "source": [
    "A natural thing to try would be setting the tolerance, `tol` to $1e-7$, though we also need an initial guess.  Let's try $x_{0}=4$, since $4^2$ is relatively close to $20$.  Thus we run the command "
   ]
  },
  {
   "cell_type": "code",
   "execution_count": 13,
   "metadata": {
    "collapsed": false
   },
   "outputs": [
    {
     "name": "stdout",
     "output_type": "stream",
     "text": [
      "4.4722222222222223\n",
      "4.4721359558316074\n",
      "4.4721359549995796\n",
      "The Babylonian Algorithm has approximated your root of 20 to be 4.4721359549995796 after 4 iterations\n"
     ]
    }
   ],
   "source": [
    "babylon(4,1e-7,20)"
   ]
  },
  {
   "cell_type": "markdown",
   "metadata": {},
   "source": [
    "We see that on the fourth iteration, the approximation to $\\sqrt{20}$ does not change in the seventh digit past the decimal point when compared to the third iteration.  Thus we see that it in fact took only three iterations to achieve seven digits (well, eight technically) of accuracy in our approximation.  "
   ]
  },
  {
   "cell_type": "markdown",
   "metadata": {},
   "source": [
    "<strong> Problem 3 </strong> [10 pts]: Exlore the Babylonian Algorithm in the following way.  For $A=2$, try running 'bablyon(1.3,1e-15,2)', 'babylon(2.3,1e-15,2)', 'babylon(10.3,1e-15,2)', and 'babylon(100.3,1e-15,2)'.  Report on how the change in your initial guess changes the number of iterations needed for the algorithm to converge.  From this, what can you infer about picking initial guesses that are further from the root you are trying to compute?  Note, by report I do not mean just fill in some numbers underneath this text box.  Instead, I mean start a new cell immediately below this one, and in it, \n",
    "you should write something like \n",
    "\n",
    "In using the Babylonian Algorithm, I performed the following tests.\n",
    "\n",
    "babylon(1.3,1e-15,2): (insert # of iterations) iterations to converge\n",
    "\n",
    "babylon(2.3,1e-15,2): (insert # of iterations) iterations to converge\n",
    "\n",
    "babylon(10.3,1e-15,2): (insert # of iterations) iterations to converge\n",
    "\n",
    "babylon(100.3,1e-15,2): (insert # of iterations) iterations to converge\n",
    "\n",
    "From this, we infer that by changing the initial guess so that (you fill in the rest)"
   ]
  },
  {
   "cell_type": "code",
   "execution_count": 14,
   "metadata": {
    "collapsed": false
   },
   "outputs": [
    {
     "name": "stdout",
     "output_type": "stream",
     "text": [
      "1.4142224306858453\n",
      "1.4142135624009007\n",
      "1.4142135623730949\n",
      "1.4142135623730949\n",
      "The Babylonian Algorithm has approximated your root of 2 to be 1.4142135623730949 after 5 iterations\n",
      "1.4233926760899385\n",
      "1.4142431593107645\n",
      "1.4142135626827939\n",
      "1.4142135623730949\n",
      "1.4142135623730949\n",
      "The Babylonian Algorithm has approximated your root of 2 to be 1.4142135623730949 after 6 iterations\n",
      "2.8141256117924027\n",
      "1.7624129707252223\n",
      "1.4486103893343949\n",
      "1.4146219336348631\n",
      "1.4142136213171435\n",
      "1.4142135623730963\n",
      "1.4142135623730949\n",
      "1.4142135623730949\n",
      "The Babylonian Algorithm has approximated your root of 2 to be 1.4142135623730949 after 9 iterations\n",
      "25.0999212609000431\n",
      "12.5898013928813270\n",
      "6.3743300669917691\n",
      "3.3440442646449440\n",
      "1.9710612361323541\n",
      "1.4928715274547737\n",
      "1.4162857686403481\n",
      "1.4142150783237983\n",
      "1.4142135623739076\n",
      "1.4142135623730949\n",
      "1.4142135623730949\n",
      "The Babylonian Algorithm has approximated your root of 2 to be 1.4142135623730949 after 12 iterations\n"
     ]
    }
   ],
   "source": [
    "babylon(1.3,1e-15,2)\n",
    "babylon(2.3,1e-15,2)\n",
    "babylon(10.3,1e-15,2)\n",
    "babylon(100.3,1e-15,2)"
   ]
  },
  {
   "cell_type": "markdown",
   "metadata": {},
   "source": [
    "So, looking at the results of our tests, we see that \n",
    "<ul>\n",
    "<li>`babylon(1.3,1e-15,2)`: 5 iterations to converge </li>\n",
    "<li>`babylon(2.3,1e-15,2)`: 6 iterations to converge </li>\n",
    "<li>`babylon(10.3,1e-15,2)`: 9 iterations to converge </li>\n",
    "<li>`babylon(100.3,1e-15,2)`: 12 iterations to converge </li>\n",
    "</ul>\n",
    "Therefore we see that as the initial guess gets further from $\\sqrt{2}$, the longer it takes for the Babylonian Algorithm to converge.  "
   ]
  },
  {
   "cell_type": "markdown",
   "metadata": {},
   "source": [
    "<strong> Problem 4 </strong> [5 pts]: 3.2 from the book.  To help you get started, an answer would look like\n",
    "\n",
    "By choosing $f(x) = x^{2} - 2$, and using Newton's Method, we then get \n",
    "$$\n",
    "x_{n} = x_{n-1} - \\frac{(x_{n-1}^{2} - 2)}{2x_{n-1}}\n",
    "$$\n",
    "\n",
    "Simplifying this expression then gives \n",
    "$$\n",
    "x_{n} = \n",
    "$$\n",
    "which we see is identical to the Babylonian Algorithm, and thus we have proved the desired result.  "
   ]
  },
  {
   "cell_type": "markdown",
   "metadata": {},
   "source": [
    "*Answer to Problem 4*"
   ]
  },
  {
   "cell_type": "markdown",
   "metadata": {},
   "source": [
    "By choosing $f(x) = x^{2} - 2$, and using Newton's Method, we then get \n",
    "$$\n",
    "x_{n} = x_{n-1} - \\frac{(x_{n-1}^{2} - 2)}{2x_{n-1}}\n",
    "$$\n",
    "\n",
    "Simplifying this expression then gives \n",
    "$$\n",
    "x_{n} = x_{n-1} - \\frac{x_{n-1}}{2} + \\frac{1}{x_{n-1}}\n",
    "$$\n",
    "so that we have \n",
    "$$\n",
    "x_{n} = \\frac{1}{2}\\left( x_{n-1} + \\frac{2}{x_{n-1}}\\right)\n",
    "$$\n",
    "which we see is identical to the Babylonian Algorithm, and thus we have proved the desired result.  "
   ]
  },
  {
   "cell_type": "markdown",
   "metadata": {},
   "source": [
    "<strong> Problem 5 </strong> [5 pts]: 3.3 from the book.  Again, a good answer should look like \n",
    "\n",
    "Given $g(x) = \\frac{1}{2}(x + \\frac{2}{x})$, if we set $x = g(x)$, then we must have that \n",
    "$$\n",
    "x = \\frac{1}{2}\\left(x + \\frac{2}{x}\\right).\n",
    "$$\n",
    "Rearranging terms then gives us the expression\n",
    "$$\n",
    "\\mbox{You put in your work here.}\n",
    "$$\n",
    "And therefore we see that \n",
    "$$\n",
    "x = .\n",
    "$$"
   ]
  },
  {
   "cell_type": "markdown",
   "metadata": {
    "collapsed": true
   },
   "source": [
    "*Answer to Problem 5*"
   ]
  },
  {
   "cell_type": "markdown",
   "metadata": {},
   "source": [
    "Given $g(x) = \\frac{1}{2}(x + \\frac{2}{x})$, if we set $x = g(x)$, then we must have that \n",
    "$$\n",
    "x = \\frac{1}{2}\\left(x + \\frac{2}{x}\\right).\n",
    "$$\n",
    "Rearranging terms then gives us the expression\n",
    "$$\n",
    "x^{2} - 2 = 0\n",
    "$$\n",
    "And therefore we see that \n",
    "$$\n",
    "x = \\pm \\sqrt{2}.\n",
    "$$\n",
    "Therefore the value the Babylonian algorithm is trying to "
   ]
  },
  {
   "cell_type": "code",
   "execution_count": null,
   "metadata": {
    "collapsed": true
   },
   "outputs": [],
   "source": []
  }
 ],
 "metadata": {
  "anaconda-cloud": {},
  "kernelspec": {
   "display_name": "Python [Root]",
   "language": "python",
   "name": "Python [Root]"
  },
  "language_info": {
   "codemirror_mode": {
    "name": "ipython",
    "version": 2
   },
   "file_extension": ".py",
   "mimetype": "text/x-python",
   "name": "python",
   "nbconvert_exporter": "python",
   "pygments_lexer": "ipython2",
   "version": "2.7.12"
  }
 },
 "nbformat": 4,
 "nbformat_minor": 0
}
