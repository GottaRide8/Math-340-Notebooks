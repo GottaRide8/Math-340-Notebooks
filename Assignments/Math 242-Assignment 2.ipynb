{
 "cells": [
  {
   "cell_type": "markdown",
   "metadata": {},
   "source": [
    "<strong> This assignment is due at the beginning of class on 2/02/17. </strong>"
   ]
  },
  {
   "cell_type": "code",
   "execution_count": 2,
   "metadata": {
    "collapsed": false
   },
   "outputs": [],
   "source": [
    "import numpy as np\n",
    "import matplotlib.pyplot as plt\n",
    "%matplotlib inline"
   ]
  },
  {
   "cell_type": "markdown",
   "metadata": {},
   "source": [
    "<strong> Problem 1 </strong> [2 pts each]: Provide your answers in a markdown cell immediately below this one.  If you understand how to maintain the list formatting, that is great, but if not, do not worry about it.    \n",
    "<ol>\n",
    "<li> \n",
    "Using 'np.linspace' generate an array of 41 points starting at $x=1$ and ending at $x=\\pi$.  Store this in a variable called 'xvals'.  What is the width $\\Delta x$ between points in this array? \n",
    "</li>\n",
    "<li> \n",
    "Using 'np.linspace' generate an array of 21 points starting at $x=1$ and ending at $x=2.4$.  Store this in a variable called 'xvals'.  What is the width $\\Delta x$ between points in this array? \n",
    "</li>\n",
    "<li> \n",
    "Using your last example of 'xvals', brielf explain the result of the code 'xvals.size'.\n",
    "</li>\n",
    "<li>\n",
    "Make an array 'yvals' which represents the function $f(x) = x^3 + 4x^2 + 3$ plotted over the interval $x\\in [1,2.4]$. \n",
    "</li>\n",
    "<li>\n",
    "Make an array 'dyvals' which represents the function $\\frac{df}{dx} = 3x^2 + 8x$ plotted over the interval $x\\in [1,2.4]$. \n",
    "</li>\n",
    "<li>\n",
    "Using the code provided below, make a plot of $f(x)$ and its derivative $\\frac{df}{dx}$ over the interval $[1,2.4]$.\n",
    "</li>\n",
    "</ol>"
   ]
  },
  {
   "cell_type": "code",
   "execution_count": null,
   "metadata": {
    "collapsed": true
   },
   "outputs": [],
   "source": [
    "plt.plot(xvals,yvals)\n",
    "plt.plot(xvals,dyvals)\n",
    "plt.xlim(1,2.4)\n",
    "plt.ylabel(\"$f(x)$,$f'(x)$\")\n",
    "plt.xlabel(\"$x$\")"
   ]
  },
  {
   "cell_type": "code",
   "execution_count": 3,
   "metadata": {
    "collapsed": true
   },
   "outputs": [],
   "source": [
    "# This is a function which computes the square root of 'A' \n",
    "# given the initial starting guess 'x0' up to the tolerance\n",
    "# specified by 'tol'.\n",
    "\n",
    "def babylon(x0,tol,A):\n",
    "    x1 = (x0 + A/x0)/2.\n",
    "    count = 1\n",
    "    while np.abs(x1-x0)>tol:\n",
    "        x0 = x1\n",
    "        x1 = (x0 + A/x0)/2.\n",
    "        print \"%1.16f\" % x1\n",
    "        count += 1\n",
    "    print \"The Babylonian Algorithm has approximated your root of %d to be %1.16f after %d iterations\" % (A,x1, count)"
   ]
  },
  {
   "cell_type": "markdown",
   "metadata": {},
   "source": [
    "<strong> Problem 2 </strong> [10 pts]: 3.1 from the book.  As you will note above, you have been given an algorithm for finding $\\sqrt{A}$.  Feel free to use it solve this problem.  Provide your answer in a cell immediately below this one.  "
   ]
  },
  {
   "cell_type": "markdown",
   "metadata": {},
   "source": [
    "<strong> Problem 3 </strong> [10 pts]: Exlore the Babylonian Algorithm in the following way.  For $A=2$, try running 'bablyon(1.3,1e-15,2)', 'babylon(2.3,1e-15,2)', 'babylon(10.3,1e-15,2)', and 'babylon(100.3,1e-15,2)'.  Report on how the change in your initial guess changes the number of iterations needed for the algorithm to converge.  From this, what can you infer about picking initial guesses that are further from the root you are trying to compute?  Note, by report I do not mean just fill in some numbers underneath this text box.  Instead, I mean start a new cell immediately below this one, and in it, \n",
    "you should write something like \n",
    "\n",
    "In using the Babylonian Algorithm, I performed the following tests.\n",
    "\n",
    "babylon(1.3,1e-15,2): (insert # of iterations) iterations to converge\n",
    "\n",
    "babylon(2.3,1e-15,2): (insert # of iterations) iterations to converge\n",
    "\n",
    "babylon(10.3,1e-15,2): (insert # of iterations) iterations to converge\n",
    "\n",
    "babylon(100.3,1e-15,2): (insert # of iterations) iterations to converge\n",
    "\n",
    "From this, we infer that by changing the initial guess so that (you fill in the rest)"
   ]
  },
  {
   "cell_type": "markdown",
   "metadata": {},
   "source": [
    "<strong> Problem 4 </strong> [5 pts]: 3.2 from the book.  To help you get started, an answer would look like\n",
    "\n",
    "By choosing $f(x) = x^{2} - 2$, and using Newton's Method, we then get \n",
    "$$\n",
    "x_{n} = x_{n-1} - \\frac{(x_{n-1}^{2} - 2)}{2x_{n-1}}\n",
    "$$\n",
    "\n",
    "Simplifying this expression then gives \n",
    "$$\n",
    "x_{n} = \n",
    "$$\n",
    "which we see is identical to the Babylonian Algorithm, and thus we have proved the desired result.  "
   ]
  },
  {
   "cell_type": "markdown",
   "metadata": {},
   "source": [
    "<strong> Problem 5 </strong> [5 pts]: 3.3 from the book.  Again, a good answer should look like \n",
    "\n",
    "Given $g(x) = \\frac{1}{2}(x + \\frac{2}{x})$, if we set $x = g(x)$, then we must have that \n",
    "$$\n",
    "x = \\frac{1}{2}\\left(x + \\frac{2}{x}\\right).\n",
    "$$\n",
    "Rearranging terms then gives us the expression\n",
    "$$\n",
    "\\mbox{You put in your work here.}\n",
    "$$\n",
    "And therefore we see that \n",
    "$$\n",
    "x = .\n",
    "$$"
   ]
  },
  {
   "cell_type": "code",
   "execution_count": null,
   "metadata": {
    "collapsed": true
   },
   "outputs": [],
   "source": []
  }
 ],
 "metadata": {
  "anaconda-cloud": {},
  "kernelspec": {
   "display_name": "Python [Root]",
   "language": "python",
   "name": "Python [Root]"
  },
  "language_info": {
   "codemirror_mode": {
    "name": "ipython",
    "version": 2
   },
   "file_extension": ".py",
   "mimetype": "text/x-python",
   "name": "python",
   "nbconvert_exporter": "python",
   "pygments_lexer": "ipython2",
   "version": "2.7.12"
  }
 },
 "nbformat": 4,
 "nbformat_minor": 0
}
