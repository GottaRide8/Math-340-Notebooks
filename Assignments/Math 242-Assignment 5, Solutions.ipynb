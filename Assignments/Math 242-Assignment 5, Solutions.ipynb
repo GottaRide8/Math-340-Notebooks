{
 "cells": [
  {
   "cell_type": "markdown",
   "metadata": {},
   "source": [
    "<strong> Problem 1 </strong> 2pts each, Exercise 15.2"
   ]
  },
  {
   "cell_type": "markdown",
   "metadata": {},
   "source": [
    "*Answer to Problem 1*"
   ]
  },
  {
   "cell_type": "markdown",
   "metadata": {},
   "source": [
    "So, as you will note, in order to make my life somewhat easier, I actually create a list of words for each of the separate strings.  I then build lists of strings corresponding to the various sentences, but ignoring spacing.  I then introduce a space delimeter, and join each list across the spaces to get the correct answers.  This saves me a fair amount of typing and it is easier to check.  "
   ]
  },
  {
   "cell_type": "code",
   "execution_count": 2,
   "metadata": {
    "collapsed": false
   },
   "outputs": [
    {
     "name": "stdout",
     "output_type": "stream",
     "text": [
      "You will get me a shrubbery.\n",
      "you will get me a shrubbery.\n",
      "A shrubbery you will get me.\n",
      "Plant here a shrubbery.\n",
      "You will plant here a shrubbery.\n",
      "Shrubbery a me get will you?\n",
      "Here!   Plant a shrubbery.\n"
     ]
    }
   ],
   "source": [
    "z = \"You will get me\"\n",
    "w = \"A shrubbery\"\n",
    "u = \"Plant Here\"\n",
    "\n",
    "zwords = z.split()\n",
    "wwords = w.split()\n",
    "uwords = u.split()\n",
    "\n",
    "lansa = [z,w.lower()+'.']\n",
    "lansb = [z.lower(),w.lower()+'.']\n",
    "lansc = [w,z.lower()+'.']\n",
    "lansd = [uwords[0],uwords[1].lower(),w.lower()+'.']\n",
    "lanse = [zwords[0],zwords[1],u.lower(),w.lower()+'.']\n",
    "lansf = [wwords[1].capitalize(),wwords[0].swapcase(),zwords[3],zwords[2],zwords[1],zwords[0].lower()+'?']\n",
    "lansg = [uwords[1]+'!',' ',uwords[0],wwords[0].swapcase(),wwords[1]+'.']\n",
    "\n",
    "delimeter = ' '\n",
    "\n",
    "print delimeter.join(lansa)\n",
    "print delimeter.join(lansb)\n",
    "print delimeter.join(lansc)\n",
    "print delimeter.join(lansd)\n",
    "print delimeter.join(lanse)\n",
    "print delimeter.join(lansf)\n",
    "print delimeter.join(lansg)"
   ]
  },
  {
   "cell_type": "markdown",
   "metadata": {},
   "source": [
    "<strong> Problem 2 </strong> 5pts, Using the file beyonce.txt, write a program which opens it, reads it line by line, splits each line into a list of words, and then stores each unique word in a separate list.  Note, to do this, you will need to convert the contractions (ain't = are not) into separate words, as well as remove punctuation.  When the program completes, sort and print the list in alphabetical order.  To do this, you will need to use the `.sort()` helper function for lists.  See both pg. 107 and pg. 141 of your book.  "
   ]
  },
  {
   "cell_type": "markdown",
   "metadata": {},
   "source": [
    "*Answer to Problem 2*"
   ]
  },
  {
   "cell_type": "markdown",
   "metadata": {},
   "source": [
    "The idea here is to introduce a null list, which I call, somewhat creatively, `wordlist`, and then iterate through 'beyonce.txt' line by line, splitting each line into words.  The basic idea is to check if each `word` is in `wordlist`.  If it is not, append it.  If it is, do nothing so as to keep the words in `wordlist` unique.  Of course, we need to remove the punctuation, and if we find apostrophes, we need to address the issue of contractions.  As for contractions, it is not a matter of storing the separated words, but instead a matter of just checking whether those words are already in `wordlist`.   "
   ]
  },
  {
   "cell_type": "code",
   "execution_count": 1,
   "metadata": {
    "collapsed": false
   },
   "outputs": [
    {
     "name": "stdout",
     "output_type": "stream",
     "text": [
      "['I', 'Nothing', 'Our', 'You', 'am', 'are', 'beautiful', 'breathing', 'deserve', 'do', 'dragon', 'else', 'face', 'fire', 'guess', 'hurt', 'in', 'is', 'it', 'like', 'lion', 'love', 'mane', 'memory', 'my', 'not', 'on', 'only', 'pride', 'seems', 'smile', 'stronger', 'tears', 'than', 'that', 'the', 'there', 'they', 'to', 'was', 'when', 'why', 'your']\n"
     ]
    }
   ],
   "source": [
    "queen_bee = open('beyonce.txt')\n",
    "\n",
    "wordlist = []\n",
    "\n",
    "for line in queen_bee:\n",
    "    \n",
    "    line = line.rstrip() # Remove trailing white space\n",
    "    words = line.split() # Turns the line into a list of words by breaking line up across spaces.\n",
    "        \n",
    "    for kk in range(0,len(words)):\n",
    "        # First we strip off terminal punctuation\n",
    "        if \",\" in words[kk] or \".\" in words[kk] or \"?\" in words[kk] or \"!\" in words[kk]:\n",
    "            word = words[kk] \n",
    "            words[kk] = word[0:len(word)-1]  \n",
    "            \n",
    "        # Now we test if we have a contraction.  If so, we test the individual words that make up \n",
    "        # the contraction.  Otherwise, we just test if the word is in the list.  \n",
    "        if \"'\" in words[kk]:\n",
    "            if words[kk]==\"I'm\":\n",
    "                if \"I\" not in wordlist:\n",
    "                    wordlist.append(\"I\")\n",
    "                if \"am\" not in wordlist:\n",
    "                    wordlist.append(\"am\")\n",
    "            elif words[kk]==\"don't\":\n",
    "                if \"do\" not in wordlist:\n",
    "                    wordlist.append(\"do\")\n",
    "                if \"not\" not in wordlist:\n",
    "                    wordlist.append(\"not\")\n",
    "            elif words[kk]==\"that's\":\n",
    "                if \"that\" not in wordlist:\n",
    "                    wordlist.append(\"that\")\n",
    "                if \"is\" not in wordlist:\n",
    "                    wordlist.append(\"is\")\n",
    "            elif words[kk]==\"ain't\":\n",
    "                if \"are\" not in wordlist:\n",
    "                    wordlist.append(\"are\")\n",
    "                if \"not\" not in wordlist:\n",
    "                    wordlist.append(\"not\")\n",
    "        else:\n",
    "            if words[kk] not in wordlist:\n",
    "                wordlist.append(words[kk])\n",
    "                                \n",
    "wordlist.sort()\n",
    "print wordlist\n",
    "queen_bee.close()"
   ]
  },
  {
   "cell_type": "markdown",
   "metadata": {},
   "source": [
    "<strong> Problem 3 </strong> 5 pts, Exercise 17.2"
   ]
  },
  {
   "cell_type": "markdown",
   "metadata": {},
   "source": [
    "*Answer to Problem 3*"
   ]
  },
  {
   "cell_type": "markdown",
   "metadata": {},
   "source": [
    "So the trick to making this look \"nice\" is to realize that `%3d` is the jam.  This prints a right justified integer with three places allowed for.  Thus if you only want two digits and a sign, this puts everything on an equal footing with respect to formatting.  Also note the tricks for rounding used. "
   ]
  },
  {
   "cell_type": "code",
   "execution_count": 45,
   "metadata": {
    "collapsed": false
   },
   "outputs": [
    {
     "name": "stdout",
     "output_type": "stream",
     "text": [
      "Wind(MPH):   5  10  15  20  25  30  35  40  45  50  55  60\n",
      "\n",
      "Temp -45F: -63 -72 -77 -81 -84 -87 -89 -91 -93 -95 -97 -98\n",
      "Temp -40F: -57 -66 -71 -74 -78 -80 -82 -84 -86 -88 -89 -91\n",
      "Temp -35F: -52 -59 -64 -68 -71 -73 -76 -78 -79 -81 -82 -84\n",
      "Temp -30F: -46 -53 -58 -61 -64 -67 -69 -71 -72 -74 -75 -76\n",
      "Temp -25F: -40 -47 -51 -55 -58 -60 -62 -64 -65 -67 -68 -69\n",
      "Temp -20F: -34 -41 -45 -48 -51 -53 -55 -57 -58 -60 -61 -62\n",
      "Temp -15F: -28 -35 -39 -42 -44 -46 -48 -50 -51 -52 -54 -55\n",
      "Temp -10F: -22 -28 -32 -35 -37 -39 -41 -43 -44 -45 -46 -48\n",
      "Temp  -5F: -16 -22 -26 -29 -31 -33 -34 -36 -37 -38 -39 -40\n",
      "Temp   0F: -11 -16 -19 -22 -24 -26 -27 -29 -30 -31 -32 -33\n",
      "Temp   5F:  -5 -10 -13 -15 -17 -19 -21 -22 -23 -24 -25 -26\n",
      "Temp  10F:   1  -4  -7  -9 -11 -12 -14 -15 -16 -17 -18 -19\n",
      "Temp  15F:   7   3   0  -2  -4  -5  -7  -8  -9 -10 -11 -11\n",
      "Temp  20F:  13   9   6   4   3   1   0  -1  -2  -3  -3  -4\n",
      "Temp  25F:  19  15  13  11   9   8   7   6   5   4   4   3\n",
      "Temp  30F:  25  21  19  17  16  15  14  13  12  12  11  10\n",
      "Temp  35F:  31  27  25  24  23  22  21  20  19  19  18  17\n",
      "Temp  40F:  36  34  32  30  29  28  28  27  26  26  25  25\n"
     ]
    }
   ],
   "source": [
    "Tvals = range(-45,45,5)\n",
    "Wvals = range(5,65,5)\n",
    "a = 35.74\n",
    "b = .6215\n",
    "c = -35.75\n",
    "d = .4275\n",
    "n = .16\n",
    "\n",
    "print \"Wind(MPH):\", \n",
    "for wval in Wvals:\n",
    "    print \"%3d\" %wval,\n",
    "print\n",
    "print\n",
    "for tval in Tvals:\n",
    "    print \"Temp %3dF:\" %tval,\n",
    "    for wval in Wvals:\n",
    "        \n",
    "        wc = a + b*tval + (c + d*tval)*wval**n\n",
    "        \n",
    "        if wc < 0: wc = -1*int(round(abs(wc)))\n",
    "        else: wc = int(round(abs(wc)))\n",
    "            \n",
    "        print \"%3d\" % wc,\n",
    "        \n",
    "    print"
   ]
  },
  {
   "cell_type": "markdown",
   "metadata": {},
   "source": [
    "<strong> Problem 4 </strong> 5 pts, Exercise 17.5.  Note there is a typo in the problem.  The formula should read\n",
    "$$\n",
    "\\begin{pmatrix} n \\\\ k \\end{pmatrix} = \\frac{n!}{k!(n-k)!}\n",
    "$$\n",
    "Note, if you are going for all the recursive marbles, you should think about using the identity\n",
    "$$\n",
    "\\begin{pmatrix} n \\\\ k \\end{pmatrix} = \\begin{pmatrix} n-1 \\\\ k-1 \\end{pmatrix} + \\begin{pmatrix} n-1 \\\\ k \\end{pmatrix}\n",
    "$$\n"
   ]
  },
  {
   "cell_type": "markdown",
   "metadata": {},
   "source": [
    "*Answer to Problem 4*"
   ]
  },
  {
   "cell_type": "markdown",
   "metadata": {},
   "source": [
    "It is perhaps not entirely fair of me, and I will not expect your answer to look like mine, but if you use recursive function calls, this problem is very straightforward.  "
   ]
  },
  {
   "cell_type": "code",
   "execution_count": 2,
   "metadata": {
    "collapsed": true
   },
   "outputs": [],
   "source": [
    "def choose(k,n):\n",
    "    if k==0 or n==k:\n",
    "        return 1\n",
    "    else:\n",
    "        return choose(k-1,n-1) + choose(k,n-1)"
   ]
  },
  {
   "cell_type": "code",
   "execution_count": 3,
   "metadata": {
    "collapsed": false
   },
   "outputs": [
    {
     "data": {
      "text/plain": [
       "252"
      ]
     },
     "execution_count": 3,
     "metadata": {},
     "output_type": "execute_result"
    }
   ],
   "source": [
    "choose(5,10)"
   ]
  },
  {
   "cell_type": "code",
   "execution_count": null,
   "metadata": {
    "collapsed": true
   },
   "outputs": [],
   "source": []
  },
  {
   "cell_type": "markdown",
   "metadata": {},
   "source": [
    "<strong> Problem 5 </strong> 5pts, Excercise 17.7.  Note, by the Binomial Theorem the author means the identity\n",
    "$$\n",
    "(x+y)^{n} = \\sum_{l=0}^{n} \\begin{pmatrix} n \\\\ l \\end{pmatrix} x^{l}y^{n-l}\n",
    "$$\n",
    "\n",
    "where $n\\geq 0$ is an integer.  Naturally, you can make use of your answer to the previous problem.  "
   ]
  },
  {
   "cell_type": "markdown",
   "metadata": {},
   "source": [
    "*Answert to Problem 5*"
   ]
  },
  {
   "cell_type": "markdown",
   "metadata": {},
   "source": [
    "Okay, I got a little over the top here.  If you note, there is a symmetry in how the choose function works, so in fact to compute n choose l for every term in the binomial expansion is wasteful.  I therefore spend some time worrying about how to compute only the minimal amount.  If you did not do this, do not worry about, though you might take some time to understand my approach.  "
   ]
  },
  {
   "cell_type": "code",
   "execution_count": 40,
   "metadata": {
    "collapsed": false
   },
   "outputs": [],
   "source": [
    "def binom(x,y,n):\n",
    "    if n==0:\n",
    "        return 1.\n",
    "    else:\n",
    "        bvals = []\n",
    "        tot = 0.\n",
    "        \n",
    "        if n%2 == 0:\n",
    "            nterms = n/2+1\n",
    "        else:\n",
    "            nterms = (n+1)/2\n",
    "            \n",
    "        # We exploit the symmetry of the coefficients in the binomial expansion and thus only compute\n",
    "        # about half of the terms in the binomial expansion.  \n",
    "        \n",
    "        for jj in range(0,nterms):\n",
    "            bvals.append(choose(jj,n))\n",
    "        \n",
    "        for kk in range(0,n+1):\n",
    "            xyterm = (x**kk)*(y**(n-kk))\n",
    "            if kk <= nterms-1:\n",
    "                    tot+=bvals[kk]*xyterm\n",
    "            else:    \n",
    "                if n%2 == 0:\n",
    "                    tot+=bvals[nterms-1-(kk-(nterms-1))]*xyterm\n",
    "                else:\n",
    "                    tot+=bvals[nterms-1-(kk-nterms)]*xyterm\n",
    "        return tot\n",
    "             "
   ]
  },
  {
   "cell_type": "code",
   "execution_count": 41,
   "metadata": {
    "collapsed": false
   },
   "outputs": [
    {
     "data": {
      "text/plain": [
       "27.0"
      ]
     },
     "execution_count": 41,
     "metadata": {},
     "output_type": "execute_result"
    }
   ],
   "source": [
    "binom(1.,2.,3)"
   ]
  },
  {
   "cell_type": "markdown",
   "metadata": {},
   "source": [
    "<strong> Problem 6 </strong> 5pts, Exercise 17.8"
   ]
  },
  {
   "cell_type": "markdown",
   "metadata": {},
   "source": [
    "*Answer to Problem 6*"
   ]
  },
  {
   "cell_type": "markdown",
   "metadata": {},
   "source": [
    "Again, I perhaps went a little overboard on this.  If you note, you do not actually need to make any use of `choose` from above.  In fact, since you are computing each line of the triangle, you can recursively build each line from its predecessor.  In order to get a semi-decent version of the triangle when you print, I store strings and convert them back and forth as needed.  "
   ]
  },
  {
   "cell_type": "code",
   "execution_count": 64,
   "metadata": {
    "collapsed": false
   },
   "outputs": [],
   "source": [
    "from copy import copy\n",
    "def pascal_print(n):\n",
    "    delimeter = ' '\n",
    "    print \"1\"\n",
    "    print \"1 1\"\n",
    "    pasc_prev = [\"1\",\"1\"] # Define our first \"previous\" line.\n",
    "    for jj in range(2,n+1): # Build out to the specified number of lines of the triangle.\n",
    "        pasc_cur = [\"1\"] # Start the new line\n",
    "        for ll in range(0,len(pasc_prev)-1): \n",
    "            nval = int(pasc_prev[ll+1]) + int(pasc_prev[ll]) # Iterate over the previous line to build\n",
    "                                                             # the current one.  \n",
    "            pasc_cur.append(str(nval)) # Note, in order to get a nice triangle, we store values as \n",
    "                                       # strings.  \n",
    "        pasc_cur.append(\"1\") # End the current line.\n",
    "        pasc_prev = copy(pasc_cur) # Copy the current line into the next previous line.  \n",
    "        print delimeter.join(pasc_cur) # Print the current line and start on the next line of the \n",
    "                                       # triangle.  \n",
    "        "
   ]
  },
  {
   "cell_type": "code",
   "execution_count": 66,
   "metadata": {
    "collapsed": false
   },
   "outputs": [
    {
     "name": "stdout",
     "output_type": "stream",
     "text": [
      "1\n",
      "1 1\n",
      "1 2 1\n",
      "1 3 3 1\n",
      "1 4 6 4 1\n",
      "1 5 10 10 5 1\n",
      "1 6 15 20 15 6 1\n",
      "1 7 21 35 35 21 7 1\n",
      "1 8 28 56 70 56 28 8 1\n",
      "1 9 36 84 126 126 84 36 9 1\n",
      "1 10 45 120 210 252 210 120 45 10 1\n"
     ]
    }
   ],
   "source": [
    "pascal_print(10)"
   ]
  }
 ],
 "metadata": {
  "anaconda-cloud": {},
  "kernelspec": {
   "display_name": "Python [Root]",
   "language": "python",
   "name": "Python [Root]"
  },
  "language_info": {
   "codemirror_mode": {
    "name": "ipython",
    "version": 2
   },
   "file_extension": ".py",
   "mimetype": "text/x-python",
   "name": "python",
   "nbconvert_exporter": "python",
   "pygments_lexer": "ipython2",
   "version": "2.7.12"
  }
 },
 "nbformat": 4,
 "nbformat_minor": 0
}
