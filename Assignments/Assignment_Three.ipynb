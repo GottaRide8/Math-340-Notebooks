{
 "cells": [
  {
   "cell_type": "code",
   "execution_count": 1,
   "metadata": {
    "collapsed": true
   },
   "outputs": [],
   "source": [
    "import numpy as np\n",
    "import matplotlib.pyplot as plt\n",
    "%matplotlib inline"
   ]
  },
  {
   "cell_type": "markdown",
   "metadata": {},
   "source": [
    "** Problem 1 ** - 3 pts: So as mentioned during lecture, the Binomial Theorem is one of those things that is often nice to know.  The theorem says for $n$ a positive integer that \n",
    "\n",
    "$$\n",
    "(x+y)^{n} = \\sum_{l=0}^{n}\\begin{pmatrix} n \\\\ l \\end{pmatrix} x^{l}y^{n-l}, ~ \\begin{pmatrix} n \\\\ l\\end{pmatrix} = \\frac{n!}{l!(n-l)!}.\n",
    "$$\n",
    "\n",
    "1a. Using the Binomial Theorem show\n",
    "$$\n",
    "(x+y)^{2} = x^{2} + 2xy + y^2, ~ (x+y)^{3} = x^{3} + 3x^2y + 3xy^2 + y^3\n",
    "$$\n",
    "Show all steps by way of the Binomial Theorem, i.e. do not just foil and write down the result.  \n",
    "\n",
    "1b.  Using your results above and Pascal's triangle \n",
    "![PT](https://upload.wikimedia.org/wikipedia/commons/c/ca/Pascal_triangle_small.png)\n",
    "find the expansion of \n",
    "$$\n",
    "(x+y)^{8}\n",
    "$$\n",
    "Note, if you understand how Pascal's triangle works, then this should not require much work, i.e. do not foil or use the Binomial Theorem directly.   \n",
    "\n",
    "1c. Using the pattern you see in Pascal's triangle, can you provide an explanation (not proof) for why the identity \n",
    "$$\n",
    "\\begin{pmatrix} n + 1 \\\\ l \\end{pmatrix} = \\begin{pmatrix} n \\\\ l-1 \\end{pmatrix} + \\begin{pmatrix} n \\\\ l \\end{pmatrix}\n",
    "$$\n",
    "is true?"
   ]
  },
  {
   "cell_type": "markdown",
   "metadata": {},
   "source": [
    "_ Answers to Problem 1 _"
   ]
  },
  {
   "cell_type": "markdown",
   "metadata": {},
   "source": [
    "** Problem 2 ** - 5 pts: Returning to the evil problem we discussed in class, we were trying to find the Taylor series expansion around $x_{0}$ of \n",
    "\n",
    "$$\n",
    "f(x) = \\frac{1}{1+x^{2}}\n",
    "$$\n",
    "\n",
    "To do this, I suggested that you first write\n",
    "\n",
    "\\begin{align}\n",
    "f(x) = & \\frac{1}{1+(x-x_{0}+x_{0})^{2}}\\\\\n",
    "= & \\frac{1}{1 + x_{0}^{2} + 2x_{0}(x-x_{0}) + (x-x_{0})^{2}}\\\\\n",
    "= & \\frac{1}{1+x_{0}^{2}}\\frac{1}{1 + \\frac{(2x_{0} + (x-x_{0}))(x-x_{0})}{1+x_{0}^{2}}}\\\\\n",
    "= & \\sum_{j=0}^{\\infty}\\frac{(-1)^{j}}{(1+x_{0}^{2})^{j+1}}(2x_{0} + (x-x_{0}))^{j}(x-x_{0})^{j}\\\\\n",
    "= & \\sum_{j=0}^{\\infty}\\sum_{l=0}^{j}\\frac{(-1)^{j}(2x_{0})^{j-l}}{(1+x_{0}^{2})^{j+1}}\\begin{pmatrix} j \\\\ l\\end{pmatrix}(x-x_{0})^{j+l}, ~ \\mbox{Note the use of the Binomial Theorem.}\\\\\n",
    "= & \\sum_{j=0}^{\\infty}\\sum_{l=0}^{j}b_{l,j}(x-x_{0})^{j+l}, ~ b_{l,j} = \\frac{(-1)^{j}(2x_{0})^{j-l}}{(1+x_{0}^{2})^{j+1}}\\begin{pmatrix} j \\\\ l\\end{pmatrix}.\n",
    "\\end{align}\n",
    "\n",
    "Note, this is a little easier than what we had in class.  Anyway, the goal is now to write \n",
    "$$\n",
    "f(x) = \\sum_{m=0}^{\\infty}c_{m}(x-x_{0})^{m}\n",
    "$$\n",
    "\n",
    "Using the above, find $c_{m}$.  Note, $c_{m}$ looks like \n",
    "$$\n",
    "c_{m} = \\sum_{l = ?}^{?} b_{?,?}, \n",
    "$$\n",
    "i.e. it is a sum of the coefficients $b_{l,j}$.  The ultimate goal is to figure out the question marks.  "
   ]
  },
  {
   "cell_type": "markdown",
   "metadata": {},
   "source": [
    "_ Answer to Problem 2 _  "
   ]
  },
  {
   "cell_type": "markdown",
   "metadata": {},
   "source": [
    "** Problem 3 **: 5 pts - Using your result from the previous problem and the fact that\n",
    "\n",
    "$$\n",
    "\\tan^{-1}(x) = \\tan^{-1}(x_{0}) + \\int_{x_{0}}^{x}\\frac{dt}{1+t^{2}}\n",
    "$$\n",
    "\n",
    "find the Taylor series of $\\tan^{-1}(x)$ around $x_{0}$."
   ]
  },
  {
   "cell_type": "markdown",
   "metadata": {},
   "source": [
    "_ Answer to Problem 3 _"
   ]
  },
  {
   "cell_type": "markdown",
   "metadata": {},
   "source": [
    "** Problem 4 **: 3pts each - So if we start with a numpy array like\n",
    "\n",
    "`\n",
    "xvals = np.linspace(0.,2.,int(1e3))\n",
    "`\n",
    "\n",
    "then if we wanted to plot $f(x)=x^2$ for $0\\leq x \\leq 2$, we would just have to write \n",
    "\n",
    "`\n",
    "yvals = xvals**2\n",
    "plt.plot(xvals,yvals)\n",
    "`\n",
    "\n",
    "This further shows how using NumPy arrays allows us to do arithmetic over multiple points at a time.  Thus\n",
    "\n",
    "4a. Plot $f(x) = x^3 + 3x^2 + 2x + 1$ over $-2\\leq x \\leq 2.1$.  Provide labels and make sure your plot window is well sized and fits the domain over which you are plotting.\n",
    "\n",
    "4b. In Python, write the command to create a NumPy array of points between and including $x=1$ and $11$ with spacing between the points equal to $.1$.  \n",
    "\n",
    "4c. What is the spacing between points in the array `np.linspace(1.3,2.4,int(5e2))`?  Note, do not just print out the points, take the difference, and report the result.  "
   ]
  },
  {
   "cell_type": "code",
   "execution_count": 2,
   "metadata": {
    "collapsed": true
   },
   "outputs": [],
   "source": []
  }
 ],
 "metadata": {
  "kernelspec": {
   "display_name": "Python 2",
   "language": "python",
   "name": "python2"
  },
  "language_info": {
   "codemirror_mode": {
    "name": "ipython",
    "version": 2
   },
   "file_extension": ".py",
   "mimetype": "text/x-python",
   "name": "python",
   "nbconvert_exporter": "python",
   "pygments_lexer": "ipython2",
   "version": "2.7.13"
  }
 },
 "nbformat": 4,
 "nbformat_minor": 2
}
