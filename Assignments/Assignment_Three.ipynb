{
 "cells": [
  {
   "cell_type": "code",
   "execution_count": 1,
   "id": "60e312dc",
   "metadata": {},
   "outputs": [
    {
     "ename": "ModuleNotFoundError",
     "evalue": "No module named 'scipy.integrate.quad'",
     "output_type": "error",
     "traceback": [
      "\u001b[1;31m---------------------------------------------------------------------------\u001b[0m",
      "\u001b[1;31mModuleNotFoundError\u001b[0m                       Traceback (most recent call last)",
      "\u001b[1;32m~\\AppData\\Local\\Temp/ipykernel_6088/1289000519.py\u001b[0m in \u001b[0;36m<module>\u001b[1;34m\u001b[0m\n\u001b[0;32m      1\u001b[0m \u001b[1;32mimport\u001b[0m \u001b[0mnumpy\u001b[0m \u001b[1;32mas\u001b[0m \u001b[0mnp\u001b[0m\u001b[1;33m\u001b[0m\u001b[1;33m\u001b[0m\u001b[0m\n\u001b[0;32m      2\u001b[0m \u001b[1;32mimport\u001b[0m \u001b[0mmatplotlib\u001b[0m\u001b[1;33m.\u001b[0m\u001b[0mpyplot\u001b[0m \u001b[1;32mas\u001b[0m \u001b[0mplt\u001b[0m\u001b[1;33m\u001b[0m\u001b[1;33m\u001b[0m\u001b[0m\n\u001b[1;32m----> 3\u001b[1;33m \u001b[1;32mimport\u001b[0m \u001b[0mscipy\u001b[0m\u001b[1;33m.\u001b[0m\u001b[0mintegrate\u001b[0m\u001b[1;33m.\u001b[0m\u001b[0mquad\u001b[0m \u001b[1;32mas\u001b[0m \u001b[0mspqd\u001b[0m\u001b[1;33m\u001b[0m\u001b[1;33m\u001b[0m\u001b[0m\n\u001b[0m\u001b[0;32m      4\u001b[0m \u001b[0mget_ipython\u001b[0m\u001b[1;33m(\u001b[0m\u001b[1;33m)\u001b[0m\u001b[1;33m.\u001b[0m\u001b[0mrun_line_magic\u001b[0m\u001b[1;33m(\u001b[0m\u001b[1;34m'matplotlib'\u001b[0m\u001b[1;33m,\u001b[0m \u001b[1;34m'inline'\u001b[0m\u001b[1;33m)\u001b[0m\u001b[1;33m\u001b[0m\u001b[1;33m\u001b[0m\u001b[0m\n",
      "\u001b[1;31mModuleNotFoundError\u001b[0m: No module named 'scipy.integrate.quad'"
     ]
    }
   ],
   "source": [
    "import numpy as np\n",
    "import matplotlib.pyplot as plt\n",
    "import scipy.integrate.quad as spqd\n",
    "%matplotlib inline"
   ]
  },
  {
   "cell_type": "markdown",
   "id": "10011a4a",
   "metadata": {},
   "source": [
    "**Problem 1**: For the integral \n",
    "\n",
    "$$\n",
    "I = \\int_{0}^{\\pi/2}\\sin(\\cos(x)) dx\n",
    "$$\n",
    "\n",
    "<ol>\n",
    "    <li> (1pt) Using `spqd' as in the notes, find a very accurate approximation to $I$.\n",
    "    <li> (3pts) Using the second order Taylor series approximation $T_{2}(x;0)$, find an approximation to $I$.\n",
    "    <li> (3pts) Using the fourth order Taylor series approximation $T_{4}(x;0)$, find an approximation to $I$.\n",
    "    <li> (3pts) Separating the interval of integration in half, use $T_{2}(x;0)$ and $T_{2}(x;\\pi/4)$ to approximate $I$.\n",
    "</ol>\n",
    "\n",
    "Show all relevant computations and results as well as the code you use to compute everything.  Finally, comment on and compare your results (4pts).  Which was the most accurate Taylor series approximation and why?  Support your argument with plots of the various approximations (4pts) (see the notes for help).  "
   ]
  },
  {
   "cell_type": "markdown",
   "id": "b3685ce0",
   "metadata": {},
   "source": [
    "_Answer to Problem 1.1_"
   ]
  },
  {
   "cell_type": "markdown",
   "id": "5fb4a29d",
   "metadata": {},
   "source": [
    "_Answer to Problem 1.2_"
   ]
  },
  {
   "cell_type": "markdown",
   "id": "18678a01",
   "metadata": {},
   "source": [
    "_Answer to Problem 1.3_"
   ]
  },
  {
   "cell_type": "markdown",
   "id": "c79a8f46",
   "metadata": {},
   "source": [
    "_Answer to Problem 1.4_"
   ]
  },
  {
   "cell_type": "markdown",
   "id": "fbf135c9",
   "metadata": {},
   "source": [
    "_Discussion and Plots for Problem 1_"
   ]
  },
  {
   "cell_type": "markdown",
   "id": "fbeb778c",
   "metadata": {},
   "source": [
    "**Problem 2**: For the integral \n",
    "\n",
    "$$\n",
    "I = \\int_{0}^{\\pi/2}\\sin(\\cos(x)) dx\n",
    "$$\n",
    "\n",
    "we will now generate approximations using midpoints of intervals.  \n",
    "\n",
    "<ol>\n",
    "    <li> (3pts) Using the second order Taylor series approximation $T_{2}(x;\\pi/4)$, find an approximation to $I$.\n",
    "    <li> (3pts) Using the third order Taylor series approximation $T_{3}(x;\\pi/4)$, find an approximation to $I$.\n",
    "    <li> (3pts) Separating the interval of integration in half, use $T_{2}(x;\\pi/8)$ and $T_{2}(x;3\\pi/8)$ to approximate $I$.\n",
    "</ol>\n",
    "\n",
    "Show all relevant computations and results as well as the code you use to compute everything.  Finally, comment on and compare your results (4pts).  Which was the most accurate Taylor series approximation and why?  Support your argument with plots of the various approximations (4pts) (see the notes for help).  "
   ]
  },
  {
   "cell_type": "markdown",
   "id": "30e505dd",
   "metadata": {},
   "source": [
    "_Answer to Problem 2.1_"
   ]
  },
  {
   "cell_type": "markdown",
   "id": "6d4bf427",
   "metadata": {},
   "source": [
    "_Answer to Problem 2.2_"
   ]
  },
  {
   "cell_type": "markdown",
   "id": "9a285d94",
   "metadata": {},
   "source": [
    "_Answer to Problem 2.3_"
   ]
  },
  {
   "cell_type": "markdown",
   "id": "cc0dace6",
   "metadata": {},
   "source": [
    "_Discussion and Plots for Problem 2_"
   ]
  },
  {
   "cell_type": "code",
   "execution_count": null,
   "id": "552a6280",
   "metadata": {},
   "outputs": [],
   "source": []
  }
 ],
 "metadata": {
  "kernelspec": {
   "display_name": "Python 3 (ipykernel)",
   "language": "python",
   "name": "python3"
  },
  "language_info": {
   "codemirror_mode": {
    "name": "ipython",
    "version": 3
   },
   "file_extension": ".py",
   "mimetype": "text/x-python",
   "name": "python",
   "nbconvert_exporter": "python",
   "pygments_lexer": "ipython3",
   "version": "3.9.7"
  }
 },
 "nbformat": 4,
 "nbformat_minor": 5
}
