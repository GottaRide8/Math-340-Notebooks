{
 "cells": [
  {
   "cell_type": "code",
   "execution_count": 2,
   "metadata": {
    "collapsed": true
   },
   "outputs": [],
   "source": [
    "import numpy as np\n",
    "import matplotlib.pyplot as plt\n",
    "%matplotlib inline"
   ]
  },
  {
   "cell_type": "markdown",
   "metadata": {},
   "source": [
    "** Problem 1 **: (10 pts) In many cases, getting convergence rates via pen and paper is tricky.  However, we can often readily find them via numerical simulation.  \n",
    "\n",
    "a.) (4 pts) For \n",
    "$$\n",
    "f(x) = x^{2}\\cos^{3}(x) - \\frac{1}{2}\\sin(2x), \n",
    "$$\n",
    "find all the roots on the interval $[0,5]$ using the Secant method with a tolerance of $10^{-6}$.\n",
    "\n",
    "\n",
    "b.) (6 pts) For each root, find the rate of convergence.  Please provide a well-labeled and well-explained figure describing the rate of convergence for each fixed point.  Does your rate change based on your initial guess?  Again, please elaborate and show plots to make your case."
   ]
  },
  {
   "cell_type": "markdown",
   "metadata": {},
   "source": [
    "** Problem 2 ** : (10 pts) So, Newton's and the Secant Method both fail if at the root $x_{\\ast}$, $f'(x_{\\ast})=0$.  Thus, we should not really use these methods, or at least we should stop using them if we get too close to a root which is also a critical point of a function.  However, the Bisection Method works regardless of whether a root is a critical point or not. \n",
    "\n",
    "Thus, develop an algorithm which blends the Bisection and Secant Method.  It should find a root to a specified tolerance, say `tol`.  You also must include a second tolerance, say `tlsw`, such that, for a given iteration of your method, if \n",
    "\n",
    "$$\n",
    "\\left|\\frac{f(x_{n})-f(x_{n-1})}{x_{n}-x_{n-1}}\\right| > tlsw,\n",
    "$$\n",
    "\n",
    "then you use the Secant Method, otherwise, you use the Bisection Method.  Using your method, find all the roots of \n",
    "\n",
    "$$\n",
    "f(x) = x^{4} - 2(\\pi - 1)x^3 + (1-4\\pi+\\pi^{2})x^2 + 2\\pi(\\pi-1)x + \\pi^{2}.\n",
    "$$\n",
    "\n",
    "Determine a rate of convergence for your method for different values of `tol` and `tlsw`.  How does changing these parameters influence your rate of convergence?"
   ]
  },
  {
   "cell_type": "markdown",
   "metadata": {},
   "source": [
    "Okay, so I kind of flubbed on this.  While it is true the Bisection Method does not care if a root is a critical point or not, we still need a sign change around the root in order to guarantee the method works.  And we do not have that in this case as a plot shows."
   ]
  },
  {
   "cell_type": "code",
   "execution_count": 3,
   "metadata": {},
   "outputs": [
    {
     "data": {
      "text/plain": [
       "[<matplotlib.lines.Line2D at 0x77ee1a1091d0>]"
      ]
     },
     "execution_count": 3,
     "metadata": {},
     "output_type": "execute_result"
    },
    {
     "data": {
      "image/png": "[encoded data removed]",
      "text/plain": [
       "<matplotlib.figure.Figure at 0x77ee1c5855d0>"
      ]
     },
     "metadata": {},
     "output_type": "display_data"
    }
   ],
   "source": [
    "Pi = np.pi\n",
    "zvals = np.zeros(int(1e3))\n",
    "xvals1 = np.linspace(-1.6,-.5,int(1e3))\n",
    "yvals1 = xvals1**4. - 2.*(Pi-1.)*xvals1**3. + (1-4.*Pi+Pi**2.)*xvals1**2. + 2.*Pi*(Pi-1.)*xvals1 + Pi**2.\n",
    "\n",
    "xvals2 = np.linspace(2.,4.,int(1e3))\n",
    "yvals2 = xvals2**4. - 2.*(Pi-1.)*xvals2**3. + (1-4.*Pi+Pi**2.)*xvals2**2. + 2.*Pi*(Pi-1.)*xvals2 + Pi**2.\n",
    "\n",
    "fig, (ax1, ax2) = plt.subplots(2,1,sharex=False,sharey=False)\n",
    "\n",
    "ax1.plot(xvals1,yvals1)\n",
    "ax1.plot(xvals1,zvals,color='g')\n",
    "ax2.plot(xvals2,yvals2)\n",
    "ax2.plot(xvals2,zvals,color='g')"
   ]
  },
  {
   "cell_type": "markdown",
   "metadata": {},
   "source": [
    "So, what does it mean for a function to have a degenerate root?  It means, given that $f(x_{\\ast})=0$, that for $x$ close to $x_{\\ast}$, we have \n",
    "\n",
    "$$\n",
    "f(x) = (x-x_{\\ast})^{n}\\tilde{f}(x), ~ \\tilde{f}(x_{\\ast})\\neq 0, ~ n>1.\n",
    "$$\n",
    "\n",
    "We see then that we have two cases to consider.  The first is $n$ odd.  In this case, the Bisection Method must work since we are guaranteed a sign change in $f$ around the root.  So in this case, my statement about using Bisection was correct.  However, what if $n$ is even?  Then we have some trouble since this is the case in which we have no sign change about the root, and thus we cannot ensure via the criteria of the Bisection Method that a root exists in a given interval. \n",
    "\n",
    "So what can we do in this case?  Well, while $f$ may not have a sign change around the root, we are guaranteed that $f'(x)$ will have a sign change around the root.  Thus, we should use the Bisection Method on the derivative of the function.  But when will we decide to do this?  Well, that comes back to our small slope condition\n",
    "\n",
    "$$\n",
    "\\left|\\frac{f(x_{n})-f(x_{n-1})}{x_{n}-x_{n-1}}\\right| > tlsw,\n",
    "$$\n",
    "\n"
   ]
  },
  {
   "cell_type": "code",
   "execution_count": 21,
   "metadata": {
    "collapsed": true
   },
   "outputs": [],
   "source": [
    "def secant_method(x0,x1,f,tolscnt,tolslp):\n",
    "    f0 = f(x0)\n",
    "    f1 = f(x1)\n",
    "    slp = (f1-f0)/(x1-x0)\n",
    "    print slp\n",
    "    Flag = True\n",
    "    if np.abs(slp)<tolslp:\n",
    "        Flag = False\n",
    "        return [np.array([x0,x1]),Flag]\n",
    "    x2 = x1 - f1/slp\n",
    "    while np.abs(x2-x1)>tolscnt:\n",
    "        x0 = x1\n",
    "        x1 = x2\n",
    "        f0 = f1\n",
    "        f1 = f(x1)\n",
    "        print slp\n",
    "        slp = (f1-f0)/(x1-x0)\n",
    "        if np.abs(slp)<tolslp:\n",
    "            Flag = False\n",
    "            return [np.array([x0,x1]),Flag]\n",
    "        x2 = x1 - f1/slp\n",
    "    return [x2,Flag]"
   ]
  },
  {
   "cell_type": "code",
   "execution_count": 22,
   "metadata": {
    "collapsed": true
   },
   "outputs": [],
   "source": [
    "def bisec_method(a,b,f,tol):\n",
    "    fa,fb = f(a),f(b)\n",
    "    c = (a+b)/2.\n",
    "    fc = f(c)\n",
    "    while np.abs(fc)>=tol:\n",
    "        if fa*fc < 0.:\n",
    "            b = c\n",
    "        else:\n",
    "            a = c\n",
    "            fa = f(a)\n",
    "        c = (a+b)/2.\n",
    "        fc = f(c)\n",
    "    return c"
   ]
  },
  {
   "cell_type": "code",
   "execution_count": 23,
   "metadata": {
    "collapsed": true
   },
   "outputs": [],
   "source": [
    "def sec_bisec_hybrid(x0,x1,f,fp,tolscnt,tolslp,tolbsc):\n",
    "    sres = secant_method(x0,x1,f,tolscnt,tolslp)\n",
    "    if sres[1]:\n",
    "        return sres[0]\n",
    "    else:\n",
    "        if sres[0][0] > sres[0][1]:\n",
    "            a = sres[0][1]\n",
    "            b = sres[0][0]\n",
    "        else:\n",
    "            a = sres[0][0]\n",
    "            b = sres[0][1]\n",
    "        fa,fb = f(a),f(b)\n",
    "        fpa,fpb = fp(a),fp(b)\n",
    "        if fa*fb<0:\n",
    "            print \"You have a sign change in f\"\n",
    "            xrt = bisec_method(a,b,f,tolbsc)\n",
    "            return xrt\n",
    "        elif fpa*fpb<0:\n",
    "            print \"You have a sign change in f'\"\n",
    "            xrt = bisec_method(a,b,fp,tolbsc)\n",
    "            return xrt\n",
    "        else:\n",
    "            #print \"Your two guesses are %(1.15f,1.15f)\" % (a,b)\n",
    "            return np.array([a,b])"
   ]
  },
  {
   "cell_type": "code",
   "execution_count": 24,
   "metadata": {},
   "outputs": [
    {
     "name": "stdout",
     "output_type": "stream",
     "text": [
      "0.179401\n",
      "0.179401\n",
      "-89618838.8119\n",
      "-89618838.6325\n",
      "108.00014643\n",
      "73.8282456848\n",
      "36.0608268983\n",
      "20.6193822593\n",
      "11.1542907927\n",
      "6.16873108248\n",
      "3.38298982131\n",
      "1.86131264528\n",
      "1.02280755644\n",
      "0.562313397251\n",
      "0.309087918712\n",
      "0.169909172457\n"
     ]
    },
    {
     "data": {
      "text/plain": [
       "array([ 0.25656768,  0.31320274])"
      ]
     },
     "execution_count": 24,
     "metadata": {},
     "output_type": "execute_result"
    }
   ],
   "source": [
    "fa = lambda x: x**4.\n",
    "fpa = lambda x: 4.*x**3.\n",
    "sec_bisec_hybrid(-2.99,3.,fa,fpa,1e-12,1e-1,1e-14)"
   ]
  },
  {
   "cell_type": "code",
   "execution_count": null,
   "metadata": {
    "collapsed": true
   },
   "outputs": [],
   "source": []
  }
 ],
 "metadata": {
  "kernelspec": {
   "display_name": "Python 2",
   "language": "python",
   "name": "python2"
  },
  "language_info": {
   "codemirror_mode": {
    "name": "ipython",
    "version": 2
   },
   "file_extension": ".py",
   "mimetype": "text/x-python",
   "name": "python",
   "nbconvert_exporter": "python",
   "pygments_lexer": "ipython2",
   "version": "2.7.13"
  }
 },
 "nbformat": 4,
 "nbformat_minor": 2
}
