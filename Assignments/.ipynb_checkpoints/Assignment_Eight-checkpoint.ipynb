{
 "cells": [
  {
   "cell_type": "code",
   "execution_count": 1,
   "metadata": {
    "collapsed": true
   },
   "outputs": [],
   "source": [
    "import numpy as np\n",
    "import matplotlib.pyplot as plt\n",
    "import scipy.integrate as spqd\n",
    "from time import time\n",
    "%matplotlib inline"
   ]
  },
  {
   "cell_type": "code",
   "execution_count": 36,
   "metadata": {
    "collapsed": true
   },
   "outputs": [],
   "source": [
    "def simpson_method(a,b,N,f):\n",
    "    Nint = int(N)\n",
    "    Tint = 2*Nint\n",
    "    xvals = np.linspace(a,b,Tint+1)\n",
    "    fvals = f(xvals)\n",
    "    dx = (b-a)/(2.*N)\n",
    "    return dx/3.*(fvals[0] + fvals[Tint] + 2.*np.sum(fvals[2:Tint-1:2]) + 4.*np.sum(fvals[1:Tint:2])) "
   ]
  },
  {
   "cell_type": "code",
   "execution_count": 2,
   "metadata": {
    "collapsed": true
   },
   "outputs": [],
   "source": [
    "def adap_quad_comp(f,a,b,c,fa,fb,fc,Aab,tol):    \n",
    "    d = (a+c)/2.\n",
    "    e = (b+c)/2.\n",
    "    fd = f(d)\n",
    "    fe = f(e)\n",
    "    dx3 = (d-a)/3.\n",
    "    Aac = dx3*(fa+4.*fd+fc)\n",
    "    Acb = dx3*(fc+4.*fe+fb)\n",
    "    if np.abs(Aab-(Aac+Acb))<=tol: \n",
    "        return (16./15.*(Aac+Acb)-Aab/15.)\n",
    "    else:  \n",
    "        F1 = adap_quad_comp(f,a,c,d,fa,fc,fd,Aac,tol)\n",
    "        F2 = adap_quad_comp(f,c,b,e,fc,fb,fe,Acb,tol)\n",
    "        return F1 + F2\n",
    "    \n",
    "def adap_quad(f,a,b,tol):\n",
    "    c = (a+b)/2.\n",
    "    fa = f(a)\n",
    "    fb = f(b)\n",
    "    fc = f(c)\n",
    "    dx3 = (c-a)/3.\n",
    "    Aab = dx3*(fa+4.*fc+fb)\n",
    "    ival = adap_quad_comp(f,a,b,c,fa,fb,fc,Aab,tol)    \n",
    "    return ival"
   ]
  },
  {
   "cell_type": "markdown",
   "metadata": {},
   "source": [
    "**Problem 1**: (5 pts) Use the adaptive quadrature algorithm to evaluate \n",
    "\n",
    "$$\n",
    "\\int_{-1}^{2} \\frac{dt}{\\sin\\left(\\sqrt{|t|} \\right)}.\n",
    "$$\n",
    "\n",
    "State how you arrive at your result i.e. what tolerances do you choose and what degree of accuracy can you argue that they provide you?  Why do you not encounter divide-by-zero difficulties at $t=0$?"
   ]
  },
  {
   "cell_type": "markdown",
   "metadata": {},
   "source": [
    "**Problem 2**: (10 pts) Definite integrals sometimes have the property that the integrand becomes infinite at one or both of the endpoints, but the integral itself is finite.  In other words, $\\lim_{x\\rightarrow a}|f(x)|=\\infty$ or $\\lim_{x\\rightarrow a}|f(x)|=\\infty$, but \n",
    "\n",
    "$$\n",
    "\\int_{a}^{b}f(x)dx \n",
    "$$\n",
    "\n",
    "exists and is finite.  \n",
    "\n",
    "* (7 pts) Modify the adaptive quadrature algorithm so that if an infinite value of $f(a)$ or $f(b)$ is detected, an appropriate warning message is displayed and $f(x)$ is reevaluated at a point very near to a or b.  \n",
    "\n",
    "* (3 pts) Find an example that triggers the warning, but has a finite integral.  "
   ]
  },
  {
   "cell_type": "markdown",
   "metadata": {},
   "source": [
    "**Problem 3**: (5 pts) Write a recursive program which computes $\\begin{pmatrix} n \\\\ k \\end{pmatrix}$ where for $0\\leq k \\leq n$\n",
    "\n",
    "$$\n",
    "\\begin{pmatrix} n \\\\ k \\end{pmatrix} = \\frac{n!}{k!(n-k)!},\n",
    "$$\n",
    "\n",
    "using the formula \n",
    "\n",
    "$$\n",
    "\\begin{pmatrix} n \\\\ k \\end{pmatrix} = \\begin{pmatrix} n-1 \\\\ k \\end{pmatrix} + \\begin{pmatrix} n-1 \\\\ k-1 \\end{pmatrix}\n",
    "$$\n",
    "\n",
    "Provide two examples which show your implementation is correct.  "
   ]
  },
  {
   "cell_type": "markdown",
   "metadata": {},
   "source": [
    "**Problem 4**: (10 pts) The Hermite polynomials $H_{n}(x)$ are such that $H_{0}(x)=1$, $H_{1}(x)=2x$, and for $n\\geq2$, $H_{n}(x)$ satisfies the recurrence relationship\n",
    "\n",
    "$$\n",
    "H_{n}(x) = 2xH_{n-1}(x) -2(n-1)H_{n-2}(x), ~ n\\geq 2. \n",
    "$$\n",
    "\n",
    "* (6 pts) Write a recursive program to find any Hermite polynomial $H_{n}(x)$.\n",
    "* (4 pts) Generate a plot of the first six Hermite polyonmials on the interval $-2\\leq x \\leq 2$.  Your figure should be labeled, have a legend, and different colors should be used to distinguish the different Hermite polynmials in the plot.  "
   ]
  },
  {
   "cell_type": "markdown",
   "metadata": {},
   "source": [
    "**Problem 5**: (10 pts) As we briefly discussed in class, when using the adaptive quadrature algorithm, it will struggle when the fourth derivative of the function $f(x)$ varies too much over the interval of integration.  Using the example $f(x)=\\sin(x^{2})$ and the error analysis code below, produce plots and provide the necessary explanation which illustrates this issue.  You will also probably want to compute the fourth derivative of the given function in order to illustrate your point.  \n",
    "\n",
    "It is said that a reason to use adaptive quadrature is that setting the tolerance effectively sets the error of the method?  Do your results support this claim?  Why or why not?"
   ]
  },
  {
   "cell_type": "code",
   "execution_count": 8,
   "metadata": {},
   "outputs": [
    {
     "name": "stderr",
     "output_type": "stream",
     "text": [
      "C:\\Users\\ccurtis\\Anaconda2\\lib\\site-packages\\scipy\\integrate\\quadpack.py:364: IntegrationWarning: The maximum number of subdivisions (50) has been achieved.\n",
      "  If increasing the limit yields no improvement it is advised to analyze \n",
      "  the integrand in order to determine the difficulties.  If the position of a \n",
      "  local difficulty can be determined (singularity, discontinuity) one will \n",
      "  probably gain from splitting up the interval and calling the integrator \n",
      "  on the subranges.  Perhaps a special-purpose integrator should be used.\n",
      "  warnings.warn(msg, IntegrationWarning)\n"
     ]
    },
    {
     "data": {
      "image/png": "[encoded data removed]",
      "text/plain": [
       "<matplotlib.figure.Figure at 0xab22898>"
      ]
     },
     "metadata": {},
     "output_type": "display_data"
    }
   ],
   "source": [
    "snp2 = lambda x: np.sin(x**2.)\n",
    "\n",
    "def adap_error_test(a,b,f,tolvals):\n",
    "    tval = spqd.quad(lambda x: f(x), a, b)\n",
    "    Evals = np.zeros(tolvals.size)\n",
    "    for jj in xrange(0,tolvals.size):\n",
    "        Evals[jj] = np.log10(np.abs(tval[0] - adap_quad(f,a,b,tolvals[jj])))\n",
    "    return Evals\n",
    "\n",
    "ppows = np.arange(1,15)\n",
    "tolvals = 10.**(-ppows)\n",
    "xvals = -np.log10(tolvals)\n",
    "\n",
    "Evals1 = adap_error_test(0.,1.,snp2,tolvals)\n",
    "Evals2 = adap_error_test(0.,10.,snp2,tolvals)\n",
    "Evals3 = adap_error_test(0.,20.,snp2,tolvals)\n",
    "\n",
    "plt.plot(xvals,Evals1,ls='-',color='k',label='$b=1$')\n",
    "plt.plot(xvals,Evals2,ls='-',color='r',label='$b=10$')\n",
    "plt.plot(xvals,Evals3,ls='-',color='b',label='$b=20$')\n",
    "plt.legend(loc=(.7,.7))\n",
    "plt.xlabel('$-log_{10}(tol)$')\n",
    "plt.ylabel('$log_{10}(Error)$')    \n",
    "fig=plt.gcf() # get current figure\n",
    "fig.set_size_inches(9,7) # optional size"
   ]
  },
  {
   "cell_type": "code",
   "execution_count": null,
   "metadata": {
    "collapsed": true
   },
   "outputs": [],
   "source": []
  }
 ],
 "metadata": {
  "kernelspec": {
   "display_name": "Python [default]",
   "language": "python",
   "name": "python2"
  },
  "language_info": {
   "codemirror_mode": {
    "name": "ipython",
    "version": 2
   },
   "file_extension": ".py",
   "mimetype": "text/x-python",
   "name": "python",
   "nbconvert_exporter": "python",
   "pygments_lexer": "ipython2",
   "version": "2.7.13"
  }
 },
 "nbformat": 4,
 "nbformat_minor": 2
}
