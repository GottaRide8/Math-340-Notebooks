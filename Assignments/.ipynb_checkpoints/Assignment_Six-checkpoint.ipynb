{
 "cells": [
  {
   "cell_type": "code",
   "execution_count": 1,
   "metadata": {},
   "outputs": [],
   "source": [
    "import numpy as np\n",
    "import matplotlib.pyplot as plt\n",
    "import scipy.integrate as spqd\n",
    "%matplotlib inline"
   ]
  },
  {
   "cell_type": "markdown",
   "metadata": {},
   "source": [
    "** Problem 1 **: (2pts for each part) When we write \n",
    "    \n",
    "` \n",
    "xvals = np.linspace(a,b,int(n)+1)\n",
    "`\n",
    "\n",
    "we are generating a sequence of points $x_{j}$ such that \n",
    "\n",
    "$$\n",
    "\\mbox{xvals[j]} = x_{j}, ~ x_{j} = a + j\\delta x, ~ \\delta x = \\frac{b-a}{n}, ~ j=0,\\cdots,n.\n",
    "$$\n",
    "\n",
    "Thus, if I wanted to generate a sequence of points between $a=1$ and $b=9$ with spacing $\\delta x=.25$, then I would find \n",
    "\n",
    "$$\n",
    ".25 = \\frac{9-1}{n}\n",
    "$$\n",
    "\n",
    "so that $n = 32$.  I could then generate these points via the code\n",
    "\n",
    "`\n",
    "xvals = np.linspace(1.,9.,32 + 1)\n",
    "`\n",
    "\n",
    "Using the model, write the code which will generate\n",
    "\n",
    "1a) A sequence of points between $a=0$ and $b=10$ with spacing $\\delta x = 10^{-3}$.\n",
    "\n",
    "1b) A sequence of points between $a=2$ and $b=18$ with spacing $\\delta x = 2^{-m}$, where $m$ is a positive integer that a user would specify.  \n",
    "\n",
    "1c) From problem 1a, using array slicing, what code would I write to find the points $x_{j}$ such that $1\\leq x_{j} \\leq 9$?  Your answer should be in the form `xvals[n1:n2]` where `n1` and `n2` are two integers you must find.  \n",
    "\n",
    "1d) From problem 1b, using array slicing, what code would I write to find the points $x_{j}$ such that $6\\leq x_{j} \\leq 10$?  Your answer should be in the form `xvals[n1:n2]` where `n1` and `n2` are two integers you must find, though they will be in terms of $m$.    \n"
   ]
  },
  {
   "cell_type": "markdown",
   "metadata": {},
   "source": [
    "_Answers to Problem 1_"
   ]
  },
  {
   "cell_type": "markdown",
   "metadata": {},
   "source": [
    "** Problem 2 **: We can generalize the Fibonacci sequence so that we have the recurrence relationship\n",
    "\n",
    "$$\n",
    "p_{n} = p_{n-1} + ap_{n-2}, ~ a \\in \\mathbb{R}, ~ n\\geq 2,\n",
    "$$\n",
    "\n",
    "where we start the sequence $p_{n}$ with the initial conditions\n",
    "\n",
    "$$\n",
    "p_{0} = s_{0}, ~ p_{1} = s_{1}, ~ s_{j} \\in \\mathbb{R}.\n",
    "$$\n",
    "\n",
    "2a) (3pts) Using the guess $p_{n} = \\lambda^{n}$, show that you get two solutions for $\\lambda$, say $\\lambda_{\\pm}$, where\n",
    "\n",
    "$$\n",
    "\\lambda_{\\pm} = \\frac{1}{2}\\left(1\\pm\\sqrt{1+4a} \\right)\n",
    "$$\n",
    "\n",
    "2b) (3pts) Writing the general solution as \n",
    "\n",
    "$$\n",
    "p_{n} = c_{+}\\lambda_{+}^{n} + c_{-}\\lambda_{-}^{n}\n",
    "$$\n",
    "\n",
    "show that when we take our initial conditions into account, we find that the constants $c_{+}$ and $c_{-}$ are given by \n",
    "\n",
    "$$\n",
    "c_{+} = \\frac{s_{1}-s_{0}\\lambda_{-}}{\\lambda_{+}-\\lambda_{-}}, ~ c_{-} = \\frac{s_{0}\\lambda_{+}-s_{1}}{\\lambda_{+}-\\lambda_{-}}\n",
    "$$\n",
    "\n",
    "2c) (4pts) Let $a\\geq -\\frac{1}{4}$.  \n",
    "\n",
    "- Find the range of $a$ such that \n",
    "\n",
    "$$ \n",
    "|\\lambda_{+}|\\leq 1, ~|\\lambda_{-}| < 1\n",
    "$$\n",
    "    \n",
    "- Find the range of $a$ such that \n",
    "\n",
    "$$ \n",
    "|\\lambda_{+}|> 1, ~|\\lambda_{-}| \\leq 1\n",
    "$$\n",
    "\n",
    "- Find the range of $a$ such that \n",
    "\n",
    "$$ \n",
    "|\\lambda_{+}|>1, ~|\\lambda_{-}| > 1\n",
    "$$"
   ]
  },
  {
   "cell_type": "markdown",
   "metadata": {},
   "source": [
    "_Answers to Problem 2_"
   ]
  },
  {
   "cell_type": "markdown",
   "metadata": {},
   "source": [
    "** Problem 3 **: Now let us numerically explore the results from Problem 2.  \n",
    "\n",
    "3a) (3pts) Using the skeleton-code below write a function `fib_general` which generates, for given integer value $n\\geq 2$ and real values `a`, `s0`, and `s1`, the $n+1$ array of points `pn` such that \n",
    "\n",
    "`\n",
    "pn[0] = s0, pn[1] = s1\n",
    "`\n",
    "\n",
    "and the entries in `pn` are given by the recurrence relationship from Problem 2.  \n",
    "\n",
    "3b) (3pts) Fixing $n=10$, $s_{0}=1$, $s_{1}=1$, using your results from Problem 2c, choose three values of $a$, one each from the three different ranges of values of $a$, and generate a plot of $p_{n}$ for each.  Make sure axes are appropriately labeled.  Explain how the plot confirms the results you found in Problem 2c.  \n",
    "\n",
    "3c) (2pts) Fixing $n=10$, $s_{0}=1$, $s_{1}=1$, choose $a=-1/2$ and generate a plot of $p_{n}$.  Briefly explain the results you see and how they differ from those in Problem 3b).  "
   ]
  },
  {
   "cell_type": "markdown",
   "metadata": {},
   "source": [
    "_Answers to Problem 3_"
   ]
  },
  {
   "cell_type": "code",
   "execution_count": null,
   "metadata": {
    "collapsed": true
   },
   "outputs": [],
   "source": [
    "def fib_general(n,a,s0,s1):\n",
    "    #add code here \n",
    "    return pn"
   ]
  },
  {
   "cell_type": "markdown",
   "metadata": {},
   "source": [
    "** Problem 4 **: Let the Fresnel function $f(x)$ be defined via the integral\n",
    "\n",
    "$$\n",
    "f(x) = \\int_{0}^{x} \\cos(t^{2}) dt.\n",
    "$$\n",
    "\n",
    "4a) (2pts) Write the code that creates a sequence of $n+1$ points $x_{j}$ such that $0 \\leq x_{j} \\leq x$, with  \n",
    "\n",
    "$$\n",
    "x_{j} = j\\delta x, ~ \\delta x = \\frac{x}{n}, ~ j=0,\\cdots,n\n",
    "$$\n",
    "\n",
    "4b) (2pts) Find the second order Taylor polynomial approximation around $x_{j}$ of $\\cos(t^{2})$, i.e. find  $T_{2}(t;x_{j})$.  \n",
    "\n",
    "4c) (2pts) Using the fact that $\\delta x = x_{j+1}-x_{j}$, show that \n",
    "\n",
    "$$\n",
    "\\int_{x_{j}}^{x_{j+1}} T_{2}(t;x_{j})dt = \\delta x \\cos\\left(x_{j}^{2}\\right)- \\delta x^{2} \\left(x_{j}\\sin\\left(x_{j}^{2}\\right)\\right) + \\frac{\\delta x^{3}}{3}\\left(2x_{j}^{2}\\cos\\left(x_{j}^{2}\\right) - \\sin\\left(x_{j}^{2}\\right)\\right)\n",
    "$$\n",
    "\n",
    "Note, the $u$-substitution $u=t-x_{j}$ will make your life so much easier here.  \n",
    "\n",
    "4d) (4pts) Using basic properties of integrals and Taylor series, show that \n",
    "\\begin{align*}\n",
    "f(x_{j+1}) = & f(x_{j}) + \\int_{x_{j}}^{x_{j+1}}\\cos(t^{2})dt \\\\\n",
    "\\approx & f(x_{j}) + \\int_{x_{j}}^{x_{j+1}}T_{2}(t;x_{j})dt\\\\\n",
    "\\approx & f(x_{j}) + \\left(\\delta x \\cos\\left(x_{j}^{2}\\right)- \\delta x^{2} \\left(x_{j}\\sin\\left(x_{j}^{2}\\right)\\right) - \\frac{\\delta x^{3}}{3}\\left(2x_{j}^{2}\\cos\\left(x_{j}^{2}\\right) + \\sin\\left(x_{j}^{2}\\right)\\right) \\right)\n",
    "\\end{align*}\n",
    "\n",
    "Using the code-skeleton below, write a Python function called `fresnel_integrator` which takes an array `xvals` and returns a corresponding array, `fvals`, which contains the values of the Fresnel function $f(x)$.  Plot $f(x)$ for $0\\leq x \\leq 10$ with $\\delta x = 10^{-2}$.  Briefly describe what you see.  \n",
    "\n",
    "4e) (4pts) Fixing $x=10$, compare your approximate integrator to the \"true\" value of $f(10)$ for $\\delta x =1,10^{-1},10^{-2},10^{-3}, 10^{-4}$ and generate a log-log plot of the error versus the corresponding value of $n$.  Label axes for your graph.  Describe your graph and comment on any trends you observe.\n",
    "\n",
    "Use the code \n",
    "\n",
    "`\n",
    "fvalf = spqd.quad(lambda t: np.cos(t**2.),0.,10.)\n",
    "fvalt = fvalf[0]\n",
    "`\n",
    "\n",
    "to generate the \"true\" value `fvalt`.  Likewise note, if we want the last entry of an array, say `fvals`, we just call\n",
    "\n",
    "`\n",
    "fvals[-1]\n",
    "`\n",
    "\n",
    "See the code-skeleton below.  "
   ]
  },
  {
   "cell_type": "markdown",
   "metadata": {},
   "source": [
    "_Answers to Problem 4_"
   ]
  },
  {
   "cell_type": "code",
   "execution_count": 3,
   "metadata": {},
   "outputs": [
    {
     "data": {
      "text/plain": [
       "Text(0.5,0,'$f(x)$')"
      ]
     },
     "execution_count": 3,
     "metadata": {},
     "output_type": "execute_result"
    },
    {
     "data": {
      "image/png": "[encoded data removed]",
      "text/plain": [
       "<Figure size 432x288 with 1 Axes>"
      ]
     },
     "metadata": {},
     "output_type": "display_data"
    }
   ],
   "source": [
    "# You add in the missing code\n",
    "def fresnel_integrator(xvals):\n",
    "    dx = xvals[1]-xvals[0]\n",
    "    n = xvals.size-1\n",
    "    fvals = np.zeros(int(n)+1)\n",
    "    for jj in xrange(0,int(n)):\n",
    "        xj = xvals[jj]\n",
    "        x2 = xj**2.\n",
    "        cx = np.cos(x2)\n",
    "        sx = np.sin(x2)\n",
    "        fupdate = dx*cx -dx**2.*xj*sx - dx**3.*(2.*xj**2.*cx+sx)/3.\n",
    "        fvals[jj+1] = fvals[jj] + fupdate\n",
    "    return fvals\n",
    "\n",
    "xvals = np.linspace(0.,10.,int(1e3)+1)\n",
    "fvals = fresnel_integrator(xvals)\n",
    "plt.plot(xvals,fvals)\n",
    "plt.xlabel('$x$')\n",
    "plt.xlabel('$f(x)$')"
   ]
  },
  {
   "cell_type": "code",
   "execution_count": null,
   "metadata": {},
   "outputs": [],
   "source": [
    "# You add in the missing code\n",
    "fvalf = spqd.quad(lambda t: np.cos(t**2.),0.,10.)\n",
    "fvalt = fvalf[0]\n",
    "\n",
    "nvals = np.array([1e1,1e2,1e3,1e4,1e5])\n",
    "evals = np.zeros(nvals.size)\n",
    "\n",
    "for ll in xrange(0,):\n",
    "    xvals = \n",
    "    fvals = fresnel_integrator(xvals)\n",
    "    evals[ll] = np.log10(np.abs(fvals[-1]-fvalt))\n",
    "\n",
    "plt.plot(np.log10(nvals),evals)\n",
    "plt.xlabel('$n$')\n",
    "plt.ylabel('$\\log_{10}|Error|$')"
   ]
  },
  {
   "cell_type": "code",
   "execution_count": null,
   "metadata": {
    "collapsed": true
   },
   "outputs": [],
   "source": []
  }
 ],
 "metadata": {
  "kernelspec": {
   "display_name": "Python 2",
   "language": "python",
   "name": "python2"
  },
  "language_info": {
   "codemirror_mode": {
    "name": "ipython",
    "version": 2
   },
   "file_extension": ".py",
   "mimetype": "text/x-python",
   "name": "python",
   "nbconvert_exporter": "python",
   "pygments_lexer": "ipython2",
   "version": "2.7.15"
  }
 },
 "nbformat": 4,
 "nbformat_minor": 2
}
