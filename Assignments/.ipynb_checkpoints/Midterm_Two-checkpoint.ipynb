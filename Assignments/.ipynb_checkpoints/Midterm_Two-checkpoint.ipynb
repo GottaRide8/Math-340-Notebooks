{
 "cells": [
  {
   "cell_type": "code",
   "execution_count": 2,
   "metadata": {
    "collapsed": true
   },
   "outputs": [],
   "source": [
    "import numpy as np\n",
    "import matplotlib.pyplot as plt\n",
    "%matplotlib inline"
   ]
  },
  {
   "cell_type": "markdown",
   "metadata": {},
   "source": [
    "** Problem 1 **: 10pts - For the following floating point 64-bit binary representations of two numbers given by \n",
    "\n",
    "`n1 = [0, 1, 1, 0, 1, 1, 0, 1, 0, 1, 1, 1, 1, 1, 1, 1, 1, 0, 0, 0, 0, 0, 1, 0, 0, 1, 0, 0, 1, 0, 0, 1, 0, 1, 1, 1, 1, 0, 0, 0, 0, 0, 1, 0, 0, 1, 0, 0, 1, 0, 0, 1, 0, 1, 1, 1, 1, 0, 0, 0, 1, 1, 0, 1]`\n",
    "\n",
    "`n2 = [0, 1, 1, 0, 1, 1, 0, 1, 0, 1, 1, 1, 1, 1, 1, 1, 1, 0, 0, 0, 0, 0, 1, 0, 0, 1, 0, 0, 1, 0, 0, 1, 0, 1, 1, 1, 1, 0, 0, 0, 0, 0, 1, 0, 0, 1, 0, 0, 1, 0, 0, 1, 0, 1, 1, 1, 1, 0, 0, 0, 1, 1, 1, 0]`\n",
    "\n",
    "Find the: \n",
    "\n",
    "1a) (2pts) Characteristic values $c_{1}$ and $c_{2}$ of each number.  \n",
    "\n",
    "1b) (2pts) Mantissas $f_{1}$ and $f_{2}$ of each number.  \n",
    "\n",
    "1c) (2pts) Decimal representations of each number.  \n",
    "\n",
    "1d) (2pts) 64-bit binary representation of the sum $n_{1}+n_{2}$.  \n",
    "\n",
    "1e) (2pts) 64-bit binary representation of the difference $n_{2}-n_{1}$.  Note, the two numbers are close since they have the same characteristic.  For the unknown values of the mantissa, what would be the difference between using all 1's in their place versus using all 0's in their place?"
   ]
  },
  {
   "cell_type": "markdown",
   "metadata": {},
   "source": [
    "** Problem 2 **: 10pts - Here is a cubic polynomial with three closely spaced roots \n",
    "\n",
    "$$\n",
    "p(x) = 816x^3 -3835x^2 +6000x -3125\n",
    "$$\n",
    "\n",
    "2a) (2pts) What are the exact roots of $p(x)$?\n",
    "\n",
    "2b) (2pts) Plot $p(x)$ for $1.43\\leq x \\leq 1.71$.  Show the location of the three roots.  Make your plot pretty.  \n",
    "\n",
    "2c) (2pts) Starting with $x_{0}=1.5$, what does Newton's method do?\n",
    "\n",
    "2d) (2pts) Starting with $x_{0}=1$ and $x_{0}=2$, what does the secant method do?  \n",
    "\n",
    "2e) (2pts) Starting with the interval $[1,2]$, what does the bisection method do?"
   ]
  },
  {
   "cell_type": "markdown",
   "metadata": {},
   "source": [
    "** Problem 3 **: 10 pts - \n",
    "\n",
    "3a) (3pts) Plot the function $f(x)= \\tan(x)$ and $f(x)=x$ for $0\\leq x \\leq 30$.  Note, you will have to be thoughtful about using `plt.ylim()` in order to have this plot look nice.  \n",
    "\n",
    "3b) (3pts) Use the secant method to find the first ten positive values $x$ such that $x= \\tan(x)$.  See your plot above for help.\n",
    "\n",
    "3c) (4pts) Provide a rate of convergence plot for the second, third, and fourth values from part b).  Comment on anything interesting you see.  "
   ]
  },
  {
   "cell_type": "markdown",
   "metadata": {},
   "source": [
    "** Problem 4 **: 10pts - The midpoint method is a technique for numerically computing integrals.  Given the integral \n",
    "\n",
    "$$\n",
    "\\int_{a}^{b} f(x)dx,\n",
    "$$\n",
    "\n",
    "if we choose a step-size $\\delta x$ of \n",
    "\n",
    "$$\n",
    "\\delta x = \\frac{b-a}{N},\n",
    "$$\n",
    "\n",
    "so that $x_{0}=a$, $x_{N}=b$, and $x_{j} = x_{0} + j\\delta x$, over each subinterval $[x_{j},x_{j+1}]$, we use the following approximation\n",
    "\n",
    "$$\n",
    "\\int_{x_{j}}^{x_{j+1}} f(x) dx \\approx \\delta x ~f\\left(x_{j+1/2}\\right), ~ x_{j+1/2} = \\frac{x_{j}+x_{j+1}}{2}.\n",
    "$$\n",
    "\n",
    "4a) (3pts) Derive a global formula for the Midpoint method approximation to the integral $\\int_{a}^{b}f(x)dx$.\n",
    "\n",
    "4b) (3pts) Implement the Midpoint method in Python/NumPy using vectorization.  \n",
    "\n",
    "4c) (4pts) Determine the order of the error of the Midpoint method.  Provide plots and slopes of lines in plots to determine the order of the method.  Use as your test case\n",
    "\n",
    "$$\n",
    "\\int_{0}^{1}\\sin(x)dx = 1 - \\cos(1).\n",
    "$$"
   ]
  },
  {
   "cell_type": "markdown",
   "metadata": {},
   "source": [
    "** Problem 5 **: 5pts- Use the recursive adaptive quadrature technique we developed in class to evaluate \n",
    "\n",
    "$$\n",
    "\\int_{-1}^{2}\\frac{dt}{\\sin(\\sqrt{|t|})}.\n",
    "$$\n",
    "\n",
    "Why do you not encounter division by zero difficulties in your scheme? "
   ]
  },
  {
   "cell_type": "markdown",
   "metadata": {},
   "source": [
    "** Problem 6 **: 10 pts- Let $f(x) = x^{x}$.  \n",
    "\n",
    "6a) (2pts) Plot $f(x)$ for $0\\leq x \\leq 1$.\n",
    "\n",
    "6b) (4pts) Use the Trapezoid Method to compute $\\int_{0}^{1}f(x)dx$.  Can you get a reliable answer?  If so, what is it and why?  If not, why not?  Note, to determine this, you will need to test several values of $N$ over several orders of magnitude.  \n",
    "\n",
    "6c) (4pts) Use Simpson's Method to compute $\\int_{0}^{1}f(x) dx$.  Can you get a reliable answer?  If so, what is it and why?  If not, why not?  Note, to determine this, you will need to test several values of $N$ over several orders of magnitude.  "
   ]
  },
  {
   "cell_type": "code",
   "execution_count": null,
   "metadata": {
    "collapsed": true
   },
   "outputs": [],
   "source": []
  }
 ],
 "metadata": {
  "kernelspec": {
   "display_name": "Python 2",
   "language": "python",
   "name": "python2"
  },
  "language_info": {
   "codemirror_mode": {
    "name": "ipython",
    "version": 2
   },
   "file_extension": ".py",
   "mimetype": "text/x-python",
   "name": "python",
   "nbconvert_exporter": "python",
   "pygments_lexer": "ipython2",
   "version": "2.7.13"
  }
 },
 "nbformat": 4,
 "nbformat_minor": 2
}
