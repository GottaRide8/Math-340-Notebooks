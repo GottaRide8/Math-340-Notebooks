{
 "cells": [
  {
   "cell_type": "code",
   "execution_count": 1,
   "metadata": {},
   "outputs": [],
   "source": [
    "import numpy as np\n",
    "import matplotlib.pyplot as plt\n",
    "from copy import copy\n",
    "from time import time\n",
    "%matplotlib inline"
   ]
  },
  {
   "cell_type": "markdown",
   "metadata": {},
   "source": [
    "**Problem 1**: 7 pts- Using\n",
    "\n",
    "$$\n",
    "\\cos(x) = \\sum_{j=0}^{\\infty}\\frac{(-1)^{j}}{(2j)!}x^{2j}, ~ \\sin(x) = \\sum_{j=0}^{\\infty}\\frac{(-1)^{j}}{(2j+1)!}x^{2j+1}\n",
    "$$\n",
    "\n",
    "and \n",
    "\n",
    "$$\n",
    "\\sin(2x) = 2\\cos(x)\\sin(x)\n",
    "$$\n",
    "\n",
    "derive a Taylor series for $\\cos(x^{3})\\sin(x^{3})$ around $x=0$.  Write a code which computes the Taylor series of $\\cos(x^{3})\\sin(x^{3})$ using recursion, vectorization, and a tolerance based while loop approach.(4pts)  On the interval $[0,\\pi]$, plot the semi-log error in your approximation for tolerance values $10^{-4}$, $10^{-6}$, and $10^{-8}$. Label axes and provide a legend for your graph.  Describe your graphs and comment on any trends you observe.(3pts)"
   ]
  },
  {
   "cell_type": "code",
   "execution_count": 2,
   "metadata": {},
   "outputs": [],
   "source": [
    "def sin_x3(x,tol):\n",
    "    tot = np.zeros(x.size)\n",
    "    aj = np.ones(x.size)\n",
    "    jj = 1\n",
    "    x6 = x**6\n",
    "    while np.max(np.abs(aj))>=tol:\n",
    "        aj *= (-2*x6)/((2*jj)*(2*jj+1))\n",
    "        tot += aj\n",
    "        jj += 1\n",
    "    return tot/2"
   ]
  },
  {
   "cell_type": "code",
   "execution_count": 3,
   "metadata": {},
   "outputs": [],
   "source": [
    "xvals = np.linspace(0.,2.5,int(1e3))\n",
    "\n",
    "yvals = [np.sin(val**3)*np.cos(val**3) for val in xvals]\n",
    "yvals2 = [np.sin(val**3*2)/2 for val in xvals]\n",
    "\n",
    "yvals4 = sin_x3(xvals,1e-4)\n",
    "yvals6 = sin_x3(xvals,1e-6)\n",
    "yvals8 = sin_x3(xvals,1e-8)\n",
    "\n",
    "plt.plot(xvals,yvals)\n",
    "plt.plot(xvals,yvals2)\n",
    "plt.plot(xvals,yvals4)\n",
    "plt.plot(xvals,yvals6)\n",
    "plt.plot(xvals,yvals8)\n",
    "\n"
   ]
  },
  {
   "cell_type": "markdown",
   "metadata": {},
   "source": [
    "**Problem 2**: 7 pts- Another very important class of special functions are called the _Legendre Polynomials_, say $L_{n}(x)$, which are defined for non-negative integer $n$ via the series\n",
    "\n",
    "$$\n",
    "L_{n}(x) = \\sum_{k=0}^{n}\\frac{(n+k)!}{(k!)^{2}(n-k)!}\\left(\\frac{x-1}{2}\\right)^{k}, ~ -1\\leq x \\leq 1.\n",
    "$$\n",
    "\n",
    "Using a `for`-loop, vectorized, recursive approach, write a function which computes the Legendre functions for any non-negative integer $n$ (4pts).  Make a plot showing $L_{n}(x)$ for $n=0,1,2,3,4$ simultaneously, using different colors for each different $n$.  The plot should have a legend as well as appropriately labeled axes.  (3pts)    "
   ]
  },
  {
   "cell_type": "code",
   "execution_count": 4,
   "metadata": {},
   "outputs": [],
   "source": [
    "def pi_approx_vec(n):\n",
    "    kvals = np.arange(0,int(n)+1)\n",
    "    nsq = n**2.\n",
    "    tot = np.sum(np.sqrt(nsq*np.ones(int(n)+1) - kvals**2.))\n",
    "    return 4.*tot/nsq"
   ]
  },
  {
   "cell_type": "markdown",
   "metadata": {},
   "source": [
    "**Problem 3**: 5 pts - Using a for loop based approach, write a program which finds the function $f(n)$ where \n",
    "\n",
    "$$\n",
    "f(n) = \\frac{1}{n}\\sum_{j=1}^{n} \\left(\\left(\\frac{j}{n}\\right)^{5} + 6\\left(\\frac{j}{n}\\right)^{3} \\right)\n",
    "$$\n",
    "\n",
    "for any positive integer n (2pts).  Generate a labeled plot of the results of your function for $1\\leq n \\leq 1000$, where $n$ will be on the $x$-axis, while the results of your function will appear on the $y$-axis.  Describe any trends you see from your graph. (3pts)      "
   ]
  },
  {
   "cell_type": "code",
   "execution_count": 5,
   "metadata": {},
   "outputs": [],
   "source": [
    "def rand_appr(n):\n",
    "    tot = 0\n",
    "    for jj in range(1,int(n)+1):\n",
    "        tot += (jj/n)**5.+6.*(jj/n)**3.\n",
    "    return tot/n"
   ]
  },
  {
   "cell_type": "code",
   "execution_count": 6,
   "metadata": {},
   "outputs": [
    {
     "data": {
      "text/plain": [
       "[<matplotlib.lines.Line2D at 0x198991e5be0>]"
      ]
     },
     "execution_count": 6,
     "metadata": {},
     "output_type": "execute_result"
    },
    {
     "data": {
      "image/png": "[encoded data removed]",
      "text/plain": [
       "<Figure size 432x288 with 1 Axes>"
      ]
     },
     "metadata": {
      "needs_background": "light"
     },
     "output_type": "display_data"
    }
   ],
   "source": [
    "n = 1000.\n",
    "\n",
    "xvals = np.linspace(1.,n,int(n))\n",
    "\n",
    "yvals1 = [rand_appr(val)for val in xvals]\n",
    "\n",
    "plt.plot(xvals,yvals1)"
   ]
  },
  {
   "cell_type": "markdown",
   "metadata": {},
   "source": [
    "**Problem 4**: 6 pts- Using a vectorized approach, which means no explicit for loops, write a program which finds \n",
    "\n",
    "$$\n",
    "f(n) = \\frac{1}{n}\\sum_{j=1}^{n} \\left(\\left(\\frac{j}{n}\\right)^{5} + 6\\left(\\frac{j}{n}\\right)^{3} \\right)\n",
    "$$\n",
    "\n",
    "\n",
    "for any positive integer n (3pts).  Using `time()`, run several different tests using different values of $n$ to determine how much faster your code is than that used in the previous problem.  For what value of $n$ do you finally see a significant difference in time?  Note, plots are far more preferable than just writing a particular number.  Build a case for your decision please. (3pts)    "
   ]
  },
  {
   "cell_type": "code",
   "execution_count": 7,
   "metadata": {},
   "outputs": [],
   "source": [
    "def rand_vec(n):\n",
    "    jvals = np.arange(1,int(n)+1)\n",
    "    nvals = n*np.ones(int(n))\n",
    "    tot = np.sum(((jvals/nvals)**5.)+(6.*(jvals/nvals)**3.))\n",
    "    return tot/n"
   ]
  },
  {
   "cell_type": "code",
   "execution_count": 8,
   "metadata": {},
   "outputs": [
    {
     "data": {
      "text/plain": [
       "[<matplotlib.lines.Line2D at 0x1989924f970>]"
      ]
     },
     "execution_count": 8,
     "metadata": {},
     "output_type": "execute_result"
    },
    {
     "data": {
      "image/png": "[encoded data removed]",
      "text/plain": [
       "<Figure size 432x288 with 1 Axes>"
      ]
     },
     "metadata": {
      "needs_background": "light"
     },
     "output_type": "display_data"
    }
   ],
   "source": [
    "plt.plot(xvals,[rand_vec(val) for val in xvals])"
   ]
  },
  {
   "cell_type": "code",
   "execution_count": 9,
   "metadata": {},
   "outputs": [
    {
     "data": {
      "text/plain": [
       "[<matplotlib.lines.Line2D at 0x198992b2880>]"
      ]
     },
     "execution_count": 9,
     "metadata": {},
     "output_type": "execute_result"
    },
    {
     "data": {
      "image/png": "[encoded data removed]",
      "text/plain": [
       "<Figure size 432x288 with 1 Axes>"
      ]
     },
     "metadata": {
      "needs_background": "light"
     },
     "output_type": "display_data"
    }
   ],
   "source": [
    "def timer_vec(val):\n",
    "    vals = np.linspace(1.,val,int(val))\n",
    "    start = time()\n",
    "    [rand_vec(val)for val in vals]\n",
    "    end=time()\n",
    "    return end - start\n",
    "\n",
    "def timer_appr(val):\n",
    "    vals = np.linspace(1.,val,int(val))\n",
    "    start = time()\n",
    "    [rand_appr(val)for val in vals]\n",
    "    end=time()\n",
    "    return end - start\n",
    "\n",
    "plt.plot(xvals,[timer_vec(val) for val in xvals],color='blue')\n",
    "plt.plot(xvals,[timer_appr(val) for val in xvals],color='red')"
   ]
  },
  {
   "cell_type": "code",
   "execution_count": null,
   "metadata": {},
   "outputs": [],
   "source": []
  }
 ],
 "metadata": {
  "kernelspec": {
   "display_name": "Python 3",
   "language": "python",
   "name": "python3"
  },
  "language_info": {
   "codemirror_mode": {
    "name": "ipython",
    "version": 3
   },
   "file_extension": ".py",
   "mimetype": "text/x-python",
   "name": "python",
   "nbconvert_exporter": "python",
   "pygments_lexer": "ipython3",
   "version": "3.8.5"
  }
 },
 "nbformat": 4,
 "nbformat_minor": 2
}
