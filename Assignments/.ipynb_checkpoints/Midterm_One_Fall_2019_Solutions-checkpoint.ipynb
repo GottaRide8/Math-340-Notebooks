{
 "cells": [
  {
   "cell_type": "code",
   "execution_count": 21,
   "metadata": {},
   "outputs": [],
   "source": [
    "import numpy as np\n",
    "import matplotlib.pyplot as plt\n",
    "from copy import copy\n",
    "from scipy.special import factorial as sfactorial\n",
    "\n",
    "%matplotlib inline"
   ]
  },
  {
   "cell_type": "markdown",
   "metadata": {},
   "source": [
    "**Problem 1** 15pts: \n",
    "    \n",
    "1a) 3pts - In NumPy, create an array of points between $-5$ and $11.323$ with spacing $.0285$.  If you can not do this exactly, how close can you get?  \n",
    "\n",
    "1b) 3pts - Using vectorization, plot $f(x) = 3x^{4} + 3x^{2} + 2$ for $-5\\leq x \\leq 11.323$.  Make sure your graph is labeled.   \n",
    "1c) 3pts - Using vectorization in Python, find the sum \n",
    "\n",
    "$$\n",
    "\\sum_{j=0}^{n}(4j^{3} + 3j^{2} + 2)\n",
    "$$\n",
    "\n",
    "for $n=30,50$.\n",
    "\n",
    "1d) 3pts - For the integers less than 10,000, what is the sum of those numbers which are divisible by 7, 13, or 18?  \n",
    "\n",
    "1e) 3pts - For the recurrence relation\n",
    "\n",
    "$$\n",
    "p_{n} = 3p_{n-4} - 2p_{n-3} + 3p_{n-1}, ~ n\\geq 4, \n",
    "$$\n",
    "\n",
    "where \n",
    "\n",
    "$$\n",
    "p_{0}= .1, ~ p_{1}=2.1, ~ p_{2} = .235, ~ p_{3} = 0,\n",
    "$$\n",
    "\n",
    "what is $p_{n}$ for $n=5$, $10$, and $20$?"
   ]
  },
  {
   "cell_type": "markdown",
   "metadata": {},
   "source": [
    "_Answer to Problem 1_"
   ]
  },
  {
   "cell_type": "markdown",
   "metadata": {},
   "source": [
    "1a) and 1b) So we want $.0285 = (11.323+5)/N$, or $N\\approx 16.323/.0285$, thus a reasonable way to do this is with the code  "
   ]
  },
  {
   "cell_type": "code",
   "execution_count": 2,
   "metadata": {},
   "outputs": [
    {
     "data": {
      "text/plain": [
       "Text(0, 0.5, '$f(x)$')"
      ]
     },
     "execution_count": 2,
     "metadata": {},
     "output_type": "execute_result"
    },
    {
     "data": {
      "image/png": "[encoded data removed]",
      "text/plain": [
       "<Figure size 432x288 with 1 Axes>"
      ]
     },
     "metadata": {
      "needs_background": "light"
     },
     "output_type": "display_data"
    }
   ],
   "source": [
    "xvals = np.linspace(-5,11.323,int(np.round(16.323/.0285))+1)\n",
    "fvals = 3.*xvals**4. + 3.*xvals**2. + 2.\n",
    "plt.plot(xvals,fvals)\n",
    "plt.xlabel('$x$')\n",
    "plt.ylabel('$f(x)$')"
   ]
  },
  {
   "cell_type": "markdown",
   "metadata": {},
   "source": [
    "1c) We use the code "
   ]
  },
  {
   "cell_type": "code",
   "execution_count": 3,
   "metadata": {},
   "outputs": [
    {
     "name": "stdout",
     "output_type": "stream",
     "text": [
      "The total sum for 30 is: 893327\n",
      "The total sum for 50 is: 6631377\n"
     ]
    }
   ],
   "source": [
    "def sum_comp(n):\n",
    "    jvals = np.arange(int(n)+1)\n",
    "    return np.sum(4.*jvals**3. + 3.*jvals**2. + 2.)\n",
    "\n",
    "print(\"The total sum for %2.0d is: %d\" % (30,sum_comp(30)))\n",
    "print(\"The total sum for %2.0d is: %d\" % (50,sum_comp(50)))"
   ]
  },
  {
   "cell_type": "markdown",
   "metadata": {},
   "source": [
    "1d) We use the code "
   ]
  },
  {
   "cell_type": "code",
   "execution_count": 4,
   "metadata": {},
   "outputs": [
    {
     "name": "stdout",
     "output_type": "stream",
     "text": [
      "The sum you want is: 12647598\n"
     ]
    }
   ],
   "source": [
    "tot = 0\n",
    "for jj in range(1,int(1e4)+1):\n",
    "    if (jj%7==0) or (jj%13==0) or (jj%18==0):\n",
    "        tot += jj\n",
    "print(\"The sum you want is: %d\" % tot)"
   ]
  },
  {
   "cell_type": "markdown",
   "metadata": {},
   "source": [
    "1e) We use the code"
   ]
  },
  {
   "cell_type": "code",
   "execution_count": 5,
   "metadata": {},
   "outputs": [
    {
     "name": "stdout",
     "output_type": "stream",
     "text": [
      "The recurrence relation for 5 is -5\n",
      "The recurrence relation for 10 is -568\n",
      "The recurrence relation for 20 is -10548126\n"
     ]
    }
   ],
   "source": [
    "def rec_relat(n):\n",
    "    p0 = .1\n",
    "    p1 = 2.1\n",
    "    p2 = .235\n",
    "    p3 = 0\n",
    "    for jj in range(4,n+1):\n",
    "        p3 = 3.*p3 - 2.*p1 + 3.*p0\n",
    "        p0 = p1\n",
    "        p1 = p2\n",
    "        p2 = p3\n",
    "    return p3\n",
    "\n",
    "print(\"The recurrence relation for %d is %d\" % (5,rec_relat(5)))\n",
    "print(\"The recurrence relation for %d is %d\" % (10,rec_relat(10)))\n",
    "print(\"The recurrence relation for %d is %d\" % (20,rec_relat(20)))"
   ]
  },
  {
   "cell_type": "markdown",
   "metadata": {},
   "source": [
    "**Problem 2**: 15pts - Given the function\n",
    "\n",
    "$$\n",
    "y(x) = \\sum_{l=0}^{\\infty} \\frac{(-1)^{l}x^{2l}}{3^{l}l!}\n",
    "$$\n",
    "\n",
    "2a) 6pts - Determine a recurrence relation between the coefficients.\n",
    "\n",
    "2b) 6pts - In Python, develop a tolerance based, recursive, vectorized implementation of this function.  \n",
    "\n",
    "2c) 3pts - Plot this function on the interval $[0,5]$ for tolerances $10^{-6}$ and $10^{-8}$.  Comment on any phenomena you see.  Make sure graphs are labeled, have a legend, and are well sized.  "
   ]
  },
  {
   "cell_type": "markdown",
   "metadata": {},
   "source": [
    "_Answer to Problem 2_"
   ]
  },
  {
   "cell_type": "markdown",
   "metadata": {},
   "source": [
    "We readily see that \n",
    "\n",
    "$$\n",
    "a_{l}/a_{l-1} = -x^{2}/3l\n",
    "$$\n",
    "\n",
    "so that \n",
    "\n",
    "$$\n",
    "a_{l} = \\left\\{\\begin{array}{rl} -\\frac{x^{2}}{3l}a_{l-1} & l\\geq 1 \\\\ 1 & l=0\\end{array}\\right.\n",
    "$$"
   ]
  },
  {
   "cell_type": "code",
   "execution_count": 7,
   "metadata": {},
   "outputs": [
    {
     "data": {
      "text/plain": [
       "<matplotlib.legend.Legend at 0x7fa4ea472d10>"
      ]
     },
     "execution_count": 7,
     "metadata": {},
     "output_type": "execute_result"
    },
    {
     "data": {
      "image/png": "[encoded data removed]",
      "text/plain": [
       "<Figure size 432x288 with 1 Axes>"
      ]
     },
     "metadata": {
      "needs_background": "light"
     },
     "output_type": "display_data"
    }
   ],
   "source": [
    "def funny_sum(xvals,tol):\n",
    "    tot = np.ones(xvals.size)\n",
    "    al = np.ones(xvals.size)\n",
    "    xt = -(xvals**2.)/3.\n",
    "    ll = 1\n",
    "    while np.max(np.abs(al)) >= tol:\n",
    "        al *= xt/ll\n",
    "        tot += al\n",
    "        ll += 1\n",
    "    return tot\n",
    "\n",
    "xrng = np.linspace(0,5,int(1e3)+1)\n",
    "fvls6 = funny_sum(xrng,1e-6)\n",
    "fvls8 = funny_sum(xrng,1e-8)\n",
    "plt.plot(xrng,fvls6,color='r',label='$tol=10^{-6}$')\n",
    "plt.plot(xrng,fvls8,color='k',label='$tol=10^{-8}$')\n",
    "plt.xlabel('$x$')\n",
    "plt.ylabel('$f(x)$')\n",
    "plt.legend(loc=(\"best\"))"
   ]
  },
  {
   "cell_type": "markdown",
   "metadata": {},
   "source": [
    "As we can see, there is essentially no difference to the eye between the two tolerance values, thus giving us some confidence in the accuracy of the results we are plotting. "
   ]
  },
  {
   "cell_type": "markdown",
   "metadata": {
    "collapsed": true
   },
   "source": [
    "**Problem 3**: 15pts - Write a program (7pts) that generates the iterative sequence\n",
    "$$\n",
    "\\phi_{n} = a\\phi_{n-1} + b\\phi_{n-2}, ~ n\\geq 2, ~ a,b\\in \\mathbb{R}.\n",
    "$$\n",
    "Your program must take $a$, $b$, $\\phi_{0}$, $\\phi_{1}$, and the maximum value of $N$ as input, i.e. your program should produce a plot of the sequence for $0\\leq n \\leq N$.  (4pts) Generate labeled semi-log plots of $|\\phi_{n}|$ up to $N=40$ for the parameter values \n",
    "\n",
    "* $a = 1$, $b = 3$, $\\phi_{0}=1$, $\\phi_{1}=2$,\n",
    "* $a = -3$, $b = -1/2$, $\\phi_{0}=2$, $\\phi_{1}=1$.\n",
    "\n",
    "Explain the behavior you see in the graphs (4pts).  In particular, find the slope of the lines in your plots in the large $N$ limit both computationally and analytically.  Hint: In order to get the analytic result, you need to use a guess for the solution of the form \n",
    "$$\n",
    "\\phi_{n} = \\lambda^{n}.\n",
    "$$\n",
    "Then plug in your guess, and solve for $\\lambda$.  You know, like with the Fibonacci numbers."
   ]
  },
  {
   "cell_type": "markdown",
   "metadata": {},
   "source": [
    "_Answer to Problem 3_"
   ]
  },
  {
   "cell_type": "markdown",
   "metadata": {},
   "source": [
    "Note, to get the analytic approximation, we see that putting the ansatz into the recurrence relation gives us\n",
    "\n",
    "$$\n",
    "\\lambda^{2} - a\\lambda - b = 0,\n",
    "$$\n",
    "\n",
    "so that \n",
    "\n",
    "$$\n",
    "\\lambda_{\\pm} = \\frac{1}{2}\\left(a \\pm \\sqrt{a^{2}+4b} \\right)\n",
    "$$\n",
    "\n",
    "So for $a=1$, $b=3$, we get \n",
    "\n",
    "$$\n",
    "\\lambda_{\\pm} = \\frac{1}{2}\\left(1 \\pm \\sqrt{13} \\right) \\approx 2.3, ~-1.3\n",
    "$$\n",
    "\n",
    "so taking the larger of the two, we find \n",
    "\n",
    "$$\n",
    "\\log_{10} (2.3) \\approx .3623\n",
    "$$\n",
    "\n",
    "Likewise, for $a=-3$, $b=-1/2$, we have \n",
    "\n",
    "$$\n",
    "\\lambda_{\\pm} = \\frac{1}{2}\\left(-3 \\pm \\sqrt{7} \\right) \\approx -.18, ~-2.8\n",
    "$$\n",
    "\n",
    "so again, taking the largest in magnitude value, we see \n",
    "\n",
    "$$\n",
    "\\log_{10} (2.8) \\approx .4507\n",
    "$$\n"
   ]
  },
  {
   "cell_type": "code",
   "execution_count": 73,
   "metadata": {},
   "outputs": [],
   "source": [
    "def rec_relat_gen(a,b,phi0,phi1,n):\n",
    "    if n>1:\n",
    "        phin = np.zeros(n+1)\n",
    "        phin[0] = phi0\n",
    "        phin[1] = phi1\n",
    "        for jj in range(2,n+1):\n",
    "            phin[jj] = a*phin[jj-1] + b*phin[jj-2]\n",
    "            \n",
    "        nvals = np.arange(n+1)\n",
    "        lgphi = np.log10(np.abs(phin))\n",
    "        slps = lgphi[1:]-lgphi[:n]\n",
    "        print(\"Max Slope is %1.15f\" %np.max(slps))\n",
    "        print(\"Min Slope is %1.15f\" %np.min(slps))\n",
    "        print(\"Mean Slope is %1.15f\" %np.mean(slps))\n",
    "        \n",
    "        plt.plot(nvals,lgphi)\n",
    "        plt.xlabel(\"$n$\")\n",
    "        plt.ylabel(\"$\\phi_{n}$\")"
   ]
  },
  {
   "cell_type": "code",
   "execution_count": 74,
   "metadata": {},
   "outputs": [
    {
     "name": "stdout",
     "output_type": "stream",
     "text": [
      "Max Slope is 0.397940008672038\n",
      "Min Slope is 0.301029995663981\n",
      "Mean Slope is 0.361299311086417\n"
     ]
    },
    {
     "data": {
      "image/png": "[encoded data removed]",
      "text/plain": [
       "<Figure size 432x288 with 1 Axes>"
      ]
     },
     "metadata": {
      "needs_background": "light"
     },
     "output_type": "display_data"
    }
   ],
   "source": [
    "rec_relat_gen(1.,3.,1.,2.,40)"
   ]
  },
  {
   "cell_type": "code",
   "execution_count": 75,
   "metadata": {},
   "outputs": [
    {
     "name": "stdout",
     "output_type": "stream",
     "text": [
      "Max Slope is 0.602059991327962\n",
      "Min Slope is -0.301029995663981\n",
      "Mean Slope is 0.435894733592946\n"
     ]
    },
    {
     "data": {
      "image/png": "[encoded data removed]",
      "text/plain": [
       "<Figure size 432x288 with 1 Axes>"
      ]
     },
     "metadata": {
      "needs_background": "light"
     },
     "output_type": "display_data"
    }
   ],
   "source": [
    "rec_relat_gen(-3.,-.5,2.,1.,40)"
   ]
  },
  {
   "cell_type": "markdown",
   "metadata": {},
   "source": [
    "We see that in both cases, the mean of the slopes, which essentially mitigates the effects of the first small values of $n$ in computing the slopes, gives us very good agreement with our analytic predictions.  "
   ]
  },
  {
   "cell_type": "markdown",
   "metadata": {},
   "source": [
    "**Problem 4**: 15pts -  For the integral,\n",
    "$$\n",
    "\\int_{0}^{\\pi/2}\\cos(\\cos(x^{2}))dx, \n",
    "$$\n",
    "use \n",
    "\n",
    "* (7pts) a Taylor series to the third order (i.e. keep up to cubic terms) around $x=0$ to approximate the integral, \n",
    "* (6pts) a Taylor series to the third order chosen appropriately to approximate each integral on the right hand side of the expression\n",
    "\n",
    "$$\n",
    "\\int_{0}^{\\pi/2}\\cos(\\cos(x^{2}))dx = \n",
    "\\int_{0}^{\\pi/6}\\cos(\\cos(x^{2}))dx + \\int_{\\pi/6}^{\\pi/3}\\cos(\\cos(x^{2}))dx + \\int_{\\pi/3}^{\\pi/2}\\cos(\\cos(x^{2}))dx.\n",
    "$$\n",
    "\n",
    "* (2pts) Using NumPy, one can find that \n",
    "$$\n",
    "\\int_{0}^{\\pi/2}\\cos(\\cos(x^{2}))dx =  1.137063808641665\n",
    "$$\n",
    "Find the error in each of your approximations, state which is better, and explain why it is better.  "
   ]
  },
  {
   "cell_type": "markdown",
   "metadata": {},
   "source": [
    "_Answer to Problem 4_"
   ]
  },
  {
   "cell_type": "markdown",
   "metadata": {},
   "source": [
    "We note that for any four term Taylor series of $f(x)$ around $x_{0}$, say $T_{3}(x;x_{0})$, then \n",
    "\n",
    "$$\n",
    "\\int_{x_{0}}^{x} T_{3}(s;x_{0}) ds = f(x_{0})(x-x_{0}) + \\frac{1}{2}f'(x_{0})(x-x_{0})^{2} + \\frac{1}{3!}f''(x_{0})(x-x_{0})^{3} + \\frac{1}{4!}f'''(x_{0})(x-x_{0})^{3}\n",
    "$$\n",
    "\n",
    "so a bit of code should help automate the process for us, though I'll admit I used Alpha in order to find the third derivative of $\\cos(\\cos(x^{2}))$.  \n"
   ]
  },
  {
   "cell_type": "code",
   "execution_count": 7,
   "metadata": {},
   "outputs": [
    {
     "name": "stdout",
     "output_type": "stream",
     "text": [
      "The first approximation is given by: 0.848704877416487\n",
      "The error of the first approximation is given by: 2.9e-01\n",
      "The second approximation is given by: 1.132660746119570\n",
      "The error of the second approximation is given by: 4.4e-03\n"
     ]
    }
   ],
   "source": [
    "def tseries_cmp(x,x0):\n",
    "    ncx = np.cos(x0**2.)\n",
    "    nsx = np.sin(x0**2.)\n",
    "    nscx = np.sin(ncx)\n",
    "    f0 = np.cos(ncx)\n",
    "    f1 = np.sin(ncx)*nsx*2.*x0\n",
    "    f2 = np.sin(ncx)*nsx*2. + (np.sin(ncx)*ncx - np.cos(ncx)*(nsx**2.))*4.*x0**2.\n",
    "    f3 = -24.*x0**3.*ncx*f0*nsx - 12.*x0*f0*nsx**2. + 12.*x0*ncx*nscx - 8.*x0**3.*nsx*nscx - 8.*x0**3.*nsx**3.*nscx\n",
    "    return f0*(x-x0) + f1/2.*(x-x0)**2. + f2/6.*(x-x0)**3. + f3/24.*(x-x0)**4.\n",
    "\n",
    "np6 = np.pi/6.\n",
    "np3 = 2.*np6\n",
    "np2 = np.pi/2.\n",
    "tval = 1.137063808641665\n",
    "\n",
    "app1 = tseries_cmp(np2,0.)\n",
    "app2 = tseries_cmp(np6,0.) + tseries_cmp(np3,np6) + tseries_cmp(np2,np3)\n",
    "\n",
    "print(\"The first approximation is given by: %1.15f\" %app1)\n",
    "print(\"The error of the first approximation is given by: %1.1e\" %np.abs(app1-tval))\n",
    "\n",
    "print(\"The second approximation is given by: %1.15f\" %app2)\n",
    "print(\"The error of the second approximation is given by: %1.1e\" %np.abs(app2-tval))\n"
   ]
  },
  {
   "cell_type": "markdown",
   "metadata": {},
   "source": [
    "As we see, by subdividing the interval into three pieces, we are able to reduce the error from about $.3$ to $.004$, which is a substantial improvement.  "
   ]
  },
  {
   "cell_type": "markdown",
   "metadata": {},
   "source": [
    "**Problem 5**: 10pts - The $(p,q)$ hypergeometric function is defined as \n",
    "$$\n",
    "_{p}F_{q}(a_{1},\\cdots,a_{p};b_{1},\\cdots,b_{q};x) = \\sum_{n=0}^{\\infty} \\frac{\\left(a_{1}\\right)_{n}\\cdots\\left(a_{p}\\right)_{n}}{\\left(b_{1}\\right)_{n}\\cdots\\left(b_{q}\\right)_{n}}\\frac{x^{n}}{n!}\n",
    "$$\n",
    "where $a_{j}\\in \\mathbb{R}$, $b_{l}\\in \\mathbb{R}$ and for any real value $a$ we have the recursion relationship\n",
    "\\begin{align*}\n",
    "(a)_{0} = & 1 \\\\\n",
    "(a)_{n} = & (a+n-1)(a)_{n-1}, ~ n\\geq 1.\n",
    "\\end{align*}\n",
    "So for example, we have that \n",
    "$$\n",
    "_{0}F_{0}(;;x) = \\sum_{n=0}^{\\infty}\\frac{1}{1}\\frac{x^{n}}{n!} = e^{x}, \n",
    "$$\n",
    "and if we have the Bessel function $J_{n}(x)$ where \n",
    "$$\n",
    "J_{n}(x) = \\sum_{m=0}^{\\infty} \\frac{(-1)^{m}}{m! (m+n)!}\\left(\\frac{x}{2} \\right)^{2m + n} = \\frac{1}{n!}\\left(\\frac{x}{2}\\right)^{n}\\sum_{m=0}^{\\infty}\\frac{1}{(n+1)_{m}}\\frac{1}{m!}\\left(\\frac{-x^{2}}{4}\\right)^{m}, \n",
    "$$\n",
    "since\n",
    "\\begin{align*}\n",
    "(m+n)! = & n!(n+1)(n+2)\\cdots(n+m) \\\\\n",
    "= &n!(n+1)(n+1 + 1)\\cdots(n+1+m-1) \\\\\n",
    "= & n!(n+1)_{m},\n",
    "\\end{align*}\n",
    "then we have \n",
    "$$\n",
    "J_{n}(x) = \\frac{1}{n!}\\left(\\frac{x}{2}\\right)^{n}  ~_{0}F_{1}\\left(;n+1;-\\frac{x^{2}}{4}\\right).\n",
    "$$\n",
    "\n",
    "Write a program which computes the $(p,q)$ hypergeometric function.  It should take as input vectors ${\\bf a}$ and ${\\bf b}$ where \n",
    "\\begin{align*}\n",
    "{\\bf a} = & (a_{1},~ a_{2},~ \\cdots,~ a_{p}) \\\\ \n",
    "{\\bf b} = & (b_{1},~ b_{2},~ \\cdots,~ b_{q}) \n",
    "\\end{align*}\n",
    "and an evaluation point $x$.  Note, your program should determine $p$ and $q$ using the length of $a$ and $b$ respectively.  Make sure you vectorize your function.  Make sure you make efficient use of recursion.  Clearly explain the stopping criteria you choose and why you choose it.  Test your code by comparing your results to those you would get using the implementation for the Bessel functions we developed in the lectures.  \n",
    "\n",
    "Then, using NumPy's version of the functions as the _true_ values, numerically prove the identity\n",
    "\n",
    "$$\n",
    "\\sin^{-1}(x) = x \\cdot _{2}F_{1}\\left(\\frac{1}{2},\\frac{1}{2};\\frac{3}{2};x^{2}\\right)\n",
    "$$\n",
    "\n",
    "Generate semi-log plots of the difference of the two functions over meshes on $[-.5,.5]$ and argue why this shows the identities are true.  Note, you may need to adapt your stopping condition to adequately answer this problem.  "
   ]
  },
  {
   "cell_type": "markdown",
   "metadata": {},
   "source": [
    "_Answer to Problem 5_"
   ]
  },
  {
   "cell_type": "markdown",
   "metadata": {},
   "source": [
    "So, we need to figure out the recursion relationship which generates the terms of the hypergeometric function.  Using the recursion relationship already given we see that \n",
    "\n",
    "$$\n",
    "\\frac{a_{n}}{a_{n-1}} = \\frac{x}{n}\\frac{\\prod_{l=1}^{p}(a_{l}+n-1)}{\\prod_{k=1}^{q}(b_{k}+n-1)}\n",
    "$$\n",
    "\n",
    "or\n",
    "\n",
    "$$\n",
    "a_{n}(x) = \\left\\{\\begin{array}{rl} \\frac{x}{n}\\frac{\\prod_{l=1}^{p}(a_{l}+n-1)}{\\prod_{k=1}^{q}(b_{k}+n-1)}a_{n-1}(x) & n\\geq 1 \\\\ 1 & n=0  \\end{array}\\right.\n",
    "$$"
   ]
  },
  {
   "cell_type": "code",
   "execution_count": 35,
   "metadata": {},
   "outputs": [],
   "source": [
    "def bessel_func_vec(x,n,tol):\n",
    "    tot = ((x/2.)**n)/sfactorial(n)\n",
    "    aj = copy(tot)\n",
    "    jj = 1\n",
    "    x2 = -x**2/4.\n",
    "    while np.max(np.abs(aj))>=tol:\n",
    "        aj *= x2/(jj*(n+jj))\n",
    "        tot += aj\n",
    "        jj += 1\n",
    "        \n",
    "    return tot"
   ]
  },
  {
   "cell_type": "code",
   "execution_count": 54,
   "metadata": {},
   "outputs": [],
   "source": [
    "def hypergeo_fun(x,a,b,tol):\n",
    "    tot = np.ones(x.size)\n",
    "    cj = np.ones(x.size)\n",
    "    alen = False\n",
    "    blen = False\n",
    "    jj = 1\n",
    "    \n",
    "    if a.size > 0:\n",
    "        alen = True\n",
    "    if b.size > 0:\n",
    "        blen = True    \n",
    "    \n",
    "    while np.max(np.abs(cj)) >= tol:\n",
    "        cj *= x/jj\n",
    "        if alen:\n",
    "            cj *= np.prod(a + jj-1)\n",
    "        if blen:\n",
    "            cj /= np.prod(b + jj-1)\n",
    "        tot += cj\n",
    "        jj += 1\n",
    "    \n",
    "    return tot"
   ]
  },
  {
   "cell_type": "code",
   "execution_count": 66,
   "metadata": {},
   "outputs": [
    {
     "data": {
      "image/png": "[encoded data removed]",
      "text/plain": [
       "<Figure size 432x288 with 1 Axes>"
      ]
     },
     "metadata": {
      "needs_background": "light"
     },
     "output_type": "display_data"
    }
   ],
   "source": [
    "def bessel_test(x,n,tol):\n",
    "    fb = bessel_func_vec(x,n,tol)\n",
    "    fbhg = ((x/2.)**n)/sfactorial(n)*hypergeo_fun(-(x**2.)/4.,np.array([]),np.array([n+1.]),tol)\n",
    "    plt.plot(x,np.ma.log10(fbhg-fb))\n",
    "    \n",
    "def exp_test(x,n,tol):\n",
    "    fb = np.exp(x)\n",
    "    fbhg = hypergeo_fun(x,np.array([]),np.array([]),tol)\n",
    "    plt.plot(x,np.ma.log10(np.abs(fbhg-fb)))\n",
    "\n",
    "def asin_test(x):\n",
    "    fb = np.arcsin(x)\n",
    "    fbhg1 = x*hypergeo_fun(x**2,np.array([.5,.5]),np.array([3./2.]),1e-4)\n",
    "    fbhg2 = x*hypergeo_fun(x**2,np.array([.5,.5]),np.array([3./2.]),1e-8)\n",
    "    \n",
    "    plt.plot(x,np.ma.log10(np.abs(fb-fbhg1)),color='r',label=\"$tol=10^{-4}$\")\n",
    "    plt.plot(x,np.ma.log10(np.abs(fb-fbhg2)),color='k',label=\"$tol=10^{-8}$\")\n",
    "    plt.xlabel(\"$x$\")\n",
    "    plt.ylabel(\"$Error$\")\n",
    "    plt.legend(loc=(\"best\"))\n",
    "    \n",
    "xvals = np.linspace(0,10,int(1e3)+1)\n",
    "bessel_test(xvals,0,1e-4)"
   ]
  },
  {
   "cell_type": "markdown",
   "metadata": {},
   "source": [
    "Looking at the results from our test comparing the hypergeometric function representation of the Bessel function $J_{0}(x)$ from our implementation from class, we see that even for the relatively large tolerance of $10^{-4}$, the two functions are essentially identical.  So, we can trust our implementation thus far.  "
   ]
  },
  {
   "cell_type": "code",
   "execution_count": 67,
   "metadata": {},
   "outputs": [
    {
     "data": {
      "image/png": "[encoded data removed]",
      "text/plain": [
       "<Figure size 432x288 with 1 Axes>"
      ]
     },
     "metadata": {
      "needs_background": "light"
     },
     "output_type": "display_data"
    }
   ],
   "source": [
    "xvals = np.linspace(-.5,.5,int(1e3)+1)\n",
    "asin_test(xvals)"
   ]
  },
  {
   "cell_type": "markdown",
   "metadata": {},
   "source": [
    "Likewise, for our test of the inverse sin function, we see that by drammatically  reducing the tolerance from $10^{-4}$ to $10^{-8}$ greatly improves the representation of the hypergeometric function representation of the function.  However, for both tolerances, we see that at worst our implementation differs in about the 6th digit relative to NumPy's inverse sin implementation.  Thus we have even more confidence in that our code for the hypergeometric function is correct. "
   ]
  },
  {
   "cell_type": "code",
   "execution_count": null,
   "metadata": {},
   "outputs": [],
   "source": []
  }
 ],
 "metadata": {
  "kernelspec": {
   "display_name": "Python 3",
   "language": "python",
   "name": "python3"
  },
  "language_info": {
   "codemirror_mode": {
    "name": "ipython",
    "version": 3
   },
   "file_extension": ".py",
   "mimetype": "text/x-python",
   "name": "python",
   "nbconvert_exporter": "python",
   "pygments_lexer": "ipython3",
   "version": "3.7.4"
  }
 },
 "nbformat": 4,
 "nbformat_minor": 2
}
