{
 "cells": [
  {
   "cell_type": "code",
   "execution_count": 1,
   "metadata": {},
   "outputs": [],
   "source": [
    "import numpy as np"
   ]
  },
  {
   "cell_type": "markdown",
   "metadata": {},
   "source": [
    "# Assignment 1"
   ]
  },
  {
   "cell_type": "markdown",
   "metadata": {},
   "source": [
    "\n",
    "**Problem 1** - 3 pts each:  Write the solution to the following indefinite integrals using LaTeX.  No credit will be awarded for work turned in in any other format.  Follow the model below.\n",
    "$$\n",
    "\\int \\sin(x) dx = -\\cos(x) + C\n",
    "$$\n",
    "\n",
    "<ol>\n",
    "<li>    $$\n",
    "        \\int \\cos^{2}(4x) dx\n",
    "        $$\n",
    "<li>\n",
    "    $$\n",
    "    \\int \\frac{dt}{1+9t^2}\n",
    "    $$\n",
    "<li>\n",
    "    $$\n",
    "    \\int y^{n} dy\n",
    "    $$"
   ]
  },
  {
   "cell_type": "markdown",
   "metadata": {},
   "source": [
    "_Answers to Problem 1_: Write your answers in the lines below using LaTeX.\n",
    "\n",
    "1.1: \n",
    "$$\n",
    "\\int \\cos^{2}(4x) dx = \\frac{1}{2}\\left(x + \\frac{\\sin(8x)}{8} \\right) + C\n",
    "$$\n",
    "1.2:\n",
    "$$\n",
    "\\int \\frac{dt}{1+9t^2} = \\frac{1}{3}\\tan^{-1}\\left( 3t\\right) + C\n",
    "$$\n",
    "1.3:\n",
    "$$\n",
    "\\int y^{n} dy = \\frac{y^{n+1}}{n+1} + C\n",
    "$$"
   ]
  },
  {
   "cell_type": "markdown",
   "metadata": {},
   "source": [
    "**Problem 2** - 3 pts each: Using the classic result for a geometric series that \n",
    "\n",
    "$$\n",
    "\\sum_{n=0}^{\\infty}x^{n} = \\frac{1}{1-x}, ~ \\left|x\\right|<1,\n",
    "$$\n",
    "\n",
    "find the following sums.  Use the above statement of the sum of a geometric series as a model.  Again, use LaTeX to write your answers.  No credit will be given otherwise. \n",
    "\n",
    "<ol>\n",
    "\n",
    "<li> \n",
    "$$\n",
    "\\sum_{j=0}^{\\infty} 2^{j/3}x^{5j}, ~ |x|<\\frac{1}{2^{1/15}}.\n",
    "$$\n",
    "\n",
    "<li>\n",
    "$$\n",
    "\\sum_{j=0}^{\\infty} \\cos^{3j}(x), ~ 0 < |x| < \\pi.\n",
    "$$\n",
    "\n",
    "<li>\n",
    "$$\n",
    "\\sum_{j=2}^{\\infty} e^{2jx}, ~ x<0. ~ \\mbox{(PAY ATTENTION TO THE LOWER LIMIT ON THE SUM)}\n",
    "$$\n"
   ]
  },
  {
   "cell_type": "markdown",
   "metadata": {},
   "source": [
    "_Answers to Problem 2_: Write your answers below using LaTeX.  Again, use the beginning of the problem statement of Problem 2 as a model for your answers.  \n",
    "\n",
    "2.1: \n",
    "$$\n",
    "\\sum_{j=0}^{\\infty} 2^{j/3}x^{5j} = \\frac{1}{1-2^{1/3}x^{5}}, ~ |x|<\\frac{1}{2^{1/15}}.\n",
    "$$\n",
    "\n",
    "2.2:\n",
    "$$\n",
    "\\sum_{j=0}^{\\infty} \\cos^{3j}(x) = \\frac{1}{1-\\cos^{3}(x)}, ~ 0 < |x| < \\pi.\n",
    "$$\n",
    "\n",
    "2.3:\n",
    "$$\n",
    "\\sum_{j=2}^{\\infty} e^{2jx}=\\frac{e^{4x}}{1-e^{2x}}, ~ x<0. \n",
    "$$\n"
   ]
  },
  {
   "cell_type": "markdown",
   "metadata": {},
   "source": [
    "**Problem 3** 10 pts: So, if you go ask the right kind of people, they will tell you that you can find $\\pi$ via the following limit. \n",
    "\n",
    "$$\n",
    "\\pi = \\lim_{n\\rightarrow\\infty} \\frac{4}{n^{2}}\\sum_{k=0}^{n}\\sqrt{n^{2}-k^{2}}\n",
    "$$\n",
    "\n",
    "So if I give you the following Python function "
   ]
  },
  {
   "cell_type": "code",
   "execution_count": 7,
   "metadata": {},
   "outputs": [],
   "source": [
    "def pi_approx(n):\n",
    "    tot = 0.\n",
    "    nsq = n**2.\n",
    "    for kk in range(0,int(n)+1):\n",
    "        tot += np.sqrt(nsq-kk**2.)\n",
    "    return 4.*tot/nsq"
   ]
  },
  {
   "cell_type": "markdown",
   "metadata": {},
   "source": [
    "using a list and a for loop as in the lecture, determine $\\pi$ to 7-correct digits.    "
   ]
  },
  {
   "cell_type": "code",
   "execution_count": 9,
   "metadata": {},
   "outputs": [
    {
     "name": "stdout",
     "output_type": "stream",
     "text": [
      "Pi=3.3045183\n",
      "Pi=3.1604170\n",
      "Pi=3.1435555\n",
      "Pi=3.1417915\n",
      "Pi=3.1416126\n",
      "Pi=3.1415947\n",
      "Pi=3.1415929\n",
      "Pi=3.1415927\n"
     ]
    }
   ],
   "source": [
    "# Insert your code here. \n",
    "values = [1e1, 1e2, 1e3, 1e4, 1e5, 1e6, 1e7, 1e8]\n",
    "for value in values:\n",
    "    print(\"Pi=%1.7f\"% pi_approx(value))"
   ]
  },
  {
   "cell_type": "markdown",
   "metadata": {},
   "source": [
    "_Provide a justification for your answer using the results from your code here._"
   ]
  },
  {
   "cell_type": "markdown",
   "metadata": {
    "collapsed": true
   },
   "source": [
    "As we see, by letting $n$ range from $10$ to $10^{8}$, we are able to generate a sequence of approximations to $\\pi$.  In particular, we see that by the time $n=10^{8}$, we have converged to  the seven digit approximation $\\pi \\approx 3.141592$ since this repeats the seven digit approximation found from $n=10^{7}$.  Incidentally, we also see that the algorithm we have used to compute digits of $\\pi$ is not terribly efficient.  "
   ]
  },
  {
   "cell_type": "code",
   "execution_count": null,
   "metadata": {},
   "outputs": [],
   "source": []
  }
 ],
 "metadata": {
  "kernelspec": {
   "display_name": "Python 3",
   "language": "python",
   "name": "python3"
  },
  "language_info": {
   "codemirror_mode": {
    "name": "ipython",
    "version": 3
   },
   "file_extension": ".py",
   "mimetype": "text/x-python",
   "name": "python",
   "nbconvert_exporter": "python",
   "pygments_lexer": "ipython3",
   "version": "3.7.1"
  }
 },
 "nbformat": 4,
 "nbformat_minor": 2
}
