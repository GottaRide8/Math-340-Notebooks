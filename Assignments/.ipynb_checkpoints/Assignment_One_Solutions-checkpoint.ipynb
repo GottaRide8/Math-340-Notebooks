{
 "cells": [
  {
   "cell_type": "code",
   "execution_count": 3,
   "metadata": {
    "collapsed": true
   },
   "outputs": [],
   "source": [
    "import numpy as np"
   ]
  },
  {
   "cell_type": "markdown",
   "metadata": {},
   "source": [
    "# Assignment 1"
   ]
  },
  {
   "cell_type": "markdown",
   "metadata": {},
   "source": [
    "\n",
    "**Problem 1** - 3 pts each:  Write the solution to the following indefinite integrals using LaTeX.  No credit will be awarded for work turned in in any other format.  Follow the model below.\n",
    "$$\n",
    "\\int \\sin(x) dx = -\\cos(x) + C\n",
    "$$\n",
    "\n",
    "<ol>\n",
    "<li>    $$\n",
    "        \\int \\sin^{2}(3x) dx\n",
    "        $$\n",
    "<li>\n",
    "    $$\n",
    "    \\int \\frac{dx}{1+4x^2}\n",
    "    $$\n",
    "<li>\n",
    "    $$\n",
    "    \\int x^{n} dx\n",
    "    $$"
   ]
  },
  {
   "cell_type": "markdown",
   "metadata": {},
   "source": [
    "_ Answers to Problem 1 _: Write your answers in the lines below using LaTeX.\n",
    "\n",
    "1.1: \n",
    "$$\n",
    "\\int \\sin^{2}(3x) dx = \\frac{x}{2} + \\frac{1}{12}\\sin(6x) + C\n",
    "$$\n",
    "1.2:\n",
    "$$\n",
    "\\int \\frac{dx}{1+4x^2} = \\frac{1}{2}\\tan^{-1}(2x) + C\n",
    "$$\n",
    "1.3:\n",
    "$$\n",
    "\\int x^{n} dx = \\frac{1}{n+1}x^{n+1} + C\n",
    "$$"
   ]
  },
  {
   "cell_type": "markdown",
   "metadata": {},
   "source": [
    "** Problem 2 ** - 3 pts each: Using the classic result for a geometric series that \n",
    "\n",
    "$$\n",
    "\\sum_{n=0}^{\\infty}x^{n} = \\frac{1}{1-x}, ~ \\left|x\\right|<1,\n",
    "$$\n",
    "\n",
    "find the following sums.  Use the above statement of the sum of a geometric series as a model.  Again, use LaTeX to write your answers.  No credit will be given otherwise. \n",
    "\n",
    "<ol>\n",
    "\n",
    "<li> \n",
    "$$\n",
    "\\sum_{j=0}^{\\infty} 3^{j/2}x^{2j}, ~ |x|<\\frac{1}{3^{1/4}}.\n",
    "$$\n",
    "\n",
    "<li>\n",
    "$$\n",
    "\\sum_{j=0}^{\\infty} \\sin^{3j}(x), ~ |x|<\\frac{\\pi}{2}.\n",
    "$$\n",
    "\n",
    "<li>\n",
    "$$\n",
    "\\sum_{j=1}^{\\infty} e^{2jx}, ~ x<0.\n",
    "$$\n"
   ]
  },
  {
   "cell_type": "markdown",
   "metadata": {},
   "source": [
    "_ Answers to Problem 2 _: Write your answers below using LaTeX.  Again, use beginning of the problem statement of Problem 2 as a model for your answers.  \n",
    "\n",
    "2.1: \n",
    "$$\n",
    "\\sum_{j=0}^{\\infty} 3^{j/2}x^{2j} = \\frac{1}{1-\\sqrt{3}x^{2}}, ~ |x|<\\frac{1}{3^{1/4}}.\n",
    "$$\n",
    "\n",
    "2.2:\n",
    "$$\n",
    "\\sum_{j=0}^{\\infty} \\sin^{3j}(x) = \\frac{1}{1-\\sin^{3}(x)}, ~ |x|<\\frac{\\pi}{2}.\n",
    "$$\n",
    "\n",
    "2.3:\n",
    "$$\n",
    "\\sum_{j=1}^{\\infty} e^{2jx} = \\frac{e^{2x}}{1-e^{2x}}, ~ x<0.\n",
    "$$\n"
   ]
  },
  {
   "cell_type": "markdown",
   "metadata": {},
   "source": [
    "** Problem 3 ** 10 pts: So, if you go ask the right kind of people, they will tell you that you can find $\\pi$ via the following limit. \n",
    "\n",
    "$$\n",
    "\\pi = \\lim_{n\\rightarrow\\infty} \\frac{4}{n^{2}}\\sum_{k=0}^{n}\\sqrt{n^{2}-k^{2}}\n",
    "$$\n",
    "\n",
    "So if I give you the following Python function "
   ]
  },
  {
   "cell_type": "code",
   "execution_count": 4,
   "metadata": {
    "collapsed": true
   },
   "outputs": [],
   "source": [
    "def pi_approx(n):\n",
    "    tot = 0.\n",
    "    for kk in xrange(0,int(n)+1):\n",
    "        tot += np.sqrt(n**2.-kk**2.)\n",
    "    return 4.*tot/n**2."
   ]
  },
  {
   "cell_type": "code",
   "execution_count": 9,
   "metadata": {
    "collapsed": true
   },
   "outputs": [],
   "source": [
    "def pi_approx_quick(n):\n",
    "    tot = 0.\n",
    "    n = int(n)\n",
    "    kvals = np.linspace(0,n,n+1)\n",
    "    tot = np.sum(np.sqrt((n*np.ones(n+1))**2. - kvals**2.))\n",
    "    return 4.*tot/n**2."
   ]
  },
  {
   "cell_type": "markdown",
   "metadata": {},
   "source": [
    "using a list and a for loop as in the lecture, determine $\\pi$ to 7-correct digits.    "
   ]
  },
  {
   "cell_type": "code",
   "execution_count": 11,
   "metadata": {},
   "outputs": [
    {
     "name": "stdout",
     "output_type": "stream",
     "text": [
      "pi = 3.3045183\n",
      "pi = 3.1604170\n",
      "pi = 3.1435555\n",
      "pi = 3.1417915\n",
      "pi = 3.1416126\n",
      "pi = 3.1415947\n",
      "pi = 3.1415929\n",
      "pi = 3.1415927\n"
     ]
    }
   ],
   "source": [
    "Nvals = [1e1,1e2,1e3,1e4,1e5,1e6,1e7,1e8]\n",
    "\n",
    "for val in Nvals:\n",
    "    print \"pi = %1.7f\" %pi_approx_quick(val)"
   ]
  },
  {
   "cell_type": "markdown",
   "metadata": {},
   "source": [
    "_ Provide a justification for your answer using the results from your code here. _"
   ]
  },
  {
   "cell_type": "markdown",
   "metadata": {
    "collapsed": true
   },
   "source": [
    "So, as we see, being careful to print 8 digits so we do not round the 6th (though if this happened in your code, I won't take off credit since I didn't even realize that was going to be a problem).  So, as we clearly see, by taking $n=10^{8}$, we get a steady convergence in the digits of our approximation to $\\pi$.  Since the digit $2$ appears in the 7th place for both $n=10^{7}$ and $n=10^{8}$, we can make a case that our approximation to $\\pi$ has converged to seven digits of accuracy. \n",
    "\n",
    "Incidentally, you will note I used a slightly different version of the function to compute the approximation to $\\pi$.  Keep this in mind.  We will make a big deal out of it shortly.  "
   ]
  }
 ],
 "metadata": {
  "kernelspec": {
   "display_name": "Python 2",
   "language": "python",
   "name": "python2"
  },
  "language_info": {
   "codemirror_mode": {
    "name": "ipython",
    "version": 2
   },
   "file_extension": ".py",
   "mimetype": "text/x-python",
   "name": "python",
   "nbconvert_exporter": "python",
   "pygments_lexer": "ipython2",
   "version": "2.7.13"
  }
 },
 "nbformat": 4,
 "nbformat_minor": 2
}
