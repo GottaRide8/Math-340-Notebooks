{
 "cells": [
  {
   "cell_type": "code",
   "execution_count": 1,
   "metadata": {
    "collapsed": true
   },
   "outputs": [],
   "source": [
    "import numpy as np\n",
    "import matplotlib.pyplot as plt\n",
    "%matplotlib inline"
   ]
  },
  {
   "cell_type": "markdown",
   "metadata": {},
   "source": [
    "** Problem 1 ** - 4 pts each: Using the Taylor series, prove the identities.  For example, given that\n",
    "\n",
    "$$\n",
    "e^{x} = \\sum_{j=0}^{\\infty} \\frac{x^{j}}{j!}\n",
    "$$\n",
    "\n",
    "we can show that \n",
    "\n",
    "$$\n",
    "\\frac{d}{dx}e^{x} = e^{x}\n",
    "$$\n",
    "\n",
    "by seeing that \n",
    "\n",
    "\\begin{align}\n",
    "\\frac{d}{dx}e^{x} = & \\sum_{j=0}^{\\infty} \\frac{d}{dx} \\frac{x^{j}}{j!}\\\\\n",
    "= & \\sum_{j=1}^{\\infty} j\\frac{x^{j-1}}{j!}\\\\\n",
    "= & \\sum_{j=1}^{\\infty} \\frac{x^{j-1}}{(j-1)!}\\\\\n",
    "= & \\sum_{k=0}^{\\infty} \\frac{x^{k}}{k!}, ~ k = j-1\\\\\n",
    "= & e^{x}.\n",
    "\\end{align}\n",
    "\n",
    "Use the TeX provided in the problem statement to help provide the relevant details of your computations.  \n",
    "\n",
    "1a.  Using\n",
    "    $$\n",
    "    \\cos(x) = \\sum_{j=0}^{\\infty}\\frac{(-1)^{j}x^{2j}}{(2j)!}, ~ \\sin(x) = \\sum_{j=0}^{\\infty}\\frac{(-1)^{j}x^{2j+1}}{(2j+1)!}\n",
    "    $$\n",
    "    show \n",
    "    $$\n",
    "    \\frac{d}{dx}\\sin(x) = \\cos(x).\n",
    "    $$\n",
    "    \n",
    "1b. Using, for $|x|<1$ and $|t|<1$ that  \n",
    "    $$\n",
    "    \\frac{1}{1-t} = \\sum_{j=0}^{\\infty}t^{j}, ~ \\tan^{-1}(x) = \\int_{0}^{x}\\frac{dt}{1+t^{2}},\n",
    "    $$\n",
    "    show\n",
    "    $$\n",
    "    \\tan^{-1}(x) = \\sum_{j=0}^{\\infty}(-1)^{j}\\frac{x^{2j+1}}{2j+1}.\n",
    "    $$\n",
    "    Remember, when we have convergence, we have \n",
    "    $$\n",
    "    \\int_{0}^{x} \\sum_{j=0}^{\\infty} f_{j}(t) dt = \\sum_{j=0}^{\\infty} \\int_{0}^{x} f_{j}(t)dt.\n",
    "    $$\n",
    "    Hint:  So, as in lecture, this comes down to using an existing series representation to generate a new expansion.  What I mean by this is that you need to use \n",
    "    $$\n",
    "    \\frac{1}{1+t^{2}} = \\frac{1}{1-(-t^{2})} = \\sum_{j=0}^{\\infty} (-t^{2})^{j} = \\sum_{j=0}^{\\infty}(-1)^{j}t^{2j}.\n",
    "    $$\n",
    "    Thus we get \n",
    "    \\begin{align}\n",
    "    \\tan^{-1}(x)=& \\int_{0}^{x}\\frac{dt}{1+t^{2}} \\\\\n",
    "                =&\\int_{0}^{x} \\sum_{j=0}^{\\infty}(-1)^{j}t^{2j} dt\\\\\n",
    "                =&\\sum_{j=0}^{\\infty} \\int_{0}^{x}(-1)^{j}t^{2j} dt\n",
    "    \\end{align}\n",
    "    I leave the rest to you."
   ]
  },
  {
   "cell_type": "markdown",
   "metadata": {},
   "source": [
    "_ Answers to Problem 1 _"
   ]
  },
  {
   "cell_type": "markdown",
   "metadata": {},
   "source": [
    "** Problem 2 ** - 3 pts each: Find a relationship between the given coefficients.  By this we mean for example that if \n",
    "\n",
    "$$\n",
    "a_{j} = \\frac{1}{j!}, ~ j\\geq 0,\n",
    "$$\n",
    "\n",
    "then we have \n",
    "\n",
    "$$\n",
    "a_{j} = \\left\\{\\begin{array}{rl}  \n",
    "\\frac{a_{j-1}}{j}, & j\\geq 1, \\\\ \n",
    "1, & j=0.\n",
    "\\end{array}\\right.\n",
    "$$\n",
    "\n",
    "Note, another way to think about this is to ask the question, if $a_{j} = 1/j!$ and $a_{j-1} = 1/(j-1)!$, what is the ratio\n",
    "$$\n",
    "\\frac{a_{j}}{a_{j-1}} = \\frac{(j-1)!}{j!} = \\frac{1}{j}.\n",
    "$$\n",
    "\n",
    "2a. \n",
    "$$\n",
    "a_{j} = \\frac{1}{(2j)!}, ~ j\\geq 0.\n",
    "$$\n",
    "So here we want to find the ratio\n",
    "$$\n",
    "\\frac{a_{j}}{a_{j-1}} = \\frac{(2(j-1))!}{(2j)!} \n",
    "$$\n",
    "In order to pull this off, you need to make use of the fact that $j!= j(j-1)!$ which means that \n",
    "\\begin{align}\n",
    "(2j)! = & (2(j-1+1))! \\\\\n",
    "= & (2(j-1)+2)(2(j-1)+1)(2(j-1))! \\\\\n",
    "= & (2j)(2j-1)(2(j-1))!\n",
    "\\end{align}\n",
    "I leave the rest to you.  \n",
    "\n",
    "2b. \n",
    "$$\n",
    "a_{j} = \\frac{2^{j}}{(2j+1)!}, ~ j\\geq 0.\n",
    "$$\n",
    "You need to figure out the ratio\n",
    "$$\n",
    "\\frac{a_{j}}{a_{j-1}} = \\frac{2^{j}(2j-1)!}{2^{j-1}(2j+1)!}\n",
    "$$\n",
    "I leave the rest to you.  \n",
    "\n",
    "2c. \n",
    "$$\n",
    "a_{j}(x) = \\frac{x^{j}}{j!}, ~ j\\geq 0.\n",
    "$$\n",
    "\n",
    "2d. For $n$ a positive integer\n",
    "$$\n",
    "a_{j}(x) = \\frac{1}{j!(n+j)!}\\left(\\frac{x}{2}\\right)^{2j}, ~ j\\geq 0.\n",
    "$$"
   ]
  },
  {
   "cell_type": "markdown",
   "metadata": {},
   "source": [
    "_ Answers to Problem 2 _:"
   ]
  },
  {
   "cell_type": "markdown",
   "metadata": {},
   "source": [
    "** Problem 3 **: 10 pts.  Using the given Python function for computing \n",
    "\n",
    "$$\n",
    "\\cos(x) \\approx T_{2n}(x) = \\sum_{j=0}^{n} (-1)^{j}\\frac{x^{2j}}{(2j)!}\n",
    "$$\n",
    "\n",
    "produce a plot which compares the various Taylor series approximations for $n=1, 2, 3, 4$ over the interval $[-1,3]$.  Describe over which intervals each $T_{2n}(x)$ appears to be a valid approximation and at what point you would describe the approximation as breaking down.  Yes, this is slightly subjective, but it is meant to make you think for a bit.   \n",
    "\n",
    "Use the provided code below as a skeleton with which to produce your plot.  Refer to the notes for help in completing this problem.    "
   ]
  },
  {
   "cell_type": "code",
   "execution_count": 2,
   "metadata": {
    "collapsed": true
   },
   "outputs": [],
   "source": [
    "def tn_approx(x,n):\n",
    "    tot = 1.\n",
    "    term = 1.\n",
    "    for jj in xrange(1,n+1):\n",
    "        term *= -x**2./((2*jj)*(2*jj-1))\n",
    "        tot += term\n",
    "    return tot"
   ]
  },
  {
   "cell_type": "code",
   "execution_count": null,
   "metadata": {
    "collapsed": true
   },
   "outputs": [],
   "source": [
    "xvals = np.linspace(,,int(2e4))\n",
    "\n",
    "ex_vals = np.cos(xvals)\n",
    "\n",
    "t1_app = [tn_approx(xval,1) for xval in xvals]\n",
    "t2_app = [tn_approx(xval,) for xval in xvals]\n",
    "t3_app = [tn_approx(xval,) for xval in xvals]\n",
    "t4_app = [tn_approx(xval,) for xval in xvals]\n",
    "\n",
    "plt.plot(xvals,ex_vals,ls=, color=, label=\"$\\cos(x)$\")\n",
    "plt.plot(xvals,t1_app,ls=, color=, label=)\n",
    "plt.plot(xvals,t2_app,ls=, color=, label=)\n",
    "plt.plot(xvals,t3_app,ls=, color=, label=)\n",
    "plt.plot(xvals,t4_app,ls=, color=, label=)\n",
    "\n",
    "plt.legend(loc=(,))\n",
    "\n",
    "plt.xlim(,)\n",
    "plt.ylim(,)\n",
    "\n",
    "plt.axes().set_aspect(\"equal\")\n",
    "\n",
    "fig=plt.gcf() # get current figure\n",
    "fig.set_size_inches(9,7) # optional size"
   ]
  }
 ],
 "metadata": {
  "kernelspec": {
   "display_name": "Python 2",
   "language": "python",
   "name": "python2"
  },
  "language_info": {
   "codemirror_mode": {
    "name": "ipython",
    "version": 2
   },
   "file_extension": ".py",
   "mimetype": "text/x-python",
   "name": "python",
   "nbconvert_exporter": "python",
   "pygments_lexer": "ipython2",
   "version": "2.7.13"
  }
 },
 "nbformat": 4,
 "nbformat_minor": 2
}
