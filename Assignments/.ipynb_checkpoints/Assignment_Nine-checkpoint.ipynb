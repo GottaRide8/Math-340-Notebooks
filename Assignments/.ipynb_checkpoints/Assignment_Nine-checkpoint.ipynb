{
 "cells": [
  {
   "cell_type": "code",
   "execution_count": 1,
   "metadata": {
    "collapsed": true
   },
   "outputs": [],
   "source": [
    "import numpy as np\n",
    "import matplotlib.pyplot as plt\n",
    "from scipy.sparse import spdiags\n",
    "from scipy.sparse.linalg import spsolve\n",
    "\n",
    "%matplotlib inline"
   ]
  },
  {
   "cell_type": "markdown",
   "metadata": {},
   "source": [
    "** Problem 1 **: 10 pts - For the function\n",
    "\n",
    "$$\n",
    "f(x) = \\frac{x^{2}}{1+x^{4}}, ~ -1 \\leq x \\leq 1\n",
    "$$\n",
    "\n",
    "a) (2pts) Using an equispaced set of $10$ nodes, generate the Lagrange interpolating polynomial to $f(x)$.  Generate a plot which shows how the error in your approximation varies over the interval.  \n",
    "\n",
    "b) (2pts) Using an equispaced set of $20$ nodes, generate the Lagrange interpolating polynomial to $f(x)$.  Generate a plot which shows how the error in your approximation varies over the interval.  \n",
    "\n",
    "c) (2pts) At what number of equispaced nodes does your Lagrange interpolation approximation break down?  \n",
    "\n",
    "d) (4pts) Does using Chebyshev points help resolve the issues you saw in c) ?  Provide examples to verify your claim."
   ]
  },
  {
   "cell_type": "markdown",
   "metadata": {},
   "source": [
    "** Problem 2 **: 10 pts - As mentioned in class, the code below for generating splines is inefficient.  In particular, it performs redundant comparisons of points in order to determine the correct splines to evaluate.  Improve the code by elimininating this redundancy.  Generate examples and associated timings to determine how much time you save."
   ]
  },
  {
   "cell_type": "code",
   "execution_count": 2,
   "metadata": {
    "collapsed": true
   },
   "outputs": [],
   "source": [
    "def spline_maker(xvals,fvals,ivals):\n",
    "    # m = fvals.size\n",
    "    # note, from above, n = m-1\n",
    "    \n",
    "    n = fvals.size - 1\n",
    "    df = fvals[1:]-fvals[0:n]\n",
    "    dx = xvals[1:]-xvals[0:n]\n",
    "    dfdx = df/dx\n",
    "    svals = np.zeros(ivals.size)\n",
    "    \n",
    "    rhs = dfdx[1:] - dfdx[0:n-1]\n",
    "    diag = 2./3.*(dx[1:] + dx[0:n-1])\n",
    "    data = np.array([diag,dx[1:]/3.,dx[0:n-1]/3.])\n",
    "    dvals = np.array([0,-1,1])\n",
    "    Bmat = spdiags(data, dvals, n-1, n-1)\n",
    "    bvec = spsolve(Bmat,rhs)\n",
    "    bvec = np.append(0.,bvec)\n",
    "    \n",
    "    cvec = dfdx - 2./3.*dx*bvec - dx/3.*np.append(bvec[1:],0.)\n",
    "    avec = (dfdx - dx*bvec - cvec)/(dx**2.)\n",
    "    indsold = np.ones(ivals.size,dtype=bool)\n",
    "    for jj in xrange(1,n+1):\n",
    "        \n",
    "        indsnxt = ivals < xvals[jj]\n",
    "        indscur = indsnxt*indsold\n",
    "        \n",
    "        dxloc = ivals[indscur] - xvals[jj-1]\n",
    "        \n",
    "        svals[indscur] = avec[jj-1]*dxloc**3. + bvec[jj-1]*dxloc**2. + cvec[jj-1]*dxloc + fvals[jj-1]\n",
    "        indsold[indscur] = False\n",
    "        \n",
    "    return svals"
   ]
  },
  {
   "cell_type": "markdown",
   "metadata": {},
   "source": [
    "** Problem 3 **: 10pts- Using your improved spline making code, build a quadrature scheme.  What I mean is that if you have nodes $\\left\\{x_{j},f_{j}\\right\\}_{j=0}^{n}$, which generate splines \n",
    "\n",
    "$$\n",
    "S_{j}(x) = a_{j}(x-x_{j})^{3} + b_{j}(x-x_{j})^{2} + c_{j}(x-x_{j}) + d_{j},\n",
    "$$\n",
    "\n",
    "then we can use this to approximate integrals via the formula \n",
    "\n",
    "\\begin{align}\n",
    "\\int_{a}^{b} f(x) dx = & \\sum_{j=0}^{n-1}\\int_{x_{j}}^{x_{j+1}} f(x) dx\\\\\n",
    "\\approx & \\sum_{j=0}^{n-1}\\int_{x_{j}}^{x_{j+1}} S_{j}(x) dx\n",
    "\\end{align}\n",
    "\n",
    "a) (2pts) Find a global formula for your quadrature scheme.  \n",
    "\n",
    "b) (4pts) Write code which takes in node data for a given function over $[a,b]$ and produces an approximation to an integral of said function over an interval $[a,b]$.\n",
    "\n",
    "c) (4pts) Test your code on $f(x)=\\sin(x)$ for $0\\leq x \\leq 1$.  Using this example, determine the order of the error of your method.  Provide a plot and the slope of the associated line to justify your claim.  "
   ]
  },
  {
   "cell_type": "code",
   "execution_count": null,
   "metadata": {
    "collapsed": true
   },
   "outputs": [],
   "source": []
  }
 ],
 "metadata": {
  "kernelspec": {
   "display_name": "Python 2",
   "language": "python",
   "name": "python2"
  },
  "language_info": {
   "codemirror_mode": {
    "name": "ipython",
    "version": 2
   },
   "file_extension": ".py",
   "mimetype": "text/x-python",
   "name": "python",
   "nbconvert_exporter": "python",
   "pygments_lexer": "ipython2",
   "version": "2.7.13"
  }
 },
 "nbformat": 4,
 "nbformat_minor": 2
}
