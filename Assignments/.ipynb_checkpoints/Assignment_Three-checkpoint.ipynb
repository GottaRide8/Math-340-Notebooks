{
 "cells": [
  {
   "cell_type": "code",
   "execution_count": 1,
   "metadata": {},
   "outputs": [],
   "source": [
    "import numpy as np\n",
    "import matplotlib.pyplot as plt\n",
    "import scipy.integrate.quad as spqd\n",
    "%matplotlib inline"
   ]
  },
  {
   "cell_type": "markdown",
   "metadata": {},
   "source": [
    "**Problem 1**: For the integral \n",
    "\n",
    "$$\n",
    "I = \\int_{0}^{\\pi/2}\\sin(\\cos(x)) dx\n",
    "$$\n",
    "\n",
    "<ol>\n",
    "    <li> (1pt) Using `spqd' as in the notes, find a very accurate approximation to $I$.\n",
    "    <li> (3pts) Using the second order Taylor series approximation $T_{2}(x;0)$, find an approximation to $I$.\n",
<<<<<<< Updated upstream
    "    <li> (3pts) Using the fourth order Taylor series approximation $T_{4}(x;0)$, find an approximation to $I$.\n",
=======
    "    <li> (3pts) Using the third order Taylor series approximation $T_{4}(x;0)$, find an approximation to $I$.\n",
>>>>>>> Stashed changes
    "    <li> (3pts) Separating the interval of integration in half, use $T_{2}(x;0)$ and $T_{2}(x;\\pi/4)$ to approximate $I$.\n",
    "</ol>\n",
    "\n",
    "Show all relevant computations and results as well as the code you use to compute everything.  Finally, comment on and compare your results (4pts).  Which was the most accurate Taylor series approximation and why?  Support your argument with plots of the various approximations (4pts) (see the notes for help).  "
   ]
  },
  {
   "cell_type": "markdown",
   "metadata": {},
   "source": [
    "1.1\n",
    "$$\n",
    "\\begin{align}\n",
    "f(x) = & \\sin(\\cos(x))\\\\\n",
    "f(0) = & \\sin(1)\\\\\n",
    "f'(0) = & 0\\\\\n",
    "f''(0) = & -\\cos(1)\n",
    "\\end{align}\n",
    "$$"
   ]
  },
  {
   "cell_type": "code",
   "execution_count": 120,
   "metadata": {},
   "outputs": [
    {
     "name": "stdout",
     "output_type": "stream",
     "text": [
      "0.8932437409750262\n"
     ]
    }
   ],
   "source": [
    "f = lambda x: np.sin(np.cos(x))\n",
    "I = spqd.quad(f, 0., np.pi/2.)[0]\n",
    "print(I)"
   ]
  },
  {
   "cell_type": "markdown",
   "metadata": {},
   "source": [
    "1.2\n",
    "$$\n",
    "\\begin{align}\n",
    "T_{2}(x,0) = & \\int_{0}^{\\pi/2}\\sin(1)+\\frac{-\\cos(1)}{2!}x^{2}dx\\\\\n",
    "= & \\sin(1)x - \\left.\\frac{cos(1)}{3!}x^{3}\\right|_{0}^{\\frac{\\pi}{2}}\\\\\n",
    "= & \\sin(1)\\frac{\\pi}{2} - \\frac{cos(1)}{3!}\\left(\\frac{\\pi}{2}\\right)^{3}\n",
    "\\end{align}\n",
    "$$"
   ]
  },
  {
   "cell_type": "code",
   "execution_count": 127,
   "metadata": {},
   "outputs": [
    {
     "name": "stdout",
     "output_type": "stream",
     "text": [
      "0.9727636406500713\n",
      "Error = 8.9%\n"
     ]
    }
   ],
   "source": [
    "a = np.sin(1.)\n",
    "b = -np.cos(1.)\n",
    "pi2 = np.pi/2.\n",
    "\n",
    "Ia = a*pi2 + b*pi2**3./6.\n",
    "print(Ia)\n",
    "\n",
    "Er_func = lambda x: 100*np.abs((I-x)/I)\n",
    "print('Error = %1.1f%%'%Er_func(Ia))"
   ]
  },
  {
   "cell_type": "markdown",
   "metadata": {},
   "source": [
    "1.3\n",
    "$$\n",
    "\\begin{align}\n",
    "f'''(0) = & 0\\\\\n",
    "f''''(0) = & -3\\sin(1)+\\cos(1)\n",
    "\\end{align}\n",
    "$$"
   ]
  },
  {
   "cell_type": "markdown",
   "metadata": {},
   "source": [
    "$$\n",
    "\\begin{align}\n",
    "T_{4}(X,0) = & \\int_{0}^{\\pi/2}\\sin(1)+\\frac{-\\cos(1)}{2!}x^{2}+\\frac{\\cos(1)-3\\sin(1)}{4!}x^{4}dx\\\\\n",
    "= & \\sin(1)x - \\frac{cos(1)}{3!}x^{3} + \\left.\\frac{\\cos(1)-3\\sin(1)}{5!}x^{5}\\right|_{0}^{\\frac{\\pi}{2}}\\\\\n",
    "= & \\sin(1)\\frac{\\pi}{2} - \\frac{cos(1)}{3!}\\left(\\frac{\\pi}{2}\\right)^{3} + \\frac{\\cos(1)-3\\sin(1)}{5!}\\left(\\frac{\\pi}{2}\\right)^{5}\n",
    "\\end{align}\n",
    "$$"
   ]
  },
  {
   "cell_type": "code",
   "execution_count": 128,
   "metadata": {},
   "outputs": [
    {
     "name": "stdout",
     "output_type": "stream",
     "text": [
      "0.8146446523036938\n",
      "Error = 8.8%\n"
     ]
    }
   ],
   "source": [
    "c = -b-3.*a\n",
    "\n",
    "Ib = a*pi2 + b*pi2**3./6. + c*pi2**5./120.\n",
    "print(Ib)\n",
    "print('Error = %1.1f%%'%Er_func(Ib))"
   ]
  },
  {
   "cell_type": "markdown",
   "metadata": {},
   "source": [
    "1.4\n",
    "$$\n",
    "\\begin{align}\n",
    "f\\left(\\frac{\\pi}{4}\\right) = & \\sin\\left(\\frac{1}{\\sqrt{2}}\\right)\\\\\n",
    "f'\\left(\\frac{\\pi}{4}\\right) = & -\\frac{\\cos\\left(\\frac{1}{\\sqrt{2}}\\right)}{\\sqrt{2}}\\\\\n",
    "f''\\left(\\frac{\\pi}{4}\\right) = & -\\frac{1}{2}\\sin\\left(\\frac{1}{\\sqrt{2}}\\right)-\\frac{\\cos\\left(\\frac{1}{\\sqrt{2}}\\right)}{\\sqrt{2}}\n",
    "\\end{align}\n",
    "$$"
   ]
  },
  {
   "cell_type": "markdown",
   "metadata": {},
   "source": [
    "$$\n",
    "T_{2}(x,0) + T_{2}\\left(x,\\frac{\\pi}{4}\\right)=\\\\\n",
    "\\begin{align}\n",
    "= & \\int_{0}^{\\pi/4}\\sin(1) \n",
    "+ \\frac{-\\cos(1)}{2!}x^{2}dx  \n",
    "+ \\int_{\\frac{\\pi}{4}}^{\\pi/2}\\sin\\left(\\frac{1}{\\sqrt{2}}\\right) \n",
    "+ \\frac{-\\cos\\left(\\frac{1}{\\sqrt{2}}\\right)}{\\sqrt{2}}\\left(x-\\frac{\\pi}{4}\\right) \n",
    "+ \\frac{-\\frac{1}{2}\\sin\\left(\\frac{1}{\\sqrt{2}}\\right)-\\frac{\\cos\\left(\\frac{1}{\\sqrt{2}}\\right)}{\\sqrt{2}}}{2!}\\left(x-\\frac{\\pi}{4}\\right)^{2}dx\\\\\n",
    "= & \\sin(1)x \n",
    "+ \\left.\\frac{-cos(1)}{3!}x^{3}\\right|_{0}^{\\frac{\\pi}{4}} \n",
    "+ \\sin\\left(\\frac{1}{\\sqrt{2}}\\right)\\left(x-\\frac{\\pi}{4}\\right) \n",
    "+ \\frac{-\\frac{\\cos\\left(\\frac{1}{\\sqrt{2}}\\right)}{\\sqrt{2}}}{2!}\\left(x-\\frac{\\pi}{4}\\right)^{2} \n",
    "+ \\left.\\frac{-\\frac{1}{2}\\sin\\left(\\frac{1}{\\sqrt{2}}\\right) - \\frac{\\cos\\left(\\frac{1}{\\sqrt{2}}\\right)}{\\sqrt{2}}}{3!}\\left(x-\\frac{\\pi}{4}\\right)^{3}\\right|_{\\frac{\\pi}{4}}^{\\frac{\\pi}{2}}\\\\\n",
    "= & \\sin(1)\\frac{\\pi}{4} \n",
    "+ \\frac{-cos(1)}{3!}\\left(\\frac{\\pi}{4}\\right)^{3} \n",
    "+ \\sin\\left(\\frac{1}{\\sqrt{2}}\\right)\\left(\\frac{\\pi}{2}-\\frac{\\pi}{4}\\right) \n",
    "+ \\frac{-\\frac{\\cos\\left(\\frac{1}{\\sqrt{2}}\\right)}{\\sqrt{2}}}{2!}\\left(\\frac{\\pi}{2}-\\frac{\\pi}{4}\\right)^{2} \n",
    "+ \\frac{-\\frac{1}{2}\\sin\\left(\\frac{1}{\\sqrt{2}}\\right)-\\frac{\\cos\\left(\\frac{1}{\\sqrt{2}}\\right)}{\\sqrt{2}}}{3!}\\left(\\frac{\\pi}{2}-\\frac{\\pi}{4}\\right)^{3} \n",
    "\\end{align}\n",
    "$$"
   ]
  },
  {
   "cell_type": "code",
   "execution_count": 132,
   "metadata": {},
   "outputs": [
    {
     "name": "stdout",
     "output_type": "stream",
     "text": [
      "0.8920507390897716\n",
      "Error = 0.1%\n"
     ]
    }
   ],
   "source": [
    "sq2 = np.sqrt(2.)\n",
    "usq2 = 1./sq2\n",
    "ab = np.sin(usq2)\n",
    "bb = -np.cos(usq2)*usq2\n",
    "cb = -ab/2.+bb\n",
    "pi4 = np.pi/4\n",
    "\n",
    "Ic1 = a*pi4 + b*pi4**3./6.\n",
    "Ic2 = ab*pi4 + bb*pi4**2./2. + cb*pi4**3./6.\n",
    "Ic = Ic1+Ic2\n",
    "print(Ic)\n",
    "\n",
    "print('Error = %1.1f%%'%Er_func(Ic))"
   ]
  },
  {
   "cell_type": "markdown",
   "metadata": {},
   "source": [
    "1.Discussion\n",
    "\n",
    "1.1 was the closest the computer can estimate:\n",
    "$$\\int_{0}^{\\frac{pi}{2}}\\sin(\\cos(\\frac{\\pi}{2}))dx\\approx0.89324$$\n",
    "1.2 was the second order Taylor Series approximation centered at 0:\n",
    "$$\\int_{0}^{\\frac{pi}{2}}T_{2}(x;0)dx\\approx0.97276$$\n",
    "1.3 was the fourth order Taylor Series approximation centered at 0:\n",
    "$$\\int_{0}^{\\frac{pi}{2}}T_{4}(x;0)dx\\approx0.81464$$\n",
    "1.4 was a combination of the first half of the second order Taylor Series approximation centered at 0, and the second half of the second order taylor Series approximation centered at $\\pi/4$:\n",
    "$$\\int_{0}^{\\frac{pi}{4}}T_{2}(x;0)+\\int_{\\frac{\\pi}{4}}^{\\frac{pi}{2}}T_{2}\\left(x;\\frac{\\pi}{4}\\right)\\approx0.89205$$\n",
    "\n",
    "They had respective errors of:\n",
    "$$\n",
    "\\begin{align}\n",
    "1.2 =& 8.9\\%\\\\\n",
    "1.3 =& 8.8\\%\\\\\n",
    "1.4 =& 0.1\\%\n",
    "\\end{align}\n",
    "$$"
   ]
  },
  {
   "cell_type": "markdown",
   "metadata": {},
   "source": [
    "The graph below shows the non-integrated forms of 1.1-1.4 plotted together. The red lines denote the \"other sides\" of 1.4, the way the functions would have continued past their shared boundary of $\\pi/4$."
   ]
  },
  {
   "cell_type": "code",
   "execution_count": 116,
   "metadata": {},
   "outputs": [
    {
     "data": {
      "text/plain": [
       "<matplotlib.legend.Legend at 0x244b774dbe0>"
      ]
     },
     "execution_count": 116,
     "metadata": {},
     "output_type": "execute_result"
    },
    {
     "data": {
      "image/png": "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\n",
      "text/plain": [
       "<Figure size 432x288 with 1 Axes>"
      ]
     },
     "metadata": {
      "needs_background": "light"
     },
     "output_type": "display_data"
    }
   ],
   "source": [
    "xvals = np.linspace(0.,pi2)\n",
    "xvalsl = np.linspace(0.,pi4)\n",
    "xvalsr = np.linspace(pi4,pi2)\n",
    "\n",
    "\n",
    "T2 = lambda x: a + b*x**2./2.\n",
    "T3 = lambda x: a + b*x**2./2. + c*x**4./24.\n",
    "T4l = twoT\n",
    "T4r = lambda x: ab + bb*(x-pi4) + cb*(x-pi4)**2./2.\n",
    "\n",
    "plt.plot(xvals,[f(val) for val in xvals],color='k',label='$\\sin(cos(x))$')\n",
    "plt.plot(xvals,[T2(val) for val in xvals],ls=\"--\",color='purple',label='$T_{2}(x;0)$')\n",
    "plt.plot(xvals,[T3(val) for val in xvals],ls='--',color='orange',label='$T_{4}(x;0)$')\n",
    "plt.plot(xvalsl,[T4l(val) for val in xvalsl],ls='--',color='green',label='$T_{2}(x;0)$')\n",
    "plt.plot(xvalsr,[T4r(val) for val in xvalsr],ls='--',color='green',label='$T_{2}(x;\\pi/4)$')\n",
    "plt.plot(xvalsr,[T4l(val) for val in xvalsr],ls='--',color='red',label='Not $T_{2}(x;0)$')\n",
    "plt.plot(xvalsl,[T4r(val) for val in xvalsl],ls='--',color='red',label='Not $T_{2}(x;\\pi/4)$')\n",
    "\n",
    "\n",
    "plt.legend()\n",
    "\n",
    "#plt.xlim(0.,np.pi/2.)\n",
    "#plt.ylim(-.2,.9)\n"
   ]
  },
  {
   "cell_type": "markdown",
   "metadata": {},
   "source": [
    "\n",
    "A general understanding of Taylor series alongside these results indicates $$\\int_{0}^{\\frac{pi}{4}}T_{2}(x;0)+\\int_{\\frac{\\pi}{4}}^{\\frac{pi}{2}}T_{2}\\left(x;\\frac{\\pi}{4}\\right)$$ is the best of the three approximations of $$\\int_{0}^{\\frac{pi}{2}}\\sin(\\cos(\\frac{\\pi}{2}))dx$$ "
   ]
  },
  {
   "cell_type": "markdown",
   "metadata": {},
   "source": [
    "**Problem 2**: For the integral \n",
    "\n",
    "$$\n",
    "I = \\int_{0}^{\\pi/2}\\sin(\\cos(x)) dx\n",
    "$$\n",
    "\n",
    "we will now generate approximations using midpoints of intervals.  \n",
    "\n",
    "<ol>\n",
    "    <li> (3pts) Using the second order Taylor series approximation $T_{2}(x;\\pi/4)$, find an approximation to $I$.\n",
    "    <li> (3pts) Using the third order Taylor series approximation $T_{3}(x;\\pi/4)$, find an approximation to $I$.\n",
    "    <li> (3pts) Separating the interval of integration in half, use $T_{2}(x;\\pi/8)$ and $T_{2}(x;3\\pi/8)$ to approximate $I$.\n",
    "</ol>\n",
    "\n",
    "Show all relevant computations and results as well as the code you use to compute everything.  Finally, comment on and compare your results (4pts).  Which was the most accurate Taylor series approximation and why?  Support your argument with plots of the various approximations (4pts) (see the notes for help).  "
   ]
  },
  {
   "cell_type": "markdown",
   "metadata": {},
   "source": [
    "2.1\n",
    "$$\n",
    "\\begin{align}\n",
    "f\\left(\\frac{\\pi}{4}\\right) = & \\sin\\left(\\frac{1}{\\sqrt{2}}\\right)\\\\\n",
    "f'\\left(\\frac{\\pi}{4}\\right) = & -\\frac{\\cos\\left(\\frac{1}{\\sqrt{2}}\\right)}{\\sqrt{2}}\\\\\n",
    "f''\\left(\\frac{\\pi}{4}\\right) = & -\\frac{1}{2}\\sin\\left(\\frac{1}{\\sqrt{2}}\\right)-\\frac{\\cos\\left(\\frac{1}{\\sqrt{2}}\\right)}{\\sqrt{2}}\n",
    "\\end{align}\n",
    "$$"
   ]
  },
  {
   "cell_type": "markdown",
   "metadata": {},
   "source": [
    "$$\n",
    "\\begin{align}\n",
    "T_{2}(x,\\frac{\\pi}{4})= &\\\\\n",
    "= &\\int_{0}^{\\pi/2}\\sin\\left(\\frac{1}{\\sqrt{2}}\\right) \n",
    "+ \\frac{-\\cos\\left(\\frac{1}{\\sqrt{2}}\\right)}{\\sqrt{2}}\\left(x-\\frac{\\pi}{4}\\right) dx\n",
    "+ \\frac{-\\frac{1}{2}\\sin\\left(\\frac{1}{\\sqrt{2}}\\right)-\\frac{\\cos\\left(\\frac{1}{\\sqrt{2}}\\right)}{\\sqrt{2}}}{2!}\\left(x-\\frac{\\pi}{4}\\right)^{2}dx\\\\\n",
    "= &\\sin\\left(\\frac{1}{\\sqrt{2}}\\right)\\left(x-\\frac{\\pi}{4}\\right) \n",
    "+ \\frac{-\\frac{\\cos\\left(\\frac{1}{\\sqrt{2}}\\right)}{\\sqrt{2}}}{2!}\\left(x-\\frac{\\pi}{4}\\right)^{2} \n",
    "+ \\left.\\frac{-\\frac{1}{2}\\sin\\left(\\frac{1}{\\sqrt{2}}\\right) - \\frac{\\cos\\left(\\frac{1}{\\sqrt{2}}\\right)}{\\sqrt{2}}}{3!}\\left(x-\\frac{\\pi}{4}\\right)^{3}\\right|_{0}^{\\frac{\\pi}{2}}\\\\\n",
    "= & \\sin\\left(\\frac{1}{\\sqrt{2}}\\right)\\left(\\frac{\\pi}{2}-\\frac{\\pi}{4}\\right) \n",
    "+ \\frac{-\\frac{\\cos\\left(\\frac{1}{\\sqrt{2}}\\right)}{\\sqrt{2}}}{2!}\\left(\\frac{\\pi}{2}-\\frac{\\pi}{4}\\right)^{2} \n",
    "+ \\frac{-\\frac{1}{2}\\sin\\left(\\frac{1}{\\sqrt{2}}\\right)-\\frac{\\cos\\left(\\frac{1}{\\sqrt{2}}\\right)}{\\sqrt{2}}}{3!}\\left(\\frac{\\pi}{2}-\\frac{\\pi}{4}\\right)^{3}\n",
    "\\end{align}\n",
    "$$"
   ]
  },
  {
   "cell_type": "code",
   "execution_count": 114,
   "metadata": {},
   "outputs": [
    {
     "name": "stdout",
     "output_type": "stream",
     "text": [
      "0.2747879594932398\n"
     ]
    }
   ],
   "source": [
    "Iaa = ab*pi4 + bb*pi4**2./2. + cb*pi4**3./6.\n",
    "print(Iaa)"
   ]
  },
  {
   "cell_type": "markdown",
   "metadata": {},
   "source": [
    "2.2\n",
    "$$\n",
    "f'''\\left(\\frac{\\pi}{4}\\right) = \\frac{\\frac{3}{2}\\cos{\\left(\\frac{1}{\\sqrt{2}}\\right)}-\\frac{3\\sin{\\left(\\frac{1}{\\sqrt{2}}\\right)}}{\\sqrt{2}}}{\\sqrt{2}}\n",
    "$$"
   ]
  },
  {
   "cell_type": "markdown",
   "metadata": {},
   "source": [
    "$$\n",
    "\\begin{align}\n",
    "T_{3}(x,\\frac{\\pi}{4})= &\\\\\n",
    "= &\\int_{0}^{\\pi/2}\\sin\\left(\\frac{1}{\\sqrt{2}}\\right) \n",
    "+ \\frac{-\\cos\\left(\\frac{1}{\\sqrt{2}}\\right)}{\\sqrt{2}}\\left(x-\\frac{\\pi}{4}\\right) dx\n",
    "+ \\frac{-\\frac{1}{2}\\sin\\left(\\frac{1}{\\sqrt{2}}\\right)-\\frac{\\cos\\left(\\frac{1}{\\sqrt{2}}\\right)}{\\sqrt{2}}}{2!}\\left(x-\\frac{\\pi}{4}\\right)^{2}\n",
    "+ \\frac{\\frac{\\frac{3}{2}\\cos{\\left(\\frac{1}{\\sqrt{2}}\\right)}-\\frac{3\\sin{\\left(\\frac{1}{\\sqrt{2}}\\right)}}{\\sqrt{2}}}{\\sqrt{2}}}{3!}\\left(x-\\frac{\\pi}{4}\\right)^{3} dx\\\\\n",
    "= &\\sin\\left(\\frac{1}{\\sqrt{2}}\\right)\\left(x-\\frac{\\pi}{4}\\right) \n",
    "+ \\frac{-\\frac{\\cos\\left(\\frac{1}{\\sqrt{2}}\\right)}{\\sqrt{2}}}{2!}\\left(x-\\frac{\\pi}{4}\\right)^{2} \n",
    "+ \\left.\\frac{-\\frac{1}{2}\\sin\\left(\\frac{1}{\\sqrt{2}}\\right) - \\frac{\\cos\\left(\\frac{1}{\\sqrt{2}}\\right)}{\\sqrt{2}}}{3!}\\left(x-\\frac{\\pi}{4}\\right)^{3}\n",
    "+ \\frac{\\frac{\\frac{3}{2}\\cos{\\left(\\frac{1}{\\sqrt{2}}\\right)}-\\frac{3\\sin{\\left(\\frac{1}{\\sqrt{2}}\\right)}}{\\sqrt{2}}}{\\sqrt{2}}}{4!}\\left(x-\\frac{\\pi}{4}\\right)^{4}\\right|_{0}^{\\frac{\\pi}{2}}\\\\\n",
    "= & \\sin\\left(\\frac{1}{\\sqrt{2}}\\right)\\left(\\frac{\\pi}{2}-\\frac{\\pi}{4}\\right) \n",
    "+ \\frac{-\\frac{\\cos\\left(\\frac{1}{\\sqrt{2}}\\right)}{\\sqrt{2}}}{2!}\\left(\\frac{\\pi}{2}-\\frac{\\pi}{4}\\right)^{2} \n",
    "+ \\frac{-\\frac{1}{2}\\sin\\left(\\frac{1}{\\sqrt{2}}\\right)-\\frac{\\cos\\left(\\frac{1}{\\sqrt{2}}\\right)}{\\sqrt{2}}}{3!}\\left(\\frac{\\pi}{2}-\\frac{\\pi}{4}\\right)^{3}\n",
    "+ \\frac{\\frac{\\frac{3}{2}\\cos{\\left(\\frac{1}{\\sqrt{2}}\\right)}-\\frac{3\\sin{\\left(\\frac{1}{\\sqrt{2}}\\right)}}{\\sqrt{2}}}{\\sqrt{2}}}{4!}\\left(\\frac{\\pi}{2}-\\frac{\\pi}{4}\\right)^{4}\n",
    "\\end{align}\n",
    "$$"
   ]
  },
  {
   "cell_type": "code",
   "execution_count": 79,
   "metadata": {},
   "outputs": [
    {
     "name": "stdout",
     "output_type": "stream",
     "text": [
      "0.2683784926583823\n"
     ]
    }
   ],
   "source": [
    "db = ((3*-bb/2)-(3*ab*usq2))*usq2\n",
    "\n",
    "Iab = lambda x: ab*(x-pi4) + bb*(x-pi4)**2./2. + cb*(x-pi4)**3./6. + db*(x-pi4)**4/24\n",
    "print(Iab(pi2))"
   ]
  },
  {
   "cell_type": "markdown",
   "metadata": {},
   "source": [
    "2.3\n"
   ]
  },
  {
   "cell_type": "code",
   "execution_count": null,
   "metadata": {},
   "outputs": [],
   "source": []
  },
  {
   "cell_type": "markdown",
   "metadata": {},
   "source": [
    "_Discussion and Plots for Problem 2_"
   ]
  },
  {
   "cell_type": "code",
   "execution_count": null,
   "metadata": {},
   "outputs": [],
   "source": []
  }
 ],
 "metadata": {
  "kernelspec": {
   "display_name": "Python 3",
   "language": "python",
   "name": "python3"
  },
  "language_info": {
   "codemirror_mode": {
    "name": "ipython",
    "version": 3
   },
   "file_extension": ".py",
   "mimetype": "text/x-python",
   "name": "python",
   "nbconvert_exporter": "python",
   "pygments_lexer": "ipython3",
<<<<<<< Updated upstream
   "version": "3.9.7"
=======
   "version": "3.8.5"
>>>>>>> Stashed changes
  }
 },
 "nbformat": 4,
 "nbformat_minor": 5
}
