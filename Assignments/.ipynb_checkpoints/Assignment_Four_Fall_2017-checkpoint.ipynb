{
 "cells": [
  {
   "cell_type": "code",
   "execution_count": 25,
   "metadata": {
    "collapsed": true
   },
   "outputs": [],
   "source": [
    "import numpy as np\n",
    "import matplotlib.pyplot as plt\n",
    "from time import time \n",
    "%matplotlib inline"
   ]
  },
  {
   "cell_type": "markdown",
   "metadata": {},
   "source": [
    "** Problem 1 **: 7 pts- Using\n",
    "\n",
    "$$\n",
    "\\cos(x) = \\sum_{j=0}^{\\infty}\\frac{(-1)^{j}}{(2j)!}x^{2j},\n",
    "$$\n",
    "\n",
    "and \n",
    "\n",
    "$$\n",
    "\\cos^{2}(x) = \\frac{1}{2}\\left(1 + \\cos(2x) \\right)\n",
    "$$\n",
    "\n",
    "derive a Taylor series for $\\cos^{2}(x)$ around $x=0$.  Write a code which computes the Taylor series of $\\cos^{2}(x)$ using recursion, vectorization, and a tolerance based while loop approach.(4pts)  On the interval $[0,\\pi]$, plot the semi-log error in your approximation for tolerance values $10^{-4}$, $10^{-6}$, and $10^{-8}$. Describe your graphs and comment on any trends you observe.(3pts)"
   ]
  },
  {
   "cell_type": "markdown",
   "metadata": {},
   "source": [
    "So as we see from the figure, the error in our approximation decreases as we lower the tolerance, though the error in the approximation is on the order of $10^{-16}$ for $0\\leq x \\leq 1.4$, and we see by $tol=10^{-8}$ that the error only goes up to $10^{-10}$ for $x\\approx \\pi$.  "
   ]
  },
  {
   "cell_type": "markdown",
   "metadata": {},
   "source": [
    "** Problem 2 **: 7 pts- An important function in physics is the Airy function given by the Taylor Series\n",
    "\n",
    "$$\n",
    "y_{1}(x) = 1 + \\sum_{m=1}^{\\infty}c_{m}x^{3m}, ~ c_{m} = \\prod_{l=1}^{m} \\frac{1}{(3l-1)(3l)}.\n",
    "$$\n",
    "\n",
    "Note the coefficients $c_{m}$ follow the pattern\n",
    "\n",
    "\\begin{align}\n",
    "c_{1} = & \\prod_{l=1}^{1} \\frac{1}{(3l-1)(3l)} = \\frac{1}{2\\cdot 3}\\\\\n",
    "c_{2} = & \\prod_{l=1}^{2} \\frac{1}{(3l-1)(3l)} = \\frac{1}{2\\cdot 3 \\cdot 5 \\cdot 6}\n",
    "\\end{align}\n",
    "\n",
    "Using recursion, vectorization, and a tolerance based while loop approach, write a code which makes two separate plots, one for $-L_{x}\\leq x \\leq 0$ and one for $0\\leq x \\leq L_{x}$, where $L_{x}$ is a user specified value (4pts).  Provide plots for $L_{x}=5,15$ and for tolerances $10^{-8}$ and $10^{-10}$. and describe the phenomena you see in the eight different plots. (3pts)"
   ]
  },
  {
   "cell_type": "markdown",
   "metadata": {},
   "source": [
    "_ Answers to Problem 2 _"
   ]
  },
  {
   "cell_type": "markdown",
   "metadata": {},
   "source": [
    "** Problem 3 **: 5 pts- If we list all the natural numbers below 10 that are multiples of 3 or 5, we get 3, 5, 6, and 9.  The sum of these multiples is 23.  Find the sum of all multiples of 3 or 5 below 100.  Note, you will need to make use of the mod command `%`, which in effect finds remainders from division.  Note the use below.  "
   ]
  },
  {
   "cell_type": "code",
   "execution_count": 4,
   "metadata": {},
   "outputs": [
    {
     "name": "stdout",
     "output_type": "stream",
     "text": [
      "1\n",
      "0\n",
      "1\n",
      "0\n",
      "\n",
      "1\n",
      "2\n",
      "3\n",
      "4\n",
      "0\n"
     ]
    }
   ],
   "source": [
    "print 1%2\n",
    "print 2%2\n",
    "print 3%2\n",
    "print 4%2\n",
    "print\n",
    "print 11%5\n",
    "print 12%5\n",
    "print 13%5\n",
    "print 14%5\n",
    "print 15%5"
   ]
  },
  {
   "cell_type": "markdown",
   "metadata": {},
   "source": [
    "_ Answer to Problem 3 _  "
   ]
  },
  {
   "cell_type": "markdown",
   "metadata": {},
   "source": [
    "** Problem 4 **: - For the terms in the Fibonacci sequence that are less than four million, what is the sum of all the even terms in the Fibonacci sequence?  "
   ]
  },
  {
   "cell_type": "markdown",
   "metadata": {},
   "source": [
    "_ Answer to Problem 4 _"
   ]
  },
  {
   "cell_type": "markdown",
   "metadata": {},
   "source": [
    "** Problem 5 **: - Using a for loop based approach, write a program which finds \n",
    "\n",
    "$$\n",
    "\\sum_{j=1}^{n} \\left(j^{4} + 3j^{2} \\right)\n",
    "$$\n",
    "\n",
    "for any n.  Give the answers for $n=10$, $43$, and $72$.  "
   ]
  },
  {
   "cell_type": "markdown",
   "metadata": {},
   "source": [
    "_ Answer to Problem 5 _"
   ]
  },
  {
   "cell_type": "markdown",
   "metadata": {
    "collapsed": true
   },
   "source": [
    "** Problem 6 **: Using a vectorized approach, which means no explicit for loops, write a program which finds \n",
    "\n",
    "$$\n",
    "\\sum_{j=1}^{n} \\left(j^{4} + 3j^{2} \\right)\n",
    "$$\n",
    "\n",
    "for any n.  Using `time()`, run several different tests to determine how much faster your code is than that used in the previous problem.  For what value of $n$ do you finally see a significant difference in time?    "
   ]
  },
  {
   "cell_type": "markdown",
   "metadata": {},
   "source": [
    "_ Answer to Problem 6 _"
   ]
  },
  {
   "cell_type": "code",
   "execution_count": null,
   "metadata": {
    "collapsed": true
   },
   "outputs": [],
   "source": []
  }
 ],
 "metadata": {
  "kernelspec": {
   "display_name": "Python 2",
   "language": "python",
   "name": "python2"
  },
  "language_info": {
   "codemirror_mode": {
    "name": "ipython",
    "version": 2
   },
   "file_extension": ".py",
   "mimetype": "text/x-python",
   "name": "python",
   "nbconvert_exporter": "python",
   "pygments_lexer": "ipython2",
   "version": "2.7.15"
  }
 },
 "nbformat": 4,
 "nbformat_minor": 2
}
