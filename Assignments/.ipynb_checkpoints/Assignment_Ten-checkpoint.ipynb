{
 "cells": [
  {
   "cell_type": "markdown",
   "metadata": {},
   "source": [
    "** Problem 1 **: 10pts - Write a program which produces two separate plots of the frequency with which consonants and vowels appear in a given body of text.  Do this for both 'beyonce.txt' and 'juliet.txt'.  "
   ]
  },
  {
   "cell_type": "markdown",
   "metadata": {},
   "source": [
    "**Problem 2**: 10pts -  Write a program that lets you search for a given word in a text file and replace that word with another of your choosing and print out the modified line.  For 'beyonce.txt', replace \"fire\" with \"flames\", and for 'juliet.txt', replace \"Romeo\" with \"Mortimer\"."
   ]
  },
  {
   "cell_type": "code",
   "execution_count": null,
   "metadata": {
    "collapsed": true
   },
   "outputs": [],
   "source": []
  }
 ],
 "metadata": {
  "kernelspec": {
   "display_name": "Python 2",
   "language": "python",
   "name": "python2"
  },
  "language_info": {
   "codemirror_mode": {
    "name": "ipython",
    "version": 2
   },
   "file_extension": ".py",
   "mimetype": "text/x-python",
   "name": "python",
   "nbconvert_exporter": "python",
   "pygments_lexer": "ipython2",
   "version": "2.7.13"
  }
 },
 "nbformat": 4,
 "nbformat_minor": 2
}
