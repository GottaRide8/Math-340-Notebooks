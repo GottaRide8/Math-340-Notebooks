{
 "cells": [
  {
   "cell_type": "code",
   "execution_count": 3,
   "metadata": {
    "collapsed": true
   },
   "outputs": [],
   "source": [
    "import numpy as np\n",
    "import matplotlib.pyplot as plt\n",
    "%matplotlib inline"
   ]
  },
  {
   "cell_type": "markdown",
   "metadata": {},
   "source": [
    "** Problem 1** 15pts: \n",
    "    \n",
    "1a) 3pts - In NumPy, create an array of points between $-4$ and $10.423$ with spacing $.0345$.  If you can not do this exactly, how close can you get?  \n",
    "\n",
    "1b) 3pts - Using vectorization, plot $f(x) = 4x^{5} + 2x^{3} + 1$ for $-3\\leq x \\leq 10.875$.  Make sure your graph is labeled.   \n",
    "\n",
    "1c) 3pts - Using vectorization, find the limit as $n\\rightarrow \\infty$ of the function $f(n)$ where  \n",
    "\n",
    "$$\n",
    "f(n) = \\frac{1}{n}\\sum_{j=0}^{n}\\left(3\\left(\\frac{j}{n}\\right)^{3} + 2\\left(\\frac{j}{n}\\right)^{2} + 1\\right)\n",
    "$$\n",
    "\n",
    "Provide a plot to support your answer.  \n",
    "\n",
    "1d) 3pts - For the integers less than 4000, what is the sum of those numbers which are divisible by 7, 9, or 23?  \n",
    "\n",
    "1e) 3pts - For the recurrence relation\n",
    "\n",
    "$$\n",
    "p_{n} = -3p_{n-3} + p_{n-1}, ~ n\\geq 3, \n",
    "$$\n",
    "\n",
    "where \n",
    "\n",
    "$$\n",
    "p_{0}= .5, ~ p_{1}=2.1, ~ p_{2} = .135,\n",
    "$$\n",
    "\n",
    "plot $p_{n}$ for $0\\leq n \\leq 200$?"
   ]
  },
  {
   "cell_type": "markdown",
   "metadata": {},
   "source": [
    "_ Answer to Problem 1 _"
   ]
  },
  {
   "cell_type": "markdown",
   "metadata": {},
   "source": [
    "** Problem 2 **: 15pts - Given the function\n",
    "\n",
    "$$\n",
    "y(x) = \\sum_{l=0}^{\\infty} \\frac{(-1)^{l}x^{2l}}{3^{l}l!}\n",
    "$$\n",
    "\n",
    "2a) 6pts - Determine a recurrence relation between the coefficients.\n",
    "\n",
    "2b) 6pts - In Python, develop a tolerance based, recursive, vectorized implementation of this function.  \n",
    "\n",
    "2c) 3pts - Plot this function on the interval $[0,5]$ for tolerances $10^{-6}$ and $10^{-8}$.  Comment on any phenomena you see.  Make sure graphs are labeled, have a legend, and are well sized.  "
   ]
  },
  {
   "cell_type": "markdown",
   "metadata": {},
   "source": [
    "_ Answer to Problem 2 _"
   ]
  },
  {
   "cell_type": "code",
   "execution_count": 4,
   "metadata": {
    "collapsed": true
   },
   "outputs": [],
   "source": [
    "def weird_fun(x,tol):\n",
    "    tot = np.ones(x.size)\n",
    "    al = np.ones(x.size)\n",
    "    xfac = -x**2./3.\n",
    "    ll = 1\n",
    "    while np.max(np.abs(al))>=tol:\n",
    "        al *= xfac/ll\n",
    "        tot += al\n",
    "        ll += 1\n",
    "    return tot"
   ]
  },
  {
   "cell_type": "code",
   "execution_count": 7,
   "metadata": {},
   "outputs": [
    {
     "data": {
      "text/plain": [
       "[<matplotlib.lines.Line2D at 0x7e95588>]"
      ]
     },
     "execution_count": 7,
     "metadata": {},
     "output_type": "execute_result"
    },
    {
     "data": {
      "image/png": "[encoded data removed]",
      "text/plain": [
       "<matplotlib.figure.Figure at 0x7e95f28>"
      ]
     },
     "metadata": {},
     "output_type": "display_data"
    }
   ],
   "source": [
    "xvals = np.linspace(0.,5.,int(1e3)+1)\n",
    "yvals1 = weird_fun(xvals,1e-6)\n",
    "yvals2 = weird_fun(xvals,1e-8)\n",
    "plt.plot(xvals,yvals1,ls='-',color='k')\n",
    "plt.plot(xvals,yvals2,ls='-.',color='r')\n",
    "plt.xlabel('$x$')\n",
    "plt.ylabel('$y(x)$')"
   ]
  },
  {
   "cell_type": "markdown",
   "metadata": {},
   "source": [
    "** Problem 3 **: 15pts - Given the function\n",
    "\n",
    "$$\n",
    "y(x) = \\cos^{3}(x),\n",
    "$$\n",
    "\n",
    "3a) 6pts - Use \n",
    "\n",
    "$$\n",
    "\\cos^{2}(x) = \\frac{1 + \\cos(2x)}{2},\n",
    "$$, \n",
    "\n",
    "since $\\cos^{3}(x) = \\cos(x)\\cos^{2}(x)$, and \n",
    "\n",
    "$$\n",
    "\\cos(x)\\cos(2x) = \\frac{1}{2}\\left(\\cos(3x) + \\cos(x)\\right)\n",
    "$$\n",
    "\n",
    "to find a Taylor series around $x_{0}=0$ of $\\cos^{3}(x)$.  \n",
    "\n",
    "3b) 6pts - In Python, develop a tolerance based, recursive, vectorized implementation of this function.  \n",
    "\n",
    "3c) 3pts - Plot this function on the interval $[0,\\pi]$.  Provide log plots of the error in your approximation for tolerance values $10^{-2}$, $10^{-4}$, and $10^{-8}$.  Comment on the behavior of your approximations for increasing values of $x$ and for decreasing tolerances.  Note graphs should be well labeled, with legends, and well sized.  "
   ]
  },
  {
   "cell_type": "markdown",
   "metadata": {},
   "source": [
    "_ Answer to Problem 3 _"
   ]
  },
  {
   "cell_type": "markdown",
   "metadata": {},
   "source": [
    "** Problem 4**: 15pts - Given that \n",
    "\n",
    "$$\n",
    "e^{t} = \\sum_{j=0}^{\\infty}\\frac{t^{j}}{j!}\n",
    "$$\n",
    "\n",
    "4a) 6pts - Using the Taylor series given, develop a tolerance based, recursive, vectorized program which computes the error function $erf(x)$ where\n",
    "\n",
    "$$\n",
    "erf(x) = \\frac{2}{\\sqrt{\\pi}}\\int_{0}^{x} e^{-t^{2}}dt.\n",
    "$$\n",
    "\n",
    "4b) 6pts - Plot this function for $0\\leq x \\leq L_{x}$ for $L_{x}=5,6$.  How does changing your tolerance affect these plots?  Labels and legends as always for the graphs.  \n",
    "\n",
    "4c) 3pts - Can you infer a trend as $x\\rightarrow \\infty$ for $erf(x)$?"
   ]
  },
  {
   "cell_type": "markdown",
   "metadata": {},
   "source": [
    "_ Answer to Problem 4 _"
   ]
  },
  {
   "cell_type": "code",
   "execution_count": null,
   "metadata": {
    "collapsed": true
   },
   "outputs": [],
   "source": []
  }
 ],
 "metadata": {
  "kernelspec": {
   "display_name": "Python [default]",
   "language": "python",
   "name": "python2"
  },
  "language_info": {
   "codemirror_mode": {
    "name": "ipython",
    "version": 2
   },
   "file_extension": ".py",
   "mimetype": "text/x-python",
   "name": "python",
   "nbconvert_exporter": "python",
   "pygments_lexer": "ipython2",
   "version": "2.7.13"
  }
 },
 "nbformat": 4,
 "nbformat_minor": 2
}
