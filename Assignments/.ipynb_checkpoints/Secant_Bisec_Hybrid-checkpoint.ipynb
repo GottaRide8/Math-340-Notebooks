{
 "cells": [
  {
   "cell_type": "code",
   "execution_count": 11,
   "metadata": {
    "collapsed": true
   },
   "outputs": [],
   "source": [
    "import numpy as np\n",
    "import matplotlib.pyplot as plt\n",
    "%matplotlib inline"
   ]
  },
  {
   "cell_type": "code",
   "execution_count": 42,
   "metadata": {},
   "outputs": [],
   "source": [
    "def secant_method(x0,x1,f,tolsm,tolslp):\n",
    "    f0 = f(x0)\n",
    "    f1 = f(x1)\n",
    "    Flag = True\n",
    "    slp = (f1-f0)/(x1-x0)\n",
    "    if np.abs(slp)<=tolslp:\n",
    "            Flag = False\n",
    "            return [np.array([x0,x1]),Flag]\n",
    "    x2 = x1 - f1/slp\n",
    "    \n",
    "    while np.abs(x2-x1) > tolsm and f1>tolsm:\n",
    "        x0 = x1\n",
    "        x1 = x2\n",
    "        f0 = f1\n",
    "        f1 = f(x1)\n",
    "        slp = (f1-f0)/(x1-x0)\n",
    "        if np.abs(slp)<=tolslp:\n",
    "            Flag = False\n",
    "            return [np.array([x0,x1]),Flag]\n",
    "        x2 = x1 - f1/slp\n",
    "    return [x2,Flag]"
   ]
  },
  {
   "cell_type": "code",
   "execution_count": 43,
   "metadata": {
    "collapsed": true
   },
   "outputs": [],
   "source": [
    "def bisec_method(a,b,f,tolbsc):\n",
    "    fa,fb = f(a),f(b)\n",
    "    c = (a+b)/2.\n",
    "    fc = f(c)\n",
    "    while np.abs(fc)>=tolbsc:\n",
    "        if fa*fc < 0.:\n",
    "            b = c\n",
    "        else:\n",
    "            a = c\n",
    "            fa = f(a)\n",
    "        c = (a+b)/2.\n",
    "        fc = f(c)\n",
    "    return c"
   ]
  },
  {
   "cell_type": "code",
   "execution_count": 67,
   "metadata": {
    "collapsed": true
   },
   "outputs": [],
   "source": [
    "def root_finder(x0,x1,f,fp,tolsm,tolbsc,tolslp):\n",
    "    sec_res = secant_method(x0,x1,f,tolsm,tolslp)\n",
    "    if sec_res[1]:\n",
    "        return sec_res[0]\n",
    "    else:\n",
    "        if sec_res[0][0] > sec_res[0][1]:\n",
    "            a = sec_res[0][1]\n",
    "            b = sec_res[0][0]\n",
    "        else:\n",
    "            a = sec_res[0][0]\n",
    "            b = sec_res[0][1]    \n",
    "        \n",
    "        fa,fb = f(a),f(b)\n",
    "        fpa,fpb = fp(a),fp(b)\n",
    "        if fa*fb<0:\n",
    "            print \"We have a sign change, using function.\"\n",
    "            xrt = bisec_method(a,b,f,tolbsc)\n",
    "            return xrt\n",
    "        elif fpa*fpb<0:\n",
    "            print \"We do not have a sign change, using derivative.\"\n",
    "            xrt = bisec_method(a,b,fp,tolbsc)\n",
    "            return xrt\n",
    "        else:\n",
    "            print \"Nothing else to do. Stopped with approximations %(1.15f,1.15f)\" % (a,b)\n",
    "            return np.array([a,b])"
   ]
  },
  {
   "cell_type": "code",
   "execution_count": 68,
   "metadata": {},
   "outputs": [
    {
     "name": "stdout",
     "output_type": "stream",
     "text": [
      "-0.999999971297\n"
     ]
    }
   ],
   "source": [
    "Pi = np.pi\n",
    "f = lambda x: x**4 -2.*(Pi-1.)*x**3. + (1-4.*Pi+Pi**2)*x**2. + 2.*Pi*(Pi-1.)*x + Pi**2.\n",
    "fp = lambda x: 4.*x**3 -6.*(Pi-1.)*x**2. + 2.*(1-4.*Pi+Pi**2)*x + 2.*Pi*(Pi-1.)\n",
    "raprx = root_finder(-3.,0.,f,fp,1e-13,1e-1,1e-14)\n",
    "print raprx"
   ]
  },
  {
   "cell_type": "code",
   "execution_count": 70,
   "metadata": {},
   "outputs": [
    {
     "name": "stdout",
     "output_type": "stream",
     "text": [
      "0.000395756342756\n"
     ]
    }
   ],
   "source": [
    "falt = lambda x: x**4\n",
    "fpalt = lambda x: 4.*x**3\n",
    "raprx = root_finder(-3.,4.,falt,fpalt,1e-13,1e-4,1e-14)\n",
    "print raprx"
   ]
  },
  {
   "cell_type": "code",
   "execution_count": null,
   "metadata": {
    "collapsed": true
   },
   "outputs": [],
   "source": []
  }
 ],
 "metadata": {
  "kernelspec": {
   "display_name": "Python 2",
   "language": "python",
   "name": "python2"
  },
  "language_info": {
   "codemirror_mode": {
    "name": "ipython",
    "version": 2
   },
   "file_extension": ".py",
   "mimetype": "text/x-python",
   "name": "python",
   "nbconvert_exporter": "python",
   "pygments_lexer": "ipython2",
   "version": "2.7.13"
  }
 },
 "nbformat": 4,
 "nbformat_minor": 2
}
