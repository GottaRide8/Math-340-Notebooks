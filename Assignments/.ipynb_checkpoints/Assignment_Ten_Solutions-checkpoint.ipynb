{
 "cells": [
  {
   "cell_type": "code",
   "execution_count": 28,
   "metadata": {
    "collapsed": true
   },
   "outputs": [],
   "source": [
    "import numpy as np\n",
    "import matplotlib.pyplot as plt\n",
    "%matplotlib inline"
   ]
  },
  {
   "cell_type": "markdown",
   "metadata": {},
   "source": [
    "**Problem 1**: 10 pts - Here is a cubic polynomial with three closely spaced real roots:\n",
    "\n",
    "$$\n",
    "p(x) = 816x^3 - 3835x^2 + 6000x - 3125\n",
    "$$\n",
    "\n",
    "* What are the exact roots of p?\n",
    "* Plot $p(x)$ for $1.43\\leq x \\leq 1.71$.  Show the location of the three roots.  \n",
    "* Starting with $x_{0}=1.5$, what does Newton's method do?\n",
    "* Starting with $x_{0}=1$ and $x_{1}=2$, what does the secant method do?\n",
    "* Starting with the interval $[1,2]$, what does bisection do?"
   ]
  },
  {
   "cell_type": "markdown",
   "metadata": {},
   "source": [
    "**Problem 1 Answers:**\n",
    "\n",
    "* What are the exact roots of p?\n",
    "\n",
    "$$\n",
    "x_{0} = \\frac{25}{17},\\quad x_{0} = \\frac{25}{16},~\\textrm{and} \\quad x_{0} = \\frac{5}{3}\n",
    "$$\n",
    "* Plot $p(x)$ for $1.43\\leq x \\leq 1.71$.  Show the location of the three roots.  \n"
   ]
  },
  {
   "cell_type": "code",
   "execution_count": 14,
   "metadata": {},
   "outputs": [
    {
     "data": {
      "image/png": "[encoded data removed]",
      "text/plain": [
       "<matplotlib.figure.Figure at 0x95d0198>"
      ]
     },
     "metadata": {},
     "output_type": "display_data"
    }
   ],
   "source": [
    "xvals = np.linspace(1.43,1.71,int(1e3))\n",
    "pvals = 816.*xvals**3. - 3835.*xvals**2. + 6000.*xvals - 3125.\n",
    "zvals = np.zeros(xvals.size)\n",
    "roots = np.array([25./17., 25./16., 5./3.])\n",
    "zeroVec = np.array([0.,0.,0.])\n",
    "\n",
    "plt.plot(xvals,pvals,label='$p(x)$')\n",
    "plt.plot(xvals,zvals,label='$y=0$')\n",
    "plt.plot(roots, zeroVec, 'ko', label =  'Roots')\n",
    "plt.xlabel('$x$')\n",
    "plt.ylabel('$y$')\n",
    "plt.xlim(1.43,1.71)\n",
    "plt.title('Graph of $p(x)$ and roots')\n",
    "plt.legend(loc='best')\n",
    "plt.gcf().set_size_inches(14,8)"
   ]
  },
  {
   "cell_type": "markdown",
   "metadata": {},
   "source": [
    "* Starting with $x_{0}=1.5$, what does Newton's method do?\n"
   ]
  },
  {
   "cell_type": "code",
   "execution_count": 16,
   "metadata": {},
   "outputs": [
    {
     "name": "stdout",
     "output_type": "stream",
     "text": [
      "The root is: 1.470603575851572\n"
     ]
    }
   ],
   "source": [
    "f = lambda x: 816.*x**3. - 3835.*x**2. + 6000.*x - 3125\n",
    "fp = lambda x: 2448.*x**2. + 7670.*x + 6000.\n",
    "\n",
    "def newtons_method(f,fp,x0,tol):\n",
    "    x1 = x0 - f(x0)/fp(x0)\n",
    "    while np.abs(x1-x0) >= tol:\n",
    "        x0 = x1\n",
    "        x1 = x0 - f(x0)/fp(x0)\n",
    "    return x1\n",
    "print \"The root is: %1.15f\" %newtons_method(f,fp,1.5,1e-8)"
   ]
  },
  {
   "cell_type": "markdown",
   "metadata": {},
   "source": [
    "Newtons method finds the root 25/17. Newton's method uses the tangent line (first derivative) to locate the roots. At $x_0=1.5$, the tangent line intersecting $(x_0,f(x_0))$ has a positive slope and intersects the $x$-axis closest to $25/17$ eventually solving for this root.\n"
   ]
  },
  {
   "cell_type": "markdown",
   "metadata": {},
   "source": [
    "* Starting with $x_{0}=1$ and $x_{1}=2$, what does the secant method do?\n"
   ]
  },
  {
   "cell_type": "code",
   "execution_count": 23,
   "metadata": {},
   "outputs": [],
   "source": [
    "def secant_method(f,x0,x1,tol):\n",
    "    f0 = f(x0)\n",
    "    f1 = f(x1)\n",
    "    x2 = x1 - f1*(x1-x0)/(f1-f0)\n",
    "    while np.abs(f1) >= tol:\n",
    "        x0 = x1\n",
    "        x1 = x2\n",
    "        f0 = f1\n",
    "        f1 = f(x1)\n",
    "        x2 = x1 - f1*(x1-x0)/(f1-f0)  \n",
    "    print \"Our root is: %1.15f\" %x2"
   ]
  },
  {
   "cell_type": "code",
   "execution_count": 25,
   "metadata": {},
   "outputs": [
    {
     "name": "stdout",
     "output_type": "stream",
     "text": [
      "Our root is: 1.666666666666721\n"
     ]
    }
   ],
   "source": [
    "secant_method(f,1.,2.,1e-8)"
   ]
  },
  {
   "cell_type": "markdown",
   "metadata": {},
   "source": [
    "The Secant Method at $x_{0}=1$ and $x_{1}=2$ will calculate the secant line between $x_{0}=1$ and $x_{1}=2$ and find the intersection point of that line resulting in $x_{2}$ The method repeats until we find our root."
   ]
  },
  {
   "cell_type": "markdown",
   "metadata": {},
   "source": [
    "* Starting with the interval $[1,2]$, what does bisection do?"
   ]
  },
  {
   "cell_type": "code",
   "execution_count": 27,
   "metadata": {},
   "outputs": [],
   "source": [
    "def bisec_method(a,b,f,tol):\n",
    "    fa,fb = f(a),f(b)\n",
    "    if fa*fb<0:\n",
    "        c = (a+b)/2.\n",
    "        capproxs = np.array([c]) # build an array to record the estimates we make for the root\n",
    "        fc = f(c)\n",
    "        while np.abs(fc)>=tol:\n",
    "            if fa*fc<0:\n",
    "                b = c\n",
    "            else:\n",
    "                a = c\n",
    "                fa = fc\n",
    "            c = (a+b)/2.\n",
    "            capproxs = np.append(capproxs,c)\n",
    "            fc = f(c)\n",
    "        #conv_plotter(capproxs)\n",
    "        print \"Our root is: %1.15f\" %c\n",
    "    else:\n",
    "        print \"Cannot ensure existence of root.\""
   ]
  },
  {
   "cell_type": "code",
   "execution_count": 28,
   "metadata": {},
   "outputs": [
    {
     "name": "stdout",
     "output_type": "stream",
     "text": [
      "Our root is: 1.470588235184550\n"
     ]
    }
   ],
   "source": [
    "bisec_method(1.,2.,f,1e-8)"
   ]
  },
  {
   "cell_type": "markdown",
   "metadata": {},
   "source": [
    "The bisection method continues to split up into smaller intervals and evauluate the function at the new end poins until it detects a sign change when crossing the zero axis, which will give you your root "
   ]
  },
  {
   "cell_type": "markdown",
   "metadata": {},
   "source": [
    "**Problem 2**: 10 pts - Find the first ten positive values of $x$ such that $x = \\tan(x)$.  Explain your choice of root finding method for doing this, and explain how you are certain that you have found the first ten positive values.  "
   ]
  },
  {
   "cell_type": "code",
   "execution_count": 104,
   "metadata": {},
   "outputs": [
    {
     "data": {
      "image/png": "[encoded data removed]",
      "text/plain": [
       "<matplotlib.figure.Figure at 0x8e72128>"
      ]
     },
     "metadata": {},
     "output_type": "display_data"
    }
   ],
   "source": [
    "f13 = lambda x : np.tan(x)\n",
    "f23 = lambda x : x\n",
    "\n",
    "xvals = np.linspace(0., 30.*np.pi, int(1e3))\n",
    "plt.plot(xvals, f13(xvals), label = \"$f(x)=tan(x)$\")\n",
    "plt.plot(xvals, f23(xvals), label = \"$f(x)=x$\")\n",
    "plt.title('$tan(x)$ and $x$')\n",
    "plt.xlim(0,35)\n",
    "plt.xlabel('x')\n",
    "plt.ylabel('$f(x)$')\n",
    "plt.ylim(0,15*np.pi)\n",
    "plt.legend(loc = \"best\")\n",
    "fig = plt.gcf()\n",
    "fig.set_size_inches(10,10)"
   ]
  },
  {
   "cell_type": "code",
   "execution_count": 77,
   "metadata": {},
   "outputs": [],
   "source": [
    "def Newtons_method(f,fp,x0,tol):\n",
    "    x1 = x0 - (f(x0)/fp(x0))\n",
    "    xapprox = np.array([x0,x1])\n",
    "    while np.abs(x1-x0)>=tol:\n",
    "        x0 = x1\n",
    "        x1 = x0 - (f(x0)/fp(x0))\n",
    "        xapprox = np.append(xapprox,x1)\n",
    "    return x1"
   ]
  },
  {
   "cell_type": "code",
   "execution_count": 89,
   "metadata": {},
   "outputs": [
    {
     "name": "stdout",
     "output_type": "stream",
     "text": [
      "Root at: 4.4934095\n",
      "Root at: 7.7252518\n",
      "Root at: 10.9041217\n",
      "Root at: 14.0661939\n",
      "Root at: 17.2207553\n",
      "Root at: 20.3713030\n",
      "Root at: 23.5194525\n",
      "Root at: 26.6660543\n",
      "Root at: 29.8115988\n",
      "Root at: 32.9563890\n"
     ]
    }
   ],
   "source": [
    "f2 = lambda x: np.tan(x) - x\n",
    "fp2 = lambda x: (1/np.cos(x))**2 -1.\n",
    "\n",
    "x0vals = np.array([3.,5.,7.,9.,11.,13.,15.,17.,19.,21.])\n",
    "\n",
    "for jj in xrange(0,x0vals.size):\n",
    "    print \"Root at: %2.7f\" %Newtons_method(f2,fp2,((x0vals[jj]*np.pi/2.)-.01),1e-8)"
   ]
  },
  {
   "cell_type": "markdown",
   "metadata": {},
   "source": [
    "The roots occur when $x = \\tan(x)$, in other words when x intersects the solutions of tan(x). Note,$\\tan(x)$ has a period of $\\pi$, with a range of $(-\\infty, \\infty)$. Therefore there must be at least one intersection per period. The derivative of $\\tan(x)$ is always greater than the derivative of $x$, meaning there can be at most one intersection per period."
   ]
  },
  {
   "cell_type": "markdown",
   "metadata": {},
   "source": [
    "**Problem 3**: 10 pts - Write a program (see the Lecture 7 notes for help) which takes in a number and converts it into its base\n",
    "“b” expansion for up to base 16 (6 pts). In other words, if I give you some\n",
    "number, say x, find the expansion\n",
    "$$\n",
    "x = \\mbox{sgn}(x)\\sum_{j=−m}^{n} t_j b^j, ~0 ≤ t_j ≤ b − 1.\n",
    "$$\n",
    "\n",
    "Briefly explain your reasoning behind you code. (2 pts) \n",
    "\n",
    "Compare the representations of .1 in base 3, 8, and 16. Comment on any interesting patterns that you observe. (2 pts) \n",
    "\n",
    "Note, for bases 11-16, follow hexadecimal conventions, which means instead of using numbers above 9, you use letters in the following fashion:\n",
    "\\begin{array}{ccc}\n",
    "10 & = & A\\\\\n",
    "11 & = & B\\\\\n",
    "12 & = & C\\\\\n",
    "13 & = & D\\\\\n",
    "14 & = & E\\\\\n",
    "15 & = & F\n",
    "\\end{array}"
   ]
  },
  {
   "cell_type": "code",
   "execution_count": 29,
   "metadata": {
    "collapsed": true
   },
   "outputs": [],
   "source": [
    "def integer_conv(d,b):\n",
    "    # d is the value you are trying to convert with respect to base b.\n",
    "    bcars = ['0','1','2','3','4','5','6','7','8','9','A','B','C','D','E','F']\n",
    "    bstr = '' # Define a string with an empty character.\n",
    "    while d>0:\n",
    "        b0 = d%b\n",
    "        bstr += bcars[b0]\n",
    "        d = (d-b0)/b\n",
    "    return bstr[::-1]"
   ]
  },
  {
   "cell_type": "code",
   "execution_count": 30,
   "metadata": {
    "collapsed": true
   },
   "outputs": [],
   "source": [
    "def base_conv(x,b):\n",
    "    dval = np.floor(x) # The integer part of x\n",
    "    rval = x-dval # The decimal part of x\n",
    "    if dval>0:\n",
    "        int_str = integer_conv(dval,b)\n",
    "    else:\n",
    "        int_str=''\n",
    "    if rval>0:    \n",
    "        dec_str = decimal_conv(rval,b)\n",
    "    else:\n",
    "        dec_str = ''\n",
    "    return int_str+'.'+dec_str # Join the two strings corresponding to the integer and decimal part of your number.  "
   ]
  },
  {
   "cell_type": "code",
   "execution_count": 34,
   "metadata": {},
   "outputs": [
    {
     "name": "stdout",
     "output_type": "stream",
     "text": [
      ".0022002200220022\n",
      ".0631463146314631\n",
      ".1999999999999A\n"
     ]
    }
   ],
   "source": [
    "print base_conv(.1,3.)\n",
    "print base_conv(.1,8.)\n",
    "print base_conv(.1,16.)"
   ]
  },
  {
   "cell_type": "code",
   "execution_count": 32,
   "metadata": {},
   "outputs": [],
   "source": [
    "def decimal_conv(r,b):\n",
    "    # r is the value you are trying to convert with respect to base b.\n",
    "    bcars = ['0','1','2','3','4','5','6','7','8','9','A','B','C','D','E','F']\n",
    "    bstr = ''\n",
    "    #rorig = r\n",
    "    cnt = 1\n",
    "    while r>0 and cnt <= 16:\n",
    "        r *= b\n",
    "        b0 = np.floor(r)\n",
    "        bstr+= bcars[int(b0)]\n",
    "        r -= b0\n",
    "        cnt += 1\n",
    "    return bstr"
   ]
  },
  {
   "cell_type": "code",
   "execution_count": 35,
   "metadata": {},
   "outputs": [
    {
     "name": "stdout",
     "output_type": "stream",
     "text": [
      "0022002200220022\n",
      "0631463146314631\n",
      "1999999999999A\n"
     ]
    }
   ],
   "source": [
    "print decimal_conv(.1,3.)\n",
    "print decimal_conv(.1,8.)\n",
    "print decimal_conv(.1,16.)"
   ]
  },
  {
   "cell_type": "code",
   "execution_count": null,
   "metadata": {},
   "outputs": [],
   "source": []
  }
 ],
 "metadata": {
  "kernelspec": {
   "display_name": "Python [default]",
   "language": "python",
   "name": "python2"
  },
  "language_info": {
   "codemirror_mode": {
    "name": "ipython",
    "version": 2
   },
   "file_extension": ".py",
   "mimetype": "text/x-python",
   "name": "python",
   "nbconvert_exporter": "python",
   "pygments_lexer": "ipython2",
   "version": "2.7.15"
  }
 },
 "nbformat": 4,
 "nbformat_minor": 2
}
