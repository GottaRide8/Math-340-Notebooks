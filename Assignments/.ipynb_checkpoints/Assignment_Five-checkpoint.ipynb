{
 "cells": [
  {
   "cell_type": "code",
   "execution_count": 1,
   "metadata": {},
   "outputs": [],
   "source": [
    "import numpy as np\n",
    "import matplotlib.pyplot as plt\n",
    "from time import time\n",
    "%matplotlib inline"
   ]
  },
  {
   "cell_type": "markdown",
   "metadata": {},
   "source": [
    "**Problem 1**: 7 pts- Using\n",
    "\n",
    "$$\n",
    "\\cos(x) = \\sum_{j=0}^{\\infty}\\frac{(-1)^{j}}{(2j)!}x^{2j}, ~ \\sin(x) = \\sum_{j=0}^{\\infty}\\frac{(-1)^{j}}{(2j+1)!}x^{2j+1}\n",
    "$$\n",
    "\n",
    "and \n",
    "\n",
    "$$\n",
    "\\sin(2x) = 2\\cos(x)\\sin(x)\n",
    "$$\n",
    "\n",
    "derive a Taylor series for $\\cos(x^{3})\\sin(x^{3})$ around $x=0$.  Write a code which computes the Taylor series of $\\cos(x^{3})\\sin(x^{3})$ using recursion, vectorization, and a tolerance based while loop approach.(4pts)  On the interval $[0,2.5]$, plot the semi-log error in your approximation for tolerance values $10^{-4}$, $10^{-6}$, and $10^{-8}$. Label axes and provide a legend for your graph.  Describe your graphs and comment on any trends you observe.(3pts)"
   ]
  },
  {
   "cell_type": "code",
   "execution_count": 4,
   "metadata": {},
   "outputs": [],
   "source": [
    "def sin_x3(x,tol):\n",
    "    tot = np.ones(x.size)\n",
    "    aj = np.ones(x.size)\n",
    "    jj = 1\n",
    "    x6 = x**6\n",
    "    while np.max(np.abs(aj))>=tol:\n",
    "        aj *= (-4*x6)/((2*jj)*(2*jj+1))\n",
    "        tot += aj\n",
    "        jj += 1\n",
    "    return tot"
   ]
  },
  {
   "cell_type": "code",
   "execution_count": 8,
   "metadata": {},
   "outputs": [
    {
     "data": {
      "text/plain": [
       "[<matplotlib.lines.Line2D at 0x2733ad862e0>]"
      ]
     },
     "execution_count": 8,
     "metadata": {},
     "output_type": "execute_result"
    },
    {
     "data": {
      "image/png": "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\n",
      "text/plain": [
       "<Figure size 432x288 with 1 Axes>"
      ]
     },
     "metadata": {
      "needs_background": "light"
     },
     "output_type": "display_data"
    }
   ],
   "source": [
    "xvals = np.linspace(0.,np.pi)\n",
    "yvals4 = sin_x3(xvals,1e-4)\n",
    "yvals6 = sin_x3(xvals,1e-6)\n",
    "yvals8 = sin_x3(xvals,1e-8)\n",
    "\n",
    "plt.plot(xvals,yvals4)\n",
    "plt.plot(xvals,yvals6)\n",
    "plt.plot(xvals,yvals8)"
   ]
  },
  {
   "cell_type": "markdown",
   "metadata": {},
   "source": [
    "**Problem 2**: 7 pts - For $f(x)=\\cos(x^{3})\\sin(x^{3})=\\frac{1}{2}\\sin(2x^{3})$, using the Taylor Remainder Theorem, develop an error estimate for the approximations $T_{3}(x;0)$ and $T_{4}(x;0)$ (4pts).  Provide plots and commentary on the behavior of your error approximations relative to the true error (3pts).    "
   ]
  },
  {
   "cell_type": "markdown",
   "metadata": {},
   "source": [
    "_Answer to Problem 2_"
   ]
  },
  {
   "cell_type": "markdown",
   "metadata": {},
   "source": [
    "**Problem 3**: 7 pts- Another very important class of special functions are called the _Legendre Polynomials_, say $L_{n}(x)$, which are defined for non-negative integer $n$ via the series\n",
    "\n",
    "$$\n",
    "L_{n}(x) = \\sum_{k=0}^{n}\\frac{(n+k)!}{(k!)^{2}(n-k)!}\\left(\\frac{x-1}{2}\\right)^{k}, ~ -1\\leq x \\leq 1.\n",
    "$$\n",
    "\n",
    "Using a `for`-loop, vectorized, recursive approach, write a function which computes the Legendre functions for any non-negative integer $n$ (4pts).  Make a plot showing $L_{n}(x)$ for $n=0,1,2,3,4$ simultaneously, using different colors for each different $n$.  The plot should have a legend as well as appropriately labeled axes.  (3pts)    "
   ]
  },
  {
   "cell_type": "code",
   "execution_count": null,
   "metadata": {},
   "outputs": [],
   "source": [
<<<<<<< Updated upstream
    "_Answer to Problem 3_"
=======
    "def pi_approx_vec(n):\n",
    "    kvals = np.arange(0,int(n)+1)\n",
    "    nsq = n**2.\n",
    "    tot = np.sum(np.sqrt(nsq*np.ones(int(n)+1) - kvals**2.))\n",
    "    return 4.*tot/nsq"
>>>>>>> Stashed changes
   ]
  },
  {
   "cell_type": "markdown",
   "metadata": {},
   "source": [
    "**Problem 4**: 5 pts - Using a for loop based approach, write a program which finds the function $f(n)$ where \n",
    "\n",
    "$$\n",
    "f(n) = \\frac{1}{n}\\sum_{j=1}^{n} \\left(\\left(\\frac{j}{n}\\right)^{5} + 6\\left(\\frac{j}{n}\\right)^{3} \\right)\n",
    "$$\n",
    "\n",
    "for any positive integer n (2pts).  Generate a labeled plot of the results of your function for $1\\leq n \\leq 1000$, where $n$ will be on the $x$-axis, while the results of your function will appear on the $y$-axis.  Describe any trends you see from your graph. (3pts)      "
   ]
  },
  {
   "cell_type": "code",
   "execution_count": null,
   "metadata": {},
<<<<<<< Updated upstream
   "source": [
    "_Answer to Problem 4_"
   ]
=======
   "outputs": [],
   "source": []
>>>>>>> Stashed changes
  },
  {
   "cell_type": "markdown",
   "metadata": {},
   "source": [
    "**Problem 5**: 6 pts- Using a vectorized approach, which means no explicit for loops, write a program which finds \n",
    "\n",
    "$$\n",
    "f(n) = \\frac{1}{n}\\sum_{j=1}^{n} \\left(\\left(\\frac{j}{n}\\right)^{5} + 6\\left(\\frac{j}{n}\\right)^{3} \\right)\n",
    "$$\n",
    "\n",
    "\n",
    "for any positive integer n (3pts).  Using `time()`, run several different tests using different values of $n$ to determine how much faster your code is than that used in the previous problem.  For what value of $n$ do you finally see a significant difference in time?  Note, plots are far more preferable than just writing a particular number.  Build a case for your decision please. (3pts)    "
   ]
  },
  {
   "cell_type": "code",
   "execution_count": null,
   "metadata": {},
<<<<<<< Updated upstream
   "source": [
    "_Answer to Problem 5_"
   ]
=======
   "outputs": [],
   "source": []
>>>>>>> Stashed changes
  }
 ],
 "metadata": {
  "kernelspec": {
   "display_name": "Python 3",
   "language": "python",
   "name": "python3"
  },
  "language_info": {
   "codemirror_mode": {
    "name": "ipython",
    "version": 3
   },
   "file_extension": ".py",
   "mimetype": "text/x-python",
   "name": "python",
   "nbconvert_exporter": "python",
   "pygments_lexer": "ipython3",
<<<<<<< Updated upstream
   "version": "3.10.1"
=======
   "version": "3.8.5"
>>>>>>> Stashed changes
  }
 },
 "nbformat": 4,
 "nbformat_minor": 2
}
