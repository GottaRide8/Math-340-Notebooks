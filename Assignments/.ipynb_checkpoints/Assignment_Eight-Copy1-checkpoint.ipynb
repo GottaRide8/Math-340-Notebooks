{
 "cells": [
  {
   "cell_type": "code",
   "execution_count": 8,
   "metadata": {},
   "outputs": [],
   "source": [
    "import numpy as np\n",
    "import matplotlib.pyplot as plt\n",
    "%matplotlib inline"
   ]
  },
  {
   "cell_type": "code",
   "execution_count": 9,
   "metadata": {},
   "outputs": [],
   "source": [
    "def adap_quad_comp(f,a,b,c,fa,fb,fc,Aab,tol):    \n",
    "    d = (a+c)/2.\n",
    "    e = (b+c)/2.\n",
    "    fd = f(d)\n",
    "    fe = f(e)\n",
    "    dx3 = (d-a)/3.\n",
    "    Aac = dx3*(fa+4.*fd+fc)\n",
    "    Acb = dx3*(fc+4.*fe+fb)\n",
    "    if np.abs(Aab-(Aac+Acb))<=tol: \n",
    "        return (16./15.*(Aac+Acb)-Aab/15.)\n",
    "    else:  \n",
    "        F1 = adap_quad_comp(f,a,c,d,fa,fc,fd,Aac,tol)\n",
    "        F2 = adap_quad_comp(f,c,b,e,fc,fb,fe,Acb,tol)\n",
    "        return F1 + F2\n",
    "    \n",
    "def adap_quad(f,a,b,tol):\n",
    "    c = (a+b)/2.\n",
    "    fa = f(a)\n",
    "    fb = f(b)\n",
    "    fc = f(c)\n",
    "    dx3 = (c-a)/3.\n",
    "    Aab = dx3*(fa+4.*fc+fb)\n",
    "    ival = adap_quad_comp(f,a,b,c,fa,fb,fc,Aab,tol)    \n",
    "    return ival"
   ]
  },
  {
   "cell_type": "code",
   "execution_count": 15,
   "metadata": {},
   "outputs": [],
   "source": [
    "def bisec_method(a,b,f,tol):\n",
    "    fa,fb = f(a),f(b)\n",
    "    if fa*fb<0:\n",
    "        c = (a+b)/2.\n",
    "        capproxs = np.array([c]) # build an array to record the estimates we make for the root\n",
    "        fc = f(c)\n",
    "        while np.abs(fc)>=tol:\n",
    "            if fa*fc<0:\n",
    "                b = c                \n",
    "            else:\n",
    "                fa = fc\n",
    "                a = c\n",
    "                \n",
    "            c = (a+b)/2.    \n",
    "            fc = f(c)\n",
    "            capproxs = np.append(capproxs,c)    \n",
    "        return capproxs\n",
    "    else:\n",
    "        print(\"Cannot ensure existence of root.\")"
   ]
  },
  {
   "cell_type": "code",
   "execution_count": 13,
   "metadata": {},
   "outputs": [],
   "source": [
    "def Newtons_method(f,fp,x0,tol):\n",
    "    x1 = x0 - f(x0)/fp(x0)\n",
    "    xapprox = np.array([x0,x1])\n",
    "    while np.abs(x1-x0) >= tol :\n",
    "        x0 = x1\n",
    "        x1 = x0 - f(x0)/fp(x0)\n",
    "        xapprox = np.append(xapprox,x1)\n",
    "    return xapprox"
   ]
  },
  {
   "cell_type": "code",
   "execution_count": 28,
   "metadata": {},
   "outputs": [],
   "source": [
    "def rate_of_conv(capproxs):\n",
    "    tterms = capproxs.size\n",
    "    cstar = capproxs[tterms-1]\n",
    "    cnp1 = np.log10(np.abs(capproxs[1:tterms-1]-cstar))\n",
    "    cn = np.log10(np.abs(capproxs[0:tterms-2]-cstar))\n",
    "    ftprms = np.polyfit(cn,cnp1,1)\n",
    "    print(\"Intercept value: %1.15f\" %10.**(ftprms[1]))\n",
    "    print(\"Slope value: %1.15f\" %ftprms[0])\n",
    "    \n",
    "    plt.scatter(cn,cnp1)\n",
    "    plt.plot(cn,(ftprms[0]*cn+ftprms[1]))\n",
    "    plt.xlabel(\"$\\log_{10}|c_{n}-c_{*}|$\")\n",
    "    plt.ylabel(\"$\\log_{10}|c_{n+1}-c_{*}|$\")"
   ]
  },
  {
   "cell_type": "markdown",
   "metadata": {},
   "source": [
    "**Problem 1**: (5 pts) Use the adaptive quadrature algorithm to evaluate \n",
    "\n",
    "$$\n",
    "\\int_{-1}^{2} \\frac{dt}{\\sin\\left(\\sqrt{|t|} \\right)}.\n",
    "$$\n",
    "\n",
    "State how you arrive at your result i.e. what tolerances do you choose and what degree of accuracy can you argue that they provide you?  Why do you not encounter divide-by-zero difficulties at $t=0$?"
   ]
  },
  {
   "cell_type": "code",
   "execution_count": 22,
   "metadata": {},
   "outputs": [
    {
     "name": "stdout",
     "output_type": "stream",
     "text": [
      "For tolerance = 1.0e-01 we get the integral is: 5.121680633317956\n",
      "For tolerance = 1.0e-02 we get the integral is: 5.299258725823382\n",
      "For tolerance = 1.0e-03 we get the integral is: 5.312255201204497\n",
      "For tolerance = 1.0e-04 we get the integral is: 5.313956536152338\n",
      "For tolerance = 1.0e-05 we get the integral is: 5.314102786177169\n",
      "For tolerance = 1.0e-06 we get the integral is: 5.314113894050331\n",
      "For tolerance = 1.0e-07 we get the integral is: 5.314115472548048\n",
      "For tolerance = 1.0e-08 we get the integral is: 5.314115598222085\n",
      "For tolerance = 1.0e-09 we get the integral is: 5.314115608654129\n",
      "For tolerance = 1.0e-10 we get the integral is: 5.314115610156215\n"
     ]
    }
   ],
   "source": [
    "ffun = lambda t: 1./np.sin(np.sqrt(np.abs(t)))\n",
    "pows = np.arange(1,11)\n",
    "tols = 10.**(-pows)\n",
    "for tol in tols:\n",
    "    ivals = adap_quad(ffun,-1.,2.,tol)\n",
    "    print(\"For tolerance = %1.1e we get the integral is: %1.15f\" %(tol,ivals))"
   ]
  },
  {
   "cell_type": "markdown",
   "metadata": {},
   "source": [
    "As we see, taking the tolerance from $10^{-1}$ to $10^{-10}$, we can make a case that we converge on to the approximation\n",
    "\n",
    "$$\n",
    "\\int_{-1}^{2} \\frac{dt}{\\sin\\left(\\sqrt{|t|} \\right)} \\approx 5.3141156.\n",
    "$$\n",
    "\n",
    "We do not encounter divide-by zero difficulties since the adaptapive quadrature routine uses midpoints of intervals, and 1+2 = 3 is odd.  Thus division by 2 never gives us $0$.  That being said, we see that decreasing the tolerance by 10 orders of magnitude only gives us 8 digits of accuracy, which is nowhere near as good of a result as we've seen from other examples.  So the singularity at the origin does seem to cause us some grief in the end anyway.   "
   ]
  },
  {
   "cell_type": "markdown",
   "metadata": {},
   "source": [
    "**Problem 2**: (5 pts) Write a recursive program which computes $\\begin{pmatrix} n \\\\ k \\end{pmatrix}$ where for $0\\leq k \\leq n$\n",
    "\n",
    "$$\n",
    "\\begin{pmatrix} n \\\\ k \\end{pmatrix} = \\frac{n!}{k!(n-k)!},\n",
    "$$\n",
    "\n",
    "using the formula \n",
    "\n",
    "$$\n",
    "\\begin{pmatrix} n \\\\ k \\end{pmatrix} = \\begin{pmatrix} n-1 \\\\ k \\end{pmatrix} + \\begin{pmatrix} n-1 \\\\ k-1 \\end{pmatrix}\n",
    "$$\n",
    "\n",
    "Provide two examples which show your implementation is correct.  "
   ]
  },
  {
   "cell_type": "code",
   "execution_count": 4,
   "metadata": {},
   "outputs": [],
   "source": [
    "def comb_comp(n,k):\n",
    "    # Note, we assume n>=k\n",
    "    if n==k or k==0:\n",
    "        return 1\n",
    "    else:\n",
    "        return comb_comp(n-1,k) + comb_comp(n-1,k-1)"
   ]
  },
  {
   "cell_type": "markdown",
   "metadata": {},
   "source": [
    "It is easy to show that \n",
    "\n",
    "$$\n",
    "\\begin{pmatrix} 6 \\\\ 3 \\end{pmatrix} = 20, ~ \\begin{pmatrix} 7 \\\\ 5 \\end{pmatrix} = 21\n",
    "$$\n",
    "\n",
    "Thus we check:"
   ]
  },
  {
   "cell_type": "code",
   "execution_count": 5,
   "metadata": {},
   "outputs": [
    {
     "name": "stdout",
     "output_type": "stream",
     "text": [
      "20\n",
      "21\n"
     ]
    }
   ],
   "source": [
    "print(comb_comp(6,3))\n",
    "print(comb_comp(7,5))"
   ]
  },
  {
   "cell_type": "markdown",
   "metadata": {},
   "source": [
    "and sure enough, we're correct.  "
   ]
  },
  {
   "cell_type": "markdown",
   "metadata": {},
   "source": [
    "**Problem 3**: (10 pts) The Hermite polynomials $H_{n}(x)$ are such that $H_{0}(x)=1$, $H_{1}(x)=2x$, and for $n\\geq2$, $H_{n}(x)$ satisfies the recurrence relationship\n",
    "\n",
    "$$\n",
    "H_{n}(x) = 2xH_{n-1}(x) -2(n-1)H_{n-2}(x), ~ n\\geq 2. \n",
    "$$\n",
    "\n",
    "* (6 pts) Write a recursive program to find any Hermite polynomial $H_{n}(x)$.\n",
    "* (4 pts) Generate a plot of the first six Hermite polyonmials on the interval $-2\\leq x \\leq 2$.  Your figure should be labeled, have a legend, and different colors should be used to distinguish the different Hermite polynmials in the plot.  "
   ]
  },
  {
   "cell_type": "code",
   "execution_count": 12,
   "metadata": {},
   "outputs": [
    {
     "data": {
      "text/plain": [
       "<matplotlib.legend.Legend at 0x7fea7a0be590>"
      ]
     },
     "execution_count": 12,
     "metadata": {},
     "output_type": "execute_result"
    },
    {
     "data": {
      "image/png": "[encoded data removed]",
      "text/plain": [
       "<Figure size 432x288 with 1 Axes>"
      ]
     },
     "metadata": {
      "needs_background": "light"
     },
     "output_type": "display_data"
    }
   ],
   "source": [
    "def hermite_fun(x,n):\n",
    "    if n == 0:\n",
    "        return np.ones(x.size)\n",
    "    elif n == 1:\n",
    "        return 2.*x\n",
    "    else:\n",
    "        return 2.*x*hermite_fun(x,n-1) - 2.*(n-1)*hermite_fun(x,n-2)\n",
    "    \n",
    "xvals = np.linspace(-2.,2.,int(1e3)+1)\n",
    "colors = [\"k\",\"b\",\"r\",\"g\",\"y\",\"m\"]\n",
    "for jj in range(6):\n",
    "    hvals = hermite_fun(xvals,jj)\n",
    "    ljs = r'$H_{'+str(jj)+'}(x)$'\n",
    "    plt.plot(xvals,hvals,color=colors[jj],label=ljs)\n",
    "plt.xlabel('$x$')\n",
    "plt.ylabel('$H_{n}(x)$')\n",
    "plt.legend(loc=(.8,.05))"
   ]
  },
  {
   "cell_type": "markdown",
   "metadata": {
    "collapsed": true
   },
   "source": [
    "**Problem 4** : (5 pts) Suppose that for two football teams, the probability, $P$, that team A will beat team B is given by \n",
    "$$\n",
    "P = \\frac{1+p}{2}\\left(\\frac{p}{1-p+p^{2}} \\right)^{21}\n",
    "$$\n",
    "where $p$ is the probability that team A punts on a fourth down (ok, I really know nothing about football, but I think that kind of makes sense...)  Determine to within $10^{-3}$ the minimal value of $p$ that will ensure that team $A$ beats team $B$ at least half of the time."
   ]
  },
  {
   "cell_type": "markdown",
   "metadata": {},
   "source": [
    "So, we want to find $P(p_{\\ast})=1/2$, or $\\tilde{P}(p_{\\ast}) = P(p_{\\ast})-1/2 = 0$.  Given I'm in no mood to differentiate complicated expressions unless I absolutely have to, and noting that\n",
    "\n",
    "$$\n",
    "\\tilde{P}(0) = -1/2, ~ \\tilde{P}(1) = 1/2,\n",
    "$$\n",
    "\n",
    "I used the Bisection Method.  We then get:"
   ]
  },
  {
   "cell_type": "code",
   "execution_count": 16,
   "metadata": {},
   "outputs": [
    {
     "name": "stdout",
     "output_type": "stream",
     "text": [
      "Our probability is p=0.842285156250000\n"
     ]
    }
   ],
   "source": [
    "P = lambda p: (1.+p)/2.*(p/(1.-p+p**2.))**21. - .5\n",
    "capproxs = bisec_method(0.,1.,P,1e-3)\n",
    "tval = capproxs.size\n",
    "print(\"Our probability is p=%1.15f\" % capproxs[tval-1])"
   ]
  },
  {
   "cell_type": "markdown",
   "metadata": {},
   "source": [
    "**Problem 5** : (10 pts) Using Newton's method, explain why the sequence \n",
    "$$\n",
    "x_{n} = \\frac{1}{2}x_{n-1} + \\frac{A}{2x_{n-1}}, ~ n\\geq1, ~ x_{0}>0,  \n",
    "$$\n",
    "converges to $\\sqrt{A}$ (4 pts).  Hint, you need to think of a function whose root is $\\sqrt{A}$.  Implement the method and characterize for various values of $x_{0}$ how quickly the method converges. (6 pts)"
   ]
  },
  {
   "cell_type": "markdown",
   "metadata": {},
   "source": [
    "Starting from $f(x) = x^{2} - A$, which has roots $x=\\pm \\sqrt{A}$, given \n",
    "\n",
    "$$\n",
    "x_{n} = x_{n-1} - \\frac{f(x_{n-1})}{f'(x_{n-1})}\n",
    "$$\n",
    "\n",
    "we then see that \n",
    "\n",
    "$$\n",
    "x_{n} = \\frac{1}{2}x_{n-1} + \\frac{A}{2x_{n-1}}.\n",
    "$$\n",
    "\n",
    "As for code, we use iteration count to track how quickly we cconverge for a given tolerance.  See the code and results below. "
   ]
  },
  {
   "cell_type": "code",
   "execution_count": 26,
   "metadata": {},
   "outputs": [
    {
     "data": {
      "text/plain": [
       "Text(0, 0.5, '$Iteration ~Count$')"
      ]
     },
     "execution_count": 26,
     "metadata": {},
     "output_type": "execute_result"
    },
    {
     "data": {
      "image/png": "[encoded data removed]",
      "text/plain": [
       "<Figure size 432x288 with 1 Axes>"
      ]
     },
     "metadata": {
      "needs_background": "light"
     },
     "output_type": "display_data"
    }
   ],
   "source": [
    "def sq_rt(A,x0,tol):\n",
    "    x1 = .5*x0 + A/(2.*x0)\n",
    "    xapprox = np.array([x0,x1])\n",
    "    while np.abs(x1-x0) >= tol:\n",
    "        x0 = x1\n",
    "        x1 = .5*x0 + A/(2.*x0)\n",
    "        xapprox = np.append(xapprox,x1)\n",
    "    return xapprox.size\n",
    "\n",
    "tol = 1e-15\n",
    "A = 40\n",
    "pows = np.arange(10)\n",
    "xovals = 2.**pows\n",
    "icnts = np.zeros(xovals.size)\n",
    "for jj in range(xovals.size):\n",
    "    icnts[jj] = sq_rt(A,xovals[jj],tol)\n",
    "plt.plot(pows,icnts)\n",
    "plt.xlabel(\"$\\log_{2}(x_{0})$\")\n",
    "plt.ylabel(\"$Iteration ~Count$\")"
   ]
  },
  {
   "cell_type": "markdown",
   "metadata": {},
   "source": [
    "Choosing $A=40$, so that $\\sqrt{A}\\approx6.3245$, we see by fixing $tol=10^{-15}$ and then allowing $x_{0}=2^{j}$ for $j=0\\cdots 10$, that while we get the lowest iteration count when $x_{0}\\approx \\sqrt{A}$, even when $x_{0}=2^{10}$, the method converges to 15 digits of accuracy in 13 iterations.  Suffice to say, Newton's method is quick.  What's even more remarkable is that the Babylonians figured this formula out without recourse to Calculus.  So they were able to compute irrational roots to arbitrary precision before we'd even imagined calculators as a species.  "
   ]
  },
  {
   "cell_type": "markdown",
   "metadata": {},
   "source": [
    "**Problem 6**: (5pts) In class for a root $x_{\\ast}$ of $f(x)$, i.e. $f(x_{\\ast})=0$, if $x_{0}$ is chosen \"close\" to $x_{\\ast}$, then the sequence $\\left\\{x_{n}\\right\\}_{n=0}^{\\infty}$  where \n",
    "\n",
    "$$\n",
    "x_{n+1} = g\\left(x_{n}\\right), ~ g(x) = x - \\frac{f(x)}{f'(x)}, ~ n\\geq 0.\n",
    "$$\n",
    "\n",
    "should converge to $x_{\\ast}$.  The question is how quickly.  So supposing that $f'(x_{\\ast})\\neq 0$ show \n",
    "\n",
    "* $g(x_{\\ast}) = x_{\\ast}$ (thus making $x_{\\ast}$ a fixed point of $g(x)$)\n",
    "* $g'(x_{\\ast}) = 0$\n",
    "* $x_{n+1} - x_{\\ast} = \\frac{1}{2}g''(x_{\\ast})\\left(x_{n}-x_{\\ast}\\right)^{2} + \\mathcal{O}(\\left(x_{n}-x_{\\ast}\\right)^{3})$\n",
    "\n",
    "From this, infer that the rate of convergence (see the class notes for a definition of rate of convergence) for Newton's method is $\\alpha = 2$.\n",
    "\n",
    "So, supposing that $f'(x_{\\ast})\\neq 0$, we readily see that \n",
    "\n",
    "$$\n",
    "g(x_{\\ast}) = x_{\\ast} - \\frac{f(x_{\\ast})}{f'(x_{\\ast})} = x_{\\ast}.\n",
    "$$\n",
    "\n",
    "Likewise, we find that \n",
    "\n",
    "$$\n",
    "g'(x) = \\frac{f(x)f''(x)}{(f'(x))^{2}},\n",
    "$$\n",
    "\n",
    "so that $g'(x_{\\ast})=0$ if $f(x_{\\ast})=0$ and $f'(x_{\\ast})\\neq 0$.  Thus, if we use the Taylor expansion\n",
    "\n",
    "\\begin{align*}\n",
    "x_{n} = & g(x_{n-1})\\\\\n",
    "= & g(x_{n-1}-x_{\\ast} + x_{\\ast})\\\\\n",
    "= & g(x_{\\ast}) + g'(x_{\\ast})(x_{n-1}-x_{\\ast}) + \\frac{1}{2}g''(x_{\\ast})(x_{n-1}-x_{\\ast})^{2} + \\mathcal{O}((x_{n-1}-x_{\\ast})^{3})\n",
    "\\end{align*}\n",
    "\n",
    "using the results from above, we have that \n",
    "\n",
    "$$\n",
    "\\lim_{n\\rightarrow \\infty} \\frac{\\left|x_{n} -x_{\\ast} \\right|}{\\left|x_{n-1} -x_{\\ast} \\right|^{2}} \\approx \\frac{1}{2}\\left|g''(x_{\\ast})\\right|,\n",
    "$$\n",
    "\n",
    "and thus we see that the rate of convergence for Newton's method should be $\\alpha = 2$."
   ]
  },
  {
   "cell_type": "markdown",
   "metadata": {},
   "source": [
    "**Problem 7**: (10 pts) In many cases, getting convergence rates via pen and paper is tricky.  However, we can often readily find them via numerical simulation.  \n",
    "\n",
    "a.) (4 pts) For \n",
    "$$\n",
    "f(x) = x\\cos(x) - \\sin^{2}(x), \n",
    "$$\n",
    "find all the roots on the interval $[0,5]$ using Newton's method with a tolerance of $10^{-6}$.\n",
    "\n",
    "\n",
    "b.) (6 pts) For each root, establish that the rate of convergence is quadratic.  Note, to do this, you will need to save the various points generated by Newton's method in an array.  You will need to find the fixed point.  Then, you should note that if \n",
    "$$\n",
    "\\lim_{n\\rightarrow \\infty}\\frac{|x_{n+1}-x_{\\ast}|}{|x_{n}-x_{\\ast}|^{\\alpha}} = \\lambda, \n",
    "$$  \n",
    "then for $n$ large\n",
    "$$\n",
    "\\ln |x_{n+1}-x_{\\ast}| \\sim \\alpha \\ln |x_{n}-x_{\\ast}| + \\ln \\lambda\n",
    "$$\n",
    "So, then you should be thinking about the slope of a line in a log/log plot.  \n",
    "\n",
    "Please provide a well-labeled and well-explained figure describing the rate of convergence for each fixed point.  Does your rate change based on your initial guess?  Again, please elaborate and show plots to make your case."
   ]
  },
  {
   "cell_type": "code",
   "execution_count": 25,
   "metadata": {},
   "outputs": [
    {
     "name": "stdout",
     "output_type": "stream",
     "text": [
      "The first root is: -0.000000000000000\n",
      "The second root is: 0.846446354857410\n",
      "The third root is: 4.909534391393061\n"
     ]
    },
    {
     "data": {
      "image/png": "[encoded data removed]",
      "text/plain": [
       "<Figure size 432x288 with 1 Axes>"
      ]
     },
     "metadata": {
      "needs_background": "light"
     },
     "output_type": "display_data"
    }
   ],
   "source": [
    "f = lambda x: x*np.cos(x) - (np.sin(x))**2.\n",
    "fp = lambda x: np.cos(x) - x*np.sin(x) - 2.*np.sin(x)*np.cos(x)\n",
    "\n",
    "xvals = np.linspace(0.,5.,int(1e3)+1)\n",
    "fvals = f(xvals)\n",
    "zvals = np.zeros(xvals.size)\n",
    "plt.plot(xvals,fvals)\n",
    "plt.plot(xvals,zvals)\n",
    "plt.xlabel(\"$x$\")\n",
    "plt.ylabel(\"$f(x)$\")\n",
    "\n",
    "x00 = 1e-3\n",
    "x01 = 1.01\n",
    "x02 = 4.9\n",
    "tol = 1e-6\n",
    "\n",
    "xapprox0 = Newtons_method(f,fp,x00,tol)\n",
    "xapprox1 = Newtons_method(f,fp,x01,tol)\n",
    "xapprox2 = Newtons_method(f,fp,x02,tol)\n",
    "\n",
    "tval0 = xapprox0.size\n",
    "tval1 = xapprox1.size\n",
    "tval2 = xapprox2.size\n",
    "\n",
    "print(\"The first root is: %1.15f\" % xapprox0[tval0-1])\n",
    "print(\"The second root is: %1.15f\" % xapprox1[tval1-1])\n",
    "print(\"The third root is: %1.15f\" % xapprox2[tval2-1])"
   ]
  },
  {
   "cell_type": "code",
   "execution_count": 29,
   "metadata": {},
   "outputs": [
    {
     "name": "stdout",
     "output_type": "stream",
     "text": [
      "Intercept value: 1.006026412498003\n",
      "Slope value: 2.000435209510589\n"
     ]
    },
    {
     "data": {
      "image/png": "[encoded data removed]",
      "text/plain": [
       "<Figure size 432x288 with 1 Axes>"
      ]
     },
     "metadata": {
      "needs_background": "light"
     },
     "output_type": "display_data"
    }
   ],
   "source": [
    "rate_of_conv(xapprox0)"
   ]
  },
  {
   "cell_type": "code",
   "execution_count": 30,
   "metadata": {},
   "outputs": [
    {
     "name": "stdout",
     "output_type": "stream",
     "text": [
      "Intercept value: 0.613097075944035\n",
      "Slope value: 1.942245833902110\n"
     ]
    },
    {
     "data": {
      "image/png": "[encoded data removed]",
      "text/plain": [
       "<Figure size 432x288 with 1 Axes>"
      ]
     },
     "metadata": {
      "needs_background": "light"
     },
     "output_type": "display_data"
    }
   ],
   "source": [
    "rate_of_conv(xapprox1)"
   ]
  },
  {
   "cell_type": "code",
   "execution_count": 31,
   "metadata": {},
   "outputs": [
    {
     "name": "stdout",
     "output_type": "stream",
     "text": [
      "Intercept value: 0.273570050413307\n",
      "Slope value: 2.003428670393791\n"
     ]
    },
    {
     "data": {
      "image/png": "[encoded data removed]",
      "text/plain": [
       "<Figure size 432x288 with 1 Axes>"
      ]
     },
     "metadata": {
      "needs_background": "light"
     },
     "output_type": "display_data"
    }
   ],
   "source": [
    "rate_of_conv(xapprox2)"
   ]
  },
  {
   "cell_type": "markdown",
   "metadata": {},
   "source": [
    "So as we see from the plot of the function, there are three roots.  Making reasonable initial guesses we readily find the roots using Newton's method.  Moreover, as we see from the rate of convergence plots, in every case we get a rate of convergence $\\alpha=2$ as theoretically predicted above.  Likewise, we see in each case that only two to three iterations of the method are needed to achieve the set accuracy tolerance, reflecting the speed one would expect from Newton's method. "
   ]
  },
  {
   "cell_type": "code",
   "execution_count": null,
   "metadata": {},
   "outputs": [],
   "source": []
  }
 ],
 "metadata": {
  "kernelspec": {
   "display_name": "Python 3",
   "language": "python",
   "name": "python3"
  },
  "language_info": {
   "codemirror_mode": {
    "name": "ipython",
    "version": 3
   },
   "file_extension": ".py",
   "mimetype": "text/x-python",
   "name": "python",
   "nbconvert_exporter": "python",
   "pygments_lexer": "ipython3",
   "version": "3.7.4"
  }
 },
 "nbformat": 4,
 "nbformat_minor": 2
}
