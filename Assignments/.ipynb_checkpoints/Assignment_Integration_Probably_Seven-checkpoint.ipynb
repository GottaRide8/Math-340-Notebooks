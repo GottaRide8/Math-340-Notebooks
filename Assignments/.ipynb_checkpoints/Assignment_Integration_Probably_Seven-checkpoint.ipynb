{
 "cells": [
  {
   "cell_type": "code",
   "execution_count": 1,
   "metadata": {},
   "outputs": [],
   "source": [
    "import numpy as np\n",
    "import matplotlib.pyplot as plt\n",
    "import scipy.integrate as spqd\n",
    "%matplotlib inline"
   ]
  },
  {
   "cell_type": "markdown",
   "metadata": {},
   "source": [
    "_Answers to Problem 1_"
   ]
  },
  {
   "cell_type": "code",
   "execution_count": null,
   "metadata": {
    "collapsed": true
   },
   "outputs": [],
   "source": [
    "def fib_general(n,a,s0,s1):\n",
    "    #add code here \n",
    "    return pn"
   ]
  },
  {
   "cell_type": "markdown",
   "metadata": {},
   "source": [
    "** Problem 4 **: Let the Fresnel function $f(x)$ be defined via the integral\n",
    "\n",
    "$$\n",
    "f(x) = \\int_{0}^{x} \\cos(t^{2}) dt.\n",
    "$$\n",
    "\n",
    "4a) (2pts) Write the code that creates a sequence of $n+1$ points $x_{j}$ such that $0 \\leq x_{j} \\leq x$, with  \n",
    "\n",
    "$$\n",
    "x_{j} = j\\delta x, ~ \\delta x = \\frac{x}{n}, ~ j=0,\\cdots,n\n",
    "$$\n",
    "\n",
    "4b) (2pts) Find the second order Taylor polynomial approximation around $x_{j}$ of $\\cos(t^{2})$, i.e. find  $T_{2}(t;x_{j})$.  \n",
    "\n",
    "4c) (2pts) Using the fact that $\\delta x = x_{j+1}-x_{j}$, show that \n",
    "\n",
    "$$\n",
    "\\int_{x_{j}}^{x_{j+1}} T_{2}(t;x_{j})dt = \\delta x \\cos\\left(x_{j}^{2}\\right)- \\delta x^{2} \\left(x_{j}\\sin\\left(x_{j}^{2}\\right)\\right) - \\frac{\\delta x^{3}}{3}\\left(2x_{j}^{2}\\cos\\left(x_{j}^{2}\\right) + \\sin\\left(x_{j}^{2}\\right)\\right)\n",
    "$$\n",
    "\n",
    "Note, the $u$-substitution $u=t-x_{j}$ will make your life so much easier here.  \n",
    "\n",
    "4d) (4pts) Using basic properties of integrals and Taylor series, show that \n",
    "\\begin{align*}\n",
    "f(x_{j+1}) = & f(x_{j}) + \\int_{x_{j}}^{x_{j+1}}\\cos(t^{2})dt \\\\\n",
    "\\approx & f(x_{j}) + \\int_{x_{j}}^{x_{j+1}}T_{2}(t;x_{j})dt\\\\\n",
    "\\approx & f(x_{j}) + \\left(\\delta x \\cos\\left(x_{j}^{2}\\right)- \\delta x^{2} \\left(x_{j}\\sin\\left(x_{j}^{2}\\right)\\right) - \\frac{\\delta x^{3}}{3}\\left(2x_{j}^{2}\\cos\\left(x_{j}^{2}\\right) + \\sin\\left(x_{j}^{2}\\right)\\right) \\right)\n",
    "\\end{align*}\n",
    "\n",
    "Using the code-skeleton below, write a Python function called `fresnel_integrator` which takes an array `xvals` and returns a corresponding array, `fvals`, which contains the values of the Fresnel function $f(x)$.  Plot $f(x)$ for $0\\leq x \\leq 10$ with $\\delta x = 10^{-2}$.  Briefly describe what you see.  \n",
    "\n",
    "4e) (4pts) Fixing $x=10$, compare your approximate integrator to the \"true\" value of $f(10)$ for $\\delta x =1,10^{-1},10^{-2},10^{-3}, 10^{-4}$ and generate a log-log plot of the error versus the corresponding value of $n$.  Label axes for your graph.  Describe your graph and comment on any trends you observe.\n",
    "\n",
    "Use the code \n",
    "\n",
    "`\n",
    "fvalf = spqd.quad(lambda t: np.cos(t**2.),0.,10.)\n",
    "fvalt = fvalf[0]\n",
    "`\n",
    "\n",
    "to generate the \"true\" value `fvalt`.  Likewise note, if we want the last entry of an array, say `fvals`, we just call\n",
    "\n",
    "`\n",
    "fvals[-1]\n",
    "`\n",
    "\n",
    "See the code-skeleton below.  "
   ]
  },
  {
   "cell_type": "markdown",
   "metadata": {},
   "source": [
    "_Answers to Problem 4_"
   ]
  },
  {
   "cell_type": "code",
   "execution_count": null,
   "metadata": {},
   "outputs": [],
   "source": [
    "# You add in the missing code\n",
    "def fresnel_integrator(xvals):\n",
    "    dx = \n",
    "    n = \n",
    "    fvals = np.zeros(int(n)+1)\n",
    "    for jj in xrange(0,):\n",
    "        xj = xvals[jj]\n",
    "        x2 = xj**2.\n",
    "        cx = np.cos(x2)\n",
    "        sx = np.sin(x2)\n",
    "        fupdate = \n",
    "        fvals[jj+1] = \n",
    "    return fvals\n",
    "\n",
    "xvals = np.linspace(0.,10.,int(1e3)+1)\n",
    "fvals = fresnel_integrator(xvals)\n",
    "plt.plot(xvals,fvals)\n",
    "plt.xlabel('$x$')\n",
    "plt.xlabel('$f(x)$')"
   ]
  },
  {
   "cell_type": "code",
   "execution_count": null,
   "metadata": {},
   "outputs": [],
   "source": [
    "# You add in the missing code\n",
    "fvalf = spqd.quad(lambda t: np.cos(t**2.),0.,10.)\n",
    "fvalt = fvalf[0]\n",
    "\n",
    "nvals = np.array()\n",
    "evals = np.zeros()\n",
    "\n",
    "for ll in xrange(0,):\n",
    "    xvals = np.linspace(0.,10.,)\n",
    "    fvals = fresnel_integrator(xvals)\n",
    "    evals[ll] = np.log10(np.abs(fvals[-1]-fvalt))\n",
    "\n",
    "plt.plot(np.log10(nvals),evals)\n",
    "plt.xlabel('$n$')\n",
    "plt.ylabel('$\\log_{10}|Error|$')"
   ]
  },
  {
   "cell_type": "code",
   "execution_count": null,
   "metadata": {
    "collapsed": true
   },
   "outputs": [],
   "source": []
  }
 ],
 "metadata": {
  "kernelspec": {
   "display_name": "Python 3",
   "language": "python",
   "name": "python3"
  },
  "language_info": {
   "codemirror_mode": {
    "name": "ipython",
    "version": 3
   },
   "file_extension": ".py",
   "mimetype": "text/x-python",
   "name": "python",
   "nbconvert_exporter": "python",
   "pygments_lexer": "ipython3",
   "version": "3.7.3"
  }
 },
 "nbformat": 4,
 "nbformat_minor": 2
}
