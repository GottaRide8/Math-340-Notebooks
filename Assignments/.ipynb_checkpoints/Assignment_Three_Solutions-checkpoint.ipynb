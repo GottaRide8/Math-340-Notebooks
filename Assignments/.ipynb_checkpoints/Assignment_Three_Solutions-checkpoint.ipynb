{
 "cells": [
  {
   "cell_type": "code",
   "execution_count": 1,
   "metadata": {},
   "outputs": [],
   "source": [
    "import numpy as np\n",
    "import scipy.integrate as spqd\n",
    "import matplotlib.pyplot as plt\n",
    "%matplotlib inline"
   ]
  },
  {
   "cell_type": "markdown",
   "metadata": {},
   "source": [
    "**Problem 1** - 3 pts: So, the Binomial Theorem is one of those things that is often nice to know.  The theorem says for $n$ a positive integer that \n",
    "\n",
    "$$\n",
    "(x+y)^{n} = \\sum_{l=0}^{n}\\begin{pmatrix} n \\\\ l \\end{pmatrix} x^{l}y^{n-l}, ~ \\begin{pmatrix} n \\\\ l\\end{pmatrix} = \\frac{n!}{l!(n-l)!}.\n",
    "$$\n",
    "\n",
    "1a. Using the Binomial Theorem show\n",
    "$$\n",
    "(x+y)^{2} = x^{2} + 2xy + y^2, ~ (x+y)^{3} = x^{3} + 3x^2y + 3xy^2 + y^3\n",
    "$$\n",
    "Show all steps by way of the Binomial Theorem, i.e. do not just foil and write down the result.  \n",
    "\n",
    "1b.  Using your results above and Pascal's triangle \n",
    "![PT](https://upload.wikimedia.org/wikipedia/commons/c/ca/Pascal_triangle_small.png)\n",
    "find the expansion of \n",
    "$$\n",
    "(x+y)^{8}\n",
    "$$\n",
    "Note, if you understand how Pascal's triangle works, then this should not require much work, i.e. do not foil or use the Binomial Theorem directly.   \n",
    "\n",
    "1c. Using the pattern you see in Pascal's triangle, can you provide an explanation (not proof) for why the identity \n",
    "$$\n",
    "\\begin{pmatrix} n + 1 \\\\ l \\end{pmatrix} = \\begin{pmatrix} n \\\\ l-1 \\end{pmatrix} + \\begin{pmatrix} n \\\\ l \\end{pmatrix}\n",
    "$$\n",
    "is true?"
   ]
  },
  {
   "cell_type": "markdown",
   "metadata": {},
   "source": [
    "_Answers to Problem 1_"
   ]
  },
  {
   "cell_type": "markdown",
   "metadata": {},
   "source": [
    "**Problem 2** - 2pts each\n",
    "\n",
    "2a.  What does the Python code \n",
    "\n",
    "`print(np.linspace(0,1,11))` \n",
    "\n",
    "do?  (To answer this run the code and then briefly explain the result.)\n",
    "\n",
    "2b. What does the Python code \n",
    "\n",
    "`print(np.linspace(0,10,11))` \n",
    "\n",
    "do? (To answer this run the code and then briefly explain the result.)\n",
    "\n",
    "2c. In general then, explain what the command \n",
    "\n",
    "`np.linspace(a,b,n+1)` \n",
    "\n",
    "does for arbitrary real values $a$ and $b>a$, and positive integer value $n$.  "
   ]
  },
  {
   "cell_type": "markdown",
   "metadata": {},
   "source": [
    "_Answers to Problem 2_"
   ]
  },
  {
   "cell_type": "code",
   "execution_count": 4,
   "metadata": {},
   "outputs": [
    {
     "name": "stdout",
     "output_type": "stream",
     "text": [
      "[0.  0.1 0.2 0.3 0.4 0.5 0.6 0.7 0.8 0.9 1. ]\n"
     ]
    }
   ],
   "source": [
    "# 2a)\n",
    "print(np.linspace(0,1,11))"
   ]
  },
  {
   "cell_type": "markdown",
   "metadata": {},
   "source": [
    "We see this creates 11 points from 0 to 1 increasing in increments of $.1$"
   ]
  },
  {
   "cell_type": "code",
   "execution_count": 5,
   "metadata": {},
   "outputs": [
    {
     "name": "stdout",
     "output_type": "stream",
     "text": [
      "[ 0.  1.  2.  3.  4.  5.  6.  7.  8.  9. 10.]\n"
     ]
    }
   ],
   "source": [
    "# 2b)\n",
    "print(np.linspace(0,10,11))"
   ]
  },
  {
   "cell_type": "markdown",
   "metadata": {},
   "source": [
    "We see this creates 11 points from 0 to 1 increasing in increments of 1."
   ]
  },
  {
   "cell_type": "markdown",
   "metadata": {},
   "source": [
    "#### 2c)\n",
    "We see in general that when we write something like \n",
    "\n",
    "` \n",
    "xvals = np.linspace(a,b,int(n)+1)\n",
    "`\n",
    "\n",
    "we are generating a sequence of points $x_{j}$ such that \n",
    "\n",
    "$$\n",
    "\\mbox{xvals[j]} = x_{j}, ~ x_{j} = a + j\\delta x, ~ \\delta x = \\frac{b-a}{n}, ~ j=0,\\cdots,n.\n",
    "$$\n"
   ]
  },
  {
   "cell_type": "markdown",
   "metadata": {},
   "source": [
    "**Problem 3**: 3pts each - So if we start with a numpy array like\n",
    "\n",
    "`\n",
    "xvals = np.linspace(0.,2.,int(1e3))\n",
    "`\n",
    "\n",
    "then if we wanted to plot $f(x)=x^2$ for $0\\leq x \\leq 2$, we would just have to write \n",
    "\n",
    "`\n",
    "yvals = xvals**2\n",
    "plt.plot(xvals,yvals)\n",
    "`\n",
    "\n",
    "This shows how using NumPy arrays allows us to do arithmetic over multiple points at a time.  \n",
    "\n",
    "3a. Plot $f(x) = x^3 + 3x^2 + 2x + 1$ over $-2\\leq x \\leq 2.1$.  Provide labels and make sure your plot window is well sized and fits the domain over which you are plotting.\n",
    "\n",
    "3b. In Python, write the command to create a NumPy array of points between and including $x=1$ and $11$ with spacing between the points equal to $.1$.  \n",
    "\n",
    "3c. What is the spacing between points in the array `np.linspace(1.3,2.4,int(5e2))`?  Note, do not just print out the points, take the difference, and report the result.  "
   ]
  },
  {
   "cell_type": "markdown",
   "metadata": {
    "collapsed": true
   },
   "source": [
    "_Answers to Problem 3_"
   ]
  },
  {
   "cell_type": "code",
   "execution_count": 7,
   "metadata": {},
   "outputs": [
    {
     "data": {
      "text/plain": [
       "(-2.0, 2.1)"
      ]
     },
     "execution_count": 7,
     "metadata": {},
     "output_type": "execute_result"
    },
    {
     "data": {
      "image/png": "[encoded data removed]",
      "text/plain": [
       "<Figure size 432x288 with 1 Axes>"
      ]
     },
     "metadata": {},
     "output_type": "display_data"
    }
   ],
   "source": [
    "#3a)\n",
    "\n",
    "xvals = np.linspace(-2,2.1,int(1e3)+1)\n",
    "fvals = xvals**3. + 3.*xvals**2. + 2.*xvals + 1.\n",
    "plt.plot(xvals,fvals)\n",
    "plt.xlabel('$x$')\n",
    "plt.ylabel('$f(x)$')\n",
    "plt.xlim([-2.,2.1])"
   ]
  },
  {
   "cell_type": "markdown",
   "metadata": {},
   "source": [
    "#### 3b)\n",
    "\n",
    "We have that \n",
    "$$\n",
    "n = (11-1)/.1 = 100\n",
    "$$\n",
    "so we use the code"
   ]
  },
  {
   "cell_type": "code",
   "execution_count": 8,
   "metadata": {},
   "outputs": [],
   "source": [
    "# 3b\n",
    "xvals = np.linspace(1,11,100+1)"
   ]
  },
  {
   "cell_type": "markdown",
   "metadata": {},
   "source": [
    "#### 3c)\n",
    "We have that \n",
    "$$\n",
    "\\delta x = \\frac{2.4-1.3}{500-1} = \\frac{1.1}{499} = .0022044088\n",
    "$$"
   ]
  },
  {
   "cell_type": "markdown",
   "metadata": {},
   "source": [
    "**Problem 4**: For the integral\n",
    "\n",
    "$$\n",
    "I = \\int_{0}^{\\pi/3} \\sin(e^{x})dx\n",
    "$$\n",
    "\n",
    "using $I$ found from Python's built in integrating tools   "
   ]
  },
  {
   "cell_type": "code",
   "execution_count": 4,
   "metadata": {},
   "outputs": [
    {
     "name": "stdout",
     "output_type": "stream",
     "text": [
      "I=0.891489668563799\n"
     ]
    }
   ],
   "source": [
    "Iarr = spqd.quad(lambda x: np.sin(np.exp(x)), 0, np.pi/3.)\n",
    "I = Iarr[0]\n",
    "print(\"I=%1.15f\" %I)"
   ]
  },
  {
   "cell_type": "markdown",
   "metadata": {},
   "source": [
    "for reference, determine the accuracy in using \n",
    "\n",
    "a) (3pts) A two term Taylor series approximation starting at $x_{0}=0$, i.e. $T_{2}(x;x_{0}=0)$ to approximate $I$.\n",
    "\n",
    "b) (3pts) A two term Taylor series approximation starting at $x_{0}=\\frac{\\pi}{6}$, i.e. $T_{2}(x;x_{0}=\\frac{\\pi}{6})$ to approximate $I$.\n",
    "\n",
    "c) (5pts) Two different Taylor series approximations, say $T_{2}(x;x_{0}=0)$ on the interval $[0,\\pi/6]$ and \n",
    "$T_{2}(x;x_{0}=\\frac{\\pi}{6})$ on $[\\pi/6,\\pi/3]$ to approximate $I$.  \n",
    "\n",
    "Use the code in lecture to help you manage the computations and produce your results.  Show all relevant work, and provide a brief explanation at the end for which is the best approximation and why."
   ]
  },
  {
   "cell_type": "markdown",
   "metadata": {},
   "source": [
    "_Answers to Problem 4_\n",
    "\n",
    "So as many figured out, the easiest thing to do is start from the general form of your two term Taylor series, given by \n",
    "\n",
    "$$\n",
    "T_{2}(x;x_{0}) = f(x_{0}) + f'(x_{0})(x-x_{0}) + \\frac{1}{2}f''(x_{0})(x-x_{0})^{2}\n",
    "$$\n",
    "\n",
    "so over any interval of integration $[a,b]$ we have the approximate integral $\\tilde{I}(x_{0},a,b)$ given by \n",
    "\n",
    "\\begin{align*}\n",
    "\\tilde{I}(x_{0},a,b) = & \\int_{a}^{b}T_{2}(x;x_{0})dx \\\\\n",
    "= & f(x_{0})(b-a) + \\frac{1}{2}f'(x_{0})\\left((b-x_{0})^{2} - (a-x_{0})^{2}\\right) \\\\\n",
    "& + \\frac{1}{6}f''(x_{0})\\left((b-x_{0})^{3} - (a-x_{0})^{3}\\right)\n",
    "\\end{align*}\n",
    "\n",
    "Thus the three approximations can be found by evaluating \n",
    "* $\\tilde{I}(0,0,\\pi/3)$\n",
    "* $\\tilde{I}(\\pi/6,0,\\pi/3)$\n",
    "* $\\tilde{I}(0,0,\\pi/6) + \\tilde{I}(\\pi/6,\\pi/6,\\pi/3)$"
   ]
  },
  {
   "cell_type": "code",
   "execution_count": 5,
   "metadata": {},
   "outputs": [
    {
     "name": "stdout",
     "output_type": "stream",
     "text": [
      "First Approximation gives: 1.119797532203620\n",
      "Error of First Approximation is: 0.228307863639821\n",
      "\n",
      "Second Approximation gives: 0.895132601143736\n",
      "Error of Second Approximation is: 0.003642932579937\n",
      "\n",
      "Third Approximation gives: 0.927937638130558\n",
      "Error of Third Approximation is: 0.036447969566759\n"
     ]
    }
   ],
   "source": [
    "def ffun(x):\n",
    "    return np.sin(np.exp(x))\n",
    "\n",
    "def dxffun(x):\n",
    "    return np.cos(np.exp(x))*np.exp(x)\n",
    "\n",
    "def dx2ffun(x):\n",
    "    return np.cos(np.exp(x))*np.exp(x) - np.sin(np.exp(x))*np.exp(2.*x)\n",
    "\n",
    "def int_tseries(x0,a,b):\n",
    "    av = ffun(x0)*(b-a)\n",
    "    bv = dxffun(x0)*((b-x0)**2.-(a-x0)**2.)/2.\n",
    "    cv = dx2ffun(x0)*((b-x0)**3.-(a-x0)**3.)/6.\n",
    "    return (av+bv+cv)\n",
    "\n",
    "p3 = np.pi/3.\n",
    "p3h = p3/2.\n",
    "zv = 0.\n",
    "\n",
    "a1 = int_tseries(zv,zv,p3)\n",
    "a2 = int_tseries(p3h,zv,p3)\n",
    "a3 = int_tseries(zv,zv,p3h)+int_tseries(p3h,p3h,p3)\n",
    "\n",
    "print(\"First Approximation gives: %1.15f\"%a1)\n",
    "print(\"Error of First Approximation is: %1.15f\"%np.abs(a1-I))\n",
    "print()\n",
    "print(\"Second Approximation gives: %1.15f\"%a2)\n",
    "print(\"Error of Second Approximation is: %1.15f\"%np.abs(a2-I))\n",
    "print()\n",
    "print(\"Third Approximation gives: %1.15f\"%a3)\n",
    "print(\"Error of Third Approximation is: %1.15f\"%np.abs(a3-I))"
   ]
  },
  {
   "cell_type": "markdown",
   "metadata": {},
   "source": [
    "As we see from the results, the first approximation scheme gives an error of about 22%.  Using the interval splitting technique discussed in class, the third approximation scheme reduces the error to about 3%, which is a significant improvement.  However, we see that the best performance comes from using the midpoint of the interval in the second approximation, which reduces the error to almost a tenth of a percent.    "
   ]
  },
  {
   "cell_type": "code",
   "execution_count": null,
   "metadata": {},
   "outputs": [],
   "source": []
  }
 ],
 "metadata": {
  "kernelspec": {
   "display_name": "Python 3",
   "language": "python",
   "name": "python3"
  },
  "language_info": {
   "codemirror_mode": {
    "name": "ipython",
    "version": 3
   },
   "file_extension": ".py",
   "mimetype": "text/x-python",
   "name": "python",
   "nbconvert_exporter": "python",
   "pygments_lexer": "ipython3",
   "version": "3.7.1"
  }
 },
 "nbformat": 4,
 "nbformat_minor": 2
}
