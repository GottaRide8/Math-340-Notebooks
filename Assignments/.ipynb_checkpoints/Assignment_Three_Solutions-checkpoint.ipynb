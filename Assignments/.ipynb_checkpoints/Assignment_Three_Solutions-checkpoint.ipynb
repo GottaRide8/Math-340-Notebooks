{
 "cells": [
  {
   "cell_type": "code",
   "execution_count": 2,
   "metadata": {},
   "outputs": [],
   "source": [
    "import numpy as np\n",
    "import matplotlib.pyplot as plt\n",
    "%matplotlib inline"
   ]
  },
  {
   "cell_type": "markdown",
   "metadata": {},
   "source": [
    "** Problem 1 ** - 3 pts: So, the Binomial Theorem is one of those things that is often nice to know.  The theorem says for $n$ a positive integer that \n",
    "\n",
    "$$\n",
    "(x+y)^{n} = \\sum_{l=0}^{n}\\begin{pmatrix} n \\\\ l \\end{pmatrix} x^{l}y^{n-l}, ~ \\begin{pmatrix} n \\\\ l\\end{pmatrix} = \\frac{n!}{l!(n-l)!}.\n",
    "$$\n",
    "\n",
    "1a. Using the Binomial Theorem show\n",
    "$$\n",
    "(x+y)^{2} = x^{2} + 2xy + y^2, ~ (x+y)^{3} = x^{3} + 3x^2y + 3xy^2 + y^3\n",
    "$$\n",
    "Show all steps by way of the Binomial Theorem, i.e. do not just foil and write down the result.  \n",
    "\n",
    "1b.  Using your results above and Pascal's triangle \n",
    "![PT](https://upload.wikimedia.org/wikipedia/commons/c/ca/Pascal_triangle_small.png)\n",
    "find the expansion of \n",
    "$$\n",
    "(x+y)^{8}\n",
    "$$\n",
    "Note, if you understand how Pascal's triangle works, then this should not require much work, i.e. do not foil or use the Binomial Theorem directly.   \n",
    "\n",
    "1c. Using the pattern you see in Pascal's triangle, can you provide an explanation (not proof) for why the identity \n",
    "$$\n",
    "\\begin{pmatrix} n + 1 \\\\ l \\end{pmatrix} = \\begin{pmatrix} n \\\\ l-1 \\end{pmatrix} + \\begin{pmatrix} n \\\\ l \\end{pmatrix}\n",
    "$$\n",
    "is true?"
   ]
  },
  {
   "cell_type": "markdown",
   "metadata": {},
   "source": [
    "_ Answers to Problem 1 _"
   ]
  },
  {
   "cell_type": "markdown",
   "metadata": {},
   "source": [
    "** Problem 2 ** - 2pts each\n",
    "\n",
    "2a.  What does the Python code \n",
    "\n",
    "`print np.linspace(0,1,11)` \n",
    "\n",
    "do?  (To answer this run the code and then briefly explain the result.)\n",
    "\n",
    "2b. What does the Python code \n",
    "\n",
    "`print np.linspace(0,10,11)` \n",
    "\n",
    "do? (To answer this run the code and then briefly explain the result.)\n",
    "\n",
    "2c. In general then, explain what the command \n",
    "\n",
    "`np.linspace(a,b,n+1)` \n",
    "\n",
    "does for arbitrary real values $a$ and $b>a$, and positive integer value $n$.  "
   ]
  },
  {
   "cell_type": "markdown",
   "metadata": {},
   "source": [
    "_Answers to Problem 2_"
   ]
  },
  {
   "cell_type": "code",
   "execution_count": 4,
   "metadata": {},
   "outputs": [
    {
     "name": "stdout",
     "output_type": "stream",
     "text": [
      "[0.  0.1 0.2 0.3 0.4 0.5 0.6 0.7 0.8 0.9 1. ]\n"
     ]
    }
   ],
   "source": [
    "# 2a)\n",
    "print np.linspace(0,1,11)"
   ]
  },
  {
   "cell_type": "markdown",
   "metadata": {},
   "source": [
    "We see this creates 11 points from 0 to 1 increasing in increments of $.1$"
   ]
  },
  {
   "cell_type": "code",
   "execution_count": 5,
   "metadata": {},
   "outputs": [
    {
     "name": "stdout",
     "output_type": "stream",
     "text": [
      "[ 0.  1.  2.  3.  4.  5.  6.  7.  8.  9. 10.]\n"
     ]
    }
   ],
   "source": [
    "# 2b)\n",
    "print np.linspace(0,10,11)"
   ]
  },
  {
   "cell_type": "markdown",
   "metadata": {},
   "source": [
    "We see this creates 11 points from 0 to 1 increasing in increments of 1."
   ]
  },
  {
   "cell_type": "markdown",
   "metadata": {},
   "source": [
    "#### 2c)\n",
    "We see in general that when we write something like \n",
    "\n",
    "` \n",
    "xvals = np.linspace(a,b,int(n)+1)\n",
    "`\n",
    "\n",
    "we are generating a sequence of points $x_{j}$ such that \n",
    "\n",
    "$$\n",
    "\\mbox{xvals[j]} = x_{j}, ~ x_{j} = a + j\\delta x, ~ \\delta x = \\frac{b-a}{n}, ~ j=0,\\cdots,n.\n",
    "$$\n"
   ]
  },
  {
   "cell_type": "markdown",
   "metadata": {},
   "source": [
    "** Problem 3 **: 3pts each - So if we start with a numpy array like\n",
    "\n",
    "`\n",
    "xvals = np.linspace(0.,2.,int(1e3))\n",
    "`\n",
    "\n",
    "then if we wanted to plot $f(x)=x^2$ for $0\\leq x \\leq 2$, we would just have to write \n",
    "\n",
    "`\n",
    "yvals = xvals**2\n",
    "plt.plot(xvals,yvals)\n",
    "`\n",
    "\n",
    "This shows how using NumPy arrays allows us to do arithmetic over multiple points at a time.  \n",
    "\n",
    "3a. Plot $f(x) = x^3 + 3x^2 + 2x + 1$ over $-2\\leq x \\leq 2.1$.  Provide labels and make sure your plot window is well sized and fits the domain over which you are plotting.\n",
    "\n",
    "3b. In Python, write the command to create a NumPy array of points between and including $x=1$ and $11$ with spacing between the points equal to $.1$.  \n",
    "\n",
    "3c. What is the spacing between points in the array `np.linspace(1.3,2.4,int(5e2))`?  Note, do not just print out the points, take the difference, and report the result.  "
   ]
  },
  {
   "cell_type": "markdown",
   "metadata": {
    "collapsed": true
   },
   "source": [
    "_Answers to Problem 3_"
   ]
  },
  {
   "cell_type": "code",
   "execution_count": 7,
   "metadata": {},
   "outputs": [
    {
     "data": {
      "text/plain": [
       "(-2.0, 2.1)"
      ]
     },
     "execution_count": 7,
     "metadata": {},
     "output_type": "execute_result"
    },
    {
     "data": {
      "image/png": "[encoded data removed]",
      "text/plain": [
       "<Figure size 432x288 with 1 Axes>"
      ]
     },
     "metadata": {},
     "output_type": "display_data"
    }
   ],
   "source": [
    "#3a)\n",
    "\n",
    "xvals = np.linspace(-2,2.1,int(1e3)+1)\n",
    "fvals = xvals**3. + 3.*xvals**2. + 2.*xvals + 1.\n",
    "plt.plot(xvals,fvals)\n",
    "plt.xlabel('$x$')\n",
    "plt.ylabel('$f(x)$')\n",
    "plt.xlim([-2.,2.1])"
   ]
  },
  {
   "cell_type": "markdown",
   "metadata": {},
   "source": [
    "#### 3b)\n",
    "\n",
    "We have that \n",
    "$$\n",
    "n = (11-1)/.1 = 100\n",
    "$$\n",
    "so we use the code"
   ]
  },
  {
   "cell_type": "code",
   "execution_count": 8,
   "metadata": {},
   "outputs": [],
   "source": [
    "# 3b\n",
    "xvals = np.linspace(1,11,100+1)"
   ]
  },
  {
   "cell_type": "markdown",
   "metadata": {},
   "source": [
    "#### 3c)\n",
    "We have that \n",
    "$$\n",
    "\\delta x = \\frac{2.4-1.3}{500-1} = \\frac{1.1}{499} = .0022044088\n",
    "$$"
   ]
  },
  {
   "cell_type": "code",
   "execution_count": null,
   "metadata": {},
   "outputs": [],
   "source": []
  }
 ],
 "metadata": {
  "kernelspec": {
   "display_name": "Python 2",
   "language": "python",
   "name": "python2"
  },
  "language_info": {
   "codemirror_mode": {
    "name": "ipython",
    "version": 2
   },
   "file_extension": ".py",
   "mimetype": "text/x-python",
   "name": "python",
   "nbconvert_exporter": "python",
   "pygments_lexer": "ipython2",
   "version": "2.7.15"
  }
 },
 "nbformat": 4,
 "nbformat_minor": 2
}
