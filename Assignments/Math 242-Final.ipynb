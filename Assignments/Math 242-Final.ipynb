{
 "cells": [
  {
   "cell_type": "code",
   "execution_count": 5,
   "metadata": {
    "collapsed": true
   },
   "outputs": [],
   "source": [
    "import matplotlib.pyplot as plt\n",
    "%matplotlib inline\n",
    "import numpy as np\n",
    "import string"
   ]
  },
  {
   "cell_type": "markdown",
   "metadata": {},
   "source": [
    "<strong> Problem 1 </strong>: 6 pts If one can write a prime number $p$ as \n",
    "\n",
    "$$\n",
    "p = 2^{n}-1\n",
    "$$\n",
    "\n",
    "we call it a *Mersenne* prime.  For example \n",
    "\n",
    "$$\n",
    "3 = 2^2 - 1, ~ 7 = 2^3 - 1\n",
    "$$\n",
    "\n",
    "but clearly $5$ and $11$ are not Mersenne primes.  Using the prime number generator we developed in *Lecture-Chapter 12* and list comprehension, determine the first six Mersenne primes.  As a hint, might I recommend using the numpy function `log2()`, which computes the base 2 logarithm of a number.  Clearly describe your code (4 pts) and the process you take to make sure you have exactly one hundred Mersenne primes (2 pts).  "
   ]
  },
  {
   "cell_type": "markdown",
   "metadata": {},
   "source": [
    "<strong> Problem 2 </strong>: 10pts Using Horner's method as explained in Homework 7, develop a recursive implementation for computing  the $n+1$ term MacLaurin series of $\\sin(x)$. Provide both a derivation of a recursive formula (4 pts) and an implementation of it in Python (4 pts).  Test your code (2 pts) using the fact that \n",
    "$$\n",
    "\\sin\\left(\\frac{\\pi}{4}\\right) = \\frac{1}{\\sqrt{2}}\n",
    "$$"
   ]
  },
  {
   "cell_type": "markdown",
   "metadata": {},
   "source": [
    "<strong> Problem 3 </strong>: 10 pts. The Legendre polynomials are a family of polynomials given by the recurrence relationship \n",
    "\n",
    "$$\n",
    "(n+2)P_{n+2}(x) = (2n+3)xP_{n+1}(x) - (n+1)P_{n}(x), ~ n\\geq 0.\n",
    "$$\n",
    "\n",
    "where\n",
    "\n",
    "$$\n",
    "P_{0}(x) = 1, ~ P_{1}(x) = x.\n",
    "$$\n",
    "\n",
    "Develop a recursive program for generating the Legendre polynomials (5pts) and plot $P_{6}(x)$ on the interval $[-1,1]$ (5pts)."
   ]
  },
  {
   "cell_type": "markdown",
   "metadata": {},
   "source": [
    "<strong> Problem 4 </strong>: 10 pts. It turns out in discrete dynamial systems that maps do not even need to be continuous to do interesting things.  For example, we can define the piecewise discontinuous map\n",
    "\n",
    "$$\n",
    "f_{a}(x) = \\left\\{ \n",
    "\\begin{array}{rl} \n",
    "3ax, & 0\\leq x < \\frac{1}{3}\\\\\n",
    "3a\\left(x-\\frac{1}{3}\\right), & \\frac{1}{3}\\leq x < \\frac{2}{3}\\\\\n",
    "3a\\left(x-\\frac{2}{3}\\right), & \\frac{2}{3}\\leq x \\leq 1\\\\\n",
    "\\end{array} \\right.\n",
    "$$\n",
    "\n",
    "Note, so long as $0\\leq a \\leq 1$, then $f_{a}:[0,1]\\rightarrow [0,a]\\subset[0,1]$.  Determine the fixed points of this map and their stability (3 pts).  Write a program which produces a bifurcation plot over the interval $0\\leq a \\leq 1$ (4 pts).  At what value of $a$ would you say the onset of chaotic dynamics occurs and why? (3 pts)  Again, you are welcome to use any code we have developed throughout the semester.    "
   ]
  },
  {
   "cell_type": "markdown",
   "metadata": {},
   "source": [
    "<strong> Problem 5 </strong>: 8pts Implement an insertion sorting algorithm, but do it *in place*. That means do **not** introduce a  second list `svals`.  This also means you will have to perform all your operations on the list a user would input to be sorted.  As a hint, if the list you are sorting is given by `vals`, then I found the line\n",
    "\n",
    "`vals.insert(kk,vals.pop(jj))`\n",
    "\n",
    "very useful. I also used two nested `for` loops.\n",
    "\n",
    "Also, as we noted during lecture, given our approach to insertion sort produces lists that go from \"small\" to \"large\" (or in ascending alphabetical order for strings), the insertion sort performs worst over pre-sorted lists.  How could you modify the insertion sort in order to fix this dilemma?  Hint, in the code you developed for insertion sort in place above, you need to think of where to put one  `if` statement like \n",
    "\n",
    "`if vals[jj]<vals[jj-1]:`\n",
    "\n",
    "Provide two test cases to show your method works. (4 pts for first part, 2 pts for second, 2 pts for test cases)."
   ]
  },
  {
   "cell_type": "markdown",
   "metadata": {},
   "source": [
    "<strong> Problem 6 </strong>: 6 pts.  4pts Implement an insertion sort that sorts across a *gap* from a chosen starting position.  For example, if we have the list\n",
    "\n",
    "`vals = [3,7,2,14,11,9,8,7,4]`\n",
    "\n",
    "then if I choose `0` as my starting position and a gap of `3`, after sorting, you will return the list \n",
    "\n",
    "`vals = [3,7,2,8,11,9,14,7,4]`\n",
    "\n",
    "which sorted the entries `[3,14,8]` corresponding to the indicies `[0,3,6]` of `vals` and put them back over the same indices.  Note, your choice of value for `gap` may not divide into `len(vals)`.  Do not worry about wrapping around back to the beginning of the list.  Start your code with\n",
    "\n",
    "`def gap_sort(vals,start,gap):`\n",
    "\n",
    "Use the example above to test your code.  Feel free to use your code from the previous problem."
   ]
  },
  {
   "cell_type": "code",
   "execution_count": null,
   "metadata": {
    "collapsed": true
   },
   "outputs": [],
   "source": []
  }
 ],
 "metadata": {
  "kernelspec": {
   "display_name": "Python 2",
   "language": "python",
   "name": "python2"
  },
  "language_info": {
   "codemirror_mode": {
    "name": "ipython",
    "version": 2
   },
   "file_extension": ".py",
   "mimetype": "text/x-python",
   "name": "python",
   "nbconvert_exporter": "python",
   "pygments_lexer": "ipython2",
   "version": "2.7.11"
  }
 },
 "nbformat": 4,
 "nbformat_minor": 0
}
