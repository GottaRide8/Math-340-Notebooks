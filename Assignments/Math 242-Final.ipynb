{
 "cells": [
  {
   "cell_type": "code",
   "execution_count": 5,
   "metadata": {
    "collapsed": true
   },
   "outputs": [],
   "source": [
    "import matplotlib.pyplot as plt\n",
    "%matplotlib inline\n",
    "import numpy as np\n",
    "import string"
   ]
  },
  {
   "cell_type": "markdown",
   "metadata": {},
   "source": [
    "<strong> Problem 1 </strong>: 5 pts each. Using list comprehension, determine \n",
    "\n",
    "<ol>\n",
    "<li> The list of all numbers divisible by 3 and 7 between 201 and 475. </li>\n",
    "<li> The list of all perfect squares and cubes under 10000. </li>\n",
    "<li> The list of all cube roots from 1 to 71.</li>\n",
    "</ol>"
   ]
  },
  {
   "cell_type": "markdown",
   "metadata": {},
   "source": [
    "<strong> Problem 2 </strong>: 8 pts. Using a while loop which stops due to meeting a tolerance condition (see Lecture- Chapter 13-15,17, the example of using a while loop for computing the Maclaurin Series for $\\sin(x)$, for reference), design a function to find the following sum.    \n",
    "\n",
    "$$\\sum_{n=0}^{\\infty} \\sin^{n}(x),~ -\\frac{\\pi}{2}< x < \\frac{\\pi}{2}$$.  \n",
    "\n",
    "Your function should start with \n",
    "\n",
    "`def p2(x,tol):` \n",
    "\n",
    "where `x` is the point you wish to evaluate at, and `tol` is the tolerance you are trying to meet.  Use recursion wherever possible. (5pts)  \n",
    "\n",
    "Note, it is easy to show that \n",
    "\n",
    "$$ \\frac{1}{1-\\sin(x)} = \\sum_{n=0}^{\\infty} \\sin^{n}(x),~ -\\frac{\\pi}{2}< x < \\frac{\\pi}{2}  $$.  \n",
    "\n",
    "Using this fact, provide a test of your tolerance condition.  In other words, compare how setting the tolerance changes the accuracy of your approximation to the infinite sum. (3pts)"
   ]
  },
  {
   "cell_type": "markdown",
   "metadata": {},
   "source": [
    "<strong> Problem 3 </strong>: 10 pts. The Legendre polynomials are a family of polynomials given by the recurrence relationship \n",
    "\n",
    "$$\n",
    "(n+1)P_{n+1}(x) = (2n+1)xP_{n}(x) - nP_{n-1}(x),\n",
    "$$\n",
    "\n",
    "where\n",
    "\n",
    "$$\n",
    "P_{0}(x) = 1, ~ P_{1}(x) = x.\n",
    "$$\n",
    "\n",
    "Develop a recursive program for generating the Legendre polynomials (5pts) and plot $P_{6}(x)$ on the interval $[-1,1]$ (5pts)."
   ]
  },
  {
   "cell_type": "markdown",
   "metadata": {},
   "source": [
    "<strong> Problem 4 </strong>: 7 pts. It turns out in discrete dynamial systems that maps do not even need to be continuous to do interesting things.  For example, we can define the piecewise discontinuous map\n",
    "\n",
    "$$\n",
    "f_{a}(x) = \\left\\{ \n",
    "\\begin{array}{rl} \n",
    "3ax, & 0\\leq x < \\frac{1}{3}\\\\\n",
    "3a\\left(x-\\frac{1}{3}\\right), & \\frac{1}{3}\\leq x < \\frac{2}{3}\\\\\n",
    "3a\\left(x-\\frac{2}{3}\\right), & \\frac{2}{3}\\leq x \\leq 1\\\\\n",
    "\\end{array} \\right.\n",
    "$$\n",
    "\n",
    "Note, so long as $0\\leq a \\leq 1$, then $f_{a}:[0,1]\\rightarrow [0,a]\\subset[0,1]$.  Determine the fixed points of this map and their stability (2 pts).  Write a program which produces a bifurcation plot over the interval $0\\leq a \\leq 1$ (3 pts).  At what value of $a$ would you say the onset of chaotic dynamics occurs and why? (2 pts)  Again, you are welcome to use any code we have developed throughout the semester.    "
   ]
  },
  {
   "cell_type": "markdown",
   "metadata": {},
   "source": [
    "<strong> Problem 5 </strong>: 6 pts.  So for the last time I am going to ask you to design a program that produces a frequency plot of the letters in a body of text.  However, this time you need to do it with only two functions\n",
    "\n",
    "`def letter_count(word,freqs,pmarks):`\n",
    "\n",
    "and a function that calls `letter_count` say \n",
    "\n",
    "`def letter_freq(fname):`\n",
    "\n",
    "In `letter_count`, you need to search over `word` by character and first determine whether a character is a punctuation mark or not.  To do this, you need to define a list of punction marks, `pmarks`, which can be done with the code (note the `import string` statement at the beginning of the exam)\n",
    "\n",
    "`pmarks = list(string.punctuation)`\n",
    "\n",
    "If a character is not a punction mark, then you should make it upper case, and then you should update the corresponding dictionary entry in `freqs`.  Use the code below, and any other code we have used throughout the semester, to solve this problem. Produce a frequency plot for \"juliet.txt\".  "
   ]
  },
  {
   "cell_type": "code",
   "execution_count": 8,
   "metadata": {
    "collapsed": true
   },
   "outputs": [],
   "source": [
    "def letter_count(word,freqs,pmarks):\n",
    "    for char in word: # Again, word can have punctuation marks and both lower and upper case letters.  \n",
    "        \n",
    "def letter_freq(fname):\n",
    "    "
   ]
  },
  {
   "cell_type": "code",
   "execution_count": null,
   "metadata": {
    "collapsed": false
   },
   "outputs": [],
   "source": [
    "xaxis = np.linspace(1,26,26)\n",
    "freq_vals = np.asarray(letter_freq(\"juliet.txt\"))\n",
    "plt.plot(xaxis,freq_vals)\n",
    "plt.xlim(1,26)"
   ]
  },
  {
   "cell_type": "markdown",
   "metadata": {},
   "source": [
    "<strong> Problem 6 </strong>: 6 pts.  *Shell sorting* is a list sorting algorithm that works in the following way.  First, for a list of size $n$, choose a gap size, say $\\delta$ to initially be $\\delta = n/2$ (round down if $n$ is odd), and then do an insertion sort using this gap size (see Midterm II for an explanation of doing insertion sorts with gaps).  Then reduce the gap size, say to $\\delta = n/4$, and so on and so forth until the gap size is identically one, i.e. $\\delta = 1$.  At that point, you are just doing a standard insertion sort, but so long as you implement the insertion sort properly, this should finish in far fewer operations than if you had started this whole process with a standard insertion sort.  \n",
    "\n",
    "Implement the shell sorting algorithm in the way described above.  Compare its performance to that of merge sorting over randomnly generated lists of size $n=10, 100, 1000, 10000, 50000$ using the timing functions used in both the homework and Midterm II.  Again, you are welcome to use any code we have already developed this semester.  Which sorting method is better and why?  For shell sorting, if we describe its operation count as $\\mathcal{O}(n^{p})$, can you find $p$?  "
   ]
  },
  {
   "cell_type": "code",
   "execution_count": null,
   "metadata": {
    "collapsed": true
   },
   "outputs": [],
   "source": []
  }
 ],
 "metadata": {
  "kernelspec": {
   "display_name": "Python 2",
   "language": "python",
   "name": "python2"
  },
  "language_info": {
   "codemirror_mode": {
    "name": "ipython",
    "version": 2
   },
   "file_extension": ".py",
   "mimetype": "text/x-python",
   "name": "python",
   "nbconvert_exporter": "python",
   "pygments_lexer": "ipython2",
   "version": "2.7.11"
  }
 },
 "nbformat": 4,
 "nbformat_minor": 0
}
