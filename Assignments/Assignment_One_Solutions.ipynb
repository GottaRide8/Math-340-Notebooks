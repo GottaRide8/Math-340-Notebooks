{
 "cells": [
  {
   "cell_type": "code",
   "execution_count": 4,
   "metadata": {
    "collapsed": true
   },
   "outputs": [],
   "source": [
    "import numpy as np"
   ]
  },
  {
   "cell_type": "markdown",
   "metadata": {},
   "source": [
    "# Assignment 1"
   ]
  },
  {
   "cell_type": "markdown",
   "metadata": {},
   "source": [
    "\n",
    "**Problem 1** - 3 pts each:  Write the solution to the following indefinite integrals using LaTeX.  No credit will be awarded for work turned in in any other format.  Follow the model below.\n",
    "$$\n",
    "\\int \\sin(x) dx = -\\cos(x) + C\n",
    "$$\n",
    "\n",
    "<ol>\n",
    "<li>    $$\n",
    "        \\int \\sin^{2}(3x) dx\n",
    "        $$\n",
    "<li>\n",
    "    $$\n",
    "    \\int \\frac{dx}{1+4x^2}\n",
    "    $$\n",
    "<li>\n",
    "    $$\n",
    "    \\int x^{n} dx\n",
    "    $$"
   ]
  },
  {
   "cell_type": "markdown",
   "metadata": {},
   "source": [
    "_ Answers to Problem 1 _: Write your answers in the lines below using LaTeX.\n",
    "\n",
    "1.1: \n",
    "\n",
    "$$\n",
    "\\int \\sin^{2}(3x) dx = \\frac{x}{2} + \\frac{1}{12}\\sin(6x) + C\n",
    "$$\n",
    "\n",
    "1.2:\n",
    "\n",
    "$$\n",
    "\\int \\frac{dx}{1+4x^{2}} = \\frac{1}{2}\\tan^{-1}(2x) + C\n",
    "$$\n",
    "\n",
    "1.3:\n",
    "\n",
    "$$\n",
    "\\int x^{n} dx = \\frac{x^{n+1}}{n+1} + C\n",
    "$$"
   ]
  },
  {
   "cell_type": "markdown",
   "metadata": {},
   "source": [
    "** Problem 2 ** - 3 pts each: Using the classic result for a geometric series that \n",
    "\n",
    "$$\n",
    "\\sum_{n=0}^{\\infty}x^{n} = \\frac{1}{1-x}, ~ \\left|x\\right|<1,\n",
    "$$\n",
    "\n",
    "find the following sums.  Use the above statement of the sum of a geometric series as a model.  Again, use LaTeX to write your answers.  No credit will be given otherwise. \n",
    "\n",
    "<ol>\n",
    "\n",
    "<li> \n",
    "$$\n",
    "\\sum_{j=0}^{\\infty} 3^{j/2}x^{2j}, ~ |x|<\\frac{1}{3^{1/4}}.\n",
    "$$\n",
    "\n",
    "<li>\n",
    "$$\n",
    "\\sum_{j=0}^{\\infty} \\sin^{3j}(x), ~ |x|<\\frac{\\pi}{2}.\n",
    "$$\n",
    "\n",
    "<li>\n",
    "$$\n",
    "\\sum_{j=1}^{\\infty} e^{2jx}, ~ x<0.\n",
    "$$\n"
   ]
  },
  {
   "cell_type": "markdown",
   "metadata": {},
   "source": [
    "_ Answers to Problem 2 _: Write your answers below using LaTeX.  Again, use beginning of the problem statement of Problem 2 as a model for your answers.  \n",
    "\n",
    "2.1: \n",
    "\n",
    "$$\n",
    "\\sum_{j=0}^{\\infty} 3^{j/2}x^{2j} = \\frac{1}{1-3^{1/2}x^{2}}, ~ |x|<\\frac{1}{3^{1/4}}.\n",
    "$$\n",
    "\n",
    "2.2:\n",
    "\n",
    "$$\n",
    "\\sum_{j=0}^{\\infty} \\sin^{3j}(x) = \\frac{1}{1-\\sin^{3}(x)}, ~ |x|<\\frac{\\pi}{2}.\n",
    "$$\n",
    "\n",
    "2.3:\n",
    "\n",
    "$$\n",
    "\\sum_{j=1}^{\\infty} e^{2jx} = \\frac{e^{2x}}{1-e^{2x}}, ~ x<0.\n",
    "$$"
   ]
  },
  {
   "cell_type": "markdown",
   "metadata": {},
   "source": [
    "** Problem 3 ** 10 pts: So, if you go ask the right kind of people, they will tell you that you can find $\\pi$ via the following limit. \n",
    "\n",
    "$$\n",
    "\\pi = \\lim_{n\\rightarrow\\infty} \\frac{4}{n^{2}}\\sum_{k=0}^{n}\\sqrt{n^{2}-k^{2}}\n",
    "$$\n",
    "\n",
    "So if I give you the following Python function "
   ]
  },
  {
   "cell_type": "code",
   "execution_count": 5,
   "metadata": {
    "collapsed": true
   },
   "outputs": [],
   "source": [
    "def pi_approx(n):\n",
    "    tot = 0.\n",
    "    for kk in xrange(0,int(n)+1):\n",
    "        tot += np.sqrt(n**2.-kk**2.)\n",
    "    return 4.*tot/n**2."
   ]
  },
  {
   "cell_type": "markdown",
   "metadata": {},
   "source": [
    "using a list and a for loop as in the lecture, determine $\\pi$ to 7-correct (though 6 will do) digits.    "
   ]
  },
  {
   "cell_type": "code",
   "execution_count": 6,
   "metadata": {},
   "outputs": [
    {
     "name": "stdout",
     "output_type": "stream",
     "text": [
      "e=3.304518326248319\n",
      "e=3.160417031779045\n",
      "e=3.143555466911020\n",
      "e=3.141791477611314\n",
      "e=3.141612616402027\n",
      "e=3.141594652413929\n",
      "e=3.141592853552759\n"
     ]
    }
   ],
   "source": [
    "values = [1e1, 1e2, 1e3, 1e4, 1e5, 1e6, 1e7] # Build a list of different values of n.\n",
    "\n",
    "for value in values: # Iterate over the list nvals value by value.\n",
    "    print \"e=%1.15f\" %pi_approx(value) # Find the approxmation to e using nval for n."
   ]
  },
  {
   "cell_type": "markdown",
   "metadata": {},
   "source": [
    "_ Provide a justification for your answer using the results from your code here. _"
   ]
  },
  {
   "cell_type": "markdown",
   "metadata": {
    "collapsed": true
   },
   "source": [
    "As we see, by increasing the value of $n$ used in the sum by powers of $10$, we get convergence in one digit after another up to about the fifth after the decimal point.  Thus, by going up to $n=10^{7}$, we can make a reasonable claim that $\\pi \\approx 3.14159$."
   ]
  },
  {
   "cell_type": "code",
   "execution_count": null,
   "metadata": {
    "collapsed": true
   },
   "outputs": [],
   "source": []
  }
 ],
 "metadata": {
  "kernelspec": {
   "display_name": "Python [default]",
   "language": "python",
   "name": "python2"
  },
  "language_info": {
   "codemirror_mode": {
    "name": "ipython",
    "version": 2
   },
   "file_extension": ".py",
   "mimetype": "text/x-python",
   "name": "python",
   "nbconvert_exporter": "python",
   "pygments_lexer": "ipython2",
   "version": "2.7.13"
  }
 },
 "nbformat": 4,
 "nbformat_minor": 2
}
