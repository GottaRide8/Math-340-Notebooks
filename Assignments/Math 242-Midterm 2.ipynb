{
 "cells": [
  {
   "cell_type": "markdown",
   "metadata": {},
   "source": [
    "<strong> Problem 1 </strong>: 5 pts each Using list comprehension \n",
    "\n",
    "<ol>\n",
    "<li> The list of all numbers divisible by 3 between 372 and 471. </li>\n",
    "<li> The list of all perfect cubes under 2000. </li>\n",
    "<li> The list of all cube roots from 1 to 51.</li>\n",
    "</ol>"
   ]
  },
  {
   "cell_type": "markdown",
   "metadata": {},
   "source": [
    "<strong> Problem 2 </strong>: 6 pts If one can write a prime number $p$ as \n",
    "\n",
    "$$\n",
    "p = 2^{n}-1\n",
    "$$\n",
    "\n",
    "we call it a *Mersenne* prime.  For example \n",
    "\n",
    "$$\n",
    "3 = 2^2 - 1, ~ 7 = 2^3 - 1\n",
    "$$\n",
    "\n",
    "but clearly $5$ and $11$ are not Mersenne primes.  Using the prime number generator we developed in *Lecture-Chapter 12* and list comprehension, determine the first hundred Mersenne primes.  As a hint, might I recommend using the numpy function `log2()`, which computes the base 2 logarithm of a number.  Clearly describe your code (4 pts) and the process you take to make sure you have exactly one hundred Mersenne primes (2 pts).  "
   ]
  },
  {
   "cell_type": "markdown",
   "metadata": {},
   "source": [
    "<strong> Problem 3 </strong>: 10pts The *Hermite Polynomials* are defined by the recurrence relationship\n",
    "    \n",
    "$$\n",
    "H_{n+1}(x) = 2xH_{n}(x) -2nH_{n-1}(x), ~ n\\geq 1, \n",
    "$$\n",
    "where\n",
    "$$\n",
    "H_{0}(x)=1, ~ H_{1}(x) = 2x.\n",
    "$$\n",
    "Thus we readily see for example that\n",
    "$$\n",
    "H_{2}(x) = 2x\\cdot(2x) - 2\\cdot (1)\\cdot(1) = 4x^2 -2.\n",
    "$$\n",
    "\n",
    "Write a recursive function which finds any Hermite polynomial $H_{n}(x)$ (5pts).  Start your code with\n",
    "\n",
    "` def hermite(x,n): `\n",
    "\n",
    "Using this, make a plot of $H_{5}(x)$ on the interval $x\\in[-1,1]$. (5pts)"
   ]
  },
  {
   "cell_type": "markdown",
   "metadata": {},
   "source": [
    "<strong> Problem 4 </strong>: 10pts Using Horner's method as explained in Homework 7, develop a recursive implementation for computing  the $n+1$ term MacLaurin series of $\\sin(x)$. Provide both a derivation of a recursive formula (4 pts) and an implementation of it in Python (4 pts).  Test your code (2 pts) using the fact that \n",
    "$$\n",
    "\\sin\\left(\\frac{\\pi}{4}\\right) = \\frac{1}{\\sqrt{2}}\n",
    "$$"
   ]
  },
  {
   "cell_type": "markdown",
   "metadata": {},
   "source": [
    "<strong> Problem 5 </strong>: 7pts Implement the bubble sort as explained on page 138 of your text book. (3 pts)  Repeat Exercise 19.1, for bubble sorting and selection sorting, and describe which method is better and why. (4 pts)"
   ]
  },
  {
   "cell_type": "markdown",
   "metadata": {},
   "source": [
    "<strong> Problem 6 </strong>: 4pts Implement an insertion sorting algorithm, but do it *in place*. That means do **not** introduce a  second list `svals`, and this means you will have to perform all your operations on the list a user would input to be sorted.  As a hint, if the list you are sorting is given by `vals`, then I found the line\n",
    "\n",
    "`vals.insert(kk,vals.pop(jj))`\n",
    "\n",
    "very useful.  Provide a test case to show your method works. "
   ]
  },
  {
   "cell_type": "markdown",
   "metadata": {},
   "source": [
    "<strong> Problem 7 </strong>: 4pts Implement an insertion sort that sorts across a *gap* from a chosen starting position.  For example, if we have the list\n",
    "\n",
    "`vals = [3,7,2,14,11,9,8,7,4]`\n",
    "\n",
    "then if I choose `0` as my starting position and a gap of `3`, after sorting, you will return the list \n",
    "\n",
    "`vals = [3,7,2,8,11,9,14,7,4]`\n",
    "\n",
    "which sorted the entries `[3,14,8]` corresponding to the indicies `[0,3,6]` of `vals` and put them back over the same indices.  Note, your choice of value for `gap` may not divide into `len(vals)`.  Do not worry about wrapping around back to the beginning of the list.  Start your code with\n",
    "\n",
    "`def gap_sort(vals,start,gap):`\n",
    "\n",
    "Use the example above to test your code.  Feel free to use your code from the previous problem."
   ]
  },
  {
   "cell_type": "code",
   "execution_count": null,
   "metadata": {
    "collapsed": true
   },
   "outputs": [],
   "source": []
  }
 ],
 "metadata": {
  "anaconda-cloud": {},
  "kernelspec": {
   "display_name": "Python 2",
   "language": "python",
   "name": "python2"
  },
  "language_info": {
   "codemirror_mode": {
    "name": "ipython",
    "version": 2
   },
   "file_extension": ".py",
   "mimetype": "text/x-python",
   "name": "python",
   "nbconvert_exporter": "python",
   "pygments_lexer": "ipython2",
   "version": "2.7.11"
  }
 },
 "nbformat": 4,
 "nbformat_minor": 0
}
