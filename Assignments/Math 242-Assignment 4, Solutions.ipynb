{
 "cells": [
  {
   "cell_type": "markdown",
   "metadata": {},
   "source": [
    "<strong> Problem 1 </strong> Exercise 12.1, 5 pts."
   ]
  },
  {
   "cell_type": "markdown",
   "metadata": {},
   "source": [
    "*Answer to Problem 1*"
   ]
  },
  {
   "cell_type": "markdown",
   "metadata": {},
   "source": [
    "So, we want to write a program which divides an interval $[a,b]$ into $n+1$ equally spaced pieces, and we then want to know what the end points of each subinterval are.  Said another way, we are just building our own version of linspace.  The width of our intervals is given by \n",
    "$$\n",
    "\\Delta x = \\frac{b-a}{n+1}\n",
    "$$\n",
    "and each endpoint of an interval, say $x_{j}$, is given by the formula \n",
    "$$\n",
    "x_{j} = a + j\\Delta x, ~ j=0\\cdots n+1.\n",
    "$$\n",
    "\n",
    "However, if we note that \n",
    "$$\n",
    "x_{j} = a + (j-1)\\Delta x + \\Delta x = x_{j-1} + \\Delta x\n",
    "$$\n",
    "then we get a very simple recursive formula to use in our code.  "
   ]
  },
  {
   "cell_type": "code",
   "execution_count": 6,
   "metadata": {
    "collapsed": true
   },
   "outputs": [],
   "source": [
    "def interval(a,b,n):\n",
    "    dx = float(b-a)/(n+1)\n",
    "    cnt = 1\n",
    "    points = [a]\n",
    "    xj = a\n",
    "    while cnt <= n+1:\n",
    "        xj += dx\n",
    "        points.append(xj)\n",
    "        cnt+=1\n",
    "    return points"
   ]
  },
  {
   "cell_type": "code",
   "execution_count": 7,
   "metadata": {
    "collapsed": false
   },
   "outputs": [
    {
     "name": "stdout",
     "output_type": "stream",
     "text": [
      "[0, 0.9090909090909091, 1.8181818181818181, 2.727272727272727, 3.6363636363636362, 4.545454545454545, 5.454545454545454, 6.363636363636363, 7.2727272727272725, 8.181818181818182, 9.09090909090909, 9.999999999999998]\n"
     ]
    }
   ],
   "source": [
    "print interval(0,10,10)"
   ]
  },
  {
   "cell_type": "code",
   "execution_count": 8,
   "metadata": {
    "collapsed": false
   },
   "outputs": [
    {
     "name": "stdout",
     "output_type": "stream",
     "text": [
      "[3, 3.7, 4.4, 5.1000000000000005, 5.800000000000001, 6.500000000000001, 7.200000000000001, 7.900000000000001, 8.600000000000001, 9.3, 10.0, 10.7, 11.399999999999999, 12.099999999999998, 12.799999999999997, 13.499999999999996, 14.199999999999996, 14.899999999999995, 15.599999999999994, 16.299999999999994, 16.999999999999993]\n"
     ]
    }
   ],
   "source": [
    "print interval(3,17,19)"
   ]
  },
  {
   "cell_type": "code",
   "execution_count": 9,
   "metadata": {
    "collapsed": false
   },
   "outputs": [
    {
     "name": "stdout",
     "output_type": "stream",
     "text": [
      "[-4.72, -3.82, -2.92, -2.02, -1.12, -0.2200000000000002, 0.6799999999999997, 1.5799999999999996, 2.4799999999999995, 3.3799999999999994, 4.279999999999999, 5.18, 6.08, 6.98]\n"
     ]
    }
   ],
   "source": [
    "print interval(-4.72,6.98,12)"
   ]
  },
  {
   "cell_type": "markdown",
   "metadata": {},
   "source": [
    "As can be see, we get the right answers, though rounding issues do keep us from getting exactly from $a$ to $b$, though it is very close in all cases.  "
   ]
  },
  {
   "cell_type": "markdown",
   "metadata": {},
   "source": [
    "<strong> Problem 2 </strong> Exercise 12.7, 5 pts.  Note, the problem is imprecise in its language.  It should read, \"Look up the MacLaurin series for $\\cos(x)$.\""
   ]
  },
  {
   "cell_type": "markdown",
   "metadata": {},
   "source": [
    "*Answer to Problem 2*"
   ]
  },
  {
   "cell_type": "markdown",
   "metadata": {},
   "source": [
    "So what we are trying to do is approximate the function $\\cos(x)$ via the series\n",
    "$$\n",
    "\\cos(x) \\approx \\sum_{k=0}^{n-1} \\frac{(-1)^{k}}{(2k)!} x^{2k}.\n",
    "$$\n",
    "\n",
    "We note that we can make use of the recursive formula \n",
    "$$\n",
    "\\frac{(-1)^{k+1}}{(2(k+1))!} x^{2(k+1)} = \\left(\\frac{(-1)^{k}}{(2k)!} x^{2k}\\right) \\frac{-x^{2}}{(2k+1)(2k+2)}\n",
    "$$\n",
    "to make the computation of the terms more efficient.  "
   ]
  },
  {
   "cell_type": "code",
   "execution_count": null,
   "metadata": {
    "collapsed": true
   },
   "outputs": [],
   "source": [
    "def mac_cos(x,n):\n",
    "    tot = 1.\n",
    "    term = 1.\n",
    "    k = 0\n",
    "    x2 = x**2\n",
    "    while k<=n-2:\n",
    "        term *= -x2/((2*k+2)*(2*k+1))\n",
    "        tot += term\n",
    "        k += 1\n",
    "    return tot"
   ]
  },
  {
   "cell_type": "markdown",
   "metadata": {},
   "source": [
    "<strong> Problem 3 </strong> Exercise 13.1, 2pts per part"
   ]
  },
  {
   "cell_type": "markdown",
   "metadata": {},
   "source": [
    "*Answer to Problem 3*  Okay, even I can't really see a point in writing more than you have to for this.  "
   ]
  },
  {
   "cell_type": "code",
   "execution_count": 23,
   "metadata": {
    "collapsed": false
   },
   "outputs": [
    {
     "name": "stdout",
     "output_type": "stream",
     "text": [
      "6\n",
      "8\n",
      "12\n",
      "6\n",
      "7\n",
      "[8, -3]\n",
      "12\n",
      "[7, 6, 12]\n",
      "6\n",
      "[8, -3, 4, 7, 6, 12, 'abc', 7]\n"
     ]
    }
   ],
   "source": [
    "x = [8,-3,4,7,6,12]\n",
    "\n",
    "#a\n",
    "print len(x)\n",
    "\n",
    "#b\n",
    "print x[0] # first element\n",
    "print x[len(x)-1] # last element\n",
    "print x[len(x)-2] # second to last or penultimate\n",
    "\n",
    "#c\n",
    "print x[3] # Should get the fourth element of the list, and yup, we do.  \n",
    "\n",
    "#d\n",
    "print x[:2] # Should print the first two elements of the list, and yup, it does.\n",
    "\n",
    "#e\n",
    "print x[-1] # This wraps around to the end of the list.  I hate this kind of functionality though.  \n",
    "\n",
    "#f \n",
    "print x[3:] # Prints from the fourth element of the list to the end.  \n",
    "\n",
    "#g\n",
    "print x[-2] # Another wrap around now to the penultimate entry of the list.  Again, I hate this kind of functionality.  \n",
    "\n",
    "#h\n",
    "print x + [\"abc\",7] # Should build a second list that is a combination of the two.  \n"
   ]
  },
  {
   "cell_type": "markdown",
   "metadata": {},
   "source": [
    "<strong> Problem 4 </strong> Exercise 13.2, 2pts per part"
   ]
  },
  {
   "cell_type": "markdown",
   "metadata": {},
   "source": [
    "*Answer to Problem 4*  Again, I can't see how to write much for this.  "
   ]
  },
  {
   "cell_type": "code",
   "execution_count": 22,
   "metadata": {
    "collapsed": false
   },
   "outputs": [
    {
     "name": "stdout",
     "output_type": "stream",
     "text": [
      "[4, 3, 0]\n",
      "[4, 0, 5, 0]\n",
      "[-7, 3, 6, 0]\n",
      "4\n",
      "3\n"
     ]
    }
   ],
   "source": [
    "A = [[2,4,0,3],[-7,3,6,0],[4,0,5,0]] # Easiest way I can see to build a matrix out of lists alone.  \n",
    "\n",
    "#a \n",
    "print [A[0][1],A[1][1],A[2][1]] # This will print out the second column.  \n",
    "\n",
    "#b \n",
    "print A[2]\n",
    "\n",
    "#c \n",
    "print A[1]\n",
    "\n",
    "#d\n",
    "print A[0][1]\n",
    "\n",
    "#e\n",
    "print len(A)"
   ]
  },
  {
   "cell_type": "markdown",
   "metadata": {},
   "source": [
    "<strong> Problem 5 </strong> Exercise 13.3, 5 pts"
   ]
  },
  {
   "cell_type": "markdown",
   "metadata": {},
   "source": [
    "*Answer to Problem 5* "
   ]
  },
  {
   "cell_type": "markdown",
   "metadata": {},
   "source": [
    "So, at least as the problem is worded, we want to search through $A$ until we find a 3, and then we want to search through $A$ until we find a negative value.  Given that I build $A$ as a list of lists, I use a while loop to work on $A$ row by row, since each row is a list of integers.  While this is straightforward for checking if we have a 3 in any row, to do this for negative values, I use the `min` command (see pg. 103 of your text).  So if the minimum of a row is less than zero, we certainly have a negative value in the row.  "
   ]
  },
  {
   "cell_type": "code",
   "execution_count": 25,
   "metadata": {
    "collapsed": false
   },
   "outputs": [
    {
     "name": "stdout",
     "output_type": "stream",
     "text": [
      "We have a three at entry 1,4\n"
     ]
    }
   ],
   "source": [
    "A = [[2,4,0,3],[-7,3,6,0],[4,0,5,0]]\n",
    "rcnt = 0\n",
    "while rcnt < 3:\n",
    "    if 3 in A[rcnt]:\n",
    "        ind = A[rcnt].index(3)\n",
    "        print \"We have a three at entry %d,%d\" % (rcnt+1,ind+1)\n",
    "        break\n",
    "    rcnt+=1"
   ]
  },
  {
   "cell_type": "code",
   "execution_count": 26,
   "metadata": {
    "collapsed": false
   },
   "outputs": [
    {
     "name": "stdout",
     "output_type": "stream",
     "text": [
      "We have a negative value in row 2 of A\n"
     ]
    }
   ],
   "source": [
    "rcnt = 0\n",
    "while rcnt < 3:\n",
    "    if min(A[rcnt])<0:\n",
    "        print \"We have a negative value in row %d of A\" % (rcnt+1)\n",
    "        break    \n",
    "    rcnt+=1"
   ]
  },
  {
   "cell_type": "code",
   "execution_count": null,
   "metadata": {
    "collapsed": true
   },
   "outputs": [],
   "source": []
  }
 ],
 "metadata": {
  "anaconda-cloud": {},
  "kernelspec": {
   "display_name": "Python 2",
   "language": "python",
   "name": "python2"
  },
  "language_info": {
   "codemirror_mode": {
    "name": "ipython",
    "version": 2
   },
   "file_extension": ".py",
   "mimetype": "text/x-python",
   "name": "python",
   "nbconvert_exporter": "python",
   "pygments_lexer": "ipython2",
   "version": "2.7.11"
  }
 },
 "nbformat": 4,
 "nbformat_minor": 0
}
