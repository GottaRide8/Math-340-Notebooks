{
 "cells": [
  {
   "cell_type": "code",
   "execution_count": 2,
   "metadata": {
    "collapsed": true
   },
   "outputs": [],
   "source": [
    "import numpy as np\n",
    "import matplotlib.pyplot as plt\n",
    "from matplotlib import colors\n",
    "%matplotlib inline"
   ]
  },
  {
   "cell_type": "markdown",
   "metadata": {},
   "source": [
    "<strong> Problem 1 </strong>: 5pts, 38.1.  Note in the function header \n",
    "\n",
    "`HenonMap(x, y, a, b, alpha, beta)`\n",
    "\n",
    "it should be \n",
    "\n",
    "`HenonMap(x, y, a, b, alpha, gamma)`\n",
    "\n",
    "And ignore the bit about starting from `(0,0)` until the next problem.  Use the code below to get started."
   ]
  },
  {
   "cell_type": "code",
   "execution_count": 5,
   "metadata": {
    "collapsed": true
   },
   "outputs": [],
   "source": [
    "def HenonMap(pt, a, b, alpha, gamma):\n",
    "    # pt is a numpy array with two elements, pt[0] and pt[1], representing x_n and y_n respectively.  \n",
    "    \n",
    "    xn = \n",
    "    yn = \n",
    "    xn1 = \n",
    "    yn1 = \n",
    "    return np.array([xn1,yn1])"
   ]
  },
  {
   "cell_type": "markdown",
   "metadata": {},
   "source": [
    "<strong> Problem 2 </strong>: 5pts, 38.2.  But instead of what the book tells you to do, use a function header of the form\n",
    "\n",
    "`def HenonIterate(x0,y0,a,b,alpha,gamma,n):`\n",
    "\n",
    "because that, at least to me, makes a lot more sense.  Use the code below to get started."
   ]
  },
  {
   "cell_type": "code",
   "execution_count": 27,
   "metadata": {
    "collapsed": true
   },
   "outputs": [],
   "source": [
    "def HenonIterate_Plot(x0,y0,a,b,alpha,gamma,n):\n",
    "    iterates = np.zeros([n,2])  # This makes an nx2 matrix i.e n rows, 2 columns, where the first column stores x coordinates,\n",
    "                                # and the 2nd column stores y coordinates\n",
    "    iterates[0,0] = x0 # Store the initial x-coordinate\n",
    "    iterates[0,1] = y0 # Store the initial y-coordinate\n",
    "    for jj in range(1,n):\n",
    "        iterates[] = HenonMap(iterates[],) # You need to fill in blanks here.  Note, the use of : is critical here.\n",
    "        \n",
    "    return iterates\n",
    "   "
   ]
  },
  {
   "cell_type": "markdown",
   "metadata": {},
   "source": [
    "<strong> Problem 3 </strong>: 5pts, 38.3.  Use the code below to get started."
   ]
  },
  {
   "cell_type": "code",
   "execution_count": null,
   "metadata": {
    "collapsed": false
   },
   "outputs": [],
   "source": [
    "x0 = \n",
    "y0 = \n",
    "a = \n",
    "b = \n",
    "alpha = \n",
    "gamma = \n",
    "n = \n",
    "iterates = HenonIterate_Plot(x0,y0,a,b,alpha,gamma,n)\n",
    "plt.scatter(iterates[2:,0],iterates[2:,1],s=5) # Note the use of slicing, i.e. the use of the : operator.  Super helpful!"
   ]
  },
  {
   "cell_type": "markdown",
   "metadata": {},
   "source": [
    "<strong> Problem 4 </strong>: 5pts, 38.4.  As with the Mandelbrot set we discussed in class, in order to see the Henon Whirlwind, the idea here is the following.  The Hennon map, given an initial condition $(x_{0},y_{0})$, generates a sequence of points in the plane, say $(x_{n},y_{n})$ via the formula given in Exercise 1 of Chapter 38 of the textbook.  \n",
    "\n",
    "The question is, for a given value $R$ representing the radius of a circle around the origin, at what value of $n$ do we have \n",
    "\n",
    "$$\n",
    "\\sqrt{x_{n}^{2} + y_{n}^{2}} > R\n",
    "$$\n",
    "\n",
    "When we know that value of $n$, we store it, and then plot that value over the real plane $\\mathbb{R}^{2}$.  So the question we are addressing is whether for a given initial condition $(x_{0},y_{0})$ we stay in a bounded region, i.e. if we stay inside a circle of radius $R$, or if we leave this circle.  What we plot is how many iterations it takes to leave the circle, though in some cases, it will be the case that you never leave.\n",
    "\n",
    "Thus, a rough sketch of the algorithm you will need to implement is the following\n",
    "\n",
    "<ol>\n",
    "<li> Generate new initial condition $(x_{0},y_{0})$ where $x_{0}\\in[Xmin,Xmax]$, $y_{0}\\in[Ymin,Ymax]$.\n",
    "<li> Keep iterating the Henon map on this initial condition to generate $(x_{n},y_{n})$.  Stop if either $\\sqrt{x_{n}^{2}+y_{n}^{2}}> R$ or $n=Niter$.\n",
    "<li> Store the value of $n$\n",
    "<li> Plot the values of $n$ over the box $[Xmin,Xmax]\\times[Ymin,Ymax]$.\n",
    "</ol>\n",
    "\n",
    "Note, to get the desired effect, you should use the parameter values\n",
    "\n",
    "`\n",
    "a = 1.\n",
    "b = 1.\n",
    "alpha = .2\n",
    "gamma = 1.3\n",
    "Rad = 100\n",
    "Niter = 100\n",
    "Nvals = 200\n",
    "Xmin = -5\n",
    "Xmax = 5\n",
    "Ymin = -5\n",
    "Ymax = 5`\n",
    "\n",
    "If you are feeling ambitious, try small changes in the value of `gamma` and see what happens.  Use the code below to get started."
   ]
  },
  {
   "cell_type": "code",
   "execution_count": 57,
   "metadata": {
    "collapsed": false
   },
   "outputs": [],
   "source": [
    "def Henon_Escape(Xmin,Xmax,Ymin,Ymax,Rad,Niter,Nvals):\n",
    "    \n",
    "    # Xmin - Lower bound of real axis we take values of c from\n",
    "    # Xmax - Upper bound of real axis we take values of c from\n",
    "    # Ymin - Lower bound of imaginary axis we take values of c from\n",
    "    # Ymax - Upper bound of imaginary axis we take values of c from\n",
    "    # Rad - Radius of the complex disc which defines our bounded region\n",
    "    # Niter - Maximum number of iterations\n",
    "    # Nvals - Number of points along the real and imaginary axis we use to study different values of c\n",
    "    \n",
    "    Xaxis = np.linspace() # Generate the values along the x-axis that you will use for initial conditions\n",
    "    Yaxis = np.linspace() # Generate the values along the y-axis that you will use for initial conditions\n",
    "    \n",
    "    iter_cnt = np.zeros([,]) # Create a matrix to store the number of iterations for the different initial conditions.\n",
    "    \n",
    "    for jj in range():\n",
    "        for kk in range():\n",
    "            pt0 = np.array([,]) # Generate a new initial condition using the arrays Xaxis and Yaxis\n",
    "            n = 0 # Initialize your iteration count\n",
    "           \n",
    "            while n < Niter:\n",
    "                # Here you should call the Henon map on pt0\n",
    "                # Here you should update your iteration count.\n",
    "                if(): break # Here you should test if you are still inside the circle of radius Rad               \n",
    "                \n",
    "            iter_cnt[jj,kk] = n # Store the iteration count n\n",
    "\n",
    "    # This is a bunch of plotting stuff.  If you don't learn it, that is fine.                      \n",
    "    dpi = 72\n",
    "    width = 10\n",
    "    height = 10\n",
    "    img_width = dpi * width\n",
    "    img_height = dpi * height\n",
    "    \n",
    "    fig, ax = plt.subplots(figsize=(width, height),dpi=72)\n",
    "    ticks = np.arange(0,img_width,3*dpi)\n",
    "    x_ticks = Xmin + (Xmax-Xmin)*ticks/img_width\n",
    "    plt.xticks(ticks, x_ticks)\n",
    "    y_ticks = Ymin + (Ymax-Ymin)*ticks/img_width\n",
    "    plt.yticks(ticks, y_ticks)\n",
    "    \n",
    "    ax.imshow(iter_cnt.T,origin='lower') "
   ]
  },
  {
   "cell_type": "code",
   "execution_count": null,
   "metadata": {
    "collapsed": false
   },
   "outputs": [],
   "source": [
    "Henon_Escape(-5.,5.,-5.,5.,100.,100,1000)"
   ]
  }
 ],
 "metadata": {
  "anaconda-cloud": {},
  "kernelspec": {
   "display_name": "Python 2",
   "language": "python",
   "name": "python2"
  },
  "language_info": {
   "codemirror_mode": {
    "name": "ipython",
    "version": 2
   },
   "file_extension": ".py",
   "mimetype": "text/x-python",
   "name": "python",
   "nbconvert_exporter": "python",
   "pygments_lexer": "ipython2",
   "version": "2.7.11"
  }
 },
 "nbformat": 4,
 "nbformat_minor": 0
}
