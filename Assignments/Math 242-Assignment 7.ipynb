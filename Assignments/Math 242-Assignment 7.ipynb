{
 "cells": [
  {
   "cell_type": "markdown",
   "metadata": {},
   "source": [
    "<strong> MAKE SURE YOU REMEMBER TO RUN THE CELL BELOW </strong>"
   ]
  },
  {
   "cell_type": "code",
   "execution_count": null,
   "metadata": {
    "collapsed": false
   },
   "outputs": [],
   "source": [
    "from time import time\n",
    "from math import floor\n",
    "from math import pi \n",
    "import random"
   ]
  },
  {
   "cell_type": "markdown",
   "metadata": {},
   "source": [
    "Note, we make use of the random library in this problem set.  To get a feel for what this does, run the following print statements"
   ]
  },
  {
   "cell_type": "code",
   "execution_count": null,
   "metadata": {
    "collapsed": false
   },
   "outputs": [],
   "source": [
    "print random.sample(range(5), 5) # Produces 5 random values between 0 and 5\n",
    "print random.sample(range(10),5) # Produces 5 random values between 0 and 10\n",
    "print random.sample(range(10),10) # Produces 10 random values between 0 and 10"
   ]
  },
  {
   "cell_type": "markdown",
   "metadata": {},
   "source": [
    "<strong> Problem 1 </strong>: 6pts, 19.1.  I appreaciate we did not go over selection sort in lecture, but if you turn to page 137 of your book, you will find it explained with an outline of the algorithm provided.  Part of coding is also about translating algorithms into code, though use the skeleton below for help.  Again, you should only have to add at most 4 lines of code, though you can have less if you use multiple assignments.  This is done where I have placed comments.  "
   ]
  },
  {
   "cell_type": "code",
   "execution_count": null,
   "metadata": {
    "collapsed": true
   },
   "outputs": [],
   "source": [
    "def sel_sort(vals):\n",
    "    for jj in range(0,len(vals)):\n",
    "        for kk in range(jj+1,len(vals)):\n",
    "            if : # Here you need to test if you have found a smaller value.  \n",
    "            # If you have found a smaller value, you need to swap entries in vals accordingly.  \n",
    "                \n",
    "    return vals # Note, we never create a new array svals in a selection sort.  Instead, we swap values around in vals directly."
   ]
  },
  {
   "cell_type": "code",
   "execution_count": null,
   "metadata": {
    "collapsed": false
   },
   "outputs": [],
   "source": [
    "tstart = time()\n",
    "sel_sort(random.sample(range(50000), )) # You need to decide how many points to put in your list\n",
    "tend = time()\n",
    "ctime = tend-tstart\n",
    "print ctime"
   ]
  },
  {
   "cell_type": "markdown",
   "metadata": {},
   "source": [
    "<strong> Problem 2 </strong>: 6pts, 19.2.  Since we went over merge_sort in class, I will go ahead and include the code here.  That being said, please provide an explanation for why merge_sort is so much faster than sel_sort.  Your answer should include a discussion of the difference between $\\mathcal{O}(n^{2})$ and $\\mathcal{O}(n\\log_{2}(n))$ algorithms, and how the different choices of $n$ affect these estimates of worst case scenarios for operation counts.   "
   ]
  },
  {
   "cell_type": "code",
   "execution_count": null,
   "metadata": {
    "collapsed": true
   },
   "outputs": [],
   "source": [
    "def merge_list(Alist,Blist):\n",
    "    Clist = []\n",
    "    while len(Alist)>0 and len(Blist)>0: # Run so long as neither list is empty.\n",
    "        if Alist[0]<=Blist[0]: # Compare beginning of lists to each other.  \n",
    "            nval = Alist.pop(0) # Pop removes an entry and returns it.  \n",
    "        else:\n",
    "            nval = Blist.pop(0)\n",
    "        Clist.append(nval)\n",
    "    if len(Alist)==0: # Decide which list is empty.\n",
    "        Clist.extend(Blist)\n",
    "    else:\n",
    "        Clist.extend(Alist)\n",
    "    return Clist"
   ]
  },
  {
   "cell_type": "code",
   "execution_count": null,
   "metadata": {
    "collapsed": true
   },
   "outputs": [],
   "source": [
    "def merge_sort(vals):\n",
    "    nvals = len(vals)\n",
    "    if nvals==1:\n",
    "        return vals        \n",
    "    else:\n",
    "        nhalf = int(floor(nvals/2)) \n",
    "        return merge_list(merge_sort(vals[0:nhalf]),merge_sort(vals[nhalf:]))        "
   ]
  },
  {
   "cell_type": "code",
   "execution_count": null,
   "metadata": {
    "collapsed": false
   },
   "outputs": [],
   "source": [
    "tstart = time()\n",
    "merge_sort(random.sample(range(50000), )) # You need to decide how many points to put in your list\n",
    "tend = time()\n",
    "ctime = tend-tstart\n",
    "print ctime"
   ]
  },
  {
   "cell_type": "markdown",
   "metadata": {},
   "source": [
    "<strong> Problem 3 </strong>: 6pts, 25.4.  To do this, I would use the following skeleton code.  Note the tricky call\n",
    "\n",
    "`rlen(vals[1:])`\n",
    "\n",
    "What is the point of this?  Well, every time you call yourself, it means you will pass every entry of `vals` except for the first one.  Thus, in effect, everytime you call rlen from within, you cut off the first entry of `vals`, thus decreasing the length by one on each recursive call.  An explicit example would be if I had\n",
    "\n",
    "`vals = [1,4,7,3]`\n",
    "\n",
    "then \n",
    "\n",
    "`vals[1:] = [4,7,3]`\n",
    "\n",
    "so if I start with \n",
    "\n",
    "`rlen(vals) = rlen([1,4,7,3])`\n",
    "\n",
    "at the recursive function call, I will have \n",
    "\n",
    "`return rlen(vals[1:]) = return rlen([4,7,3])`\n",
    "\n",
    "No `pop` or `del` necessary.  Neat huh!"
   ]
  },
  {
   "cell_type": "code",
   "execution_count": null,
   "metadata": {
    "collapsed": false
   },
   "outputs": [],
   "source": [
    "def rlen(vals):\n",
    "    if vals == []: # Stop when you are empty.  Note, you cannot use len at any point, since that would be cheating.  \n",
    "        return # You only need to add one number to this line.\n",
    "    else:\n",
    "        return  + rlen(vals[1:]) # You only need to add one number to this line."
   ]
  },
  {
   "cell_type": "code",
   "execution_count": null,
   "metadata": {
    "collapsed": false
   },
   "outputs": [],
   "source": [
    "rlen([1,2,3,4]) # Test to see if your function works."
   ]
  },
  {
   "cell_type": "markdown",
   "metadata": {},
   "source": [
    "<strong> Problem 4 </strong>: 6pts, 25.5.  To do this, I would use the following skeleton code.  Note, I like having two functions here, a master calling function, `rmax`, and then one that does the recursion, `rstep`.  Use the trick from <strong> Problem 3 </strong> above.  "
   ]
  },
  {
   "cell_type": "code",
   "execution_count": null,
   "metadata": {
    "collapsed": true
   },
   "outputs": [],
   "source": [
    "def rstep(vals,mval):\n",
    "    if vals==[]:\n",
    "        return \n",
    "    else:\n",
    "        if : # You should make a comparison here\n",
    "            # You should make an assignment here\n",
    "            return # You recurse here.\n",
    "        else:\n",
    "            return # Or, you recurse here.\n",
    "\n",
    "def rmax(vals):\n",
    "    mval = vals[0]\n",
    "    return rstep(vals[1:],mval)    "
   ]
  },
  {
   "cell_type": "code",
   "execution_count": null,
   "metadata": {
    "collapsed": false
   },
   "outputs": [],
   "source": [
    "rmax([1,3,2,7,12,2,39,4]) # Test to see if your function works. "
   ]
  },
  {
   "cell_type": "markdown",
   "metadata": {},
   "source": [
    "<strong> Problem 5 </strong>: 6pts, 25.1.  Okay, I'm not sure what the author is going for on this one.  To do this in the most recursive way possible though is not completely obvious, at least to me.  But here goes.  First, let's compute up to the $n+1$ term of the Maclaurin series of $\\cos(x)$ so that \n",
    "\n",
    "$$\n",
    "\\cos(x) \\approx 1 - \\frac{x^{2}}{2!} + \\frac{x^{4}}{4!} + \\cdots + (-1)^{n}\\frac{x^{2n}}{(2n)!}\n",
    "$$\n",
    "\n",
    "Using what is called *Horner's Method*, we can use our recursive thinking to write the series as \n",
    "\n",
    "$$\n",
    "\\cos(x) \\approx 1 - \\frac{x^{2}}{2!} + \\frac{x^{4}}{4!} + \\cdots + (-1)^{n-1}\\frac{x^{2(n-1)}}{(2(n-1))!}\\left(1 - \\frac{x^{2}}{2n(2n-1)} \\right)\n",
    "$$\n",
    "\n",
    "See what I did there?  Using the recursive trick for each term we have discussed in class before, I factor the last two terms in the series as shown above.  I can keep doing this so that I get \n",
    "\n",
    "$$\n",
    "\\cos(x) = 1 - \\frac{x^{2}}{2!} + \\frac{x^{4}}{4!} + \\cdots + (-1)^{n-2}\\frac{x^{2(n-2)}}{(2(n-2))!}\\left(1 - \\frac{x^{2}}{(2n-2)(2n-3)}\\left(1 - \\frac{x^{2}}{2n(2n-1)} \\right) \\right)\n",
    "$$\n",
    "\n",
    "\n",
    "So to think about this recursively, I define a function, say $c_{0}(x)$, and set   \n",
    "\n",
    "$$\n",
    "c_{0}(x) = 1.\n",
    "$$\n",
    "\n",
    "To proceed, I define the next function $c_{1}(x)$ so that \n",
    "\n",
    "$$\n",
    "c_{1}(x) = 1 - \\frac{x^{2}}{(2n)(2n-1)} c_{0}(x) = 1 - \\frac{x^{2}}{(2n)(2n-1)},\n",
    "$$\n",
    "\n",
    "since $c_{0}(x)=1$.  This motivates the general formula \n",
    "\n",
    "$$\n",
    "c_{j}(x) = 1 - \\frac{x^{2}}{(2(n-(j-1)))(2(n-(j-1))-1)}c_{j-1}(x), ~ j\\geq 1.\n",
    "$$\n",
    "\n",
    "so that we have \n",
    "\n",
    "$$\n",
    "\\cos(x) \\approx c_{n}(x)\n",
    "$$"
   ]
  },
  {
   "cell_type": "code",
   "execution_count": null,
   "metadata": {
    "collapsed": true
   },
   "outputs": [],
   "source": [
    "def rcos(j,x,n): # Note, j keeps track of where you are in the recursion.  x and n never change throughout the recursion.\n",
    "    if j==0:\n",
    "        return # Here you put a number.\n",
    "    else:\n",
    "        return # Here we put the recursive call."
   ]
  },
  {
   "cell_type": "code",
   "execution_count": null,
   "metadata": {
    "collapsed": false
   },
   "outputs": [],
   "source": [
    "rcos(,pi/4.,) # Test your function.  You should be able to get something very close to 1/sqrt(2)"
   ]
  }
 ],
 "metadata": {
  "kernelspec": {
   "display_name": "Python [Root]",
   "language": "python",
   "name": "Python [Root]"
  },
  "language_info": {
   "codemirror_mode": {
    "name": "ipython",
    "version": 2
   },
   "file_extension": ".py",
   "mimetype": "text/x-python",
   "name": "python",
   "nbconvert_exporter": "python",
   "pygments_lexer": "ipython2",
   "version": "2.7.12"
  }
 },
 "nbformat": 4,
 "nbformat_minor": 0
}
