{
 "cells": [
  {
   "cell_type": "code",
   "execution_count": 1,
   "metadata": {
    "collapsed": true
   },
   "outputs": [],
   "source": [
    "import numpy as np\n",
    "import matplotlib.pyplot as plt\n",
    "%matplotlib inline"
   ]
  },
  {
   "cell_type": "markdown",
   "metadata": {},
   "source": [
    "** Problem 1 **: (10 pts) A particle of mass $m$ moving through a fluid is subjected to viscous resistance $R(v)$, where $v$ is the particle's velocity.  Suppose that relationship between the resistance $R$, velocity $v$, and the time of travel is given by \n",
    "$$\n",
    "t = \\int_{v_{0}}^{v(t)} \\frac{m}{R(u)} du, \n",
    "$$\n",
    "where $v_{0} = v(0)$ is the intial velocity of the particle.  Now suppose that \n",
    "$$\n",
    "R(v) = -R_{\\infty}\\left(\\frac{2}{1 + e^{-v^2/v_{c}^{2}}}-1\\right).\n",
    "$$\n",
    "For a particle of mass $m=1 ~kg$ (kilograms), with $v_{0}=10 ~m/s$ (meters/second), and $v_{c} = 2 ~m/s$ and $R_{\\infty} = 3 ~kg ~m/s^{2}$, using the Trapezoid Method, find the approximate time necessary for the particle to slow to $v(t) = 5 ~ m/s$."
   ]
  },
  {
   "cell_type": "markdown",
   "metadata": {},
   "source": [
    "** Problem 2 ** : (10 pts) The equation\n",
    "$$\n",
    "f(x) = \\int_{0}^{x}\\frac{1}{\\sqrt{2\\pi}}e^{-t^{2}/2} dt = .45, \n",
    "$$\n",
    "can be solved via Newton's Method.  Using the Fundamental Theorem of Calculus, we readily get that \n",
    "$$\n",
    "f'(x) = \\frac{1}{\\sqrt{2\\pi}}e^{-x^{2}/2}.\n",
    "$$\n",
    "Then we just need a way of approximating the integral in order to evaluate \n",
    "$$\n",
    "f(x) - .45.  \n",
    "$$\n",
    "Use the Trapezoid Method to find the integral and thus the function $f(x)$.  Starting from an initial guess $x_{0} = .5$, what is an approximation to the root $x_{\\ast}$ such that $f(x_{\\ast})=.45$?  How does your approximation to the root change as you change mesh size of the Trapezoid Method?  "
   ]
  },
  {
   "cell_type": "code",
   "execution_count": 17,
   "metadata": {
    "collapsed": true
   },
   "outputs": [],
   "source": [
    "def fexp(t):\n",
    "    return np.exp(-t**2./2.)/np.sqrt(2.*np.pi)\n",
    "\n",
    "def trapezoid_method(a,b,N,f):\n",
    "    Nind = int(N)\n",
    "    fvals = f(np.linspace(a,b,Nind+1))\n",
    "    return (b-a)/(2*N)*(fvals[0]+fvals[Nind]+2.*np.sum(fvals[1:Nind]))\n",
    "\n",
    "def Newtons_method(fp,x0,N,tol):\n",
    "    f0 = trapezoid_method(0,x0,N,fp)\n",
    "    f0 -= .45\n",
    "    x1 = x0 - f0/fp(x0)\n",
    "    while np.abs(x1-x0)>tol:\n",
    "        x0 = x1\n",
    "        f0 = trapezoid_method(0,x0,N,fp)\n",
    "        f0 -= .45\n",
    "        x1 = x0 - f0/fp(x0)\n",
    "        \n",
    "    return x1"
   ]
  },
  {
   "cell_type": "code",
   "execution_count": 22,
   "metadata": {},
   "outputs": [
    {
     "name": "stdout",
     "output_type": "stream",
     "text": [
      "1.64489071357\n",
      "1.6448539978\n",
      "1.64489071357\n",
      "1.6448539978\n",
      "1.64485363066\n"
     ]
    }
   ],
   "source": [
    "print Newtons_method(fexp,.5,100,1e-6)\n",
    "print Newtons_method(fexp,.5,1000,1e-6)\n",
    "print Newtons_method(fexp,.5,100,1e-10)\n",
    "print Newtons_method(fexp,.5,1000,1e-10)\n",
    "print Newtons_method(fexp,.5,10000,1e-10)"
   ]
  },
  {
   "cell_type": "markdown",
   "metadata": {
    "collapsed": true
   },
   "source": [
    "** Problem 3 ** (20 pts): Here we are going to finish the derivation of Simpson's method.  Again, as we stated in class, we are trying to approximate an integral over three mesh points, $[x_{j},x_{j+2}]$, by integrating an approximating parabola as in \n",
    "\n",
    "$$\n",
    "\\int_{x_{j}}^{x_{j+2}}f(x) dx \\approx \\int_{x_{j}}^{x_{j+2}} y_{j+1}(x)dx, ~ y_{j+1}(x) = a_{j+1}(x-x_{j+1})^{2} + b_{j+1}(x-x_{j+1}) + c_{j+1}.\n",
    "$$\n",
    "\n",
    "Again, \n",
    "\n",
    "$$\n",
    "x_{j+1} - x_{j} = \\delta x = \\frac{b-a}{N}.\n",
    "$$\n",
    "\n",
    "Now, once we know the coefficients $a_{j+1}$, $b_{j+1}$, and $c_{j+1}$, we can readily integrate our approximating polynomial so that we get \n",
    "\n",
    "\\begin{align}\n",
    "\\int_{x_{j}}^{x_{j+2}} y_{j+1}(x)dx = & \\int_{x_{j}}^{x_{j+2}} \\left(a_{j+1}(x-x_{j+1})^{2} + b_{j+1}(x-x_{j+1}) + c_{j+1} \\right)dx\\\\\n",
    "= & \\int_{-\\delta x}^{\\delta x} \\left(a_{j+1}u^{2} + b_{j+1}u + c_{j+1}\\right) du, ~ u = x-x_{j+1}\\\\\n",
    "= & \\frac{2 a_{j+1}}{3}\\left(\\delta x\\right)^{3} + 2c_{j+1}\\delta x\n",
    "\\end{align}\n",
    "\n",
    "To find $a_{j+1}$, $b_{j+1}$, and $c_{j+1}$, we use the _interpolation_ requirements that \n",
    "\n",
    "\\begin{align}\n",
    "y_{j+1}(x_{j}) = & f(x_{j})\\\\\n",
    "y_{j+1}(x_{j+1}) = & f(x_{j+1})\\\\\n",
    "y_{j+1}(x_{j+2}) = & f(x_{j+2})\n",
    "\\end{align}\n",
    "\n",
    "Abbreviate $f_{j} = f(x_{j})$,  $f_{j+1} = f(x_{j+1})$,  $f_{j+2} = f(x_{j+2})$.  Then\n",
    "\n",
    "i) (2pts) Show using the second interpolation requirement that $c_{j+1} = f_{j+1}$.\n",
    "\n",
    "ii) (4pts) Show the first and third interpolation requirements can then be written as two equations in two unknowns in the form \n",
    "\\begin{align}\n",
    "a_{j+1} \\delta x - b_{j+1} =&  \\left(f_{j}-f_{j+1}\\right)/\\delta x\\\\\n",
    "a_{j+1} \\delta x + b_{j+1} =&  \\left(f_{j+2}-f_{j+1}\\right)/\\delta x\\\\\n",
    "\\end{align}\n",
    "\n",
    "iii) (2pts) From this, show that \n",
    "$$\n",
    "a_{j+1} = \\frac{f_{j+2} - 2f_{j+1} + f_{j}}{2(\\delta x)^{2}}\n",
    "$$\n",
    "and thus\n",
    "$$\n",
    "\\int_{x_{j}}^{x_{j+2}} y_{j+1}(x)dx = \\frac{\\delta x}{3}\\left(f_{j} + 4f_{j+1} + f_{j+2} \\right)\n",
    "$$\n",
    "This is the _local_ Simpson's method.\n",
    "\n",
    "iv) (2pts) Let $N=2m$, the number of intervals in your mesh be an even number.  Letting then $a=x_{0}$, $b=x_{2m}$, show that\n",
    "$$\n",
    "\\int_{a}^{b}f(x) dx = \\sum_{j=0}^{m-1}\\int_{x_{2j}}^{x_{2j+2}} f(x) dx.\n",
    "$$\n",
    "\n",
    "v) (2pts) Show using the local Simpson's method and iv) above the global Simpson's method, which is \n",
    "$$\n",
    "\\int_{a}^{b}f(x) dx \\approx \\frac{\\delta x}{3}\\left(f(x_{0})+f(x_{2m})+2\\sum_{l=1}^{m-1}f_{2l} + 4\\sum_{l=1}^{m}f_{2l-1} \\right).\n",
    "$$\n",
    "\n",
    "vi) (2pts) Implement the global Simpson's method in Python.  Note, this should only take two lines, but you will need to use slightly more clever slicing of NumPy arrays to get it done.  For example, if I define \n",
    "\n",
    "`vals = np.array([1., 2., 3., 4., 5.])`\n",
    "\n",
    "then we can take slices of arrays in which we get only the even or odd indices by using \n",
    "\n",
    "`vals[0::2] = [1.,3.,5.]`\n",
    "\n",
    "`vals[1::2] = [2.,4.]`\n",
    "\n",
    "You will need to use this kind of slicing in your implementation of the global Simpson's method.\n",
    "\n",
    "vii) (6pts) Using the identity\n",
    "\n",
    "$$\n",
    "\\frac{\\pi}{2} = \\int_{-1}^{1} \\frac{dx}{1+x^{2}},\n",
    "$$\n",
    "\n",
    "find the power $p$ which characterizes how the error, say $C(\\delta x)^{p}$, changes for Simpson's method.  Provide the necessary log plot and compute the slope of the line as explained in the course notes.    "
   ]
  },
  {
   "cell_type": "code",
   "execution_count": 11,
   "metadata": {},
   "outputs": [],
   "source": [
    "def fun(x):\n",
    "    return np.sin(x)\n",
    "\n",
    "def simpson_method(a,b,N,f):\n",
    "    xvals = np.linspace(a,b,N+1)\n",
    "    fvals = f(xvals)\n",
    "    return (b-a)/(3.*N)*(fvals[0]+fvals[N] + 2.*np.sum(fvals[2:N-1:2]) + 4.*np.sum(fvals[1:N:2]))\n",
    "\n",
    "def error_test(a,b,f):\n",
    "    tval = 1.-np.cos(1.)\n",
    "    Nvals = np.array([1e1, 50, 1e2, 200, 400, 800, 1e3])\n",
    "    Evals = np.zeros(Nvals.size)\n",
    "    for jj in xrange(0,Nvals.size):\n",
    "        Evals[jj] = np.log10(np.abs(tval - simpson_method(a,b,int(Nvals[jj]),f)))\n",
    "    xvals = np.log10(Nvals)\n",
    "    plt.plot(xvals,Evals)\n",
    "    novals = Evals.size\n",
    "    slopes = (Evals[1:]-Evals[0:novals-1])/(xvals[1:]-xvals[0:novals-1])\n",
    "    print np.min(slopes)\n",
    "    print np.max(slopes)\n",
    "    print np.mean(slopes)"
   ]
  },
  {
   "cell_type": "code",
   "execution_count": 12,
   "metadata": {},
   "outputs": [
    {
     "name": "stdout",
     "output_type": "stream",
     "text": [
      "-4.02766029728\n",
      "-3.9919983431\n",
      "-4.00329000686\n"
     ]
    },
    {
     "data": {
      "image/png": "[encoded data removed]",
      "text/plain": [
       "<matplotlib.figure.Figure at 0x7d1a2c48f190>"
      ]
     },
     "metadata": {},
     "output_type": "display_data"
    }
   ],
   "source": [
    "error_test(0,1.,fun)"
   ]
  },
  {
   "cell_type": "code",
   "execution_count": null,
   "metadata": {
    "collapsed": true
   },
   "outputs": [],
   "source": []
  }
 ],
 "metadata": {
  "kernelspec": {
   "display_name": "Python 2",
   "language": "python",
   "name": "python2"
  },
  "language_info": {
   "codemirror_mode": {
    "name": "ipython",
    "version": 2
   },
   "file_extension": ".py",
   "mimetype": "text/x-python",
   "name": "python",
   "nbconvert_exporter": "python",
   "pygments_lexer": "ipython2",
   "version": "2.7.13"
  }
 },
 "nbformat": 4,
 "nbformat_minor": 2
}
