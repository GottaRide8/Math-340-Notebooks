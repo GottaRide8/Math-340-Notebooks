{
 "cells": [
  {
   "cell_type": "code",
   "execution_count": 1,
   "metadata": {
    "collapsed": true
   },
   "outputs": [],
   "source": [
    "import numpy as np\n",
    "import matplotlib.pyplot as plt\n",
    "%matplotlib inline"
   ]
  },
  {
   "cell_type": "markdown",
   "metadata": {},
   "source": [
    "** Problem 1** 15pts: \n",
    "    \n",
    "1a) 3pts - In NumPy, create an array of points between $-4$ and $10.423$ with spacing $.0345$.  If you can not do this exactly, how close can you get?  \n",
    "\n",
    "1b) 3pts - Using vectorization, plot $f(x) = 4x^{5} + 2x^{3} + 1$ for $-3\\leq x \\leq 10.875$.  Make sure your graph is labeled.   \n",
    "\n",
    "1c) 3pts - Using vectorization, find the limit as $n\\rightarrow \\infty$ of the function $f(n)$ where  \n",
    "\n",
    "$$\n",
    "f(n) = \\frac{1}{n}\\sum_{j=0}^{n}\\left(3\\left(\\frac{j}{n}\\right)^{3} + 2\\left(\\frac{j}{n}\\right)^{2} + 1\\right)\n",
    "$$\n",
    "\n",
    "Provide a plot to support your answer.  \n",
    "\n",
    "1d) 3pts - For the integers less than 4000, what is the sum of those numbers which are divisible by 7, 9, or 23?  \n",
    "\n",
    "1e) 3pts - For the recurrence relation\n",
    "\n",
    "$$\n",
    "p_{n} = -3p_{n-3} + p_{n-1}, ~ n\\geq 3, \n",
    "$$\n",
    "\n",
    "where \n",
    "\n",
    "$$\n",
    "p_{0}= .5, ~ p_{1}=2.1, ~ p_{2} = .135,\n",
    "$$\n",
    "\n",
    "plot $p_{n}$ for $0\\leq n \\leq 200$?"
   ]
  },
  {
   "cell_type": "markdown",
   "metadata": {},
   "source": [
    "_ Answer to Problem 1 _"
   ]
  },
  {
   "cell_type": "markdown",
   "metadata": {},
   "source": [
    "1a) If we want $.0345 = (10.423+4)/n$, then we would have $n=418.0580$.  Rounding down we would then use the code \n",
    "`\n",
    "np.linspace(-4.,10.423,418+1) \n",
    "`\n",
    "to generate the points with spacing as close as possible to the stated requirement.  "
   ]
  },
  {
   "cell_type": "code",
   "execution_count": 2,
   "metadata": {},
   "outputs": [
    {
     "data": {
      "text/plain": [
       "<matplotlib.text.Text at 0x5bd84a8>"
      ]
     },
     "execution_count": 2,
     "metadata": {},
     "output_type": "execute_result"
    },
    {
     "data": {
      "image/png": "[encoded data removed]",
      "text/plain": [
       "<matplotlib.figure.Figure at 0x7c58d30>"
      ]
     },
     "metadata": {},
     "output_type": "display_data"
    }
   ],
   "source": [
    "#1b)\n",
    "xvals = np.linspace(-3.,10.875,int(1e2)+1)\n",
    "fvals = 4.*(xvals)**5. + 2.*(xvals)**3. + 1.\n",
    "plt.plot(xvals,fvals)\n",
    "plt.ylabel('f(x)')\n",
    "plt.xlabel('x')"
   ]
  },
  {
   "cell_type": "code",
   "execution_count": 25,
   "metadata": {},
   "outputs": [
    {
     "name": "stdout",
     "output_type": "stream",
     "text": [
      "Esimate for the limit of f(n) is 2.420167750000000\n"
     ]
    },
    {
     "data": {
      "image/png": "[encoded data removed]",
      "text/plain": [
       "<matplotlib.figure.Figure at 0xa08ea90>"
      ]
     },
     "metadata": {},
     "output_type": "display_data"
    }
   ],
   "source": [
    "#1c)\n",
    "def wsum(n):\n",
    "    nn1 = 1./n\n",
    "    nvals = nn1*np.linspace(0,n,int(n)+1)\n",
    "    return nn1*np.sum( 3.*(nvals)**3. + 2.*(nvals)**2. + 1. )\n",
    "nrange = np.arange(1,1e3)\n",
    "fvals = [wsum(nval) for nval in nrange]\n",
    "plt.plot(nrange,fvals)\n",
    "plt.xlabel('$n$')\n",
    "plt.ylabel('$f(n)$')\n",
    "print \"Esimate for the limit of f(n) is %1.15f\" %wsum(1e3)"
   ]
  },
  {
   "cell_type": "markdown",
   "metadata": {},
   "source": [
    "As we see from the plot and the value of $f(1000)$ we can estimate that \n",
    "$$\n",
    "\\lim_{n \\rightarrow \\infty} f(n) \\approx 2.42016775\n",
    "$$"
   ]
  },
  {
   "cell_type": "code",
   "execution_count": 15,
   "metadata": {},
   "outputs": [
    {
     "name": "stdout",
     "output_type": "stream",
     "text": [
      "Our peculiar total is given by: 2168134\n"
     ]
    }
   ],
   "source": [
    "#1d)\n",
    "tot = 0\n",
    "for jj in xrange(int(4e3)):\n",
    "    if jj%7==0 or jj%9==0 or jj%23==0:\n",
    "        tot += jj\n",
    "print \"Our peculiar total is given by: %d\" %tot"
   ]
  },
  {
   "cell_type": "code",
   "execution_count": 21,
   "metadata": {},
   "outputs": [
    {
     "data": {
      "text/plain": [
       "<matplotlib.text.Text at 0xa1fa550>"
      ]
     },
     "execution_count": 21,
     "metadata": {},
     "output_type": "execute_result"
    },
    {
     "data": {
      "image/png": "[encoded data removed]",
      "text/plain": [
       "<matplotlib.figure.Figure at 0xa170710>"
      ]
     },
     "metadata": {},
     "output_type": "display_data"
    }
   ],
   "source": [
    "#1e)\n",
    "def wrec(n):\n",
    "    pvals = np.zeros(int(n)+1)\n",
    "    pvals[0] = .5\n",
    "    pvals[1] = 2.1\n",
    "    pvals[2] = .135\n",
    "    if int(n) > 2:\n",
    "        for jj in xrange(3,int(n)+1):\n",
    "            pvals[jj] = pvals[jj-1] - 3.*pvals[jj-3]\n",
    "    return pvals \n",
    "\n",
    "ptot = wrec(200)\n",
    "nvals = np.arange(0,201)\n",
    "plt.plot(nvals,ptot)\n",
    "plt.xlabel('$n$')\n",
    "plt.ylabel('$p_{n}$')"
   ]
  },
  {
   "cell_type": "markdown",
   "metadata": {},
   "source": [
    "** Problem 2 **: 15pts - Given the function\n",
    "\n",
    "$$\n",
    "y(x) = \\sum_{l=0}^{\\infty} \\frac{(-1)^{l}x^{2l}}{3^{l}l!}\n",
    "$$\n",
    "\n",
    "2a) 6pts - Determine a recurrence relation between the coefficients.\n",
    "\n",
    "2b) 6pts - In Python, develop a tolerance based, recursive, vectorized implementation of this function.  \n",
    "\n",
    "2c) 3pts - Plot this function on the interval $[0,5]$ for tolerances $10^{-6}$ and $10^{-8}$.  Comment on any phenomena you see.  Make sure graphs are labeled, have a legend, and are well sized.  "
   ]
  },
  {
   "cell_type": "markdown",
   "metadata": {},
   "source": [
    "_ Answer to Problem 2 _"
   ]
  },
  {
   "cell_type": "code",
   "execution_count": 6,
   "metadata": {
    "collapsed": true
   },
   "outputs": [],
   "source": [
    "# 2b)\n",
    "def weird_fun(x,tol):\n",
    "    tot = np.ones(x.size)\n",
    "    al = np.ones(x.size)\n",
    "    xfac = -x**2./3.\n",
    "    ll = 1\n",
    "    while np.max(np.abs(al))>=tol:\n",
    "        al *= xfac/ll\n",
    "        tot += al\n",
    "        ll += 1\n",
    "    return tot"
   ]
  },
  {
   "cell_type": "code",
   "execution_count": 10,
   "metadata": {},
   "outputs": [
    {
     "data": {
      "text/plain": [
       "<matplotlib.text.Text at 0x96eb8d0>"
      ]
     },
     "execution_count": 10,
     "metadata": {},
     "output_type": "execute_result"
    },
    {
     "data": {
      "image/png": "[encoded data removed]",
      "text/plain": [
       "<matplotlib.figure.Figure at 0x9491b70>"
      ]
     },
     "metadata": {},
     "output_type": "display_data"
    },
    {
     "data": {
      "image/png": "[encoded data removed]",
      "text/plain": [
       "<matplotlib.figure.Figure at 0x7f17b70>"
      ]
     },
     "metadata": {},
     "output_type": "display_data"
    }
   ],
   "source": [
    "# 2c)\n",
    "xvals = np.linspace(0.,5.,int(1e3)+1)\n",
    "yvals1 = weird_fun(xvals,1e-6)\n",
    "yvals2 = weird_fun(xvals,1e-8)\n",
    "\n",
    "plt.figure(1)\n",
    "plt.plot(xvals,yvals1,ls='-',color='k',label='1e-6')\n",
    "plt.plot(xvals,yvals2,ls='-.',color='r',label='1e-8')\n",
    "plt.xlabel('$x$')\n",
    "plt.ylabel('$y(x)$')\n",
    "plt.legend(loc=(.8,.8))\n",
    "plt.title('Plot of function y(x) for two tolerance values')\n",
    "\n",
    "plt.figure(2)\n",
    "plt.plot(xvals,np.ma.log10(np.abs(yvals1-yvals2)),ls='-',color='k')\n",
    "plt.xlabel('$x$')\n",
    "plt.ylabel('$\\log_{10}diff(x)$')\n",
    "plt.title('Log Plot of Differece in Approximations')"
   ]
  },
  {
   "cell_type": "markdown",
   "metadata": {},
   "source": [
    "** Problem 3 **: 15pts - Given the function\n",
    "\n",
    "$$\n",
    "y(x) = \\cos^{3}(x),\n",
    "$$\n",
    "\n",
    "3a) 6pts - Use \n",
    "\n",
    "$$\n",
    "\\cos^{2}(x) = \\frac{1 + \\cos(2x)}{2},\n",
    "$$, \n",
    "\n",
    "since $\\cos^{3}(x) = \\cos(x)\\cos^{2}(x)$, and \n",
    "\n",
    "$$\n",
    "\\cos(x)\\cos(2x) = \\frac{1}{2}\\left(\\cos(3x) + \\cos(x)\\right)\n",
    "$$\n",
    "\n",
    "to find a Taylor series around $x_{0}=0$ of $\\cos^{3}(x)$.  \n",
    "\n",
    "3b) 6pts - In Python, develop a tolerance based, recursive, vectorized implementation of this function.  \n",
    "\n",
    "3c) 3pts - Plot this function on the interval $[0,\\pi]$.  Provide log plots of the error in your approximation for tolerance values $10^{-2}$, $10^{-4}$, and $10^{-8}$.  Comment on the behavior of your approximations for increasing values of $x$ and for decreasing tolerances.  Note graphs should be well labeled, with legends, and well sized.  "
   ]
  },
  {
   "cell_type": "markdown",
   "metadata": {},
   "source": [
    "_ Answer to Problem 3 _"
   ]
  },
  {
   "cell_type": "markdown",
   "metadata": {},
   "source": [
    "** Problem 4**: 15pts - Given that \n",
    "\n",
    "$$\n",
    "e^{t} = \\sum_{j=0}^{\\infty}\\frac{t^{j}}{j!}\n",
    "$$\n",
    "\n",
    "4a) 6pts - Using the Taylor series given, develop a tolerance based, recursive, vectorized program which computes the error function $erf(x)$ where\n",
    "\n",
    "$$\n",
    "erf(x) = \\frac{2}{\\sqrt{\\pi}}\\int_{0}^{x} e^{-t^{2}}dt.\n",
    "$$\n",
    "\n",
    "4b) 6pts - Plot this function for $0\\leq x \\leq L_{x}$ for $L_{x}=5,6$.  How does changing your tolerance affect these plots?  Labels and legends as always for the graphs.  \n",
    "\n",
    "4c) 3pts - Can you infer a trend as $x\\rightarrow \\infty$ for $erf(x)$?"
   ]
  },
  {
   "cell_type": "markdown",
   "metadata": {},
   "source": [
    "_ Answer to Problem 4 _"
   ]
  },
  {
   "cell_type": "code",
   "execution_count": null,
   "metadata": {
    "collapsed": true
   },
   "outputs": [],
   "source": []
  }
 ],
 "metadata": {
  "kernelspec": {
   "display_name": "Python [default]",
   "language": "python",
   "name": "python2"
  },
  "language_info": {
   "codemirror_mode": {
    "name": "ipython",
    "version": 2
   },
   "file_extension": ".py",
   "mimetype": "text/x-python",
   "name": "python",
   "nbconvert_exporter": "python",
   "pygments_lexer": "ipython2",
   "version": "2.7.13"
  }
 },
 "nbformat": 4,
 "nbformat_minor": 2
}
