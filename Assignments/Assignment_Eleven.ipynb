{
 "cells": [
  {
   "cell_type": "code",
   "execution_count": 1,
   "metadata": {},
   "outputs": [],
   "source": [
    "import numpy as np\n",
    "import matplotlib.pyplot as plt\n",
    "%matplotlib inline"
   ]
  },
  {
   "cell_type": "markdown",
   "metadata": {},
   "source": [
    "**Problem 1** (5pts): What do each of the following loops do?  How many lines of output does each program produce?  What are the last two values of $x$ printed?  "
   ]
  },
  {
   "cell_type": "code",
   "execution_count": 4,
   "metadata": {},
   "outputs": [],
   "source": [
    "x = 1.\n",
    "while 1.+x > 1.:\n",
    "    x /= 2.\n",
    "    # print x It's really tempting to put a print statement here.  Think of something a bit different please.  \n",
    "    \n",
    "x = 1.\n",
    "while x+x > x:\n",
    "    x *= 2.\n",
    "    # print x It's really tempting to put a print statement here.  Think of something a bit different please.  \n",
    "\n",
    "x = 1.\n",
    "while x+x > x:\n",
    "    x /= 2.\n",
    "    # print x It's really tempting to put a print statement here.  Think of something a bit different please.  \n"
   ]
  },
  {
   "cell_type": "markdown",
   "metadata": {},
   "source": [
    "**Problem 2** (10 pts): Finish the program below which converts a 64-bit representation of a number into its equivalenct decimal form (4 pts). \n",
    "* Develop two test cases to determine if your program works correctly (2 pts).     \n",
    "* Find the decimal representation of the 64-bit arrays below.How is the mantissa represented by `frup` related to the one related by `fvec`? (2 pts) \n",
    "* What can you infer about the printed results on the example below? (2 pts)"
   ]
  },
  {
   "cell_type": "code",
   "execution_count": null,
   "metadata": {},
   "outputs": [],
   "source": [
    "def bit_to_num(bvec):\n",
    "    s = bvec[]\n",
    "    cvec = bvec[]\n",
    "    fvec = bvec[]\n",
    "    cpows = np.arange()\n",
    "    fpows = -np.arange()\n",
    "    ctil = np.sum(cvec*(2.**cpows[])) - 1023\n",
    "    ftil = np.sum(fvec*(2.**fpows))\n",
    "    num = ((-1.)**s) * (2.**ctil) * (1.+ftil)\n",
    "    return num"
   ]
  },
  {
   "cell_type": "code",
   "execution_count": null,
   "metadata": {},
   "outputs": [],
   "source": [
    "cvec = np.array([0,1,1,1,1,1,1,1,0,1,1])\n",
    "fvec = np.array([1,0,0,1,1,0,0,1,1,0,0,1,1,0,0,1,1,0,0,1,1,0,0,1,1,0,0,1,1,0,0,1,1,0,0,1,1,0,0,1,1,0,0,1,1,0,0,1,1,0,0,1])\n",
    "frup = np.array([1,0,0,1,1,0,0,1,1,0,0,1,1,0,0,1,1,0,0,1,1,0,0,1,1,0,0,1,1,0,0,1,1,0,0,1,1,0,0,1,1,0,0,1,1,0,0,1,1,0,1,0])\n",
    "\n",
    "bvec = np.zeros(64)\n",
    "brup = np.zeros(64)\n",
    "bvec[1:] = np.concatenate((cvec,fvec))\n",
    "brup[1:] = np.concatenate((cvec,frup))\n",
    "\n",
    "print \"%1.19f\" %bit_to_num(bvec)\n",
    "print \"%1.19f\" %bit_to_num(brup)"
   ]
  },
  {
   "cell_type": "markdown",
   "metadata": {},
   "source": [
    "**Problem 3** (10 pts): Write a program which takes in a decimal number and returns its 64-bit representation.  (6pts)  Use the examples above from **Problem 2** to verify your program is working. (4pts)  "
   ]
  },
  {
   "cell_type": "markdown",
   "metadata": {},
   "source": [
    "**Problem 4** (10 pts): Given that $\\sin(x)$ has the Maclaurin series\n",
    "\n",
    "$$\n",
    "\\sin(x) = \\sum_{m=0}^{\\infty}\\frac{(-1)^{m}x^{2m+1}}{(2m+1)!}\n",
    "$$\n",
    "\n",
    "for the function below, what causes the while loop to terminate (2 pts)?  For $x = \\pi/2, ~11\\pi/2, ~ 21\\pi/2, ~ 31\\pi/2$, \n",
    "\n",
    "* How accurate is the computed result? (2 pts)\n",
    "* How many terms are required? (2 pts)\n",
    "* What is the largest term in the series? (2 pts)  \n",
    "\n",
    "What do you conclude about the use of floating-point arithmetic and power series to evaluate functions?  (2 pts)"
   ]
  },
  {
   "cell_type": "code",
   "execution_count": null,
   "metadata": {},
   "outputs": [],
   "source": [
    "def s = psin(x):\n",
    "    s = 0.\n",
    "    t = x\n",
    "    n = 1\n",
    "    x2 = -x**2.\n",
    "    while s+t != s:\n",
    "        s += t\n",
    "        t *= x2/((n+2.)*(n+1.))\n",
    "        n += 2"
   ]
  }
 ],
 "metadata": {
  "kernelspec": {
   "display_name": "Python [default]",
   "language": "python",
   "name": "python2"
  },
  "language_info": {
   "codemirror_mode": {
    "name": "ipython",
    "version": 2
   },
   "file_extension": ".py",
   "mimetype": "text/x-python",
   "name": "python",
   "nbconvert_exporter": "python",
   "pygments_lexer": "ipython2",
   "version": "2.7.15"
  }
 },
 "nbformat": 4,
 "nbformat_minor": 2
}
