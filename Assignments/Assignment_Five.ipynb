{
 "cells": [
  {
   "cell_type": "code",
   "execution_count": 1,
   "metadata": {
    "collapsed": true
   },
   "outputs": [],
   "source": [
    "import numpy as np\n",
    "import matplotlib.pyplot as plt\n",
    "%matplotlib inline"
   ]
  },
  {
   "cell_type": "markdown",
   "metadata": {},
   "source": [
    "** Problem 1 **: 10 pts - For the recurrence relation\n",
    "\n",
    "$$\n",
    "p_{n} = 3p_{n-1} + 2p_{n-2}, \n",
    "$$\n",
    "\n",
    "with initial conditions\n",
    "\n",
    "$$\n",
    "p_{0} = 2, ~ p_{1} = 1,\n",
    "$$\n",
    "\n",
    "find an exact formula for $p_{n}$.  Using this, build an approximation to $p_{n}$ for $n\\gg 1$.  Show using your prediction that \n",
    "\n",
    "$$\n",
    "\\log p_{n} \\approx mn + b\n",
    "$$\n",
    "\n",
    "1a) Determine $m$ and $b$ (4pts).  \n",
    "\n",
    "1b) Test your approximation by generating a semi-log plot of the recurrence relation using Python (3pts).  \n",
    "\n",
    "1c) Compare the slopes of the lines you see in your numerical experiments to the value $m$ you predict.  How well does your approximation do for different values of $n$? (3pts)"
   ]
  },
  {
   "cell_type": "markdown",
   "metadata": {},
   "source": [
    "** Problem 2 **: 10 pts - For the recurrence relation\n",
    "\n",
    "$$\n",
    "p_{n} = ap_{n-1} + bp_{n-2}, \n",
    "$$\n",
    "\n",
    "with initial conditions\n",
    "\n",
    "$$\n",
    "p_{0} = c_{0}, ~ p_{1} = c_{1},\n",
    "$$\n",
    "\n",
    "build a function in Python which produces a semi-log plot of $\\left|p_{n}\\right|$ against $n$ for any $a$, $b$, $c_{0}$, and $c_{1}$ (4 pts).  Note, you want to take the log of the absolute value of $p_{n}$.  \n",
    "\n",
    "For the values \n",
    "\n",
    "2a) $a = -1, ~b = 1, ~c_{0} = .3, ~ c_{1} = .2$\n",
    "\n",
    "2b) $a = 2, ~b = .1, ~c_{0} = .1, ~ c_{1} = 7$ \n",
    "\n",
    "Can you argue that \n",
    "\n",
    "$$\n",
    "\\log p_{n} \\approx mn + b\n",
    "$$\n",
    "\n",
    "is always a reasonable approximation?  If so, experimentally determine the value of $m$. (3 pts for each part)   "
   ]
  },
  {
   "cell_type": "markdown",
   "metadata": {},
   "source": [
    "** Problem 3 **: 10 pts - Write a program which takes in a number and converts it into its base\n",
    "“b” expansion for up to base 16 (6 pts). In other words, if I give you some\n",
    "number, say x, find the expansion\n",
    "$$\n",
    "x = \\mbox{sgn}(x)\\sum_{j=−n}^{n} t_j b_j, ~0 ≤ t_j ≤ b − 1.\n",
    "$$\n",
    "\n",
    "Briefly explain your reasoning behind you code. (2 pts) \n",
    "\n",
    "Compare the representations of .1 in base 3, 8, and 16. Comment on any interesting patterns that you observe. (2 pts) \n",
    "\n",
    "Note, for bases 11-16, follow hexadecimal conventions, which means instead of using numbers above 9, you use letters in the following fashion:\n",
    "\\begin{array}{ccc}\n",
    "10 & = & A\\\\\n",
    "11 & = & B\\\\\n",
    "12 & = & C\\\\\n",
    "13 & = & D\\\\\n",
    "14 & = & E\\\\\n",
    "15 & = & F\n",
    "\\end{array}"
   ]
  },
  {
   "cell_type": "code",
   "execution_count": null,
   "metadata": {
    "collapsed": true
   },
   "outputs": [],
   "source": []
  }
 ],
 "metadata": {
  "kernelspec": {
   "display_name": "Python 2",
   "language": "python",
   "name": "python2"
  },
  "language_info": {
   "codemirror_mode": {
    "name": "ipython",
    "version": 2
   },
   "file_extension": ".py",
   "mimetype": "text/x-python",
   "name": "python",
   "nbconvert_exporter": "python",
   "pygments_lexer": "ipython2",
   "version": "2.7.13"
  }
 },
 "nbformat": 4,
 "nbformat_minor": 2
}
