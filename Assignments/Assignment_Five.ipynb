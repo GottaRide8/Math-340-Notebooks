{
 "cells": [
  {
   "cell_type": "code",
   "execution_count": 48,
   "metadata": {
    "collapsed": true
   },
   "outputs": [],
   "source": [
    "import numpy as np\n",
    "import matplotlib.pyplot as plt\n",
    "from time import time\n",
    "%matplotlib inline"
   ]
  },
  {
   "cell_type": "markdown",
   "metadata": {},
   "source": [
    "** Problem 1 **: 7 pts- Using\n",
    "\n",
    "$$\n",
    "\\cos(x) = \\sum_{j=0}^{\\infty}\\frac{(-1)^{j}}{(2j)!}x^{2j}, ~ \\sin(x) = \\sum_{j=0}^{\\infty}\\frac{(-1)^{j}}{(2j+1)!}x^{2j+1}\n",
    "$$\n",
    "\n",
    "and \n",
    "\n",
    "$$\n",
    "\\sin(2x) = 2\\cos(x)\\sin(x)\n",
    "$$\n",
    "\n",
    "derive a Taylor series for $\\cos(x^{3})\\sin(x^{3})$ around $x=0$.  Write a code which computes the Taylor series of $\\cos(x^{3})\\sin(x^{3})$ using recursion, vectorization, and a tolerance based while loop approach.(4pts)  On the interval $[0,\\pi]$, plot the semi-log error in your approximation for tolerance values $10^{-4}$, $10^{-6}$, and $10^{-8}$. Label axes and provide a legend for your graph.  Describe your graphs and comment on any trends you observe.(3pts)"
   ]
  },
  {
   "cell_type": "markdown",
   "metadata": {},
   "source": [
    "_Answer to Problem 1_"
   ]
  },
  {
   "cell_type": "markdown",
   "metadata": {},
   "source": [
    "**Problem 2**: 7 pts- Another very important class of special functions are called the _Legendre Polynomials_, say $L_{n}(x)$, which are defined for non-negative integer $n$ via the series\n",
    "\n",
    "$$\n",
    "L_{n}(x) = \\sum_{k=0}^{n}\\frac{(n+k)!}{(k!)^{2}(n-k)!}\\left(\\frac{x-1}{2}\\right)^{k}, ~ -1\\leq x \\leq 1.\n",
    "$$\n",
    "\n",
    "Using a `for`-loop, vectorized, recursive approach, write a function which computes the Legendre functions for any non-negative integer $n$ (4pts).  Make a plot showing $L_{n}(x)$ for $n=0,1,2,3,4$ simultaneously, using different colors for each different $n$.  The plot should have a legend as well as appropriately labeled axes.  (3pts)    "
   ]
  },
  {
   "cell_type": "markdown",
   "metadata": {},
   "source": [
    "_Answer to Problem 2_"
   ]
  },
  {
   "cell_type": "markdown",
   "metadata": {},
   "source": [
    "** Problem 3 **: 5 pts - Using a for loop based approach, write a program which finds the function $f(n)$ where \n",
    "\n",
    "$$\n",
    "f(n) = \\frac{1}{n}\\sum_{j=1}^{n} \\left(\\left(\\frac{j}{n}\\right)^{5} + 6\\left(\\frac{j}{n}\\right)^{3} \\right)\n",
    "$$\n",
    "\n",
    "for any positive integer n (2pts).  Generate a labeled plot of the results of your function for $1\\leq n \\leq 1000$, where $n$ will be on the $x$-axis, while the results of your function will appear on the $y$-axis.  Describe any trends you see from your graph. (3pts)      "
   ]
  },
  {
   "cell_type": "markdown",
   "metadata": {},
   "source": [
    "_Answer to Problem 3_"
   ]
  },
  {
   "cell_type": "markdown",
   "metadata": {},
   "source": [
    "** Problem 4 **: 6 pts- Using a vectorized approach, which means no explicit for loops, write a program which finds \n",
    "\n",
    "$$\n",
    "f(n) = \\frac{1}{n}\\sum_{j=1}^{n} \\left(\\left(\\frac{j}{n}\\right)^{5} + 6\\left(\\frac{j}{n}\\right)^{3} \\right)\n",
    "$$\n",
    "\n",
    "\n",
    "for any positive integer n (3pts).  Using `time()`, run several different tests using different values of $n$ to determine how much faster your code is than that used in the previous problem.  For what value of $n$ do you finally see a significant difference in time?  Note, plots are far more preferable than just writing a particular number.  Build a case for your decision please. (3pts)    "
   ]
  },
  {
   "cell_type": "markdown",
   "metadata": {},
   "source": [
    "_Answer to Problem 4_"
   ]
  }
 ],
 "metadata": {
  "kernelspec": {
   "display_name": "Python [default]",
   "language": "python",
   "name": "python2"
  },
  "language_info": {
   "codemirror_mode": {
    "name": "ipython",
    "version": 2
   },
   "file_extension": ".py",
   "mimetype": "text/x-python",
   "name": "python",
   "nbconvert_exporter": "python",
   "pygments_lexer": "ipython2",
   "version": "2.7.13"
  }
 },
 "nbformat": 4,
 "nbformat_minor": 2
}
