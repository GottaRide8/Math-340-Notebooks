{
 "cells": [
  {
   "cell_type": "markdown",
   "metadata": {},
   "source": [
    "Okay, your turn.  Write a program that does two things.  First, not only should it remove commas, but it should keep track from which words the commas were removed.  Second, it should determine if a line contains the word \"fire\", and if it does, replace \"fire\" with \"flames\".  Lastly, it should print the modified line.  To do the word replacement easily, use the list command\n",
    "\n",
    "`words.index(\"fire\")`"
   ]
  },
  {
   "cell_type": "markdown",
   "metadata": {},
   "source": [
    "Now of course, the punctuation is all wacky.  Can you find a way to put the punctuation back where it belongs?  To do this, we need to try and use string concantenation.  So for example if I type"
   ]
  },
  {
   "cell_type": "code",
   "execution_count": 1,
   "metadata": {},
   "outputs": [
    {
     "name": "stdout",
     "output_type": "stream",
     "text": [
      "flames,\n"
     ]
    }
   ],
   "source": [
    "print \"flames\"+\",\""
   ]
  },
  {
   "cell_type": "markdown",
   "metadata": {},
   "source": [
    "So using this, and noting that you have kept track of when you removed commas, to put the commas back in the right places, try using string concantenation in just the right places and then use \n",
    "\n",
    "`delimeter = ' '`\n",
    "\n",
    "`print delimeter.join(words)`\n",
    "\n",
    "to transform the list of words back into a line.  "
   ]
  },
  {
   "cell_type": "markdown",
   "metadata": {},
   "source": [
    "Now that you can do that, write a program which counts and then removes all punctuation.  Further, your program should count how many times the letter 't' occurs in the document.  "
   ]
  },
  {
   "cell_type": "code",
   "execution_count": null,
   "metadata": {
    "collapsed": true
   },
   "outputs": [],
   "source": []
  }
 ],
 "metadata": {
  "kernelspec": {
   "display_name": "Python 2",
   "language": "python",
   "name": "python2"
  },
  "language_info": {
   "codemirror_mode": {
    "name": "ipython",
    "version": 2
   },
   "file_extension": ".py",
   "mimetype": "text/x-python",
   "name": "python",
   "nbconvert_exporter": "python",
   "pygments_lexer": "ipython2",
   "version": "2.7.13"
  }
 },
 "nbformat": 4,
 "nbformat_minor": 2
}
