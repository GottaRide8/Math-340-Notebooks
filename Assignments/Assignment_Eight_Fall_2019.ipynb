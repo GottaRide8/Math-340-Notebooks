{
 "cells": [
  {
   "cell_type": "code",
   "execution_count": 1,
   "metadata": {
    "collapsed": true
   },
   "outputs": [],
   "source": [
    "import numpy as np\n",
    "import matplotlib.pyplot as plt\n",
    "%matplotlib inline"
   ]
  },
  {
   "cell_type": "code",
   "execution_count": 2,
   "metadata": {
    "collapsed": true
   },
   "outputs": [],
   "source": [
    "def adap_quad_comp(f,a,b,c,fa,fb,fc,Aab,tol):    \n",
    "    d = (a+c)/2.\n",
    "    e = (b+c)/2.\n",
    "    fd = f(d)\n",
    "    fe = f(e)\n",
    "    dx3 = (d-a)/3.\n",
    "    Aac = dx3*(fa+4.*fd+fc)\n",
    "    Acb = dx3*(fc+4.*fe+fb)\n",
    "    if np.abs(Aab-(Aac+Acb))<=tol: \n",
    "        return (16./15.*(Aac+Acb)-Aab/15.)\n",
    "    else:  \n",
    "        F1 = adap_quad_comp(f,a,c,d,fa,fc,fd,Aac,tol)\n",
    "        F2 = adap_quad_comp(f,c,b,e,fc,fb,fe,Acb,tol)\n",
    "        return F1 + F2\n",
    "    \n",
    "def adap_quad(f,a,b,tol):\n",
    "    c = (a+b)/2.\n",
    "    fa = f(a)\n",
    "    fb = f(b)\n",
    "    fc = f(c)\n",
    "    dx3 = (c-a)/3.\n",
    "    Aab = dx3*(fa+4.*fc+fb)\n",
    "    ival = adap_quad_comp(f,a,b,c,fa,fb,fc,Aab,tol)    \n",
    "    return ival"
   ]
  },
  {
   "cell_type": "markdown",
   "metadata": {},
   "source": [
    "**Problem 1**: (5 pts) Use the adaptive quadrature algorithm to evaluate \n",
    "\n",
    "$$\n",
    "\\int_{-1}^{2} \\frac{dt}{\\sin\\left(\\sqrt{|t|} \\right)}.\n",
    "$$\n",
    "\n",
    "State how you arrive at your result i.e. what tolerances do you choose and what degree of accuracy can you argue that they provide you?  Why do you not encounter divide-by-zero difficulties at $t=0$?"
   ]
  },
  {
   "cell_type": "markdown",
   "metadata": {},
   "source": [
    "**Problem 2**: (5 pts) Write a recursive program which computes $\\begin{pmatrix} n \\\\ k \\end{pmatrix}$ where for $0\\leq k \\leq n$\n",
    "\n",
    "$$\n",
    "\\begin{pmatrix} n \\\\ k \\end{pmatrix} = \\frac{n!}{k!(n-k)!},\n",
    "$$\n",
    "\n",
    "using the formula \n",
    "\n",
    "$$\n",
    "\\begin{pmatrix} n \\\\ k \\end{pmatrix} = \\begin{pmatrix} n-1 \\\\ k \\end{pmatrix} + \\begin{pmatrix} n-1 \\\\ k-1 \\end{pmatrix}\n",
    "$$\n",
    "\n",
    "Provide two examples which show your implementation is correct.  "
   ]
  },
  {
   "cell_type": "markdown",
   "metadata": {},
   "source": [
    "**Problem 3**: (10 pts) The Hermite polynomials $H_{n}(x)$ are such that $H_{0}(x)=1$, $H_{1}(x)=2x$, and for $n\\geq2$, $H_{n}(x)$ satisfies the recurrence relationship\n",
    "\n",
    "$$\n",
    "H_{n}(x) = 2xH_{n-1}(x) -2(n-1)H_{n-2}(x), ~ n\\geq 2. \n",
    "$$\n",
    "\n",
    "* (6 pts) Write a recursive program to find any Hermite polynomial $H_{n}(x)$.\n",
    "* (4 pts) Generate a plot of the first six Hermite polyonmials on the interval $-2\\leq x \\leq 2$.  Your figure should be labeled, have a legend, and different colors should be used to distinguish the different Hermite polynmials in the plot.  "
   ]
  },
  {
   "cell_type": "markdown",
   "metadata": {
    "collapsed": true
   },
   "source": [
    "**Problem 4** : (5 pts) Suppose that for two football teams, the probability, $P$, that team A will beat team B is given by \n",
    "$$\n",
    "P = \\frac{1+p}{2}\\left(\\frac{p}{1-p+p^{2}} \\right)^{21}\n",
    "$$\n",
    "where $p$ is the probability that team A punts on a fourth down (ok, I really know nothing about football, but I think that kind of makes sense...)  Determine to within $10^{-3}$ the minimal value of $p$ that will ensure that team $A$ beats team $B$ at least half of the time."
   ]
  },
  {
   "cell_type": "markdown",
   "metadata": {},
   "source": [
    "**Problem 5** : (10 pts) Using Newton's method, explain why the sequence \n",
    "$$\n",
    "x_{n} = \\frac{1}{2}x_{n-1} + \\frac{A}{2x_{n-1}}, ~ n\\geq1, ~ x_{0}>0,  \n",
    "$$\n",
    "converges to $\\sqrt{A}$ (4 pts).  Hint, you need to think of a function whose root is $\\sqrt{A}$.  Implement the method and characterize for various values of $x_{0}$ how quickly the method converges. (6 pts)"
   ]
  },
  {
   "cell_type": "markdown",
   "metadata": {},
   "source": [
    "**Problem 6**: (5pts) In class for a root $x_{\\ast}$ of $f(x)$, i.e. $f(x_{\\ast})=0$, if $x_{0}$ is chosen \"close\" to $x_{\\ast}$, then the sequence $\\left\\{x_{n}\\right\\}_{n=0}^{\\infty}$  where \n",
    "\n",
    "$$\n",
    "x_{n+1} = g\\left(x_{n}\\right), ~ g(x) = x - \\frac{f(x)}{f'(x)}, ~ n\\geq 0.\n",
    "$$\n",
    "\n",
    "should converge to $x_{\\ast}$.  The question is how quickly.  So supposing that $f'(x_{\\ast})\\neq 0$ show \n",
    "\n",
    "* $g(x_{\\ast}) = x_{\\ast}$ (thus making $x_{\\ast}$ a fixed point of $g(x)$)\n",
    "* $g'(x_{\\ast}) = 0$\n",
    "* $x_{n+1} - x_{\\ast} = \\frac{1}{2}g''(x_{\\ast})\\left(x_{n}-x_{\\ast}\\right)^{2} + \\mathcal{O}(\\left(x_{n}-x_{\\ast}\\right)^{3})$\n",
    "\n",
    "From this, infer that the rate of convergence (see the class notes for a definition of rate of convergence) for Newton's method is $\\alpha = 2$."
   ]
  },
  {
   "cell_type": "markdown",
   "metadata": {},
   "source": [
    "**Problem 7**: (10 pts) In many cases, getting convergence rates via pen and paper is tricky.  However, we can often readily find them via numerical simulation.  \n",
    "\n",
    "a.) (4 pts) For \n",
    "$$\n",
    "f(x) = x\\cos(x) - \\sin^{2}(x), \n",
    "$$\n",
    "find all the roots on the interval $[0,5]$ using Newton's method with a tolerance of $10^{-6}$.\n",
    "\n",
    "\n",
    "b.) (6 pts) For each root, establish that the rate of convergence is quadratic.  Note, to do this, you will need to save the various points generated by Newton's method in an array.  You will need to find the fixed point.  Then, you should note that if \n",
    "$$\n",
    "\\lim_{n\\rightarrow \\infty}\\frac{|x_{n+1}-x_{\\ast}|}{|x_{n}-x_{\\ast}|^{\\alpha}} = \\lambda, \n",
    "$$  \n",
    "then for $n$ large\n",
    "$$\n",
    "\\ln |x_{n+1}-x_{\\ast}| \\sim \\alpha \\ln |x_{n}-x_{\\ast}| + \\ln \\lambda\n",
    "$$\n",
    "So, then you should be thinking about the slope of a line in a log/log plot.  \n",
    "\n",
    "Please provide a well-labeled and well-explained figure describing the rate of convergence for each fixed point.  Does your rate change based on your initial guess?  Again, please elaborate and show plots to make your case."
   ]
  },
  {
   "cell_type": "code",
   "execution_count": null,
   "metadata": {},
   "outputs": [],
   "source": []
  }
 ],
 "metadata": {
  "kernelspec": {
   "display_name": "Python 3",
   "language": "python",
   "name": "python3"
  },
  "language_info": {
   "codemirror_mode": {
    "name": "ipython",
    "version": 3
   },
   "file_extension": ".py",
   "mimetype": "text/x-python",
   "name": "python",
   "nbconvert_exporter": "python",
   "pygments_lexer": "ipython3",
   "version": "3.7.1"
  }
 },
 "nbformat": 4,
 "nbformat_minor": 2
}
