{
 "cells": [
  {
   "cell_type": "markdown",
   "metadata": {},
   "source": [
    "<strong> Problem 1 </strong>: 3 pts for each part.  Given the following strings\n",
    "\n",
    "`z = \"Whether ’tis nobler\"`\n",
    "\n",
    "`w = \"in the mind to suffer\"`\n",
    "\n",
    "`u = \"The slings and arrows\"`\n",
    "\n",
    "`y = \"of outrageous fortune\"`\n",
    "\n",
    "using only string manipulations, produce the strings (and no, you don't have to print out the quotation marks),\n",
    "\n",
    "<ol type=\"a\">\n",
    "  <li>`\"The fortune arrows suffer the mind.\"`</li>\n",
    "  <li>`\"'Tis nobler to suffer outrageous fortune.\"`</li>\n",
    "  <li>`\"SLINGS and ARROWS!\"`</li>\n",
    "  <li>`\"FoRTUNE! oUTRAGEOUS?\"`</li>\n",
    "  <li>`\"in MIND nobler whetheR\"`</li>\n",
    "  <li>`\"SuFFER SuFfER SuffER SUffER\"`</li>\n",
    "  <li> Surprise me.  I can only think so many of these things up. </li>\n",
    "</ol>\n"
   ]
  },
  {
   "cell_type": "markdown",
   "metadata": {},
   "source": [
    "<strong> Problem 2 </strong>: 7 pts. Using a while loop which stops due to meeting a tolerance condition (see Lecture- Chapter 13-15,17, the example of using a while loop for computing the Maclaurin Series for $\\sin(x)$, for reference), design a function to find the following sum.    \n",
    "\n",
    "$$\\sum_{n=0}^{\\infty} e^{nx},~ x<0$$.  \n",
    "\n",
    "Your function should start with \n",
    "\n",
    "`def p2(x,tol):` \n",
    "\n",
    "where `x` is the point you wish to evaluate at, and `tol` is the tolerance you are trying to meet.  Use recursion wherever possible. (5pts)  \n",
    "\n",
    "Note, it is easy to show that \n",
    "\n",
    "$$ \\frac{1}{1-e^{x}} = \\sum_{n=0}^{\\infty} e^{nx},~ x<0  $$.  \n",
    "\n",
    "Using this fact, provide a test of your tolerance condition.  In other words, compare how setting the tolerance changes the accuracy of your approximation to the infinite sum. (2pts)    "
   ]
  },
  {
   "cell_type": "markdown",
   "metadata": {},
   "source": [
    "<strong> Problem 3 </strong>: 3 pts each. Using a while loop which stops due to meeting a tolerance condition, design functions to find the following sums.  Use recursion wherever possible.  Also note, there is no $x$ in any of these sums.  So there should not be one in your functions.  \n",
    "\n",
    "<ol type=\"a\">\n",
    "    <li> $$\\sum_{n=1}^{\\infty} \\frac{1}{n!}$$</li>\n",
    "    <li> $$\\sum_{n=1}^{\\infty} \\frac{(2n)!}{(3n)!} $$</li>\n",
    "    <li> $$\\sum_{n=1}^{\\infty} \\frac{100^{n}}{n!} $$ </li>\n",
    "    <li> $$\\sum_{n=1}^{\\infty} \\frac{n}{2^{n}} $$ </li>\n",
    "</ol>"
   ]
  },
  {
   "cell_type": "markdown",
   "metadata": {},
   "source": [
    "<strong> Problem 4 </strong>: 10 pts.  Building off and using the results from Lecture - Chapter 18, develop two programs, one which takes in a text file and produces a plot of the number of each consonant in the file, the other which takes in the same text file and produces a plot of the number of each vowel within the given text file.  Your plots should be labeled (see Lecture - Chapter 3 for reference).  (5pts)\n",
    "\n",
    "Create your own, short, example file which allows you to test your functions.  Turn this example file in, and provide brief tests to show your code works. (2pts) Then produce plots of the number of consonants and vowels for both 'beyonce.txt' and 'juliet.txt' (3pts).  \n",
    "\n",
    "Note, part of the point of this problem is to reuse code we have developed already and then write relatively short functions to do a little more with the existing code we have.  This is NOT about writing everything from scracth. "
   ]
  },
  {
   "cell_type": "markdown",
   "metadata": {},
   "source": [
    "<strong> Problem 5 (Challenge) </strong>: 5 pts.  On the planet of Gethen, according to Wikipedia\n",
    "\n",
    ">Gethen orbits its primary star once every 0.96 Earth years (8401 Earth hours). The planet rotates around its axis in 23.08 earth hours, so a Gethenian year consists of 364 local days.\n",
    "\n",
    ">The only natural satellite of the planet revolves around it in 26 local days, which constitutes a month. The year is divided into 14 of these lunar months. By fortunate coincidence, the deviation between this lunisolar calendar and the true solar year is small enough to require a correction only once every 200 years. Thus the days are synchronized with the moon phase every month.\n",
    "\n",
    "Thus, on the planet Gethen, leap years of 365 days only occur every 200 years, and for a year to be leap year, it must be divisible by 200.  Assume the fourth month of the year is the month with 27 days in a leap year.  Otherwise, when it is not a leap year, each year has 14 months, and each month has 26 days.  Using a \"month/day/year\" format for inputting dates, build a series of functions which ultimately computes the number of days between any two dates.  "
   ]
  }
 ],
 "metadata": {
  "kernelspec": {
   "display_name": "Python 2",
   "language": "python",
   "name": "python2"
  },
  "language_info": {
   "codemirror_mode": {
    "name": "ipython",
    "version": 2
   },
   "file_extension": ".py",
   "mimetype": "text/x-python",
   "name": "python",
   "nbconvert_exporter": "python",
   "pygments_lexer": "ipython2",
   "version": "2.7.11"
  }
 },
 "nbformat": 4,
 "nbformat_minor": 0
}
