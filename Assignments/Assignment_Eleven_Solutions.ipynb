{
 "cells": [
  {
   "cell_type": "code",
   "execution_count": 1,
   "metadata": {},
   "outputs": [],
   "source": [
    "import numpy as np\n",
    "import matplotlib.pyplot as plt\n",
    "%matplotlib inline"
   ]
  },
  {
   "cell_type": "code",
   "execution_count": 2,
   "metadata": {},
   "outputs": [],
   "source": [
    "# Routine for turning a characteristic integer into its base-2 representation\n",
    "def char_to_bit(c):\n",
    "    bstr = ''\n",
    "    cnt = 1\n",
    "    while cnt < 12:\n",
    "        c0 = 0\n",
    "        if c%2 == 0:\n",
    "            bstr += '0'\n",
    "        else:\n",
    "            bstr += '1'\n",
    "            c0 = 1\n",
    "        c = (c-c0)/2\n",
    "        cnt += 1\n",
    "    return bstr[::-1]\n",
    "\n",
    "# Routine for turning a mantissa value into its base-2 representation \n",
    "def mant_to_bit(f):\n",
    "    bstr = ''\n",
    "    cnt = 1\n",
    "    while cnt < 53:\n",
    "        f0 = 0.\n",
    "        if f*2. < 1.:\n",
    "            bstr += '0'\n",
    "        else:\n",
    "            bstr += '1'\n",
    "            f0 = 1.\n",
    "        f = (f*2.-f0)\n",
    "        cnt += 1\n",
    "    return bstr"
   ]
  },
  {
   "cell_type": "markdown",
   "metadata": {},
   "source": [
    "**Problem 1** (5pts): What do each of the following loops do?  How many lines of output does each program produce?  What are the last two values of $x$ printed?  "
   ]
  },
  {
   "cell_type": "code",
   "execution_count": 49,
   "metadata": {},
   "outputs": [
    {
     "name": "stdout",
     "output_type": "stream",
     "text": [
      "The number of iterations this loop took was 53\n",
      "The number of iterations this loop took was 1024\n",
      "The number of iterations this loop took was 1075\n"
     ]
    }
   ],
   "source": [
    "x = 1.\n",
    "cnt = 0\n",
    "while 1.+x > 1.:\n",
    "    x /= 2.\n",
    "    cnt += 1\n",
    "print 'The number of iterations this loop took was %d' %cnt\n",
    "    \n",
    "x = 1.\n",
    "cnt = 0\n",
    "while x+x > x:\n",
    "    x *= 2.\n",
    "    cnt += 1\n",
    "print 'The number of iterations this loop took was %d' %cnt\n",
    "\n",
    "x = 1.\n",
    "cnt = 0\n",
    "while x+x > x:\n",
    "    x /= 2.\n",
    "    cnt += 1\n",
    "print 'The number of iterations this loop took was %d' %cnt"
   ]
  },
  {
   "cell_type": "markdown",
   "metadata": {},
   "source": [
    "In the first example, we see that we are generating the sequence \n",
    "\n",
    "$$\n",
    "x= 1 , \\frac{1}{2},  \\frac{1}{2^{2}},  \\cdots\n",
    "$$\n",
    "\n",
    "which, since we are comparing $1+x$ to $1$, and given that we only have 52-bits in the mantissa, implies in 64-bit precision that \n",
    "\n",
    "$$\n",
    "1 + \\frac{1}{2^{53}} =_{c} 1.\n",
    "$$\n",
    "Thus, we must stop at the 53-rd iteration.  Here $=_{c}$ implies equal on a finite-precision computer.\n",
    "\n",
    "In the second example, we see that we are generating the sequence\n",
    "\n",
    "$$\n",
    "x = 1 = 2^{1023-1023}, 2^{1} = 2^{1024-1023}, 2^{2} = 2^{1025-1023}, 2^{3}=2^{1026-1023}, \\cdots\n",
    "$$\n",
    "\n",
    "By comparing $x+x>x$, we are comparing changes in the characterisitc, thereby taking us to $2^{2046-1023}$.  Given the number of iterations the loop runs for , we see that in 64-bit precision that \n",
    "\n",
    "$$\n",
    "2^{2047-1023} =_{c} 2^{2048-1023}\n",
    "$$\n",
    "\n",
    "In the third example, we again generate the sequence \n",
    "\n",
    "$$\n",
    "x= 1 = 2^{1023-1023}, \\frac{1}{2} = 2^{1022-1023},  \\frac{1}{2^{2}} = 2^{1021-1023},  \\cdots\n",
    "$$\n",
    "\n",
    "but now we are comparing whether $x+x > x$, so that we comparing the magnitudes of characteristics as they decrease.  Therefore, we see that we can iterate until $2^{-1074}$, and thus \n",
    "\n",
    "$$\n",
    "2^{-1074} =_{c} 2^{-1075} =_{c} 0_{c}\n",
    "$$\n",
    "\n",
    "where by $0_{c}$ we mean zero on the computer.  "
   ]
  },
  {
   "cell_type": "markdown",
   "metadata": {},
   "source": [
    "**Problem 2** (10 pts): Finish the program below which converts a 64-bit representation of a number into its equivalenct decimal form (4 pts). \n",
    "* Develop two test cases to determine if your program works correctly (2 pts).     \n",
    "* Find the decimal representation of the 64-bit arrays below.How is the mantissa represented by `frup` related to the one related by `fvec`? (2 pts) \n",
    "* What can you infer about the printed results on the example below? (2 pts)"
   ]
  },
  {
   "cell_type": "code",
   "execution_count": 50,
   "metadata": {},
   "outputs": [],
   "source": [
    "def bit_to_num(bvec):\n",
    "    s = bvec[0]\n",
    "    cvec = bvec[1:12]\n",
    "    fvec = bvec[12:]\n",
    "    cpows = np.arange(11)\n",
    "    fpows = -np.arange(1,53)\n",
    "    ctil = np.sum(cvec[::-1]*(2.**cpows)) - 1023\n",
    "    ftil = np.sum(fvec*(2.**fpows))\n",
    "    num = ((-1.)**s) * (2.**ctil) * (1.+ftil)\n",
    "    return num"
   ]
  },
  {
   "cell_type": "markdown",
   "metadata": {},
   "source": [
    "As for examples to test our code, we know that $1 = 2^{1023-1023}(1 + 0)$, thus, if I use"
   ]
  },
  {
   "cell_type": "code",
   "execution_count": 54,
   "metadata": {},
   "outputs": [
    {
     "name": "stdout",
     "output_type": "stream",
     "text": [
      "Our method produces 1.000000000000000\n"
     ]
    }
   ],
   "source": [
    "cvec = np.array([int(char) for char in char_to_bit(1023)])\n",
    "bvec = np.zeros(64)\n",
    "bvec[1:12] = cvec\n",
    "print 'Our method produces %1.15f' % bit_to_num(bvec)"
   ]
  },
  {
   "cell_type": "markdown",
   "metadata": {},
   "source": [
    "We likewise know that $1.5 = 2^{1023-1023}(1 + 1/2)$, so if I use "
   ]
  },
  {
   "cell_type": "code",
   "execution_count": 60,
   "metadata": {},
   "outputs": [
    {
     "name": "stdout",
     "output_type": "stream",
     "text": [
      "Our method produces 1.500000000000000\n"
     ]
    }
   ],
   "source": [
    "cvec = np.array([int(char) for char in char_to_bit(1023)])\n",
    "bvec = np.zeros(64)\n",
    "bvec[1:12] = cvec\n",
    "bvec[12] = 1\n",
    "print 'Our method produces %1.15f' % bit_to_num(bvec)"
   ]
  },
  {
   "cell_type": "code",
   "execution_count": 55,
   "metadata": {},
   "outputs": [
    {
     "name": "stdout",
     "output_type": "stream",
     "text": [
      "0.0999999999999999917\n",
      "0.1000000000000000056\n"
     ]
    }
   ],
   "source": [
    "cvec = np.array([0,1,1,1,1,1,1,1,0,1,1])\n",
    "fvec = np.array([1,0,0,1,1,0,0,1,1,0,0,1,1,0,0,1,1,0,0,1,1,0,0,1,1,0,0,1,1,0,0,1,1,0,0,1,1,0,0,1,1,0,0,1,1,0,0,1,1,0,0,1])\n",
    "frup = np.array([1,0,0,1,1,0,0,1,1,0,0,1,1,0,0,1,1,0,0,1,1,0,0,1,1,0,0,1,1,0,0,1,1,0,0,1,1,0,0,1,1,0,0,1,1,0,0,1,1,0,1,0])\n",
    "\n",
    "bvec = np.zeros(64)\n",
    "brup = np.zeros(64)\n",
    "bvec[1:] = np.concatenate((cvec,fvec))\n",
    "brup[1:] = np.concatenate((cvec,frup))\n",
    "\n",
    "print \"%1.19f\" %bit_to_num(bvec)\n",
    "print \"%1.19f\" %bit_to_num(brup)"
   ]
  },
  {
   "cell_type": "markdown",
   "metadata": {},
   "source": [
    "We see from the bit strings that the two numbers differ only in the last bit of the mantissa, making the second number exactly the next number after the first in the set of floating point numbers.  Moreover, we see that the two numbers are on either side of $.1$, giving us then a rough idea of what the computer actually uses for $.1$."
   ]
  },
  {
   "cell_type": "markdown",
   "metadata": {},
   "source": [
    "**Problem 3** (10 pts): Write a program which takes in a decimal number and returns its 64-bit representation.  (6pts)  Use the examples above from **Problem 2** to verify your program is working. (4pts)  "
   ]
  },
  {
   "cell_type": "markdown",
   "metadata": {},
   "source": [
    "Taking $d>0$, we see that if \n",
    "\n",
    "$$\n",
    "d = 2^{c-1023}(1+f)\n",
    "$$\n",
    "\n",
    "then \n",
    "\n",
    "$$\n",
    "c = \\lfloor 1023 + \\log_{2} d \\rfloor\n",
    "$$\n",
    "\n",
    "and \n",
    "\n",
    "$$\n",
    "f = 2^{1023-c}d - 1\n",
    "$$\n",
    "\n",
    "This, as well as revisiting the code we used to convert numbers to their binary representations are given below. "
   ]
  },
  {
   "cell_type": "code",
   "execution_count": 3,
   "metadata": {},
   "outputs": [],
   "source": [
    "def num_to_bit(d):\n",
    "    btstr = ''\n",
    "    if d > 0:\n",
    "        btstr += '0'\n",
    "    elif d < 0:\n",
    "        btstr += '1'\n",
    "    d = np.abs(d)\n",
    "    c = np.floor(np.log2(d)+1023.)\n",
    "    f = d*2.**(1023.-c) - 1.\n",
    "    char = char_to_bit(int(c))\n",
    "    mant = mant_to_bit(f)\n",
    "    btstr = btstr + char + mant\n",
    "    return btstr"
   ]
  },
  {
   "cell_type": "markdown",
   "metadata": {},
   "source": [
    "Using the examples from above, we see that the 64-bit strings we generate are exactly correct, showing us again that the two numbers are exactly one bit in the mantissa apart, or that the larger number is the 'next' number among the floating point numbers.  "
   ]
  },
  {
   "cell_type": "code",
   "execution_count": 5,
   "metadata": {},
   "outputs": [
    {
     "name": "stdout",
     "output_type": "stream",
     "text": [
      "The bits for the first example are: 0011111110111001100110011001100110011001100110011001100110011001\n",
      "\n",
      "The bits for the other example are: 0011111110111001100110011001100110011001100110011001100110011010\n"
     ]
    }
   ],
   "source": [
    "fst_str = num_to_bit(.0999999999999999917)\n",
    "scnd_str = num_to_bit(.1000000000000000056)\n",
    "print 'The bits for the first example are:'+' '+fst_str\n",
    "print\n",
    "print 'The bits for the other example are:'+' '+scnd_str"
   ]
  },
  {
   "cell_type": "markdown",
   "metadata": {},
   "source": [
    "**Problem 4** (10 pts): Given that $\\sin(x)$ has the Maclaurin series\n",
    "\n",
    "$$\n",
    "\\sin(x) = \\sum_{m=0}^{\\infty}\\frac{(-1)^{m}x^{2m+1}}{(2m+1)!}\n",
    "$$\n",
    "\n",
    "for the function below, what causes the while loop to terminate (2 pts)?  For $x = \\pi/2, ~11\\pi/2, ~ 21\\pi/2, ~ 31\\pi/2$, \n",
    "\n",
    "* How accurate is the computed result? (2 pts)\n",
    "* How many terms are required? (2 pts)\n",
    "* What is the largest term in the series? (2 pts)  \n",
    "\n",
    "What do you conclude about the use of floating-point arithmetic and power series to evaluate functions?  (2 pts)"
   ]
  },
  {
   "cell_type": "code",
   "execution_count": 35,
   "metadata": {},
   "outputs": [],
   "source": [
    "def psin(x):\n",
    "    s = 0.\n",
    "    t = x\n",
    "    mx = np.abs(t)\n",
    "    n = 1\n",
    "    x2 = -x**2.\n",
    "    while s+t != s:\n",
    "        s += t\n",
    "        t *= x2/((n+2.)*(n+1.))\n",
    "        if np.abs(t) > mx:\n",
    "            mx = np.abs(t)\n",
    "        n += 2\n",
    "    print 'For x = %1.15f' % x\n",
    "    print 'The number of iterations was: %d' % ((n-1)/2)\n",
    "    print 'The largest term in the series was %1.15e' % mx\n",
    "    return s"
   ]
  },
  {
   "cell_type": "code",
   "execution_count": 36,
   "metadata": {},
   "outputs": [
    {
     "name": "stdout",
     "output_type": "stream",
     "text": [
      "For x = 1.570796326794897\n",
      "The number of iterations was: 11\n",
      "The largest term in the series was 1.570796326794897e+00\n",
      "Error is 2.220446049250313e-16\n",
      "\n",
      "For x = 17.278759594743860\n",
      "The number of iterations was: 37\n",
      "The largest term in the series was 3.066514637383812e+06\n",
      "Error is 2.128728304739980e-10\n",
      "\n",
      "For x = 32.986722862692829\n",
      "The number of iterations was: 60\n",
      "The largest term in the series was 1.467259672825497e+13\n",
      "Error is 1.332359581505127e-04\n",
      "\n",
      "For x = 48.694686130641792\n",
      "The number of iterations was: 78\n",
      "The largest term in the series was 7.988994169819993e+19\n",
      "Error is 5.821018527024010e+03\n",
      "\n"
     ]
    }
   ],
   "source": [
    "pot = np.pi/2.\n",
    "xvals = pot*np.array([1., 11., 21., 31.])\n",
    "error = np.zeros(xvals.size)\n",
    "cnt = 0.\n",
    "for xval in xvals:\n",
    "    error = np.abs((-1.)**cnt - psin(xval))\n",
    "    cnt += 1.\n",
    "    print 'Error is %1.15e' %error\n",
    "    print "
   ]
  },
  {
   "cell_type": "markdown",
   "metadata": {},
   "source": [
    "As we see, as $x$ increases, the impact of catastrophic cancellation degrades the overall accuracy of the power series result, so that by $x=31\\pi/2$, the series approach does not give a meaningful approximation at all.  Thus, we see trying to use a Maclaurin expansion, or Taylor series centered around $x=0$, is not appropriate when one wants to use the approximation method far from the origin.  "
   ]
  },
  {
   "cell_type": "code",
   "execution_count": null,
   "metadata": {},
   "outputs": [],
   "source": []
  }
 ],
 "metadata": {
  "kernelspec": {
   "display_name": "Python 2",
   "language": "python",
   "name": "python2"
  },
  "language_info": {
   "codemirror_mode": {
    "name": "ipython",
    "version": 2
   },
   "file_extension": ".py",
   "mimetype": "text/x-python",
   "name": "python",
   "nbconvert_exporter": "python",
   "pygments_lexer": "ipython2",
   "version": "2.7.15"
  }
 },
 "nbformat": 4,
 "nbformat_minor": 2
}
