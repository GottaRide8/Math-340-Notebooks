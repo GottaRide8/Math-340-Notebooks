{
 "cells": [
  {
   "cell_type": "code",
   "execution_count": 1,
   "metadata": {
    "collapsed": true
   },
   "outputs": [],
   "source": [
    "from math import pi, sqrt, exp"
   ]
  },
  {
   "cell_type": "markdown",
   "metadata": {},
   "source": [
    "<strong> Problem 1 </strong>: 5pts, 18.3"
   ]
  },
  {
   "cell_type": "markdown",
   "metadata": {},
   "source": [
    "*Answer to Problem 1*: So, using the results from homework problem 12.1 from Assignment 4, we can just cut and paste the code used below.  The results are the same as from before, so I will spare you the tedium.  "
   ]
  },
  {
   "cell_type": "code",
   "execution_count": 5,
   "metadata": {
    "collapsed": true
   },
   "outputs": [],
   "source": [
    "def interval(a,b,n):\n",
    "    dx = float(b-a)/(n+1)\n",
    "    cnt = 1\n",
    "    points = [a]\n",
    "    npoint = a\n",
    "    while cnt <= n+1:\n",
    "        npoint += dx\n",
    "        points.append(npoint)\n",
    "        cnt+=1\n",
    "    return points"
   ]
  },
  {
   "cell_type": "markdown",
   "metadata": {},
   "source": [
    "<strong> Problem 2 </strong>: 5pts, 18.4"
   ]
  },
  {
   "cell_type": "markdown",
   "metadata": {},
   "source": [
    "*Answer to Problem 2*: I would write two functions.  One to evaluate the Gaussian distribution, the other to build your points.  So what I mean is:"
   ]
  },
  {
   "cell_type": "code",
   "execution_count": 10,
   "metadata": {
    "collapsed": true
   },
   "outputs": [],
   "source": [
    "def gauss(x,sig,mu):\n",
    "    return 1./(sig*sqrt(2*pi))*exp(-.5*((x-mu)/(2*sig))**2)\n",
    "\n",
    "def norm_plot(mu,sig,a,b,n):\n",
    "    xvals = interval(a,b,n)\n",
    "    yvals = []\n",
    "    for xval in xvals:\n",
    "        yvals.append(gauss(xval,sig,mu))\n",
    "    return yvals"
   ]
  },
  {
   "cell_type": "code",
   "execution_count": 11,
   "metadata": {
    "collapsed": false
   },
   "outputs": [
    {
     "data": {
      "text/plain": [
       "[0.05399096651318806,\n",
       " 0.18786386387985002,\n",
       " 0.25296173529121607,\n",
       " 0.31620120297670373,\n",
       " 0.36691824582777216,\n",
       " 0.39525029605292433,\n",
       " 0.39525029605292433,\n",
       " 0.3669182458277722,\n",
       " 0.3162012029767038,\n",
       " 0.2529617352912161,\n",
       " 0.18786386387985005,\n",
       " 0.12951759566589177]"
      ]
     },
     "execution_count": 11,
     "metadata": {},
     "output_type": "execute_result"
    }
   ],
   "source": [
    "norm_plot(0,1,-3,3,10)"
   ]
  },
  {
   "cell_type": "markdown",
   "metadata": {},
   "source": [
    "Alright, after a late night of trying to figure out how to make some of this sorting business more transparent, let's do the following.  By an *explicit* for loop I mean one involving an explicit `range` statement and index as in \n",
    "\n",
    "`for kk in range(0,len(vals))`\n",
    "\n",
    "In this case, we refer to or iterate over entries in the list `vals` by referring to the `kk` element of `vals` which we denote by `vals[kk]`.  \n",
    "\n",
    "By an *implicit* for loop, I mean one that iterates over values as in \n",
    "\n",
    "`for val in vals`\n",
    "\n",
    "In order to determine what index in `vals` correpsonds to `val`, we use \n",
    "\n",
    "`ind = vals.index(val)`\n",
    "\n",
    "So long as `val` is unique, we then have \n",
    "\n",
    "`vals[ind] = val`.\n",
    "\n",
    "<strong> However, if `val` is not unique, the command `vals.index(val)` ONLY returns the index corresponding to the FIRST occurence of `val`.  See Ch. 14 of the text for reference. SO USE THIS COMMAND WITH CAUTION! </strong>\n",
    "\n",
    "For Problems 3-5, test your functions on the list \n",
    "\n",
    "`vals = [1,4,2,302,432,97,5,16,16,17,18,432,39,39,12,11]`\n",
    "\n",
    "<strong> NOTE: The values in `vals` are not unique.  I did this on purpose so that you will proceed with caution.  Watch my pedagogical skills in action! </strong>"
   ]
  },
  {
   "cell_type": "code",
   "execution_count": 27,
   "metadata": {
    "collapsed": true
   },
   "outputs": [],
   "source": [
    "vals = [1,4,2,302,432,97,5,16,16,17,18,432,39,39,12,11]"
   ]
  },
  {
   "cell_type": "markdown",
   "metadata": {},
   "source": [
    "<strong> Problem 3 </strong>: 5pts, Rewrite the function `i_sort` from Lecture 19 by replacing the explicit for loop with an implicit one like\n",
    "\n",
    "`for val in vals`\n",
    "\n",
    "You will need to rewrite the rest of the function accordingly.  "
   ]
  },
  {
   "cell_type": "code",
   "execution_count": 42,
   "metadata": {
    "collapsed": true
   },
   "outputs": [],
   "source": [
    "def i_sort_3(vals):\n",
    "    svals = []\n",
    "    for val in vals: \n",
    "        cnt = 0\n",
    "        while  cnt < len(svals):   \n",
    "            if val<=svals[cnt]:\n",
    "                svals.insert(cnt,val)\n",
    "                break                \n",
    "            else:\n",
    "                cnt+=1\n",
    "        if cnt == len(svals): \n",
    "            svals.append(val)\n",
    "    return svals"
   ]
  },
  {
   "cell_type": "code",
   "execution_count": 43,
   "metadata": {
    "collapsed": false
   },
   "outputs": [
    {
     "data": {
      "text/plain": [
       "[1, 2, 4, 5, 11, 12, 16, 16, 17, 18, 39, 39, 97, 302, 432, 432]"
      ]
     },
     "execution_count": 43,
     "metadata": {},
     "output_type": "execute_result"
    }
   ],
   "source": [
    "i_sort_3(vals)"
   ]
  },
  {
   "cell_type": "markdown",
   "metadata": {},
   "source": [
    "<strong> Problem 4 </strong>: 5pts, Rewrite the function `i_sort` from Lecture 19 by using only explicit for loops.  In other words, get rid of the inner `while` loop and replace it with an explicit statement like\n",
    "\n",
    "`for cnt in range(0,len(svals))`\n",
    "\n",
    "You will need to rewrite the function accordingly.  "
   ]
  },
  {
   "cell_type": "code",
   "execution_count": 44,
   "metadata": {
    "collapsed": true
   },
   "outputs": [],
   "source": [
    "def i_sort_4(vals):\n",
    "    svals = [vals[0]]\n",
    "    for kk in range(1,len(vals)): \n",
    "        for  cnt in range(0,len(svals)):   \n",
    "            if vals[kk]<=svals[cnt]:\n",
    "                svals.insert(cnt,vals[kk])\n",
    "                break            \n",
    "        if cnt == len(svals)-1: \n",
    "            svals.append(vals[kk])\n",
    "    return svals"
   ]
  },
  {
   "cell_type": "code",
   "execution_count": 45,
   "metadata": {
    "collapsed": false
   },
   "outputs": [
    {
     "data": {
      "text/plain": [
       "[1, 2, 4, 5, 11, 12, 16, 16, 17, 18, 39, 39, 97, 302, 432, 432]"
      ]
     },
     "execution_count": 45,
     "metadata": {},
     "output_type": "execute_result"
    }
   ],
   "source": [
    "i_sort_4(vals)"
   ]
  },
  {
   "cell_type": "markdown",
   "metadata": {},
   "source": [
    "<strong> Problem 5 </strong>: 5pts, Rewrite the function `i_sort` from Lecture 19 by using only implicit for loops.  In other words, use\n",
    "\n",
    "`for val in vals`\n",
    "\n",
    "for the outer for loop, and \n",
    "\n",
    "`for sval in svals`\n",
    "\n",
    "for the inner for loop."
   ]
  },
  {
   "cell_type": "code",
   "execution_count": 46,
   "metadata": {
    "collapsed": true
   },
   "outputs": [],
   "source": [
    "def i_sort_5(vals):\n",
    "    svals = [] \n",
    "    for val in vals: \n",
    "        cnt = 0 # Note, while we may want to use .index(), this is dangerous.  So we keep count.\n",
    "        for  sval in svals:   \n",
    "            if val<=sval:\n",
    "                svals.insert(cnt,val)\n",
    "                break        \n",
    "            else:\n",
    "                cnt+=1\n",
    "        if cnt == len(svals): \n",
    "            svals.append(val)\n",
    "    return svals"
   ]
  },
  {
   "cell_type": "code",
   "execution_count": 47,
   "metadata": {
    "collapsed": false
   },
   "outputs": [
    {
     "data": {
      "text/plain": [
       "[1, 2, 4, 5, 11, 12, 16, 16, 17, 18, 39, 39, 97, 302, 432, 432]"
      ]
     },
     "execution_count": 47,
     "metadata": {},
     "output_type": "execute_result"
    }
   ],
   "source": [
    "i_sort_5(vals)"
   ]
  },
  {
   "cell_type": "markdown",
   "metadata": {},
   "source": [
    "<strong> Problem 6 </strong>: 5pts, In the function `i_sort_alpha` from Lecture 19, we iterate over each letter of the words `cword` and `nword`.  However, Python is smarter than that, and can compare two strings.  Said another way the statements\n",
    "\n",
    "`\"air\"<\"candy\"`, `\"air\"<\"and\"`, `\"air\"<\"airport\"`\n",
    "\n",
    "all return the Boolean value `True`.  Using this fact, rewrite `i_sort_alpha` to use only implicit for loops, but that makes use of full string comparison.  Note, this means you do not have to iterate over letters within words.  As a test, use the list of strings \n",
    "\n",
    "`vals = [\"candy\",\"air\",\"dandy\",\"Dandy\",\"Airport\",\"air\",\"is\",\"Candy\",\"I\",\"is\",\"vulnerable\"]`"
   ]
  },
  {
   "cell_type": "code",
   "execution_count": 48,
   "metadata": {
    "collapsed": true
   },
   "outputs": [],
   "source": [
    "def i_sort_alpha(vals):\n",
    "    svals = [] \n",
    "    for val in vals:\n",
    "        vlow = val.lower()\n",
    "        cnt = 0 # Note, while we may want to use .index(), this is dangerous.  So we keep count manually.\n",
    "        for  sval in svals:\n",
    "            slow = sval.lower()\n",
    "            if vlow<=slow:\n",
    "                svals.insert(cnt,val)\n",
    "                break        \n",
    "            else:\n",
    "                cnt+=1\n",
    "        if cnt == len(svals): \n",
    "            svals.append(val)\n",
    "    return svals"
   ]
  },
  {
   "cell_type": "code",
   "execution_count": 49,
   "metadata": {
    "collapsed": false
   },
   "outputs": [
    {
     "data": {
      "text/plain": [
       "['air',\n",
       " 'air',\n",
       " 'Airport',\n",
       " 'Candy',\n",
       " 'candy',\n",
       " 'Dandy',\n",
       " 'dandy',\n",
       " 'I',\n",
       " 'is',\n",
       " 'is',\n",
       " 'vulnerable']"
      ]
     },
     "execution_count": 49,
     "metadata": {},
     "output_type": "execute_result"
    }
   ],
   "source": [
    "vals = [\"candy\",\"air\",\"dandy\",\"Dandy\",\"Airport\",\"air\",\"is\",\"Candy\",\"I\",\"is\",\"vulnerable\"]\n",
    "i_sort_alpha(vals)"
   ]
  },
  {
   "cell_type": "code",
   "execution_count": null,
   "metadata": {
    "collapsed": true
   },
   "outputs": [],
   "source": []
  }
 ],
 "metadata": {
  "kernelspec": {
   "display_name": "Python 2",
   "language": "python",
   "name": "python2"
  },
  "language_info": {
   "codemirror_mode": {
    "name": "ipython",
    "version": 2
   },
   "file_extension": ".py",
   "mimetype": "text/x-python",
   "name": "python",
   "nbconvert_exporter": "python",
   "pygments_lexer": "ipython2",
   "version": "2.7.11"
  }
 },
 "nbformat": 4,
 "nbformat_minor": 0
}
