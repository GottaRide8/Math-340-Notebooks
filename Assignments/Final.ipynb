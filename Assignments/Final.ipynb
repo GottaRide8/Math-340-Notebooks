{
 "cells": [
  {
   "cell_type": "code",
   "execution_count": null,
   "metadata": {
    "collapsed": true
   },
   "outputs": [],
   "source": [
    "import numpy as np\n",
    "import matplotlib.pyplot as plt\n",
    "from scipy.sparse import spdiags\n",
    "from scipy.sparse.linalg import spsolve\n",
    "\n",
    "%matplotlib inline"
   ]
  },
  {
   "cell_type": "markdown",
   "metadata": {},
   "source": [
    "** Problem 1**: 15pts- \n",
    "    \n",
    "1a) 3pts - In NumPy, create an array of points between $-10$ and $3.323$ with spacing $.0125$.  If you can not do this exactly, how close can you get?  \n",
    "\n",
    "1b) 3pts - Using vectorization, plot $f(x) = 3x^{5} + 4x^{3} + 3$ for $-10\\leq x \\leq 3.323$.  Make sure your graph is labeled.   \n",
    "\n",
    "1c) 3pts - Using vectorization in Python, find the sum \n",
    "\n",
    "$$\n",
    "\\sum_{j=0}^{n}(4j^{4} + 3j^{3} + 2j^2)\n",
    "$$\n",
    "\n",
    "for $n=30,50$.\n",
    "\n",
    "1d) 3pts - For the integers less than 16000, what is the sum of those numbers which are divisible by 13, 31, or 43?  \n",
    "\n",
    "1e) 3pts - For the recurrence relation\n",
    "\n",
    "$$\n",
    "p_{n} = 3p_{n-4} - 2p_{n-3} + p_{n-2} - .1p_{n-1}, ~ n\\geq 4, \n",
    "$$\n",
    "\n",
    "where \n",
    "\n",
    "$$\n",
    "p_{0}= .2, ~ p_{1}=1.2, ~ p_{2} = .333, ~ p_{3} = 0,\n",
    "$$\n",
    "\n",
    "what is $p_{n}$ for $n=5$, $10$, and $20$?"
   ]
  },
  {
   "cell_type": "markdown",
   "metadata": {},
   "source": [
    "** Problem 2**: 20pts - Given that \n",
    "\n",
    "$$\n",
    "e^{t} = \\sum_{j=0}^{\\infty}\\frac{t^{j}}{j!}\n",
    "$$\n",
    "\n",
    "2a) 6pts - Develop a tolerance based, recursive, vectorized program which computes the error function $h(x)$ where\n",
    "\n",
    "$$\n",
    "h(x) = \\int_{0}^{x} e^{-t^{3}}dt.\n",
    "$$\n",
    "\n",
    "2b) 5pts - What is the largest value of $L_{x}$ for which you can generate a reliable plot of $h(x)$ on the interval $0\\leq x \\leq L_{x}$?  Provide labeled graphs and a corresponding explanation.  Clearly state which tolerances you use to generate your results.    \n",
    "\n",
    "2c) 5pts - If you use the adaptive quadrature scheme derived in class, what is the largest value of $L_{x}$ for which you can generate a reliable plot of $h(x)$ on the interval $0\\leq x \\leq L_{x}$?  Provide labeled graphs and a corresponding explanation.  Clearly state which tolerances you choose to generate your results.    \n",
    "\n",
    "2d) 4pts - Can you infer a trend as $x\\rightarrow \\infty$ for $h(x)$?  Which method most reliably allows you to find this result?  "
   ]
  },
  {
   "cell_type": "markdown",
   "metadata": {},
   "source": [
    "** Problem 3 **: 10 pts - \n",
    "\n",
    "3a) (3pts) Plot the function $f(x)= \\cot(x)$ and $f(x)=x$ for $0\\leq x \\leq 30$.  Note, you will have to be thoughtful about using `plt.ylim()` in order to have this plot look nice.  \n",
    "\n",
    "3b) (3pts) Use the secant method to find the first ten positive values $x$ such that $x= \\cot(x)$.  See your plot above for help.\n",
    "\n",
    "3c) (4pts) Provide a rate of convergence plot for the second, third, and fourth values from part b).  Comment on anything interesting you see.  "
   ]
  },
  {
   "cell_type": "markdown",
   "metadata": {},
   "source": [
    "** Problem 4 **: 10pts - The midpoint method is a technique for numerically computing integrals.  Given the integral \n",
    "\n",
    "$$\n",
    "\\int_{a}^{b} f(x)dx,\n",
    "$$\n",
    "\n",
    "if we choose a step-size $\\delta x$ of \n",
    "\n",
    "$$\n",
    "\\delta x = \\frac{b-a}{N},\n",
    "$$\n",
    "\n",
    "so that $x_{0}=a$, $x_{N}=b$, and $x_{j} = x_{0} + j\\delta x$, over each subinterval $[x_{j},x_{j+1}]$, we use the following approximation\n",
    "\n",
    "$$\n",
    "\\int_{x_{j}}^{x_{j+1}} f(x) dx \\approx \\delta x ~f\\left(x_{j+1/2}\\right), ~ x_{j+1/2} = \\frac{x_{j}+x_{j+1}}{2}.\n",
    "$$\n",
    "\n",
    "4a) (3pts) Derive a global formula for the Midpoint method approximation to the integral $\\int_{a}^{b}f(x)dx$.\n",
    "\n",
    "4b) (3pts) Implement the Midpoint method in Python/NumPy using vectorization.  \n",
    "\n",
    "4c) (4pts) Determine the order of the error of the Midpoint method.  Provide plots and slopes of lines in plots to determine the order of the method.  Use as your test case\n",
    "\n",
    "$$\n",
    "\\int_{0}^{1}e^{\\sin(x)}\\cos(x)dx = e^{\\sin(1)}-1.\n",
    "$$"
   ]
  },
  {
   "cell_type": "markdown",
   "metadata": {},
   "source": [
    "** Problem 5 **: 10pts- Using your spline making code, build a quadrature scheme.  What I mean is that if you have nodes $\\left\\{x_{j},f_{j}\\right\\}_{j=0}^{n}$, which generate splines \n",
    "\n",
    "$$\n",
    "S_{j}(x) = a_{j}(x-x_{j})^{3} + b_{j}(x-x_{j})^{2} + c_{j}(x-x_{j}) + d_{j},\n",
    "$$\n",
    "\n",
    "then we can use this to approximate integrals via the formula \n",
    "\n",
    "\\begin{align}\n",
    "\\int_{a}^{b} f(x) dx = & \\sum_{j=0}^{n-1}\\int_{x_{j}}^{x_{j+1}} f(x) dx\\\\\n",
    "\\approx & \\sum_{j=0}^{n-1}\\int_{x_{j}}^{x_{j+1}} S_{j}(x) dx\n",
    "\\end{align}\n",
    "\n",
    "5a) (2pts) Find a global formula for your quadrature scheme.  \n",
    "\n",
    "5b) (4pts) Write code which takes in node data for a given function over $[a,b]$ and produces an approximation to an integral of said function over an interval $[a,b]$.\n",
    "\n",
    "5c) (4pts) Test your code on $f(x)=e^{x}$ for $1\\leq x \\leq 3$.  Using this example, determine the order of the error of your method.  Provide a plot and the slope of the associated line to justify your claim.  "
   ]
  },
  {
   "cell_type": "code",
   "execution_count": null,
   "metadata": {
    "collapsed": true
   },
   "outputs": [],
   "source": []
  }
 ],
 "metadata": {
  "kernelspec": {
   "display_name": "Python 2",
   "language": "python",
   "name": "python2"
  },
  "language_info": {
   "codemirror_mode": {
    "name": "ipython",
    "version": 2
   },
   "file_extension": ".py",
   "mimetype": "text/x-python",
   "name": "python",
   "nbconvert_exporter": "python",
   "pygments_lexer": "ipython2",
   "version": "2.7.13"
  }
 },
 "nbformat": 4,
 "nbformat_minor": 2
}
