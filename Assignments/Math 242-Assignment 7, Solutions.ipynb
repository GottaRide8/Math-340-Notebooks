{
 "cells": [
  {
   "cell_type": "markdown",
   "metadata": {},
   "source": [
    "<strong> MAKE SURE YOU REMEMBER TO RUN THE CELL BELOW </strong>"
   ]
  },
  {
   "cell_type": "code",
   "execution_count": 1,
   "metadata": {
    "collapsed": false
   },
   "outputs": [],
   "source": [
    "from time import time\n",
    "from math import floor\n",
    "from math import pi \n",
    "import random"
   ]
  },
  {
   "cell_type": "markdown",
   "metadata": {},
   "source": [
    "Note, we make use of the random library in this problem set.  To get a feel for what this does, run the following print statements"
   ]
  },
  {
   "cell_type": "code",
   "execution_count": 2,
   "metadata": {
    "collapsed": false
   },
   "outputs": [
    {
     "name": "stdout",
     "output_type": "stream",
     "text": [
      "[1, 0, 2, 4, 3]\n",
      "[3, 9, 7, 8, 6]\n",
      "[2, 3, 0, 1, 8, 9, 5, 6, 7, 4]\n"
     ]
    }
   ],
   "source": [
    "print random.sample(range(5), 5) # Produces 5 random values between 0 and 5\n",
    "print random.sample(range(10),5) # Produces 5 random values between 0 and 10\n",
    "print random.sample(range(10),10) # Produces 10 random values between 0 and 10"
   ]
  },
  {
   "cell_type": "markdown",
   "metadata": {},
   "source": [
    "<strong> Problem 1 </strong>: 6pts, 19.1.  I appreaciate we did not go over selection sort in lecture, but if you turn to page 137 of your book, you will find it explained with an outline of the algorithm provided.  Part of coding is also about translating algorithms into code, though use the skeleton below for help.  Again, you should only have to add at most 4 lines of code, though you can have less if you use multiple assignments.  This is done where I have placed comments.  "
   ]
  },
  {
   "cell_type": "markdown",
   "metadata": {},
   "source": [
    "*Answer to Problem 1*: Using the guidance from the book, we see that we need to keep swapping values until we get the absolute smallest unsorted value that remains.  This is done as below.  "
   ]
  },
  {
   "cell_type": "code",
   "execution_count": 9,
   "metadata": {
    "collapsed": true
   },
   "outputs": [],
   "source": [
    "def sel_sort(vals):\n",
    "    for jj in range(0,len(vals)):\n",
    "        for kk in range(jj+1,len(vals)):\n",
    "            if vals[kk]<vals[jj]: \n",
    "                    vals[jj],vals[kk] = vals[kk],vals[jj]\n",
    "    return vals "
   ]
  },
  {
   "cell_type": "code",
   "execution_count": 10,
   "metadata": {
    "collapsed": false
   },
   "outputs": [
    {
     "name": "stdout",
     "output_type": "stream",
     "text": [
      "0.0\n"
     ]
    }
   ],
   "source": [
    "tstart = time()\n",
    "sel_sort(random.sample(range(50000),10)) # You need to decide how many points to put in your list\n",
    "tend = time()\n",
    "ctime = tend-tstart\n",
    "print ctime"
   ]
  },
  {
   "cell_type": "code",
   "execution_count": 11,
   "metadata": {
    "collapsed": false
   },
   "outputs": [
    {
     "name": "stdout",
     "output_type": "stream",
     "text": [
      "0.00400018692017\n"
     ]
    }
   ],
   "source": [
    "tstart = time()\n",
    "sel_sort(random.sample(range(50000),50)) # You need to decide how many points to put in your list\n",
    "tend = time()\n",
    "ctime = tend-tstart\n",
    "print ctime"
   ]
  },
  {
   "cell_type": "code",
   "execution_count": 12,
   "metadata": {
    "collapsed": false
   },
   "outputs": [
    {
     "name": "stdout",
     "output_type": "stream",
     "text": [
      "0.000999927520752\n"
     ]
    }
   ],
   "source": [
    "tstart = time()\n",
    "sel_sort(random.sample(range(50000),100)) # You need to decide how many points to put in your list\n",
    "tend = time()\n",
    "ctime = tend-tstart\n",
    "print ctime"
   ]
  },
  {
   "cell_type": "code",
   "execution_count": 13,
   "metadata": {
    "collapsed": false
   },
   "outputs": [
    {
     "name": "stdout",
     "output_type": "stream",
     "text": [
      "0.0199999809265\n"
     ]
    }
   ],
   "source": [
    "tstart = time()\n",
    "sel_sort(random.sample(range(50000),500)) # You need to decide how many points to put in your list\n",
    "tend = time()\n",
    "ctime = tend-tstart\n",
    "print ctime"
   ]
  },
  {
   "cell_type": "code",
   "execution_count": 14,
   "metadata": {
    "collapsed": false
   },
   "outputs": [
    {
     "name": "stdout",
     "output_type": "stream",
     "text": [
      "0.085000038147\n"
     ]
    }
   ],
   "source": [
    "tstart = time()\n",
    "sel_sort(random.sample(range(50000),1000)) # You need to decide how many points to put in your list\n",
    "tend = time()\n",
    "ctime = tend-tstart\n",
    "print ctime"
   ]
  },
  {
   "cell_type": "code",
   "execution_count": 15,
   "metadata": {
    "collapsed": false
   },
   "outputs": [
    {
     "name": "stdout",
     "output_type": "stream",
     "text": [
      "1.61800003052\n"
     ]
    }
   ],
   "source": [
    "tstart = time()\n",
    "sel_sort(random.sample(range(50000),5000)) # You need to decide how many points to put in your list\n",
    "tend = time()\n",
    "ctime = tend-tstart\n",
    "print ctime"
   ]
  },
  {
   "cell_type": "code",
   "execution_count": 16,
   "metadata": {
    "collapsed": false
   },
   "outputs": [
    {
     "name": "stdout",
     "output_type": "stream",
     "text": [
      "6.19599986076\n"
     ]
    }
   ],
   "source": [
    "tstart = time()\n",
    "sel_sort(random.sample(range(50000),10000)) # You need to decide how many points to put in your list\n",
    "tend = time()\n",
    "ctime = tend-tstart\n",
    "print ctime"
   ]
  },
  {
   "cell_type": "code",
   "execution_count": null,
   "metadata": {
    "collapsed": false
   },
   "outputs": [],
   "source": [
    "tstart = time()\n",
    "sel_sort(random.sample(range(50000),50000)) # You need to decide how many points to put in your list\n",
    "tend = time()\n",
    "ctime = tend-tstart\n",
    "print ctime"
   ]
  },
  {
   "cell_type": "markdown",
   "metadata": {},
   "source": [
    "Okay, this never stopped running, so I gave up.  It takes a long time as you would expect for an $\\mathcal{O}(n^{2})$ method.  We even see this empiraclly since for $n=5000$ elements, the time taken is $1.62$ seconds, while for $n=10000$ it is $6.2$ seconds.  Having increased the number of points by a factor of $2$, the time taken should go up by a factor of $4$, and sure enough $1.62\\times 4=6.48$, which is not so far off from $6.2$ as we should expect.  "
   ]
  },
  {
   "cell_type": "markdown",
   "metadata": {},
   "source": [
    "<strong> Problem 2 </strong>: 6pts, 19.2.  Since we went over merge_sort in class, I will go ahead and include the code here.  That being said, please provide an explanation for why merge_sort is so much faster than sel_sort.  Your answer should include a discussion of the difference between $\\mathcal{O}(n^{2})$ and $\\mathcal{O}(n\\log_{2}(n))$ algorithms, and how the different choices of $n$ affect these estimates of worst case scenarios for operation counts.   "
   ]
  },
  {
   "cell_type": "code",
   "execution_count": 19,
   "metadata": {
    "collapsed": true
   },
   "outputs": [],
   "source": [
    "def merge_list(Alist,Blist):\n",
    "    Clist = []\n",
    "    while len(Alist)>0 and len(Blist)>0: # Run so long as neither list is empty.\n",
    "        if Alist[0]<=Blist[0]: # Compare beginning of lists to each other.  \n",
    "            nval = Alist.pop(0) # Pop removes an entry and returns it.  \n",
    "        else:\n",
    "            nval = Blist.pop(0)\n",
    "        Clist.append(nval)\n",
    "    if len(Alist)==0: # Decide which list is empty.\n",
    "        Clist.extend(Blist)\n",
    "    else:\n",
    "        Clist.extend(Alist)\n",
    "    return Clist"
   ]
  },
  {
   "cell_type": "code",
   "execution_count": 20,
   "metadata": {
    "collapsed": true
   },
   "outputs": [],
   "source": [
    "def merge_sort(vals):\n",
    "    nvals = len(vals)\n",
    "    if nvals==1:\n",
    "        return vals        \n",
    "    else:\n",
    "        nhalf = int(floor(nvals/2)) \n",
    "        return merge_list(merge_sort(vals[0:nhalf]),merge_sort(vals[nhalf:]))        "
   ]
  },
  {
   "cell_type": "markdown",
   "metadata": {},
   "source": [
    "*Answer to Problem 2*: Below, we present the timing results for `merge_sort()`."
   ]
  },
  {
   "cell_type": "code",
   "execution_count": 21,
   "metadata": {
    "collapsed": false
   },
   "outputs": [
    {
     "name": "stdout",
     "output_type": "stream",
     "text": [
      "0.00399994850159\n"
     ]
    }
   ],
   "source": [
    "tstart = time()\n",
    "merge_sort(random.sample(range(50000),10)) # You need to decide how many points to put in your list\n",
    "tend = time()\n",
    "ctime = tend-tstart\n",
    "print ctime"
   ]
  },
  {
   "cell_type": "code",
   "execution_count": 22,
   "metadata": {
    "collapsed": false
   },
   "outputs": [
    {
     "name": "stdout",
     "output_type": "stream",
     "text": [
      "0.00399994850159\n"
     ]
    }
   ],
   "source": [
    "tstart = time()\n",
    "merge_sort(random.sample(range(50000),50)) # You need to decide how many points to put in your list\n",
    "tend = time()\n",
    "ctime = tend-tstart\n",
    "print ctime"
   ]
  },
  {
   "cell_type": "code",
   "execution_count": 23,
   "metadata": {
    "collapsed": false
   },
   "outputs": [
    {
     "name": "stdout",
     "output_type": "stream",
     "text": [
      "0.00400018692017\n"
     ]
    }
   ],
   "source": [
    "tstart = time()\n",
    "merge_sort(random.sample(range(50000),100)) # You need to decide how many points to put in your list\n",
    "tend = time()\n",
    "ctime = tend-tstart\n",
    "print ctime"
   ]
  },
  {
   "cell_type": "code",
   "execution_count": 24,
   "metadata": {
    "collapsed": false
   },
   "outputs": [
    {
     "name": "stdout",
     "output_type": "stream",
     "text": [
      "0.00399994850159\n"
     ]
    }
   ],
   "source": [
    "tstart = time()\n",
    "merge_sort(random.sample(range(50000),500)) # You need to decide how many points to put in your list\n",
    "tend = time()\n",
    "ctime = tend-tstart\n",
    "print ctime"
   ]
  },
  {
   "cell_type": "code",
   "execution_count": 26,
   "metadata": {
    "collapsed": false
   },
   "outputs": [
    {
     "name": "stdout",
     "output_type": "stream",
     "text": [
      "0.00799989700317\n"
     ]
    }
   ],
   "source": [
    "tstart = time()\n",
    "merge_sort(random.sample(range(50000),1000)) # You need to decide how many points to put in your list\n",
    "tend = time()\n",
    "ctime = tend-tstart\n",
    "print ctime"
   ]
  },
  {
   "cell_type": "code",
   "execution_count": 27,
   "metadata": {
    "collapsed": false
   },
   "outputs": [
    {
     "name": "stdout",
     "output_type": "stream",
     "text": [
      "0.0659999847412\n"
     ]
    }
   ],
   "source": [
    "tstart = time()\n",
    "merge_sort(random.sample(range(50000),5000)) # You need to decide how many points to put in your list\n",
    "tend = time()\n",
    "ctime = tend-tstart\n",
    "print ctime"
   ]
  },
  {
   "cell_type": "code",
   "execution_count": 28,
   "metadata": {
    "collapsed": false
   },
   "outputs": [
    {
     "name": "stdout",
     "output_type": "stream",
     "text": [
      "0.199000120163\n"
     ]
    }
   ],
   "source": [
    "tstart = time()\n",
    "merge_sort(random.sample(range(50000),10000)) # You need to decide how many points to put in your list\n",
    "tend = time()\n",
    "ctime = tend-tstart\n",
    "print ctime"
   ]
  },
  {
   "cell_type": "code",
   "execution_count": 29,
   "metadata": {
    "collapsed": false
   },
   "outputs": [
    {
     "name": "stdout",
     "output_type": "stream",
     "text": [
      "1.22100019455\n"
     ]
    }
   ],
   "source": [
    "tstart = time()\n",
    "merge_sort(random.sample(range(50000),50000)) # You need to decide how many points to put in your list\n",
    "tend = time()\n",
    "ctime = tend-tstart\n",
    "print ctime"
   ]
  },
  {
   "cell_type": "markdown",
   "metadata": {},
   "source": [
    "So, as you can see, there is just no comparison really in terms of performance, and `merge_sort()`, because it is an $\\mathcal{O}(n\\log_{2}n)$ method.  So for example, in going from $n=10^{4}$ to $n=5\\times10^{4}$ elements, we expect to take\n",
    "\n",
    "\\begin{align*}\n",
    "\\frac{5\\times10^{4}\\log_{2}(5\\times 10^{4})}{4\\times10^{4}\\log_{2}10} = 5 + \\frac{5\\log_{2}5}{4\\log_{2}10} \\approx 5.8737\n",
    "\\end{align*}\n",
    "\n",
    "as long.  And we see that $.2\\times5.8737 = 1.17$, which is very close to what we see above.  A similar comparison using `sel_sort()` says we should take up to $25$ times as long in going from $n=10^{4}$ to $n=5\\times 10^{4}$ elements.  So the advantage here is clear. "
   ]
  },
  {
   "cell_type": "markdown",
   "metadata": {},
   "source": [
    "<strong> Problem 3 </strong>: 6pts, 25.4.  To do this, I would use the following skeleton code.  Note the tricky call\n",
    "\n",
    "`rlen(vals[1:])`\n",
    "\n",
    "What is the point of this?  Well, every time you call yourself, it means you will pass every entry of `vals` except for the first one.  Thus, in effect, everytime you call rlen from within, you cut off the first entry of `vals`, thus decreasing the length by one on each recursive call.  An explicit example would be if I had\n",
    "\n",
    "`vals = [1,4,7,3]`\n",
    "\n",
    "then \n",
    "\n",
    "`vals[1:] = [4,7,3]`\n",
    "\n",
    "so if I start with \n",
    "\n",
    "`rlen(vals) = rlen([1,4,7,3])`\n",
    "\n",
    "at the recursive function call, I will have \n",
    "\n",
    "`return rlen(vals[1:]) = return rlen([4,7,3])`\n",
    "\n",
    "No `pop` or `del` necessary.  Neat huh!"
   ]
  },
  {
   "cell_type": "markdown",
   "metadata": {},
   "source": [
    "*Answer to Problem 3*: So, we just need to keep updating by $1$ until nothing is left, whereupon, we return 0."
   ]
  },
  {
   "cell_type": "code",
   "execution_count": 31,
   "metadata": {
    "collapsed": false
   },
   "outputs": [],
   "source": [
    "def rlen(vals):\n",
    "    if vals == []:   \n",
    "        return 0\n",
    "    else:\n",
    "        return 1 + rlen(vals[1:]) "
   ]
  },
  {
   "cell_type": "code",
   "execution_count": 32,
   "metadata": {
    "collapsed": false
   },
   "outputs": [
    {
     "data": {
      "text/plain": [
       "4"
      ]
     },
     "execution_count": 32,
     "metadata": {},
     "output_type": "execute_result"
    }
   ],
   "source": [
    "rlen([1,2,3,4]) # Test to see if your function works."
   ]
  },
  {
   "cell_type": "markdown",
   "metadata": {},
   "source": [
    "<strong> Problem 4 </strong>: 6pts, 25.5.  To do this, I would use the following skeleton code.  Note, I like having two functions here, a master calling function, `rmax`, and then one that does the recursion, `rstep`.  Use the trick from <strong> Problem 3 </strong> above.  "
   ]
  },
  {
   "cell_type": "markdown",
   "metadata": {},
   "source": [
    "*Answer to Problem 4*: Basically, this comes down to comparing the first element of a list against the existing choice for the maximum value, which we call `mval`.  Then we keep cutting and comparing until we run out of list.  "
   ]
  },
  {
   "cell_type": "code",
   "execution_count": 39,
   "metadata": {
    "collapsed": true
   },
   "outputs": [],
   "source": [
    "def rstep(vals,mval):\n",
    "    if vals==[]:\n",
    "        return mval\n",
    "    else:\n",
    "        if vals[0]>mval: # You should make a comparison here\n",
    "            mval = vals[0]\n",
    "            return rstep(vals[1:],mval)\n",
    "        else:\n",
    "            return rstep(vals[1:],mval)\n",
    "def rmax(vals):\n",
    "    mval = vals[0]\n",
    "    return rstep(vals[1:],mval)    "
   ]
  },
  {
   "cell_type": "code",
   "execution_count": 40,
   "metadata": {
    "collapsed": false
   },
   "outputs": [
    {
     "data": {
      "text/plain": [
       "39"
      ]
     },
     "execution_count": 40,
     "metadata": {},
     "output_type": "execute_result"
    }
   ],
   "source": [
    "rmax([1,3,2,7,12,2,39,4]) # Test to see if your function works. "
   ]
  },
  {
   "cell_type": "markdown",
   "metadata": {},
   "source": [
    "<strong> Problem 5 </strong>: 6pts, 25.1.  Okay, I'm not sure what the author is going for on this one.  To do this in the most recursive way possible though is not completely obvious, at least to me.  But here goes.  First, let's compute up to the $n+1$ term of the Maclaurin series of $\\cos(x)$ so that \n",
    "\n",
    "$$\n",
    "\\cos(x) \\approx 1 - \\frac{x^{2}}{2!} + \\frac{x^{4}}{4!} + \\cdots + (-1)^{n}\\frac{x^{2n}}{(2n)!}\n",
    "$$\n",
    "\n",
    "Using what is called *Horner's Method*, we can use our recursive thinking to write the series as \n",
    "\n",
    "$$\n",
    "\\cos(x) \\approx 1 - \\frac{x^{2}}{2!} + \\frac{x^{4}}{4!} + \\cdots + (-1)^{n-1}\\frac{x^{2(n-1)}}{(2(n-1))!}\\left(1 - \\frac{x^{2}}{2n(2n-1)} \\right)\n",
    "$$\n",
    "\n",
    "See what I did there?  Using the recursive trick for each term we have discussed in class before, I factor the last two terms in the series as shown above.  I can keep doing this so that I get \n",
    "\n",
    "$$\n",
    "\\cos(x) = 1 - \\frac{x^{2}}{2!} + \\frac{x^{4}}{4!} + \\cdots + (-1)^{n-2}\\frac{x^{2(n-2)}}{(2(n-2))!}\\left(1 - \\frac{x^{2}}{(2n-2)(2n-3)}\\left(1 - \\frac{x^{2}}{2n(2n-1)} \\right) \\right)\n",
    "$$\n",
    "\n",
    "\n",
    "So to think about this recursively, I define a function, say $c_{0}(x)$, and set   \n",
    "\n",
    "$$\n",
    "c_{0}(x) = 1.\n",
    "$$\n",
    "\n",
    "To proceed, I define the next function $c_{1}(x)$ so that \n",
    "\n",
    "$$\n",
    "c_{1}(x) = 1 - \\frac{x^{2}}{(2n)(2n-1)} c_{0}(x) = 1 - \\frac{x^{2}}{(2n)(2n-1)},\n",
    "$$\n",
    "\n",
    "since $c_{0}(x)=1$.  This motivates the general formula \n",
    "\n",
    "$$\n",
    "c_{j}(x) = 1 - \\frac{x^{2}}{(2(n-(j-1)))(2(n-(j-1))-1)}c_{j-1}(x), ~ j\\geq 1.\n",
    "$$\n",
    "\n",
    "so that we have \n",
    "\n",
    "$$\n",
    "\\cos(x) \\approx c_{n}(x)\n",
    "$$"
   ]
  },
  {
   "cell_type": "markdown",
   "metadata": {},
   "source": [
    "*Answer to Problem 5*: So, once we follow our rough 'rule' for recursion using the formula above, we just kind of fill in the blanks as in the following code."
   ]
  },
  {
   "cell_type": "code",
   "execution_count": 52,
   "metadata": {
    "collapsed": true
   },
   "outputs": [],
   "source": [
    "from math import sqrt, pi"
   ]
  },
  {
   "cell_type": "code",
   "execution_count": 56,
   "metadata": {
    "collapsed": true
   },
   "outputs": [],
   "source": [
    "def rcos(jj,x,nval): \n",
    "    if jj==0:\n",
    "        return 1. \n",
    "    else:\n",
    "        return 1. - x**2/( (2.*(nval-(jj-1)))*(2.*(nval-(jj-1))-1) )*rcos(jj-1,x,nval)"
   ]
  },
  {
   "cell_type": "markdown",
   "metadata": {},
   "source": [
    "Taking our expansion out to $n=10$, we get "
   ]
  },
  {
   "cell_type": "code",
   "execution_count": 57,
   "metadata": {
    "collapsed": false
   },
   "outputs": [
    {
     "data": {
      "text/plain": [
       "0.7071067811865476"
      ]
     },
     "execution_count": 57,
     "metadata": {},
     "output_type": "execute_result"
    }
   ],
   "source": [
    "rcos(10,pi/4.,10) # Test your function.  You should be able to get something very close to 1/sqrt(2)"
   ]
  },
  {
   "cell_type": "markdown",
   "metadata": {},
   "source": [
    "And sure enough, we are about dead on with the fact that \n",
    "\n",
    "$$\n",
    "\\cos\\left(\\frac{\\pi}{4}\\right) = \\frac{1}{\\sqrt{2}}.\n",
    "$$\n",
    "\n",
    "since"
   ]
  },
  {
   "cell_type": "code",
   "execution_count": 58,
   "metadata": {
    "collapsed": false
   },
   "outputs": [
    {
     "name": "stdout",
     "output_type": "stream",
     "text": [
      "0.707106781187\n"
     ]
    }
   ],
   "source": [
    "print 1./sqrt(2.)"
   ]
  },
  {
   "cell_type": "code",
   "execution_count": null,
   "metadata": {
    "collapsed": true
   },
   "outputs": [],
   "source": []
  }
 ],
 "metadata": {
  "kernelspec": {
   "display_name": "Python 2",
   "language": "python",
   "name": "python2"
  },
  "language_info": {
   "codemirror_mode": {
    "name": "ipython",
    "version": 2
   },
   "file_extension": ".py",
   "mimetype": "text/x-python",
   "name": "python",
   "nbconvert_exporter": "python",
   "pygments_lexer": "ipython2",
   "version": "2.7.11"
  }
 },
 "nbformat": 4,
 "nbformat_minor": 0
}
