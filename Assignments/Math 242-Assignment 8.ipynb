{
 "cells": [
  {
   "cell_type": "markdown",
   "metadata": {},
   "source": [
    "<strong> Problem 1 </strong>: 3pts for each part.  20.1"
   ]
  },
  {
   "cell_type": "markdown",
   "metadata": {},
   "source": [
    "<strong> Problem 2 </strong>: 5pts. 20.2"
   ]
  },
  {
   "cell_type": "markdown",
   "metadata": {},
   "source": [
    "<strong> Problem 3 </strong>: 5pts. 20.3 (see 20.2 for a bit of help and reference.)  Test your code on the function \n",
    "\n",
    "$$\n",
    "f(x) = x^{3} - x^2 + 3x + 2\n",
    "$$\n",
    "\n",
    "on the interval $[4,12]$."
   ]
  },
  {
   "cell_type": "markdown",
   "metadata": {},
   "source": [
    "<strong> Problem 4 </strong>: 5pts. 26.3.  Test your function on the list \n",
    "\n",
    "`y = [13,23,22,34,2,4,1293,1200,45,62]`"
   ]
  },
  {
   "cell_type": "markdown",
   "metadata": {},
   "source": [
    "<strong> Problem 5 </strong>: 7pts.  Using the code provided in Lecture-Chapter 18, redesign the helper functions `make_upper()` and `letter_cnt()` using lambda functions and dictionaries respectively.  Reproduce the results of the letter frequency analysis for 'beyonce.txt' and 'juliet.txt' by providing frequency plots for each text file.  "
   ]
  },
  {
   "cell_type": "code",
   "execution_count": null,
   "metadata": {
    "collapsed": true
   },
   "outputs": [],
   "source": []
  }
 ],
 "metadata": {
  "kernelspec": {
   "display_name": "Python 2",
   "language": "python",
   "name": "python2"
  },
  "language_info": {
   "codemirror_mode": {
    "name": "ipython",
    "version": 2
   },
   "file_extension": ".py",
   "mimetype": "text/x-python",
   "name": "python",
   "nbconvert_exporter": "python",
   "pygments_lexer": "ipython2",
   "version": "2.7.11"
  }
 },
 "nbformat": 4,
 "nbformat_minor": 0
}
