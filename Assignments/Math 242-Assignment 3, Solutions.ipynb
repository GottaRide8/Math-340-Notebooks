{
 "cells": [
  {
   "cell_type": "markdown",
   "metadata": {
    "collapsed": true
   },
   "source": [
    "<strong> Problem 1 </strong> Design a binary calculator.  By this I mean, write a function which takes in two integers which can only be $0$ or $1$.  Add them according to the following rules\n",
    "\n",
    "$$\n",
    "1 + 1 = 0, ~ 1 + 0 = 1, ~ 0 + 1 = 1, ~ 0 + 0 = 0\n",
    "$$\n",
    "\n",
    "Note, to do this, you will need to make use of the Python logical commands 'and' and 'or'.  Fill in the following code skeleton, and run the four necessary test cases to check that your function works correctly.  "
   ]
  },
  {
   "cell_type": "code",
   "execution_count": 2,
   "metadata": {
    "collapsed": false
   },
   "outputs": [],
   "source": [
    "def bin_add(x,y):\n",
    "    if (x==0 and y==0) or (x==1 and y==1):\n",
    "        return 0\n",
    "    elif (x==0 and y==1) or (x==1 and y==0):\n",
    "        return 1"
   ]
  },
  {
   "cell_type": "code",
   "execution_count": 3,
   "metadata": {
    "collapsed": false
   },
   "outputs": [
    {
     "name": "stdout",
     "output_type": "stream",
     "text": [
      "0\n"
     ]
    }
   ],
   "source": [
    "print bin_add(0,0)"
   ]
  },
  {
   "cell_type": "code",
   "execution_count": 4,
   "metadata": {
    "collapsed": false
   },
   "outputs": [
    {
     "name": "stdout",
     "output_type": "stream",
     "text": [
      "0\n"
     ]
    }
   ],
   "source": [
    "print bin_add(1,1)"
   ]
  },
  {
   "cell_type": "code",
   "execution_count": 5,
   "metadata": {
    "collapsed": false
   },
   "outputs": [
    {
     "name": "stdout",
     "output_type": "stream",
     "text": [
      "1\n"
     ]
    }
   ],
   "source": [
    "print bin_add(1,0)"
   ]
  },
  {
   "cell_type": "code",
   "execution_count": 6,
   "metadata": {
    "collapsed": false
   },
   "outputs": [
    {
     "name": "stdout",
     "output_type": "stream",
     "text": [
      "1\n"
     ]
    }
   ],
   "source": [
    "print bin_add(0,1)"
   ]
  },
  {
   "cell_type": "markdown",
   "metadata": {},
   "source": [
    "<strong> Problem 2 </strong>:[10 pts]  From Wikipedia, we learn that \n",
    "\n",
    "''Every year that is exactly divisible by four is a leap year, except for years that are exactly divisible by 100, but these centurial years are leap years if they are exactly divisible by 400. For example, the years 1700, 1800, and 1900 are not leap years, but the years 1600 and 2000 are.''\n",
    "\n",
    "Given a year, write a function which determines how many days there are in February.  Fill in the following code skeleton below.  Produce several test cases which prove you have done this correctly.  Explain your reasoning. "
   ]
  },
  {
   "cell_type": "code",
   "execution_count": 7,
   "metadata": {
    "collapsed": true
   },
   "outputs": [],
   "source": [
    "# note, input 'year' is an integer\n",
    "def leap_year(year):\n",
    "    if year%4 == 0:\n",
    "        if year%100 != 0 or year%400 == 0:\n",
    "            return 29\n",
    "        else:\n",
    "            return 28\n",
    "    else:\n",
    "        return 28"
   ]
  },
  {
   "cell_type": "markdown",
   "metadata": {},
   "source": [
    "*Answer to Problem 2*"
   ]
  },
  {
   "cell_type": "markdown",
   "metadata": {},
   "source": [
    "Thankfully, Wikipedia gave us all the test cases we need.  First, let's check a year which is not divisible by 4."
   ]
  },
  {
   "cell_type": "code",
   "execution_count": 8,
   "metadata": {
    "collapsed": false
   },
   "outputs": [
    {
     "name": "stdout",
     "output_type": "stream",
     "text": [
      "28\n"
     ]
    }
   ],
   "source": [
    "print leap_year(1963)"
   ]
  },
  {
   "cell_type": "markdown",
   "metadata": {},
   "source": [
    "Okay, great, that worked.  Now let's check a year that should be divisble by 4, but doesn't fall on a century line.  "
   ]
  },
  {
   "cell_type": "code",
   "execution_count": 9,
   "metadata": {
    "collapsed": false
   },
   "outputs": [
    {
     "name": "stdout",
     "output_type": "stream",
     "text": [
      "29\n"
     ]
    }
   ],
   "source": [
    "print leap_year(1964)"
   ]
  },
  {
   "cell_type": "markdown",
   "metadata": {},
   "source": [
    "Great, now let's check a trickier case like $1700$."
   ]
  },
  {
   "cell_type": "code",
   "execution_count": 10,
   "metadata": {
    "collapsed": false
   },
   "outputs": [
    {
     "name": "stdout",
     "output_type": "stream",
     "text": [
      "28\n"
     ]
    }
   ],
   "source": [
    "print leap_year(1700)"
   ]
  },
  {
   "cell_type": "markdown",
   "metadata": {},
   "source": [
    "And now, just to make sure, we check $1600$"
   ]
  },
  {
   "cell_type": "code",
   "execution_count": 12,
   "metadata": {
    "collapsed": false
   },
   "outputs": [
    {
     "name": "stdout",
     "output_type": "stream",
     "text": [
      "29\n"
     ]
    }
   ],
   "source": [
    "print leap_year(1600)"
   ]
  },
  {
   "cell_type": "markdown",
   "metadata": {},
   "source": [
    "<strong> Problem 3 </strong>:[10 pts] Now write a function which determines, given the day, month, and year, what day of the given year it is.  For example, February 7th, 2012, is the 38th day of the year.  But March 1st, 2012, is the 61st day of the year while March 1st, 2011 is the 60th day of that year.  \n",
    "\n",
    "Note, you will want to write two functions, with one calling the other.  Modify the function from <strong>Problem 2</strong> and then write another function which calls that one.  Fill in the code skeleton below.  Afterwards, provide test cases and reasoning which explains why your method is correct.  "
   ]
  },
  {
   "cell_type": "markdown",
   "metadata": {},
   "source": [
    "*Answer to Problem 3*"
   ]
  },
  {
   "cell_type": "code",
   "execution_count": 22,
   "metadata": {
    "collapsed": false
   },
   "outputs": [],
   "source": [
    "# helper function for dealing with all this leap year madness\n",
    "def leap_count(day,nly_months,year):\n",
    "    if year%4 == 0:\n",
    "        if year%100 != 0 or year%400 == 0:\n",
    "            return day + nly_months + 29\n",
    "        else:\n",
    "            return day + nly_months + 28\n",
    "    else:\n",
    "        return day + nly_months + 28"
   ]
  },
  {
   "cell_type": "code",
   "execution_count": 23,
   "metadata": {
    "collapsed": true
   },
   "outputs": [],
   "source": [
    "def date_conv(month,day,year):\n",
    "    if month<3:\n",
    "        if month==1:\n",
    "            return day\n",
    "        elif month==2:\n",
    "            return day+31\n",
    "    else:\n",
    "        if month==3:\n",
    "            nly_days = 31\n",
    "        elif month==4:\n",
    "            nly_days = 2*31\n",
    "        elif month==5:\n",
    "            nly_days = 30 + 2*31\n",
    "        elif month==6:\n",
    "            nly_day = 30 + 3*31\n",
    "        elif month==7:\n",
    "            nly_days = 2*30 + 3*31\n",
    "        elif month==8:\n",
    "            nly_days = 2*30 + 4*31\n",
    "        elif month==9:\n",
    "            nly_days = 2*30 + 5*31\n",
    "        elif month==10:\n",
    "            nly_days = 3*30 + 5*31    \n",
    "        elif month==11:\n",
    "            nly_days = 3*30 + 6*31\n",
    "        else:\n",
    "            nly_days = 4*30 + 6*31 \n",
    "        return leap_count(day,nly_days,year)    "
   ]
  },
  {
   "cell_type": "markdown",
   "metadata": {},
   "source": [
    "<strong> Problem 4 </strong>:[10 pts] Now write a function which takes in two dates and returns the number of days between them.  Use the functions you developed above to help.  Start with the following code skeleton, and use the conventions for date formats explained therein.  "
   ]
  },
  {
   "cell_type": "markdown",
   "metadata": {},
   "source": [
    "*Answer to Problem 4*"
   ]
  },
  {
   "cell_type": "code",
   "execution_count": 24,
   "metadata": {
    "collapsed": true
   },
   "outputs": [],
   "source": [
    "# note, input 'year' is an integer\n",
    "def leap_test(year):\n",
    "    if year%4 == 0:\n",
    "        if year%100 != 0 or year%400 == 0:\n",
    "            return True\n",
    "        else:\n",
    "            return False\n",
    "    else:\n",
    "        return False"
   ]
  },
  {
   "cell_type": "code",
   "execution_count": 25,
   "metadata": {
    "collapsed": true
   },
   "outputs": [],
   "source": [
    "# Format for dates should be strings of the form mo/day/year = ##/##/####, So January 22, 1958 should be input as ''01/22/1958''.  \n",
    "def date_dif(date1,date2):\n",
    "    month1 = int(date1[0:2])\n",
    "    day1 = int(date1[3:5])\n",
    "    year1 = int(date1[6:10])\n",
    "    \n",
    "    month2 = int(date2[0:2])\n",
    "    day2 = int(date2[3:5])\n",
    "    year2 = int(date2[6:10])\n",
    "    \n",
    "    # First find the current total day within the given year \n",
    "    \n",
    "    tot_day1 = date_conv(month1,day1,year1)\n",
    "    tot_day2 = date_conv(month2,day2,year2)\n",
    "    \n",
    "    # Figure out which is the later year and thus later date.  If year's are equal, then return difference of days. \n",
    "    \n",
    "    if(year1==year2):\n",
    "        \n",
    "        return abs(tot_day1-tot_day2)\n",
    "    \n",
    "    else:\n",
    "        \n",
    "        # Since years are not equal, figure out which one corresponds to the later date so as to make life easier.\n",
    "        \n",
    "        if(year1>year2):\n",
    "            lyear,eyear = year1,year2\n",
    "            lday,eday = tot_day1,tot_day2\n",
    "        else:\n",
    "            lyear,eyear = year2,year1\n",
    "            lday,eday = tot_day2,tot_day1\n",
    "        \n",
    "        # Now figure out the number of years in between.\n",
    "            \n",
    "        ybet = lyear-eyear-1\n",
    "        cnt = 1\n",
    "        dbty = 0\n",
    "        \n",
    "        while cnt<=ybet:\n",
    "            if leap_test(lyear+cnt):  # For those years in between, determine which are leap years and which are not.  \n",
    "                dbty += 366\n",
    "            else:\n",
    "                dbty += 365\n",
    "            cnt+=1\n",
    "        \n",
    "        if leap_test(eyear): # If earlier year is a leap year, then take that into account. \n",
    "            return 366 - eday + lday + dbty\n",
    "        else:\n",
    "            return 365 - eday + lday + dbty"
   ]
  },
  {
   "cell_type": "markdown",
   "metadata": {},
   "source": [
    "First, let's make sure what we would expect to happen actually happens.  So, let's try two non-leap years exactly a year apart."
   ]
  },
  {
   "cell_type": "code",
   "execution_count": 26,
   "metadata": {
    "collapsed": false
   },
   "outputs": [
    {
     "data": {
      "text/plain": [
       "365"
      ]
     },
     "execution_count": 26,
     "metadata": {},
     "output_type": "execute_result"
    }
   ],
   "source": [
    "date_dif(\"01/22/1901\",\"01/22/1902\")"
   ]
  },
  {
   "cell_type": "markdown",
   "metadata": {},
   "source": [
    "Yup, that works.  Now, let's cross a leap year."
   ]
  },
  {
   "cell_type": "code",
   "execution_count": 27,
   "metadata": {
    "collapsed": false
   },
   "outputs": [
    {
     "data": {
      "text/plain": [
       "366"
      ]
     },
     "execution_count": 27,
     "metadata": {},
     "output_type": "execute_result"
    }
   ],
   "source": [
    "date_dif(\"01/22/1904\",\"01/22/1905\")"
   ]
  },
  {
   "cell_type": "markdown",
   "metadata": {
    "collapsed": true
   },
   "source": [
    "But what if we measure later in the year "
   ]
  },
  {
   "cell_type": "code",
   "execution_count": 28,
   "metadata": {
    "collapsed": false
   },
   "outputs": [
    {
     "data": {
      "text/plain": [
       "365"
      ]
     },
     "execution_count": 28,
     "metadata": {},
     "output_type": "execute_result"
    }
   ],
   "source": [
    "date_dif(\"11/22/1904\",\"11/22/1905\")"
   ]
  },
  {
   "cell_type": "markdown",
   "metadata": {},
   "source": [
    "And that is correct.  Now, let's make sure a century works the way we think it should. "
   ]
  },
  {
   "cell_type": "code",
   "execution_count": 29,
   "metadata": {
    "collapsed": false
   },
   "outputs": [
    {
     "data": {
      "text/plain": [
       "365"
      ]
     },
     "execution_count": 29,
     "metadata": {},
     "output_type": "execute_result"
    }
   ],
   "source": [
    "date_dif(\"01/22/1900\",\"01/22/1901\")"
   ]
  },
  {
   "cell_type": "code",
   "execution_count": 31,
   "metadata": {
    "collapsed": false
   },
   "outputs": [
    {
     "data": {
      "text/plain": [
       "366"
      ]
     },
     "execution_count": 31,
     "metadata": {},
     "output_type": "execute_result"
    }
   ],
   "source": [
    "date_dif(\"01/22/1600\",\"01/22/1601\")"
   ]
  },
  {
   "cell_type": "markdown",
   "metadata": {},
   "source": [
    "And that about settles the matter. "
   ]
  },
  {
   "cell_type": "markdown",
   "metadata": {},
   "source": [
    "<strong> Problem 5 </strong>: Problem 4 from Chapter 12 of the book.  3pts for each part.  Make a function for each and provide a test case.  I'll do the first one to get you started.  "
   ]
  },
  {
   "cell_type": "markdown",
   "metadata": {},
   "source": [
    "*Answer to Problem 5*: Okay, admittedly, there really isn't a lot to say about this, so we'll keep it brief for once. "
   ]
  },
  {
   "cell_type": "code",
   "execution_count": 32,
   "metadata": {
    "collapsed": true
   },
   "outputs": [],
   "source": [
    "# Problem 4a from Chapter 12\n",
    "\n",
    "def sum_4a(n):\n",
    "    count = 1\n",
    "    tot = 0\n",
    "    while(count<=n):\n",
    "        tot += count\n",
    "        count += 1                \n",
    "    return tot"
   ]
  },
  {
   "cell_type": "code",
   "execution_count": 33,
   "metadata": {
    "collapsed": false
   },
   "outputs": [
    {
     "name": "stdout",
     "output_type": "stream",
     "text": [
      "15\n"
     ]
    }
   ],
   "source": [
    "print sum_4a(5)"
   ]
  },
  {
   "cell_type": "code",
   "execution_count": 34,
   "metadata": {
    "collapsed": true
   },
   "outputs": [],
   "source": [
    "# Problem 4b from Chapter 12\n",
    "\n",
    "def sum_4b(n):\n",
    "    count = 1\n",
    "    tot = 0\n",
    "    while(count<=n):\n",
    "        tot += count**2\n",
    "        count += 1                \n",
    "    return tot"
   ]
  },
  {
   "cell_type": "code",
   "execution_count": 35,
   "metadata": {
    "collapsed": false
   },
   "outputs": [
    {
     "name": "stdout",
     "output_type": "stream",
     "text": [
      "55\n"
     ]
    }
   ],
   "source": [
    "print sum_4b(5)"
   ]
  },
  {
   "cell_type": "code",
   "execution_count": 36,
   "metadata": {
    "collapsed": true
   },
   "outputs": [],
   "source": [
    "# Problem 4c from Chapter 12\n",
    "\n",
    "def sum_4c(n):\n",
    "    count = 1\n",
    "    tot = 0\n",
    "    while(count<=n):\n",
    "        tot += count**3\n",
    "        count += 1                \n",
    "    return tot"
   ]
  },
  {
   "cell_type": "code",
   "execution_count": 37,
   "metadata": {
    "collapsed": false
   },
   "outputs": [
    {
     "name": "stdout",
     "output_type": "stream",
     "text": [
      "225\n"
     ]
    }
   ],
   "source": [
    "print sum_4c(5)"
   ]
  },
  {
   "cell_type": "code",
   "execution_count": 38,
   "metadata": {
    "collapsed": true
   },
   "outputs": [],
   "source": [
    "# Problem 4d from Chapter 12\n",
    "\n",
    "def sum_4d(n):\n",
    "    count = 1\n",
    "    tot = 0\n",
    "    while(count<=n):\n",
    "        tot += count*(count-1)\n",
    "        count += 1                \n",
    "    return tot"
   ]
  },
  {
   "cell_type": "code",
   "execution_count": 39,
   "metadata": {
    "collapsed": false
   },
   "outputs": [
    {
     "name": "stdout",
     "output_type": "stream",
     "text": [
      "40\n"
     ]
    }
   ],
   "source": [
    "print sum_4d(5)"
   ]
  },
  {
   "cell_type": "code",
   "execution_count": 40,
   "metadata": {
    "collapsed": true
   },
   "outputs": [],
   "source": [
    "# Problem 4e from Chapter 12\n",
    "\n",
    "def sum_4e(n):\n",
    "    count = 1\n",
    "    tot = 0\n",
    "    while(count<=n):\n",
    "        tot += (count-1)/2\n",
    "        count += 1                \n",
    "    return tot"
   ]
  },
  {
   "cell_type": "code",
   "execution_count": 41,
   "metadata": {
    "collapsed": false
   },
   "outputs": [
    {
     "name": "stdout",
     "output_type": "stream",
     "text": [
      "4\n"
     ]
    }
   ],
   "source": [
    "print sum_4e(5)"
   ]
  },
  {
   "cell_type": "code",
   "execution_count": 47,
   "metadata": {
    "collapsed": true
   },
   "outputs": [],
   "source": [
    "# Problem 4f from Chapter 12\n",
    "from numpy import pi as Pi\n",
    "def sum_4f(n):\n",
    "    oovpi = Pi**(-1)\n",
    "    count = 1\n",
    "    term = 1\n",
    "    tot = 0\n",
    "    while(count<=n):\n",
    "        term *= oovpi/count\n",
    "        tot += term        \n",
    "        count += 1                   \n",
    "    return tot"
   ]
  },
  {
   "cell_type": "code",
   "execution_count": 48,
   "metadata": {
    "collapsed": false
   },
   "outputs": [
    {
     "name": "stdout",
     "output_type": "stream",
     "text": [
      "0.374800714368\n"
     ]
    }
   ],
   "source": [
    "print sum_4f(5)"
   ]
  }
 ],
 "metadata": {
  "anaconda-cloud": {},
  "kernelspec": {
   "display_name": "Python [Root]",
   "language": "python",
   "name": "Python [Root]"
  },
  "language_info": {
   "codemirror_mode": {
    "name": "ipython",
    "version": 2
   },
   "file_extension": ".py",
   "mimetype": "text/x-python",
   "name": "python",
   "nbconvert_exporter": "python",
   "pygments_lexer": "ipython2",
   "version": "2.7.12"
  }
 },
 "nbformat": 4,
 "nbformat_minor": 0
}
