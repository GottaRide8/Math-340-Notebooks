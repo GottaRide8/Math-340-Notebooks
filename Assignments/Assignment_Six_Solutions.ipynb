{
 "cells": [
  {
   "cell_type": "code",
   "execution_count": 2,
   "metadata": {},
   "outputs": [],
   "source": [
    "import numpy as np\n",
    "import matplotlib.pyplot as plt\n",
    "from time import time\n",
    "%matplotlib inline"
   ]
  },
  {
   "cell_type": "code",
   "execution_count": 3,
   "metadata": {},
   "outputs": [],
   "source": [
    "def trl_dvsn(n):\n",
    "    \n",
    "    isprime = True\n",
    "    cnt = 2\n",
    "    \n",
    "    while isprime and cnt < n:\n",
    "        if n%cnt == 0:\n",
    "            isprime = False\n",
    "        else:\n",
    "            cnt += 1\n",
    "    \n",
    "    return isprime"
   ]
  },
  {
   "cell_type": "markdown",
   "metadata": {},
   "source": [
    "**Problem 1** (3pts for each part): As we covered in class, for a given natural number $n\\in \\mathbb{N}$, we say it is prime if its only divisors are $1$ and itself.  Otherwise, we say the number is composite.  Likewise, we have the _Fundamental Theorem of Arithmetic_, which says that for any $n\\in\\mathbb{N}$, $n$ has a prime factorization so that \n",
    "$$\n",
    "n = p_{1}^{k_{1}}\\cdots p_{j}^{k_{j}}, ~ k_{j}\\in \\mathbb{N}\n",
    "$$\n",
    "where each $p_{l}$ is prime and the decomposition is unique modulo rearranging the order of the terms.  Show\n",
    "\n",
    "* If $n$ is composite, show there is a prime factor $p_{j}$ such that $p_{j}\\leq\\sqrt{n}$.\n",
    "* If $n>6$ and $n$ is prime, show that there is some $k\\in\\mathbb{N}$ such that $n=6k+1$ or $n=6k+5$."
   ]
  },
  {
   "cell_type": "markdown",
   "metadata": {},
   "source": [
    "_Answer for Problem 1_: For the first part, for given composite $n\\in \\mathbb{N}$ let \n",
    "\n",
    "$$\n",
    "\\tilde{p} = \\min_{l} p_{l}, \n",
    "$$\n",
    "\n",
    "where $p_{l}$ is a prime factor of $n$, so that $\\tilde{p}$ is the smallest prime factor of $n$.  Given that the $k_{j}\\geq 1$, we then see that \n",
    "\n",
    "$$\n",
    "n \\geq \\tilde{p}^{2},\n",
    "$$\n",
    "\n",
    "and thus if $n$ is composite it must have at least one prime factor such that $p\\leq \\sqrt{n}$.  As for the second part, we note that among the values\n",
    "\n",
    "$$\n",
    "6k, 6k+1, 6k+2, 6k+3, 6k+4, 6k+5,\n",
    "$$\n",
    "\n",
    "only $6k+1$ and $6k+5$ cannot be factored.  Thus if a number is prime and larger than 6, it must be either of the form $6k+1$ or $6k+5$."
   ]
  },
  {
   "cell_type": "markdown",
   "metadata": {
    "collapsed": true
   },
   "source": [
    "**Problem 2** (10pts): Using the code provided below and the results from Problem 1, \n",
    "\n",
    "* Implement a better test of whether a number is prime than the simple trial division algorithm provided above at the beginning of the notebook. Briefly explain the `if n>=49 and n<121` and `elif n>=121` checks as well.  (4pts)  \n",
    "\n",
    "* Develop several test cases using both the simple algorithm and your new one to make sure your new algorithm is correct.  (3pts)\n",
    "\n",
    "* For $2\\leq n \\leq 10^{5}$, compare the difference in times between your new algorithm and the simple one.  Make a semilog plot of the time differences.  Describe any trends you see from your plot.  (3pts)"
   ]
  },
  {
   "cell_type": "code",
   "execution_count": 4,
   "metadata": {},
   "outputs": [],
   "source": [
    "def bttr_trl_dvsn(n):\n",
    "    \n",
    "    isprime = True\n",
    "    nsq = np.sqrt(n)\n",
    "    \n",
    "    if n%2 == 0 or n%3 == 0 or n%5 == 0:\n",
    "        if n!=2 and n!=3 and n!=5:\n",
    "            isprime = False\n",
    "    else:\n",
    "        \n",
    "        kmax = 0\n",
    "        if n>=49 and n<121:\n",
    "            kmax = int(np.floor((nsq-1.)/6.))\n",
    "        elif n>=121:\n",
    "            kmax = int(np.floor((nsq-5.)/6.))\n",
    "        \n",
    "        if kmax > 0:\n",
    "            for kk in range(0,kmax):\n",
    "                tstnmbr = 6*(kk+1)+1\n",
    "                if n%tstnmbr == 0:\n",
    "                    isprime = False \n",
    "                    break\n",
    "                else:\n",
    "                    tstnmbr += 4\n",
    "                    if tstnmbr <= nsq:\n",
    "                        if n%tstnmbr == 0:\n",
    "                            isprime = False\n",
    "                            break\n",
    "    \n",
    "    return isprime"
   ]
  },
  {
   "cell_type": "markdown",
   "metadata": {},
   "source": [
    "We look at a handful of test cases in order to make sure our code is doing the right thing."
   ]
  },
  {
   "cell_type": "code",
   "execution_count": 16,
   "metadata": {},
   "outputs": [
    {
     "name": "stdout",
     "output_type": "stream",
     "text": [
      "True\n",
      "True\n",
      "\n",
      "True\n",
      "True\n",
      "\n",
      "True\n",
      "True\n",
      "\n",
      "True\n",
      "True\n",
      "\n",
      "False\n",
      "False\n",
      "\n",
      "False\n",
      "False\n",
      "\n",
      "False\n",
      "False\n"
     ]
    }
   ],
   "source": [
    "# Obvious primes\n",
    "print(trl_dvsn(7))\n",
    "print(bttr_trl_dvsn(7))\n",
    "print()\n",
    "\n",
    "print(trl_dvsn(11))\n",
    "print(bttr_trl_dvsn(11))\n",
    "print()\n",
    "\n",
    "print(trl_dvsn(13))\n",
    "print(bttr_trl_dvsn(13))\n",
    "print()\n",
    "\n",
    "# Another prime\n",
    "print(trl_dvsn(307))\n",
    "print(bttr_trl_dvsn(307))\n",
    "print()\n",
    "\n",
    "# 11^3\n",
    "print(trl_dvsn(1331))\n",
    "print(bttr_trl_dvsn(1331))\n",
    "print()\n",
    "\n",
    "# 39^2\n",
    "print(trl_dvsn(1521))\n",
    "print(bttr_trl_dvsn(1521))\n",
    "print()\n",
    "\n",
    "# 73^4\n",
    "print(trl_dvsn(28398241))\n",
    "print(bttr_trl_dvsn(28398241))"
   ]
  },
  {
   "cell_type": "markdown",
   "metadata": {},
   "source": [
    "As we can see, by looking at a range of different values, we get the same results for both codes, so we have some confindence that we have done things correctly.   "
   ]
  },
  {
   "cell_type": "code",
   "execution_count": 9,
   "metadata": {},
   "outputs": [
    {
     "data": {
      "text/plain": [
       "<matplotlib.legend.Legend at 0x8681fd0>"
      ]
     },
     "execution_count": 9,
     "metadata": {},
     "output_type": "execute_result"
    },
    {
     "data": {
      "image/png": "[encoded data removed]",
      "text/plain": [
       "<Figure size 432x288 with 1 Axes>"
      ]
     },
     "metadata": {
      "needs_background": "light"
     },
     "output_type": "display_data"
    }
   ],
   "source": [
    "# Timing code skeleton\n",
    "nmax = int(1e5) # This will take a second to run. \n",
    "nvals = np.arange(2,nmax+1)\n",
    "nlen = nvals.size\n",
    "timesstd = np.zeros(nlen)\n",
    "timesbtr = np.zeros(nlen)\n",
    "\n",
    "for jj in range(nlen):\n",
    "    start = time()\n",
    "    flag = trl_dvsn(nvals[jj])\n",
    "    end = time()\n",
    "    timesstd[jj] = end-start\n",
    "    \n",
    "    start = time()\n",
    "    flag = bttr_trl_dvsn(nvals[jj])\n",
    "    end = time()\n",
    "    timesbtr[jj] = end-start\n",
    "    \n",
    "plt.scatter(nvals,np.ma.log10(timesstd),color='k',label=\"Basic Trial Division\")\n",
    "plt.scatter(nvals,np.ma.log10(timesbtr),color='r',label=\"Advanced Trial Division\")\n",
    "plt.xlabel('$n$')\n",
    "plt.ylabel('$log_{10}(Times)$')\n",
    "plt.legend(loc=(.05,.8))"
   ]
  },
  {
   "cell_type": "markdown",
   "metadata": {},
   "source": [
    "As we see from the plot, the more advanced version of trial division we developed is markedly faster than the relatively obvious version we first developed.  The more advanced version remains relatively flat in terms of the time taken to run even up to $n=10^{5}$, while the basic trial division algorithm becomes almost a 100 times slower by the time $n=10^{5}$.  Clearly we would not want to continue with the basic version.  "
   ]
  },
  {
   "cell_type": "code",
   "execution_count": null,
   "metadata": {},
   "outputs": [],
   "source": []
  }
 ],
 "metadata": {
  "kernelspec": {
   "display_name": "Python 3",
   "language": "python",
   "name": "python3"
  },
  "language_info": {
   "codemirror_mode": {
    "name": "ipython",
    "version": 3
   },
   "file_extension": ".py",
   "mimetype": "text/x-python",
   "name": "python",
   "nbconvert_exporter": "python",
   "pygments_lexer": "ipython3",
   "version": "3.7.1"
  }
 },
 "nbformat": 4,
 "nbformat_minor": 2
}
