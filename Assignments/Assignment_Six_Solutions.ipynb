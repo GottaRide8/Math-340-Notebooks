{
 "cells": [
  {
   "cell_type": "code",
   "execution_count": 2,
   "metadata": {},
   "outputs": [],
   "source": [
    "import numpy as np\n",
    "import matplotlib.pyplot as plt\n",
    "import scipy.integrate as spqd\n",
    "%matplotlib inline"
   ]
  },
  {
   "cell_type": "markdown",
   "metadata": {},
   "source": [
    "** Problem 1 **: (2pts for each part) When we write \n",
    "    \n",
    "` \n",
    "xvals = np.linspace(a,b,int(n)+1)\n",
    "`\n",
    "\n",
    "we are generating a sequence of points $x_{j}$ such that \n",
    "\n",
    "$$\n",
    "\\mbox{xvals[j]} = x_{j}, ~ x_{j} = a + j\\delta x, ~ \\delta x = \\frac{b-a}{n}, ~ j=0,\\cdots,n.\n",
    "$$\n",
    "\n",
    "Thus, if I wanted to generate a sequence of points between $a=1$ and $b=9$ with spacing $\\delta x=.25$, then I would find \n",
    "\n",
    "$$\n",
    ".25 = \\frac{9-1}{n}\n",
    "$$\n",
    "\n",
    "so that $n = 32$.  I could then generate these points via the code\n",
    "\n",
    "`\n",
    "xvals = np.linspace(1.,9.,32 + 1)\n",
    "`\n",
    "\n",
    "Using the model, write the code which will generate\n",
    "\n",
    "1a) A sequence of points between $a=0$ and $b=10$ with spacing $\\delta x = 10^{-3}$.\n",
    "\n",
    "1b) A sequence of points between $a=2$ and $b=18$ with spacing $\\delta x = 2^{-m}$, where $m$ is a positive integer that a user would specify.  \n",
    "\n",
    "1c) From problem 1a, using array slicing, what code would I write to find the points $x_{j}$ such that $1\\leq x_{j} \\leq 9$?  Your answer should be in the form `xvals[n1:n2]` where `n1` and `n2` are two integers you must find.  \n",
    "\n",
    "1d) From problem 1b, using array slicing, what code would I write to find the points $x_{j}$ such that $6\\leq x_{j} \\leq 10$?  Your answer should be in the form `xvals[n1:n2]` where `n1` and `n2` are two integers you must find, though they will be in terms of $m$.    \n"
   ]
  },
  {
   "cell_type": "markdown",
   "metadata": {},
   "source": [
    "_Answers to Problem 1_"
   ]
  },
  {
   "cell_type": "markdown",
   "metadata": {},
   "source": [
    "So, for 1a) if $\\delta x = 10^{-3}$, then \n",
    "$$\n",
    "n = \\frac{(10-0)}{\\delta x} = 10^{4}\n",
    "$$\n",
    "\n",
    "For 1b), if $\\delta x = 2^{-m}$, then\n",
    "$$\n",
    "n = \\frac{18-2}{2^{-m}} = 2^{4+m}\n",
    "$$\n",
    "\n",
    "For 1c)\n",
    "$$\n",
    "1 = j_{1}10^{-3}, ~ j_{1} = 1000, ~ 9 = j_{2}10^{-3}, ~ j_{2} = 9000.\n",
    "$$\n",
    "\n",
    "For 1d)\n",
    "$$\n",
    "6 = 2 + j_{1}2^{-m}, ~ j_{1} = 2^{2+m}, ~ 10 = 2 + j_{2}2^{-m}, ~ j_{2} = 2^{3+m}.\n",
    "$$\n",
    "\n",
    "See the code below for the equivalent statements in Python."
   ]
  },
  {
   "cell_type": "code",
   "execution_count": null,
   "metadata": {},
   "outputs": [],
   "source": [
    "#1a)\n",
    "xvals = np.linspace(0.,10.,int(1e4)+1)\n",
    "\n",
    "#1b)\n",
    "xvals = np.linsapce(2.,18.,int(2**(4+m))+1)\n",
    "\n",
    "#1c)\n",
    "xvals[1000:9001]\n",
    "\n",
    "#1d)\n",
    "xvals[int(2**(2+m)):int(2**(3+m))+1]"
   ]
  },
  {
   "cell_type": "markdown",
   "metadata": {},
   "source": [
    "** Problem 2 **: We can generalize the Fibonacci sequence so that we have the recurrence relationship\n",
    "\n",
    "$$\n",
    "p_{n} = p_{n-1} + ap_{n-2}, ~ a \\in \\mathbb{R}, ~ n\\geq 2,\n",
    "$$\n",
    "\n",
    "where we start the sequence $p_{n}$ with the initial conditions\n",
    "\n",
    "$$\n",
    "p_{0} = s_{0}, ~ p_{1} = s_{1}, ~ s_{j} \\in \\mathbb{R}.\n",
    "$$\n",
    "\n",
    "2a) (3pts) Using the guess $p_{n} = \\lambda^{n}$, show that you get two solutions for $\\lambda$, say $\\lambda_{\\pm}$, where\n",
    "\n",
    "$$\n",
    "\\lambda_{\\pm} = \\frac{1}{2}\\left(1\\pm\\sqrt{1+4a} \\right)\n",
    "$$\n",
    "\n",
    "2b) (3pts) Writing the general solution as \n",
    "\n",
    "$$\n",
    "p_{n} = c_{+}\\lambda_{+}^{n} + c_{-}\\lambda_{-}^{n}\n",
    "$$\n",
    "\n",
    "show that when we take our initial conditions into account, we find that the constants $c_{+}$ and $c_{-}$ are given by \n",
    "\n",
    "$$\n",
    "c_{+} = \\frac{s_{1}-s_{0}\\lambda_{-}}{\\lambda_{+}-\\lambda_{-}}, ~ c_{-} = \\frac{s_{0}\\lambda_{+}-s_{1}}{\\lambda_{+}-\\lambda_{-}}\n",
    "$$\n",
    "\n",
    "2c) (4pts) Let $a\\geq -\\frac{1}{4}$.  \n",
    "\n",
    "- Find the range of $a$ such that \n",
    "\n",
    "$$ \n",
    "|\\lambda_{+}|\\leq 1, ~|\\lambda_{-}| < 1\n",
    "$$\n",
    "    \n",
    "- Find the range of $a$ such that \n",
    "\n",
    "$$ \n",
    "|\\lambda_{+}|> 1, ~|\\lambda_{-}| \\leq 1\n",
    "$$\n",
    "\n",
    "- Find the range of $a$ such that \n",
    "\n",
    "$$ \n",
    "|\\lambda_{+}|>1, ~|\\lambda_{-}| > 1\n",
    "$$"
   ]
  },
  {
   "cell_type": "markdown",
   "metadata": {},
   "source": [
    "_Answers to Problem 2_"
   ]
  },
  {
   "cell_type": "markdown",
   "metadata": {},
   "source": [
    "#### 2a)\n",
    "\n",
    "Letting $p_{n} = \\lambda^{n}$ we find that \n",
    "\\begin{align*}\n",
    "\\lambda^{n} = & \\lambda^{n-1} + a\\lambda^{n-2}\\\\\n",
    " = & \\lambda^{n}\\left(\\lambda^{-1} + a\\lambda^{-2}\\right)\n",
    "\\end{align*}\n",
    "so that\n",
    "$$\n",
    "1 = \\frac{1}{\\lambda} + \\frac{a}{\\lambda^{2}}\n",
    "$$\n",
    "and thus \n",
    "$$\n",
    "\\lambda^{2} - \\lambda - a = 0.\n",
    "$$\n",
    "Solving for $\\lambda$, we find that\n",
    "$$\n",
    "\\lambda_{\\pm} = \\frac{1}{2}\\left(1 \\pm \\sqrt{1+4a}\\right)\n",
    "$$\n"
   ]
  },
  {
   "cell_type": "markdown",
   "metadata": {},
   "source": [
    "#### 2b)\n",
    "\n",
    "We have that \n",
    "$$\n",
    "c_{+} + c_{-} = s_{0}, ~ c_{+}\\lambda_{+} + c_{-}\\lambda_{-} = s_{1}.\n",
    "$$\n",
    "Solving for $c_{-}=s_{0}-c_{+}$, we see that \n",
    "$$\n",
    "c_{+}\\left(\\lambda_{+}-\\lambda_{-}\\right) = s_{1} - s_{0}\\lambda_{-}\n",
    "$$\n",
    "so that\n",
    "$$\n",
    "c_{+}= \\frac{s_{1} - s_{0}\\lambda_{-}}{\\lambda_{+}-\\lambda_{-}}\n",
    "$$\n",
    "Using $c_{-} = s_{0}-c_{+}$, we have \n",
    "$$\n",
    "c_{-} = s_{0} - \\frac{s_{1} - s_{0}\\lambda_{-}}{\\lambda_{+}-\\lambda_{-}} = \\frac{s_{0}\\lambda_{+} - s_{1}}{\\lambda_{+}-\\lambda_{-}}\n",
    "$$"
   ]
  },
  {
   "cell_type": "markdown",
   "metadata": {},
   "source": [
    "#### 2c)\n",
    "\n",
    "We see that $\\lambda_{+}>0$ for all $a\\geq -1/4$, so we only need to check $\\lambda_{+}<1$, which becomes\n",
    "$$\n",
    "\\sqrt{1+4a}< 1\n",
    "$$\n",
    "so that squaring both sides, we see this becomes $a<0$.  \n",
    "\n",
    "For $\\lambda_{-}$, we start with $|\\lambda_{-}|<1$ which is \n",
    "$$\n",
    "-1 < \\sqrt{1+4a} < 3,\n",
    "$$\n",
    "so that this, using that the radical is treated as a positive quantity, becomes after squaring all relevant sides\n",
    "$$\n",
    "0 < 1 + 4a < 9\n",
    "$$ \n",
    "or \n",
    "$$\n",
    "-1/4 < a < 2.\n",
    "$$\n",
    "Therefore, we see that for the range of $a$ which ensures $|\\lambda_{+}|,|\\lambda_{-}|\\leq 1$ is given by\n",
    "$$\n",
    "-\\frac{1}{4}\\leq a \\leq 0.\n",
    "$$\n",
    "The range of $a$ which ensures that $|\\lambda_{+}|>1$, $|\\lambda_{-}|\\leq 1$ is given by\n",
    "$$\n",
    "0 < a \\leq 2,\n",
    "$$\n",
    "and the range of $a$ which ensures that $|\\lambda_{+}|>1$, $|\\lambda_{-}|> 1$ is given by \n",
    "$$\n",
    "a > 2.\n",
    "$$"
   ]
  },
  {
   "cell_type": "markdown",
   "metadata": {},
   "source": [
    "** Problem 3 **: Now let us numerically explore the results from Problem 2.  \n",
    "\n",
    "3a) (3pts) Using the skeleton-code below write a function `fib_general` which generates, for given integer value $n\\geq 2$ and real values `a`, `s0`, and `s1`, the $n+1$ array of points `pn` such that \n",
    "\n",
    "`\n",
    "pn[0] = s0, pn[1] = s1\n",
    "`\n",
    "\n",
    "and the entries in `pn` are given by the recurrence relationship from Problem 2.  \n",
    "\n",
    "3b) (3pts) Fixing $n=10$, $s_{0}=1$, $s_{1}=1$, using your results from Problem 2c, choose three values of $a$, one each from the three different ranges of values of $a$, and generate a plot of $p_{n}$ for each.  Make sure axes are appropriately labeled.  Explain how the plot confirms the results you found in Problem 2c.  \n",
    "\n",
    "3c) (2pts) Fixing $n=10$, $s_{0}=1$, $s_{1}=1$, choose $a=-1/2$ and generate a plot of $p_{n}$.  Briefly explain the results you see and how they differ from those in Problem 3b).  "
   ]
  },
  {
   "cell_type": "markdown",
   "metadata": {},
   "source": [
    "_Answers to Problem 3_"
   ]
  },
  {
   "cell_type": "code",
   "execution_count": 3,
   "metadata": {},
   "outputs": [],
   "source": [
    "#3a)\n",
    "def fib_general(n,a,s0,s1):\n",
    "    pn = np.zeros(int(n)+1)\n",
    "    pn[0] = s0\n",
    "    pn[1] = s1\n",
    "    for jj in xrange(2,int(n)+1):\n",
    "        pn[jj] = pn[jj-1] + a*pn[jj-2]\n",
    "    return pn"
   ]
  },
  {
   "cell_type": "code",
   "execution_count": 5,
   "metadata": {},
   "outputs": [
    {
     "data": {
      "image/png": "[encoded data removed]",
      "text/plain": [
       "<Figure size 432x288 with 1 Axes>"
      ]
     },
     "metadata": {},
     "output_type": "display_data"
    },
    {
     "data": {
      "image/png": "[encoded data removed]",
      "text/plain": [
       "<Figure size 432x288 with 1 Axes>"
      ]
     },
     "metadata": {},
     "output_type": "display_data"
    },
    {
     "data": {
      "image/png": "[encoded data removed]",
      "text/plain": [
       "<Figure size 432x288 with 1 Axes>"
      ]
     },
     "metadata": {},
     "output_type": "display_data"
    }
   ],
   "source": [
    "#3b)\n",
    "avals = np.array([-1./4., 1., 3.])\n",
    "nvals = np.array(range(0,10+1))\n",
    "\n",
    "for jj in xrange(0,avals.size):\n",
    "    plt.figure(jj)\n",
    "    plt.plot(nvals,fib_general(10,avals[jj],1.,1.))\n",
    "    plt.xlabel('$n$')\n",
    "    plt.ylabel('$p_{n}$')\n",
    "    plt.title('a = %1.2f' % avals[jj])"
   ]
  },
  {
   "cell_type": "markdown",
   "metadata": {},
   "source": [
    "As we see, for $a=-1/4$, we have both $\\lambda_{+}$ and $\\lambda_{-}$ being less than one in magnitude, and thus the overall profile must decay as $n$ increases.  For $a=1$, we must have growth, but as would be expected, the growth is weaker than in the $a=3$ case since for $a=3$, both parts of the analytic solution are growin in magnitude as $n$ increases.  "
   ]
  },
  {
   "cell_type": "code",
   "execution_count": 6,
   "metadata": {},
   "outputs": [
    {
     "data": {
      "text/plain": [
       "Text(0.5,1,'a = -0.50')"
      ]
     },
     "execution_count": 6,
     "metadata": {},
     "output_type": "execute_result"
    },
    {
     "data": {
      "image/png": "[encoded data removed]",
      "text/plain": [
       "<Figure size 432x288 with 1 Axes>"
      ]
     },
     "metadata": {},
     "output_type": "display_data"
    }
   ],
   "source": [
    "#3c)\n",
    "plt.plot(nvals,fib_general(10,-.5,1.,1.))\n",
    "plt.xlabel('$n$')\n",
    "plt.ylabel('$p_{n}$')\n",
    "plt.title('a = %1.2f' % -.5)"
   ]
  },
  {
   "cell_type": "markdown",
   "metadata": {},
   "source": [
    "As we see, $a=-1/2$ leads to markedly different dynamics as $n$ increases.  While we see an overall decay, we also see oscillation, which was not see above.  "
   ]
  },
  {
   "cell_type": "markdown",
   "metadata": {},
   "source": [
    "** Problem 4 **: Let the Fresnel function $f(x)$ be defined via the integral\n",
    "\n",
    "$$\n",
    "f(x) = \\int_{0}^{x} \\cos(t^{2}) dt.\n",
    "$$\n",
    "\n",
    "4a) (2pts) Write the code that creates a sequence of $n+1$ points $x_{j}$ such that $0 \\leq x_{j} \\leq x$, with  \n",
    "\n",
    "$$\n",
    "x_{j} = j\\delta x, ~ \\delta x = \\frac{x}{n}, ~ j=0,\\cdots,n\n",
    "$$\n",
    "\n",
    "4b) (2pts) Find the second order Taylor polynomial approximation around $x_{j}$ of $\\cos(t^{2})$, i.e. find  $T_{2}(t;x_{j})$.  \n",
    "\n",
    "4c) (2pts) Using the fact that $\\delta x = x_{j+1}-x_{j}$, show that \n",
    "\n",
    "$$\n",
    "\\int_{x_{j}}^{x_{j+1}} T_{2}(t;x_{j})dt = \\delta x \\cos\\left(x_{j}^{2}\\right)- \\delta x^{2} \\left(x_{j}\\sin\\left(x_{j}^{2}\\right)\\right) - \\frac{\\delta x^{3}}{3}\\left(2x_{j}^{2}\\cos\\left(x_{j}^{2}\\right) + \\sin\\left(x_{j}^{2}\\right)\\right)\n",
    "$$\n",
    "\n",
    "Note, the $u$-substitution $u=t-x_{j}$ will make your life so much easier here.  \n",
    "\n",
    "4d) (4pts) Using basic properties of integrals and Taylor series, show that \n",
    "\\begin{align*}\n",
    "f(x_{j+1}) = & f(x_{j}) + \\int_{x_{j}}^{x_{j+1}}\\cos(t^{2})dt \\\\\n",
    "\\approx & f(x_{j}) + \\int_{x_{j}}^{x_{j+1}}T_{2}(t;x_{j})dt\\\\\n",
    "\\approx & f(x_{j}) + \\left(\\delta x \\cos\\left(x_{j}^{2}\\right)- \\delta x^{2} \\left(x_{j}\\sin\\left(x_{j}^{2}\\right)\\right) - \\frac{\\delta x^{3}}{3}\\left(2x_{j}^{2}\\cos\\left(x_{j}^{2}\\right) + \\sin\\left(x_{j}^{2}\\right)\\right) \\right)\n",
    "\\end{align*}\n",
    "\n",
    "Using the code-skeleton below, write a Python function called `fresnel_integrator` which takes an array `xvals` and returns a corresponding array, `fvals`, which contains the values of the Fresnel function $f(x)$.  Plot $f(x)$ for $0\\leq x \\leq 10$ with $\\delta x = 10^{-2}$.  Briefly describe what you see.  \n",
    "\n",
    "4e) (4pts) Fixing $x=10$, compare your approximate integrator to the \"true\" value of $f(10)$ for $\\delta x =1,10^{-1},10^{-2},10^{-3}, 10^{-4}$ and generate a log-log plot of the error versus the corresponding value of $n$.  Label axes for your graph.  Describe your graph and comment on any trends you observe.\n",
    "\n",
    "Use the code \n",
    "\n",
    "`\n",
    "fvalf = spqd.quad(lambda t: np.cos(t**2.),0.,10.)\n",
    "fvalt = fvalf[0]\n",
    "`\n",
    "\n",
    "to generate the \"true\" value `fvalt`.  Likewise note, if we want the last entry of an array, say `fvals`, we just call\n",
    "\n",
    "`\n",
    "fvals[-1]\n",
    "`\n",
    "\n",
    "See the code-skeleton below.  "
   ]
  },
  {
   "cell_type": "markdown",
   "metadata": {},
   "source": [
    "_Answers to Problem 4_"
   ]
  },
  {
   "cell_type": "code",
   "execution_count": null,
   "metadata": {},
   "outputs": [],
   "source": [
    "#4a)\n",
    "xvals = np.linspace(0.,x,int(n)+1)"
   ]
  },
  {
   "cell_type": "markdown",
   "metadata": {},
   "source": [
    "#### 4b)\n",
    "\n",
    "Using the definition of a Taylor series, we have that \n",
    "\n",
    "$$\n",
    "T_{2}(t;x_{j}) = \\cos\\left(x_{j}^{2}\\right) - 2x_{j}\\sin\\left(x_{j}^{2}\\right)\\left(t-x_{j}\\right) - \\left(\\sin\\left(x_{j}^{2}\\right) + 2x^{2}_{j}\\cos\\left(x_{j}^{2}\\right)\\right)\\left(t-x_{j}\\right)^{2}\n",
    "$$"
   ]
  },
  {
   "cell_type": "markdown",
   "metadata": {},
   "source": [
    "#### 4c)\n",
    "\n",
    "Using the u-sub, we have\n",
    "\n",
    "\\begin{align*}\n",
    "\\int_{x_{j}}^{x_{j+1}} T_{2}(t;x_{j}) dt = & \\int_{0}^{\\delta x} \\left(\\cos\\left(x_{j}^{2}\\right) - 2x_{j}\\sin\\left(x_{j}^{2}\\right)u - \\left(\\sin\\left(x_{j}^{2}\\right) + 2x^{2}_{j}\\cos\\left(x_{j}^{2}\\right)\\right)u^{2}\\right) du \\\\\n",
    "= & \\delta x \\cos\\left(x_{j}^{2}\\right)- \\delta x^{2} \\left(x_{j}\\sin\\left(x_{j}^{2}\\right)\\right) - \\frac{\\delta x^{3}}{3}\\left(\\sin\\left(x_{j}^{2}\\right)+2x_{j}^{2}\\cos\\left(x_{j}^{2}\\right)\\right)\n",
    "\\end{align*}"
   ]
  },
  {
   "cell_type": "markdown",
   "metadata": {},
   "source": [
    "#### 4d)\n",
    "Using properties of integration, we have that\n",
    "\n",
    "\\begin{align*}\n",
    "f(x_{j+1}) = & \\int_{0}^{x_{j+1}} \\cos(t^{2})dt\\\\\n",
    "= & \\int_{0}^{x_{j}}\\cos(t^{2}) dt + \\int_{x_{j}}^{x_{j+1}} \\cos(t^{2})dt\\\\\n",
    "= & f(x_{j}) + \\int_{x_{j}}^{x_{j+1}} \\cos(t^{2})dt\n",
    "\\end{align*}\n",
    "\n",
    "Then we just substitute the formula from above.  The code we need to use to find the integral is presented below.  "
   ]
  },
  {
   "cell_type": "code",
   "execution_count": 7,
   "metadata": {},
   "outputs": [
    {
     "data": {
      "text/plain": [
       "Text(0.5,0,'$f(x)$')"
      ]
     },
     "execution_count": 7,
     "metadata": {},
     "output_type": "execute_result"
    },
    {
     "data": {
      "image/png": "[encoded data removed]",
      "text/plain": [
       "<Figure size 432x288 with 1 Axes>"
      ]
     },
     "metadata": {},
     "output_type": "display_data"
    }
   ],
   "source": [
    "# 4d)\n",
    "# You add in the missing code\n",
    "def fresnel_integrator(xvals):\n",
    "    dx = xvals[1]-xvals[0]\n",
    "    n = xvals.size-1\n",
    "    fvals = np.zeros(int(n)+1)\n",
    "    for jj in xrange(0,int(n)):\n",
    "        xj = xvals[jj]\n",
    "        x2 = xj**2.\n",
    "        cx = np.cos(x2)\n",
    "        sx = np.sin(x2)\n",
    "        fupdate = dx*cx -dx**2.*xj*sx - dx**3.*(2.*xj**2.*cx+sx)/3.\n",
    "        fvals[jj+1] = fvals[jj] + fupdate\n",
    "    return fvals\n",
    "\n",
    "xvals = np.linspace(0.,10.,int(1e3)+1)\n",
    "fvals = fresnel_integrator(xvals)\n",
    "plt.plot(xvals,fvals)\n",
    "plt.xlabel('$x$')\n",
    "plt.xlabel('$f(x)$')"
   ]
  },
  {
   "cell_type": "markdown",
   "metadata": {},
   "source": [
    "We see that the Fresnel function $f(x)$ is oscillatory in nature, with a tendency towards oscillating around a mean near $.7$.  "
   ]
  },
  {
   "cell_type": "code",
   "execution_count": 4,
   "metadata": {},
   "outputs": [
    {
     "data": {
      "text/plain": [
       "Text(0,0.5,'$\\\\log_{10}|Error|$')"
      ]
     },
     "execution_count": 4,
     "metadata": {},
     "output_type": "execute_result"
    },
    {
     "data": {
      "image/png": "[encoded data removed]",
      "text/plain": [
       "<Figure size 432x288 with 1 Axes>"
      ]
     },
     "metadata": {},
     "output_type": "display_data"
    }
   ],
   "source": [
    "# 4e)\n",
    "# You add in the missing code\n",
    "fvalf = spqd.quad(lambda t: np.cos(t**2.),0.,10.)\n",
    "fvalt = fvalf[0]\n",
    "\n",
    "nvals = np.array([1e1,1e2,1e3,1e4,1e5])\n",
    "evals = np.zeros(nvals.size)\n",
    "\n",
    "for ll in xrange(0,nvals.size):\n",
    "    xvals = np.linspace(0.,10.,int(nvals[ll])+1)\n",
    "    fvals = fresnel_integrator(xvals)\n",
    "    evals[ll] = np.log10(np.abs(fvals[-1]-fvalt))\n",
    "\n",
    "plt.plot(np.log10(nvals),evals)\n",
    "plt.xlabel('$n$')\n",
    "plt.ylabel('$\\log_{10}|Error|$')"
   ]
  },
  {
   "cell_type": "markdown",
   "metadata": {
    "collapsed": true
   },
   "source": [
    "As seen, by the time $N=10^{5}$, the accuracy of our method is on the order of $10^{-10}$, or we have about 10 digits of accuracy.  "
   ]
  },
  {
   "cell_type": "code",
   "execution_count": null,
   "metadata": {},
   "outputs": [],
   "source": []
  }
 ],
 "metadata": {
  "kernelspec": {
   "display_name": "Python 2",
   "language": "python",
   "name": "python2"
  },
  "language_info": {
   "codemirror_mode": {
    "name": "ipython",
    "version": 2
   },
   "file_extension": ".py",
   "mimetype": "text/x-python",
   "name": "python",
   "nbconvert_exporter": "python",
   "pygments_lexer": "ipython2",
   "version": "2.7.15"
  }
 },
 "nbformat": 4,
 "nbformat_minor": 2
}
