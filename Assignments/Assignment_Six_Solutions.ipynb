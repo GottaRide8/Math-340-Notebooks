{
 "cells": [
  {
   "cell_type": "code",
   "execution_count": 3,
   "metadata": {
    "collapsed": true
   },
   "outputs": [],
   "source": [
    "import numpy as np\n",
    "import matplotlib.pyplot as plt\n",
    "%matplotlib inline"
   ]
  },
  {
   "cell_type": "markdown",
   "metadata": {},
   "source": [
    "** Problem 1 **: (10pts) For the following floating point 64-bit binary representations of two numbers given by \n",
    "\n",
    "`n1 = [0, 1, 1, 1, 0, 1, 0, 1, 0, 1, 1, 1, 1, 1, 1, 1, 1, 0, 0, 0, 0, 0, 1, 0, 0, 1, 0, 0, 1, 0, 0, 1, 0, 1, 1, 1, 1, 0, 0, 0, 0, 0, 1, 0, 0, 1, 0, 0, 1, 0, 0, 1, 0, 1, 1, 1, 1, 0, 0, 0, 0, 1, 0, 1]`\n",
    "\n",
    "`n2 = [0, 1, 1, 1, 0, 1, 0, 1, 0, 1, 1, 1, 1, 1, 1, 1, 1, 0, 0, 0, 0, 0, 1, 0, 0, 1, 0, 0, 1, 0, 0, 1, 0, 1, 1, 1, 1, 0, 0, 0, 0, 0, 1, 0, 0, 1, 0, 0, 1, 0, 0, 1, 0, 1, 1, 1, 1, 0, 1, 0, 0, 1, 1, 0]`\n",
    "\n",
    "Find the: \n",
    "\n",
    "a.) (2pts) Characteristic values $c_{1}$ and $c_{2}$ of each number.  \n",
    "\n",
    "b.) (2pts) Mantissas $f_{1}$ and $f_{2}$ of each number.  \n",
    "\n",
    "c.) (2pts) Decimal representations of each number.  \n",
    "\n",
    "d.) (2pts) 64-bit binary representation of the sum $n_{1}+n_{2}$.  \n",
    "\n",
    "e.) (2pts) 64-bit binary representation of the difference $n_{2}-n_{1}$.  Note, the two numbers are close since they have the same characteristic.  For the unknown values of the mantissa, what would be the difference between using all 1's in their place versus using all 0's in their place?"
   ]
  },
  {
   "cell_type": "code",
   "execution_count": 4,
   "metadata": {
    "collapsed": true
   },
   "outputs": [],
   "source": [
    "def bin_exp(d):\n",
    "    bstr = ''\n",
    "    cnt = 0\n",
    "    while cnt < 11:\n",
    "        cnt += 1\n",
    "        b0 = d%2\n",
    "        if b0 == 0:\n",
    "            bstr += '0'\n",
    "        else:\n",
    "            bstr += '1'\n",
    "        d = (d-b0)/2\n",
    "    return bstr[::-1]"
   ]
  },
  {
   "cell_type": "code",
   "execution_count": 5,
   "metadata": {
    "collapsed": true
   },
   "outputs": [],
   "source": [
    "def bin_exp_dec(d):\n",
    "    bstr=''\n",
    "    cnt = 0\n",
    "    while cnt < 52:\n",
    "        cnt += 1\n",
    "        if 2.*d >= 1.:\n",
    "            bstr+='1'\n",
    "            d = 2.*d - 1.\n",
    "        else:\n",
    "            bstr+='0'\n",
    "            d = 2.*d\n",
    "    return bstr       "
   ]
  },
  {
   "cell_type": "code",
   "execution_count": 24,
   "metadata": {
    "collapsed": true
   },
   "outputs": [],
   "source": [
    "def bit_to_num(bvec):\n",
    "    s = bvec[0]\n",
    "    cvec = bvec[1:12]\n",
    "    fvec = bvec[12:]\n",
    "    cpows = np.array(range(0,11))\n",
    "    fpows = -np.array(range(1,53))\n",
    "    ctil = np.sum(cvec*(2.**cpows[::-1])) - 1023\n",
    "    print \"Characteristic value is: %d\" % (ctil + 1023)\n",
    "    ftil = np.sum(fvec*(2.**fpows))\n",
    "    print \"Mantissa value is: %1.15f\" % ftil\n",
    "    num = ((-1.)**s) * (2.**ctil) * (1.+ftil)\n",
    "    return num"
   ]
  },
  {
   "cell_type": "code",
   "execution_count": 25,
   "metadata": {},
   "outputs": [],
   "source": [
    "def num_to_bit(d):\n",
    "    \n",
    "    if d > 0.:\n",
    "        sbit = '0'\n",
    "    else:\n",
    "        sbit = '1'\n",
    "    \n",
    "    chvl = int(np.floor(np.log2(np.abs(d)))) + 1023\n",
    "    fvl = d/(2.**(chvl-1023)) - 1.\n",
    "    \n",
    "    cstr = bin_exp(chvl)\n",
    "    fstr = bin_exp_dec(fvl)\n",
    "    \n",
    "    return sbit+cstr+fstr"
   ]
  },
  {
   "cell_type": "code",
   "execution_count": 28,
   "metadata": {},
   "outputs": [
    {
     "name": "stdout",
     "output_type": "stream",
     "text": [
      "Characteristic value is: 1879\n",
      "Mantissa value is: 0.969308347042415\n",
      "The floating-point-bit string is equal to: 9.462153956176960E+257\n",
      "\n",
      "Characteristic value is: 1879\n",
      "Mantissa value is: 0.969308347042423\n",
      "The floating-point-bit string is equal to: 9.462153956176995E+257\n",
      "\n",
      "Floating-point-bit representation of sum is: 0111010110001111100000100100100101111000001001001001011110010110\n",
      "\n",
      "Floating-point-bit of difference is: 0111001010000000100000000000000000000000000000000000000000000000\n",
      "\n",
      "Characteristic string is:11100101000\n",
      "\n",
      "Mantissa string is:0000100000000000000000000000000000000000000000000000\n",
      "\n"
     ]
    }
   ],
   "source": [
    "n1 = [0, 1, 1, 1, 0, 1, 0, 1, 0, 1, 1, 1, 1, 1, 1, 1, 1, 0, 0, 0, 0, 0, 1, 0, 0, 1, 0, 0, 1, 0, 0, 1, 0, 1, 1, 1, 1, 0, 0, 0, 0, 0, 1, 0, 0, 1, 0, 0, 1, 0, 0, 1, 0, 1, 1, 1, 1, 0, 0, 0, 0, 1, 0, 1]\n",
    "n2 = [0, 1, 1, 1, 0, 1, 0, 1, 0, 1, 1, 1, 1, 1, 1, 1, 1, 0, 0, 0, 0, 0, 1, 0, 0, 1, 0, 0, 1, 0, 0, 1, 0, 1, 1, 1, 1, 0, 0, 0, 0, 0, 1, 0, 0, 1, 0, 0, 1, 0, 0, 1, 0, 1, 1, 1, 1, 0, 1, 0, 0, 1, 1, 0]\n",
    "\n",
    "d1 = bit_to_num(n1)\n",
    "print \"The floating-point-bit string is equal to: %1.15E\" % d1 + \"\\n\"\n",
    "\n",
    "d2 = bit_to_num(n2)\n",
    "print \"The floating-point-bit string is equal to: %1.15E\" % d2 + \"\\n\"\n",
    "\n",
    "print \"Floating-point-bit representation of sum is: \"+num_to_bit(d1+d2) + \"\\n\"\n",
    "svals = num_to_bit(d2-d1)\n",
    "print \"Floating-point-bit of difference is: \"+svals + \"\\n\"\n",
    "print \"Characteristic string is:\"+svals[1:12]+\"\\n\"\n",
    "print \"Mantissa string is:\"+svals[12:]+\"\\n\""
   ]
  },
  {
   "cell_type": "markdown",
   "metadata": {},
   "source": [
    "So, we see from the mantissa string that we have lost 47 bits of precision, which is reflected by the 47 trailing zeros in the mantissa string.  Thus, if we were to replace all of these zeros by ones, that would give us a difference in the mantissa of \n",
    "\n",
    "$$\n",
    "\\sum_{j=7}^{52}\\frac{1}{2^{j}} = \\frac{1}{2^{7}}\\sum_{j=0}^{45}\\frac{1}{2^{j}} = \\frac{1}{2^{6}}\\left(1-2^{-46}\\right) \\approx .015625,\n",
    "$$\n",
    "\n",
    "and the number with all trailing zeros is given by\n",
    "\n",
    "$$\n",
    "2^{c}\\left(1 + \\frac{1}{2^{5}}\\right),\n",
    "$$\n",
    "\n",
    "and the one with all trailing ones is given by \n",
    "\n",
    "$$\n",
    "2^{c}\\left(1 + \\frac{1}{2^{5}} + \\frac{1}{2^{6}}\\left(1-2^{-46}\\right)\\right).\n",
    "$$\n"
   ]
  },
  {
   "cell_type": "markdown",
   "metadata": {},
   "source": [
    "** Problem 2 ** : (5 pts) Suppose that for two football teams, the probability, $P$, that team A will beat team B is given by \n",
    "$$\n",
    "P = \\frac{1+p}{2}\\left(\\frac{p}{1-p+p^{2}} \\right)^{21}\n",
    "$$\n",
    "where $p$ is the probability that team A punts on a fourth down (ok, I really know nothing about football, but I think that kind of makes sense...)  Determine to within $10^{-3}$ the minimal value of $p$ that will ensure that team $A$ beats team $B$ at least half of the time."
   ]
  },
  {
   "cell_type": "code",
   "execution_count": 32,
   "metadata": {
    "collapsed": true
   },
   "outputs": [],
   "source": [
    "def bisec_method(a,b,f,tol):\n",
    "    fa,fb = f(a),f(b)\n",
    "    if fa*fb<0:\n",
    "        c = (a+b)/2.\n",
    "        fc = f(c)\n",
    "        while np.abs(fc)>=tol:\n",
    "            if fa*fc < 0.:\n",
    "                b = c\n",
    "            else:\n",
    "                a = c\n",
    "                fa = f(a)\n",
    "            c = (a+b)/2.\n",
    "            fc = f(c)\n",
    "    return c"
   ]
  },
  {
   "cell_type": "code",
   "execution_count": 33,
   "metadata": {},
   "outputs": [
    {
     "name": "stdout",
     "output_type": "stream",
     "text": [
      "The minimal value is 0.842285156250000\n"
     ]
    }
   ],
   "source": [
    "f = lambda p: (1.+p)/2.*(p/(1.-p+p**2.))**21. - .5\n",
    "root = bisec_method(0.,1.,f,1e-3)\n",
    "print \"The minimal value is %1.15f\" % root"
   ]
  },
  {
   "cell_type": "markdown",
   "metadata": {},
   "source": [
    "** Problem 3** : (10 pts) Using Newton's method, explain why the sequence \n",
    "$$\n",
    "x_{n} = \\frac{1}{2}x_{n-1} + \\frac{A}{2x_{n-1}}, ~ n\\geq1, ~ x_{0}>0,  \n",
    "$$\n",
    "converges to $\\sqrt{A}$ (4 pts).  Hint, you need to think of a function whose root is $\\sqrt{A}$.  Implement the method and characterize for various values of $x_{0}$ how quickly the method converges. (6 pts)"
   ]
  },
  {
   "cell_type": "markdown",
   "metadata": {},
   "source": [
    "So, if we think about it, by starting with \n",
    "\n",
    "$$\n",
    "f(x) = x^{2} - A,\n",
    "$$\n",
    "\n",
    "then we see that Newton's Method becomes\n",
    "\n",
    "\\begin{align}\n",
    "x_{n} = & x_{n-1} - \\frac{f(x_{n-1})}{f'(x_{n-1})} \\\\\n",
    "= & x_{n-1} - \\frac{x_{n-1}^{2}-A}{2 x_{n-1}}\\\\\n",
    "= & \\frac{1}{2}x_{n-1} + \\frac{A}{2x_{n-1}}\n",
    "\\end{align}\n",
    "\n",
    "Thus, note that $f\\left(\\sqrt{A}\\right)=0$, we expect Newton's method to generate a sequence $x_{n}$ such that $x_{n}\\rightarrow \\sqrt{A}$.  To get an idea of this performs, let us compare iteration counts to achieve a given tolerance.  "
   ]
  },
  {
   "cell_type": "code",
   "execution_count": 41,
   "metadata": {
    "collapsed": true
   },
   "outputs": [],
   "source": [
    "def sq_rt_fnd(x0,A,tol):\n",
    "    cnt = 0\n",
    "    while np.abs(x0**2.-A)>tol:\n",
    "        x0 = x0/2. + A/(2.*x0)\n",
    "        cnt += 1\n",
    "    print \"We got the root: %1.15f\" % x0\n",
    "    print \"It took %d iterations.\\n\" % cnt"
   ]
  },
  {
   "cell_type": "code",
   "execution_count": 42,
   "metadata": {},
   "outputs": [
    {
     "name": "stdout",
     "output_type": "stream",
     "text": [
      "We got the root: 1.732050810014727\n",
      "It took 3 iterations.\n",
      "\n",
      "We got the root: 1.732050807573665\n",
      "It took 4 iterations.\n",
      "\n",
      "We got the root: 1.732050808219184\n",
      "It took 6 iterations.\n",
      "\n",
      "We got the root: 1.732050808339769\n",
      "It took 7 iterations.\n",
      "\n"
     ]
    }
   ],
   "source": [
    "sq_rt_fnd(1.5,3,1e-8)\n",
    "sq_rt_fnd(2.5,3,1e-8)\n",
    "sq_rt_fnd(10.,3,1e-8)\n",
    "sq_rt_fnd(20.,3,1e-8)"
   ]
  },
  {
   "cell_type": "markdown",
   "metadata": {},
   "source": [
    "So, while we see that the method takes longer to converge for a set tolerance as we start further from the root, the difference is pretty minimal.  Thus, the method works quite well and quite quickly.  "
   ]
  },
  {
   "cell_type": "markdown",
   "metadata": {},
   "source": [
    "** Problem 4 **: (10 pts) In many cases, getting convergence rates via pen and paper is tricky.  However, we can often readily find them via numerical simulation.  \n",
    "\n",
    "a.) (4 pts) For \n",
    "$$\n",
    "f(x) = x\\cos(x) - \\sin^{2}(x), \n",
    "$$\n",
    "find all the roots on the interval $[0,5]$ using Newton's method with a tolerance of $10^{-6}$.\n",
    "\n",
    "\n",
    "b.) (6 pts) For each root, establish that the rate of convergence is quadratic.  Note, to do this, you will need to save the various points generated by Newton's method in an array.  You will need to find the fixed point.  Then, you should note that if \n",
    "$$\n",
    "\\lim_{n\\rightarrow \\infty}\\frac{|x_{n+1}-x_{\\ast}|}{|x_{n}-x_{\\ast}|^{\\alpha}} = \\lambda, \n",
    "$$  \n",
    "then for $n$ large\n",
    "$$\n",
    "\\ln |x_{n+1}-x_{\\ast}| \\sim \\alpha \\ln |x_{n}-x_{\\ast}| + \\ln \\lambda\n",
    "$$\n",
    "So, then you should be thinking about the slope of a line in a log/log plot.  \n",
    "\n",
    "Please provide a well-labeled and well-explained figure describing the rate of convergence for each fixed point.  Does your rate change based on your initial guess?  Again, please elaborate and show plots to make your case."
   ]
  },
  {
   "cell_type": "code",
   "execution_count": 34,
   "metadata": {},
   "outputs": [
    {
     "data": {
      "text/plain": [
       "<matplotlib.text.Text at 0x7d999a3bbe90>"
      ]
     },
     "execution_count": 34,
     "metadata": {},
     "output_type": "execute_result"
    },
    {
     "data": {
      "image/png": "[encoded data removed]",
      "text/plain": [
       "<matplotlib.figure.Figure at 0x7d999a47fdd0>"
      ]
     },
     "metadata": {},
     "output_type": "display_data"
    }
   ],
   "source": [
    "xvals = np.linspace(0,5,int(1e3))\n",
    "yvals = xvals*np.cos(xvals) - (np.sin(xvals))**2.\n",
    "zvals = np.zeros(xvals.size)\n",
    "plt.plot(xvals,yvals)\n",
    "plt.plot(xvals,zvals)\n",
    "plt.xlabel('$x$')\n",
    "plt.ylabel('$f(x)$')"
   ]
  },
  {
   "cell_type": "code",
   "execution_count": 35,
   "metadata": {
    "collapsed": true
   },
   "outputs": [],
   "source": [
    "def conv_plotter(itary):\n",
    "    xlen = itary.size\n",
    "    xstr = itary[xlen-1]\n",
    "    xvals = np.log10(np.abs(itary[0:xlen-2]-xstr))\n",
    "    yvals = np.log10(np.abs(itary[1:xlen-1]-xstr))\n",
    "    ylen = yvals.size\n",
    "    plt.plot(xvals,yvals)\n",
    "    slopes = (yvals[1:]-yvals[0:ylen-1])/(xvals[1:]-xvals[0:ylen-1])\n",
    "    print np.max(slopes)\n",
    "    print np.min(slopes)\n",
    "    print np.mean(slopes)"
   ]
  },
  {
   "cell_type": "code",
   "execution_count": 36,
   "metadata": {
    "collapsed": true
   },
   "outputs": [],
   "source": [
    "f = lambda x: x*np.cos(x) - (np.sin(x))**2.\n",
    "fp = lambda x: np.cos(x) - x*np.sin(x) - 2.*np.sin(x)*np.cos(x)\n",
    "\n",
    "def Newtons_method(f,fp,x0,tol):\n",
    "    x1 = x0 - f(x0)/fp(x0)\n",
    "    xapprox = np.array([x1])\n",
    "    while np.abs(x1-x0)>tol:\n",
    "        x0 = x1\n",
    "        x1 = x0 - f(x0)/fp(x0)\n",
    "        xapprox = np.append(xapprox,x1)\n",
    "    conv_plotter(xapprox)"
   ]
  },
  {
   "cell_type": "code",
   "execution_count": null,
   "metadata": {
    "collapsed": true
   },
   "outputs": [],
   "source": []
  }
 ],
 "metadata": {
  "kernelspec": {
   "display_name": "Python 2",
   "language": "python",
   "name": "python2"
  },
  "language_info": {
   "codemirror_mode": {
    "name": "ipython",
    "version": 2
   },
   "file_extension": ".py",
   "mimetype": "text/x-python",
   "name": "python",
   "nbconvert_exporter": "python",
   "pygments_lexer": "ipython2",
   "version": "2.7.13"
  }
 },
 "nbformat": 4,
 "nbformat_minor": 2
}
