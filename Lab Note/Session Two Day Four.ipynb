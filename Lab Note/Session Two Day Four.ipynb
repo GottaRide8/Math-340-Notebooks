{
 "cells": [
  {
   "cell_type": "code",
   "execution_count": 1,
   "metadata": {},
   "outputs": [],
   "source": [
    "import numpy as np\n",
    "import matplotlib.pyplot as plt\n",
    "from scipy.special import factorial as sfactorial\n",
    "from copy import copy\n",
    "from time import time\n",
    "%matplotlib inline"
   ]
  },
  {
   "cell_type": "code",
   "execution_count": 2,
   "metadata": {},
   "outputs": [],
   "source": [
    "def bessel_func(x,n,tol):\n",
    "    tot = (x/2.)**n*(1./sfactorial(n))\n",
    "    aj = tot\n",
    "    jj = 1.\n",
    "    x2 = x**2.\n",
    "    while np.abs(aj) >= tol:\n",
    "        aj *= -x2/(4.*jj*(n+jj))\n",
    "        tot += aj\n",
    "        jj += 1.\n",
    "    return tot"
   ]
  },
  {
   "cell_type": "code",
   "execution_count": 5,
   "metadata": {},
   "outputs": [],
   "source": [
    "def bessel_func_vec(x,n,tol):\n",
    "    tot = (x/2.)**n*(1./sfactorial(n))\n",
    "    aj = copy(tot)\n",
    "    jj = 1.\n",
    "    x2 = x**2.\n",
    "    while np.max(np.abs(aj)) >= tol:\n",
    "        aj *= -x2/(4.*jj*(n+jj))\n",
    "        tot += aj\n",
    "        jj += 1.       \n",
    "    return tot"
   ]
  },
  {
   "cell_type": "code",
   "execution_count": 26,
   "metadata": {},
   "outputs": [
    {
     "name": "stdout",
     "output_type": "stream",
     "text": [
      "Time to run non-vectorized code was: 0.111768007278442\n",
      "Time to run vectorized code was: 0.000998973846436\n"
     ]
    },
    {
     "data": {
      "text/plain": [
       "[<matplotlib.lines.Line2D at 0x27e90a33340>]"
      ]
     },
     "execution_count": 26,
     "metadata": {},
     "output_type": "execute_result"
    },
    {
     "data": {
      "image/png": "[encoded data removed]",
      "text/plain": [
       "<Figure size 432x288 with 1 Axes>"
      ]
     },
     "metadata": {
      "needs_background": "light"
     },
     "output_type": "display_data"
    }
   ],
   "source": [
    "xvals = np.linspace(0.,10.,int(5e3))\n",
    "\n",
    "start = time()\n",
    "bvalsv = [bessel_func(val,0.,1e-8)for val in xvals]\n",
    "end = time()\n",
    "tvec = end - start\n",
    "print(\"Time to run non-vectorized code was: %1.15f\" %tvec)\n",
    "\n",
    "start = time()\n",
    "bvalsp = bessel_func_vec(xvals,0.,1e-8)\n",
    "end = time()\n",
    "tvec = end - start\n",
    "print(\"Time to run vectorized code was: %1.15f\" %tvec)\n",
    "\n",
    "plt.plot(xvals,bvalsp,color='k')\n",
    "plt.plot(xvals,bvalsv,color='orange',ls='--')"
   ]
  },
  {
   "cell_type": "code",
   "execution_count": null,
   "metadata": {},
   "outputs": [],
   "source": []
  }
 ],
 "metadata": {
  "kernelspec": {
   "display_name": "Python 3",
   "language": "python",
   "name": "python3"
  },
  "language_info": {
   "codemirror_mode": {
    "name": "ipython",
    "version": 3
   },
   "file_extension": ".py",
   "mimetype": "text/x-python",
   "name": "python",
   "nbconvert_exporter": "python",
   "pygments_lexer": "ipython3",
   "version": "3.8.5"
  }
 },
 "nbformat": 4,
 "nbformat_minor": 4
}
