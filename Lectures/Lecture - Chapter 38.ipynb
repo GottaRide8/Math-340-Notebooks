{
 "cells": [
  {
   "cell_type": "code",
   "execution_count": null,
   "metadata": {
    "collapsed": false
   },
   "outputs": [],
   "source": [
    "import numpy as np\n",
    "import matplotlib.pyplot as plt\n",
    "from matplotlib import colors\n",
    "#from numba import jit\n",
    "%matplotlib inline\n",
    "\n",
    "Pi = np.pi"
   ]
  },
  {
   "cell_type": "markdown",
   "metadata": {},
   "source": [
    "The first example of a fractal we will run into is the Weierstrass function which is given by\n",
    "$$\n",
    "f(x;a,b) = \\sum_{k=0}^{\\infty} a^{k}\\cos(b^{k}\\pi x), ~ 0<a<1, ~ ab > 1 + \\frac{3\\pi}{2}\n",
    "$$"
   ]
  },
  {
   "cell_type": "code",
   "execution_count": null,
   "metadata": {
    "collapsed": false
   },
   "outputs": [],
   "source": [
    "def wfunc(x,a,b,tol):\n",
    "    xp = x*Pi\n",
    "    tot = np.cos(xp)\n",
    "    term = 1.\n",
    "    aval = 1.\n",
    "    bval = 1.\n",
    "    while():\n",
    "    # work to do here    \n",
    "    return tot"
   ]
  },
  {
   "cell_type": "code",
   "execution_count": null,
   "metadata": {
    "collapsed": false
   },
   "outputs": [],
   "source": [
    "xvals = np.linspace(1,2,1e4)\n",
    "a,b = .5, (2+3*Pi+.2)\n",
    "yvals = [wfunc(xval,a,b,1e-12) for xval in xvals]\n",
    "plt.plot(xvals,yvals)"
   ]
  },
  {
   "cell_type": "code",
   "execution_count": null,
   "metadata": {
    "collapsed": false
   },
   "outputs": [],
   "source": [
    "xvals = np.linspace(1.4,1.8,1e4)\n",
    "a,b = .5, (2+3*Pi+.2)\n",
    "yvals = [wfunc(xval,a,b,1e-12) for xval in xvals]\n",
    "plt.plot(xvals,yvals)"
   ]
  },
  {
   "cell_type": "code",
   "execution_count": null,
   "metadata": {
    "collapsed": false
   },
   "outputs": [],
   "source": [
    "xvals = np.linspace(1.65,1.75,1e4)\n",
    "a,b = .5, (2+3*Pi+.2)\n",
    "yvals = [wfunc(xval,a,b,1e-12) for xval in xvals]\n",
    "plt.plot(xvals,yvals)"
   ]
  },
  {
   "cell_type": "markdown",
   "metadata": {},
   "source": [
    "*The Koch Curve* : While the Weirstrass example above helps us get a quick idea of fractal behavior, a better example is found by building the Koch Curve.  This starts from drawing a line segment, say between the initial points ${\\bf P}=(0,0)$ and ${\\bf Q}=(1,0)$.  Note in Python, to encode these points, we want to use Numpy arrays so that \n",
    "\n",
    "`P = np.array([0.,0.])`\n",
    "\n",
    "`Q = np.array([1.,0.])`\n",
    "\n",
    "The idea now is to remove the middle third of the line segment between ${\\bf P}$ and ${\\bf Q}$ and in its place draw an equilateral triangle which introduces the points ${\\bf A}$, ${\\bf B}$, and ${\\bf C}$.  See the figure below. \n",
    "\n",
    "<img src=\"koch_curve.png\" alt=\"Drawing\" style=\"width: 200px;\"/>"
   ]
  },
  {
   "cell_type": "code",
   "execution_count": null,
   "metadata": {
    "collapsed": true
   },
   "outputs": [],
   "source": [
    "def k_plot(P,Q,ptsx,ptsy,nlev):\n",
    "    if nlev > 0:\n",
    "        \n",
    "        # Compute the new points A, B, and C from the endpoints of the line segment P and Q\n",
    "        \n",
    "        d = Q - P\n",
    "        dperp = np.array([-d[1],d[0]])\n",
    "        A = P + d/3.\n",
    "        B = (P+Q)/2. + dperp/(2.*np.sqrt(3))\n",
    "        C = P + 2.*d/3.\n",
    "        \n",
    "        # Determine the index associated with Q in ptsx and ptsy.\n",
    "        \n",
    "        ind = 0\n",
    "        \n",
    "        indsx = [ii for ii,x in enumerate(ptsx) if x==Q[0]]\n",
    "        indsy = [jj for jj,y in enumerate(ptsy) if y==Q[1]]\n",
    "        \n",
    "        for indy in indsy:\n",
    "            for indx in indsx:\n",
    "                if indy == indx: \n",
    "                    ind = indx\n",
    "                    break\n",
    "        \n",
    "        # Insert C, B, and A in the correct order relative to the index 'ind' associated with the point\n",
    "        # Q.\n",
    "        \n",
    "        ptsx.insert(ind,C[0])\n",
    "        ptsx.insert(ind,B[0])\n",
    "        ptsx.insert(ind,A[0])\n",
    "        \n",
    "        ptsy.insert(ind,C[1])\n",
    "        ptsy.insert(ind,B[1])\n",
    "        ptsy.insert(ind,A[1])\n",
    "        \n",
    "        # Recurse down to the next level and repeat the process over again.\n",
    "        \n",
    "        k_plot(P,A,ptsx,ptsy,nlev-1) # Repeat process between P and A\n",
    "        k_plot(A,B,ptsx,ptsy,nlev-1) # Repeat process between A and B\n",
    "        k_plot(B,C,ptsx,ptsy,nlev-1) # Repeat process between B and C\n",
    "        k_plot(C,Q,ptsx,ptsy,nlev-1) # Repeat process between C and Q   "
   ]
  },
  {
   "cell_type": "code",
   "execution_count": null,
   "metadata": {
    "collapsed": false
   },
   "outputs": [],
   "source": [
    "P = np.array([0.,0.])\n",
    "Q = np.array([1.,0.])\n",
    "ptsx = [0.,1.] # Initialize ptsx with the x-coordinates of P and Q\n",
    "ptsy = [0.,0.] # Initialize ptsy with the y-coordinates of P and Q\n",
    "k_plot(P,Q,ptsx,ptsy,4)\n",
    "plt.plot(ptsx,ptsy)"
   ]
  },
  {
   "cell_type": "markdown",
   "metadata": {
    "collapsed": true
   },
   "source": [
    "*The Sierpinski Triangle*  So this is in some ways almost more straightforward than the Koch curve.  Start with an equilateral triangle.  Label its vertices as $A$, $B$, and $C$.  Between the midpoints of the vertices, draw another triangle.  Repeat this process on the three, smaller surounding triangles introduced by drawing the second, interior triangle.  "
   ]
  },
  {
   "cell_type": "code",
   "execution_count": null,
   "metadata": {
    "collapsed": true
   },
   "outputs": [],
   "source": [
    "def sierp(A,B,C,n):\n",
    "    \n",
    "    if n>=1:\n",
    "    \n",
    "        plt.plot([A[0],B[0]],[A[1],B[1]],color='k')\n",
    "        plt.plot([B[0],C[0]],[B[1],C[1]],color='k')\n",
    "        plt.plot([C[0],A[0]],[C[1],A[1]],color='k')\n",
    "        \n",
    "        AB = (A+B)/2.\n",
    "        BC = (B+C)/2.\n",
    "        AC = (A+C)/2.\n",
    "         \n",
    "        sierp(A,AB,AC,n-1)\n",
    "        sierp(AB,B,BC,n-1)\n",
    "        sierp(AC,BC,C,n-1)"
   ]
  },
  {
   "cell_type": "code",
   "execution_count": null,
   "metadata": {
    "collapsed": false
   },
   "outputs": [],
   "source": [
    "A = np.array([.5,np.sqrt(3)/2])\n",
    "B = np.array([0.,0.])\n",
    "C = np.array([1.,0.])\n",
    "sierp(A,B,C,7)\n"
   ]
  },
  {
   "cell_type": "markdown",
   "metadata": {},
   "source": [
    "*The Mandelbrot Set* First, let's talk about the complex plane $\\mathbb{C}$, by which we mean the set of points $z$ where\n",
    "\n",
    "$$\n",
    "z = x + iy, ~ i=\\sqrt{-1}\n",
    "$$\n",
    "\n",
    "and $x$ and $y$ are real.  See the following figure for reference.\n",
    "\n",
    "![title](complex_plane.gif)\n",
    "\n",
    "We can talk about the magnitude of a complex number $|z|$ where we define this to be\n",
    "\n",
    "$$\n",
    "|z| = (z_{r}^{2}+z_{i}^{2})^{1/2}\n",
    "$$\n",
    "\n",
    "Don't let the notation push you around.  This is just Pythagoras theorem, or vector length in the plane and nothing more.  \n",
    "\n",
    "Once we have these definitions in place, things more or less work the same way as you are used to on the real line, though you have to do more work usually.  For example, we have that \n",
    "\n",
    "$$\n",
    "z^{2} = (x+iy)^{2} = x^{2}+2ixy+i^2y^2 = x^{2}-y^{2} + 2ixy\n",
    "$$\n",
    "\n",
    "We can therefore readily see that the map $f(z) = z^{2}$ maps the complex plane into the complex plane i.e.\n",
    "\n",
    "$$\n",
    "f : \\mathbb{C} \\rightarrow \\mathbb{C}.\n",
    "$$\n",
    "\n",
    "We can then talk about families of maps such as\n",
    "\n",
    "$$\n",
    "f_{c}(z) = z^{2} + c,~ c = c_{r} + ic_{i}\n",
    "$$\n",
    "\n",
    "and to tie it in with everything we have been talking about, we can now look at complex discrete dynamical systems of the form \n",
    "\n",
    "$$\n",
    "z_{n+1} = f_{c}(z_{n}), \n",
    "$$\n",
    "\n",
    "So, we can now start asking some funny sorts of questions.  For example, what values of $c$ will make the sequence starting from $z_{0}=0$ remain bounded, i.e. can we describe the set\n",
    "\n",
    "$$\n",
    "M_{0} = \\left\\{c\\in\\mathbb{C} : \\left|f_{c}(z_{n})\\right|\\leq M, ~ n>0,~z_{0}=0\\right\\}\n",
    "$$\n",
    "\n",
    "This is not a trivial question.  Let's see why.  If $z_{0}=0$, we then have \n",
    "\n",
    "$$\n",
    "z_{1} = c, ~ z_{2} = c^{2} + c, ~ z_{3} = (c^{2}+c)^{2} + c, \\cdots\n",
    "$$\n",
    "\n",
    "So sure, you could figure out a pattern, but it is going to be a mess.  As we will shortly see, while not necessarily hot, it is a beautiful mess indeed.  \n",
    "\n",
    "So the way we will study this question is to do the following.  Given $c$ and $z_{0}=0$, we generate a sequence of points $z_{n}$ in the complex plane.  What we are looking at is plotting the value $n$ such that \n",
    "\n",
    "$$\n",
    "\\left|z_{n}\\right| > M,\n",
    "$$\n",
    "\n",
    "or at what iterate, $n(c)$, do we leave the complex disc centered at the origin of radius $M$?  Note, I write $n(c)$ to emphasize that as we *change* $c$, the number of iterations it takes to have $|z_{n}| > M$ depends on $c$.  "
   ]
  },
  {
   "cell_type": "code",
   "execution_count": null,
   "metadata": {
    "collapsed": true
   },
   "outputs": [],
   "source": [
    "def fmap(z,c):\n",
    "    return z**2 + c\n",
    "\n",
    "def M_set(Xmin,Xmax,Ymin,Ymax,M,Niter,Nvals):\n",
    "    \n",
    "    # Xmin - Lower bound of real axis we take values of c from\n",
    "    # Xmax - Upper bound of real axis we take values of c from\n",
    "    # Ymin - Lower bound of imaginary axis we take values of c from\n",
    "    # Ymax - Upper bound of imaginary axis we take values of c from\n",
    "    # M - Radius of the complex disc which defines our bounded region\n",
    "    # Niter - Maximum number of iterations\n",
    "    # Nvals - Number of points along the real and imaginary axis we use to study different values of c\n",
    "    \n",
    "    Xaxis = np.linspace(Xmin,Xmax,Nvals)\n",
    "    Yaxis = np.linspace(Ymin,Ymax,Nvals)\n",
    "    \n",
    "    iter_cnt = np.zeros([Nvals,Nvals])\n",
    "    \n",
    "    for jj in range(Nvals):\n",
    "        for kk in range(Nvals):\n",
    "            cval = Xaxis[jj] + 1j*Yaxis[kk] # We try many different cvals\n",
    "            zval = cval # We always start from z_1 = c since z_0 = 0.\n",
    "            n = 0 # We always initialize the count of our iterations to be 0\n",
    "           \n",
    "            while n < Niter: # We iterate until we hit the maximum number of iterations\n",
    "                zval = fmap(zval,cval) # Apply the map to generate the next point in the sequence.  \n",
    "                n += 1 # If we haven't stopped yet, update the iteration count.\n",
    "                if(np.abs(zval)>M): break # If we are outside the disc of radius M, we stop.\n",
    "                \n",
    "            iter_cnt[jj,kk] = n # Store the iteration count\n",
    "            \n",
    "    # This is a bunch of plotting stuff.  If you don't learn it, that is fine.              \n",
    "    dpi = 72\n",
    "    width = 10\n",
    "    height = 10\n",
    "    img_width = dpi * width\n",
    "    img_height = dpi * height\n",
    "    \n",
    "    fig, ax = plt.subplots(figsize=(width, height),dpi=72)\n",
    "    ticks = np.arange(0,img_width,3*dpi)\n",
    "    x_ticks = Xmin + (Xmax-Xmin)*ticks/img_width\n",
    "    plt.xticks(ticks, x_ticks)\n",
    "    y_ticks = Ymin + (Ymax-Ymin)*ticks/img_width\n",
    "    plt.yticks(ticks, y_ticks)\n",
    "    \n",
    "    ax.imshow(iter_cnt.T,origin='lower') "
   ]
  },
  {
   "cell_type": "code",
   "execution_count": null,
   "metadata": {
    "collapsed": false
   },
   "outputs": [],
   "source": [
    "M_set(-1.5,.52,-1.,1.,1e2,1e2,500)"
   ]
  },
  {
   "cell_type": "code",
   "execution_count": null,
   "metadata": {
    "collapsed": true
   },
   "outputs": [],
   "source": []
  }
 ],
 "metadata": {
  "anaconda-cloud": {},
  "kernelspec": {
   "display_name": "Python [Root]",
   "language": "python",
   "name": "Python [Root]"
  },
  "language_info": {
   "codemirror_mode": {
    "name": "ipython",
    "version": 2
   },
   "file_extension": ".py",
   "mimetype": "text/x-python",
   "name": "python",
   "nbconvert_exporter": "python",
   "pygments_lexer": "ipython2",
   "version": "2.7.12"
  }
 },
 "nbformat": 4,
 "nbformat_minor": 0
}
