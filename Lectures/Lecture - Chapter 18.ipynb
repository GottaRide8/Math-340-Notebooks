{
 "cells": [
  {
   "cell_type": "markdown",
   "metadata": {},
   "source": [
    "<strong> Lecture - Chapter 18 </strong> : More about functions"
   ]
  },
  {
   "cell_type": "markdown",
   "metadata": {},
   "source": [
    "Let us build a function whose job it is to provide a histogram of the letters in a given body of text.  Along the way, we need to build helper functions which the main function will call.  But let's get a template of an idea down first.  \n",
    "\n",
    "We want to pass in a filename, say \"juliet.txt\" or \"beyonce.txt\", and then get a plot of the frequency with which different letters appear.  We should return the distribution as a list.\n",
    "\n",
    "But okay, we want to do a frequency analysis of letters.  That means we want to get rid of punctuation.  So we need to develop a helper function which takes a list of words, strips the punctuation while keeping all the letters.  \n",
    "\n",
    "Now note, because we have Shakespeare to analyze, we have to allow that things like apostrophes can come at almost any point in the word.  So be careful.  Your helper function should return a list of words with no punctuation.  You will need to use the string helper function\n",
    "\n",
    "`word.isalnum()`\n",
    "\n",
    "which tests if a string consists only of alpha/numeric characters.  Also, don't forget about good stuff like \n",
    "\n",
    " `words.index(word)`"
   ]
  },
  {
   "cell_type": "code",
   "execution_count": null,
   "metadata": {
    "collapsed": true
   },
   "outputs": [],
   "source": [
    "def punc_remove(words):\n",
    "    \n",
    "    for word in words:\n",
    "        # use word.islanum() here.  If you find punctuation, then you need to get rid of it.\n",
    "        # But keep in mind that strings are immutable.  Thus, you might think about \n",
    "        # building a list of the characters you want to keep, and then converting that list \n",
    "        # into a string using join.  See immediately below for how to do that.  \n",
    "    \n",
    "    delimeter = \"\"\n",
    "    words[ind] = delimeter.join(charl)"
   ]
  },
  {
   "cell_type": "markdown",
   "metadata": {},
   "source": [
    "We then need to think about lower and upper case.  So, we would like a helper function which takes a list of words and converts everything to upper case.  Note, you will need to make use of the string helper function\n",
    "\n",
    "`word.upper()`\n",
    "\n",
    "which makes every character in a string uppercase. "
   ]
  },
  {
   "cell_type": "code",
   "execution_count": null,
   "metadata": {
    "collapsed": true
   },
   "outputs": [],
   "source": [
    "def make_upper(words):"
   ]
  },
  {
   "cell_type": "markdown",
   "metadata": {},
   "source": [
    "Okay, now the hard part.  We need to build a helper function which is able to take a given string or word, and a list which is keeping track of the frequency of occurences of each letter.  "
   ]
  },
  {
   "cell_type": "code",
   "execution_count": null,
   "metadata": {
    "collapsed": false
   },
   "outputs": [],
   "source": [
    "def letter_cnt(word,freqs):"
   ]
  },
  {
   "cell_type": "markdown",
   "metadata": {},
   "source": [
    "Now put everything together by writing a calling function which makes use of the helper functions from above. "
   ]
  },
  {
   "cell_type": "code",
   "execution_count": null,
   "metadata": {
    "collapsed": true
   },
   "outputs": [],
   "source": [
    "def letter_freq(fname):\n",
    "    fhand = open(fname)\n",
    "    freqs = [0]*26\n",
    "    \n",
    "    for line in fhand:\n",
    "        line = line.rstrip() # Remove trailing white space\n",
    "        words = line.split() # Turns the line into a list of words\n",
    "    \n",
    "    "
   ]
  },
  {
   "cell_type": "code",
   "execution_count": 2,
   "metadata": {
    "collapsed": true
   },
   "outputs": [],
   "source": [
    "import matplotlib.pyplot as plt\n",
    "%matplotlib inline\n",
    "import numpy as np"
   ]
  },
  {
   "cell_type": "code",
   "execution_count": null,
   "metadata": {
    "collapsed": true
   },
   "outputs": [],
   "source": [
    "xaxis = np.linspace(1,26,26)"
   ]
  },
  {
   "cell_type": "code",
   "execution_count": null,
   "metadata": {
    "collapsed": true
   },
   "outputs": [],
   "source": [
    "freq_vals = np.array(letter_freq(\"juliet.txt\"))"
   ]
  },
  {
   "cell_type": "code",
   "execution_count": null,
   "metadata": {
    "collapsed": true
   },
   "outputs": [],
   "source": [
    "plt.plot(xaxis,freq_vals)\n",
    "plt.xlim(1,26)"
   ]
  }
 ],
 "metadata": {
  "kernelspec": {
   "display_name": "Python 2",
   "language": "python",
   "name": "python2"
  },
  "language_info": {
   "codemirror_mode": {
    "name": "ipython",
    "version": 2
   },
   "file_extension": ".py",
   "mimetype": "text/x-python",
   "name": "python",
   "nbconvert_exporter": "python",
   "pygments_lexer": "ipython2",
   "version": "2.7.11"
  }
 },
 "nbformat": 4,
 "nbformat_minor": 0
}
