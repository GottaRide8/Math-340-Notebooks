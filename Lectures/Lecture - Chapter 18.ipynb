{
 "cells": [
  {
   "cell_type": "markdown",
   "metadata": {},
   "source": [
    "<strong> Lecture - Chapter 18 </strong> : More about functions"
   ]
  },
  {
   "cell_type": "markdown",
   "metadata": {},
   "source": [
    "Let us build a function whose job it is to provide a histogram of the letters in a given body of text.  Along the way, we need to build helper functions which the main function will call.  But let's get a template of an idea down first.  \n",
    "\n",
    "We want to pass in a filename, say \"juliet.txt\" or \"beyonce.txt\", and then get a plot of the frequency with which different letters appear.  We should return the distribution as a list.\n",
    "\n",
    "But okay, we want to do a frequency analysis of letters.  That means we want to get rid of punctuation.  So we need to develop a helper function which takes a list of words, strips the punctuation while keeping all the letters.  \n",
    "\n",
    "Now note, because we have Shakespeare to analyze, we have to allow that things like apostrophes can come at almost any point in the word.  So be careful.  Your helper function should return a list of words with no punctuation.  You will need to use the string helper function\n",
    "\n",
    "`word.isalnum()`\n",
    "\n",
    "which tests if a string consists only of alpha/numeric characters.  Also, don't forget about good stuff like \n",
    "\n",
    " `words.index(word)`"
   ]
  },
  {
   "cell_type": "code",
   "execution_count": null,
   "metadata": {
    "collapsed": true
   },
   "outputs": [],
   "source": [
    "def punc_remove(words):\n",
    "    \n",
    "    for word in words:\n",
    "            # Here is where you need to start introducing code.\n",
    "            delimeter = \"\"\n",
    "            words[ind] = delimeter.join(charl) # Note the absence of a return statement since we rely\n",
    "                                               # on pass by reference to modify words both within\n",
    "                                               # the function and then used afterwards in its \n",
    "                                               # modified form."
   ]
  },
  {
   "cell_type": "markdown",
   "metadata": {},
   "source": [
    "We then need to think about lower and upper case.  So, we would like a helper function which takes a list of words and converts everything to upper case.  Note, you will need to make use of the string helper function\n",
    "\n",
    "`word.upper()`\n",
    "\n",
    "which makes every character in a string uppercase. "
   ]
  },
  {
   "cell_type": "code",
   "execution_count": null,
   "metadata": {
    "collapsed": true
   },
   "outputs": [],
   "source": [
    "def make_upper(words):\n",
    "    for word in words:\n",
    "        "
   ]
  },
  {
   "cell_type": "markdown",
   "metadata": {},
   "source": [
    "Okay, now the hard part.  We need to build a helper function which is able to take a given string or word, and a list which is keeping track of the frequency of occurences of each letter.  "
   ]
  },
  {
   "cell_type": "code",
   "execution_count": null,
   "metadata": {
    "collapsed": false
   },
   "outputs": [],
   "source": [
    "def letter_cnt(word,freq):\n",
    "    for let in word:\n",
    "        # Yup, it really is that tedious"
   ]
  },
  {
   "cell_type": "markdown",
   "metadata": {},
   "source": [
    "Now put everything together by writing a calling function which makes use of the helper functions from above. "
   ]
  },
  {
   "cell_type": "code",
   "execution_count": null,
   "metadata": {
    "collapsed": true
   },
   "outputs": [],
   "source": [
    "def letter_freq(fname):\n",
    "    fhand = open(fname)\n",
    "    freqs = [0]*26\n",
    "       \n",
    "    for line in fhand:\n",
    "        line = line.rstrip() # Remove trailing white space\n",
    "        words = line.split() # Turns the line into a list of words\n",
    "        \n",
    "        punc_remove(words) # IMPORTANT: Due to pass by reference, words is modified by \n",
    "                           # the function punc_remove.  Note there is neither a return \n",
    "                           # statement within punc_remove, nor do we have any assignment\n",
    "                           # when we use punc_remove.\n",
    "                    \n",
    "        make_upper(words)  # IMPORTANT: Due to pass by reference, words is modified by \n",
    "                           # the function make_upper.  Note there is neither a return \n",
    "                           # statement within make_upper, nor do we have any assignment\n",
    "                           # when we use make_upper.\n",
    "        \n",
    "        for word in words:\n",
    "            letter_cnt(word,freqs) # IMPORTANT: Due to pass by reference, freqs is modified by \n",
    "                                   # the function letter_cnt.  Note there is neither a return \n",
    "                                   # statement within letter_cnt, nor do we have any assignment\n",
    "                                   # when we use letter_cnt.\n",
    "    \n",
    "    fhand.close()\n",
    "    \n",
    "    return freqs"
   ]
  },
  {
   "cell_type": "code",
   "execution_count": null,
   "metadata": {
    "collapsed": true
   },
   "outputs": [],
   "source": [
    "import matplotlib.pyplot as plt\n",
    "%matplotlib inline\n",
    "import numpy as np"
   ]
  },
  {
   "cell_type": "code",
   "execution_count": null,
   "metadata": {
    "collapsed": false
   },
   "outputs": [],
   "source": [
    "xaxis = np.linspace(1,26,26)"
   ]
  },
  {
   "cell_type": "code",
   "execution_count": null,
   "metadata": {
    "collapsed": false
   },
   "outputs": [],
   "source": [
    "freq_vals = np.asarray(letter_freq(\"juliet.txt\"))"
   ]
  },
  {
   "cell_type": "code",
   "execution_count": null,
   "metadata": {
    "collapsed": false
   },
   "outputs": [],
   "source": [
    "plt.plot(xaxis,freq_vals)\n",
    "plt.xlim(1,26)"
   ]
  },
  {
   "cell_type": "code",
   "execution_count": null,
   "metadata": {
    "collapsed": true
   },
   "outputs": [],
   "source": []
  }
 ],
 "metadata": {
  "anaconda-cloud": {},
  "kernelspec": {
   "display_name": "Python [Root]",
   "language": "python",
   "name": "Python [Root]"
  },
  "language_info": {
   "codemirror_mode": {
    "name": "ipython",
    "version": 2
   },
   "file_extension": ".py",
   "mimetype": "text/x-python",
   "name": "python",
   "nbconvert_exporter": "python",
   "pygments_lexer": "ipython2",
   "version": "2.7.12"
  }
 },
 "nbformat": 4,
 "nbformat_minor": 0
}
