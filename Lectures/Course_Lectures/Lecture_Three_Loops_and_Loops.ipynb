{
 "cells": [
  {
   "cell_type": "code",
   "execution_count": 1,
   "metadata": {},
   "outputs": [],
   "source": [
    "import numpy as np\n",
    "import matplotlib.pyplot as plt\n",
    "from scipy.special import factorial as sfactorial\n",
    "from copy import copy\n",
    "from time import time\n",
    "%matplotlib inline"
   ]
  },
  {
   "cell_type": "markdown",
   "metadata": {},
   "source": [
    "# Part 2.5 - Lists vs Numpy Arrays\n",
    "\n",
    "Okay, within Python, we have different types.  For example "
   ]
  },
  {
   "cell_type": "code",
   "execution_count": 2,
   "metadata": {},
   "outputs": [
    {
     "name": "stdout",
     "output_type": "stream",
     "text": [
      "<class 'int'>\n",
      "<class 'float'>\n",
      "<class 'str'>\n",
      "\n",
      "<class 'list'>\n",
      "<class 'list'>\n",
      "<class 'list'>\n",
      "\n",
      "<class 'int'>\n",
      "<class 'float'>\n",
      "<class 'str'>\n"
     ]
    }
   ],
   "source": [
    "x = 1\n",
    "y = 1.\n",
    "z = \"Hi\"\n",
    "\n",
    "xlist = [1,2,3]\n",
    "ylist = [1.,2.,3.]\n",
    "zlist = [\"Hi\",\"Howdy\",\"Hello\"]\n",
    "\n",
    "print(type(x))\n",
    "print(type(y))\n",
    "print(type(z))\n",
    "print()\n",
    "print(type(xlist))\n",
    "print(type(ylist))\n",
    "print(type(zlist))\n",
    "print()\n",
    "print(type(xlist[0]))\n",
    "print(type(ylist[0]))\n",
    "print(type(zlist[0]))"
   ]
  },
  {
   "cell_type": "markdown",
   "metadata": {},
   "source": [
    "But since this is a scientific computation class, we have another type.  It is the NumPy Array.  You have seen this before with the command `np.linspace`.  In more detail, when we write the assignment statement\n",
    "`\n",
    "xvals = np.linspace(a,b,n)\n",
    "`\n",
    "\n",
    "we create an array of points `xvals[j]` such that \n",
    "\n",
    "`\n",
    "xvals[j] = a + (b-a)*j/(n-1), j=0,...,n-1.\n",
    "`\n",
    "\n",
    "Now, this part is important.  Note that "
   ]
  },
  {
   "cell_type": "code",
   "execution_count": 3,
   "metadata": {},
   "outputs": [
    {
     "name": "stdout",
     "output_type": "stream",
     "text": [
      "<class 'numpy.ndarray'>\n"
     ]
    }
   ],
   "source": [
    "xvals = np.linspace(-2.,2.,int(1e1)+1)\n",
    "\n",
    "print(type(xvals))"
   ]
  },
  {
   "cell_type": "markdown",
   "metadata": {},
   "source": [
    "So a NumPy array really is not just a Python list.  And the difference is huge.  In NumPy, I can do arithmetic on arrays.  I cannot do arithmetic on Python lists.  Let me show you what I mean."
   ]
  },
  {
   "cell_type": "code",
   "execution_count": 4,
   "metadata": {},
   "outputs": [
    {
     "name": "stdout",
     "output_type": "stream",
     "text": [
      "<class 'numpy.ndarray'>\n",
      "<class 'list'>\n",
      "<class 'numpy.ndarray'>\n"
     ]
    },
    {
     "ename": "TypeError",
     "evalue": "unsupported operand type(s) for -: 'list' and 'list'",
     "output_type": "error",
     "traceback": [
      "\u001b[1;31m---------------------------------------------------------------------------\u001b[0m",
      "\u001b[1;31mTypeError\u001b[0m                                 Traceback (most recent call last)",
      "\u001b[1;32m<ipython-input-4-583a9b9db571>\u001b[0m in \u001b[0;36m<module>\u001b[1;34m\u001b[0m\n\u001b[0;32m      2\u001b[0m \u001b[0mprint\u001b[0m\u001b[1;33m(\u001b[0m\u001b[0mtype\u001b[0m\u001b[1;33m(\u001b[0m\u001b[0mlist\u001b[0m\u001b[1;33m(\u001b[0m\u001b[0mxvals\u001b[0m\u001b[1;33m)\u001b[0m\u001b[1;33m)\u001b[0m\u001b[1;33m)\u001b[0m\u001b[1;33m\u001b[0m\u001b[1;33m\u001b[0m\u001b[0m\n\u001b[0;32m      3\u001b[0m \u001b[0mprint\u001b[0m\u001b[1;33m(\u001b[0m\u001b[0mtype\u001b[0m\u001b[1;33m(\u001b[0m\u001b[0mnp\u001b[0m\u001b[1;33m.\u001b[0m\u001b[0marray\u001b[0m\u001b[1;33m(\u001b[0m\u001b[0mlist\u001b[0m\u001b[1;33m(\u001b[0m\u001b[0mxvals\u001b[0m\u001b[1;33m)\u001b[0m\u001b[1;33m)\u001b[0m\u001b[1;33m)\u001b[0m\u001b[1;33m)\u001b[0m\u001b[1;33m\u001b[0m\u001b[1;33m\u001b[0m\u001b[0m\n\u001b[1;32m----> 4\u001b[1;33m \u001b[0mprint\u001b[0m\u001b[1;33m(\u001b[0m\u001b[0mtype\u001b[0m\u001b[1;33m(\u001b[0m\u001b[0mlist\u001b[0m\u001b[1;33m(\u001b[0m\u001b[0mxvals\u001b[0m\u001b[1;33m)\u001b[0m\u001b[1;33m-\u001b[0m\u001b[0mlist\u001b[0m\u001b[1;33m(\u001b[0m\u001b[0mxvals\u001b[0m\u001b[1;33m)\u001b[0m\u001b[1;33m)\u001b[0m\u001b[1;33m)\u001b[0m\u001b[1;33m\u001b[0m\u001b[1;33m\u001b[0m\u001b[0m\n\u001b[0m",
      "\u001b[1;31mTypeError\u001b[0m: unsupported operand type(s) for -: 'list' and 'list'"
     ]
    }
   ],
   "source": [
    "print(type(xvals-xvals))\n",
    "print(type(list(xvals)))\n",
    "print(type(np.array(list(xvals))))\n",
    "print(type(list(xvals)-list(xvals)))"
   ]
  },
  {
   "cell_type": "markdown",
   "metadata": {},
   "source": [
    "# Part 3 - Loops and Iteration \n",
    "\n",
    "## While Loops and Log Plots\n",
    "\n",
    "So, now that we have put some math under our proverbial belts, lets think about how to use Python to implement much of what we have been studying.  To do this we need to make use of what are called while and for loops.  We have already seen these, but let's now think about them in more detail.  Roughly speaking, the difference is that while loops go until something is no longer true.  For example "
   ]
  },
  {
   "cell_type": "code",
   "execution_count": null,
   "metadata": {},
   "outputs": [],
   "source": [
    "count = 1\n",
    "while count<=5: \n",
    "    print(\"Hello World\")\n",
    "    count += 1"
   ]
  },
  {
   "cell_type": "markdown",
   "metadata": {},
   "source": [
    "Statements like \n",
    "\n",
    "`count = count + 1`\n",
    "\n",
    "are usually shortened to \n",
    "\n",
    "`count+=1`\n",
    "\n",
    "so "
   ]
  },
  {
   "cell_type": "code",
   "execution_count": null,
   "metadata": {},
   "outputs": [],
   "source": [
    "count = 1\n",
    "while count<=5: \n",
    "    print(\"Hello World\")\n",
    "    count+=1"
   ]
  },
  {
   "cell_type": "markdown",
   "metadata": {},
   "source": [
    "So, let's say we wanted to compute the Taylor series around $x_{0}=0$ of $e^{x}$, which is given by \n",
    "\n",
    "$$\n",
    "e^{x} = \\sum_{j=0}^{\\infty} \\frac{x^{j}}{j!}.\n",
    "$$\n",
    "\n",
    "The idea here is to keep adding terms until a term, say $x^{j}/j!$ is, in magnitude, smaller than some specified tolerance, say `tol`.  In otherwords\n",
    "\n",
    "`while np.abs(aj) >= tol: keep doing stuff`\n",
    "\n",
    "Here the variable `aj` stands for $x^{j}/j!$.  The variable `tol` is the value we use to determine whether a given term is too small in order to keep iterating. \n",
    "\n",
    "To keep going, we note that if we write \n",
    "\n",
    "$$\n",
    "e^{x} = \\sum_{j=0}^{\\infty}a_{j}(x),\n",
    "$$\n",
    "\n",
    "then we see that \n",
    "\n",
    "$$\n",
    "\\frac{a_{j}(x)}{a_{j-1}(x)} = \\frac{x}{j},\n",
    "$$\n",
    "\n",
    "or \n",
    "\n",
    "$$\n",
    "a_{j}(x) = \\left\\{\n",
    "\\begin{array}{rl}\n",
    "\\frac{x}{j} a_{j-1}(x) & j\\geq 1\\\\\n",
    "1 & j=0\n",
    "\\end{array}\n",
    "\\right.\n",
    "$$\n",
    "\n",
    "So, if put this all together, to make this work in Python, we write "
   ]
  },
  {
   "cell_type": "code",
<<<<<<< Updated upstream
   "execution_count": 4,
=======
   "execution_count": null,
>>>>>>> Stashed changes
   "metadata": {},
   "outputs": [],
   "source": [
    "def exp_func(x,tol):\n",
    "    tot = 1. # for the total you wish to return \n",
    "    aj = 1. # the terms you need to update\n",
    "    jj = 1 # your counter\n",
    "    while np.abs(aj)>=tol:\n",
    "        aj *= x/jj\n",
    "        tot += aj\n",
    "        jj+=1 \n",
    "        # what would you put here in order to update your term, total, and counter?\n",
    "    return tot # what would you put here?"
   ]
  },
  {
   "cell_type": "markdown",
   "metadata": {},
   "source": [
    "But how accurate is it?  Well let's compare our function to $e^{x}$ over $-2\\leq x \\leq 2$ for the tolerance values \n",
    "\n",
    "`\n",
    "tol = 1e-5, 1e-6, 1e-7\n",
    "`"
   ]
  },
  {
   "cell_type": "code",
   "execution_count": null,
   "metadata": {},
   "outputs": [],
   "source": [
    "xvals = np.linspace(-2.,2.,int(1e3))\n",
    "yvalst = np.exp(xvals)\n",
    "yvals1 = np.array([exp_func(xval,1e-5) for xval in xvals])\n",
    "yvals2 = [exp_func(xval,1e-6) for xval in xvals]\n",
    "yvals3 = [exp_func(xval,1e-7) for xval in xvals]\n",
    "\n",
    "#plt.plot(xvals,yvalst,color='k')\n",
    "plt.plot(xvals,np.abs(yvalst-yvals1),color='r',ls='--')\n",
    "plt.plot(xvals,np.abs(yvalst-yvals2),color='b',ls='--')\n",
    "plt.plot(xvals,np.abs(yvalst-yvals3),color='g',ls='--')\n",
    "\n",
    "plt.xlabel('$x$')\n",
    "plt.ylabel('$e^{x}$')"
   ]
  },
  {
   "cell_type": "markdown",
   "metadata": {},
   "source": [
    "Okay, that kind of helps us see a trend in behavior, but we can do better.  If you remember, \n",
    "\n",
    "$$\n",
    "\\log_{10}10^{-m} = -m\n",
    "$$\n",
    "\n",
    "then, if we are trying to plot errors on the order of $10^{-5},10^{-6},10^{-7}$, if we plotted \n",
    "\n",
    "`\n",
    "e1 = np.log10(np.abs(yvalst - yvals1))\n",
    "`\n",
    "\n",
    "then we get "
   ]
  },
  {
   "cell_type": "code",
   "execution_count": null,
   "metadata": {},
   "outputs": [],
   "source": [
    "e1 = np.log10(np.abs(yvalst - yvals1))\n",
    "e2 = np.log10(np.abs(yvalst - yvals2))\n",
    "e3 = np.log10(np.abs(yvalst - yvals3))\n",
    "\n",
    "# add code here \n",
    "\n",
    "plt.plot(xvals, e1)\n",
    "plt.plot(xvals, e2)\n",
    "plt.plot(xvals, e3)\n",
    "\n",
    "plt.xlabel('$x$')\n",
    "plt.ylabel('$log_{10}Error$')\n",
    "# add code here "
   ]
  },
  {
   "cell_type": "markdown",
   "metadata": {},
   "source": [
    "Redo your error plots as semi-log plots.  "
   ]
  },
  {
   "cell_type": "markdown",
   "metadata": {},
   "source": [
    "## For Loops\n",
    "\n",
    "In contrast, a for loop starts at a point, and goes until another one.  So for example, if we create a list of words"
   ]
  },
  {
   "cell_type": "code",
   "execution_count": null,
   "metadata": {},
   "outputs": [],
   "source": [
    "hal = [\"Hello\",\"Dave,\",\"would\",\"you\",\"like\",\"to\",\"play\",\"a\",\"game\",\"of\",\"chess?\"]"
   ]
  },
  {
   "cell_type": "markdown",
   "metadata": {},
   "source": [
    "How would we write code to print out each word.  Well, we could do it index by index.  What I mean by this is we could write "
   ]
  },
  {
   "cell_type": "code",
   "execution_count": null,
   "metadata": {},
   "outputs": [],
   "source": [
    "print(hal[0])\n",
    "print(hal[1])\n",
    "print(hal[len(hal)-1])\n",
    "print(hal[-1])\n",
    "print(hal[-100])"
   ]
  },
  {
   "cell_type": "markdown",
   "metadata": {},
   "source": [
    "Okay, you got me, I started getting bored.  But there are some important things to note here.  One, when we iterate over a list, we always start counting from `0`, thus why the _ first _ entry of the list `hal` is given by \n",
    "\n",
    "`hal[0]`\n",
    "\n",
    "Now, this means that when we want to get to the last entry of the list, though the length of the list `hal` is given by \n",
    "\n",
    "`len(hal)`\n",
    "\n",
    "the last entry is at an index that is one less than the total length.   \n",
    "\n",
    "`hal[len(hal)-1]`\n",
    "\n",
    "Now, if we want to print out the entries of `hal` we can use a for loop such as "
   ]
  },
  {
   "cell_type": "code",
   "execution_count": null,
   "metadata": {},
   "outputs": [],
   "source": [
    "for jj in range(0,len(hal)):\n",
    "    print(hal[jj])"
   ]
  },
  {
   "cell_type": "markdown",
   "metadata": {},
   "source": [
    "Ask yourself, does the index `jj` ever equal `len(hal)`?  Run the command "
   ]
  },
  {
   "cell_type": "code",
   "execution_count": null,
   "metadata": {},
   "outputs": [],
   "source": [
    "print(range(0,len((hal))))"
   ]
  },
  {
   "cell_type": "markdown",
   "metadata": {},
   "source": [
    "and from this determine what `len(hal)` is."
   ]
  },
  {
   "cell_type": "markdown",
   "metadata": {},
   "source": [
    "In Python, we can alternatively iterate over values as opposed to indices of lists.  What I mean by this is we can write "
   ]
  },
  {
   "cell_type": "code",
   "execution_count": null,
   "metadata": {},
   "outputs": [],
   "source": [
    "for word in hal: # Note, the variable 'word' is defined within the statement of the for loop. \n",
    "    print(word)"
   ]
  },
  {
   "cell_type": "markdown",
   "metadata": {},
   "source": [
    "This iteration by value is very convenient, and makes some things in Python really, really easy.  For example, what if we wanted to plot the step function $H(x)$ where \n",
    "\n",
    "$$\n",
    "H(x) = \\left\\{\n",
    "\\begin{array}{rl}\n",
    "1 & x\\geq0 \\\\\n",
    "-1 & x<0\n",
    "\\end{array}\n",
    "\\right.\n",
    "$$"
   ]
  },
  {
   "cell_type": "code",
   "execution_count": null,
   "metadata": {},
   "outputs": [],
   "source": [
    "def step_func(x):\n",
    "    if x>=0.:\n",
    "        return 1.\n",
    "    else:\n",
    "        return -1."
   ]
  },
  {
   "cell_type": "code",
   "execution_count": null,
   "metadata": {},
   "outputs": [],
   "source": [
    "xvals = np.linspace(-7.,8.,int(1e4))\n",
    "yvals = [step_func(xval) for xval in xvals] # Note use of list comprehension to generate range of function.\n",
    "\n",
    "plt.plot(xvals,yvals)"
   ]
  },
  {
   "cell_type": "markdown",
   "metadata": {},
   "source": [
    "## Vectorization in NumPy\n",
    "\n",
    "We are now going to explore a key feature of NumPy which is _vectorization_.  This is a feature whereby instead of explicitly calling a loop, NumPy just knows to iterate over every entry of a NumPy array in some reasonable manner.  To get a feel for this, let's revisit our approximation for $\\pi$ from the homework, where we used the code "
   ]
  },
  {
   "cell_type": "code",
   "execution_count": 5,
   "metadata": {},
   "outputs": [],
   "source": [
    "def pi_approx(n):\n",
    "    tot = 0.\n",
    "    nsq = n**2.\n",
    "    for kk in range(0,int(n)+1):\n",
    "        tot += np.sqrt(nsq-kk**2.)\n",
    "    return 4.*tot/nsq"
   ]
  },
  {
   "cell_type": "markdown",
   "metadata": {},
   "source": [
    "to represent the formula \n",
    "\n",
    "$$\n",
    "\\pi = \\lim_{n\\rightarrow\\infty} \\frac{4}{n^{2}}\\sum_{k=0}^{n}\\sqrt{n^{2}-k^{2}}\n",
    "$$\n",
    "\n",
    "And we know that works, but again note the explicit `for` loop.  To get far better performance, we make use of NumPy arrays to generate each What we see here is that if we could first generate all the entries in the sum and then sum along that array of entries, we could probably spare ourselves some grief.  This is exactly how vectorization in NumPy works.  To wit then, we use the following code "
   ]
  },
  {
   "cell_type": "code",
   "execution_count": 6,
   "metadata": {},
   "outputs": [],
   "source": [
    "def pi_approx_vec(n):\n",
    "    kvals = np.arange(0,int(n)+1)\n",
    "    nsq = n**2.\n",
    "    tot = np.sum(np.sqrt(nsq*np.ones(int(n)+1) - kvals**2.))\n",
    "    return 4.*tot/nsq"
   ]
  },
  {
   "cell_type": "markdown",
   "metadata": {},
   "source": [
    "So note the appearance of the NumPy array `kvals` and the use of the `np.sum()` function, which adds up entries along an array.  Thus, we have written a version of the code that never calls a `for` explicitly.  What do we then get for our efforts? "
   ]
  },
  {
   "cell_type": "markdown",
   "metadata": {},
   "source": [
    "So, now let's think about how we can vectorize our function `exp_func` so that we can just pass one NumPy array `x`.  To make this work, we need to initialize our loops with  \n",
    "\n",
    "`\n",
    "tot = np.ones(x.size)\n",
    "aj = np.ones(x.size)\n",
    "`\n",
    "\n",
    "which builds two NumPy arrays that are as long as `x`, and have entries equal to one.  Then, when we call \n",
    "\n",
    "`\n",
    "aj *= x/j\n",
    "`\n",
    "\n",
    "which is equivalent to \n",
    "\n",
    "`\n",
    "aj = aj*x/j\n",
    "`\n",
    "\n",
    "what is happening is that we multiply each entry of `aj` by each entry of the array `x/j`.  In other words, the above statement is equivalent to\n",
    "\n",
    "`\n",
    "for ll in range(0:x.size):\n",
    "    aj[ll] *= x[ll]/j\n",
    "`\n",
    "\n",
    "but with vectorization, we do not explicitly call the `for` loop since NumPy understands to use it implicitly.  But then, how do we adjust our logic in our while loop so that we can work over an entire array of new terms `aj`?  This is where we need to make use of \n",
    "\n",
    "`while np.max(np.abs(aj))>=tol:`\n",
    "\n",
    "but why?"
   ]
  },
  {
   "cell_type": "code",
   "execution_count": null,
   "metadata": {},
   "outputs": [],
   "source": [
    "start = time()\n",
    "pi_approx_vec(1e7)\n",
    "end=time()\n",
    "print(end - start)"
   ]
  },
  {
   "cell_type": "code",
   "execution_count": null,
   "metadata": {},
   "outputs": [],
   "source": [
    "start = time()\n",
    "pi_approx(1e7)\n",
    "end=time()\n",
    "print(end - start)\n",
    "\n"
   ]
  },
  {
   "cell_type": "code",
   "execution_count": 2,
   "metadata": {},
   "outputs": [],
   "source": [
    "def exp_func_vec(x,tol):\n",
    "    tot = np.ones(x.size) # for the total you wish to return \n",
    "    aj = np.ones(x.size) # the terms you need to update\n",
    "    jj = 1 # your counter\n",
    "    while np.max(np.abs(aj))>=tol:\n",
    "        aj *= x/jj\n",
    "        tot += aj\n",
    "        jj += 1\n",
    "        # what would you put here in order to update your term, total, and counter?\n",
    "    return tot # what would you put here?"
   ]
  },
  {
   "cell_type": "code",
   "execution_count": 5,
   "metadata": {},
   "outputs": [
    {
     "name": "stdout",
     "output_type": "stream",
     "text": [
      "Time to run vectorized code was: 0.003059625625610\n",
      "Time to run non-vectorized code was: 0.063902139663696\n"
     ]
    },
    {
     "data": {
      "text/plain": [
       "Text(0, 0.5, '$e^{x}$')"
      ]
     },
     "execution_count": 5,
     "metadata": {},
     "output_type": "execute_result"
    },
    {
     "data": {
      "image/png": "iVBORw0KGgoAAAANSUhEUgAAAXoAAAEGCAYAAABrQF4qAAAAOXRFWHRTb2Z0d2FyZQBNYXRwbG90bGliIHZlcnNpb24zLjUuMiwgaHR0cHM6Ly9tYXRwbG90bGliLm9yZy8qNh9FAAAACXBIWXMAAAsTAAALEwEAmpwYAAAhVklEQVR4nO3deXRU9f3/8ec7IKAoAUxkKYuCFQIiSqNIUSlgEfmhQrGt9BRlK7IUAQXtolAUC8JRm4IeQAIoFrCyY6GCAoKhBMO+i4DIJgmibApk+fz+yMg3QBISmLl3Mnk9zpmTSeYmn1cu4ZWbz3zmXnPOISIikSvK7wAiIhJaKnoRkQinohcRiXAqehGRCKeiFxGJcCX9DpCbmJgYd+ONN/odQ0SkSFmzZs0R51zshR8Py6K/8cYbSUlJ8TuGiEiRYmZ7c/u4pm5ERCKcil5EJMKp6EVEIpyKXkQkwqnoRUQinIpeRCTCqehFRCKcil5EJAycPn2a/v378/nnnwf9a6voRUTCwKxZs0hISGDfvn1B/9oqehGRMJCYmMhNN91E8+bNg/61VfQiIj7bvXs3S5YsoUuXLkRFBb+WVfQiIj6bNGkSZkbnzp1D8vVV9CIiPsrMzGTy5Mk88MADVK9ePSRjqOhFRHy0aNEi9u/fT7du3UI2hopeRMRHiYmJxMTE8PDDD4dsDBW9iIhP0tLSmDdvHp06daJUqVIhGyfkRW9mdcxsfY7bcTPrH+pxRUTC3ZQpU0hPTw/ptA14cIUp59wO4HYAMysBHABmh3pcEZFw5pxjwoQJ3H333dSvXz+kY3l9KcGWwC7nXK6XuxIRKS5WrFjBtm3bmDhxYsjH8nqO/jFgWm4PmFkPM0sxs5S0tDSPY4mIeGvs2LFER0fz29/+NuRjeVb0ZlYKeBh4P7fHnXPjnXPxzrn42NiLLmIuIhIxUlNTmTFjBk888QTXXHNNyMfz8oj+QWCtc+6wh2OKiISdSZMmkZ6eTs+ePT0Zz8ui70ge0zYiIsVFVlYW48aNo1mzZsTFxXkypidFb2ZlgV8Cs7wYT0QkXC1atIg9e/bQq1cvz8b0ZNWNc+4UcL0XY4mIhLOxY8cSGxtL+/btPRtTr4wVEfHI/v37mT9/Pt26dQvpK2EvpKIXEfHIhAkTcM7Ro0cPT8dV0YuIeCAjI4O33nqL1q1bc9NNN3k6ttevjBURKZZmz57NwYMHGTt2rOdj64heRMQDCQkJ1KpVizZt2ng+topeRCTE1qxZQ1JSEn379qVEiRKej6+iFxEJsX/+85+ULVuWLl26+DK+il5EJIQOHz7M9OnT6dy5M9HR0b5kUNGLiITQ+PHjOXv2LH379vUtg4peRCREzp49y5tvvknr1q2pU6eObzlU9CIiITJjxgy+/vpr+vXr52sOFb2ISIgkJCRwyy230KpVK19z6AVTIiIhsGrVKlavXs2YMWOIivL3mFpH9CIiIfDqq68SHR3N448/7ncUFb2ISLDt2rWLWbNm0atXL6677jq/46joRUSC7fXXX6dEiRK+LqnMSUUvIhJER44cYeLEifz+97+natWqfscBVPQiIkH15ptv8sMPP/DMM8/4HeUcr64ZW97MZpjZdjPbZmZNvBhXRMRLP/zwA2PGjKFNmzbUr1/f7zjneLW8MgH4r3PuUTMrBVzj0bgiIp555513SEtLY9CgQX5HOY8550I7gFk0sB6o5Qo4WHx8vEtJSQlpLhGRYMrMzCQuLo7o6GhWr16NmXmewczWOOfiL/y4F0f0NwFpwCQzawisAfo5505dELAH0AOgRo0aHsQSEQme+fPns3PnTqZPn+5LyefHiyP6eGAV0NQ5l2xmCcBx59wLeX2OjuhFpChxztGkSRMOHz7Mzp07KVnSn5MO5HVE78WTsfuB/c655MD7M4BGHowrIuKJJUuWkJyczHPPPedbyecn5EXvnPsa2GdmP56jsyWwNdTjioh4ZdiwYVStWpXOnTv7HSVXXv3q6Qv8K7DiZjfgz/W0RESCLCkpiWXLlvHaa69RpkwZv+PkypOid86tBy6aNxIRKepefvllYmJi6NGjh99R8qRXxoqIXKa1a9eycOFCBgwYQNmyZf2OkycVvYjIZXr55ZeJjo6mT58+fkfJl4peROQybNmyhVmzZvHUU08RHR3td5x8qehFRC7D8OHDKVu2rO/Xgy0IFb2ISCHt2LGDadOm0atXL66//nq/41ySil5EpJCGDh3K1VdfzbPPPut3lAJR0YuIFMLmzZuZPn06ffv2JTY21u84BaKiFxEphKFDh3LttdcycOBAv6MUmIpeRKSA1q9fz4wZM+jfv3+RmJv/kYpeRKSAhgwZQnR0NE8//bTfUQpFRS8iUgApKSnMmzePZ555hvLly/sdp1BU9CIiBTB48GAqVqxYJNbNX0hFLyJyCUlJSSxcuJBBgwZRrlw5v+MUmopeRCQfzjmee+45qlSpQt++ff2Oc1nC71IoIiJhZP78+SQlJTFu3LiwPkNlfkJ+zdjLoWvGikg4yMjI4LbbbiMzM5MtW7aE5WUCc8rrmrHhnVpExEdvv/0227ZtY+bMmWFf8vnRHL2ISC6+//57hgwZQuPGjWnfvr3fca6IJ7+izOxL4ASQCWTk9qeFiEg4GT16NAcOHGDq1KmYmd9xroiXf4s0d84d8XA8EZHLcvToUYYPH07btm257777/I5zxTR1IyJygWHDhnH8+HH+/ve/+x0lKLwqegcsMrM1ZpbrpdLNrIeZpZhZSlpamkexRETO9/nnnzN69Gi6d+9OgwYN/I4TFJ4srzSznzjnDpjZDcBioK9zbnle22t5pYj45eGHH2bZsmXs3LmTSpUq+R2nUPJaXunJEb1z7kDgbSowG7jLi3FFRApj8eLFzJ8/n+eff77IlXx+Ql70ZlbWzK778T7QCtgc6nFFRAojIyODp59+mlq1ahXJE5flx4tVN5WA2YHlSSWBqc65/3owrohIgU2YMIHNmzczc+ZMSpcu7XecoNIpEESk2Pvuu+/46U9/Sv369Vm6dGmRXTfv6xy9iEg4e+mll/jmm294/fXXi2zJ50dFLyLF2ubNm0lISKBbt27ccccdfscJCRW9iBRbzjn69OlDdHQ0w4cP9ztOyBTd07GJiFyhd999l+XLlzN+/HhiYmL8jhMyOqIXkWLpu+++Y+DAgTRu3Jhu3br5HSekdEQvIsXS4MGDOXLkCAsXLiQqKrKPeSP7uxMRycW6det444036NWrF40aNfI7Tsip6EWkWMnKyqJ3795cf/31vPTSS37H8YSmbkSkWJkwYQKrVq1i8uTJVKhQwe84ntARvYgUGwcOHGDQoEG0aNGCxx9/3O84nlHRi0ix8OOa+bNnzzJ+/PiIfAVsXjR1IyLFwsyZM5k7dy4jR46kdu3afsfxlE5qJiIR79tvvyUuLo6f/OQnJCcnU7JkZB7j5nVSs8j8bkVEchg4cOC5NfORWvL50Ry9iES0jz/+mIkTJzJw4MCIPWnZpWjqRkQi1smTJ2nYsCFRUVFs3LiRq6++2u9IIaWpGxEpdgYNGsSePXv45JNPIr7k86OpGxGJSB9++CFjx47l6aef5t577/U7jq88K3ozK2Fm68zsA6/GFJHi6dtvv6Vbt27ExcUxbNgwv+P4zsupm37ANqCch2OKSDH01FNP8fXXXzNnzhzKlCnjdxzfeXJEb2bVgP8HTPBiPBEpvmbNmsW7777L888/T3z8Rc9LFkteTd38A3gWyPJoPBEphlJTU+nZsyeNGjXir3/9q99xwkbIi97M2gKpzrk1l9iuh5mlmFlKWlpaqGOJSIRxztG1a1eOHz/OO++8w1VXXeV3pLDhxRF9U+BhM/sSmA60MLN3L9zIOTfeORfvnIuPjY31IJaIRJLRo0fzn//8h1GjRlG/fn2/44SVS75gysxKOOcygzKY2S+Agc65tvltpxdMiUhhrF+/nsaNG9OqVSvmzZtXrM5MmVNeL5gqyBH9eDO7JvBF7gt6MhGRK3Dq1Ck6duzI9ddfz6RJk4ptyeenIMsrBwOJZpYBrAeWX+5gzrllwLLL/XwRkQsNGDCAHTt2sHjxYmJiYvyOE5YKckT/ErADcMC/QxtHRKTgZsyYwVtvvcVzzz1Hy5Yt/Y4TtgoyRx/jnDtiZmWBBOdc91CH0hy9iFzK7t27+dnPfsYtt9zCp59+qlU2XMEcvXPuSOBuVSDKzN4IdjgRkcI4ffo0jz76KADTpk1TyV9CYZZXTgHeB+4FMLNbzeydkKQSEcnHU089xbp165gyZQq1atXyO07YK0zRRznnFgKZAM65zcCtIUklIpKHt99+m7feeos///nPtG2b70ptCShM0R80s5vIflIWy17DVHxP8Cwintu4cSM9e/akefPmvPjii37HKTIKc/bK/mSflKyymXUBWgObQxFKRORCx44do0OHDlSoUIFp06YVy2u/Xq4C7ynn3Jdm1hpoBzQEPgEmhiiXiMg5WVlZPPHEE+zZs4elS5dSqVIlvyMVKYX6leicywBmBG4iIp4YMmQIc+fOJSEhodhfLepy6FKCIhLW3n//fYYNG0bXrl3p27ev33GKJBW9iISt9evX07lzZ37+85/z5ptv6jw2l0lFLyJhKTU1lUceeYSKFSsyc+ZMSpcu7XekIktPW4tI2Dl79iyPPvooqampfPrpp1SuXNnvSEWail5Ewopzju7du7NixQqmTp3Kz372M78jFXmauhGRsDJ06FCmTJnCSy+9RMeOHf2OExFU9CISNt5++22GDh1Kly5ddHHvIFLRi0hY+Pjjj+nevTv3338/48aN0wqbIFLRi4jvtmzZQocOHahTpw4zZszQaYeDTEUvIr766quvaN26NVdffTX/+c9/iI6O9jtSxAn5qhszK0P2dWZLB8ab4ZwbEupxRST8paWl0apVK06cOMEnn3xCzZo1/Y4UkbxYXnkGaOGcO2lmVwGfmtlC59wqD8YWkTB14sQJHnzwQfbu3cuiRYto2LCh35EiVsiL3mVflPZk4N2rArf8L1QrIhHt9OnTtGvXjvXr1zNnzhydqCzEPJmjN7MSZrYeSAUWO+eSc9mmh5mlmFlKWlqaF7FExAcZGRn87ne/Y8mSJUyePFlXifKAJ0XvnMt0zt0OVAPuMrOLLkHonBvvnIt3zsXHxsZ6EUtEPJaVlcUf/vAHZs+eTUJCAr///e/9jlQseLrqxjn3HbCU7KtTiUgxkpWVxZNPPsnkyZMZOnQoTz31lN+Rio2QF72ZxZpZ+cD9q4FfAttDPa6IhA/nHL1792bChAm88MILDB482O9IxYoXq26qAG+bWQmyf7H82zn3gQfjikgYcM7Rt29fxo0bx5///GeGDh3qd6Rix4tVNxuBO0I9joiEH+ccAwYM4I033mDgwIG8/PLLOrWBD/TKWBEJiaysLPr3709CQgL9+/dn5MiRKnmf6Hz0IhJ0mZmZPPnkkyQmJjJgwABeffVVlbyPdEQvIkGVnp5Op06dSExM5IUXXlDJhwEd0YtI0Jw+fZrHHnuMuXPn8sorr/Dss8/6HUlQ0YtIkJw6dYr27duzePFixowZQ58+ffyOJAEqehG5YmlpaTz00EN89tlnTJo0ic6dO/sdSXJQ0YvIFdmzZw8PPPAA+/btY+bMmbRr187vSHIBFb2IXLa1a9fSpk0bzp49y0cffUTTpk39jiS50KobEbksixcvplmzZpQuXZqkpCSVfBhT0YtIoSUmJtKmTRtq1arF//73P+Li4vyOJPlQ0YtIgWVmZjJw4EC6d+9O8+bNWb58OVWrVvU7llyC5uhFpEBOnDjB7373Oz744AP++Mc/8vrrr1OypCqkKNC/kohc0pdffslDDz3Etm3beOONN+jdu7ffkaQQVPQikq8VK1bQoUMH0tPT+e9//8v999/vdyQpJM3Ri0iunHP84x//oHnz5lSoUIFVq1ap5IsoFb2IXOTkyZN07NiRAQMG8NBDD7F69Wrq1Knjdyy5TCp6ETnPjh07aNy4Me+//z4jRoxg1qxZREdH+x1LroDm6EXknJkzZ9KlSxdKly7NokWLaNmypd+RJAi8uDh4dTNbamZbzWyLmfUL9ZgiUjjff/89Tz75JI8++ihxcXGsWbNGJR9BvJi6yQCecc7VA+4G+phZPQ/GFZEC2Lx5M3fddRfjx4/n2WefZcWKFdSoUcPvWBJEIS9659wh59zawP0TwDbgJ6EeV0Ty55xj7Nix3HnnnRw5coQPP/yQV155hVKlSvkdTYLM0ydjzexG4A4gOZfHephZipmlpKWleRlLpNhJS0ujQ4cO9OrVi2bNmrFhwwZatWrldywJEc+K3syuBWYC/Z1zxy983Dk33jkX75yLj42N9SqWSLEzZ84cbr31Vj744ANGjRrFggULqFSpkt+xJIQ8WXVjZleRXfL/cs7N8mJMETnft99+S79+/ZgyZQq33347ixcv5rbbbvM7lnjAi1U3BiQC25xzr4V6PBG52IcffkiDBg2YOnUqgwcPJjk5WSVfjHgxddMU6AS0MLP1gVsbD8YVKfaOHj1Kt27daN26NeXKlWPVqlUMHTpUT7gWMyGfunHOfQpYqMcRkf/jnGPatGn079+fo0eP8txzz/G3v/2NMmXK+B1NfKBXxopEmN27d9OrVy8WLVrEXXfdxeLFi2nYsKHfscRHOteNSIRIT09n5MiR3HrrraxcuZLRo0ezcuVKlbzoiF4kEixatIh+/fqxfft22rVrx+jRo6lWrZrfsSRM6IhepAjbtWsXjzzyCA888ADp6enMmzeP2bNnq+TlPCp6kSLo5MmT/OUvf6FevXp8/PHHjBgxgi1btvDQQw/5HU3CkKZuRIqQjIwMJk+ezJAhQzh48CCdOnVixIgRVK1a1e9oEsZ0RC9SBDjnmDt3Lrfddht/+MMfqFGjBitXruSdd95RycslqehFwlxSUhL33nsv7dq1Iysri1mzZrFy5UqaNGnidzQpIlT0ImFqw4YNtGvXjnvuuYddu3Yxbtw4Nm/eTPv27ck+s4hIwajoRcLM+vXr+dWvfsXtt9/O0qVLGTZsGF988QU9evSgZEk9rSaFp58akTCxbt06XnzxRebMmUO5cuUYMmQI/fr1o0KFCn5HkyJORS/is+TkZIYPH87cuXOJjo5WwUvQqehFfJCVlcWCBQsYNWoUy5cvp3z58vztb3+jX79+lC9f3u94EmFU9CIeOnv2LFOnTmXUqFFs3bqV6tWr89prr9G9e3euu+46v+NJhFLRi3jgyJEjTJgwgdGjR3Pw4EEaNGjAlClT+O1vf8tVV13ldzyJcCp6kRBKSUlhzJgxTJ8+nTNnztCiRQsmTpxIq1attERSPKOiFwmyM2fO8P777zNmzBiSk5MpW7YsXbt2pU+fPtSvX9/veFIMqehFgmT79u1MmjSJyZMnk5qayi233EJCQgJPPPEE0dHRfseTYsyTojeziUBbINU5d6sXY4p44eTJk/z73/8mMTGRlStXUqJECdq2bUufPn1o2bIlUVF6TaL4z6sj+snAGOAdj8YTCRnnHP/73/9ITEzkvffe49SpU9SpU4eRI0fSqVMnKleu7HdEkfN4UvTOueVmdqMXY4mEytatW5k6dSrTpk1j9+7dlC1blscee4yuXbvSpEkTPbkqYSts5ujNrAfQA6BGjRo+pxHJtnfvXqZPn860adPYsGEDUVFRtGzZkueff55f//rXXHvttX5HFLmksCl659x4YDxAfHy88zmOFGP79+9nzpw5vPfee3z66acANG7cmISEBH7zm99oakaKnLApehE/7dixg9mzZzN79mxWr14NQL169Rg2bBiPPfYYtWvX9jmhyOVT0Uux5Jxj7dq158p969atAMTHx/P3v/+d9u3bU7duXZ9TigSHV8srpwG/AGLMbD8wxDmX6MXYIj86duwYH330EQsWLGDhwoUcOnSIqKgo7rvvPnr27Em7du2oXr263zFFgs6rVTcdvRhHJCfnHJs2bWLhwoUsXLiQpKQkMjIyiI6OplWrVrRp04a2bdsSExPjd1SRkNLUjUSU/fv3s2TJEpYsWcJHH33EgQMHALj99tsZNGgQDz74IE2aNNGVmqRY0U+7FGmpqaksW7bsXLnv3LkTgJiYGJo3b07r1q1p3bo1VatW9TmpiH9U9FJkOOf46quvSEpKIikpiRUrVrBp0yYAypUrR7NmzejduzctWrTg1ltv1ekHRAJU9BK2MjIy2LBhw7liT0pKOjcVc+2113L33XfTsWNHWrZsSaNGjTQdI5IH/c+QsOCcY9++faSkpPDZZ5+xevVqkpOTOXXqFADVqlXjnnvu4Z577qFp06Y0aNBAxS5SQPqfIr44fPgwn3322bliT0lJITU1FYCSJUvSoEEDOnfuTNOmTWnatKlOiyFyBVT0ElKZmZl88cUXbNy4kQ0bNrBx40bWrVvH/v37ATAz6tWrx4MPPsidd95JfHw8DRs2pEyZMj4nF4kcKnoJmqNHj7Jp06Zzhb5x40Y2b97MDz/8AECJEiWoW7cu995777lSv+OOO3RiMJEQU9FLoTjn2L9/P9u2bWP79u3nvT18+PC57WJiYmjYsCE9e/bktttuo2HDhsTFxelIXcQHKnrJ1bFjx9i1axe7du3i888/P6/Uf3yCFKB8+fLExcXRpk0b4uLiaNCgAQ0bNqRy5co6P7tImFDRF1POOQ4fPnyuzL/44ovz7n/zzTfnbV+9enXq1q1Lt27diIuLo27dusTFxXHDDTeo0EXCnIo+QmVkZHDo0CH27t3LV199dd5t79697Nmz57wj86ioKKpXr87NN99Mhw4dqF27NjfffDO1a9emdu3amkcXKcJU9EVQeno6hw8f5uDBgxw6dIiDBw+yb9++cyX+1VdfceDAATIzM8/7vIoVK1KjRg1q165Ny5YtzyvzG2+8kVKlSvn0HYlIKKnow8iZM2dITU3l0KFD5wr8x7c576elpeHc+RfhKlmyJNWqVaNmzZo0a9aMGjVqUKNGDWrWrEmNGjWoXr26jspFiikVfQidOXOGtLQ00tLSSE1Nvej+hR87ceLERV8jKiqKSpUqUaVKFapVq8add95J1apVqVq1KlWqVDn3tlKlSpQoUcKH71JEwp2K/hKcc5w8eZJvv/2Wo0ePFvjt0aNHOX78eK5fs2TJksTGxnLDDTcQGxtLrVq1iI2NPXfLWeI33HCDClxErkhEF316ejrHjx+/rNuxY8fOFXdGRkaeY5QsWZKKFStSoUIFKlasSOXKlalXrx4VK1Y8r8xzvo2OjtZKFRHxTEQV/YgRI0hMTDxX1qdPn77k55gZ5cqVO+9Wvnx5ataseV6B5/W2bNmyKm0RCWteXTO2NZAAlAAmOOdGhGKcKlWqcOedd15U3PndrrnmGp23XEQiml24eiPoA5iVAD4HfgnsBz4DOjrntub1OfHx8S4lJSWkuUREIo2ZrXHOxV/4cS8OZe8CvnDO7XbOnQWmA494MK6IiOBN0f8E2Jfj/f2Bj4mIiAfCZnLazHqYWYqZpaSlpfkdR0QkYnhR9AeA6jnerxb42Hmcc+Odc/HOufjY2FgPYomIFA9eFP1nwE/N7CYzKwU8BszzYFwREcGD5ZXOuQwz+yPwIdnLKyc657aEelwREcnmyTp659wCYIEXY4mIyPnC5slYEREJjZC/YOpymFkasPcyPz0GOBLEOMGiXIWjXIWjXIUXrtmuJFdN59xFq1nCsuivhJml5PbKML8pV+EoV+EoV+GFa7ZQ5NLUjYhIhFPRi4hEuEgs+vF+B8iDchWOchWOchVeuGYLeq6Im6MXEZHzReIRvYiI5KCiFxGJcEW+6M1slJltN7ONZjbbzMrnsV1rM9thZl+Y2Z88yPVrM9tiZllmludSKTP70sw2mdl6Mwv51VYKkcvr/VXRzBab2c7A2wp5bJcZ2FfrzSxk50y61PdvZqXN7L3A48lmdmOoshQyV2czS8uxj7p7lGuimaWa2eY8Hjcz+2cg90YzaxQmuX5hZsdy7K/BHmSqbmZLzWxr4P9iv1y2Ce7+cs4V6RvQCigZuP8K8Eou25QAdgG1gFLABqBeiHPFAXWAZUB8Ptt9CcR4uL8umcun/TUS+FPg/p9y+3cMPHbSg310ye8f6A2MDdx/DHgvTHJ1BsZ49fOUY9z7gEbA5jwebwMsBAy4G0gOk1y/AD7weF9VARoF7l9H9hX4Lvx3DOr+KvJH9M65Rc65jMC7q8g+DfKFPL/KlXNum3NuRyjHuBwFzOXHVcEeAd4O3H8baBfi8fJTkO8/Z94ZQEsL/VXiw/Zqbc655cDRfDZ5BHjHZVsFlDezKmGQy3POuUPOubWB+yeAbVx8Maag7q8iX/QX6Er2b8ELhfNVrhywyMzWmFkPv8ME+LG/KjnnDgXufw1UymO7MoEL1Kwys3YhylKQ7//cNoEDjWPA9SHKU5hcAB0Cf+7PMLPquTzuh3D+P9jEzDaY2UIzq+/lwIEpvzuA5AseCur+8uTslVfKzD4CKufy0F+dc3MD2/wVyAD+FU65CuAe59wBM7sBWGxm2wNHIX7nCrr8cuV8xznnzCyvdb81A/urFrDEzDY553YFO2sRNh+Y5pw7Y2ZPkv1XRwufM4WztWT/TJ00szbAHOCnXgxsZtcCM4H+zrnjoRyrSBS9c+7+/B43s85AW6ClC0xwXaBAV7kKdq4Cfo0DgbepZjab7D/Pr6jog5DL8/1lZofNrIpz7lDgT9TUPL7Gj/trt5ktI/toKNhFX5Dv/8dt9ptZSSAa+CbIOQqdyzmXM8MEsp/7CAch+Zm6UjkL1jm3wMzeNLMY51xIT3ZmZleRXfL/cs7NymWToO6vIj91Y2atgWeBh51z3+exWVhe5crMyprZdT/eJ/uJ5VxXB3jMj/01D3gicP8J4KK/PMysgpmVDtyPAZoCW0OQpSDff868jwJL8jjI8DTXBfO4D5M9/xsO5gGPB1aT3A0cyzFV5xszq/zjcytmdhfZnRjSX9iB8RKBbc651/LYLLj7y8tnm0NxA74gey5rfeD240qIqsCCHNu1IfvZ7V1kT2GEOld7sufVzgCHgQ8vzEX26okNgduWcMnl0/66HvgY2Al8BFQMfDwemBC4/3NgU2B/bQK6hTDPRd8/8CLZBxQAZYD3Az9/q4Faod5HBcw1PPCztAFYCtT1KNc04BCQHvj56gb0BHoGHjfgjUDuTeSzEs3jXH/Msb9WAT/3INM9ZD83tzFHb7UJ5f7SKRBERCJckZ+6ERGR/KnoRUQinIpeRCTCqehFRCKcil5EJMKp6EVEIpyKXkQkwqnoRQogcP7wXwbuDzOz0X5nEimoInGuG5EwMAR4MXDyuTvIPr2ASJGgV8aKFJCZfQJcC/zCZZ9HXKRI0NSNSAGYWQOyrwx0ViUvRY2KXuQSAmeE/BfZV/05GThjqkiRoaIXyYeZXQPMAp5xzm0DXiJ7vl6kyNAcvYhIhNMRvYhIhFPRi4hEOBW9iEiEU9GLiEQ4Fb2ISIRT0YuIRDgVvYhIhPv/eFJCogHrDCEAAAAASUVORK5CYII=\n",
      "text/plain": [
       "<Figure size 432x288 with 1 Axes>"
      ]
     },
     "metadata": {
      "needs_background": "light"
     },
     "output_type": "display_data"
    }
   ],
   "source": [
    "# You insert code which allows you to compare the performance of exp_func to exp_func_vec.  \n",
    "# As a means of generating a test, use the array of x-values \n",
    "\n",
    "xvals = np.linspace(-2.,2.,int(1e3))\n",
    "\n",
    "start = time()\n",
    "evalsv = exp_func_vec(xvals,1e-9)\n",
    "end = time()\n",
    "tvec = end - start\n",
    "print(\"Time to run vectorized code was: %1.15f\" %tvec)\n",
    "\n",
    "start = time()\n",
    "evalsp = [exp_func(xval,1e-9) for xval in xvals]\n",
    "end = time()\n",
    "tvec = end - start\n",
    "print(\"Time to run non-vectorized code was: %1.15f\" %tvec)\n",
    "\n",
    "plt.plot(xvals,evalsv,color='k')\n",
    "plt.xlabel('$x$')\n",
    "plt.ylabel('$e^{x}$')\n",
    "# insert code here"
   ]
  },
  {
   "cell_type": "markdown",
   "metadata": {},
   "source": [
    "So let's do something properly difficult to see how much we've learned.  If you dig in the depts of math, you will come up with a class of functions know as Bessel functions, denoted by $J_{n}(x)$.  These are usually _defined_ via a series where \n",
    "\n",
    "$$\n",
    "J_{n}(x) = \\sum_{j=0}^{\\infty} \\frac{(-1)^{j}}{j!(n+j)!}\\left(\\frac{x}{2}\\right)^{n+2j}\n",
    "$$\n",
    "\n",
    "Given this definition, generate both non and vectorized, recursive code which allows you to compute $J_{n}(x)$ for any positive integer $n$ and any value of $x$.  Examine plots of your function to infer the behavior of the Bessel functions.  "
   ]
  },
  {
   "cell_type": "code",
   "execution_count": null,
   "metadata": {},
   "outputs": [],
   "source": [
    "def bessel_func(x,n,tol):\n",
    "    tot = #you put code here\n",
    "    aj = tot\n",
    "    j = 1\n",
    "    x2 = #you put code here\n",
    "    while #you put code here:\n",
    "        aj *= #you put code here\n",
    "        tot += #you put code here\n",
    "        j += #you put code here\n",
    "    return tot\n",
    "    # add code here "
   ]
  },
  {
   "cell_type": "code",
   "execution_count": null,
   "metadata": {},
   "outputs": [],
   "source": [
    "def bessel_func_vec(x,n,tol):\n",
    "    tot = #you put code here\n",
    "    aj = copy(tot)\n",
    "    j = 1\n",
    "    x2 = #you put code here\n",
    "    while #you put code here:\n",
    "        aj *= #you put code here\n",
    "        tot += #you put code here\n",
    "        j += #you put code here\n",
    "        \n",
    "    return tot\n",
    "    "
   ]
  },
  {
   "cell_type": "code",
   "execution_count": null,
   "metadata": {},
   "outputs": [],
   "source": [
    "xvals = np.linspace(0.,40.,int(5e3))\n",
    "\n",
    "plt.plot(xvals,bessel_func_vec(xvals,0,1e-8))\n",
    "\n",
    "# provide timing comparisons between the non-vectorize and vectorized versions of your function\n",
    "\n",
    "# plot you solution over the xvals above.  Add labels for the x and y axes.  "
   ]
  },
  {
   "cell_type": "code",
   "execution_count": null,
   "metadata": {},
   "outputs": [],
   "source": []
  },
  {
   "cell_type": "code",
   "execution_count": null,
   "metadata": {},
   "outputs": [],
   "source": []
  }
 ],
 "metadata": {
  "kernelspec": {
   "display_name": "Python 3",
   "language": "python",
   "name": "python3"
  },
  "language_info": {
   "codemirror_mode": {
    "name": "ipython",
    "version": 3
   },
   "file_extension": ".py",
   "mimetype": "text/x-python",
   "name": "python",
   "nbconvert_exporter": "python",
   "pygments_lexer": "ipython3",
   "version": "3.8.5"
  }
 },
 "nbformat": 4,
 "nbformat_minor": 2
}
