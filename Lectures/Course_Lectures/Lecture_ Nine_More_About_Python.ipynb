{
 "cells": [
  {
   "cell_type": "code",
   "execution_count": 1,
   "metadata": {
    "collapsed": true
   },
   "outputs": [],
   "source": [
    "import matplotlib.pyplot as plt\n",
    "%matplotlib inline\n",
    "import numpy as np"
   ]
  },
  {
   "cell_type": "markdown",
   "metadata": {},
   "source": [
    "# Manipulating Text and File I/O"
   ]
  },
  {
   "cell_type": "markdown",
   "metadata": {},
   "source": [
    "So a cool thing about this is that we can work with files in a very natural way.  For example, I can import text files such as 'beyonce.txt' and then print the lines by writing the following "
   ]
  },
  {
   "cell_type": "code",
   "execution_count": 2,
   "metadata": {},
   "outputs": [
    {
     "name": "stdout",
     "output_type": "stream",
     "text": [
      "The line number is 1.\n",
      "Nothing else seems to hurt like the smile on your face when it is only in my memory.  \r\n",
      "\n",
      "The line number is 2.\n",
      "I am the dragon breathing fire, beautiful mane, I'm the lion.\r\n",
      "\n",
      "The line number is 3.\n",
      "Our love was stronger than your pride. \r\n",
      "\n",
      "The line number is 4.\n",
      "You don't deserve my tears, I guess that's why they ain't there. \n"
     ]
    }
   ],
   "source": [
    "queen_bee = open('beyonce.txt')\n",
    "count = 0\n",
    "for line in queen_bee:\n",
    "    count += 1\n",
    "    print \"The line number is %d.\" % count\n",
    "    print line\n",
    "queen_bee.close()"
   ]
  },
  {
   "cell_type": "markdown",
   "metadata": {},
   "source": [
    "So we see that yes, the text file is treated as a series of lines. And in terms of reading the lines, that is also straightforward."
   ]
  },
  {
   "cell_type": "code",
   "execution_count": 8,
   "metadata": {},
   "outputs": [
    {
     "name": "stdout",
     "output_type": "stream",
     "text": [
      "['Nothing el', 'e ', 'eem', ' to hurt like the ', 'mile on your face when it i', ' only in my memory.']\n",
      "Nothing else seems to hurt like the smile on your face when it is only in my memory.\n",
      "\n",
      "[\"I am the dragon breathing fire, beautiful mane, I'm the lion.\"]\n",
      "I am the dragon breathing fire, beautiful mane, I'm the lion.\n",
      "\n",
      "['Our love wa', ' ', 'tronger than your pride.']\n",
      "Our love was stronger than your pride.\n",
      "\n",
      "[\"You don't de\", 'erve my tear', ', I gue', '', \" that'\", \" why they ain't there.\"]\n",
      "You don't deserve my tears, I guess that's why they ain't there.\n",
      "\n"
     ]
    }
   ],
   "source": [
    "queen_bee = open('beyonce.txt')\n",
    "for line in queen_bee:\n",
    "    line = line.rstrip() # Remove trailing white space\n",
    "    words = line.split('s') # Turns the line into a list of words\n",
    "    print words\n",
    "    print line\n",
    "    print\n",
    "queen_bee.close()"
   ]
  },
  {
   "cell_type": "markdown",
   "metadata": {
    "collapsed": true
   },
   "source": [
    "We can then readily start answering various questions.  Like, what if we want to print out only those lines that contain the word 'fire' in them.  Then what we do is the following"
   ]
  },
  {
   "cell_type": "code",
   "execution_count": 7,
   "metadata": {
    "collapsed": true
   },
   "outputs": [],
   "source": [
    "queen_bee = open('beyonce.txt')\n",
    "for line in queen_bee:\n",
    "    line = line.rstrip() # Remove trailing white space\n",
    "    words = line.split('s') # Turns the line into a list of words by breaking line up across spaces.\n",
    "    if \"fire\" in words:\n",
    "        print line\n",
    "queen_bee.close()"
   ]
  },
  {
   "cell_type": "markdown",
   "metadata": {},
   "source": [
    "Okay, that didn't do anything.  Why not?  Write the code that will actually do something."
   ]
  },
  {
   "cell_type": "code",
   "execution_count": null,
   "metadata": {
    "collapsed": true
   },
   "outputs": [],
   "source": [
    "queen_bee = open('beyonce.txt')\n",
    "for line in queen_bee:\n",
    "    line = line.rstrip() # Remove trailing white space\n",
    "    words = line.split('s') # Turns the line into a list of words by breaking line up across spaces.\n",
    "    if \"fire,\" in words:\n",
    "        print line\n",
    "queen_bee.close()"
   ]
  },
  {
   "cell_type": "markdown",
   "metadata": {},
   "source": [
    "So maybe we also want to process each line not just into words, but remove punctuation marks. How would you do this for just commas?"
   ]
  },
  {
   "cell_type": "code",
   "execution_count": 9,
   "metadata": {},
   "outputs": [
    {
     "name": "stdout",
     "output_type": "stream",
     "text": [
      "I am the dragon breathing fire, beautiful mane, I'm the lion.\n"
     ]
    }
   ],
   "source": [
    "queen_bee = open('beyonce.txt')\n",
    "\n",
    "for line in queen_bee:\n",
    "    line = line.rstrip() # Remove trailing white space\n",
    "    words = line.split() # Turns the line into a list of words by breaking line up across spaces.\n",
    "    cnt = 0\n",
    "    for word in words:\n",
    "        if \",\" in word:\n",
    "            words[cnt] = word[0:len(word)-1] # Thus, we change the list element, not the word itself.\n",
    "        cnt+=1\n",
    "    if \"fire\" in words:\n",
    "        print line\n",
    "\n",
    "queen_bee.close()"
   ]
  },
  {
   "cell_type": "markdown",
   "metadata": {},
   "source": [
    "## More Text Processing"
   ]
  },
  {
   "cell_type": "markdown",
   "metadata": {},
   "source": [
    "Let us build a function whose job it is to provide a histogram of the letters in a given body of text.  Along the way, we need to build helper functions which the main function will call.  But let's get a template of an idea down first.  \n",
    "\n",
    "We want to pass in a filename, say \"juliet.txt\" or \"beyonce.txt\", and then get a plot of the frequency with which different letters appear.  We should return the distribution as a list.\n",
    "\n",
    "But okay, we want to do a frequency analysis of letters.  That means we want to get rid of punctuation.  So we need to develop a helper function which takes a list of words, strips the punctuation while keeping all the letters.  \n",
    "\n",
    "Now note, because we have Shakespeare to analyze, we have to allow that things like apostrophes can come at almost any point in the word.  So be careful.  Your helper function should return a list of words with no punctuation.  You will need to use the string helper function\n",
    "\n",
    "`word.isalnum()`\n",
    "\n",
    "which tests if a string consists only of alpha/numeric characters.  Also, don't forget about good stuff like \n",
    "\n",
    " `word.append(char)`"
   ]
  },
  {
   "cell_type": "code",
   "execution_count": null,
   "metadata": {
    "collapsed": true
   },
   "outputs": [],
   "source": [
    "def punc_remove(words):\n",
    "    ind = 0\n",
    "    for word in words:\n",
    "            # Here is where you need to start introducing code.\n",
    "            if word.isalnum() == False:\n",
    "                wordt = []\n",
    "                for char in word:\n",
    "                    if char.isalnum():\n",
    "                        wordt.append(char)\n",
    "                delimeter = \"\"\n",
    "                words[ind] = delimeter.join(wordt) # Note the absence of a return statement since we rely\n",
    "                                                   # on pass by reference to modify words both within\n",
    "                                                   # the function and then used afterwards in its \n",
    "                                                   # modified form.\n",
    "            ind+=1"
   ]
  },
  {
   "cell_type": "markdown",
   "metadata": {},
   "source": [
    "We then need to think about lower and upper case.  So, we would like a helper function which takes a list of words and converts everything to upper case.  Note, you will need to make use of the string helper function\n",
    "\n",
    "`word.upper()`\n",
    "\n",
    "which makes every character in a string uppercase. "
   ]
  },
  {
   "cell_type": "code",
   "execution_count": null,
   "metadata": {
    "collapsed": true
   },
   "outputs": [],
   "source": [
    "def make_upper(words):\n",
    "    ind = 0\n",
    "    for word in words:\n",
    "        "
   ]
  },
  {
   "cell_type": "markdown",
   "metadata": {},
   "source": [
    "Okay, now the hard part.  We need to build a helper function which is able to take a given string or word, and a list which is keeping track of the frequency of occurences of each letter.  To do this, we need to make use of what are called _ dictionaries _.  A good way to see the use of them is to realize that if I give you a word, and you wanted to keep track of which letters appeared in it, you would probably think to write something like "
   ]
  },
  {
   "cell_type": "code",
   "execution_count": null,
   "metadata": {
    "collapsed": true
   },
   "outputs": [],
   "source": [
    "def letter_cnt(word,freq):\n",
    "    for let in word:\n",
    "        if let == 'A': freq[0]+=1\n",
    "        elif let == 'B': freq[1]+=1\n",
    "        elif let == 'C': freq[2]+=1\n",
    "        elif let == 'D': freq[3]+=1\n",
    "        elif let == 'E': freq[4]+=1\n",
    "        elif let == 'F': freq[5]+=1\n",
    "        elif let == 'G': freq[6]+=1\n",
    "        elif let == 'H': freq[7]+=1\n",
    "        elif let == 'I': freq[8]+=1\n",
    "        elif let == 'J': freq[9]+=1\n",
    "        elif let == 'K': freq[10]+=1\n",
    "        elif let == 'L': freq[11]+=1\n",
    "        elif let == 'M': freq[12]+=1\n",
    "        elif let == 'N': freq[13]+=1\n",
    "        elif let == 'O': freq[14]+=1\n",
    "        elif let == 'P': freq[15]+=1\n",
    "        elif let == 'Q': freq[16]+=1\n",
    "        elif let == 'R': freq[17]+=1\n",
    "        elif let == 'S': freq[18]+=1\n",
    "        elif let == 'T': freq[19]+=1\n",
    "        elif let == 'U': freq[20]+=1\n",
    "        elif let == 'V': freq[21]+=1   \n",
    "        elif let == 'W': freq[22]+=1\n",
    "        elif let == 'X': freq[23]+=1\n",
    "        elif let == 'Y': freq[24]+=1\n",
    "        elif let == 'Z': freq[25]+=1        "
   ]
  },
  {
   "cell_type": "markdown",
   "metadata": {},
   "source": [
    "So, um, just no.  This is not how anyone in the modern era should code.  Ever.  This is not good code.  To, radically, improve it, we use a dictionary.  The idea behind a dictionary is to generalize the notion of a list such that you no longer have integer valued indices to refer to elements.  Instead, you have *keys*.  So following the book, we can build a dictionary whose keys are universities, and whose *values* are mascot names.  We do this by writing "
   ]
  },
  {
   "cell_type": "code",
   "execution_count": 1,
   "metadata": {
    "collapsed": true
   },
   "outputs": [],
   "source": [
    "mascots={'CSUN': 'Matty_Matador',\n",
    "         'Florida':'Gators',\n",
    "         'Irvine':'Anteater'}"
   ]
  },
  {
   "cell_type": "markdown",
   "metadata": {},
   "source": [
    "Thus, if we type "
   ]
  },
  {
   "cell_type": "code",
   "execution_count": null,
   "metadata": {},
   "outputs": [],
   "source": [
    "print mascots['CSUN']\n",
    "print mascots['Irvine']"
   ]
  },
  {
   "cell_type": "markdown",
   "metadata": {},
   "source": [
    "So why is this useful?  Well, let's suppose that we want to keep track of how many times each letter is used.  A good way to do this would be to build a dictionary with letters for keys and the count as values.  To do this, we do the following"
   ]
  },
  {
   "cell_type": "code",
   "execution_count": null,
   "metadata": {
    "collapsed": true
   },
   "outputs": [],
   "source": [
    "import string\n",
    "alpha = list(string.uppercase[:26])\n",
    "freq_d = dict()\n",
    "for let in alpha: freq_d[let] = 0"
   ]
  },
  {
   "cell_type": "markdown",
   "metadata": {},
   "source": [
    "So what does this do?  Well, first, we want a list of all possible upper case letters.  That we do with the list alpha, which being more explicit we see"
   ]
  },
  {
   "cell_type": "code",
   "execution_count": null,
   "metadata": {
    "collapsed": true
   },
   "outputs": [],
   "source": [
    "print list(string.uppercase[:26])"
   ]
  },
  {
   "cell_type": "code",
   "execution_count": null,
   "metadata": {
    "collapsed": true
   },
   "outputs": [],
   "source": [
    "def letter_cnt(word,freq_d):\n",
    "    for let in word: freq_d[let]+=1        "
   ]
  },
  {
   "cell_type": "code",
   "execution_count": null,
   "metadata": {
    "collapsed": true
   },
   "outputs": [],
   "source": []
  }
 ],
 "metadata": {
  "anaconda-cloud": {},
  "kernelspec": {
   "display_name": "Python 2",
   "language": "python",
   "name": "python2"
  },
  "language_info": {
   "codemirror_mode": {
    "name": "ipython",
    "version": 2
   },
   "file_extension": ".py",
   "mimetype": "text/x-python",
   "name": "python",
   "nbconvert_exporter": "python",
   "pygments_lexer": "ipython2",
   "version": "2.7.13"
  }
 },
 "nbformat": 4,
 "nbformat_minor": 1
}
