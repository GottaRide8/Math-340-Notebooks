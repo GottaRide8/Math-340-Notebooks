{
 "cells": [
  {
   "cell_type": "code",
   "execution_count": 4,
   "metadata": {
    "collapsed": true
   },
   "outputs": [],
   "source": [
    "import numpy as np\n",
    "import matplotlib.pyplot as plt\n",
    "%matplotlib inline"
   ]
  },
  {
   "cell_type": "markdown",
   "metadata": {},
   "source": [
    "# Numerical Quadrature\n",
    "\n",
    "Okay, so now we are going to get into one of the biggest reasons we do math on computers, and that is to numerically compute integrals.  What we are attempting to do then is, for a given function $f(x)$, find approximations to \n",
    "\n",
    "$$\n",
    "T_{[a,b]}(f) = \\int_{a}^{b}f(x) dx.\n",
    "$$\n",
    "\n",
    "To do this, we first need to introduce the notion of a mesh $\\left\\{x_{i}\\right\\}_{j=0}^{N}$ where\n",
    "\n",
    "$$\n",
    "x_{0} =a, ~ x_{N} = b, ~ x_{i+1}-x_{i} = \\delta x = \\frac{b-a}{N}.\n",
    "$$\n",
    "\n",
    "## The Trapezoid Method\n",
    "\n",
    "Thus, our first attempt at developing an approximation scheme will be to find approximations over intervals $[x_{i},x_{i+1}]$.  Then we will use the identity\n",
    "\n",
    "$$\n",
    "\\int_{a}^{b} f(x) dx = \\sum_{i=0}^{N-1}\\int_{x_{i}}^{x_{i+1}}f(x)dx.\n",
    "$$\n",
    "\n",
    "Now, on each interval $[x_{i},x_{i+1}]$, we now replace $f(x)$ with a straight-line approximation which connects the points $(x_{i},f(x_{i}))$ and $(x_{i+1},f(x_{i+1}))$.\n",
    "\n",
    "![trap](https://upload.wikimedia.org/wikipedia/commons/d/d1/Integration_num_trapezes_notation.svg)\n",
    "\n",
    "What we are saying here is that we make the assumption that\n",
    "\n",
    "$$\n",
    "f(x) \\approx f(x_{i}) + \\frac{(f(x_{i+1})-f(x_{i}))}{\\delta x}(x-x_{i}), ~ x\\in[x_{i},x_{i+1}].\n",
    "$$\n",
    "\n",
    "The advantage of doing this is that we can readily compute the integral of the right-hand side of our approximation.\n",
    "\n",
    "\n",
    "_ Problem _: Using the approximation to the function, find an approximation to the integral of $f(x)$ over the interval $[x_{i},x_{i+1}]$.  \n",
    "\n",
    "So as we discussed in class, this is given by \n",
    "\n",
    "$$\n",
    "\\int_{x_{j}}^{x_{j+1}} f(x) dx \\approx \\frac{\\delta x}{2}\\left(f(x_{j}) + f(x_{j+1})\\right)\n",
    "$$\n",
    "\n",
    "_ Problem _: Combine your approximations over each sub interval $[x_{i},x_{i+1}]$ to build an approximation for the integral of $f(x)$ on $[a,b]$.    \n",
    "\n",
    "Again, as discussed in class, this becomes \n",
    "\n",
    "$$\n",
    "\\int_{a}^{b}f(x) dx \\approx \\frac{\\delta x}{2}\\left(f(a) + f(b) + 2\\sum_{j=1}^{N-1}f(x_{j})\\right)\n",
    "$$\n",
    "\n",
    "_ Problem _: Code it.  Test it."
   ]
  },
  {
   "cell_type": "code",
   "execution_count": 10,
   "metadata": {
    "collapsed": true
   },
   "outputs": [],
   "source": [
    "def trapezoid_method(a,b,N,f):\n",
    "    Nind = int(N)\n",
    "    fvals = f(np.linspace(a,b,Nind+1))\n",
    "    return (b-a)/(2*N)*(fvals[0]+fvals[Nind]+2.*np.sum(fvals[1:Nind]))"
   ]
  },
  {
   "cell_type": "code",
   "execution_count": 14,
   "metadata": {},
   "outputs": [
    {
     "name": "stdout",
     "output_type": "stream",
     "text": [
      "0.459693863311\n",
      "0.459697694132\n"
     ]
    }
   ],
   "source": [
    "def f(xvals):\n",
    "    fvals = np.sin(xvals)\n",
    "    return fvals\n",
    "print trapezoid_method(0.,1.,100.,f)\n",
    "print 1. - np.cos(1.)"
   ]
  },
  {
   "cell_type": "markdown",
   "metadata": {},
   "source": [
    "### Error Analysis for the Trapezoid Method\n",
    "\n",
    "If we denote the approximation to $T_{[a,b]}(f)$ via the Trapezoid Method as $A_{N}(f)$, we want to figure out how the difference between these two things behaves as a function of $N$, or equivalently, $\\delta x$.  We suppose that \n",
    "\n",
    "$$\n",
    "T_{[a,b]}(f) = A_{N}(f) + C\\left(\\delta x\\right)^{p}, ~ \\delta x = \\frac{b-a}{N}.\n",
    "$$\n",
    "\n",
    "So how can we find $p$?  Well, our friend the logarithm returns since we see that \n",
    "\n",
    "$$\n",
    "\\log_{10}\\left|T_{[a,b]}(f) - A_{N}(f) \\right| = \\log_{10}C + p\\left(\\log_{10}(b-a) - \\log_{10} N \\right)\n",
    "$$\n",
    "\n",
    "Thus, if we compare the log of the error to the log of the number of intervals in our mesh, then the slope of that line should be the rate of decay, or how the error decreases as we increase the number of points in the mesh. \n",
    "\n",
    "_ Problem _: Write code to find $p$.  This means you need to think of a test case for which you know the answer and then generate a series of comparisons which allow you to infer a trend.  "
   ]
  },
  {
   "cell_type": "code",
   "execution_count": 19,
   "metadata": {
    "collapsed": true
   },
   "outputs": [],
   "source": [
    "def error_test(a,b,f):\n",
    "    tval = 0.\n",
    "    Nvals = np.array([1e1, 1e2, 1e3, 1e4, 1e5, 1e6])\n",
    "    Evals = np.zeros(Nvals.size)\n",
    "    for jj in xrange(0,Nvals.size):\n",
    "        Evals[jj] = np.log10(np.abs(tval - trapezoid_method(a,b,Nvals[jj],f)))\n",
    "    xvals = np.log10(Nvals)\n",
    "    plt.plot(xvals,Evals)\n",
    "    novals = Evals.size\n",
    "    slopes = (Evals[1:]-Evals[0:novals-1])/(xvals[1:]-xvals[0:novals-1])\n",
    "    print np.min(slopes)\n",
    "    print np.max(slopes)\n",
    "    print np.mean(slopes)"
   ]
  },
  {
   "cell_type": "code",
   "execution_count": 18,
   "metadata": {},
   "outputs": [
    {
     "name": "stdout",
     "output_type": "stream",
     "text": [
      "-2.0000716698\n",
      "-2.00000008244\n",
      "-2.0000268296\n"
     ]
    },
    {
     "data": {
      "image/png": "[encoded data removed]",
      "text/plain": [
       "<matplotlib.figure.Figure at 0x70bb4e7e4b10>"
      ]
     },
     "metadata": {},
     "output_type": "display_data"
    }
   ],
   "source": [
    "error_test(0.,2.*np.pi,f)"
   ]
  },
  {
   "cell_type": "code",
   "execution_count": null,
   "metadata": {
    "collapsed": true
   },
   "outputs": [],
   "source": []
  }
 ],
 "metadata": {
  "kernelspec": {
   "display_name": "Python 2",
   "language": "python",
   "name": "python2"
  },
  "language_info": {
   "codemirror_mode": {
    "name": "ipython",
    "version": 2
   },
   "file_extension": ".py",
   "mimetype": "text/x-python",
   "name": "python",
   "nbconvert_exporter": "python",
   "pygments_lexer": "ipython2",
   "version": "2.7.13"
  }
 },
 "nbformat": 4,
 "nbformat_minor": 2
}
