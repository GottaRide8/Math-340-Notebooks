{
 "cells": [
  {
   "cell_type": "code",
   "execution_count": 15,
   "metadata": {
    "collapsed": true
   },
   "outputs": [],
   "source": [
    "import numpy as np\n",
    "import matplotlib.pyplot as plt\n",
    "from scipy.misc import factorial as sfactorial\n",
    "%matplotlib inline"
   ]
  },
  {
   "cell_type": "code",
   "execution_count": 16,
   "metadata": {},
   "outputs": [
    {
     "name": "stdout",
     "output_type": "stream",
     "text": [
      "6.0\n"
     ]
    }
   ],
   "source": [
    "print sfactorial(3)"
   ]
  },
  {
   "cell_type": "markdown",
   "metadata": {},
   "source": [
    "# Part 2.5 - Lists vs Numpy Arrays\n",
    "\n",
    "Okay, within Python, we have different types.  For example "
   ]
  },
  {
   "cell_type": "code",
   "execution_count": 1,
   "metadata": {},
   "outputs": [
    {
     "name": "stdout",
     "output_type": "stream",
     "text": [
      "<type 'int'>\n",
      "<type 'float'>\n",
      "<type 'str'>\n",
      "\n",
      "<type 'list'>\n",
      "<type 'list'>\n",
      "<type 'list'>\n",
      "\n",
      "<type 'int'>\n",
      "<type 'float'>\n",
      "<type 'str'>\n"
     ]
    }
   ],
   "source": [
    "x = 1\n",
    "y = 1.\n",
    "z = \"Hi\"\n",
    "\n",
    "xlist = [1,2,3]\n",
    "ylist = [1.,2.,3.]\n",
    "zlist = [\"Hi\",\"Howdy\",\"Hello\"]\n",
    "\n",
    "print type(x)\n",
    "print type(y)\n",
    "print type(z)\n",
    "print\n",
    "print type(xlist)\n",
    "print type(ylist)\n",
    "print type(zlist)\n",
    "print\n",
    "print type(xlist[0])\n",
    "print type(ylist[0])\n",
    "print type(zlist[0])"
   ]
  },
  {
   "cell_type": "markdown",
   "metadata": {},
   "source": [
    "But since this is a scientific computation class, we have another type.  It is the NumPy Array.  You have seen this before with the command `np.linspace`.  In more detail, when we write the assignment statement\n",
    "`\n",
    "xvals = np.linspace(a,b,n)\n",
    "`\n",
    "\n",
    "we create an array of points `xvals[j]` such that \n",
    "\n",
    "`\n",
    "xvals[j] = a + (b-a)*j/(n-1), j=0,...,n-1.\n",
    "`\n",
    "\n",
    "Now, this part is important.  Note that "
   ]
  },
  {
   "cell_type": "code",
   "execution_count": 3,
   "metadata": {},
   "outputs": [
    {
     "name": "stdout",
     "output_type": "stream",
     "text": [
      "<type 'numpy.ndarray'>\n"
     ]
    }
   ],
   "source": [
    "xvals = np.linspace(-2.,2.,int(1e1)+1)\n",
    "\n",
    "print type(xvals)"
   ]
  },
  {
   "cell_type": "markdown",
   "metadata": {},
   "source": [
    "So a NumPy array really is not just a Python list.  And the difference is huge.  In NumPy, I can do arithmetic on arrays.  I cannot do arithmetic on Python lists.  Let me show you what I mean."
   ]
  },
  {
   "cell_type": "code",
   "execution_count": 4,
   "metadata": {},
   "outputs": [
    {
     "name": "stdout",
     "output_type": "stream",
     "text": [
      "<type 'numpy.ndarray'>\n",
      "<type 'list'>\n",
      "<type 'numpy.ndarray'>\n"
     ]
    },
    {
     "ename": "TypeError",
     "evalue": "unsupported operand type(s) for -: 'list' and 'list'",
     "output_type": "error",
     "traceback": [
      "\u001b[0;31m---------------------------------------------------------------------------\u001b[0m",
      "\u001b[0;31mTypeError\u001b[0m                                 Traceback (most recent call last)",
      "\u001b[0;32m<ipython-input-4-6c66d2e15204>\u001b[0m in \u001b[0;36m<module>\u001b[0;34m()\u001b[0m\n\u001b[1;32m      2\u001b[0m \u001b[0;32mprint\u001b[0m \u001b[0mtype\u001b[0m\u001b[0;34m(\u001b[0m\u001b[0mlist\u001b[0m\u001b[0;34m(\u001b[0m\u001b[0mxvals\u001b[0m\u001b[0;34m)\u001b[0m\u001b[0;34m)\u001b[0m\u001b[0;34m\u001b[0m\u001b[0m\n\u001b[1;32m      3\u001b[0m \u001b[0;32mprint\u001b[0m \u001b[0mtype\u001b[0m\u001b[0;34m(\u001b[0m\u001b[0mnp\u001b[0m\u001b[0;34m.\u001b[0m\u001b[0marray\u001b[0m\u001b[0;34m(\u001b[0m\u001b[0mlist\u001b[0m\u001b[0;34m(\u001b[0m\u001b[0mxvals\u001b[0m\u001b[0;34m)\u001b[0m\u001b[0;34m)\u001b[0m\u001b[0;34m)\u001b[0m\u001b[0;34m\u001b[0m\u001b[0m\n\u001b[0;32m----> 4\u001b[0;31m \u001b[0;32mprint\u001b[0m \u001b[0mtype\u001b[0m\u001b[0;34m(\u001b[0m\u001b[0mlist\u001b[0m\u001b[0;34m(\u001b[0m\u001b[0mxvals\u001b[0m\u001b[0;34m)\u001b[0m\u001b[0;34m-\u001b[0m\u001b[0mlist\u001b[0m\u001b[0;34m(\u001b[0m\u001b[0mxvals\u001b[0m\u001b[0;34m)\u001b[0m\u001b[0;34m)\u001b[0m\u001b[0;34m\u001b[0m\u001b[0m\n\u001b[0m",
      "\u001b[0;31mTypeError\u001b[0m: unsupported operand type(s) for -: 'list' and 'list'"
     ]
    }
   ],
   "source": [
    "print type(xvals-xvals)\n",
    "print type(list(xvals))\n",
    "print type(np.array(list(xvals)))\n",
    "print type(list(xvals)-list(xvals))"
   ]
  },
  {
   "cell_type": "markdown",
   "metadata": {},
   "source": [
    "# Part 3 - Loops and Iteration \n",
    "\n",
    "## While Loops and Log Plots\n",
    "\n",
    "Refer to Chapters 12 and 19 of the textbook for help and further examples. \n",
    "\n",
    "So, now that we have put some math under our proverbial belts, lets think about how to use Python to implement much of what we have been studying.  To do this we need to make use of what are called while and for loops.  We have already seen these, but let's now think about them in more detail.  Roughly speaking, the difference is that while loops go until something is no longer true.  For example "
   ]
  },
  {
   "cell_type": "code",
   "execution_count": 5,
   "metadata": {},
   "outputs": [
    {
     "name": "stdout",
     "output_type": "stream",
     "text": [
      "Hello World\n",
      "Hello World\n",
      "Hello World\n",
      "Hello World\n",
      "Hello World\n"
     ]
    }
   ],
   "source": [
    "count = 1\n",
    "while count<=5: \n",
    "    print \"Hello World\"\n",
    "    count = count + 1"
   ]
  },
  {
   "cell_type": "markdown",
   "metadata": {},
   "source": [
    "Statements like \n",
    "\n",
    "`count = count + 1`\n",
    "\n",
    "are usually shortened to \n",
    "\n",
    "`count+=1`\n",
    "\n",
    "so "
   ]
  },
  {
   "cell_type": "code",
   "execution_count": 6,
   "metadata": {},
   "outputs": [
    {
     "name": "stdout",
     "output_type": "stream",
     "text": [
      "Hello World\n",
      "Hello World\n",
      "Hello World\n",
      "Hello World\n",
      "Hello World\n"
     ]
    }
   ],
   "source": [
    "count = 1\n",
    "while count<=5: \n",
    "    print \"Hello World\"\n",
    "    count+=1"
   ]
  },
  {
   "cell_type": "markdown",
   "metadata": {},
   "source": [
    "So, let's say we wanted to compute the Taylor series around $x_{0}=0$ of $e^{x}$, which is given by \n",
    "\n",
    "$$\n",
    "e^{x} = \\sum_{j=0}^{\\infty} \\frac{x^{j}}{j!}.\n",
    "$$\n",
    "\n",
    "The idea here is to keep adding terms until a term, say $x^{j}/j!$ is, in magnitude, smaller than some specified tolerance, say `tol`.  In otherwords\n",
    "\n",
    "`while np.abs(aj) >= tol: keep doing stuff`\n",
    "\n",
    "Here the variable `aj` stands for $x^{j}/j!$.  The variable `tol` is the value we use to determine whether a given term is too small in order to keep iterating. \n",
    "\n",
    "To keep going, we note that if we write \n",
    "\n",
    "$$\n",
    "e^{x} = \\sum_{j=0}^{\\infty}a_{j}(x),\n",
    "$$\n",
    "\n",
    "then we see that \n",
    "\n",
    "$$\n",
    "\\frac{a_{j}(x)}{a_{j-1}(x)} = \\frac{x}{j},\n",
    "$$\n",
    "\n",
    "or \n",
    "\n",
    "$$\n",
    "a_{j}(x) = \\left\\{\n",
    "\\begin{array}{rl}\n",
    "\\frac{x}{j} a_{j-1}(x) & j\\geq 1\\\\\n",
    "1 & j=0\n",
    "\\end{array}\n",
    "\\right.\n",
    "$$\n",
    "\n",
    "So, if put this all together, to make this work in Python, we write "
   ]
  },
  {
   "cell_type": "code",
   "execution_count": 22,
   "metadata": {
    "collapsed": true
   },
   "outputs": [],
   "source": [
    "def exp_func(x,tol):\n",
    "    tot = np.ones(x.size)\n",
    "    aj = np.ones(x.size)\n",
    "    j = 1\n",
    "    while np.max(np.abs(aj))>=tol:\n",
    "        aj *= x/j\n",
    "        tot += aj\n",
    "        j += 1\n",
    "    return tot"
   ]
  },
  {
   "cell_type": "markdown",
   "metadata": {},
   "source": [
    "But how accurate is it?  Well let's compare our function to $e^{x}$ over $-2\\leq x \\leq 2$ for the tolerance values \n",
    "\n",
    "`\n",
    "tol = 1e-5, 1e-6, 1e-7\n",
    "`"
   ]
  },
  {
   "cell_type": "code",
   "execution_count": 23,
   "metadata": {},
   "outputs": [
    {
     "ename": "TypeError",
     "evalue": "'int' object is not callable",
     "output_type": "error",
     "traceback": [
      "\u001b[0;31m---------------------------------------------------------------------------\u001b[0m",
      "\u001b[0;31mTypeError\u001b[0m                                 Traceback (most recent call last)",
      "\u001b[0;32m<ipython-input-23-becc8d152bc7>\u001b[0m in \u001b[0;36m<module>\u001b[0;34m()\u001b[0m\n\u001b[1;32m      1\u001b[0m \u001b[0mxvals\u001b[0m \u001b[0;34m=\u001b[0m \u001b[0mnp\u001b[0m\u001b[0;34m.\u001b[0m\u001b[0mlinspace\u001b[0m\u001b[0;34m(\u001b[0m\u001b[0;34m-\u001b[0m\u001b[0;36m2.\u001b[0m\u001b[0;34m,\u001b[0m\u001b[0;36m2.\u001b[0m\u001b[0;34m,\u001b[0m\u001b[0mint\u001b[0m\u001b[0;34m(\u001b[0m\u001b[0;36m1e3\u001b[0m\u001b[0;34m)\u001b[0m\u001b[0;34m)\u001b[0m\u001b[0;34m\u001b[0m\u001b[0m\n\u001b[1;32m      2\u001b[0m \u001b[0myvalst\u001b[0m \u001b[0;34m=\u001b[0m \u001b[0mnp\u001b[0m\u001b[0;34m.\u001b[0m\u001b[0mexp\u001b[0m\u001b[0;34m(\u001b[0m\u001b[0mxvals\u001b[0m\u001b[0;34m)\u001b[0m\u001b[0;34m\u001b[0m\u001b[0m\n\u001b[0;32m----> 3\u001b[0;31m \u001b[0myvals1\u001b[0m \u001b[0;34m=\u001b[0m \u001b[0mexp_func\u001b[0m\u001b[0;34m(\u001b[0m\u001b[0mxvals\u001b[0m\u001b[0;34m,\u001b[0m\u001b[0;36m1e-5\u001b[0m\u001b[0;34m)\u001b[0m\u001b[0;34m\u001b[0m\u001b[0m\n\u001b[0m\u001b[1;32m      4\u001b[0m \u001b[0myvals2\u001b[0m \u001b[0;34m=\u001b[0m \u001b[0mexp_func\u001b[0m\u001b[0;34m(\u001b[0m\u001b[0mxvals\u001b[0m\u001b[0;34m,\u001b[0m\u001b[0;36m1e-6\u001b[0m\u001b[0;34m)\u001b[0m\u001b[0;34m\u001b[0m\u001b[0m\n\u001b[1;32m      5\u001b[0m \u001b[0myvals3\u001b[0m \u001b[0;34m=\u001b[0m \u001b[0mexp_func\u001b[0m\u001b[0;34m(\u001b[0m\u001b[0mxvals\u001b[0m\u001b[0;34m,\u001b[0m\u001b[0;36m1e-7\u001b[0m\u001b[0;34m)\u001b[0m\u001b[0;34m\u001b[0m\u001b[0m\n",
      "\u001b[0;32m<ipython-input-22-c2394d7a87a9>\u001b[0m in \u001b[0;36mexp_func\u001b[0;34m(x, tol)\u001b[0m\n\u001b[1;32m      1\u001b[0m \u001b[0;32mdef\u001b[0m \u001b[0mexp_func\u001b[0m\u001b[0;34m(\u001b[0m\u001b[0mx\u001b[0m\u001b[0;34m,\u001b[0m\u001b[0mtol\u001b[0m\u001b[0;34m)\u001b[0m\u001b[0;34m:\u001b[0m\u001b[0;34m\u001b[0m\u001b[0m\n\u001b[0;32m----> 2\u001b[0;31m     \u001b[0mtot\u001b[0m \u001b[0;34m=\u001b[0m \u001b[0mnp\u001b[0m\u001b[0;34m.\u001b[0m\u001b[0mones\u001b[0m\u001b[0;34m(\u001b[0m\u001b[0mx\u001b[0m\u001b[0;34m.\u001b[0m\u001b[0msize\u001b[0m\u001b[0;34m(\u001b[0m\u001b[0;34m)\u001b[0m\u001b[0;34m)\u001b[0m\u001b[0;34m\u001b[0m\u001b[0m\n\u001b[0m\u001b[1;32m      3\u001b[0m     \u001b[0maj\u001b[0m \u001b[0;34m=\u001b[0m \u001b[0mnp\u001b[0m\u001b[0;34m.\u001b[0m\u001b[0mones\u001b[0m\u001b[0;34m(\u001b[0m\u001b[0mx\u001b[0m\u001b[0;34m.\u001b[0m\u001b[0msize\u001b[0m\u001b[0;34m(\u001b[0m\u001b[0;34m)\u001b[0m\u001b[0;34m)\u001b[0m\u001b[0;34m\u001b[0m\u001b[0m\n\u001b[1;32m      4\u001b[0m     \u001b[0mj\u001b[0m \u001b[0;34m=\u001b[0m \u001b[0;36m1\u001b[0m\u001b[0;34m\u001b[0m\u001b[0m\n\u001b[1;32m      5\u001b[0m     \u001b[0;32mwhile\u001b[0m \u001b[0mnp\u001b[0m\u001b[0;34m.\u001b[0m\u001b[0mmax\u001b[0m\u001b[0;34m(\u001b[0m\u001b[0mnp\u001b[0m\u001b[0;34m.\u001b[0m\u001b[0mabs\u001b[0m\u001b[0;34m(\u001b[0m\u001b[0maj\u001b[0m\u001b[0;34m)\u001b[0m\u001b[0;34m)\u001b[0m\u001b[0;34m>=\u001b[0m\u001b[0mtol\u001b[0m\u001b[0;34m:\u001b[0m\u001b[0;34m\u001b[0m\u001b[0m\n",
      "\u001b[0;31mTypeError\u001b[0m: 'int' object is not callable"
     ]
    }
   ],
   "source": [
    "xvals = np.linspace(-2.,2.,int(1e3))\n",
    "yvalst = np.exp(xvals)\n",
    "yvals1 = exp_func(xvals,1e-5)\n",
    "yvals2 = exp_func(xvals,1e-6) \n",
    "yvals3 = exp_func(xvals,1e-7) \n",
    "\n",
    "plt.plot(xvals,yvalst,color='k')\n",
    "plt.plot(xvals,yvals1,color='r',ls='--')\n",
    "plt.plot(xvals,yvals2,color='b',ls='--')\n",
    "plt.plot(xvals,yvals3,color='g',ls='--')\n",
    "\n",
    "plt.xlabel('$x$')\n",
    "plt.ylabel('$e^{x}$')"
   ]
  },
  {
   "cell_type": "markdown",
   "metadata": {},
   "source": [
    "Note, the command \n",
    "\n",
    "`\n",
    "yvals1 = np.array([exp_func(xval,1e-5) for xval in xvals]) \n",
    "`\n",
    "generates a list of points via list comprehension, i.e. the `[exp_func(xval,1e-5) for xval in xvals]`, and then we _cast_ the Python type list into a numpy array via the command `np.array()`.  \n",
    "\n",
    "Okay, they all look the same.  Maybe we should look at differences between true values and our approximate values.  Write code below to determine the error in your approximation."
   ]
  },
  {
   "cell_type": "code",
   "execution_count": 10,
   "metadata": {},
   "outputs": [
    {
     "data": {
      "text/plain": [
       "[<matplotlib.lines.Line2D at 0x7975b3005ed0>]"
      ]
     },
     "execution_count": 10,
     "metadata": {},
     "output_type": "execute_result"
    },
    {
     "data": {
      "image/png": "[encoded data removed]",
      "text/plain": [
       "<matplotlib.figure.Figure at 0x7975b57a6c50>"
      ]
     },
     "metadata": {},
     "output_type": "display_data"
    }
   ],
   "source": [
    "e1 = np.abs(yvalst - yvals1)\n",
    "e2 = np.abs(yvalst - yvals2)\n",
    "e3 = np.abs(yvalst - yvals3)\n",
    "\n",
    "plt.plot(xvals,e1)\n",
    "plt.plot(xvals,e2)\n",
    "plt.plot(xvals,e3)"
   ]
  },
  {
   "cell_type": "markdown",
   "metadata": {},
   "source": [
    "Okay, that kind of helps us see a trend in behavior, but we can do better.  If you remember, \n",
    "\n",
    "$$\n",
    "\\log_{10}10^{-m} = -m\n",
    "$$\n",
    "\n",
    "then, if we are trying to plot errors on the order of $10^{-5},10^{-6},10^{-7}$, if we plotted \n",
    "\n",
    "`\n",
    "e1 = np.log10(np.abs(yvalst - yvals1))\n",
    "`\n",
    "\n",
    "then we get "
   ]
  },
  {
   "cell_type": "code",
   "execution_count": 11,
   "metadata": {},
   "outputs": [
    {
     "data": {
      "text/plain": [
       "[<matplotlib.lines.Line2D at 0x7975b2ee7710>]"
      ]
     },
     "execution_count": 11,
     "metadata": {},
     "output_type": "execute_result"
    },
    {
     "data": {
      "image/png": "[encoded data removed]",
      "text/plain": [
       "<matplotlib.figure.Figure at 0x7975b2fb5b90>"
      ]
     },
     "metadata": {},
     "output_type": "display_data"
    }
   ],
   "source": [
    "e1 = np.log10(np.abs(yvalst - yvals1))\n",
    "e2 = np.log10(np.abs(yvalst - yvals2))\n",
    "e3 = np.log10(np.abs(yvalst - yvals3))\n",
    "\n",
    "plt.plot(xvals,e1)\n",
    "plt.plot(xvals,e2)\n",
    "plt.plot(xvals,e3)"
   ]
  },
  {
   "cell_type": "markdown",
   "metadata": {},
   "source": [
    "Redo your error plots as semi-log plots.  "
   ]
  },
  {
   "cell_type": "code",
   "execution_count": null,
   "metadata": {
    "collapsed": true
   },
   "outputs": [],
   "source": [
    "def bessel_func(x,n,tol):\n",
    "    "
   ]
  },
  {
   "cell_type": "code",
   "execution_count": null,
   "metadata": {
    "collapsed": true
   },
   "outputs": [],
   "source": []
  },
  {
   "cell_type": "markdown",
   "metadata": {},
   "source": [
    "## For Loops\n",
    "\n",
    "In contrast, a for loop starts at a point, and goes until another one.  So for example, if we create a list of words"
   ]
  },
  {
   "cell_type": "code",
   "execution_count": null,
   "metadata": {
    "collapsed": true
   },
   "outputs": [],
   "source": [
    "hal = [\"Hello\",\"Dave,\",\"would\",\"you\",\"like\",\"to\",\"play\",\"a\",\"game\",\"of\",\"chess?\"]"
   ]
  },
  {
   "cell_type": "markdown",
   "metadata": {},
   "source": [
    "How would we write code to print out each word.  Well, we could do it index by index.  What I mean by this is we could write "
   ]
  },
  {
   "cell_type": "code",
   "execution_count": null,
   "metadata": {
    "collapsed": true
   },
   "outputs": [],
   "source": [
    "print hal[0]\n",
    "print hal[1]\n",
    "print hal[len(hal)-1]"
   ]
  },
  {
   "cell_type": "markdown",
   "metadata": {},
   "source": [
    "Okay, you got me, I started getting bored.  But there are some important things to note here.  One, when we iterate over a list, we always start counting from `0`, thus why the _ first _ entry of the list `hal` is given by \n",
    "\n",
    "`hal[0]`\n",
    "\n",
    "Now, this means that when we want to get to the last entry of the list, though the length of the list `hal` is given by \n",
    "\n",
    "`len(hal)`\n",
    "\n",
    "the last entry is at an index that is one less than the total length.   \n",
    "\n",
    "`hal[len(hal)-1]`\n",
    "\n",
    "Now, if we want to print out the entries of `hal` we can use a for loop such as "
   ]
  },
  {
   "cell_type": "code",
   "execution_count": null,
   "metadata": {
    "collapsed": true
   },
   "outputs": [],
   "source": [
    "for jj in xrange(0,len(hal)):\n",
    "    print hal[jj]"
   ]
  },
  {
   "cell_type": "markdown",
   "metadata": {},
   "source": [
    "Ask yourself, does the index `jj` ever equal `len(hal)`?  Run the command "
   ]
  },
  {
   "cell_type": "code",
   "execution_count": null,
   "metadata": {
    "collapsed": true
   },
   "outputs": [],
   "source": [
    "print range(0,len(hal))"
   ]
  },
  {
   "cell_type": "markdown",
   "metadata": {},
   "source": [
    "and from this determine what `len(hal)` is."
   ]
  },
  {
   "cell_type": "markdown",
   "metadata": {},
   "source": [
    "In Python, we can alternatively iterate over values as opposed to indices of lists.  What I mean by this is we can write "
   ]
  },
  {
   "cell_type": "code",
   "execution_count": null,
   "metadata": {
    "collapsed": true
   },
   "outputs": [],
   "source": [
    "for word in hal: # Note, the variable 'word' is defined within the statement of the for loop. \n",
    "    print word"
   ]
  },
  {
   "cell_type": "markdown",
   "metadata": {},
   "source": [
    "This iteration by value is very convenient, and makes some things in Python really, really easy.  For example, what if we wanted to plot the step function $H(x)$ where \n",
    "\n",
    "$$\n",
    "H(x) = \\left\\{\n",
    "\\begin{array}{rl}\n",
    "1 & x\\geq0 \\\\\n",
    "-1 & x<0\n",
    "\\end{array}\n",
    "\\right.\n",
    "$$"
   ]
  },
  {
   "cell_type": "code",
   "execution_count": null,
   "metadata": {
    "collapsed": true
   },
   "outputs": [],
   "source": [
    "def step_func(x):\n",
    "    if x>=0:\n",
    "        return 1.\n",
    "    else:\n",
    "        return -1."
   ]
  },
  {
   "cell_type": "code",
   "execution_count": null,
   "metadata": {
    "collapsed": true
   },
   "outputs": [],
   "source": [
    "xvals = np.linspace(-10.,10.,int(1e4))\n",
    "yvals = [step_func(xval) for xval in xvals] # Note use of list comprehension to generate range of function.\n",
    "\n",
    "plt.plot(xvals,yvals)"
   ]
  }
 ],
 "metadata": {
  "kernelspec": {
   "display_name": "Python 2",
   "language": "python",
   "name": "python2"
  },
  "language_info": {
   "codemirror_mode": {
    "name": "ipython",
    "version": 2
   },
   "file_extension": ".py",
   "mimetype": "text/x-python",
   "name": "python",
   "nbconvert_exporter": "python",
   "pygments_lexer": "ipython2",
   "version": "2.7.13"
  }
 },
 "nbformat": 4,
 "nbformat_minor": 2
}
