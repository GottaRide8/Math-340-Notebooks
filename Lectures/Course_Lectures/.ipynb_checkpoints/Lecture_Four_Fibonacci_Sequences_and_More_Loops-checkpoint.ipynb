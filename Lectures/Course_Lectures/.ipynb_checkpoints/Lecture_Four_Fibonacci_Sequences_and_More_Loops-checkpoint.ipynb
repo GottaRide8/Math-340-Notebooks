{
 "cells": [
  {
   "cell_type": "code",
   "execution_count": 6,
   "metadata": {
    "collapsed": true
   },
   "outputs": [],
   "source": [
    "import numpy as np\n",
    "import matplotlib.pyplot as plt\n",
    "from scipy.misc import factorial as sfactorial\n",
    "from copy import copy\n",
    "from time import time\n",
    "%matplotlib inline"
   ]
  },
  {
   "cell_type": "markdown",
   "metadata": {},
   "source": [
    "# Fibonacci Sequences and More Loops\n",
    "\n",
    "I would be remiss if I were to teach a class on programming in mathematics and not present the Fibonacci sequence.  Originally motivated by a desire to model population growth, the Fibonnaci sequence is given by the _ recurrence relation _ \n",
    "\n",
    "$$\n",
    "p_{n} = p_{n-1} + p_{n-2}, ~ n\\geq 2,\n",
    "$$\n",
    "\n",
    "where we start the recurrence relation with the _ intial conditions _ \n",
    "\n",
    "$$\n",
    "p_{0}=p_{1}=1.  \n",
    "$$\n",
    "\n",
    "What this means is \n",
    "\n",
    "$$\n",
    "p_{2} = p_{1} + p_{0} = 1 + 1 = 2,\n",
    "$$\n",
    "\n",
    "$$\n",
    "p_{3} = p_{2} + p_{1} = 2 + 1 = 3,\n",
    "$$\n",
    "\n",
    "and so forth, thereby generating the classic sequence \n",
    "\n",
    "$$\n",
    "1,1,2,3,5,8,13,21,34,\\cdots\n",
    "$$\n",
    "\n",
    "So while we can readily understand how to generate the sequence term-by-term, we can ask the related question, given some arbitrary value of $n$, what is $p_{n}$?  At this point, you must acknowledge that a computer may come in handy.  To answer this question, we use the bit of code provided just below.   "
   ]
  },
  {
   "cell_type": "code",
   "execution_count": 3,
   "metadata": {
    "collapsed": true
   },
   "outputs": [],
   "source": [
    "def fibo_seq(n):\n",
    "    if n>=2:\n",
    "        p0=1\n",
    "        p1=1\n",
    "        for jj in xrange(0,n-1):\n",
    "            p2=p1+p0\n",
    "            p0=p1\n",
    "            p1=p2\n",
    "        return p2\n",
    "    else:\n",
    "        return 1"
   ]
  },
  {
   "cell_type": "markdown",
   "metadata": {},
   "source": [
    "The key thing to take away from this is the bit of code \n",
    "\n",
    "`\n",
    "p2=p1+p0\n",
    "p0=p1\n",
    "p1=p2\n",
    "`\n",
    "\n",
    "which is how we implement \n",
    "\n",
    "\\begin{align}\n",
    "p_{n} = & p_{n-1} + p_{n-2}\\\\\n",
    "p_{n+1} = & p_{n} + p_{n-1}\n",
    "\\end{align}\n",
    "\n",
    "where we write out two iterations of the recurrence relation in order to see how what are computed values, i.e. $p_{n}$ or `p2` becomes the next prior values in the next iteration.  \n",
    "\n",
    "Running our code, we then get for $n=1000$,"
   ]
  },
  {
   "cell_type": "code",
   "execution_count": 4,
   "metadata": {},
   "outputs": [
    {
     "name": "stdout",
     "output_type": "stream",
     "text": [
      "70330367711422815821835254877183549770181269836358732742604905087154537118196933579742249494562611733487750449241765991088186363265450223647106012053374121273867339111198139373125598767690091902245245323403501\n"
     ]
    }
   ],
   "source": [
    "print fibo_seq(1000)"
   ]
  },
  {
   "cell_type": "markdown",
   "metadata": {},
   "source": [
    "which is an absurd number.  So, while we have an answer to our original question, we maybe do not have as useful of an answer as we would like.  \n",
    "\n",
    "In order to get something a little more interesting then, we will actually solve the recurrence relation which generates the Fibonacci sequence.  This means we will find a function $\\phi(x)$ such that\n",
    "\n",
    "$$\n",
    "p_{n} = \\phi(n), ~ \\phi(0)=\\phi(1) = 1.\n",
    "$$\n",
    "\n",
    "To do this, we make a guess, or _ ansatz _ for the form of $\\phi$.  The guess we make is\n",
    "\n",
    "$$\n",
    "p_{n} = \\lambda^{n}, \n",
    "$$\n",
    "\n",
    "where $\\lambda$ is just some number.  If our guess represents a solution to our recurrence relation, then it must necessarily be the case that \n",
    "\n",
    "\\begin{align}\n",
    "\\lambda^{n} = & \\lambda^{n-1} + \\lambda^{n-2}\\\\\n",
    "\\lambda^{n} = & \\lambda^{n}\\lambda^{-1} + \\lambda^{n}\\lambda^{-2}\\\\\n",
    "\\lambda^{n} = & \\lambda^{n}\\left(\\lambda^{-1}+\\lambda^{-2}\\right)\\\\\n",
    "1 = & \\lambda^{-1} + \\lambda^{-2}\\\\\n",
    "\\lambda^{2} = & \\lambda + 1\n",
    "\\end{align}\n",
    "\n",
    "and so we can find \n",
    "\n",
    "$$\n",
    "\\lambda_{\\pm} = \\frac{1}{2}\\left(1\\pm\\sqrt{5}\\right).\n",
    "$$\n",
    "\n",
    "On the one hand then, our guess has proven quite successful.  We wanted to find a number $\\lambda$ which, when exponentiated, allowed us to solve the Fibonacci recurrence relation.  However, on the other hand, what is disconcerting is that we have not found just one answer, but two.  So which do we pick?  The answer is, effectively, both, so that we write\n",
    "\n",
    "$$\n",
    "p_{n} = c_{+}\\lambda_{+}^{n} + c_{-}\\lambda_{-}^{n}.\n",
    "$$\n",
    "\n",
    "Note, we make no assumptions yet about the constants $c_{\\pm}$ aside from that they are just numbers, but keep in mind, they do not depend on $n$.  We have therefore solved for the dynamics, i.e. we know how $p_{n}$ changes from one value of $n$ to the other, so the lion's share of the work has been done.  However, it would still be nice to know what $c_{\\pm}$ are.  To do this, we need to use the initial conditions $p_{0}=p_{1}=1$.  Setting $n=0$, we have\n",
    "\n",
    "$$\n",
    "p_{0} = c_{+} + c_{-} = 1\n",
    "$$\n",
    "\n",
    "which shows that $c_{-} = 1-c_{+}$, which means that we can now write our solution $p_{n}$ as \n",
    "\n",
    "$$\n",
    "p_{n} = c_{+}\\lambda_{+}^{n} + (1-c_{+})\\lambda_{-}^{n}.\n",
    "$$\n",
    "\n",
    "What we see from this is that using one initial condition has reduced the number of unknown variables to just one.  Thus, to get the last unknown to disappear we use $p_{1}=1$, so that \n",
    "\n",
    "$$\n",
    "p_{1} = c_{+}\\lambda_{+} + (1-c_{+})\\lambda_{-} = 1.\n",
    "$$\n",
    "\n",
    "_ Problem _: What is $c_{+}$?\n",
    "\n",
    "So fab, we now have an exact representation of $p_{n}$ for $n\\geq 0$.  What can we do with it though that we couldn't really do with our code above, because just to be clear, all we've done in some sense is speed the code up since now we can just plug in a value $n$ and get an answer.  \n",
    "\n",
    "To address this issue then, we now suppose that $n\\gg 1$, or in other words, we suppose that $n$ is really, really large.  How large is in the eye of the beholder in some sense. But the point here is the following.  We can readily show that\n",
    "\n",
    "$$\n",
    "\\left|\\lambda_{+}\\right| > 1, ~ \\left|\\lambda_{-} \\right|<1\n",
    "$$\n",
    "\n",
    "Thus, for $n\\gg 1$, we see that \n",
    "\n",
    "$$\n",
    "p_{n} \\approx c_{+}\\lambda^{n}_{+}\n",
    "$$\n",
    "\n",
    "So, if we take a logarithm to both sides of this approximation, we get that\n",
    "\n",
    "$$\n",
    "\\log p_{n} \\approx \\log c_{+} + n \\log \\lambda_{+}\n",
    "$$\n",
    "\n",
    "and this is an equation of the form $y = mx + b$ where\n",
    "\n",
    "$$\n",
    "y = \\log p_{n}, ~ m = \\log \\lambda_{+}, ~ x = n, ~ b = \\log c_{+}.\n",
    "$$\n",
    "\n",
    "What this all means is that we are making a kind of prediction.  We are saying that if $n$ gets large enough, and we plot $\\log p_{n}$ against $n$, the equation should follow that of a straight line with slope $\\log \\lambda_{+}$.  How can we test that?  Well, we write more code of course.  \n",
    "\n",
    "In this case, we need to think about how to use NumPy arrays to store information as we iterate.  Thus, we might modify the code above by using "
   ]
  },
  {
   "cell_type": "code",
   "execution_count": 7,
   "metadata": {
    "collapsed": true
   },
   "outputs": [],
   "source": [
    "def fibo_seq(n):\n",
    "    pn = np.ones(n+1)\n",
    "    for jj in xrange(2,n+1):\n",
    "            pn[jj]=pn[jj-1]+pn[jj-2]\n",
    "    return pn"
   ]
  },
  {
   "cell_type": "markdown",
   "metadata": {},
   "source": [
    "_ Problem _: Using this code, generate plots which help you decide if the approximation and corresponding prediction we make above is reasonable."
   ]
  },
  {
   "cell_type": "code",
   "execution_count": 16,
   "metadata": {
    "collapsed": true
   },
   "outputs": [],
   "source": [
    "def fibo_seq_plt(ntrunc,n):\n",
    "    pn = fibo_seq(n)\n",
    "    yvals = np.log10(pn)\n",
    "    xvals = np.linspace(0,n,n+1)\n",
    "    plt.plot(xvals,yvals)\n",
    "    \n",
    "    ytrunc = yvals[ntrunc:]\n",
    "    xtrunc = xvals[ntrunc:]\n",
    "    \n",
    "    yp = ytrunc[1:]\n",
    "    ym = ytrunc[:ytrunc.size-1]\n",
    "    \n",
    "    print np.max(yp-ym)\n",
    "    print np.min(yp-ym)\n",
    "    print np.mean(yp-ym)\n",
    "    print np.log10(.5*(1.+np.sqrt(5.)))"
   ]
  },
  {
   "cell_type": "code",
   "execution_count": 17,
   "metadata": {},
   "outputs": [
    {
     "name": "stdout",
     "output_type": "stream",
     "text": [
      "0.210853365315\n",
      "0.208275942427\n",
      "0.209260003931\n",
      "0.20898764025\n"
     ]
    },
    {
     "data": {
      "image/png": "[encoded data removed]",
      "text/plain": [
       "<matplotlib.figure.Figure at 0x73053df351d0>"
      ]
     },
     "metadata": {},
     "output_type": "display_data"
    }
   ],
   "source": [
    "fibo_seq_plt(5,10)"
   ]
  },
  {
   "cell_type": "code",
   "execution_count": 18,
   "metadata": {},
   "outputs": [
    {
     "name": "stdout",
     "output_type": "stream",
     "text": [
      "0.208993428931\n",
      "0.20897248545\n",
      "0.208986543716\n",
      "0.20898764025\n"
     ]
    },
    {
     "data": {
      "image/png": "[encoded data removed]",
      "text/plain": [
       "<matplotlib.figure.Figure at 0x73053df0e3d0>"
      ]
     },
     "metadata": {},
     "output_type": "display_data"
    }
   ],
   "source": [
    "fibo_seq_plt(10,20)"
   ]
  },
  {
   "cell_type": "code",
   "execution_count": null,
   "metadata": {
    "collapsed": true
   },
   "outputs": [],
   "source": []
  }
 ],
 "metadata": {
  "kernelspec": {
   "display_name": "Python 2",
   "language": "python",
   "name": "python2"
  },
  "language_info": {
   "codemirror_mode": {
    "name": "ipython",
    "version": 2
   },
   "file_extension": ".py",
   "mimetype": "text/x-python",
   "name": "python",
   "nbconvert_exporter": "python",
   "pygments_lexer": "ipython2",
   "version": "2.7.13"
  }
 },
 "nbformat": 4,
 "nbformat_minor": 2
}
