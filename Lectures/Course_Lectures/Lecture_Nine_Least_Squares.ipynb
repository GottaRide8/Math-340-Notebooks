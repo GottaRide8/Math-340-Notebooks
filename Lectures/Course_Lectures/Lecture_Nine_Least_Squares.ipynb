{
 "cells": [
  {
   "cell_type": "markdown",
   "metadata": {},
   "source": [
    "# Least Squares for Data Fitting\n",
    "\n",
    "Okay, so we've talked a lot about interpolation, in which we want to fit a curve to move exactly through a set of nodes given by $\\left\\{x_{j},f_{j}\\right\\}_{j=0}^{n}$.  But now, suppose we have some idea that $f_{j}$ is noisy, i.e. \n",
    "\n",
    "$$\n",
    "f_{j} = f_{j}^{(tr)} + \\delta_{j}\n",
    "$$\n",
    "\n",
    "where $\\delta_{j}$ is some kind of noise or error.  In this case, we take a step back and, instead of trying to fit the data point for point, we want to find a way to fit the data using simple functions that get close to the information we have been given.  The classic way to do this is via linear regression.  In this case, we make the following assumption\n",
    "\n",
    "$$\n",
    "f_{j} = m x_{j} + b,\n",
    "$$\n",
    "\n",
    "i.e. we try to use a line to fit the data.  "
   ]
  }
 ],
 "metadata": {
  "kernelspec": {
   "display_name": "Python 2",
   "language": "python",
   "name": "python2"
  },
  "language_info": {
   "codemirror_mode": {
    "name": "ipython",
    "version": 2
   },
   "file_extension": ".py",
   "mimetype": "text/x-python",
   "name": "python",
   "nbconvert_exporter": "python",
   "pygments_lexer": "ipython2",
   "version": "2.7.13"
  }
 },
 "nbformat": 4,
 "nbformat_minor": 2
}
