{
 "cells": [
  {
   "cell_type": "code",
   "execution_count": 1,
   "metadata": {},
   "outputs": [],
   "source": [
    "import numpy as np\n",
    "import scipy.integrate as spqd\n",
    "import matplotlib.pyplot as plt\n",
    "%matplotlib inline"
   ]
  },
  {
   "cell_type": "markdown",
   "metadata": {},
   "source": [
    "# Part Two: Taylor Series \n",
    "\n",
    "You might remember from Calculus II the idea of a Taylor series associated with a function.  We are going to revisit that concept and expand on it since Taylor series will be a major part of this course.  So to get started, for a function $f(x)$ which is smooth, i.e. infinitely differentiable, in some interval say $[x_{0}-\\delta,x_{0}+\\delta]$, we say $f(x)$ has a Taylor series _ around _ $x_{0}$ if on the interval we can write\n",
    "\n",
    "$$\n",
    "f(x) = \\sum_{j=0}^{\\infty}\\left.\\frac{d^{j}f}{dx^{j}}\\right|_{x=x_{0}}\\frac{(x-x_{0})^{j}}{j!}, ~ x\\in[x_{0}-\\delta,x_{0}+\\delta].\n",
    "$$\n",
    "\n",
    "Classic examples of this are the Taylor series around $x_{0}=0$ (thus also known as _MacLaurin series_), for $\\sin(x)$, $\\cos(x)$, and $e^{x}$ which are \n",
    "\n",
    "\\begin{align*}\n",
    "\\sin(x) = & \\sum_{j=0}^{\\infty}\\frac{(-1)^{j}x^{2j+1}}{(2j+1)!}\\\\\n",
    "\\cos(x) = & \\sum_{j=0}^{\\infty}\\frac{(-1)^{j}x^{2j}}{(2j)!}\\\\\n",
    "e^{x} = & \\sum_{j=0}^{\\infty} \\frac{x^{j}}{j!}.\n",
    "\\end{align*}\n",
    "\n",
    "Here $\\delta = \\infty$, which doesn't strictly make sense, but only really means that we are saying the sums converge for any point $x\\in \\mathbb{R}$."
   ]
  },
  {
   "cell_type": "markdown",
   "metadata": {},
   "source": [
    "_Problem_: If $i$ is the imaginary number such that $i^{2}=-1$, then show Euler's formula \n",
    "\n",
    "$$\n",
    "e^{ix} = \\cos(x) + i \\sin(x).\n",
    "$$\n",
    "\n",
    "To do this, you need to use the fact that $i^{2}=-1$, $i^{3}=-i$, and $i^{4}=1$.  Then you need to use the fact that \n",
    "\n",
    "$$\n",
    "e^{ix} = \\sum_{j=0}^{\\infty}\\frac{i^{j}x^{j}}{j!}.\n",
    "$$"
   ]
  },
  {
   "cell_type": "markdown",
   "metadata": {},
   "source": [
    "Another classic result is the Taylor series for a geometric series.  This is given by \n",
    "\n",
    "$$\n",
    "\\frac{1}{1-x} = \\sum_{j=0}^{\\infty} x^{j}, ~ |x|<1.\n",
    "$$\n",
    "\n",
    "So, again, $x_{0}=0$, but now we see that $\\delta<1$.  This makes this expansion look like it is of limited use, but in fact, it is super handy.  For example, say  I give you the function\n",
    "\n",
    "$$\n",
    "f(x) = \\frac{1}{2-3x}.\n",
    "$$\n",
    "\n",
    "Suppose I want the Taylor series of this function around any point $x_{0}\\neq 2/3$.  Now while you can of course start taking derivative after derivative, this is not at all efficient.  Instead here is what you should do.\n",
    "\n",
    "\\begin{align*}\n",
    "f(x) = & \\frac{1}{2-3x}\\\\\n",
    "= & \\frac{1}{2-3(x-x_{0}+x_{0})}\\\\\n",
    "= & \\frac{1}{2-3x_{0}-3(x-x_{0})}\\\\\n",
    "= & \\frac{1}{2-3x_{0}}\\frac{1}{1 - \\left(\\frac{3(x-x_{0})}{2-3x_{0}} \\right)}\\\\\n",
    "= & \\frac{1}{2-3x_{0}}\\sum_{j=0}^{\\infty} \\frac{3^{j}(x-x_{0})^{j}}{(2-3x_{0})^{j}}\\\\\n",
    "= & \\sum_{j=0}^{\\infty} \\frac{3^{j}}{(2-3x_{0})^{j+1}}(x-x_{0})^{j}\n",
    "\\end{align*}\n",
    "\n",
    "with the stipulation that \n",
    "\n",
    "$$\n",
    "\\left|\\frac{3(x-x_{0})}{2-3x_{0}}\\right|<1,\n",
    "$$\n",
    "\n",
    "or equivalently \n",
    "\n",
    "$$\n",
    "x_{0} -\\frac{1}{3}\\left|2-3x_{0}\\right|< x < x_{0} +\\frac{1}{3}\\left|2-3x_{0}\\right|.\n",
    "$$\n",
    "\n",
    "Thus, by using a base form, we can not only readily compute the Taylor series in a very few number of steps, but we can also determine the interval of convergence for the series.  "
   ]
  },
  {
   "cell_type": "markdown",
   "metadata": {},
   "source": [
    "_Problem_ : Find the Taylor series of \n",
    "    \n",
    "$$\n",
    "f(x) = \\frac{1}{4+7x},\n",
    "$$\n",
    "\n",
    "around $x_{0}$.  Find the interval of convergence as well.  "
   ]
  },
  {
   "cell_type": "markdown",
   "metadata": {},
   "source": [
    "So, okay, great, there are such things as Taylor series.  What can we use them for?  The best answer to that question comes via another question.  What is $\\sin(.1)$?  Now, we know $\\sin(0)=0$, and we know $\\sin(\\pi/6)=.5$.  But what about $\\sin(.1)$?  So, if we use the Taylor series from above, we have that \n",
    "\n",
    "$$\n",
    "\\sin(x) = x - \\frac{x^{3}}{3!} + \\frac{x^{5}}{5!} - \\cdots\n",
    "$$\n",
    "\n",
    "Thus, one answer to the question is\n",
    "\n",
    "$$\n",
    "\\sin(.1) = .1 - \\frac{(.1)^{3}}{3!} + \\frac{(.1)^{5}}{5!} - \\cdots\n",
    "$$\n",
    "\n",
    "So, hypothetically, I can just keep computing terms of the Taylor series, and if I am willing to do this forever, I can finally know what $\\sin(.1)$ is.  So that in principle is the power of Taylor series.  Instead of having to compute something hard, i.e. $\\sin(.1)$, we can compute easy things in the series an infinite number of times. \n",
    "\n",
    "Of course, no one lives forever.  So doing something an infinite number of times becomes impractical.  Thus, as with so many things in life, we have to decide on a compromise that is good enough.  Said another way, we have to approximate.  To do this, we just start cutting off terms in the Taylor series expansion for $\\sin(x)$.  What I mean by this is we say \n",
    "\n",
    "$$\n",
    "\\sin(.1) \\approx .1\n",
    "$$\n",
    "\n",
    "or, including the next term, we might try\n",
    "\n",
    "$$\n",
    "\\sin(.1) \\approx .1 - \\frac{(.1)^{3}}{3!}\n",
    "$$\n",
    "\n",
    "So, let's quickly use Python to see where this goes."
   ]
  },
  {
   "cell_type": "code",
   "execution_count": 2,
   "metadata": {},
   "outputs": [
    {
     "name": "stdout",
     "output_type": "stream",
     "text": [
      "Approximation to sin(.1) is 0.100000000000000\n",
      "Approximation to sin(.1) is 0.099833333333333\n",
      "Approximation to sin(.1) is 0.099833416666667\n",
      "Approximation to sin(.1) is 0.099833416646825\n"
     ]
    }
   ],
   "source": [
    "print(\"Approximation to sin(.1) is %1.15f\" %.1)\n",
    "print(\"Approximation to sin(.1) is %1.15f\" %(.1 - (.1)**3./6))\n",
    "print(\"Approximation to sin(.1) is %1.15f\" %(.1 - (.1)**3./6 + (.1)**5./120))\n",
    "print(\"Approximation to sin(.1) is %1.15f\" %(.1 - (.1)**3./6 + (.1)**5./120 - (.1)**7./(42*120)))"
   ]
  },
  {
   "cell_type": "markdown",
   "metadata": {},
   "source": []
  },
  {
   "cell_type": "markdown",
   "metadata": {},
   "source": [
    "So, while we do not actually know what $\\sin(.1)$ is, we do see that as we keep taking more terms of the Taylor series, we get what looks to be convergence to a particular value.  Ostensibly, if we keep adding on more terms, we would keep getting more digits, and so again, while we would never know exactly what the true value is, we could _ approximate _ it to whatever degree of accuracy we might want.  "
   ]
  },
  {
   "cell_type": "markdown",
   "metadata": {},
   "source": [
    "In this vein, we can talk about defining whole functions using Taylor series to approximate other ones.  So, we can say\n",
    "\n",
    "$$\n",
    "\\sin(x) \\approx T_{2n+1}(x;0), ~ T_{2n+1}(x;0) = \\sum_{j=0}^{n}\\frac{(-1)^{j}x^{2j+1}}{(2j+1)!}.\n",
    "$$\n",
    "\n",
    "So, let's see how this works.  "
   ]
  },
  {
   "cell_type": "code",
   "execution_count": 3,
   "metadata": {},
   "outputs": [],
   "source": [
    "def tn_approx(x,n):\n",
    "    tot = 1.\n",
    "    term = 1.\n",
    "    x2 = -x**2.\n",
    "    for jj in range(1,n+1):\n",
    "        term *= x2/((2*jj+1)*(2*jj))\n",
    "        tot += term\n",
    "    return x*tot"
   ]
  },
  {
   "cell_type": "code",
   "execution_count": 4,
   "metadata": {},
   "outputs": [
    {
     "data": {
      "image/png": "[encoded data removed]",
      "text/plain": [
       "<Figure size 648x504 with 1 Axes>"
      ]
     },
     "metadata": {
      "needs_background": "light"
     },
     "output_type": "display_data"
    }
   ],
   "source": [
    "xvals = np.linspace(0,4,int(2e4))\n",
    "\n",
    "ex_vals = np.sin(xvals)\n",
    "\n",
    "t1_app = [tn_approx(xval,0) for xval in xvals]\n",
    "t2_app = [tn_approx(xval,1) for xval in xvals]\n",
    "t3_app = [tn_approx(xval,2) for xval in xvals]\n",
    "t4_app = [tn_approx(xval,3) for xval in xvals]\n",
    "\n",
    "fig = plt.figure()\n",
    "ax = fig.add_subplot(111)\n",
    "\n",
    "plt.plot(xvals,ex_vals,ls=\"-\", color=\"k\", label=\"$\\sin(x)$\")\n",
    "plt.plot(xvals,t1_app,ls=\"--\", color=\"r\", label=\"$T_{1}(x)$\")\n",
    "plt.plot(xvals,t2_app,ls=\"--\", color=\"b\", label=\"$T_{3}(x)$\")\n",
    "plt.plot(xvals,t3_app,ls=\"--\", color=\"g\", label=\"$T_{5}(x)$\")\n",
    "plt.plot(xvals,t4_app,ls=\"--\", color=\"y\", label=\"$T_{7}(x)$\")\n",
    "\n",
    "plt.legend(loc=(.1,.1))\n",
    "\n",
    "plt.xlim(0,4.1)\n",
    "plt.ylim(-.75,1.1)\n",
    "\n",
    "ax.set_aspect(\"equal\")\n",
    "\n",
    "fig=plt.gcf() # get current figure\n",
    "fig.set_size_inches(9,7) # optional size"
   ]
  },
  {
   "cell_type": "markdown",
   "metadata": {
    "collapsed": true
   },
   "source": [
    "So, looking at the above figure, we see how adding more terms to the truncated Taylor series expansion improves the overall accuracy of the approximation.  That being said, as you can see, no matter how many terms you add, at some point, the approximation will deviate significantly with the true solution.  Therefore, it would be nice to have a means of knowing in advance how well a given approximation will do over a chosen interval.  This is the point of what is called _Taylor's Remainder Theorem_, which we address in the next section.  "
   ]
  },
  {
   "cell_type": "markdown",
   "metadata": {},
   "source": [
    "In this vein though, let's see how we can use Taylor series to make a hard problem tractable.  Suppose I ask you to find \n",
    "\n",
    "$$\n",
    "I = \\int_{0}^{\\pi/2}\\cos(\\cos(x))dx.\n",
    "$$\n",
    "\n",
    "If we ask Python for the answer, we get something like:"
   ]
  },
  {
   "cell_type": "code",
   "execution_count": null,
   "metadata": {},
   "outputs": [],
   "source": [
    "print(spqd.quad(lambda x: np.cos(np.cos(x)), 0, np.pi/2.))"
   ]
  },
  {
   "cell_type": "markdown",
   "metadata": {},
   "source": [
    "So we found, at least to very high accuracy, that \n",
    "\n",
    "$$\n",
    "I = 1.2019697153172066\n",
    "$$\n",
    "\n",
    "Now, suppose we just use the associated 2nd order Taylor series expansion around $x_{0}=0$ of the integrand.  In other words, find $T_{2}(x;0)$ for $\\cos(\\cos(x))$."
   ]
  },
  {
   "cell_type": "markdown",
   "metadata": {},
   "source": [
    "_Problem_: Find $T_{2}(x;0)$ for $\\cos(\\cos(x))$ where\n",
    "\n",
    "$$\n",
    "T_{2}(x;0) = \\sum_{j=0}^{2} \\left.\\frac{d^{j}}{dx^{j}}\\cos(\\cos(x)) \\right|_{x_{0}=0}\\frac{x^{j}}{j!}\n",
    "$$"
   ]
  },
  {
   "cell_type": "markdown",
   "metadata": {},
   "source": [
    "So, given that we have \n",
    "\n",
    "$$\n",
    "\\cos(\\cos(x)) \\approx \\cos(1) + \\frac{\\sin(1)}{2}x^{2},\n",
    "$$\n",
    "\n",
    "we can then try to use this to approximate $I$ via the integral\n",
    "\n",
    "$$\n",
    "I \\approx \\int_{0}^{\\pi/2}\\left(\\cos(1) + \\frac{\\sin(1)}{2}x^{2} \\right) dx = \\cos(1)\\frac{\\pi}{2} + \\frac{\\sin(1)}{6}\\left(\\frac{\\pi}{2}\\right)^{3}.\n",
    "$$\n",
    "\n",
    "Using Python, we then get from the right hand side"
   ]
  },
  {
   "cell_type": "code",
   "execution_count": 5,
   "metadata": {},
   "outputs": [
    {
     "name": "stdout",
     "output_type": "stream",
     "text": [
      "1.3922649226956116\n"
     ]
    }
   ],
   "source": [
    "print(np.cos(1.)*np.pi/2. + np.sin(1.)/6.*(np.pi/2)**3.)"
   ]
  },
  {
   "cell_type": "code",
   "execution_count": 6,
   "metadata": {},
   "outputs": [
    {
     "data": {
      "image/png": "[encoded data removed]",
      "text/plain": [
       "<Figure size 648x504 with 1 Axes>"
      ]
     },
     "metadata": {
      "needs_background": "light"
     },
     "output_type": "display_data"
    }
   ],
   "source": [
    "xvals = np.linspace(0,np.pi/2.,int(2e4))\n",
    "tr_func = np.cos(np.cos(xvals))\n",
    "T2_func = (np.cos(1) + np.sin(1)/2.*xvals**2.) \n",
    "\n",
    "plt.plot(xvals,tr_func,ls=\"-\", color=\"k\", label=\"$\\cos(\\cos(x)$\")\n",
    "plt.plot(xvals,T2_func,ls=\"--\", color=\"b\", label=\"$T_{2}(x)$\")\n",
    "\n",
    "plt.legend(loc=(.1,.8))\n",
    "\n",
    "plt.xlim(0,np.pi/2.)\n",
    "plt.ylim(.5,1.61)\n",
    "\n",
    "#plt.axes().set_aspect(\"equal\")\n",
    "\n",
    "fig=plt.gcf() # get current figure\n",
    "fig.set_size_inches(9,7) # optional size"
   ]
  },
  {
   "cell_type": "markdown",
   "metadata": {},
   "source": [
    "Thus, the approximation we use gives us a result of \n",
    "\n",
    "$$\n",
    "I \\approx 1.3922649227\n",
    "$$\n",
    "\n",
    "which, while in the ballpark, is clearly not great.  So how might we improve our estimate?  Well, we note that \n",
    "\n",
    "$$\n",
    "I = \\int_{0}^{\\pi/4}\\cos(\\cos(x))dx + \\int_{\\pi/4}^{\\pi/2}\\cos(\\cos(x))dx.\n",
    "$$\n",
    "\n",
    "Now, if we use $T_{2}(x;0)$ for the first integral, we then get \n",
    "\n",
    "$$\n",
    "\\int_{0}^{\\pi/4}\\cos(\\cos(x))dx \\approx \\cos(1)\\frac{\\pi}{4} + \\frac{\\sin(1)}{6}\\left(\\frac{\\pi}{4}\\right)^{3}.\n",
    "$$\n",
    "\n",
    "Now, as for the second integral, suppose we use $T_{2}(x;\\pi/4)$, or \n",
    "\n",
    "$$\n",
    "T_{2}(x;\\pi/4) = \\sum_{j=0}^{2}\\left.\\frac{d^{j}}{dx^{j}}\\cos(\\cos(x))\\right|_{x=\\pi/4}\\frac{(x-\\pi/4)^{j}}{j!}\n",
    "$$"
   ]
  },
  {
   "cell_type": "markdown",
   "metadata": {},
   "source": [
    "_Problem_: Find $T_{2}(x;\\pi/4)$ from above.  "
   ]
  },
  {
   "cell_type": "markdown",
   "metadata": {},
   "source": [
    "So, having found \n",
    "\n",
    "$$\n",
    "T_{2}(x;\\pi/4) = \\cos\\left(\\frac{1}{\\sqrt{2}}\\right) + \\frac{1}{\\sqrt{2}}\\sin\\left(\\frac{1}{\\sqrt{2}}\\right)\\left(x-\\frac{\\pi}{4} \\right) + \\frac{1}{2}\\left(\\frac{1}{\\sqrt{2}}\\sin\\left(\\frac{1}{\\sqrt{2}}\\right)-\\frac{1}{2}\\cos\\left(\\frac{1}{\\sqrt{2}}\\right) \\right)\\left(x-\\frac{\\pi}{4}\\right)^{2}\n",
    "$$\n",
    "\n",
    "we now want to use this so that we can get the approximation\n",
    "\n",
    "$$\n",
    "\\int_{\\pi/4}^{\\pi/2} \\cos(\\cos(x))dx \\approx \\int_{\\pi/4}^{\\pi/2}T_{2}(x;\\pi/4)dx.\n",
    "$$\n",
    "\n",
    "To make this as efficient as possible, might I suggest writing\n",
    "\n",
    "$$\n",
    "T_{2}(x) = a + b(x-\\pi/4) + c(x-\\pi/4)^{2},\n",
    "$$\n",
    "\n",
    "where\n",
    "\n",
    "\\begin{align*}\n",
    "a = & \\cos\\left(\\frac{1}{\\sqrt{2}}\\right),\\\\\n",
    "b = & \\frac{1}{\\sqrt{2}}\\sin\\left(\\frac{1}{\\sqrt{2}}\\right),\\\\\n",
    "c = & \\frac{1}{2}\\left(\\frac{1}{\\sqrt{2}}\\sin\\left(\\frac{1}{\\sqrt{2}}\\right)-\\frac{1}{2}\\cos\\left(\\frac{1}{\\sqrt{2}}\\right) \\right).\n",
    "\\end{align*}\n",
    "\n",
    "Then, using the variable transformation $u = x-\\pi/4$, we get the identity\n",
    "\n",
    "$$\n",
    "\\int_{\\pi/4}^{\\pi/2} T_{2}(x;\\pi/4)dx = \\int_{0}^{\\pi/4} (a + bu + cu^{2}) du, \n",
    "$$\n",
    "\n",
    "so that we readily can see that \n",
    "\n",
    "$$\n",
    "\\int_{\\pi/4}^{\\pi/2} \\cos(\\cos(x))dx \\approx a\\frac{\\pi}{4} + \\frac{b}{2}\\left(\\frac{\\pi}{4}\\right)^{2}  + \\frac{c}{3}\\left(\\frac{\\pi}{4}\\right)^{3}. \n",
    "$$\n",
    "\n",
    "Turning to Python again, we can then readily put everything together. "
   ]
  },
  {
   "cell_type": "code",
   "execution_count": 7,
   "metadata": {},
   "outputs": [
    {
     "name": "stdout",
     "output_type": "stream",
     "text": [
      "1.2374694595080271\n"
     ]
    }
   ],
   "source": [
    "sq2 = 1./np.sqrt(2.)\n",
    "p4 = np.pi/4.\n",
    "p42 = p4**2.\n",
    "p43 = p42*p4\n",
    "a = np.cos(sq2)\n",
    "b = sq2*np.sin(sq2)\n",
    "c = (b - a/2.)/2.\n",
    "\n",
    "I1 = np.cos(1.)*p4 + np.sin(1.)*p43/6.\n",
    "I2 = p4*a + p42*b/2. + p43*c/3.\n",
    "Ia = I1+I2\n",
    "\n",
    "print(Ia)"
   ]
  },
  {
   "cell_type": "code",
   "execution_count": 8,
   "metadata": {},
   "outputs": [
    {
     "data": {
      "image/png": "[encoded data removed]",
      "text/plain": [
       "<Figure size 648x504 with 1 Axes>"
      ]
     },
     "metadata": {
      "needs_background": "light"
     },
     "output_type": "display_data"
    }
   ],
   "source": [
    "Nvals = int(2e4)\n",
    "\n",
    "xvals = np.linspace(0,np.pi/2.,Nvals)\n",
    "xvalsl = np.linspace(0,np.pi/4.,Nvals)\n",
    "xvalsr = np.linspace(np.pi/4.,np.pi/2.,Nvals)\n",
    "\n",
    "tr_func = np.cos(np.cos(xvals)) \n",
    "T2_func = (np.cos(1) + np.sin(1)/2.*xvalsl**2.)\n",
    "T2a_func = (a+b*(xvalsr-np.pi/4.) + c*(xvalsr-np.pi/4.)**2.)\n",
    "\n",
    "fig = plt.figure()\n",
    "ax = fig.add_subplot(111)\n",
    "\n",
    "plt.plot(xvals,tr_func,ls=\"-\", color=\"k\", label=\"$\\cos(\\cos(x))$\")\n",
    "plt.plot(xvalsl,T2_func,ls=\"--\", color=\"r\", label=\"$T_{2}(x;0)$\")\n",
    "plt.plot(xvalsr,T2a_func,ls=\"--\", color=\"b\", label=\"$T_{2}(x;\\frac{\\pi}{4})$\")\n",
    "\n",
    "plt.legend(loc=(.1,.8))\n",
    "\n",
    "plt.xlim(0,np.pi/2.)\n",
    "plt.ylim(.5,1.18)\n",
    "\n",
    "#ax.set_aspect(\"equal\")\n",
    "\n",
    "fig=plt.gcf() # get current figure\n",
    "fig.set_size_inches(9,7) # optional size"
   ]
  },
  {
   "cell_type": "code",
   "execution_count": null,
   "metadata": {},
   "outputs": [],
   "source": []
  }
 ],
 "metadata": {
  "kernelspec": {
   "display_name": "Python 3 (ipykernel)",
   "language": "python",
   "name": "python3"
  },
  "language_info": {
   "codemirror_mode": {
    "name": "ipython",
    "version": 3
   },
   "file_extension": ".py",
   "mimetype": "text/x-python",
   "name": "python",
   "nbconvert_exporter": "python",
   "pygments_lexer": "ipython3",
   "version": "3.9.7"
  }
 },
 "nbformat": 4,
 "nbformat_minor": 2
}
