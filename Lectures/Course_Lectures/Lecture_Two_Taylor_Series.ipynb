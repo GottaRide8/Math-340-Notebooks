{
 "cells": [
  {
   "cell_type": "code",
   "execution_count": 1,
   "metadata": {},
   "outputs": [],
   "source": [
    "import numpy as np\n",
    "import scipy.integrate as spqd\n",
    "import matplotlib.pyplot as plt\n",
    "%matplotlib inline"
   ]
  },
  {
   "cell_type": "markdown",
   "metadata": {},
   "source": [
    "# Part Two: Taylor Series \n",
    "\n",
    "You might remember from Calculus II the idea of a Taylor series associated with a function.  We are going to revisit that concept and expand on it since Taylor series will be a major part of this course.  So to get started, for a function $f(x)$ which is smooth, i.e. infinitely differentiable, in some interval say $[x_{0}-\\delta,x_{0}+\\delta]$, we say $f(x)$ has a Taylor series _ around _ $x_{0}$ if on the interval we can write\n",
    "\n",
    "$$\n",
    "f(x) = \\sum_{j=0}^{\\infty}\\left.\\frac{d^{j}f}{dx^{j}}\\right|_{x=x_{0}}\\frac{(x-x_{0})^{j}}{j!}, ~ x\\in[x_{0}-\\delta,x_{0}+\\delta].\n",
    "$$\n",
    "\n",
    "Classic examples of this are the Taylor series around $x_{0}=0$ (thus also known as _MacLaurin series_), for $\\sin(x)$, $\\cos(x)$, and $e^{x}$ which are \n",
    "\n",
    "\\begin{align*}\n",
    "\\sin(x) = & \\sum_{j=0}^{\\infty}\\frac{(-1)^{j}x^{2j+1}}{(2j+1)!}\\\\\n",
    "\\cos(x) = & \\sum_{j=0}^{\\infty}\\frac{(-1)^{j}x^{2j}}{(2j)!}\\\\\n",
    "e^{x} = & \\sum_{j=0}^{\\infty} \\frac{x^{j}}{j!}.\n",
    "\\end{align*}\n",
    "\n",
    "Here $\\delta = \\infty$, which doesn't strictly make sense, but only really means that we are saying the sums converge for any point $x\\in \\mathbb{R}$."
   ]
  },
  {
   "cell_type": "markdown",
   "metadata": {},
   "source": [
    "_Problem_: If $i$ is the imaginary number such that $i^{2}=-1$, then show Euler's formula \n",
    "\n",
    "$$\n",
    "e^{ix} = \\cos(x) + i \\sin(x).\n",
    "$$\n",
    "\n",
    "To do this, you need to use the fact that $i^{2}=-1$, $i^{3}=-i$, and $i^{4}=1$.  Then you need to use the fact that \n",
    "\n",
    "$$\n",
    "e^{ix} = \\sum_{j=0}^{\\infty}\\frac{i^{j}x^{j}}{j!}.\n",
    "$$"
   ]
  },
  {
   "cell_type": "markdown",
   "metadata": {},
   "source": [
    "Another classic result is the Taylor series for a geometric series.  This is given by \n",
    "\n",
    "$$\n",
    "\\frac{1}{1-x} = \\sum_{j=0}^{\\infty} x^{j}, ~ |x|<1.\n",
    "$$\n",
    "\n",
    "So, again, $x_{0}=0$, but now we see that $\\delta<1$.  This makes this expansion look like it is of limited use, but in fact, it is super handy.  For example, say  I give you the function\n",
    "\n",
    "$$\n",
    "f(x) = \\frac{1}{2-3x}.\n",
    "$$\n",
    "\n",
    "Suppose I want the Taylor series of this function around any point $x_{0}\\neq 2/3$.  Now while you can of course start taking derivative after derivative, this is not at all efficient.  Instead here is what you should do.\n",
    "\n",
    "\\begin{align*}\n",
    "f(x) = & \\frac{1}{2-3x}\\\\\n",
    "= & \\frac{1}{2-3(x-x_{0}+x_{0})}\\\\\n",
    "= & \\frac{1}{2-3x_{0}-3(x-x_{0})}\\\\\n",
    "= & \\frac{1}{2-3x_{0}}\\frac{1}{1 - \\left(\\frac{3(x-x_{0})}{2-3x_{0}} \\right)}\\\\\n",
    "= & \\frac{1}{2-3x_{0}}\\sum_{j=0}^{\\infty} \\frac{3^{j}(x-x_{0})^{j}}{(2-3x_{0})^{j}}\\\\\n",
    "= & \\sum_{j=0}^{\\infty} \\frac{3^{j}}{(2-3x_{0})^{j+1}}(x-x_{0})^{j}\n",
    "\\end{align*}\n",
    "\n",
    "with the stipulation that \n",
    "\n",
    "$$\n",
    "\\left|\\frac{3(x-x_{0})}{2-3x_{0}}\\right|<1,\n",
    "$$\n",
    "\n",
    "or equivalently \n",
    "\n",
    "$$\n",
    "x_{0} -\\frac{1}{3}\\left|2-3x_{0}\\right|< x < x_{0} +\\frac{1}{3}\\left|2-3x_{0}\\right|.\n",
    "$$\n",
    "\n",
    "Thus, by using a base form, we can not only readily compute the Taylor series in a very few number of steps, but we can also determine the interval of convergence for the series.  "
   ]
  },
  {
   "cell_type": "markdown",
   "metadata": {},
   "source": [
    "_Problem_ : Find the Taylor series of \n",
    "    \n",
    "$$\n",
    "f(x) = \\frac{1}{4+7x},\n",
    "$$\n",
    "\n",
    "around $x_{0}$.  Find the interval of convergence as well.  "
   ]
  },
  {
   "cell_type": "markdown",
   "metadata": {},
   "source": [
    "So, okay, great, there are such things as Taylor series.  What can we use them for?  The best answer to that question comes via another question.  What is $\\sin(.1)$?  Now, we know $\\sin(0)=0$, and we know $\\sin(\\pi/6)=.5$.  But what about $\\sin(.1)$?  So, if we use the Taylor series from above, we have that \n",
    "\n",
    "$$\n",
    "\\sin(x) = x - \\frac{x^{3}}{3!} + \\frac{x^{5}}{5!} - \\cdots\n",
    "$$\n",
    "\n",
    "Thus, one answer to the question is\n",
    "\n",
    "$$\n",
    "\\sin(.1) = .1 - \\frac{(.1)^{3}}{3!} + \\frac{(.1)^{5}}{5!} - \\cdots\n",
    "$$\n",
    "\n",
    "So, hypothetically, I can just keep computing terms of the Taylor series, and if I am willing to do this forever, I can finally know what $\\sin(.1)$ is.  So that in principle is the power of Taylor series.  Instead of having to compute something hard, i.e. $\\sin(.1)$, we can compute easy things in the series an infinite number of times. \n",
    "\n",
    "Of course, no one lives forever.  So doing something an infinite number of times becomes impractical.  Thus, as with so many things in life, we have to decide on a compromise that is good enough.  Said another way, we have to approximate.  To do this, we just start cutting off terms in the Taylor series expansion for $\\sin(x)$.  What I mean by this is we say \n",
    "\n",
    "$$\n",
    "\\sin(.1) \\approx .1\n",
    "$$\n",
    "\n",
    "or, including the next term, we might try\n",
    "\n",
    "$$\n",
    "\\sin(.1) \\approx .1 - \\frac{(.1)^{3}}{3!}\n",
    "$$\n",
    "\n",
    "So, let's quickly use Python to see where this goes."
   ]
  },
  {
   "cell_type": "code",
   "execution_count": 2,
   "metadata": {},
   "outputs": [
    {
     "name": "stdout",
     "output_type": "stream",
     "text": [
      "Approximation to sin(.1) is 0.100000000000000\n",
      "Approximation to sin(.1) is 0.099833333333333\n",
      "Approximation to sin(.1) is 0.099833416666667\n",
      "Approximation to sin(.1) is 0.099833416646825\n"
     ]
    }
   ],
   "source": [
    "print(\"Approximation to sin(.1) is %1.15f\" %.1)\n",
    "print(\"Approximation to sin(.1) is %1.15f\" %(.1 - (.1)**3./6))\n",
    "print(\"Approximation to sin(.1) is %1.15f\" %(.1 - (.1)**3./6 + (.1)**5./120))\n",
    "print(\"Approximation to sin(.1) is %1.15f\" %(.1 - (.1)**3./6 + (.1)**5./120 - (.1)**7./(42*120)))"
   ]
  },
  {
   "cell_type": "markdown",
   "metadata": {},
   "source": []
  },
  {
   "cell_type": "markdown",
   "metadata": {},
   "source": [
    "So, while we do not actually know what $\\sin(.1)$ is, we do see that as we keep taking more terms of the Taylor series, we get what looks to be convergence to a particular value.  Ostensibly, if we keep adding on more terms, we would keep getting more digits, and so again, while we would never know exactly what the true value is, we could _ approximate _ it to whatever degree of accuracy we might want.  "
   ]
  },
  {
   "cell_type": "markdown",
   "metadata": {},
   "source": [
    "In this vein, we can talk about defining whole functions using Taylor series to approximate other ones.  So, we can say\n",
    "\n",
    "$$\n",
    "\\sin(x) \\approx T_{2n+1}(x;0), ~ T_{2n+1}(x;0) = \\sum_{j=0}^{n}\\frac{(-1)^{j}x^{2j+1}}{(2j+1)!}.\n",
    "$$\n",
    "\n",
    "So, let's see how this works.  "
   ]
  },
  {
   "cell_type": "code",
   "execution_count": 3,
   "metadata": {},
   "outputs": [],
   "source": [
    "def tn_approx(x,n):\n",
    "    tot = 1.\n",
    "    term = 1.\n",
    "    x2 = -x**2.\n",
    "    for jj in range(1,n+1):\n",
    "        term *= x2/((2*jj+1)*(2*jj))\n",
    "        tot += term\n",
    "    return x*tot"
   ]
  },
  {
   "cell_type": "code",
   "execution_count": 4,
   "metadata": {},
   "outputs": [
    {
     "data": {
      "image/png": "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\n",
      "text/plain": [
       "<Figure size 648x504 with 1 Axes>"
      ]
     },
     "metadata": {
      "needs_background": "light"
     },
     "output_type": "display_data"
    }
   ],
   "source": [
    "xvals = np.linspace(0,4,int(2e4))\n",
    "\n",
    "ex_vals = np.sin(xvals)\n",
    "\n",
    "t1_app = [tn_approx(xval,0) for xval in xvals]\n",
    "t2_app = [tn_approx(xval,1) for xval in xvals]\n",
    "t3_app = [tn_approx(xval,2) for xval in xvals]\n",
    "t4_app = [tn_approx(xval,3) for xval in xvals]\n",
    "\n",
    "fig = plt.figure()\n",
    "ax = fig.add_subplot(111)\n",
    "\n",
    "plt.plot(xvals,ex_vals,ls=\"-\", color=\"k\", label=\"$\\sin(x)$\")\n",
    "plt.plot(xvals,t1_app,ls=\"--\", color=\"r\", label=\"$T_{1}(x)$\")\n",
    "plt.plot(xvals,t2_app,ls=\"--\", color=\"b\", label=\"$T_{3}(x)$\")\n",
    "plt.plot(xvals,t3_app,ls=\"--\", color=\"g\", label=\"$T_{5}(x)$\")\n",
    "plt.plot(xvals,t4_app,ls=\"--\", color=\"y\", label=\"$T_{7}(x)$\")\n",
    "\n",
    "plt.legend(loc=(.1,.1))\n",
    "\n",
    "plt.xlim(0,4.1)\n",
    "plt.ylim(-.75,1.1)\n",
    "\n",
    "ax.set_aspect(\"equal\")\n",
    "\n",
    "fig=plt.gcf() # get current figure\n",
    "fig.set_size_inches(9,7) # optional size"
   ]
  },
  {
   "cell_type": "markdown",
   "metadata": {
    "collapsed": true
   },
   "source": [
    "So, looking at the above figure, we see how adding more terms to the truncated Taylor series expansion improves the overall accuracy of the approximation.  That being said, as you can see, no matter how many terms you add, at some point, the approximation will deviate significantly with the true solution.  Therefore, it would be nice to have a means of knowing in advance how well a given approximation will do over a chosen interval.  This is the point of what is called _Taylor's Remainder Theorem_, which we address in the next section.  "
   ]
  },
  {
   "cell_type": "markdown",
   "metadata": {},
   "source": [
    "In this vein though, let's see how we can use Taylor series to make a hard problem tractable.  Suppose I ask you to find \n",
    "\n",
    "$$\n",
    "I = \\int_{0}^{\\pi/2}\\cos(\\cos(x))dx.\n",
    "$$\n",
    "\n",
    "If we ask Python for the answer, we get something like:"
   ]
  },
  {
   "cell_type": "code",
   "execution_count": 5,
   "metadata": {},
   "outputs": [
    {
     "name": "stdout",
     "output_type": "stream",
     "text": [
      "(1.2019697153172066, 1.3344544528473075e-14)\n"
     ]
    }
   ],
   "source": [
    "print(spqd.quad(lambda x: np.cos(np.cos(x)), 0, np.pi/2.))"
   ]
  },
  {
   "cell_type": "markdown",
   "metadata": {},
   "source": [
    "So we found, at least to very high accuracy, that \n",
    "\n",
    "$$\n",
    "I = 1.2019697153172066\n",
    "$$\n",
    "\n",
    "Now, suppose we just use the associated 2nd order Taylor series expansion around $x_{0}=0$ of the integrand.  In other words, find $T_{2}(x;0)$ for $\\cos(\\cos(x))$."
   ]
  },
  {
   "cell_type": "markdown",
   "metadata": {},
   "source": [
    "_Problem_: Find $T_{2}(x;0)$ for $\\cos(\\cos(x))$ where\n",
    "\n",
    "$$\n",
    "T_{2}(x;0) = \\sum_{j=0}^{2} \\left.\\frac{d^{j}}{dx^{j}}\\cos(\\cos(x)) \\right|_{x_{0}=0}\\frac{x^{j}}{j!}\n",
    "$$"
   ]
  },
  {
   "cell_type": "markdown",
   "metadata": {},
   "source": [
    "So, given that we have \n",
    "\n",
    "$$\n",
    "\\cos(\\cos(x)) \\approx \\cos(1) + \\frac{\\sin(1)}{2}x^{2},\n",
    "$$\n",
    "\n",
    "we can then try to use this to approximate $I$ via the integral\n",
    "\n",
    "$$\n",
    "I \\approx \\int_{0}^{\\pi/2}\\left(\\cos(1) + \\frac{\\sin(1)}{2}x^{2} \\right) dx = \\cos(1)\\frac{\\pi}{2} + \\frac{\\sin(1)}{6}\\left(\\frac{\\pi}{2}\\right)^{3}.\n",
    "$$\n",
    "\n",
    "Using Python, we then get from the right hand side"
   ]
  },
  {
   "cell_type": "code",
   "execution_count": 6,
   "metadata": {},
   "outputs": [
    {
     "name": "stdout",
     "output_type": "stream",
     "text": [
      "1.3922649226956116\n"
     ]
    }
   ],
   "source": [
    "print(np.cos(1.)*np.pi/2. + np.sin(1.)/6.*(np.pi/2)**3.)"
   ]
  },
  {
   "cell_type": "code",
   "execution_count": 7,
   "metadata": {},
   "outputs": [
    {
     "data": {
      "image/png": "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\n",
      "text/plain": [
       "<Figure size 648x504 with 1 Axes>"
      ]
     },
     "metadata": {
      "needs_background": "light"
     },
     "output_type": "display_data"
    }
   ],
   "source": [
    "xvals = np.linspace(0,np.pi/2.,int(2e4))\n",
    "tr_func = np.cos(np.cos(xvals))\n",
    "T2_func = (np.cos(1) + np.sin(1)/2.*xvals**2.) \n",
    "\n",
    "plt.plot(xvals,tr_func,ls=\"-\", color=\"k\", label=\"$\\cos(\\cos(x)$\")\n",
    "plt.plot(xvals,T2_func,ls=\"--\", color=\"b\", label=\"$T_{2}(x)$\")\n",
    "\n",
    "plt.legend(loc=(.1,.8))\n",
    "\n",
    "plt.xlim(0,np.pi/2.)\n",
    "plt.ylim(.5,1.61)\n",
    "\n",
    "#plt.axes().set_aspect(\"equal\")\n",
    "\n",
    "fig=plt.gcf() # get current figure\n",
    "fig.set_size_inches(9,7) # optional size"
   ]
  },
  {
   "cell_type": "markdown",
   "metadata": {},
   "source": [
    "Thus, the approximation we use gives us a result of \n",
    "\n",
    "$$\n",
    "I \\approx 1.3922649227\n",
    "$$\n",
    "\n",
    "which, while in the ballpark, is clearly not great.  So how might we improve our estimate?  Well, we note that \n",
    "\n",
    "$$\n",
    "I = \\int_{0}^{\\pi/4}\\cos(\\cos(x))dx + \\int_{\\pi/4}^{\\pi/2}\\cos(\\cos(x))dx.\n",
    "$$\n",
    "\n",
    "Now, if we use $T_{2}(x;0)$ for the first integral, we then get \n",
    "\n",
    "$$\n",
    "\\int_{0}^{\\pi/4}\\cos(\\cos(x))dx \\approx \\cos(1)\\frac{\\pi}{4} + \\frac{\\sin(1)}{6}\\left(\\frac{\\pi}{4}\\right)^{3}.\n",
    "$$\n",
    "\n",
    "Now, as for the second integral, suppose we use $T_{2}(x;\\pi/4)$, or \n",
    "\n",
    "$$\n",
    "T_{2}(x;\\pi/4) = \\sum_{j=0}^{2}\\left.\\frac{d^{j}}{dx^{j}}\\cos(\\cos(x))\\right|_{x=\\pi/4}\\frac{(x-\\pi/4)^{j}}{j!}\n",
    "$$"
   ]
  },
  {
   "cell_type": "markdown",
   "metadata": {},
   "source": [
    "_Problem_: Find $T_{2}(x;\\pi/4)$ from above.  "
   ]
  },
  {
   "cell_type": "markdown",
   "metadata": {},
   "source": [
    "So, having found \n",
    "\n",
    "$$\n",
    "T_{2}(x;\\pi/4) = \\cos\\left(\\frac{1}{\\sqrt{2}}\\right) + \\frac{1}{\\sqrt{2}}\\sin\\left(\\frac{1}{\\sqrt{2}}\\right)\\left(x-\\frac{\\pi}{4} \\right) + \\frac{1}{2}\\left(\\frac{1}{\\sqrt{2}}\\sin\\left(\\frac{1}{\\sqrt{2}}\\right)-\\frac{1}{2}\\cos\\left(\\frac{1}{\\sqrt{2}}\\right) \\right)\\left(x-\\frac{\\pi}{4}\\right)^{2}\n",
    "$$\n",
    "\n",
    "we now want to use this so that we can get the approximation\n",
    "\n",
    "$$\n",
    "\\int_{\\pi/4}^{\\pi/2} \\cos(\\cos(x))dx \\approx \\int_{\\pi/4}^{\\pi/2}T_{2}(x;\\pi/4)dx.\n",
    "$$\n",
    "\n",
    "To make this as efficient as possible, might I suggest writing\n",
    "\n",
    "$$\n",
    "T_{2}(x) = a + b(x-\\pi/4) + c(x-\\pi/4)^{2},\n",
    "$$\n",
    "\n",
    "where\n",
    "\n",
    "\\begin{align*}\n",
    "a = & \\cos\\left(\\frac{1}{\\sqrt{2}}\\right),\\\\\n",
    "b = & \\frac{1}{\\sqrt{2}}\\sin\\left(\\frac{1}{\\sqrt{2}}\\right),\\\\\n",
    "c = & \\frac{1}{2}\\left(\\frac{1}{\\sqrt{2}}\\sin\\left(\\frac{1}{\\sqrt{2}}\\right)-\\frac{1}{2}\\cos\\left(\\frac{1}{\\sqrt{2}}\\right) \\right).\n",
    "\\end{align*}\n",
    "\n",
    "Then, using the variable transformation $u = x-\\pi/4$, we get the identity\n",
    "\n",
    "$$\n",
    "\\int_{\\pi/4}^{\\pi/2} T_{2}(x;\\pi/4)dx = \\int_{0}^{\\pi/4} (a + bu + cu^{2}) du, \n",
    "$$\n",
    "\n",
    "so that we readily can see that \n",
    "\n",
    "$$\n",
    "\\int_{\\pi/4}^{\\pi/2} \\cos(\\cos(x))dx \\approx a\\frac{\\pi}{4} + \\frac{b}{2}\\left(\\frac{\\pi}{4}\\right)^{2}  + \\frac{c}{3}\\left(\\frac{\\pi}{4}\\right)^{3}. \n",
    "$$\n",
    "\n",
    "Turning to Python again, we can then readily put everything together. "
   ]
  },
  {
   "cell_type": "code",
   "execution_count": 8,
   "metadata": {},
   "outputs": [
    {
     "name": "stdout",
     "output_type": "stream",
     "text": [
      "1.2374694595080271\n"
     ]
    }
   ],
   "source": [
    "sq2 = 1./np.sqrt(2.)\n",
    "p4 = np.pi/4.\n",
    "p42 = p4**2.\n",
    "p43 = p42*p4\n",
    "a = np.cos(sq2)\n",
    "b = sq2*np.sin(sq2)\n",
    "c = (b - a/2.)/2.\n",
    "\n",
    "I1 = np.cos(1.)*p4 + np.sin(1.)*p43/6.\n",
    "I2 = p4*a + p42*b/2. + p43*c/3.\n",
    "Ia = I1+I2\n",
    "\n",
    "print(Ia)"
   ]
  },
  {
   "cell_type": "code",
   "execution_count": 9,
   "metadata": {},
   "outputs": [
    {
     "data": {
      "image/png": "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\n",
      "text/plain": [
       "<Figure size 648x504 with 1 Axes>"
      ]
     },
     "metadata": {
      "needs_background": "light"
     },
     "output_type": "display_data"
    }
   ],
   "source": [
    "Nvals = int(2e4)\n",
    "\n",
    "xvals = np.linspace(0,np.pi/2.,Nvals)\n",
    "xvalsl = np.linspace(0,np.pi/4.,Nvals)\n",
    "xvalsr = np.linspace(np.pi/4.,np.pi/2.,Nvals)\n",
    "\n",
    "tr_func = np.cos(np.cos(xvals)) \n",
    "T2_func = (np.cos(1) + np.sin(1)/2.*xvalsl**2.)\n",
    "T2a_func = (a+b*(xvalsr-np.pi/4.) + c*(xvalsr-np.pi/4.)**2.)\n",
    "\n",
    "fig = plt.figure()\n",
    "ax = fig.add_subplot(111)\n",
    "\n",
    "plt.plot(xvals,tr_func,ls=\"-\", color=\"k\", label=\"$\\cos(\\cos(x))$\")\n",
    "plt.plot(xvalsl,T2_func,ls=\"--\", color=\"r\", label=\"$T_{2}(x;0)$\")\n",
    "plt.plot(xvalsr,T2a_func,ls=\"--\", color=\"b\", label=\"$T_{2}(x;\\frac{\\pi}{4})$\")\n",
    "\n",
    "plt.legend(loc=(.1,.8))\n",
    "\n",
    "plt.xlim(0,np.pi/2.)\n",
    "plt.ylim(.5,1.18)\n",
    "\n",
    "#ax.set_aspect(\"equal\")\n",
    "\n",
    "fig=plt.gcf() # get current figure\n",
    "fig.set_size_inches(9,7) # optional size"
   ]
  },
  {
   "cell_type": "code",
   "execution_count": null,
   "metadata": {},
   "outputs": [],
   "source": []
  }
 ],
 "metadata": {
  "kernelspec": {
   "display_name": "Python 3",
   "language": "python",
   "name": "python3"
  },
  "language_info": {
   "codemirror_mode": {
    "name": "ipython",
    "version": 3
   },
   "file_extension": ".py",
   "mimetype": "text/x-python",
   "name": "python",
   "nbconvert_exporter": "python",
   "pygments_lexer": "ipython3",
<<<<<<< Updated upstream
   "version": "3.9.7"
=======
   "version": "3.8.5"
>>>>>>> Stashed changes
  }
 },
 "nbformat": 4,
 "nbformat_minor": 2
}
