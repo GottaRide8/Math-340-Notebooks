{
 "cells": [
  {
   "cell_type": "code",
   "execution_count": null,
   "metadata": {
    "collapsed": true
   },
   "outputs": [],
   "source": [
    "import numpy as np\n",
    "import matplotlib.pyplot as plt\n",
    "from matplotlib import colors\n",
    "#from numba import jit\n",
    "%matplotlib inline"
   ]
  },
  {
   "cell_type": "markdown",
   "metadata": {},
   "source": [
    "<strong> Chapters 29, 31 </strong>: So, before we get started, let's revisit the Koch curve so that we can get properly reaquainted with geometry.  So first, by a point ${\\bf P}$ we mean \n",
    "\n",
    "$$\n",
    "{\\bf P} = \\left(P_{x},P_{y}\\right)\n",
    "$$\n",
    "\n",
    "Note, when we write this, we are thinking of the following figure \n",
    "\n",
    "<img src=\"QP_plane.png\" alt=\"Drawing\" style=\"width: 200px;\"/>\n",
    "\n",
    "So with this is in mind, we could just as well think of a point as a vector from the origin to the point, say $\\vec{{\\bf OP}}$ where \n",
    "\n",
    "$$\n",
    "\\vec{{\\bf OP}} = P_{x}\\hat{{\\bf i}} + P_{y}\\hat{{\\bf j}}\n",
    "$$\n",
    "\n",
    "so when you hear me be somewhat glib about describing 'a point as a vector', this is why.  The point representation and the vector representation contain the same information, just written in slightly different forms.  However, when we talk about 'length', we talk about the length of a vector, i.e. \n",
    "\n",
    "$$\n",
    "\\left|\\vec{{\\bf OP}} \\right| = \\sqrt{P_{x}^{2} + P_{y}^{2}}.\n",
    "$$\n",
    "\n",
    "We really should not talk about the length of a point, but because we are lazy, you will see people write \n",
    "\n",
    "$$\n",
    "\\left|{\\bf P} \\right| = \\sqrt{P_{x}^{2} + P_{y}^{2}},\n",
    "$$\n",
    "\n",
    "though they may defend themselves by saying that by ${\\bf P}$, they meant the vector, not the point.  Obviously :)\n",
    "\n",
    "Now let's talk about a confusing point.  First, we introduce a second point say ${\\bf Q}=(Q_{x},Q_{y})$. Now we can talk about the vector from ${\\bf P}$ to ${\\bf Q}$, say $\\vec{{\\bf PQ}}$, which is  \n",
    "\n",
    "$$\n",
    "\\vec{{\\bf PQ}} = \\vec{{\\bf OQ}} - \\vec{{\\bf OP}} = (Q_{x}-P_{x})\\hat{{\\bf i}} + (Q_{y}-P_{y})\\hat{{\\bf j}}.\n",
    "$$\n",
    "\n",
    "Now this vector certainly stretches from the point ${\\bf P}$ to the point ${\\bf Q}$.  But this vector can be put anywhere in the plane, and it is the *same* vector.  So a vector doesn't necessarily have to stay attached to any one point.  \n",
    "\n",
    "On the other hand, a *line segment* is between two particular points.  We denote the line segment between ${\\bf P}$ and ${\\bf Q}$ as $\\overline{{\\bf PQ}}$.  The length of the line segment is the length of the vector $\\vec{{\\bf PQ}}$, and we would even denote this as \n",
    "\n",
    "$$\n",
    "\\left|\\overline{{\\bf PQ}} \\right| = \\left|\\vec{{\\bf PQ}} \\right|=\\sqrt{(Q_{x}-P_{x})^{2}+(Q_{y}-P_{y})^{2}}.\n",
    "$$\n",
    "\n",
    "Now, an interesting example is describing all the points on a line segment.  Here is where things can get a little messy, but this is also where we need to be comfortable thinking about points and vectors as basically being the same thing.  \n",
    "\n",
    "<img src=\"QP_plane_line_seg.png\" alt=\"Drawing\" style=\"width: 200px;\"/>\n",
    "\n",
    "Now let $0\\leq t \\leq 1$.  Let's think about where we can put the vectors $t \\vec{{\\bf PQ}}$.  Since these vectors are just scalar multiples of $\\vec{\\bf PQ}$, they are parallel to $\\vec{{\\bf PQ}}$, which means they point in the same direction from the points ${\\bf P}$ to ${\\bf Q}$.  So, to describe the points ${\\bf P}_{t}$ in the figure above, really it makes more sense to use the vectors $\\vec{{\\bf OP}}_{t}$ which we define to be \n",
    "\n",
    "\\begin{align*}\n",
    "\\vec{{\\bf OP}}_{t} = & \\vec{{\\bf OP}} + t \\vec{{\\bf PQ}} \\\\\n",
    "=& \\vec{{\\bf OP}} + t (\\vec{{\\bf OQ}}-\\vec{{\\bf OP}}) \\\\\n",
    "=& (1-t)\\vec{{\\bf OP}} + t \\vec{{\\bf OQ}}, ~ 0\\leq t \\leq 1.\n",
    "\\end{align*}\n",
    "\n",
    "Now, it is at this point in the book, and in many other places, that will just see people write \n",
    "\n",
    "$$\n",
    "{\\bf P}_{t} = (1-t){\\bf P} +t{\\bf Q}. \n",
    "$$\n",
    "\n",
    "In some sense, it is not technically correct, but again, the point and vector representation do not contain fundamentally different information, and it becomes much easier to write things without constantly referring back to the origin point ${\\bf O}$.  \n",
    "\n",
    "Now, at this point, let's say we want to use Python to help us deal with points.  While we can use approaches like"
   ]
  },
  {
   "cell_type": "code",
   "execution_count": null,
   "metadata": {
    "collapsed": true
   },
   "outputs": [],
   "source": [
    "P = np.array([1.,0.])"
   ]
  },
  {
   "cell_type": "markdown",
   "metadata": {
    "collapsed": true
   },
   "source": [
    "This is not always the best way to do this.  As we see from above, while this may be effective for thinking about a few points at a time (see our discussion of the Koch Curve), what if we want to consider arbitrary numbers of points, such as the points along a line segment.  Likewise, what if we also want to think about building lines of points?  And then what if we want to think about shapes in the planes such as various polygons, which are made of lines, which are made of points?  See where this is going?  \n",
    "\n",
    "Thus, what we really want to do is build a series of new 'Types', or what are called 'Classes'.  This is equivalent to introducing generalizations of 'Int', 'Float', and 'Str'.  Each class will have its own properties and rules for how different instantiations of the class, or *objects*, interact.  Okay, now it's time for an example.  Let's build a point class.  We do this in the following way.  "
   ]
  },
  {
   "cell_type": "code",
   "execution_count": null,
   "metadata": {
    "collapsed": true
   },
   "outputs": [],
   "source": [
    "class point():\n",
    "    def __init__(self,a,b): # Constructor function\n",
    "        self.xcoord = a # Self now has a x-coordinate with value x\n",
    "        self.ycoord = b # Self now has a y-coordinate with value y"
   ]
  },
  {
   "cell_type": "markdown",
   "metadata": {},
   "source": [
    "So let's see how this works.  What we have above is a class 'point' with one interior function, the *constructor*, whose job it is to take in values $x$ and $y$ and assign them to a variable denoted by 'self'.  Let me show you what this means. "
   ]
  },
  {
   "cell_type": "code",
   "execution_count": null,
   "metadata": {
    "collapsed": false
   },
   "outputs": [],
   "source": [
    "P = point(2.3,4.7) # We call the class 'point' to make the object, P, with data x=2.3 and y=4.7.\n",
    "print # x-coord of P\n",
    "print # y-coord of P\n",
    "print type(P)"
   ]
  },
  {
   "cell_type": "markdown",
   "metadata": {},
   "source": [
    "So what we have done here is created an instantiation of the class, or an *object*, and assigned it the *data*, $x$ and $y$.  To retrieve this data, we use `P.x` or `P.y`.  Note, throughout the semester, when you have been writing things like `np.linspace(0,1,10)`, you have in effect been calling attributes of a class associated with Numpy.  \n",
    "\n",
    "Now what else can we do with this?  Well maybe we would like to know how far a point is away from the origin, i.e. we want to know the length of that associated line segment.  To do this, we would modify our class in the following way."
   ]
  },
  {
   "cell_type": "code",
   "execution_count": null,
   "metadata": {
    "collapsed": true
   },
   "outputs": [],
   "source": [
    "class point():\n",
    "    def __init__(self,x,y): # Constructor function\n",
    "        self.x = x # Self now has a x-coordinate with value x\n",
    "        self.y = y # Self now has a y-coordinate with value y\n",
    "        \n",
    "    def length(self):\n",
    "        return ((self.x)**2. + (self.y)**2.)**(.5)"
   ]
  },
  {
   "cell_type": "markdown",
   "metadata": {},
   "source": [
    "So now if we write the following"
   ]
  },
  {
   "cell_type": "code",
   "execution_count": null,
   "metadata": {
    "collapsed": false
   },
   "outputs": [],
   "source": [
    "P = point(3.,4.) # We call the class 'point' to make the object, P, with data x and y.\n",
    "print P.x\n",
    "print P.y\n",
    "print P.length()"
   ]
  },
  {
   "cell_type": "markdown",
   "metadata": {},
   "source": [
    "Now that we have this class, we can start building new types of functions to take advantage of this.  Say for example we want to *add* points.  Well, now we can define the function"
   ]
  },
  {
   "cell_type": "code",
   "execution_count": null,
   "metadata": {
    "collapsed": true
   },
   "outputs": [],
   "source": [
    "def p_add(P,Q): # Here we suppose that P and Q are objects associated with the point class.\n",
    "    xval = P.x + Q.x\n",
    "    yval = P.y + Q.y\n",
    "    W = point(xval,yval)\n",
    "    return W"
   ]
  },
  {
   "cell_type": "markdown",
   "metadata": {},
   "source": [
    "So, now we can do the following"
   ]
  },
  {
   "cell_type": "code",
   "execution_count": null,
   "metadata": {
    "collapsed": false
   },
   "outputs": [],
   "source": [
    "P = point(2.,3.)\n",
    "Q = point(4.,5.)\n",
    "W = p_add(P,Q)\n",
    "print W.x\n",
    "print W.y\n",
    "print W.length()"
   ]
  },
  {
   "cell_type": "markdown",
   "metadata": {},
   "source": [
    "But this does not allow us to write things like `P+Q` or `Q-P`, which we would kind of like to do if you think about it.  To do this then, we use what is called *operator overloading*, i.e. we *overload* the operators '+' and '-' in order to deal with the new type 'point'.  This is done in the following way"
   ]
  },
  {
   "cell_type": "code",
   "execution_count": null,
   "metadata": {
    "collapsed": true
   },
   "outputs": [],
   "source": [
    "class point():\n",
    "    def __init__(self,x,y): # Constructor function\n",
    "        self.x = x # Self now has a x-coordinate with value x\n",
    "        self.y = y # Self now has a y-coordinate with value y\n",
    "        \n",
    "    def __str__(self): # Overload the definition of strings so we can print points in a nice way\n",
    "        return \"({0},{1})\".format(self.x,self.y)\n",
    "        \n",
    "    def __add__(self,other): # Overload addition so we can add points \n",
    "        X = self.x + other.x\n",
    "        Y = self.y + other.y\n",
    "        return point(X,Y)\n",
    "    \n",
    "    def __sub__(self,other): # Overload subtraction so we can subtract points\n",
    "        X = self.x - other.x\n",
    "        Y = self.y - other.y\n",
    "        return point(X,Y)\n",
    "        \n",
    "    def __mul__(self,scal):\n",
    "        X = scal*self.x\n",
    "        Y = scal*self.y\n",
    "        return point(X,Y)    \n",
    "        \n",
    "    def __rmul__(self,scal):\n",
    "        X = self.x*scal\n",
    "        Y = self.y*scal\n",
    "        return point(X,Y)\n",
    "    \n",
    "    def __div__(self,scal):\n",
    "        X = self.x/scal\n",
    "        Y = self.y/scal\n",
    "        return point(X,Y)\n",
    "            \n",
    "    def length(self):\n",
    "        return ((self.x)**2. + (self.y)**2.)**(.5)"
   ]
  },
  {
   "cell_type": "markdown",
   "metadata": {},
   "source": [
    "Thus now we can do "
   ]
  },
  {
   "cell_type": "code",
   "execution_count": null,
   "metadata": {
    "collapsed": false
   },
   "outputs": [],
   "source": [
    "P = point(2.,3.)\n",
    "Q = point(4.,5.)\n",
    "W = P+Q\n",
    "Y = Q-P\n",
    "T = 3.4*P # rmul addresses this case\n",
    "Tal = P*3.4 # mul addresses this case\n",
    "Z = P/3.4\n",
    "print W\n",
    "print Y \n",
    "print T\n",
    "print Tal\n",
    "print Z"
   ]
  },
  {
   "cell_type": "markdown",
   "metadata": {},
   "source": [
    "So, let's revisit the Koch Curve code and see if we can make life a little easier using our new class.  "
   ]
  },
  {
   "cell_type": "code",
   "execution_count": null,
   "metadata": {
    "collapsed": true
   },
   "outputs": [],
   "source": [
    "def k_plot(P,Q,pts,nlev):\n",
    "    if nlev > 0:\n",
    "        \n",
    "        # Compute the new points A, B, and C from the endpoints of the line segment P and Q\n",
    "        d = Q - P\n",
    "        dperp = point(-d.y,d.x)\n",
    "        A = P + d/3.\n",
    "        B = (P+Q)/2. + dperp/(2.*np.sqrt(3))\n",
    "        C = P + 2.*d/3.\n",
    "        # Recurse down to the next level and repeat the process over again.\n",
    "        \n",
    "        ind = pts.index(Q)\n",
    "        pts.insert(ind,C)\n",
    "        pts.insert(ind,B)\n",
    "        pts.insert(ind,A)\n",
    "        \n",
    "        k_plot(P,A,pts,nlev-1) # Repeat process between P and A\n",
    "        k_plot(A,B,pts,nlev-1) # Repeat process between A and B\n",
    "        k_plot(B,C,pts,nlev-1) # Repeat process between B and C\n",
    "        k_plot(C,Q,pts,nlev-1) # Repeat process between C and Q   "
   ]
  },
  {
   "cell_type": "code",
   "execution_count": null,
   "metadata": {
    "collapsed": false
   },
   "outputs": [],
   "source": [
    "P = point(0.,0.)\n",
    "Q = point(1.,0.)\n",
    "pts = [P,Q] # Initialize pts with the points P and Q\n",
    "k_plot(P,Q,pts,6)\n",
    "ptsx = [pt.x for pt in pts]\n",
    "ptsy = [pt.y for pt in pts]\n",
    "plt.plot(ptsx,ptsy)"
   ]
  },
  {
   "cell_type": "markdown",
   "metadata": {
    "collapsed": true
   },
   "source": [
    "Okay, so now that we have a point class, we might want to build a class for line segments.  So first we need to think, what makes a line segment?  Well, the answer is two points, say ${\\bf P}_{1}$ and ${\\bf P}_{2}$.  So the necessary data to create an instance of a line segment is two points.  See if you can sketch out what a constructor this would be.  "
   ]
  },
  {
   "cell_type": "code",
   "execution_count": null,
   "metadata": {
    "collapsed": true
   },
   "outputs": [],
   "source": [
    "class lineseg():\n",
    "    def __init__(self,P1,P2):\n",
    "        self.st = P1\n",
    "        self.end = P2"
   ]
  },
  {
   "cell_type": "markdown",
   "metadata": {},
   "source": [
    "Okay, now that we have a constructor, what other attributes might we want in our class?  Maybe we want to be able to determine the corresponding rise and run of the line?  How would you do this?  How would you add the length as an attribute?  "
   ]
  },
  {
   "cell_type": "code",
   "execution_count": null,
   "metadata": {
    "collapsed": true
   },
   "outputs": [],
   "source": [
    "class lineseg():\n",
    "    def __init__(self,P1,P2):\n",
    "        self.P1 = P1\n",
    "        self.P2 = P2\n",
    "        \n",
    "    def dx(self):\n",
    "        return (self.P2.x - self.P1.x)\n",
    "    def dy(self):\n",
    "        return (self.P2.y - self.P1.y)\n",
    "    def length(self):\n",
    "        return np.sqrt( (self.dx())**2. + (self.dy())**2. )"
   ]
  },
  {
   "cell_type": "markdown",
   "metadata": {},
   "source": [
    "Now make up some tests and make sure these things do what you think they should."
   ]
  },
  {
   "cell_type": "code",
   "execution_count": null,
   "metadata": {
    "collapsed": false
   },
   "outputs": [],
   "source": [
    "thfr = lineseg(point(0.,0.),point(3.,4.))\n",
    "print thfr.dx()\n",
    "print thfr.dy()\n",
    "print thfr.length()"
   ]
  },
  {
   "cell_type": "markdown",
   "metadata": {},
   "source": [
    "Okay, the next thing we are going to get into is using our new class to answer some basic questions in geometry.  The one we will start with is, how do we tell if two points, say ${\\bf C}$ and ${\\bf D}$, are on the same side of a line segment, say $\\overline{{\\bf AB}}$?  To do this, we need to make use of the cross product between two planar vectors, say $\\vec{{\\bf P}}$ and $\\vec{{\\bf Q}}$, which is \n",
    "$$\n",
    "\\vec{{\\bf P}}\\times\\vec{{\\bf Q}} = \\left(P_{x}Q_{y} - P_{y}Q_{x}\\right)\\hat{{\\bf k}}.\n",
    "$$\n",
    "Thus the planar cross product points out of the plane.  Likewise, as we can see, we have that\n",
    "$$\n",
    "\\vec{{\\bf Q}}\\times \\vec{{\\bf P}} = - \\vec{{\\bf P}}\\times\\vec{{\\bf Q}}. \n",
    "$$\n",
    "\n",
    "Thus, changes in sign in cross products mean differences in directions of the result.  Likewise, changing the order changes the sign which changes the direction.  We now compare \n",
    "$$\n",
    "\\vec{{\\bf AC}}\\times \\vec{{\\bf AB}}\n",
    "$$\n",
    "to\n",
    "$$\n",
    "\\vec{{\\bf AD}}\\times \\vec{{\\bf AB}}\n",
    "$$\n",
    "The question is whether they have the same sign.  Can you infer why that is relevant here?  \n",
    "\n",
    "And now that you have this in mind, if we have that \n",
    "$$\n",
    "\\vec{{\\bf AC}}\\times \\vec{{\\bf AB}} = \\left({\\bf C}_{x}-{\\bf A}_{x} \\right)\\left({\\bf B}_{y}-{\\bf A}_{y} \\right) - \\left({\\bf C}_{y}-{\\bf A}_{y} \\right)\\left({\\bf B}_{x}-{\\bf A}_{x} \\right)\n",
    "$$\n",
    "and\n",
    "$$\n",
    "\\vec{{\\bf AD}}\\times \\vec{{\\bf AB}} = \\left({\\bf D}_{x}-{\\bf A}_{x} \\right)\\left({\\bf B}_{y}-{\\bf A}_{y} \\right) - \\left({\\bf D}_{y}-{\\bf A}_{y} \\right)\\left({\\bf B}_{x}-{\\bf A}_{x} \\right)\n",
    "$$\n",
    "using your `lineseg` class, can you build a function which tests if two points are on the same side of a line segment?  \n"
   ]
  },
  {
   "cell_type": "code",
   "execution_count": null,
   "metadata": {
    "collapsed": true
   },
   "outputs": [],
   "source": [
    "def same_side(A,B,C,D):\n",
    "    AC = lineseg(A,C)\n",
    "    AD = lineseg(A,D)\n",
    "    AB = lineseg(A,B)\n",
    "    \n",
    "    ACxAB = AC.dx()*AB.dy() - AC.dy()*AB.dx()\n",
    "    ADxAB = AD.dx()*AB.dy() - AD.dy()*AB.dx()\n",
    "    \n",
    "    return (ACxAB*ADxAB > 0)"
   ]
  },
  {
   "cell_type": "code",
   "execution_count": null,
   "metadata": {
    "collapsed": true
   },
   "outputs": [],
   "source": [
    "A = point()\n",
    "B = point()\n",
    "C = point()\n",
    "D = point()\n",
    "\n",
    "same_side(A,B,C,D)"
   ]
  }
 ],
 "metadata": {
  "anaconda-cloud": {},
  "kernelspec": {
   "display_name": "Python [Root]",
   "language": "python",
   "name": "Python [Root]"
  },
  "language_info": {
   "codemirror_mode": {
    "name": "ipython",
    "version": 2
   },
   "file_extension": ".py",
   "mimetype": "text/x-python",
   "name": "python",
   "nbconvert_exporter": "python",
   "pygments_lexer": "ipython2",
   "version": "2.7.12"
  }
 },
 "nbformat": 4,
 "nbformat_minor": 0
}
