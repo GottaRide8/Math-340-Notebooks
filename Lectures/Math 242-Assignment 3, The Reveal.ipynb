{
 "cells": [
  {
   "cell_type": "markdown",
   "metadata": {
    "collapsed": true
   },
   "source": [
    "<strong> Problem 1 </strong> Design a binary calculator.  By this I mean, write a function which takes in two integers which can only be $0$ or $1$.  Add them according to the following rules\n",
    "\n",
    "$$\n",
    "1 + 1 = 0, ~ 1 + 0 = 1, ~ 0 + 1 = 1, ~ 0 + 0 = 0\n",
    "$$\n",
    "\n",
    "Note, to do this, you will need to make use of the Python logical commands 'and' and 'or'.  Fill in the following code skeleton, and run the four necessary test cases to check that your function works correctly.  "
   ]
  },
  {
   "cell_type": "code",
   "execution_count": 10,
   "metadata": {
    "collapsed": false
   },
   "outputs": [],
   "source": [
    "def bin_add(x,y):\n",
    "    if (x==0 and y==0) or (x==1 and y==1):\n",
    "        return 0\n",
    "    elif (x==0 and y==1) or (x==1 and y==0):\n",
    "        return 1"
   ]
  },
  {
   "cell_type": "code",
   "execution_count": 11,
   "metadata": {
    "collapsed": false
   },
   "outputs": [
    {
     "name": "stdout",
     "output_type": "stream",
     "text": [
      "0\n"
     ]
    }
   ],
   "source": [
    "print bin_add(0,0)"
   ]
  },
  {
   "cell_type": "code",
   "execution_count": 12,
   "metadata": {
    "collapsed": false
   },
   "outputs": [
    {
     "name": "stdout",
     "output_type": "stream",
     "text": [
      "0\n"
     ]
    }
   ],
   "source": [
    "print bin_add(1,1)"
   ]
  },
  {
   "cell_type": "code",
   "execution_count": 3,
   "metadata": {
    "collapsed": false
   },
   "outputs": [],
   "source": [
    "# helper function for dealing with all this leap year madness\n",
    "def leap_count(day,nly_months,year):\n",
    "    if year%4 == 0:\n",
    "        if year%100 != 0 or year%400 == 0:\n",
    "            return day + nly_months + 29\n",
    "        else:\n",
    "            return day + nly_months + 28\n",
    "    else:\n",
    "        return day + nly_months + 28"
   ]
  },
  {
   "cell_type": "code",
   "execution_count": 4,
   "metadata": {
    "collapsed": true
   },
   "outputs": [],
   "source": [
    "def date_conv(month,day,year):\n",
    "    if month<3:\n",
    "        if month==1:\n",
    "            return day\n",
    "        elif month==2:\n",
    "            return day+31\n",
    "    else:\n",
    "        if month==3:\n",
    "            nly_days = 31\n",
    "        elif month==4:\n",
    "            nly_days = 2*31\n",
    "        elif month==5:\n",
    "            nly_days = 30 + 2*31\n",
    "        elif month==6:\n",
    "            nly_day = 30 + 3*31\n",
    "        elif month==7:\n",
    "            nly_days = 2*30 + 3*31\n",
    "        elif month==8:\n",
    "            nly_days = 2*30 + 4*31\n",
    "        elif month==9:\n",
    "            nly_days = 2*30 + 5*31\n",
    "        elif month==10:\n",
    "            nly_days = 3*30 + 5*31    \n",
    "        elif month==11:\n",
    "            nly_days = 3*30 + 6*31\n",
    "        else:\n",
    "            nly_days = 4*30 + 6*31 \n",
    "        return leap_count(day,nly_days,year)    "
   ]
  },
  {
   "cell_type": "code",
   "execution_count": 1,
   "metadata": {
    "collapsed": true
   },
   "outputs": [],
   "source": [
    "def leap_test(year):\n",
    "    if year%4 == 0:\n",
    "        if year%100 != 0 or year%400 == 0:\n",
    "            return True\n",
    "        else:\n",
    "            return False\n",
    "    else:\n",
    "        return False"
   ]
  },
  {
   "cell_type": "code",
   "execution_count": 2,
   "metadata": {
    "collapsed": true
   },
   "outputs": [],
   "source": [
    "# Format for dates should be strings of the form mo/day/year = ##/##/####, So January 22, 1958 should be input as ''01/22/1958''.  \n",
    "def date_dif_loop(date1,date2):\n",
    "    month1 = int(date1[0:2])\n",
    "    day1 = int(date1[3:5])\n",
    "    year1 = int(date1[6:10])\n",
    "    \n",
    "    month2 = int(date2[0:2])\n",
    "    day2 = int(date2[3:5])\n",
    "    year2 = int(date2[6:10])\n",
    "    \n",
    "    # First find the current total day within the given year \n",
    "    \n",
    "    tot_day1 = date_conv(month1,day1,year1)\n",
    "    tot_day2 = date_conv(month2,day2,year2)\n",
    "    \n",
    "    # Figure out which is the later year and thus later date.  If year's are equal, then return difference of days. \n",
    "    \n",
    "    if(year1==year2):\n",
    "        return abs(tot_day1-tot_day2)\n",
    "    else:\n",
    "        if(year1>year2):\n",
    "            lyear,eyear = year1, year2 \n",
    "            lday,eday = tot_day1, tot_day2\n",
    "        else:\n",
    "            lyear,eyear = year2, year1\n",
    "            lday,eday = tot_day2, tot_day1"
   ]
  },
  {
   "cell_type": "code",
   "execution_count": 20,
   "metadata": {
    "collapsed": true
   },
   "outputs": [],
   "source": [
    "# Format for dates should be strings of the form mo/day/year = ##/##/####, So January 22, 1958 should be input as ''01/22/1958''.  \n",
    "def date_dif(date1,date2):\n",
    "    month1 = int(date1[0:2])\n",
    "    day1 = int(date1[3:5])\n",
    "    year1 = int(date1[6:10])\n",
    "    \n",
    "    month2 = int(date2[0:2])\n",
    "    day2 = int(date2[3:5])\n",
    "    year2 = int(date2[6:10])\n",
    "    \n",
    "    # First find the current total day within the given year \n",
    "    \n",
    "    tot_day1 = date_conv(month1,day1,year1)\n",
    "    tot_day2 = date_conv(month2,day2,year2)\n",
    "    \n",
    "    # Figure out which is the later year and thus later date.  If year's are equal, then return difference of days. \n",
    "    \n",
    "    if(year1==year2):\n",
    "        return abs(tot_day1-tot_day2)\n",
    "    else:\n",
    "        if(year1>year2):\n",
    "            lyear,eyear = year1, year2 \n",
    "            lday,eday = tot_day1, tot_day2\n",
    "        else:\n",
    "            lyear,eyear = year2, year1\n",
    "            lday,eday = tot_day2, tot_day1\n",
    "            \n",
    "        "
   ]
  },
  {
   "cell_type": "code",
   "execution_count": 31,
   "metadata": {
    "collapsed": false
   },
   "outputs": [
    {
     "data": {
      "text/plain": [
       "1461"
      ]
     },
     "execution_count": 31,
     "metadata": {},
     "output_type": "execute_result"
    }
   ],
   "source": [
    "date_dif(\"01/22/1900\",\"01/22/1904\")"
   ]
  },
  {
   "cell_type": "code",
   "execution_count": 26,
   "metadata": {
    "collapsed": false
   },
   "outputs": [
    {
     "data": {
      "text/plain": [
       "365"
      ]
     },
     "execution_count": 26,
     "metadata": {},
     "output_type": "execute_result"
    }
   ],
   "source": [
    "date_dif(\"01/22/1961\",\"01/22/1962\")"
   ]
  },
  {
   "cell_type": "code",
   "execution_count": null,
   "metadata": {
    "collapsed": false
   },
   "outputs": [],
   "source": []
  },
  {
   "cell_type": "code",
   "execution_count": null,
   "metadata": {
    "collapsed": true
   },
   "outputs": [],
   "source": []
  }
 ],
 "metadata": {
  "anaconda-cloud": {},
  "kernelspec": {
   "display_name": "Python 2",
   "language": "python",
   "name": "python2"
  },
  "language_info": {
   "codemirror_mode": {
    "name": "ipython",
    "version": 2
   },
   "file_extension": ".py",
   "mimetype": "text/x-python",
   "name": "python",
   "nbconvert_exporter": "python",
   "pygments_lexer": "ipython2",
   "version": "2.7.11"
  }
 },
 "nbformat": 4,
 "nbformat_minor": 0
}
