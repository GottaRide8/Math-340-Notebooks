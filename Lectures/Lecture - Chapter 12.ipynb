{
 "cells": [
  {
   "cell_type": "markdown",
   "metadata": {},
   "source": [
    "<strong> Chapter 12 </strong>: Okay, now we are really getting into programing because now we get to talk about loops.  What if for reasons known only to me I wanted to print \"Hello World\" five times?  How might I make Python do that?  One way to do that is with a while loop.  Let me show you what I mean."
   ]
  },
  {
   "cell_type": "code",
   "execution_count": null,
   "metadata": {
    "collapsed": false
   },
   "outputs": [],
   "source": [
    "count = 1\n",
    "while count<=5:\n",
    "    print \"Hello World\"\n",
    "    count = count + 1"
   ]
  },
  {
   "cell_type": "markdown",
   "metadata": {},
   "source": [
    "Now that did what we wanted, but let's fuss a little about how that works.  For example we could add a little more information to get a better idea of how we update the variable 'count'."
   ]
  },
  {
   "cell_type": "code",
   "execution_count": null,
   "metadata": {
    "collapsed": false
   },
   "outputs": [],
   "source": [
    "count = 1\n",
    "while count<=5:\n",
    "    print \"Hello World\"\n",
    "    print \"The current iteration count is %d\" % count\n",
    "    count = count + 1"
   ]
  },
  {
   "cell_type": "markdown",
   "metadata": {},
   "source": [
    "So what do we see happening here?  We start with 'count = 1'.  This passes the test, 'count<=5', since one is less than five.  Then we print a couple of key things, and then we update 'count'.  Note, we can write this code in the more compact form "
   ]
  },
  {
   "cell_type": "code",
   "execution_count": null,
   "metadata": {
    "collapsed": false
   },
   "outputs": [],
   "source": [
    "count = 1\n",
    "while count<=5:\n",
    "    print \"Hello World\"\n",
    "    count += 1"
   ]
  },
  {
   "cell_type": "markdown",
   "metadata": {},
   "source": [
    "Okay, now let's do something cool.  Let's build a program to compute the greatest common divisor, or gcd, between two positive integers $a$ and $b$.  First, though, we need to learn something fundamental about integers.  You already know this, but we have to make it more formal.  So let's suppose that $b>a>1$, which we can do without loss of generality.  Then, we can write \n",
    "\n",
    "$$\n",
    "b = n_{0}a + r_{0}, ~r_{0}=0,\\cdots,a-1\n",
    "$$\n",
    "\n",
    "All we are saying here is that if we divide $a$ into $b$, we get that $b$ is some multiple of $a$ plus a remainder $r_{0}$, and if we have a remainder, it must be *strictly* less than $a$.  This is a super important point.  Lastly, we formalize the notion of a remainder by say that $r_{0}$ is $b$ 'mod' $a$, or we say \n",
    "\n",
    "$$\n",
    "b \\equiv r_{0} ~(\\mbox{mod}~ a)\n",
    "$$\n",
    "\n",
    "Now suppose that $b$ was a multiple of $a$, so that the remainder $r_{0}=0$.  Then we can see that \n",
    "\n",
    "$$\n",
    "gcd(a,b) = a, ~ \\mbox{if} ~ r_{0}=0\n",
    "$$\n",
    "\n",
    "Okay, but what if $r_{0}>0$?  Well, let's keep in mind that $r_{0}$ is strictly less than $a$, so using the logic from above, we can write\n",
    "\n",
    "$$\n",
    "a = n_{1} r_{0} + r_{1}, ~ r_{1} = 0,\\cdots,r_{0}-1\n",
    "$$\n",
    "\n",
    "Again, note, $r_{1}$ is *strictly* less than $r_{0}$.  We can now ask, what if $r_{1}=0$?  Well then that means\n",
    "\n",
    "$$\n",
    "a = n_{1} r_{0},\n",
    "$$\n",
    "\n",
    "and so that implies\n",
    "\n",
    "$$\n",
    "b = n_{0}n_{1}r_{0} + r_{0} = (n_{0}n_{1} + 1)r_{0}\n",
    "$$\n",
    "\n",
    "and so we see $r_{0}$ divides both $a$ and $b$, and without too much fuss, we can see that \n",
    "\n",
    "$$\n",
    "r_{0} = gcd(a,b), ~\\mbox{if} ~ r_{1} = 0.\n",
    "$$\n",
    "\n",
    "But what if $r_{1}>0$?  Then we will just do the same thing and compute \n",
    "\n",
    "$$\n",
    "r_{0} = n_{2}r_{1} + r_{2}, ~ r_{2} = 0,\\cdots,r_{1} - 1.\n",
    "$$\n",
    "\n",
    "Now we test, is $r_{2}=0$?  If it is, that makes $r_{1}$ the greatest common divisor.  If not, then we have to repeat the process.  Now, do you need to apply an explicit stopping criteria?  What does a flow chart look like for this process?"
   ]
  },
  {
   "cell_type": "markdown",
   "metadata": {},
   "source": [
    "The next thing to fuss about is how do we find remainders?  That is where we use the 'mod(,)' command.  So we have "
   ]
  },
  {
   "cell_type": "code",
   "execution_count": null,
   "metadata": {
    "collapsed": true
   },
   "outputs": [],
   "source": [
    "from numpy import mod as nmod"
   ]
  },
  {
   "cell_type": "code",
   "execution_count": null,
   "metadata": {
    "collapsed": false
   },
   "outputs": [],
   "source": [
    "print nmod(7,2)"
   ]
  },
  {
   "cell_type": "code",
   "execution_count": null,
   "metadata": {
    "collapsed": false
   },
   "outputs": [],
   "source": [
    "print 7%2"
   ]
  },
  {
   "cell_type": "markdown",
   "metadata": {},
   "source": [
    "Okay, so 'mod' or '%' gives us remainders.  So let's start our program.  First we take as input $a$ and $b$, and the way we have this set up, we want to know which is bigger.  So before we do anything, we test and switch.  Let me show you what I mean"
   ]
  },
  {
   "cell_type": "code",
   "execution_count": null,
   "metadata": {
    "collapsed": true
   },
   "outputs": [],
   "source": [
    "def gcd(a,b):\n",
    "    # Test if a is bigger than b, if so, then switch the values. \n",
    "    if(a>b):\n",
    "        c = b  # Need to store value of b for later!\n",
    "        b = a  # Updating value of b to be larger number\n",
    "        a = c  # Use old value of b stored as c to update a to be the smaller number\n",
    "    # Now proceed with the rest of the algorithm\n",
    "    r = b%a\n",
    "    while r!=0:\n",
    "        b=a\n",
    "        a=r\n",
    "        r=b%a            \n",
    "    return a"
   ]
  },
  {
   "cell_type": "code",
   "execution_count": null,
   "metadata": {
    "collapsed": false
   },
   "outputs": [],
   "source": [
    "gcd(302,44)"
   ]
  },
  {
   "cell_type": "code",
   "execution_count": null,
   "metadata": {
    "collapsed": true
   },
   "outputs": [],
   "source": [
    "def gcd_terse(a,b):\n",
    "    # Test if a is bigger than b, if so, then switch the values. \n",
    "    if(a>b):\n",
    "        b,a = a,b\n",
    "    # Now proceed with the rest of the algorithm\n",
    "    while b%a!=0:\n",
    "        b,a=a,b%a                    \n",
    "    return a    "
   ]
  },
  {
   "cell_type": "code",
   "execution_count": null,
   "metadata": {
    "collapsed": false
   },
   "outputs": [],
   "source": [
    "gcd_terse(302,44)"
   ]
  },
  {
   "cell_type": "markdown",
   "metadata": {},
   "source": [
    "Now, let's talk a little bit about one of the problems in the homework in which you are asked to \n",
    "compute \n",
    "\n",
    "$$\n",
    "\\sum_{k=1}^{n} \\frac{\\pi^{-k}}{k!}\n",
    "$$\n",
    "\n",
    "Now one way to do this of course is to write the following program.  Well, actually, I'm giving you a skeleton and you have to fill it in.  But it's kind of the same thing.  Sort of.  "
   ]
  },
  {
   "cell_type": "code",
   "execution_count": 1,
   "metadata": {
    "collapsed": false
   },
   "outputs": [],
   "source": [
    "from numpy import pi as Pi\n",
    "def weird_sum(n):\n",
    "    k = 1\n",
    "    tot = Pi**(-1.)\n",
    "    fac = 1.\n",
    "    while k<n:\n",
    "        k+=1 \n",
    "        fac *= float(k)\n",
    "        tot += Pi**(-float(k))/fac\n",
    "    return tot"
   ]
  },
  {
   "cell_type": "code",
   "execution_count": 2,
   "metadata": {
    "collapsed": false
   },
   "outputs": [
    {
     "data": {
      "text/plain": [
       "0.3748007143681301"
      ]
     },
     "execution_count": 2,
     "metadata": {},
     "output_type": "execute_result"
    }
   ],
   "source": [
    "weird_sum(5)"
   ]
  },
  {
   "cell_type": "markdown",
   "metadata": {},
   "source": [
    "But if you think about this, this is kind of inefficient since each term in the sum is really the product of the previous term and a new term.  What I mean is \n",
    "$$\n",
    "\\frac{\\pi^{-k}}{k!} = \\frac{\\pi^{-(k-1)}}{(k-1)!}\\frac{\\pi^{-1}}{k}\n",
    "$$\n",
    "\n",
    "How could you modify your existing code to take advantage of this fact?  Use the skeleton below to guide you.  "
   ]
  },
  {
   "cell_type": "code",
   "execution_count": 3,
   "metadata": {
    "collapsed": false
   },
   "outputs": [],
   "source": [
    "def weird_sum_rec(n):\n",
    "    k = 1\n",
    "    term = Pi**(-1)/1.\n",
    "    tot = term\n",
    "    \n",
    "    while k<n:\n",
    "        k+=1\n",
    "        term *= Pi**(-1)/float(k) \n",
    "        tot += term\n",
    "    return tot"
   ]
  },
  {
   "cell_type": "code",
   "execution_count": null,
   "metadata": {
    "collapsed": false
   },
   "outputs": [],
   "source": [
    "print weird_sum_rec(5)"
   ]
  },
  {
   "cell_type": "markdown",
   "metadata": {
    "collapsed": true
   },
   "source": [
    "Now let's think about prime numbers and how to test if a number is prime.  The simplest algorithm would work like \n",
    "\n",
    "Given input integer $n$, start dividing by every number, say $1<k<n$.  If $n\\%k=0$, stop, else, number is prime.  \n",
    "\n",
    "Okay, your turn.  Give me a flow chart, and then give me a function using the skeleton below. The function should tell the user if the input number is prime or not.  To do this, you will need to make use of the Python command `break`, which simply stops a loop when it is called.  "
   ]
  },
  {
   "cell_type": "code",
   "execution_count": 4,
   "metadata": {
    "collapsed": true
   },
   "outputs": [],
   "source": [
    "def prime_test(n):\n",
    "    k = 2\n",
    "    while k<n:\n",
    "        if(n%k==0):\n",
    "            print \"This number is not a prime number since it is divisible by %d\" % k\n",
    "            break\n",
    "        else:\n",
    "            k+=1\n",
    "    if k==n:\n",
    "        print \"This number is a prime number.\""
   ]
  },
  {
   "cell_type": "code",
   "execution_count": null,
   "metadata": {
    "collapsed": false
   },
   "outputs": [],
   "source": [
    "prime_test(1027)"
   ]
  },
  {
   "cell_type": "markdown",
   "metadata": {},
   "source": [
    "Now can you figure out how to use this function to list out all the possible prime numbers up to 200?  First, you will want to modify the above prime test function to instead of printing statements return say a 1 if a number is a prime and a zero if it is not.  Use the skeleton below to thresh this out.  "
   ]
  },
  {
   "cell_type": "code",
   "execution_count": 5,
   "metadata": {
    "collapsed": true
   },
   "outputs": [],
   "source": [
    "def prime_test_mod(n):\n",
    "    k = 2\n",
    "    while k<n:\n",
    "        if n%k==0:\n",
    "            return 0            \n",
    "        else:\n",
    "            k+=1\n",
    "    return 1"
   ]
  },
  {
   "cell_type": "markdown",
   "metadata": {},
   "source": [
    "Now that we have done that, let's build another function which calls `prime_test_mod` and then prints out only prime numbers.  Use the skeleton below "
   ]
  },
  {
   "cell_type": "code",
   "execution_count": 6,
   "metadata": {
    "collapsed": true
   },
   "outputs": [],
   "source": [
    "def prime_print(a):\n",
    "    n = 2\n",
    "    while n<a:\n",
    "        val = prime_test_mod(n)\n",
    "        if(val==1):\n",
    "            print n\n",
    "        n+=1\n",
    "            \n",
    "        "
   ]
  },
  {
   "cell_type": "markdown",
   "metadata": {},
   "source": [
    "Test your code on a couple of examples and see how well it works."
   ]
  },
  {
   "cell_type": "code",
   "execution_count": 8,
   "metadata": {
    "collapsed": false
   },
   "outputs": [
    {
     "name": "stdout",
     "output_type": "stream",
     "text": [
      "2\n",
      "3\n",
      "5\n",
      "7\n",
      "11\n",
      "13\n",
      "17\n",
      "19\n",
      "23\n",
      "29\n",
      "31\n",
      "37\n",
      "41\n",
      "43\n",
      "47\n",
      "53\n",
      "59\n",
      "61\n",
      "67\n",
      "71\n",
      "73\n",
      "79\n",
      "83\n",
      "89\n",
      "97\n",
      "101\n",
      "103\n",
      "107\n",
      "109\n",
      "113\n",
      "127\n",
      "131\n",
      "137\n",
      "139\n",
      "149\n",
      "151\n",
      "157\n",
      "163\n",
      "167\n",
      "173\n",
      "179\n",
      "181\n",
      "191\n",
      "193\n",
      "197\n",
      "199\n",
      "211\n",
      "223\n",
      "227\n",
      "229\n",
      "233\n",
      "239\n",
      "241\n",
      "251\n",
      "257\n",
      "263\n",
      "269\n",
      "271\n",
      "277\n",
      "281\n",
      "283\n",
      "293\n",
      "307\n",
      "311\n",
      "313\n",
      "317\n",
      "331\n",
      "337\n",
      "347\n",
      "349\n",
      "353\n",
      "359\n",
      "367\n",
      "373\n",
      "379\n",
      "383\n",
      "389\n",
      "397\n",
      "401\n",
      "409\n",
      "419\n",
      "421\n",
      "431\n",
      "433\n",
      "439\n",
      "443\n",
      "449\n",
      "457\n",
      "461\n",
      "463\n",
      "467\n",
      "479\n",
      "487\n",
      "491\n",
      "499\n",
      "503\n",
      "509\n",
      "521\n",
      "523\n",
      "541\n",
      "547\n",
      "557\n",
      "563\n",
      "569\n",
      "571\n",
      "577\n",
      "587\n",
      "593\n",
      "599\n",
      "601\n",
      "607\n",
      "613\n",
      "617\n",
      "619\n",
      "631\n",
      "641\n",
      "643\n",
      "647\n",
      "653\n",
      "659\n",
      "661\n",
      "673\n",
      "677\n",
      "683\n",
      "691\n",
      "701\n",
      "709\n",
      "719\n",
      "727\n",
      "733\n",
      "739\n",
      "743\n",
      "751\n",
      "757\n",
      "761\n",
      "769\n",
      "773\n",
      "787\n",
      "797\n",
      "809\n",
      "811\n",
      "821\n",
      "823\n",
      "827\n",
      "829\n",
      "839\n",
      "853\n",
      "857\n",
      "859\n",
      "863\n",
      "877\n",
      "881\n",
      "883\n",
      "887\n",
      "907\n",
      "911\n",
      "919\n",
      "929\n",
      "937\n",
      "941\n",
      "947\n",
      "953\n",
      "967\n",
      "971\n",
      "977\n",
      "983\n",
      "991\n",
      "997\n",
      "1009\n",
      "1013\n",
      "1019\n",
      "1021\n"
     ]
    }
   ],
   "source": [
    "prime_print(1027)"
   ]
  },
  {
   "cell_type": "markdown",
   "metadata": {},
   "source": [
    "Now let's start talking about sequential data types and how we might improve the above algorithm.  First though, can you explain why our `prime_print` function is horribly inefficient?  Jot down an explanation here:\n",
    "\n",
    "\n",
    "So, how can we make prime_print more efficient?  Well, by storing previously computed primes, and then using that information as we move forward since every integer is a product of primes.  Thus if we know all the primes up to a given number, we have to perform far fewer tests.  To do this, we need to use and manipulate lists.  "
   ]
  },
  {
   "cell_type": "code",
   "execution_count": 1,
   "metadata": {
    "collapsed": true
   },
   "outputs": [],
   "source": [
    "def prime_test_list(n,known_primes):\n",
    "    k = 1\n",
    "    stop_val = len(known_primes)\n",
    "    if(n>2):\n",
    "        while k<stop_val:\n",
    "            cprime = known_primes[k]\n",
    "            if n%cprime == 0:\n",
    "                return 0            \n",
    "            else:\n",
    "                k+=1\n",
    "        return 1\n",
    "    else:\n",
    "        return 1"
   ]
  },
  {
   "cell_type": "code",
   "execution_count": 2,
   "metadata": {
    "collapsed": false
   },
   "outputs": [],
   "source": [
    "def prime_print_list(a):\n",
    "    n = 2\n",
    "    known_primes = [1] \n",
    "    while(n<a):\n",
    "        val = prime_test_list(n,known_primes)\n",
    "        if(val==1):\n",
    "            known_primes.append(n)            \n",
    "        n+=1\n",
    "    print known_primes"
   ]
  },
  {
   "cell_type": "markdown",
   "metadata": {},
   "source": [
    "Now what if instead of printing all the primes, we wanted to print some subset of the primes?  In this case, we would use what is called slicing.  "
   ]
  },
  {
   "cell_type": "code",
   "execution_count": 3,
   "metadata": {
    "collapsed": false
   },
   "outputs": [
    {
     "name": "stdout",
     "output_type": "stream",
     "text": [
      "[1, 2, 3, 5, 7, 11, 13, 17, 19]\n"
     ]
    }
   ],
   "source": [
    "prime_print_list(20)"
   ]
  },
  {
   "cell_type": "code",
   "execution_count": null,
   "metadata": {
    "collapsed": true
   },
   "outputs": [],
   "source": []
  }
 ],
 "metadata": {
  "anaconda-cloud": {},
  "kernelspec": {
   "display_name": "Python 2",
   "language": "python",
   "name": "python2"
  },
  "language_info": {
   "codemirror_mode": {
    "name": "ipython",
    "version": 2
   },
   "file_extension": ".py",
   "mimetype": "text/x-python",
   "name": "python",
   "nbconvert_exporter": "python",
   "pygments_lexer": "ipython2",
   "version": "2.7.11"
  }
 },
 "nbformat": 4,
 "nbformat_minor": 0
}
