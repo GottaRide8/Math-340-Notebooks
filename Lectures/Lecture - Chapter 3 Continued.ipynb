{
 "cells": [
  {
   "cell_type": "code",
   "execution_count": 2,
   "metadata": {
    "collapsed": true
   },
   "outputs": [],
   "source": [
    "import numpy as np"
   ]
  },
  {
   "cell_type": "markdown",
   "metadata": {},
   "source": [
    "We have been subjected to a rather dull and uninspiring lecture about code we cannot yet understand."
   ]
  },
  {
   "cell_type": "code",
   "execution_count": 3,
   "metadata": {
    "collapsed": false
   },
   "outputs": [],
   "source": [
    "# This is a function which computes the square root of 'A' \n",
    "# given the initial starting guess 'x0' up to the tolerance\n",
    "# specified by 'tol'.\n",
    "\n",
    "def babylon(x0,tol,A):\n",
    "    x1 = (x0 + A/x0)/2.\n",
    "    count = 1\n",
    "    while np.abs(x1-x0)>tol:\n",
    "        x0 = x1\n",
    "        x1 = (x0 + A/x0)/2.\n",
    "        print \"%1.16f\" % x1\n",
    "        count += 1\n",
    "    print \"The Babylonian Algorithm has approximated your root to be %1.16f after %d iterations\" % (x1, count)"
   ]
  },
  {
   "cell_type": "code",
   "execution_count": 4,
   "metadata": {
    "collapsed": false
   },
   "outputs": [
    {
     "name": "stdout",
     "output_type": "stream",
     "text": [
      "25.0999212609000431\n",
      "12.5898013928813270\n",
      "6.3743300669917691\n",
      "3.3440442646449440\n",
      "1.9710612361323541\n",
      "1.4928715274547737\n",
      "1.4162857686403481\n",
      "1.4142150783237983\n",
      "1.4142135623739076\n",
      "1.4142135623730949\n",
      "1.4142135623730949\n",
      "The Babylonian Algorithm has approximated your root to be 1.4142135623730949 after 12 iterations\n"
     ]
    }
   ],
   "source": [
    "babylon(100.3,1e-15,2.)"
   ]
  },
  {
   "cell_type": "code",
   "execution_count": null,
   "metadata": {
    "collapsed": true
   },
   "outputs": [],
   "source": []
  }
 ],
 "metadata": {
  "anaconda-cloud": {},
  "kernelspec": {
   "display_name": "Python [Root]",
   "language": "python",
   "name": "Python [Root]"
  },
  "language_info": {
   "codemirror_mode": {
    "name": "ipython",
    "version": 2
   },
   "file_extension": ".py",
   "mimetype": "text/x-python",
   "name": "python",
   "nbconvert_exporter": "python",
   "pygments_lexer": "ipython2",
   "version": "2.7.12"
  }
 },
 "nbformat": 4,
 "nbformat_minor": 0
}
