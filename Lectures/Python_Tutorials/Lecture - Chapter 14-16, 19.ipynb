{
 "cells": [
  {
   "cell_type": "markdown",
   "metadata": {},
   "source": [
    "<strong> Chapter 19: </strong> Briefly, we explain for loops.  "
   ]
  },
  {
   "cell_type": "markdown",
   "metadata": {},
   "source": [
    "While loops are characterized by logical stopping criteria, i.e. do until some condition is met or some condition fails.  A for loop is defined by a stop and start point.  "
   ]
  },
  {
   "cell_type": "code",
   "execution_count": 2,
   "metadata": {
    "collapsed": true
   },
   "outputs": [],
   "source": [
    "hal = [\"Hello\",\"Dave,\",\"would\",\"you\",\"like\",\"to\",\"play\",\"a\",\"game\",\"of\",\"chess?\"]"
   ]
  },
  {
   "cell_type": "code",
   "execution_count": 3,
   "metadata": {},
   "outputs": [
    {
     "data": {
      "text/plain": [
       "'Hello'"
      ]
     },
     "execution_count": 3,
     "metadata": {},
     "output_type": "execute_result"
    }
   ],
   "source": [
    "hal[0]"
   ]
  },
  {
   "cell_type": "code",
   "execution_count": 6,
   "metadata": {},
   "outputs": [
    {
     "name": "stdout",
     "output_type": "stream",
     "text": [
      "[0, 1, 2]\n"
     ]
    }
   ],
   "source": [
    "print range(0,3)"
   ]
  },
  {
   "cell_type": "code",
   "execution_count": 5,
   "metadata": {},
   "outputs": [
    {
     "name": "stdout",
     "output_type": "stream",
     "text": [
      "Hello\n",
      "Dave,\n",
      "would\n",
      "you\n",
      "like\n",
      "to\n",
      "play\n",
      "a\n",
      "game\n",
      "of\n",
      "chess?\n"
     ]
    }
   ],
   "source": [
    "for jj in xrange(0,len(hal)):\n",
    "    print hal[jj]"
   ]
  },
  {
   "cell_type": "markdown",
   "metadata": {},
   "source": [
    "So we see that `len(hal)=11`, and so `range(0,len(hal))=[0 1 2 ... 10]`, and then **for** those values `jj` in that range of values, we iterate through the list `hal` and print out each string within said list.  Note, for loops in Python are very flexible.  So for example we could accomplish the same thing as above by writing "
   ]
  },
  {
   "cell_type": "code",
   "execution_count": 5,
   "metadata": {},
   "outputs": [
    {
     "name": "stdout",
     "output_type": "stream",
     "text": [
      "Hello\n",
      "Dave,\n",
      "would\n",
      "you\n",
      "like\n",
      "to\n",
      "play\n",
      "a\n",
      "game\n",
      "of\n",
      "chess?\n"
     ]
    }
   ],
   "source": [
    "for word in hal:\n",
    "    print word"
   ]
  },
  {
   "cell_type": "markdown",
   "metadata": {},
   "source": [
    "So that is pretty slick.  If we know `hal` is a list, we can iterate over it *word by word*, and Python allows us to code the way we as people think.  Okay, your turn.  Write two different programs that only print the second to last, or penultimate, word in the list of strings we have called `hal`.  To do this two different ways, you will need to use the command\n",
    "\n",
    "`ind = hal.index(word)`"
   ]
  },
  {
   "cell_type": "code",
   "execution_count": 6,
   "metadata": {},
   "outputs": [
    {
     "name": "stdout",
     "output_type": "stream",
     "text": [
      "of\n"
     ]
    }
   ],
   "source": [
    "for jj in range(len(hal)-2,len(hal)-1):\n",
    "    print hal[jj]"
   ]
  },
  {
   "cell_type": "code",
   "execution_count": 7,
   "metadata": {},
   "outputs": [
    {
     "name": "stdout",
     "output_type": "stream",
     "text": [
      "of\n"
     ]
    }
   ],
   "source": [
    "for word in hal:\n",
    "    ind = hal.index(word)\n",
    "    if ind == len(hal)-2:\n",
    "        print word"
   ]
  },
  {
   "cell_type": "markdown",
   "metadata": {},
   "source": [
    "Okay, write another program which changes the name \"Dave\" to \"Chris\".  "
   ]
  },
  {
   "cell_type": "code",
   "execution_count": 8,
   "metadata": {
    "collapsed": true
   },
   "outputs": [],
   "source": [
    "for word in hal:\n",
    "    if word == \"Dave,\":\n",
    "        ind = hal.index(word)\n",
    "        hal[ind] = \"Chris,\""
   ]
  },
  {
   "cell_type": "code",
   "execution_count": 9,
   "metadata": {},
   "outputs": [
    {
     "name": "stdout",
     "output_type": "stream",
     "text": [
      "['Hello', 'Chris,', 'would', 'you', 'like', 'to', 'play', 'a', 'game', 'of', 'chess?']\n"
     ]
    }
   ],
   "source": [
    "print hal"
   ]
  },
  {
   "cell_type": "markdown",
   "metadata": {},
   "source": [
    "<strong> Chapter 13-15 </strong>: A quick tour"
   ]
  },
  {
   "cell_type": "markdown",
   "metadata": {},
   "source": [
    "So a cool thing about this is that we can work with files in a very natural way.  For example, I can import text files such as 'beyonce.txt' and then print the lines by writing the following "
   ]
  },
  {
   "cell_type": "code",
   "execution_count": 10,
   "metadata": {},
   "outputs": [
    {
     "name": "stdout",
     "output_type": "stream",
     "text": [
      "The line number is 1.\n",
      "Nothing else seems to hurt like the smile on your face when it is only in my memory.  \n",
      "\n",
      "The line number is 2.\n",
      "I am the dragon breathing fire, beautiful mane, I'm the lion.\n",
      "\n",
      "The line number is 3.\n",
      "Our love was stronger than your pride. \n",
      "\n",
      "The line number is 4.\n",
      "You don't deserve my tears, I guess that's why they ain't there. \n"
     ]
    }
   ],
   "source": [
    "queen_bee = open('beyonce.txt')\n",
    "count = 0\n",
    "for line in queen_bee:\n",
    "    count += 1\n",
    "    print \"The line number is %d.\" % count\n",
    "    print line\n",
    "queen_bee.close()"
   ]
  },
  {
   "cell_type": "markdown",
   "metadata": {},
   "source": [
    "So we see that yes, the text file is treated as a series of lines. And in terms of reading the lines, that is also straightforward."
   ]
  },
  {
   "cell_type": "code",
   "execution_count": 11,
   "metadata": {},
   "outputs": [
    {
     "name": "stdout",
     "output_type": "stream",
     "text": [
      "Nothing\n",
      "I\n",
      "Our\n",
      "You\n"
     ]
    }
   ],
   "source": [
    "queen_bee = open('beyonce.txt')\n",
    "for line in queen_bee:\n",
    "    line = line.rstrip() # Remove trailing white space\n",
    "    words = line.split() # Turns the line into a list of words\n",
    "    print words[0]\n",
    "queen_bee.close()"
   ]
  },
  {
   "cell_type": "markdown",
   "metadata": {
    "collapsed": true
   },
   "source": [
    "We can then readily start answering various questions.  Like, what if we want to print out only those lines that contain the word 'fire' in them.  Then what we do is the following"
   ]
  },
  {
   "cell_type": "code",
   "execution_count": 12,
   "metadata": {},
   "outputs": [],
   "source": [
    "queen_bee = open('beyonce.txt')\n",
    "for line in queen_bee:\n",
    "    line = line.rstrip() # Remove trailing white space\n",
    "    words = line.split() # Turns the line into a list of words by breaking line up across spaces.\n",
    "    if \"fire\" in words:\n",
    "        print line\n",
    "queen_bee.close()"
   ]
  },
  {
   "cell_type": "markdown",
   "metadata": {},
   "source": [
    "Okay, that didn't do anything.  Why not?  Write the code that will actually do something."
   ]
  },
  {
   "cell_type": "code",
   "execution_count": 13,
   "metadata": {},
   "outputs": [
    {
     "name": "stdout",
     "output_type": "stream",
     "text": [
      "I am the dragon breathing fire, beautiful mane, I'm the lion.\n"
     ]
    }
   ],
   "source": [
    "queen_bee = open('beyonce.txt')\n",
    "for line in queen_bee:\n",
    "    line = line.rstrip() # Remove trailing white space\n",
    "    words = line.split() # Turns the line into a list of words by breaking line up across spaces.\n",
    "    if \"fire,\" in words:\n",
    "        print line\n",
    "queen_bee.close()"
   ]
  },
  {
   "cell_type": "markdown",
   "metadata": {},
   "source": [
    "So maybe we also want to process each line not just into words, but remove punctuation marks. How would you do this?"
   ]
  },
  {
   "cell_type": "code",
   "execution_count": 14,
   "metadata": {},
   "outputs": [
    {
     "name": "stdout",
     "output_type": "stream",
     "text": [
      "I am the dragon breathing fire, beautiful mane, I'm the lion.\n"
     ]
    }
   ],
   "source": [
    "queen_bee = open('beyonce.txt')\n",
    "\n",
    "for line in queen_bee:\n",
    "    line = line.rstrip() # Remove trailing white space\n",
    "    words = line.split() # Turns the line into a list of words by breaking line up across spaces.\n",
    "    cnt = 0\n",
    "    cuts = []\n",
    "    for word in words:\n",
    "        if \",\" in word:\n",
    "            words[cnt] = word[0:len(word)-1] # Thus, we change the list element, not the word itself.\n",
    "        cnt+=1\n",
    "    if \"fire\" in words:\n",
    "        print line\n",
    "\n",
    "queen_bee.close()"
   ]
  },
  {
   "cell_type": "markdown",
   "metadata": {},
   "source": [
    "Okay, your turn.  Write a program that does two things.  First, not only should it remove commas, but it should keep track from which words the commas were removed.  Second, it should determine if a line contains the word \"fire\", and if it does, replace \"fire\" with \"flames\".  Lastly, it should print the modified line.  To do the word replacement easily, use the list command\n",
    "\n",
    "`words.index(\"fire\")`"
   ]
  },
  {
   "cell_type": "markdown",
   "metadata": {
    "collapsed": true
   },
   "source": [
    "Now of course, the punctuation is all wacky.  Can you find a way to put the punctuation back where it belongs?  To do this, we need to try and use string concantenation.  So for example if I type"
   ]
  },
  {
   "cell_type": "code",
   "execution_count": null,
   "metadata": {},
   "outputs": [],
   "source": [
    "print \"flames\"+\",\""
   ]
  },
  {
   "cell_type": "markdown",
   "metadata": {
    "collapsed": true
   },
   "source": [
    "So using this, and noting that you have kept track of when you removed commas, to put the commas back in the right places, try using string concantenation in just the right places and then use \n",
    "\n",
    "`delimeter = ' '`\n",
    "\n",
    "`print delimeter.join(words)`\n",
    "\n",
    "to transform the list of words back into a line.  "
   ]
  },
  {
   "cell_type": "code",
   "execution_count": 1,
   "metadata": {},
   "outputs": [
    {
     "name": "stdout",
     "output_type": "stream",
     "text": [
      "Nothing else seems to hurt like the smile on your face when it is only in my memory.\n",
      "I am the dragon breathing flames, beautiful mane, I'm the lion.\n",
      "Our love was stronger than your pride.\n",
      "You don't deserve my tears, I guess that's why they ain't there.\n"
     ]
    }
   ],
   "source": [
    "queen_bee = open('beyonce.txt')\n",
    "\n",
    "for line in queen_bee:\n",
    "    \n",
    "    line = line.rstrip() # Remove trailing white space\n",
    "    words = line.split() # Turns the line into a list of words by breaking line up across spaces.\n",
    "    cuts = []    \n",
    "    cnt = 0\n",
    "    for word in words:\n",
    "        if \",\" in word:\n",
    "            words[cnt] = word[0:len(word)-1] # Thus, we change the list element, not the word itself.\n",
    "            cuts.append(cnt)\n",
    "        cnt+=1\n",
    "    if \"fire\" in words:\n",
    "        ind = words.index(\"fire\")\n",
    "        words[ind] = \"flames\"\n",
    "    for cut in cuts:\n",
    "        words[cut] += \",\"\n",
    "    #for kk in range(0,len(cuts)):\n",
    "    #    words[cuts[kk]] = \",\"\n",
    "    delimeter = ' '\n",
    "    print delimeter.join(words)\n",
    "queen_bee.close()"
   ]
  },
  {
   "cell_type": "markdown",
   "metadata": {},
   "source": [
    "Now that you can do that, write a program which counts and then removes all punctuation.  Further, your program should count how many times the letter 't' occurs in the document.  "
   ]
  },
  {
   "cell_type": "code",
   "execution_count": null,
   "metadata": {},
   "outputs": [],
   "source": [
    "queen_bee = open('beyonce.txt')\n",
    "\n",
    "ccuts = 0\n",
    "acuts = 0\n",
    "pcuts = 0\n",
    "tcnt = 0\n",
    "\n",
    "for line in queen_bee:\n",
    "    line = line.rstrip() # Remove trailing white space\n",
    "    words = line.split() # Turns the line into a list of words by breaking line up across spaces.\n",
    "    # Need to keep track of how many commas, apostrophes, and periods are in the document.     \n",
    "    cnt = 0\n",
    "    for word in words: \n",
    "        if \",\" in word:\n",
    "            ccuts+=1\n",
    "            word = words[cnt]\n",
    "            words[cnt] = word[0:len(word)-1]\n",
    "        \n",
    "print \"Total number of commas %d\" % ccuts\n",
    "print \"Total number of apostrophes %d\" % acuts\n",
    "print \"Total number of periods %d\" % pcuts\n",
    "print \"Total number of t's %d\" % tcnt\n",
    "\n",
    "queen_bee.close()"
   ]
  },
  {
   "cell_type": "markdown",
   "metadata": {
    "collapsed": true
   },
   "source": [
    "<strong> Chapter 17 </strong>: The return"
   ]
  },
  {
   "cell_type": "markdown",
   "metadata": {},
   "source": [
    "So, use a for loop based approach to compute an approximation to $\\sin(x)$ using the first $n+1$ terms of its Maclaurin series.  In other words, define a function which computes\n",
    "\n",
    "$$\n",
    "\\sin(x) \\approx \\sum_{k=0}^{n} \\frac{(-1)^{k}}{(2k+1)!}x^{2k+1}\n",
    "$$\n",
    "\n",
    "Make use of recursion to make this as efficient as possible.  "
   ]
  },
  {
   "cell_type": "code",
   "execution_count": null,
   "metadata": {
    "collapsed": true
   },
   "outputs": [],
   "source": [
    "def mac_sin(x,n):\n",
    "   "
   ]
  },
  {
   "cell_type": "markdown",
   "metadata": {},
   "source": [
    "Okay, do this again, except now use a while loop and stop when a given term in the series is smaller than a user defined tolerance.  "
   ]
  },
  {
   "cell_type": "code",
   "execution_count": null,
   "metadata": {
    "collapsed": true
   },
   "outputs": [],
   "source": [
    "def mac_sin_tol(x,tol):\n",
    "    "
   ]
  },
  {
   "cell_type": "code",
   "execution_count": null,
   "metadata": {},
   "outputs": [],
   "source": [
    "print mac_sin_tol(3.1415/2,1e-6)"
   ]
  },
  {
   "cell_type": "markdown",
   "metadata": {},
   "source": [
    "Now make a for loop based function which finds the inner product between two vectors.  That is, given two lists with $n$ terms say \n",
    "\n",
    "$$\n",
    "{\\bf v} = [v_{1} v_{2} \\cdots v_{n}], ~ {\\bf w} = [w_{1} w_{2} \\cdots w_{n}]\n",
    "$$\n",
    "\n",
    "find\n",
    "\n",
    "$$\n",
    "{\\bf v}\\cdot {\\bf w} = \\sum_{j=1}^{n}v_{j}w_{j}.\n",
    "$$"
   ]
  },
  {
   "cell_type": "code",
   "execution_count": null,
   "metadata": {
    "collapsed": true
   },
   "outputs": [],
   "source": []
  },
  {
   "cell_type": "code",
   "execution_count": null,
   "metadata": {
    "collapsed": true
   },
   "outputs": [],
   "source": [
    "def inner_prod(v,w):\n",
    "    "
   ]
  },
  {
   "cell_type": "code",
   "execution_count": null,
   "metadata": {},
   "outputs": [],
   "source": [
    "print inner_prod([1,1],[1,1,2])"
   ]
  },
  {
   "cell_type": "code",
   "execution_count": null,
   "metadata": {
    "collapsed": true
   },
   "outputs": [],
   "source": []
  }
 ],
 "metadata": {
  "anaconda-cloud": {},
  "kernelspec": {
   "display_name": "Python 2",
   "language": "python",
   "name": "python2"
  },
  "language_info": {
   "codemirror_mode": {
    "name": "ipython",
    "version": 2
   },
   "file_extension": ".py",
   "mimetype": "text/x-python",
   "name": "python",
   "nbconvert_exporter": "python",
   "pygments_lexer": "ipython2",
   "version": "2.7.13"
  }
 },
 "nbformat": 4,
 "nbformat_minor": 1
}
