{
 "cells": [
  {
   "cell_type": "markdown",
   "metadata": {},
   "source": [
    "<strong> Chapter 26 </strong>: Recursion"
   ]
  },
  {
   "cell_type": "markdown",
   "metadata": {},
   "source": [
    "Okay, we've talked about this issue on and off throughout the class thus far.  Now, let us spend some time formally working through it and seeing how we can use it to develop distinctly unique types of programs.  Of course, this begins, as always with the factorial \n",
    "\n",
    "$$\n",
    "n! = n \\cdot (n-1)!\n",
    "$$\n",
    "\n",
    "So, while we have often spoken in terms of \"new term\", \"update\", \"old term\", as in \n",
    "\n",
    "<p><center>\n",
    "new term = update $\\cdot$ (old term)\n",
    "</center></p>\n",
    "\n",
    "A better way to talk about this might be to say that there is a function, say factorial(), which when given $n$ finds $n!$, i.e. \n",
    "\n",
    "<p><center>\n",
    "$n!$ = factorial(n)\n",
    "</center></p>\n",
    "\n",
    "What is interesting then is that we can write the formula from above as \n",
    "\n",
    "<p><center>\n",
    "factorial(n) = n $\\cdot$ factorial(n-1)\n",
    "</center></p>\n",
    "\n",
    "It is this \"function calling itself\" which typefies a recursive scheme.  Based of this, we might be inclined to write the following function to find $n!$:"
   ]
  },
  {
   "cell_type": "code",
   "execution_count": 1,
   "metadata": {
    "collapsed": true
   },
   "outputs": [],
   "source": [
    "def factorial(n):\n",
    "    return n*factorial(n-1)"
   ]
  },
  {
   "cell_type": "markdown",
   "metadata": {},
   "source": [
    "But there is a problem with this.  How do we know when to stop calling ourself?  Well, when would we stop if we were doing this by hand?  \n",
    "\n",
    "$$\n",
    "n! = n(n-1)(n-2)\\cdots 2\\cdot 1 \\cdot 0!\n",
    "$$\n",
    "\n",
    "Thus, if we use the convenction that $0! = 1$, we should stop when $n=0$.  So we modify the function call above so that it is now "
   ]
  },
  {
   "cell_type": "code",
   "execution_count": 4,
   "metadata": {
    "collapsed": true
   },
   "outputs": [],
   "source": [
    "def factorial(n):\n",
    "    if n==0:\n",
    "        return 1 # Stopping Condition\n",
    "    else:\n",
    "        return n*factorial(n-1) # Recursive Function Call"
   ]
  },
  {
   "cell_type": "markdown",
   "metadata": {},
   "source": [
    "So, we see that to perform recursion, we need to components\n",
    "\n",
    "1.  We have to have a recursive sub-call i.e. the n*factorial(n-1)\n",
    "\n",
    "2.  We have to have a stopping condition which in effect feeds back up the ladder as it were.\n",
    "\n",
    "Now, let's revisit an old problem from a different point of view.  In the homework, I asked you to compute \n",
    "\n",
    "$$\n",
    "\\begin{pmatrix} n \\\\ k \\end{pmatrix} = \\frac{n!}{k!(n-k)!}\n",
    "$$\n",
    "\n",
    "In this problem, I suggested you make use of the identity\n",
    "\n",
    "$$\n",
    "\\begin{pmatrix} n \\\\ k \\end{pmatrix} = \\begin{pmatrix} n-1 \\\\ k-1 \\end{pmatrix} + \\begin{pmatrix} n-1 \\\\ k \\end{pmatrix}\n",
    "$$\n",
    "\n",
    "This is a recursive identity.  We can see this by making up a function name, say `choose(k,n)` where\n",
    "\n",
    "<p><center>\n",
    "$ \\begin{pmatrix} n \\\\ k \\end{pmatrix} $ = `choose(k,n)`\n",
    "</center></p>\n",
    "\n",
    "Then we can write the above recursive identity as \n",
    "\n",
    "<p><center>\n",
    "`choose(k,n)` = `choose(k-1,n-1)` + `choose(k,n-1)`\n",
    "</center></p>\n",
    "\n",
    "So your turn.  Implement this function recursively.  Note, you will have to figure out a stopping condition and the recursive function call. "
   ]
  },
  {
   "cell_type": "code",
   "execution_count": 1,
   "metadata": {
    "scrolled": true
   },
   "outputs": [],
   "source": [
    "def choose(k,n):\n",
    "    if k==0 or k==n: \n",
    "        return 1 # Stopping condition goes here.\n",
    "    else:\n",
    "        return choose(k-1,n-1) + choose(k,n-1)# Recursive function call goes here. "
   ]
  },
  {
   "cell_type": "code",
   "execution_count": 2,
   "metadata": {},
   "outputs": [
    {
     "data": {
      "text/plain": [
       "3"
      ]
     },
     "execution_count": 2,
     "metadata": {},
     "output_type": "execute_result"
    }
   ],
   "source": [
    "choose(2,3)"
   ]
  },
  {
   "cell_type": "markdown",
   "metadata": {},
   "source": [
    "Following the book, let us look at the example of Fibonacci sequences.  The classic example is, for $n\\geq 2$ \n",
    "\n",
    "$$\n",
    "p_{n} = p_{n-1} + p_{n-2}, ~ p_{0}=p_{1}=1.\n",
    "$$\n",
    "\n",
    "Thus, following the recipe, we get the classic series\n",
    "\n",
    "$$\n",
    "p_{2}=p_{1}+p_{0}=1+1=2,\n",
    "$$\n",
    "\n",
    "$$\n",
    "p_{3} = p_{2} + p_{1} = 2+1 = 3,\n",
    "$$\n",
    "\n",
    "or $1,1,2,3,5,8,13,21,\\cdots$.  We can see a recursive structure here by defining a function `fibonacci(n)` so that \n",
    "\n",
    "<p><center>\n",
    "$p_{n}$ = `fibonacci(n)`\n",
    "</center></p>\n",
    "\n",
    "Thus we get that \n",
    "\n",
    "<p><center>\n",
    "`fibonacci(n)` = `fibonacci(n-1)` + `fibonacci(n-2)`\n",
    "</center></p>\n",
    "\n",
    "Again, the real trick is to see how we stop.  Let's use the following diagram to get a feel for how this might work.\n",
    "\n",
    "![title](fibonacci_recurs.png)\n",
    "\n",
    "Alright, your turn. Implement a recursive version of the Fibonacci sequence.  You need to figure out the recursive function call and the stopping condition.  "
   ]
  },
  {
   "cell_type": "code",
   "execution_count": 2,
   "metadata": {
    "collapsed": true
   },
   "outputs": [],
   "source": [
    "def fibonacci(n):\n",
    "    if n==0 or n==1: # Insert stopping condition\n",
    "        return 1\n",
    "    else: # Insert recursive function call.\n",
    "        return fibonacci(n-1) + fibonacci(n-2)"
   ]
  },
  {
   "cell_type": "code",
   "execution_count": 4,
   "metadata": {},
   "outputs": [
    {
     "data": {
      "text/plain": [
       "5"
      ]
     },
     "execution_count": 4,
     "metadata": {},
     "output_type": "execute_result"
    }
   ],
   "source": [
    "fibonacci(4)"
   ]
  },
  {
   "cell_type": "code",
   "execution_count": null,
   "metadata": {
    "collapsed": true
   },
   "outputs": [],
   "source": []
  }
 ],
 "metadata": {
  "kernelspec": {
   "display_name": "Python 2",
   "language": "python",
   "name": "python2"
  },
  "language_info": {
   "codemirror_mode": {
    "name": "ipython",
    "version": 2
   },
   "file_extension": ".py",
   "mimetype": "text/x-python",
   "name": "python",
   "nbconvert_exporter": "python",
   "pygments_lexer": "ipython2",
   "version": "2.7.13"
  }
 },
 "nbformat": 4,
 "nbformat_minor": 1
}
