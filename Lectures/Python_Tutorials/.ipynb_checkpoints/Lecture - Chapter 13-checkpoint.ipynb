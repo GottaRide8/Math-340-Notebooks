{
 "cells": [
  {
   "cell_type": "code",
   "execution_count": 13,
   "metadata": {
    "collapsed": true
   },
   "outputs": [],
   "source": [
    "import numpy as np\n",
    "import matplotlib.pyplot as plt\n",
    "%matplotlib inline"
   ]
  },
  {
   "cell_type": "markdown",
   "metadata": {},
   "source": [
    "<strong> Chapter 12 </strong>: Okay, now we are really getting into programing because now we get to talk about loops.  What if for reasons known only to me I wanted to print \"Hello World\" five times?  How might I make Python do that?  One way to do that is with a while loop.  Let me show you what I mean."
   ]
  },
  {
   "cell_type": "code",
   "execution_count": 1,
   "metadata": {},
   "outputs": [
    {
     "name": "stdout",
     "output_type": "stream",
     "text": [
      "Hello World\n",
      "Hello World\n",
      "Hello World\n",
      "Hello World\n",
      "Hello World\n"
     ]
    }
   ],
   "source": [
    "count = 1\n",
    "while count<=5:\n",
    "    print \"Hello World\"\n",
    "    count = count + 1"
   ]
  },
  {
   "cell_type": "markdown",
   "metadata": {},
   "source": [
    "Now that did what we wanted, but let's fuss a little about how that works.  For example we could add a little more information to get a better idea of how we update the variable 'count'."
   ]
  },
  {
   "cell_type": "code",
   "execution_count": 2,
   "metadata": {},
   "outputs": [
    {
     "name": "stdout",
     "output_type": "stream",
     "text": [
      "Hello World\n",
      "The current iteration count is 1\n",
      "Hello World\n",
      "The current iteration count is 2\n",
      "Hello World\n",
      "The current iteration count is 3\n",
      "Hello World\n",
      "The current iteration count is 4\n",
      "Hello World\n",
      "The current iteration count is 5\n"
     ]
    }
   ],
   "source": [
    "count = 1\n",
    "while count<=5:\n",
    "    print \"Hello World\"\n",
    "    print \"The current iteration count is %d\" % count\n",
    "    count = count + 1"
   ]
  },
  {
   "cell_type": "markdown",
   "metadata": {},
   "source": [
    "So what do we see happening here?  We start with 'count = 1'.  This passes the test, 'count<=5', since one is less than five.  Then we print a couple of key things, and then we update 'count'.  Note, we can write this code in the more compact form "
   ]
  },
  {
   "cell_type": "code",
   "execution_count": 3,
   "metadata": {},
   "outputs": [
    {
     "name": "stdout",
     "output_type": "stream",
     "text": [
      "Hello World\n",
      "Hello World\n",
      "Hello World\n",
      "Hello World\n",
      "Hello World\n"
     ]
    }
   ],
   "source": [
    "count = 1\n",
    "while count<=5:\n",
    "    print \"Hello World\"\n",
    "    count += 1"
   ]
  },
  {
   "cell_type": "markdown",
   "metadata": {},
   "source": [
    "Okay, now let's do something cool.  Let's build a program to compute the greatest common divisor, or gcd, between two positive integers $a$ and $b$.  First, though, we need to learn something fundamental about integers.  You already know this, but we have to make it more formal.  So let's suppose that $b>a>1$, which we can do without loss of generality.  Then, we can write \n",
    "\n",
    "$$\n",
    "b = n_{0}a + r_{0}, ~r_{0}=0,\\cdots,a-1\n",
    "$$\n",
    "\n",
    "All we are saying here is that if we divide $a$ into $b$, we get that $b$ is some multiple of $a$ plus a remainder $r_{0}$, and if we have a remainder, it must be *strictly* less than $a$.  This is a super important point.  Lastly, we formalize the notion of a remainder by say that $r_{0}$ is $b$ 'mod' $a$, or we say \n",
    "\n",
    "$$\n",
    "b \\equiv r_{0} ~(\\mbox{mod}~ a)\n",
    "$$\n",
    "\n",
    "Now suppose that $b$ was a multiple of $a$, so that the remainder $r_{0}=0$.  Then we can see that \n",
    "\n",
    "$$\n",
    "gcd(a,b) = a, ~ \\mbox{if} ~ r_{0}=0\n",
    "$$\n",
    "\n",
    "Okay, but what if $r_{0}>0$?  Well, let's keep in mind that $r_{0}$ is strictly less than $a$, so using the logic from above, we can write\n",
    "\n",
    "$$\n",
    "a = n_{1} r_{0} + r_{1}, ~ r_{1} = 0,\\cdots,r_{0}-1\n",
    "$$\n",
    "\n",
    "Again, note, $r_{1}$ is *strictly* less than $r_{0}$.  We can now ask, what if $r_{1}=0$?  Well then that means\n",
    "\n",
    "$$\n",
    "a = n_{1} r_{0},\n",
    "$$\n",
    "\n",
    "and so that implies\n",
    "\n",
    "$$\n",
    "b = n_{0}n_{1}r_{0} + r_{0} = (n_{0}n_{1} + 1)r_{0}\n",
    "$$\n",
    "\n",
    "and so we see $r_{0}$ divides both $a$ and $b$, and without too much fuss, we can see that \n",
    "\n",
    "$$\n",
    "r_{0} = gcd(a,b), ~\\mbox{if} ~ r_{1} = 0.\n",
    "$$\n",
    "\n",
    "But what if $r_{1}>0$?  Then we will just do the same thing and compute \n",
    "\n",
    "$$\n",
    "r_{0} = n_{2}r_{1} + r_{2}, ~ r_{2} = 0,\\cdots,r_{1} - 1.\n",
    "$$\n",
    "\n",
    "Now we test, is $r_{2}=0$?  If it is, that makes $r_{1}$ the greatest common divisor.  If not, then we have to repeat the process.  Now, do you need to apply an explicit stopping criteria?  What does a flow chart look like for this process?"
   ]
  },
  {
   "cell_type": "markdown",
   "metadata": {},
   "source": [
    "The next thing to fuss about is how do we find remainders?  That is where we use the 'mod(,)' command.  So we have "
   ]
  },
  {
   "cell_type": "code",
   "execution_count": null,
   "metadata": {
    "collapsed": true
   },
   "outputs": [],
   "source": [
    "from numpy import mod as nmod"
   ]
  },
  {
   "cell_type": "code",
   "execution_count": null,
   "metadata": {},
   "outputs": [],
   "source": [
    "print nmod(7,2)"
   ]
  },
  {
   "cell_type": "code",
   "execution_count": null,
   "metadata": {},
   "outputs": [],
   "source": [
    "print 7%2"
   ]
  },
  {
   "cell_type": "markdown",
   "metadata": {},
   "source": [
    "Okay, so 'mod' or '%' gives us remainders.  So let's start our program.  First we take as input $a$ and $b$, and the way we have this set up, we want to know which is bigger.  So before we do anything, we test and switch.  Let me show you what I mean"
   ]
  },
  {
   "cell_type": "code",
   "execution_count": 6,
   "metadata": {
    "collapsed": true
   },
   "outputs": [],
   "source": [
    "def gcd(a,b):\n",
    "    \n",
    "    if a>b:\n",
    "        b,a = a,b\n",
    "    \n",
    "    r0 = b%a\n",
    "    while r0!=0:\n",
    "        b = a\n",
    "        a = r0\n",
    "        r0 = b%a\n",
    "    return a"
   ]
  },
  {
   "cell_type": "code",
   "execution_count": 8,
   "metadata": {},
   "outputs": [
    {
     "data": {
      "text/plain": [
       "2"
      ]
     },
     "execution_count": 8,
     "metadata": {},
     "output_type": "execute_result"
    }
   ],
   "source": [
    "gcd(302,44)"
   ]
  },
  {
   "cell_type": "code",
   "execution_count": 9,
   "metadata": {
    "collapsed": true
   },
   "outputs": [],
   "source": [
    "def gcd_terse(a,b):\n",
    "    if a>b:\n",
    "        b,a = a,b\n",
    "    \n",
    "    r0 = b%a\n",
    "    while r0!=0:\n",
    "        b,a = a,r0\n",
    "        r0 = b%a\n",
    "    return a"
   ]
  },
  {
   "cell_type": "code",
   "execution_count": 10,
   "metadata": {},
   "outputs": [
    {
     "data": {
      "text/plain": [
       "2"
      ]
     },
     "execution_count": 10,
     "metadata": {},
     "output_type": "execute_result"
    }
   ],
   "source": [
    "gcd_terse(302,44)"
   ]
  },
  {
   "cell_type": "markdown",
   "metadata": {},
   "source": [
    "Now, let's talk a little bit about one of the problems in the homework in which you are asked to \n",
    "compute \n",
    "\n",
    "$$\n",
    "\\sum_{k=1}^{n} \\frac{\\pi^{-k}}{k!}\n",
    "$$\n",
    "\n",
    "Now one way to do this of course is to write the following program.  Well, actually, I'm giving you a skeleton and you have to fill it in.  But it's kind of the same thing.  Sort of.  "
   ]
  },
  {
   "cell_type": "code",
   "execution_count": 16,
   "metadata": {},
   "outputs": [],
   "source": [
    "from numpy import pi as Pi\n",
    "from math import factorial as factorial\n",
    "def weird_sum(n):\n",
    "    k = 1\n",
    "    Pinv = Pi**(-1.)\n",
    "    Sk = Pinv\n",
    "    tk = Pinv\n",
    "    while k<n:\n",
    "        k+=1 \n",
    "        tk *= Pinv/k \n",
    "        Sk += tk \n",
    "    return Sk"
   ]
  },
  {
   "cell_type": "code",
   "execution_count": 17,
   "metadata": {},
   "outputs": [
    {
     "data": {
      "text/plain": [
       "0.3748007143681301"
      ]
     },
     "execution_count": 17,
     "metadata": {},
     "output_type": "execute_result"
    }
   ],
   "source": [
    "weird_sum(5)"
   ]
  },
  {
   "cell_type": "markdown",
   "metadata": {},
   "source": [
    "But if you think about this, this is kind of inefficient since each term in the sum is really the product of the previous term and a new term.  What I mean is \n",
    "$$\n",
    "\\frac{\\pi^{-k}}{k!} = \\frac{\\pi^{-(k-1)}}{(k-1)!}\\frac{\\pi^{-1}}{k}\n",
    "$$\n",
    "\n",
    "How could you modify your existing code to take advantage of this fact?  Use the skeleton below to guide you.  "
   ]
  },
  {
   "cell_type": "code",
   "execution_count": 3,
   "metadata": {},
   "outputs": [],
   "source": [
    "def weird_sum_rec(n):\n",
    "    "
   ]
  },
  {
   "cell_type": "code",
   "execution_count": null,
   "metadata": {},
   "outputs": [],
   "source": [
    "print weird_sum_rec(5)"
   ]
  },
  {
   "cell_type": "markdown",
   "metadata": {
    "collapsed": true
   },
   "source": [
    "Now let's think about prime numbers and how to test if a number is prime.  The simplest algorithm would work like \n",
    "\n",
    "Given input integer $n$, start dividing by every number, say $1<k<n$.  If $n\\%k=0$, stop, else, number is prime.  \n",
    "\n",
    "Okay, your turn.  Give me a flow chart, and then give me a function using the skeleton below. The function should tell the user if the input number is prime or not.  To do this, you will need to make use of the Python command `break`, which simply stops a loop when it is called.  "
   ]
  },
  {
   "cell_type": "code",
   "execution_count": 1,
   "metadata": {
    "collapsed": true
   },
   "outputs": [],
   "source": [
    "def prime_test(n):\n",
    "    if n>2:\n",
    "        if n%2 == 0:\n",
    "            return False\n",
    "        else:\n",
    "            cnt = 3\n",
    "            while n%cnt != 0:\n",
    "                cnt += 2\n",
    "            if cnt < n:\n",
    "                return False\n",
    "            else:\n",
    "                return True\n",
    "    elif n==1 or n==2:\n",
    "        return True"
   ]
  },
  {
   "cell_type": "code",
   "execution_count": 6,
   "metadata": {},
   "outputs": [
    {
     "data": {
      "text/plain": [
       "True"
      ]
     },
     "execution_count": 6,
     "metadata": {},
     "output_type": "execute_result"
    }
   ],
   "source": [
    "prime_test(103)"
   ]
  },
  {
   "cell_type": "markdown",
   "metadata": {},
   "source": [
    "Now can you figure out how to use this function to list out all the possible prime numbers up to 200?  First, you will want to modify the above prime test function to instead of printing statements return say a 1 if a number is a prime and a zero if it is not.  Use the skeleton below to thresh this out.  "
   ]
  },
  {
   "cell_type": "code",
   "execution_count": 2,
   "metadata": {
    "collapsed": true
   },
   "outputs": [],
   "source": [
    "def prime_test_mod(n,plist):\n",
    "    cnt = 1\n",
    "    while cnt < len(plist):\n",
    "        if n%plist[cnt] == 0:\n",
    "            return False\n",
    "        else:\n",
    "            cnt+=1\n",
    "    return True    "
   ]
  },
  {
   "cell_type": "code",
   "execution_count": 11,
   "metadata": {},
   "outputs": [],
   "source": [
    "def prime_print_list(n):\n",
    "    plist = [1,2]\n",
    "    cnt = 3\n",
    "    while cnt <= n:\n",
    "        \n",
    "        if prime_test_mod(cnt,plist):\n",
    "            plist.append(cnt)\n",
    "        cnt+=1\n",
    "    return plist"
   ]
  },
  {
   "cell_type": "code",
   "execution_count": 27,
   "metadata": {},
   "outputs": [
    {
     "data": {
      "text/plain": [
       "[<matplotlib.lines.Line2D at 0xb3d0a20>]"
      ]
     },
     "execution_count": 27,
     "metadata": {},
     "output_type": "execute_result"
    },
    {
     "data": {
      "image/png": "[encoded data removed]",
      "text/plain": [
       "<matplotlib.figure.Figure at 0xa9995c0>"
      ]
     },
     "metadata": {},
     "output_type": "display_data"
    }
   ],
   "source": [
    "pvals = prime_print_list(50000)\n",
    "xvals = range(1,len(pvals)+1)\n",
    "plt.plot(xvals,np.log10(pvals[4899:]))"
   ]
  },
  {
   "cell_type": "markdown",
   "metadata": {},
   "source": [
    "Now what if instead of printing all the primes, we wanted to print some subset of the primes?  In this case, we would use what is called slicing.  "
   ]
  },
  {
   "cell_type": "code",
   "execution_count": 3,
   "metadata": {},
   "outputs": [
    {
     "name": "stdout",
     "output_type": "stream",
     "text": [
      "[1, 2, 3, 5, 7, 11, 13, 17, 19]\n"
     ]
    }
   ],
   "source": [
    "prime_print_list(20)"
   ]
  },
  {
   "cell_type": "code",
   "execution_count": null,
   "metadata": {
    "collapsed": true
   },
   "outputs": [],
   "source": []
  }
 ],
 "metadata": {
  "anaconda-cloud": {},
  "kernelspec": {
   "display_name": "Python 2",
   "language": "python",
   "name": "python2"
  },
  "language_info": {
   "codemirror_mode": {
    "name": "ipython",
    "version": 2
   },
   "file_extension": ".py",
   "mimetype": "text/x-python",
   "name": "python",
   "nbconvert_exporter": "python",
   "pygments_lexer": "ipython2",
   "version": "2.7.13"
  }
 },
 "nbformat": 4,
 "nbformat_minor": 1
}
