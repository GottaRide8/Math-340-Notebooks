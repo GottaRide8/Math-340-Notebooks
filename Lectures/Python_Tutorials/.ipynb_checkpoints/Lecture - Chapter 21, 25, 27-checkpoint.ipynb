{
 "cells": [
  {
   "cell_type": "markdown",
   "metadata": {},
   "source": [
    "<strong> Chapter 20 </strong>: List Comprehension, or when I want to do one thing on a list.  \n",
    "\n",
    "So, my favorite way to think about this is to answer the question, how can I print out a list in reverse order?  List comprehension is a great way to do this in Python.  So let's say we have a list `vals`.  First, let's learn a little more about  `range`.  In Python, it is easy to make `range` go backwards via "
   ]
  },
  {
   "cell_type": "code",
   "execution_count": 23,
   "metadata": {},
   "outputs": [
    {
     "name": "stdout",
     "output_type": "stream",
     "text": [
      "[4, 3, 2, 1, 0]\n"
     ]
    }
   ],
   "source": [
    "print range(4,-1,-1)"
   ]
  },
  {
   "cell_type": "markdown",
   "metadata": {},
   "source": [
    "Now let's suppose that "
   ]
  },
  {
   "cell_type": "code",
   "execution_count": 24,
   "metadata": {
    "collapsed": true
   },
   "outputs": [],
   "source": [
    "vals = [1,7,3,4,5]"
   ]
  },
  {
   "cell_type": "markdown",
   "metadata": {},
   "source": [
    "In order to get this list reversed, we use *list comprehension* so that "
   ]
  },
  {
   "cell_type": "code",
   "execution_count": 25,
   "metadata": {},
   "outputs": [
    {
     "name": "stdout",
     "output_type": "stream",
     "text": [
      "[5, 4, 3, 7, 1]\n"
     ]
    }
   ],
   "source": [
    "valsrev = [vals[kk] for kk in range(4,-1,-1)]\n",
    "print valsrev"
   ]
  },
  {
   "cell_type": "markdown",
   "metadata": {},
   "source": [
    "Of course, we could also have just typed "
   ]
  },
  {
   "cell_type": "code",
   "execution_count": 26,
   "metadata": {},
   "outputs": [
    {
     "data": {
      "text/plain": [
       "[5, 4, 3, 7, 1]"
      ]
     },
     "execution_count": 26,
     "metadata": {},
     "output_type": "execute_result"
    }
   ],
   "source": [
    "vals.reverse()\n",
    "vals"
   ]
  },
  {
   "cell_type": "markdown",
   "metadata": {},
   "source": [
    "or even "
   ]
  },
  {
   "cell_type": "code",
   "execution_count": 29,
   "metadata": {},
   "outputs": [
    {
     "data": {
      "text/plain": [
       "[5, 4, 3, 7, 1]"
      ]
     },
     "execution_count": 29,
     "metadata": {},
     "output_type": "execute_result"
    }
   ],
   "source": [
    "vals = [1,7,3,4,5]\n",
    "vals[::-1]"
   ]
  },
  {
   "cell_type": "markdown",
   "metadata": {},
   "source": [
    "but what fun is that?  Using this approach, write your own function to reverse the order of a list.  Use the code skeleton below. "
   ]
  },
  {
   "cell_type": "code",
   "execution_count": null,
   "metadata": {},
   "outputs": [],
   "source": [
    "def revord(vals):\n",
    "    valsrev = [ for kk in range(,,-1)] # You have blanks to fill in here\n",
    "    return # You have a blank to fill in here "
   ]
  },
  {
   "cell_type": "code",
   "execution_count": null,
   "metadata": {},
   "outputs": [],
   "source": [
    "revord([1,4,3,12,7,2,31,4])"
   ]
  },
  {
   "cell_type": "markdown",
   "metadata": {},
   "source": [
    "The examples in the book are unfortunately all geared towards doing things we really should do with NumPy arrays, so I am not going to teach something I would never use.  On the other hand, let's say you had a list of strings like "
   ]
  },
  {
   "cell_type": "code",
   "execution_count": 2,
   "metadata": {
    "collapsed": true
   },
   "outputs": [],
   "source": [
    "words = [\"air\",\"Candy\",\"Pinball\",\"Air\",\"I\",\"is\",\"monkey\"]"
   ]
  },
  {
   "cell_type": "markdown",
   "metadata": {},
   "source": [
    "Using the string command `lower()` and list comprehension, write a function which makes each word in this list lowercase.  "
   ]
  },
  {
   "cell_type": "code",
   "execution_count": 7,
   "metadata": {
    "collapsed": true
   },
   "outputs": [],
   "source": [
    "def lcase(words):\n",
    "    lwords = [] # You have several blanks to fill in.\n",
    "    return lwords"
   ]
  },
  {
   "cell_type": "code",
   "execution_count": 8,
   "metadata": {},
   "outputs": [
    {
     "data": {
      "text/plain": [
       "['air', 'candy', 'pinball', 'air', 'i', 'is', 'monkey']"
      ]
     },
     "execution_count": 8,
     "metadata": {},
     "output_type": "execute_result"
    }
   ],
   "source": [
    "lcase(words)"
   ]
  },
  {
   "cell_type": "markdown",
   "metadata": {},
   "source": [
    "<strong> Chapter 26 </strong>: Lambda Functions, or keeping it short and sweet.  So, while we have used the `def` command to define any number of functions, sometimes, you just don't have much to say.  For example, we used list comprehension and a function call above to take a list of strings and make them all lower case.  A tidier way to accomplish this is through the use of *lambda functions*.  So for example, we could have written"
   ]
  },
  {
   "cell_type": "code",
   "execution_count": 4,
   "metadata": {},
   "outputs": [
    {
     "data": {
      "text/plain": [
       "['air', 'candy', 'pinball', 'air', 'i', 'is', 'monkey']"
      ]
     },
     "execution_count": 4,
     "metadata": {},
     "output_type": "execute_result"
    }
   ],
   "source": [
    "map(lambda x: x.lower(), words)"
   ]
  },
  {
   "cell_type": "markdown",
   "metadata": {},
   "source": [
    "So the idea here is that since we only really want to do one thing to every element of the list, we define the short, sweet, tidy little lambda function\n",
    "\n",
    "`lambda x: x.lower()`\n",
    "\n",
    "and then `map` that lambda function over the list `words`.  "
   ]
  },
  {
   "cell_type": "markdown",
   "metadata": {},
   "source": [
    "Okay, your turn.  Write a lambda function that capitalizes every word in `words` using the string command `capitalize()`, which, ironically, is not itself capitalized.  "
   ]
  },
  {
   "cell_type": "code",
   "execution_count": 13,
   "metadata": {},
   "outputs": [
    {
     "name": "stdout",
     "output_type": "stream",
     "text": [
      "['AIR', 'CANDY', 'PINBALL', 'AIR', 'I', 'IS', 'MONKEY']\n"
     ]
    }
   ],
   "source": [
    "wordsu = map(lambda x: x.upper(),words)\n",
    "print words"
   ]
  },
  {
   "cell_type": "markdown",
   "metadata": {
    "collapsed": true
   },
   "source": [
    "Now let's do something a bit more clever by way of using the `filter` command.  First, let's generate a random list of integers."
   ]
  },
  {
   "cell_type": "code",
   "execution_count": 4,
   "metadata": {},
   "outputs": [],
   "source": [
    "import random\n",
    "rvals = random.sample(range(10),10)"
   ]
  },
  {
   "cell_type": "markdown",
   "metadata": {},
   "source": [
    "How would I figure out every entry that is between say 2 and 5?  I would use the following"
   ]
  },
  {
   "cell_type": "code",
   "execution_count": 5,
   "metadata": {},
   "outputs": [
    {
     "data": {
      "text/plain": [
       "[3, 4]"
      ]
     },
     "execution_count": 5,
     "metadata": {},
     "output_type": "execute_result"
    }
   ],
   "source": [
    "filter(lambda x: 2<x<5, rvals)"
   ]
  },
  {
   "cell_type": "markdown",
   "metadata": {},
   "source": [
    "So, the combination of the filter command and the lambda function allows me to *filter* out those values that satisfy the inequalities imposed by the lambda function.  Remember, the power here is that we can do this over any list.  So now, write a filter which returns every word between \"aardvark\" and \"candybar\" in the list `words`."
   ]
  },
  {
   "cell_type": "code",
   "execution_count": 6,
   "metadata": {},
   "outputs": [
    {
     "data": {
      "text/plain": [
       "['air']"
      ]
     },
     "execution_count": 6,
     "metadata": {},
     "output_type": "execute_result"
    }
   ],
   "source": [
    "filter(lambda x: \"aardvark\"<x<\"candybar\", words)"
   ]
  },
  {
   "cell_type": "markdown",
   "metadata": {},
   "source": [
    "Oh wait, we have to fuss about capital letters, so let's take care of that by blending things ala"
   ]
  },
  {
   "cell_type": "code",
   "execution_count": 7,
   "metadata": {},
   "outputs": [
    {
     "data": {
      "text/plain": [
       "['air', 'candy', 'air']"
      ]
     },
     "execution_count": 7,
     "metadata": {},
     "output_type": "execute_result"
    }
   ],
   "source": [
    "filter(lambda x: \"aardvark\"<x<\"candybar\", map(lambda x:x.lower() ,words))"
   ]
  },
  {
   "cell_type": "markdown",
   "metadata": {},
   "source": [
    "<strong> Chapter 24 </strong>: Dictionaries.  So going back to our letter frequency counter, at one point we had to introduce the behomth block of code "
   ]
  },
  {
   "cell_type": "code",
   "execution_count": 11,
   "metadata": {
    "collapsed": true
   },
   "outputs": [],
   "source": [
    "def letter_cnt(word,freq):\n",
    "    for let in word:\n",
    "        if let == 'A': freq[0]+=1\n",
    "        elif let == 'B': freq[1]+=1\n",
    "        elif let == 'C': freq[2]+=1\n",
    "        elif let == 'D': freq[3]+=1\n",
    "        elif let == 'E': freq[4]+=1\n",
    "        elif let == 'F': freq[5]+=1\n",
    "        elif let == 'G': freq[6]+=1\n",
    "        elif let == 'H': freq[7]+=1\n",
    "        elif let == 'I': freq[8]+=1\n",
    "        elif let == 'J': freq[9]+=1\n",
    "        elif let == 'K': freq[10]+=1\n",
    "        elif let == 'L': freq[11]+=1\n",
    "        elif let == 'M': freq[12]+=1\n",
    "        elif let == 'N': freq[13]+=1\n",
    "        elif let == 'O': freq[14]+=1\n",
    "        elif let == 'P': freq[15]+=1\n",
    "        elif let == 'Q': freq[16]+=1\n",
    "        elif let == 'R': freq[17]+=1\n",
    "        elif let == 'S': freq[18]+=1\n",
    "        elif let == 'T': freq[19]+=1\n",
    "        elif let == 'U': freq[20]+=1\n",
    "        elif let == 'V': freq[21]+=1   \n",
    "        elif let == 'W': freq[22]+=1\n",
    "        elif let == 'X': freq[23]+=1\n",
    "        elif let == 'Y': freq[24]+=1\n",
    "        elif let == 'Z': freq[25]+=1        "
   ]
  },
  {
   "cell_type": "markdown",
   "metadata": {},
   "source": [
    "This is not good code.  To, radically, improve it, we use a dictionary.  The idea behind a dictionary is to generalize the notion of a list such that you no longer have integer valued indices to refer to elements.  Instead, you have *keys*.  So following the book, we can build a dictionary whose keys are universities, and whose *values* are mascot names.  We do this by writing "
   ]
  },
  {
   "cell_type": "code",
   "execution_count": 12,
   "metadata": {
    "collapsed": true
   },
   "outputs": [],
   "source": [
    "mascots={'CSUN': 'Matty_Matador',\n",
    "         'Florida':'Gators',\n",
    "         'Irvine':'Anteater'}"
   ]
  },
  {
   "cell_type": "markdown",
   "metadata": {},
   "source": [
    "Thus, if we type "
   ]
  },
  {
   "cell_type": "code",
   "execution_count": 13,
   "metadata": {},
   "outputs": [
    {
     "name": "stdout",
     "output_type": "stream",
     "text": [
      "Matty_Matador\n",
      "Anteater\n"
     ]
    }
   ],
   "source": [
    "print mascots['CSUN']\n",
    "print mascots['Irvine']"
   ]
  },
  {
   "cell_type": "markdown",
   "metadata": {
    "collapsed": true
   },
   "source": [
    "While there are many commands associated with dictionaries, the one we will make the most use of is `get(key,val)`.  Let's see what it does.  If we type "
   ]
  },
  {
   "cell_type": "code",
   "execution_count": 14,
   "metadata": {},
   "outputs": [
    {
     "name": "stdout",
     "output_type": "stream",
     "text": [
      "Matty_Matador\n",
      "Anteater\n"
     ]
    }
   ],
   "source": [
    "print mascots.get('CSUN',0)\n",
    "print mascots.get('Irvine',0)"
   ]
  },
  {
   "cell_type": "markdown",
   "metadata": {},
   "source": [
    "we \"get\" the values associated with the keys.  However, what if we type "
   ]
  },
  {
   "cell_type": "code",
   "execution_count": 15,
   "metadata": {},
   "outputs": [
    {
     "name": "stdout",
     "output_type": "stream",
     "text": [
      "0\n",
      "1\n"
     ]
    }
   ],
   "source": [
    "print mascots.get('Berkeley',0)\n",
    "print mascots.get('Berkeley',1)"
   ]
  },
  {
   "cell_type": "markdown",
   "metadata": {},
   "source": [
    "As we see, since Berkeley is not a key, `get` returns the value instead.  So why is this useful?  Well, let's suppose that we want to keep track of how many times each letter is used.  A good way to do this would be to build a dictionary with letters for keys and the count as values.  To do this, we do the following"
   ]
  },
  {
   "cell_type": "code",
   "execution_count": 8,
   "metadata": {},
   "outputs": [],
   "source": [
    "import string\n",
    "alpha = list(string.uppercase[:26])\n",
    "freq_d = dict()\n",
    "for let in alpha: freq_d[let] = 0"
   ]
  },
  {
   "cell_type": "markdown",
   "metadata": {},
   "source": [
    "So what does this do?  Well, first, we want a list of all possible upper case letters.  That we do with the list alpha, which being more explicit we see"
   ]
  },
  {
   "cell_type": "code",
   "execution_count": 9,
   "metadata": {},
   "outputs": [
    {
     "name": "stdout",
     "output_type": "stream",
     "text": [
      "['A', 'B', 'C', 'D', 'E', 'F', 'G', 'H', 'I', 'J', 'K', 'L', 'M', 'N', 'O', 'P', 'Q', 'R', 'S', 'T', 'U', 'V', 'W', 'X', 'Y', 'Z']\n"
     ]
    }
   ],
   "source": [
    "print list(string.uppercase[:26])"
   ]
  },
  {
   "cell_type": "markdown",
   "metadata": {},
   "source": [
    "Then, we iterate over each letter of the alphabet.  However `freq_d` starts life as an empty dictionary, so that means everytime we call `get`, since we have not yet defined the key, we must return 0.  And thus, this is how we can initialize every value associated with each key, which are letters now, to be 0.  \n",
    "\n",
    "Now again, we use keys to get values in dictionaries.  So for example, now we can write"
   ]
  },
  {
   "cell_type": "code",
   "execution_count": 10,
   "metadata": {},
   "outputs": [
    {
     "name": "stdout",
     "output_type": "stream",
     "text": [
      "0\n",
      "0\n"
     ]
    }
   ],
   "source": [
    "print freq_d['A']\n",
    "print freq_d['M']"
   ]
  },
  {
   "cell_type": "markdown",
   "metadata": {},
   "source": [
    "Keep in mind, the number of times a letter appears is the value.  So say we just set "
   ]
  },
  {
   "cell_type": "code",
   "execution_count": 19,
   "metadata": {},
   "outputs": [
    {
     "name": "stdout",
     "output_type": "stream",
     "text": [
      "10\n"
     ]
    }
   ],
   "source": [
    "freq_d['A'] = 10\n",
    "print freq_d.get('A',0)"
   ]
  },
  {
   "cell_type": "markdown",
   "metadata": {},
   "source": [
    "So, if the associated value to the key 'A' is 10, that is what `get` returns.  Knowing this, how would you redesign `letter_cnt`?  Assume that the dictionary `freq_d` has the twenty six letters of the alphabet as keys.  "
   ]
  },
  {
   "cell_type": "code",
   "execution_count": 20,
   "metadata": {
    "collapsed": true
   },
   "outputs": [],
   "source": [
    "def letter_cnt(word,freq_d):\n",
    "    for let in word: freq_d[let]+=1 # There is exactly one line to write here.  "
   ]
  },
  {
   "cell_type": "code",
   "execution_count": null,
   "metadata": {
    "collapsed": true
   },
   "outputs": [],
   "source": []
  }
 ],
 "metadata": {
  "kernelspec": {
   "display_name": "Python 2",
   "language": "python",
   "name": "python2"
  },
  "language_info": {
   "codemirror_mode": {
    "name": "ipython",
    "version": 2
   },
   "file_extension": ".py",
   "mimetype": "text/x-python",
   "name": "python",
   "nbconvert_exporter": "python",
   "pygments_lexer": "ipython2",
   "version": "2.7.13"
  }
 },
 "nbformat": 4,
 "nbformat_minor": 1
}
