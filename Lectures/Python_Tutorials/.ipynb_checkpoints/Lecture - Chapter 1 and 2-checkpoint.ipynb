{
 "cells": [
  {
   "cell_type": "markdown",
   "metadata": {},
   "source": [
    "So one of the best parts of using notebooks is that one can readily access some of the most sophisticated features associated with Python without ever leaving the comfort of your browser.  Let me show you what I mean.  Let's say we want to make some plots of stuff.  That happens in math, right?  How would we do that?  Well, first we need to tell the interpreter underneath it all that we want to use plotting commands.  To do that we type"
   ]
  },
  {
   "cell_type": "code",
   "execution_count": 1,
   "metadata": {},
   "outputs": [],
   "source": [
    "import matplotlib.pyplot as plt\n",
    "%matplotlib inline\n",
    "import numpy as np"
   ]
  },
  {
   "cell_type": "markdown",
   "metadata": {},
   "source": [
    "Now what is going on here?  Well, Python itself is just a means for making computers do things written in terms humans can (somewhat) understand.  For more details on this, see the explanation in Figure 2 on page 5 of your textbook.  Everything else that we want to do has to be built out of Python, or some other language Python can interface with (like C; see page 6 of your textbook for a blurb about C, Fortran, and programming languages in general).  \n",
    "\n",
    "That effort, if you will, is stored in libraries that we then call.  So the above Python commands are saying, first, I want to use the the library matplotlib, and I want to use some 'magic' to make it easy to use in the Jupyter environment.  See page 15 of your textboook for a quick chat about libraries, and see pages 31 and 166 for a brief explanation of 'magic'.\n",
    "\n",
    "In the next command, you are saying, we want to use the library 'numpy', but we abbreviate it as 'np'.  You will see why in a second.    "
   ]
  },
  {
   "cell_type": "markdown",
   "metadata": {},
   "source": [
    "Okay, but then how does this get used?  Well, let's try to make a plot.  To do this, first I need to make a set of points to plot a function over.  To do this, I write"
   ]
  },
  {
   "cell_type": "code",
   "execution_count": 7,
   "metadata": {},
   "outputs": [],
   "source": [
    "xvals = np.linspace(0,1,11)"
   ]
  },
  {
   "cell_type": "markdown",
   "metadata": {},
   "source": [
    "Note, I am implicitly assuming you are cool with the idea of assigning data to variables.  See page 10 of your book for a quick blurb on this idea.  Now, let's see what this assignment did by looking at what xvals is"
   ]
  },
  {
   "cell_type": "code",
   "execution_count": 8,
   "metadata": {},
   "outputs": [
    {
     "name": "stdout",
     "output_type": "stream",
     "text": [
      "[0.  0.1 0.2 0.3 0.4 0.5 0.6 0.7 0.8 0.9 1. ]\n"
     ]
    }
   ],
   "source": [
    "print(xvals)"
   ]
  },
  {
   "cell_type": "markdown",
   "metadata": {},
   "source": [
    "So xvals is a set of 11 points, from 0 to 1, spaced exactly .1 apart.  So what did we do to make this happen?  Well first, we used the abbreviation for the numpy library, which we called 'np'.  Within this library, there is a command called 'linspace', which we called through the library.  Okay, now we have some values to plot over.  Let's see how to make some values to plot against.  "
   ]
  },
  {
   "cell_type": "code",
   "execution_count": 9,
   "metadata": {},
   "outputs": [],
   "source": [
    "yvals = np.sin(xvals)"
   ]
  },
  {
   "cell_type": "code",
   "execution_count": 10,
   "metadata": {},
   "outputs": [
    {
     "name": "stdout",
     "output_type": "stream",
     "text": [
      "[0.         0.09983342 0.19866933 0.29552021 0.38941834 0.47942554\n",
      " 0.56464247 0.64421769 0.71735609 0.78332691 0.84147098]\n"
     ]
    }
   ],
   "source": [
    "print(yvals)"
   ]
  },
  {
   "cell_type": "markdown",
   "metadata": {},
   "source": [
    "So again, we called the numpy library through np to use the numpy function 'sin', which is exactly what you think it is.  We passed the 'array' of points 'xvals' into np.sin, which then computes $y_{j} = \\sin(x_{j}), ~x_{j} = j/10, ~j=0,\\cdots,10 $."
   ]
  },
  {
   "cell_type": "markdown",
   "metadata": {},
   "source": [
    "So now let's see what that get's us.  "
   ]
  },
  {
   "cell_type": "code",
   "execution_count": 30,
   "metadata": {},
   "outputs": [
    {
     "data": {
      "text/plain": [
       "Text(0, 0.5, 'y(x)=\\\\sin(x)')"
      ]
     },
     "execution_count": 30,
     "metadata": {},
     "output_type": "execute_result"
    },
    {
     "data": {
      "image/png": "[encoded data removed]",
      "text/plain": [
       "<Figure size 432x288 with 1 Axes>"
      ]
     },
     "metadata": {
      "needs_background": "light"
     },
     "output_type": "display_data"
    }
   ],
   "source": [
    "plt.plot(xvals,yvals,color='r')\n",
    "plt.xlabel(\"$x$\")\n",
    "plt.ylabel(\"$y(x)=\\sin(x)^{2}$\")"
   ]
  },
  {
   "cell_type": "markdown",
   "metadata": {},
   "source": [
    "Again, note the way we call a command, 'plot', through the abbreviation of the library 'matplotlib.pyplot'.  You could write 'matplotlib.pyplot' everytime, but I don't think you want to do that.  \n",
    "\n",
    "Okay, nice, we can plot now.  Let's play with this a bit then.  For example, what if we want to plot over a longer interval.  Then we can do "
   ]
  },
  {
   "cell_type": "code",
   "execution_count": 17,
   "metadata": {},
   "outputs": [],
   "source": [
    "xvals = np.linspace(0,3.14159265,11)"
   ]
  },
  {
   "cell_type": "code",
   "execution_count": 18,
   "metadata": {},
   "outputs": [],
   "source": [
    "yvals = np.sin(xvals)"
   ]
  },
  {
   "cell_type": "code",
   "execution_count": 19,
   "metadata": {},
   "outputs": [
    {
     "data": {
      "text/plain": [
       "[<matplotlib.lines.Line2D at 0x1dccb3b46d0>]"
      ]
     },
     "execution_count": 19,
     "metadata": {},
     "output_type": "execute_result"
    },
    {
     "data": {
      "image/png": "[encoded data removed]",
      "text/plain": [
       "<Figure size 432x288 with 1 Axes>"
      ]
     },
     "metadata": {
      "needs_background": "light"
     },
     "output_type": "display_data"
    }
   ],
   "source": [
    "plt.plot(xvals,yvals)"
   ]
  },
  {
   "cell_type": "markdown",
   "metadata": {},
   "source": [
    "Okay, and you can already see some problems here.  That graph looks jagged for example.  What if we want it to look smoother?  Well, we can always add more points"
   ]
  },
  {
   "cell_type": "code",
   "execution_count": 20,
   "metadata": {},
   "outputs": [],
   "source": [
    "xvals = np.linspace(0,3.14159265,21)"
   ]
  },
  {
   "cell_type": "code",
   "execution_count": 21,
   "metadata": {},
   "outputs": [],
   "source": [
    "yvals = np.sin(xvals)"
   ]
  },
  {
   "cell_type": "code",
   "execution_count": 22,
   "metadata": {},
   "outputs": [
    {
     "data": {
      "text/plain": [
       "[<matplotlib.lines.Line2D at 0x1dccb4079a0>]"
      ]
     },
     "execution_count": 22,
     "metadata": {},
     "output_type": "execute_result"
    },
    {
     "data": {
      "image/png": "[encoded data removed]",
      "text/plain": [
       "<Figure size 432x288 with 1 Axes>"
      ]
     },
     "metadata": {
      "needs_background": "light"
     },
     "output_type": "display_data"
    }
   ],
   "source": [
    "plt.plot(xvals,yvals)"
   ]
  },
  {
   "cell_type": "markdown",
   "metadata": {},
   "source": [
    "Okay, and what is up with that '3.14159625' nonsense?  Maybe instead, we just want to write"
   ]
  },
  {
   "cell_type": "code",
   "execution_count": 23,
   "metadata": {},
   "outputs": [],
   "source": [
    "xvals = np.linspace(0,np.pi,21)"
   ]
  },
  {
   "cell_type": "code",
   "execution_count": 24,
   "metadata": {},
   "outputs": [],
   "source": [
    "yvals = np.sin(xvals)"
   ]
  },
  {
   "cell_type": "code",
   "execution_count": 25,
   "metadata": {},
   "outputs": [
    {
     "data": {
      "text/plain": [
       "[<matplotlib.lines.Line2D at 0x1dccb4770a0>]"
      ]
     },
     "execution_count": 25,
     "metadata": {},
     "output_type": "execute_result"
    },
    {
     "data": {
      "image/png": "[encoded data removed]",
      "text/plain": [
       "<Figure size 432x288 with 1 Axes>"
      ]
     },
     "metadata": {
      "needs_background": "light"
     },
     "output_type": "display_data"
    }
   ],
   "source": [
    "plt.plot(xvals,yvals)"
   ]
  },
  {
   "cell_type": "markdown",
   "metadata": {
    "collapsed": true
   },
   "source": [
    "Okay, now while writing 'np.pi' is not so bad, it is kind of awkward.  A way around this is to use another variable assignment to make our lives easier.  I would suggest writing "
   ]
  },
  {
   "cell_type": "code",
   "execution_count": 26,
   "metadata": {},
   "outputs": [],
   "source": [
    "Pi = np.pi"
   ]
  },
  {
   "cell_type": "markdown",
   "metadata": {},
   "source": [
    "And now that we have done this, we can write"
   ]
  },
  {
   "cell_type": "code",
   "execution_count": 27,
   "metadata": {},
   "outputs": [],
   "source": [
    "xvals = np.linspace(0,2*Pi,41)"
   ]
  },
  {
   "cell_type": "code",
   "execution_count": 28,
   "metadata": {},
   "outputs": [],
   "source": [
    "yvals = np.sin(xvals)"
   ]
  },
  {
   "cell_type": "code",
   "execution_count": 29,
   "metadata": {},
   "outputs": [
    {
     "data": {
      "text/plain": [
       "[<matplotlib.lines.Line2D at 0x1dccc4ad2d0>]"
      ]
     },
     "execution_count": 29,
     "metadata": {},
     "output_type": "execute_result"
    },
    {
     "data": {
      "image/png": "[encoded data removed]",
      "text/plain": [
       "<Figure size 432x288 with 1 Axes>"
      ]
     },
     "metadata": {
      "needs_background": "light"
     },
     "output_type": "display_data"
    }
   ],
   "source": [
    "plt.plot(xvals,yvals)"
   ]
  },
  {
   "cell_type": "markdown",
   "metadata": {
    "collapsed": true
   },
   "source": [
    "Okay, let's write some LaTeX.  \n",
    "\n",
    "$$\n",
    "\\int x^{2} dx = \\frac{x^{3}}{3} + C\n",
    "$$\n",
    "\n",
    "\\begin{align}\n",
    "\\int x \\sin\\left(x^{2}\\right)dx = & \\frac{1}{2}\\int \\sin(u) du\\\\\n",
    "= & -\\frac{1}{2}\\cos\\left(u\\right) + C\\\\\n",
    "= & -\\frac{1}{2}\\cos\\left(x^{2}\\right) + C\n",
    "\\end{align}"
   ]
  },
  {
   "cell_type": "code",
   "execution_count": null,
   "metadata": {},
   "outputs": [],
   "source": []
  }
 ],
 "metadata": {
  "kernelspec": {
   "display_name": "Python 3 (ipykernel)",
   "language": "python",
   "name": "python3"
  },
  "language_info": {
   "codemirror_mode": {
    "name": "ipython",
    "version": 3
   },
   "file_extension": ".py",
   "mimetype": "text/x-python",
   "name": "python",
   "nbconvert_exporter": "python",
   "pygments_lexer": "ipython3",
   "version": "3.10.1"
  }
 },
 "nbformat": 4,
 "nbformat_minor": 1
}
