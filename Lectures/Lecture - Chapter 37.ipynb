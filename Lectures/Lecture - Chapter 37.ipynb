{
 "cells": [
  {
   "cell_type": "code",
   "execution_count": null,
   "metadata": {
    "collapsed": true
   },
   "outputs": [],
   "source": [
    "import matplotlib.pyplot as plt\n",
    "%matplotlib inline\n",
    "import numpy as np"
   ]
  },
  {
   "cell_type": "markdown",
   "metadata": {},
   "source": [
    "We are going to now study what are called discrete dynamical systems.  The idea is relatively straightforward. I give you two things, a function, $f(x)$, and a starting point $x_{0}$.  You then build a sequence $\\left\\{x_{n}\\right\\}_{n=0}^{\\infty}$ where\n",
    "\n",
    "$$\n",
    "x_{n} = f(x_{n-1})\n",
    "$$\n",
    "\n",
    "So you could do something like \n",
    "\n",
    "$$\n",
    "f(x) = \\frac{x^{2}}{16} + 3\n",
    "$$\n",
    "\n",
    "and $x_{0}=2$.  Then we have that \n",
    "\n",
    "\\begin{align*}\n",
    "x_{1} = & f(x_{0}) =  \\frac{13}{4}\\\\\n",
    "x_{2} = & f(x_{1}) =  3 + \\frac{169}{256}\\\\\n",
    "\\end{align*}\n",
    "\n",
    "The basic question we can then ask is what happens as $n\\rightarrow \\infty$?  Do we have a well-defined limit?  Do the values $x_{n}$ oscillate?  Do you get unbounded growth?  To study this, we will use 'cobweb' plots.  Let me show you what I mean.  "
   ]
  },
  {
   "cell_type": "code",
   "execution_count": null,
   "metadata": {
    "collapsed": true
   },
   "outputs": [],
   "source": [
    "def cob_plot(f,x0,n):\n",
    "    xvals = [0]*(n+1)\n",
    "    xvals[0] = x0\n",
    "    for jj in range(1,n+1):\n",
    "        xvals[jj] = f(xvals[jj-1])\n",
    "    \n",
    "    # Note, the list xvals[0:n] is the x-axis or x_(n-1) values\n",
    "    # Note, the list xvals[1:] is the y-axis or x_n values\n",
    "    \n",
    "    plt.scatter(xvals[0:n],xvals[1:]) # To plot the points\n",
    "    plt.scatter(xvals[1:],xvals[1:]) # To plot the points y=x\n",
    "    \n",
    "    for kk in range(1,n):\n",
    "        plt.plot([xvals[kk-1],xvals[kk]],[xvals[kk],xvals[kk]],color=\"k\",ls=\"--\") # Plot the horizontal bar\n",
    "        plt.plot([xvals[kk],xvals[kk]],[xvals[kk],xvals[kk+1]],color=\"k\",ls=\"--\") # Plot the vertical bar\n",
    "    \n",
    "    plt.xlabel(\"$x_{n-1}$\")\n",
    "    plt.ylabel(\"$x_{n}$\")"
   ]
  },
  {
   "cell_type": "code",
   "execution_count": null,
   "metadata": {
    "collapsed": false
   },
   "outputs": [],
   "source": [
    "cob_plot(lambda x: x**2/16.+3.,2.,20)"
   ]
  },
  {
   "cell_type": "code",
   "execution_count": null,
   "metadata": {
    "collapsed": false
   },
   "outputs": [],
   "source": [
    "cob_plot(lambda x: x**2/16.+3.,5,10)"
   ]
  },
  {
   "cell_type": "markdown",
   "metadata": {},
   "source": [
    "So we see in either cobweb plot that the sequence tends to a limit.  Can we explain this?  We can using the idea of a fixed point, which is simply a point $x$ such that \n",
    "\n",
    "$$\n",
    "f(x) = x.\n",
    "$$\n",
    "\n",
    "So, in our case, the fixed point in our example is the root\n",
    "\n",
    "$$\n",
    "\\frac{x^{2}}{16} + 3 - x = 0\n",
    "$$\n",
    "\n",
    "or\n",
    "\n",
    "$$\n",
    "x_{\\ast} = 4,12\n",
    "$$\n",
    "\n",
    "Okay, so we see from above then that by choosing $x_{0}=2,5$, we get attracted to the fixed point $x_{\\ast}=4$.  Let's modify the code to illustrate this point.  See if you can figure out how to add the line $y=x$.  The color of the line should be black, and it should be a solid line.  "
   ]
  },
  {
   "cell_type": "code",
   "execution_count": null,
   "metadata": {
    "collapsed": true
   },
   "outputs": [],
   "source": [
    "def cob_plot(f,x0,n):\n",
    "    xvals = [0]*(n+1)\n",
    "    xvals[0] = x0\n",
    "    for jj in range(1,n+1):\n",
    "        xvals[jj] = f(xvals[jj-1])\n",
    "    \n",
    "    # Note, the list xvals[0:n] is the x-axis or x_(n-1) values\n",
    "    # Note, the list xvals[1:] is the y-axis or x_n values\n",
    "    \n",
    "    plt.scatter(xvals[0:n],xvals[1:]) # To plot the points\n",
    "    plt.scatter(xvals[1:],xvals[1:]) # To plot the points y=x\n",
    "    \n",
    "    for kk in range(1,n):\n",
    "        plt.plot([xvals[kk-1],xvals[kk]],[xvals[kk],xvals[kk]],color=\"k\",ls=\"--\") # Plot the horizontal bar\n",
    "        plt.plot([xvals[kk],xvals[kk]],[xvals[kk],xvals[kk+1]],color=\"k\",ls=\"--\") # Plot the vertical bar\n",
    "    \n",
    "    plt.plot(xvals,xvals,color=\"k\",ls=\"-\")\n",
    "    plt.xlabel(\"$x_{n-1}$\")\n",
    "    plt.ylabel(\"$x_{n}$\")"
   ]
  },
  {
   "cell_type": "code",
   "execution_count": null,
   "metadata": {
    "collapsed": false
   },
   "outputs": [],
   "source": [
    "cob_plot(lambda x: x**2/16.+3.,2.,10)"
   ]
  },
  {
   "cell_type": "code",
   "execution_count": null,
   "metadata": {
    "collapsed": false
   },
   "outputs": [],
   "source": [
    "cob_plot(lambda x: x**2/16.+3.,5.,10)"
   ]
  },
  {
   "cell_type": "markdown",
   "metadata": {},
   "source": [
    "But what about this $x_{\\ast}=12$ business?  Why don't we move towards that fixed point?  Let's do an experiment to see why this might be."
   ]
  },
  {
   "cell_type": "code",
   "execution_count": null,
   "metadata": {
    "collapsed": false
   },
   "outputs": [],
   "source": [
    "cob_plot(lambda x: x**2/16.+3.,11.9,20)"
   ]
  },
  {
   "cell_type": "code",
   "execution_count": null,
   "metadata": {
    "collapsed": false
   },
   "outputs": [],
   "source": [
    "cob_plot(lambda x: x**2/16.+3.,12.,13)"
   ]
  },
  {
   "cell_type": "markdown",
   "metadata": {},
   "source": [
    "So we see that the fixed point $x_{\\ast}=4$ is attractive or stable.  The fixed point $x_{\\ast}=12$ is repellant or unstable.  To better understand why, we introduce a simple test:\n",
    "\n",
    "If the map $f(x)$ has a fixed point $x_{\\ast}$, then if $\\left|f'(x_{\\ast})\\right|<1$, $x_{\\ast}$ is attractive.  If $\\left|f'(x_{\\ast})\\right|>1$, $x_{\\ast}$ is repellant.  Finally, if $\\left|f'(x_{\\ast})\\right|=1$, then we cannot saying anything without doing more work.\n",
    "\n",
    "Thus, we see that for our example\n",
    "\n",
    "$$\n",
    "f'(x) = \\frac{x}{8}\n",
    "$$\n",
    "\n",
    "so \n",
    "\n",
    "$$\n",
    "\\left|f'(4)\\right|=\\frac{1}{2}, ~ \\left|f'(12)\\right|=\\frac{4}{3}.\n",
    "$$\n",
    "\n",
    "Unfortunately, life is not always so simple.  Let's look at the map \n",
    "\n",
    "$$\n",
    "f(x) = x - x^{2} + 2.\n",
    "$$\n",
    "\n",
    "If we look for fixed points $f(x_{\\ast}) = x_{\\ast}$, we get that \n",
    "\n",
    "$$\n",
    "x_{\\ast} = \\pm \\sqrt{2}.\n",
    "$$\n",
    "\n",
    "If we then look at $\\left|f'(x_{\\ast})\\right|$ we get \n",
    "\n",
    "$$\n",
    "\\left|f'(x_{\\ast})\\right| = \\left|1\\mp2\\sqrt{2}\\right|\\approx 1.8284, ~ 3.8284\n",
    "$$\n",
    "\n",
    "so that makes both fixed points unstable.  Let's see what a cobweb plot looks like."
   ]
  },
  {
   "cell_type": "code",
   "execution_count": null,
   "metadata": {
    "collapsed": false
   },
   "outputs": [],
   "source": [
    "cob_plot(lambda x:x-x**2+2.,1.44,200)"
   ]
  },
  {
   "cell_type": "markdown",
   "metadata": {
    "collapsed": true
   },
   "source": [
    "Now let us talk about a very special map called the logistic map, which is given by\n",
    "\n",
    "$$\n",
    "f(x) = ax(1-x)\n",
    "$$\n",
    "\n",
    "Go ahead and figure out the fixed points and their stability, please and thank you.  \n",
    "\n",
    "So, now that you have all that figured out, we can ask the question, what happens when $3<a\\leq 4$?"
   ]
  },
  {
   "cell_type": "code",
   "execution_count": null,
   "metadata": {
    "collapsed": false
   },
   "outputs": [],
   "source": [
    "cob_plot(lambda x:3.1*x*(1.-x),.5,200)"
   ]
  },
  {
   "cell_type": "code",
   "execution_count": null,
   "metadata": {
    "collapsed": false
   },
   "outputs": [],
   "source": [
    "cob_plot(lambda x:3.3*x*(1.-x),.5,200)"
   ]
  },
  {
   "cell_type": "code",
   "execution_count": null,
   "metadata": {
    "collapsed": false
   },
   "outputs": [],
   "source": [
    "cob_plot(lambda x:3.4*x*(1.-x),.5,200)"
   ]
  },
  {
   "cell_type": "code",
   "execution_count": null,
   "metadata": {
    "collapsed": false
   },
   "outputs": [],
   "source": [
    "cob_plot(lambda x:3.7*x*(1.-x),.5,200)"
   ]
  },
  {
   "cell_type": "code",
   "execution_count": null,
   "metadata": {
    "collapsed": false
   },
   "outputs": [],
   "source": [
    "cob_plot(lambda x:3.8*x*(1.-x),.5,200)"
   ]
  },
  {
   "cell_type": "code",
   "execution_count": null,
   "metadata": {
    "collapsed": false
   },
   "outputs": [],
   "source": [
    "cob_plot(lambda x:3.99*x*(1.-x),.5,200)"
   ]
  },
  {
   "cell_type": "code",
   "execution_count": null,
   "metadata": {
    "collapsed": true
   },
   "outputs": [],
   "source": [
    "def bifur_plot(navals,cnt):\n",
    "    avals = np.linspace(2.8,3.99,navals)\n",
    "    ivals = .5*np.ones([cnt,len(avals)])\n",
    "    cup = 3*cnt/4\n",
    "    cdown = cnt/4\n",
    "    \n",
    "    plt.figure()\n",
    "    for jj in range(0,len(avals)):\n",
    "        for kk in range(1,cnt):\n",
    "            ivals[kk,jj] = avals[jj]*ivals[kk-1,jj]*(1.-ivals[kk-1,jj])\n",
    "        apoints = avals[jj]*np.ones([cdown,1])\n",
    "        plt.scatter(apoints,ivals[cup:,jj],s=5)\n",
    "    fig = plt.gcf()\n",
    "    fig.set_size_inches(10,4)"
   ]
  },
  {
   "cell_type": "code",
   "execution_count": null,
   "metadata": {
    "collapsed": false
   },
   "outputs": [],
   "source": [
    "bifur_plot(100,2000)"
   ]
  },
  {
   "cell_type": "markdown",
   "metadata": {},
   "source": [
    "How would you modify the above code in order to plot between two differen values of $a$?  What can you learn by doing this?  "
   ]
  },
  {
   "cell_type": "code",
   "execution_count": null,
   "metadata": {
    "collapsed": true
   },
   "outputs": [],
   "source": []
  }
 ],
 "metadata": {
  "kernelspec": {
   "display_name": "Python [Root]",
   "language": "python",
   "name": "Python [Root]"
  },
  "language_info": {
   "codemirror_mode": {
    "name": "ipython",
    "version": 2
   },
   "file_extension": ".py",
   "mimetype": "text/x-python",
   "name": "python",
   "nbconvert_exporter": "python",
   "pygments_lexer": "ipython2",
   "version": "2.7.12"
  }
 },
 "nbformat": 4,
 "nbformat_minor": 0
}
