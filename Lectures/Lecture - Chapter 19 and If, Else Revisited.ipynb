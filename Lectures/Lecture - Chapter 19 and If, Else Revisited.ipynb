{
 "cells": [
  {
   "cell_type": "markdown",
   "metadata": {},
   "source": [
    "Before moving forward, let's clear up a couple of things about `if`, `elif`, and `else`.  Let's do this via the following function which simply compares two numbers and determines if one is bigger or if they are equal."
   ]
  },
  {
   "cell_type": "code",
   "execution_count": 4,
   "metadata": {
    "collapsed": false
   },
   "outputs": [],
   "source": [
    "def num_comp(x,y):\n",
    "    if x>y:\n",
    "        print \"%f is bigger than %f\" % (x,y)\n",
    "        return x\n",
    "    elif x<y:\n",
    "        print \"%f is bigger than %f\" % (y,x)\n",
    "        return y\n",
    "    else:\n",
    "        print \"Up to rounding, they are the same number\"\n",
    "        return x"
   ]
  },
  {
   "cell_type": "markdown",
   "metadata": {},
   "source": [
    "So, just so we have something to compare to, we could also have written "
   ]
  },
  {
   "cell_type": "code",
   "execution_count": 5,
   "metadata": {
    "collapsed": false
   },
   "outputs": [],
   "source": [
    "def num_comp_alt(x,y):\n",
    "    if x>y:\n",
    "        print \"%f is bigger than %f\" % (x,y)\n",
    "        return x\n",
    "    if x<y:\n",
    "        print \"%f is bigger than %f\" % (y,x)\n",
    "        return y\n",
    "    if x==y:\n",
    "        print \"Up to rounding, they are the same number\"\n",
    "        return x"
   ]
  },
  {
   "cell_type": "markdown",
   "metadata": {},
   "source": [
    "So, just to prove it to ourselves, let's make sure we get the same thing using both approaches "
   ]
  },
  {
   "cell_type": "code",
   "execution_count": 6,
   "metadata": {
    "collapsed": true
   },
   "outputs": [
    {
     "name": "stdout",
     "output_type": "stream",
     "text": [
      "9.400000 is bigger than 8.300000\n",
      "9.4\n",
      "9.400000 is bigger than 8.300000\n",
      "9.4\n"
     ]
    }
   ],
   "source": [
    "print num_comp(8.3,9.4)\n",
    "print num_comp_alt(8.3,9.4)"
   ]
  },
  {
   "cell_type": "markdown",
   "metadata": {},
   "source": [
    "So why use one versus the other?  The point is that in the `if`, `elif`, `else` construction, the program stops once a condition is met.  In the other, all `if` case, every case is checked one after the other.  So `num_comp_alt` is not as efficient.  But it's not just about efficiency.  By keeping the `if`, `elif`, `else` sequence, we are also letting ourselves and others know that we are checking through a list of alternatives, i.e. only one of the three things can be true.  By separating over separate `if` statements, we are saying any or all of these things could be true simultaneously, and that is just not so.  Thus, using the essay analogy, it is poor writing to have only `if`'s.  \n",
    "\n",
    "If you note, I have gone back through the notes and homeworks and cleaned this issue up, though let me know if you find anything I missed.  "
   ]
  },
  {
   "cell_type": "markdown",
   "metadata": {},
   "source": [
    "<strong> Chapter 19 </strong>: Sorting and getting things in order."
   ]
  },
  {
   "cell_type": "markdown",
   "metadata": {},
   "source": [
    "*Insertion Sort* : Suppose we have $n$ papers to alphabetize.  You pick up the first paper.  Done.  You pick up the second and compare last names.  So that is one comparison to sort two papers.  Now you pick up the third paper.  You have two comparisons to make in the worst case.  So, carying on this way, for $n$ papers, we have to make  \n",
    "\n",
    "$$\n",
    "\\sum_{k=0}^{n-1} k = \\frac{n(n-1)}{2} = \\frac{n^2}{2} - \\frac{n}{2}\n",
    "$$\n",
    "\n",
    "comparisons.  We see that as $n$ gets large, or when $n\\gg 1$, the term that grows the fastest is the $n^{2}/2$ term.  Because of this, we say that the operation count of an Insertion Sort is $\\mathcal{O}(n^{2})$.  We can just as well think about taking say a list of numbers and arranging them in increasing order i.e. if I give you `[5,7,3]`, you should return `[3,5,7]`.  If you had `[3,7,5,3]`, you should return `[3,3,5,7]`.  So let's write that function.  I give you a list of integers.  You return a new, sorted list different than the first.  \n",
    "\n",
    "To do this, we need to use a new feature for lists.  This is called insert.  Run the code below to see how insert works."
   ]
  },
  {
   "cell_type": "code",
   "execution_count": 1,
   "metadata": {
    "collapsed": false
   },
   "outputs": [
    {
     "name": "stdout",
     "output_type": "stream",
     "text": [
      "['face', 1, 2, 3]\n",
      "['face', 'smile', 1, 2, 3]\n"
     ]
    }
   ],
   "source": [
    "test = [1, 2, 3]\n",
    "test.insert(0,'face')\n",
    "print test\n",
    "test.insert(1,'smile')\n",
    "print test"
   ]
  },
  {
   "cell_type": "markdown",
   "metadata": {},
   "source": [
    "The next thing you need to do is sketch out how you think this process should run.  I don't necessarily mean draw a flow chart.  I'll start something on the board, but see if you can't fill in the next few steps.  Let's use the following picture for inspiration\n",
    "\n",
    "![title](insertion-sort.png)\n",
    "\n",
    "Okay, now that you have done that, see if you can fill in the following code block"
   ]
  },
  {
   "cell_type": "code",
   "execution_count": 32,
   "metadata": {
    "collapsed": false
   },
   "outputs": [],
   "source": [
    "def i_sort(vals):\n",
    "    svals = [vals[0]]# Initialize your list \n",
    "    for kk in range(1,len(vals)): # Iterate over the vals\n",
    "        cnt = 0\n",
    "        while  cnt < len(svals): # Iterate over svals.  \n",
    "            if :\n",
    "                svals.insert()\n",
    "                break\n",
    "                # Should we keep going after an insertion?\n",
    "            else:\n",
    "                # What should we do if we do not insert a value?\n",
    "                cnt+=1\n",
    "        if : # What should we do if we get to the end of the sorted list, and we haven't inserted anything?\n",
    "            \n",
    "    return svals"
   ]
  },
  {
   "cell_type": "code",
   "execution_count": 33,
   "metadata": {
    "collapsed": true
   },
   "outputs": [
    {
     "data": {
      "text/plain": [
       "[1, 2, 3, 3, 5, 7, 7, 10, 23, 47]"
      ]
     },
     "execution_count": 33,
     "metadata": {},
     "output_type": "execute_result"
    }
   ],
   "source": [
    "i_sort([5,7,3,3,1,2,10,23,47,7])"
   ]
  },
  {
   "cell_type": "markdown",
   "metadata": {},
   "source": [
    "Okay, now modify your above function to keep track of the total iteration count, i.e. the total number of comparisons you did to sort the above list.  Do you get the worst case scenario we described above?  "
   ]
  },
  {
   "cell_type": "code",
   "execution_count": null,
   "metadata": {
    "collapsed": true
   },
   "outputs": [],
   "source": [
    "def i_sort(vals):\n",
    "    svals = # Initialize your list \n",
    "    for  : # Iterate over the vals\n",
    "        \n",
    "        while  : # Iterate over svals.  \n",
    "            if :\n",
    "                svals.insert()\n",
    "                # Should we keep going after an insertion?\n",
    "            else:\n",
    "                # What should we do if we do not insert a value?\n",
    "        if : # What should we do if we get to the end of the sorted list, and we haven't inserted anything?\n",
    "            \n",
    "    return svals"
   ]
  },
  {
   "cell_type": "code",
   "execution_count": null,
   "metadata": {
    "collapsed": true
   },
   "outputs": [],
   "source": [
    "i_sort([5,7,3,3,1,2,10,23,47,7])"
   ]
  },
  {
   "cell_type": "markdown",
   "metadata": {},
   "source": [
    "Okay, now that you have done that, how would you build a sort function which would alphabetize a list of words?  In particular, design something that works regardless of whether the first letter of the word is capitalized or not.  Likewise, figure out what to do if two words start with the same letter.  Keep in mind that in Python"
   ]
  },
  {
   "cell_type": "code",
   "execution_count": 43,
   "metadata": {
    "collapsed": false
   },
   "outputs": [
    {
     "name": "stdout",
     "output_type": "stream",
     "text": [
      "True\n"
     ]
    }
   ],
   "source": [
    "print 'a' < 'b'"
   ]
  },
  {
   "cell_type": "markdown",
   "metadata": {},
   "source": [
    "So Python actually has a basic notion of alphabetical order built in already.  But this is still going to get messy.  Think about alphabetizing the following lists\n",
    "\n",
    "`[\"candy\",\"air\"]`\n",
    "\n",
    "`[\"and\",\"air\"]`\n",
    "\n",
    "`[\"airport\",\"air\"]`\n",
    "\n",
    "`[\"I\",\"is\",\"is\",\"I\"]`\n",
    "\n",
    "Try to sketch out little algorithms for each case.  Remeber by the way, that any string can be thought of as a tuple of characters.  So now, in some ways alphabetizing is just like above, i.e. go until you are bigger than something else.  But now you have to compare sequences of letters which do not have to be the same length, and can contain any number of identical elements.  \n",
    "\n",
    "Now that you have lost sleep over this, let's start trying to code.  "
   ]
  },
  {
   "cell_type": "code",
   "execution_count": null,
   "metadata": {
    "collapsed": true
   },
   "outputs": [],
   "source": [
    "def i_sort_alpha(vals):\n",
    "    svals = # Initialize your list \n",
    "    for  : # Iterate over the vals\n",
    "        \n",
    "        while  : # Iterate over svals.  \n",
    "            if :\n",
    "                svals.insert()\n",
    "                # Should we keep going after an insertion?\n",
    "            else:\n",
    "                # What should we do if we do not insert an entry?\n",
    "        if : # What should we do if we get to the end of the sorted list, and we haven't inserted anything?\n",
    "            \n",
    "    return svals"
   ]
  },
  {
   "cell_type": "code",
   "execution_count": null,
   "metadata": {
    "collapsed": true
   },
   "outputs": [],
   "source": [
    "i_sort_alpha([\"Candy\",\"is\",\"dandy\",\"but\",\"various\",\"substances\",\"I\",\"can\",\"not\",\"refer\",\"to\",\"are\",\"quicker\",\"and\",\"available\"])"
   ]
  },
  {
   "cell_type": "markdown",
   "metadata": {},
   "source": [
    "Okay, you should be seeing right about now that this is not actually as easy as you think it is going to be...  More on Monday."
   ]
  },
  {
   "cell_type": "code",
   "execution_count": null,
   "metadata": {
    "collapsed": true
   },
   "outputs": [],
   "source": []
  }
 ],
 "metadata": {
  "kernelspec": {
   "display_name": "Python 2",
   "language": "python",
   "name": "python2"
  },
  "language_info": {
   "codemirror_mode": {
    "name": "ipython",
    "version": 2
   },
   "file_extension": ".py",
   "mimetype": "text/x-python",
   "name": "python",
   "nbconvert_exporter": "python",
   "pygments_lexer": "ipython2",
   "version": "2.7.11"
  }
 },
 "nbformat": 4,
 "nbformat_minor": 0
}
