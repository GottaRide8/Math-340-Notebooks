{
 "cells": [
  {
   "cell_type": "markdown",
   "metadata": {},
   "source": [
    "Before moving forward, let's clear up a couple of things about `if`, `elif`, and `else`.  Let's do this via the following function which simply compares two numbers and determines if one is bigger or if they are equal."
   ]
  },
  {
   "cell_type": "code",
   "execution_count": 4,
   "metadata": {
    "collapsed": false
   },
   "outputs": [],
   "source": [
    "def num_comp(x,y):\n",
    "    if x>y:\n",
    "        print \"%f is bigger than %f\" % (x,y)\n",
    "        return x\n",
    "    elif x<y:\n",
    "        print \"%f is bigger than %f\" % (y,x)\n",
    "        return y\n",
    "    else:\n",
    "        print \"Up to rounding, they are the same number\"\n",
    "        return x"
   ]
  },
  {
   "cell_type": "markdown",
   "metadata": {},
   "source": [
    "So, just so we have something to compare to, we could also have written "
   ]
  },
  {
   "cell_type": "code",
   "execution_count": 5,
   "metadata": {
    "collapsed": false
   },
   "outputs": [],
   "source": [
    "def num_comp_alt(x,y):\n",
    "    if x>y:\n",
    "        print \"%f is bigger than %f\" % (x,y)\n",
    "        return x\n",
    "    if x<y:\n",
    "        print \"%f is bigger than %f\" % (y,x)\n",
    "        return y\n",
    "    if x==y:\n",
    "        print \"Up to rounding, they are the same number\"\n",
    "        return x"
   ]
  },
  {
   "cell_type": "markdown",
   "metadata": {},
   "source": [
    "So, just to prove it to ourselves, let's make sure we get the same thing using both approaches "
   ]
  },
  {
   "cell_type": "code",
   "execution_count": 6,
   "metadata": {
    "collapsed": true
   },
   "outputs": [
    {
     "name": "stdout",
     "output_type": "stream",
     "text": [
      "9.400000 is bigger than 8.300000\n",
      "9.4\n",
      "9.400000 is bigger than 8.300000\n",
      "9.4\n"
     ]
    }
   ],
   "source": [
    "print num_comp(8.3,9.4)\n",
    "print num_comp_alt(8.3,9.4)"
   ]
  },
  {
   "cell_type": "markdown",
   "metadata": {},
   "source": [
    "So why use one versus the other?  The point is that in the `if`, `elif`, `else` construction, the program stops once a condition is met.  In the other, all `if` case, every case is checked one after the other.  So `num_comp_alt` is not as efficient.  But it's not just about efficiency.  By keeping the `if`, `elif`, `else` sequence, we are also letting ourselves and others know that we are checking through a list of alternatives, i.e. only one of the three things can be true.  By separating over separate `if` statements, we are saying any or all of these things could be true simultaneously, and that is just not so.  Thus, using the essay analogy, it is poor writing to have only `if`'s.  \n",
    "\n",
    "If you note, I have gone back through the notes and homeworks and cleaned this issue up, though let me know if you find anything I missed.  "
   ]
  },
  {
   "cell_type": "markdown",
   "metadata": {},
   "source": [
    "<strong> Chapter 19 </strong>: Sorting and getting things in order."
   ]
  },
  {
   "cell_type": "markdown",
   "metadata": {},
   "source": [
    "*Insertion Sort* : Suppose we have $n$ papers to alphabetize.  You pick up the first paper.  Done.  You pick up the second and compare last names.  So that is one comparison to sort two papers.  Now you pick up the third paper.  You have two comparisons to make in the worst case.  So, carying on this way, for $n$ papers, we have to make  \n",
    "\n",
    "$$\n",
    "\\sum_{k=0}^{n-1} k = \\frac{n(n-1)}{2} = \\frac{n^2}{2} - \\frac{n}{2}\n",
    "$$\n",
    "\n",
    "comparisons.  We see that as $n$ gets large, or when $n\\gg 1$, the term that grows the fastest is the $n^{2}/2$ term.  Because of this, we say that the operation count of an Insertion Sort is $\\mathcal{O}(n^{2})$.  We can just as well think about taking say a list of numbers and arranging them in increasing order i.e. if I give you `[5,7,3]`, you should return `[3,5,7]`.  If you had `[3,7,5,3]`, you should return `[3,3,5,7]`.  So let's write that function.  I give you a list of integers.  You return a new, sorted list different than the first.  \n",
    "\n",
    "To do this, we need to use a new feature for lists.  This is called insert.  Run the code below to see how insert works."
   ]
  },
  {
   "cell_type": "code",
   "execution_count": 1,
   "metadata": {
    "collapsed": false
   },
   "outputs": [
    {
     "name": "stdout",
     "output_type": "stream",
     "text": [
      "['face', 1, 2, 3]\n",
      "['face', 'smile', 1, 2, 3]\n"
     ]
    }
   ],
   "source": [
    "test = [1, 2, 3]\n",
    "test.insert(0,'face')\n",
    "print test\n",
    "test.insert(1,'smile')\n",
    "print test"
   ]
  },
  {
   "cell_type": "markdown",
   "metadata": {},
   "source": [
    "The next thing you need to do is sketch out how you think this process should run.  I don't necessarily mean draw a flow chart.  I'll start something on the board, but see if you can't fill in the next few steps.  Let's use the following picture for inspiration\n",
    "\n",
    "![title](insertion-sort.png)\n",
    "\n",
    "Okay, now that you have done that, see if you can fill in the following code block"
   ]
  },
  {
   "cell_type": "code",
   "execution_count": 1,
   "metadata": {
    "collapsed": false
   },
   "outputs": [],
   "source": [
    "def i_sort(vals):\n",
    "    svals = [vals[0]]# Initialize your list \n",
    "    for kk in range(1,len(vals)): # Iterate over the vals\n",
    "        cnt = 0\n",
    "        while  cnt < len(svals): # Iterate over svals.  \n",
    "            if vals[kk]<=svals[cnt]:\n",
    "                svals.insert(cnt,vals[kk])\n",
    "                break\n",
    "                # Should we keep going after an insertion?\n",
    "            else:\n",
    "                # What should we do if we do not insert a value?\n",
    "                cnt+=1\n",
    "        if cnt == len(svals): # What should we do if we get to the end of the sorted list, and we haven't inserted anything?\n",
    "            svals.append(vals[kk])\n",
    "    return svals"
   ]
  },
  {
   "cell_type": "code",
   "execution_count": 2,
   "metadata": {
    "collapsed": false
   },
   "outputs": [
    {
     "data": {
      "text/plain": [
       "[1, 2, 3, 3, 5, 7, 7, 10, 23, 47]"
      ]
     },
     "execution_count": 2,
     "metadata": {},
     "output_type": "execute_result"
    }
   ],
   "source": [
    "i_sort([5,7,3,3,1,2,10,23,47,7])"
   ]
  },
  {
   "cell_type": "markdown",
   "metadata": {},
   "source": [
    "Okay, now modify your above function to keep track of the total iteration count, i.e. the total number of comparisons you did to sort the above list.  Do you get the worst case scenario we described above?  "
   ]
  },
  {
   "cell_type": "code",
   "execution_count": 5,
   "metadata": {
    "collapsed": true
   },
   "outputs": [],
   "source": [
    "def i_sort(vals):\n",
    "    svals = [vals[0]]# Initialize your list \n",
    "    cousin_it = 0\n",
    "    for kk in range(1,len(vals)): # Iterate over the vals\n",
    "        cnt = 0\n",
    "        while  cnt < len(svals): # Iterate over svals.  \n",
    "            if vals[kk]<=svals[cnt]:\n",
    "                svals.insert(cnt,vals[kk])\n",
    "                break\n",
    "                # Should we keep going after an insertion?\n",
    "            else:\n",
    "                # What should we do if we do not insert a value?\n",
    "                cnt+=1\n",
    "        \n",
    "        cousin_it+=(cnt+1)                \n",
    "        if cnt == len(svals): # What should we do if we get to the end of the sorted list, and we haven't inserted anything?\n",
    "            svals.append(vals[kk])\n",
    "    print \"Total number of iterations %d\" % cousin_it\n",
    "    return svals"
   ]
  },
  {
   "cell_type": "code",
   "execution_count": 6,
   "metadata": {
    "collapsed": false
   },
   "outputs": [
    {
     "name": "stdout",
     "output_type": "stream",
     "text": [
      "Total number of iterations 37\n"
     ]
    },
    {
     "data": {
      "text/plain": [
       "[1, 2, 3, 3, 5, 7, 7, 10, 23, 47]"
      ]
     },
     "execution_count": 6,
     "metadata": {},
     "output_type": "execute_result"
    }
   ],
   "source": [
    "i_sort([5,7,3,3,1,2,10,23,47,7])"
   ]
  },
  {
   "cell_type": "markdown",
   "metadata": {},
   "source": [
    "Okay, now that you have done that, how would you build a sort function which would alphabetize a list of words?  In particular, design something that works regardless of whether the first letter of the word is capitalized or not.  Likewise, figure out what to do if two words start with the same letter.  Keep in mind that in Python"
   ]
  },
  {
   "cell_type": "code",
   "execution_count": 43,
   "metadata": {
    "collapsed": false
   },
   "outputs": [
    {
     "name": "stdout",
     "output_type": "stream",
     "text": [
      "True\n"
     ]
    }
   ],
   "source": [
    "print 'a' < 'b'"
   ]
  },
  {
   "cell_type": "markdown",
   "metadata": {},
   "source": [
    "So Python actually has a basic notion of alphabetical order built in already.  But this is still going to get messy.  Think about alphabetizing the following lists\n",
    "\n",
    "`[\"candy\",\"air\"]`\n",
    "\n",
    "`[\"and\",\"air\"]`\n",
    "\n",
    "`[\"airport\",\"air\"]`\n",
    "\n",
    "`[\"I\",\"is\",\"is\",\"I\"]`\n",
    "\n",
    "Try to sketch out little algorithms for each case.  Remeber by the way, that any string can be thought of as a tuple of characters.  So now, in some ways alphabetizing is just like above, i.e. go until you are bigger than something else.  But now you have to compare sequences of letters which do not have to be the same length, and can contain any number of identical elements.  \n",
    "\n",
    "Now that you have lost sleep over this, let's start trying to code.  "
   ]
  },
  {
   "cell_type": "code",
   "execution_count": null,
   "metadata": {
    "collapsed": true
   },
   "outputs": [],
   "source": [
    "def i_sort_alpha(vals):\n",
    "    svals = [vals[0]]\n",
    "    for jj in range(1,len(vals)):\n",
    "        cnt = 0\n",
    "        cword = vals[jj]\n",
    "        cword = cword.lower()        \n",
    "        \n",
    "        Flag = False\n",
    "        \n",
    "        while cnt < len(svals): # Iterate over the already sorted list.\n",
    "            \n",
    "              while : # Iterate over the letters in the two words.\n",
    "                if :\n",
    "                    # Insert word in proper place\n",
    "                    # Break the letter loop and the outer loop to go to next word to sort                                       \n",
    "                elif :\n",
    "                    # Break this loop and go to next word within svals and start comparing letters again                    \n",
    "                else:\n",
    "                    \n",
    "            if kk==scri:\n",
    "                if : #decide if one word is shorter and contained within the other i.e. air to airport\n",
    "                    \n",
    "                else: #\n",
    "                                    \n",
    "            if Flag:\n",
    "                break\n",
    "                \n",
    "        if cnt == len(svals):\n",
    "            svals.append(vals[jj])\n",
    "    return svals"
   ]
  },
  {
   "cell_type": "code",
   "execution_count": null,
   "metadata": {
    "collapsed": true
   },
   "outputs": [],
   "source": [
    "i_sort_alpha([\"Candy\",\"is\",\"dandy\",\"but\",\"various\",\"substances\",\"I\",\"can\",\"not\",\"refer\",\"to\",\"are\",\"quicker\",\"and\",\"available\"])"
   ]
  },
  {
   "cell_type": "markdown",
   "metadata": {},
   "source": [
    "Okay, you should be seeing right about now that this is not actually as easy as you think it is going to be...  More on Monday."
   ]
  },
  {
   "cell_type": "markdown",
   "metadata": {
    "collapsed": true
   },
   "source": [
    "**Merge Sorts**: Or how to get it done faster."
   ]
  },
  {
   "cell_type": "markdown",
   "metadata": {},
   "source": [
    "So, as we saw above, insertion sorts of lists of size $n$ are $\\mathcal{O}(n^{2})$ processes, which is to say that the number of operations in an insertion sort scales quadratically with the number of entries in the list.  Is there a way to beat this?  The answer is yes, and it is through using what is called *merge sorting*.  \n",
    "\n",
    "The idea begins with taking a list of $n$ entries and splitting it into halves (or as near to half as possible) until every entry in the list is isolated.  See the following figure for clarification\n",
    "\n",
    "![title](mergesortA.png)\n"
   ]
  },
  {
   "cell_type": "markdown",
   "metadata": {},
   "source": [
    "At this point, we now sort by pairs.  Using the above diagram as an example, that means we sort (54,26), (93,17), (77,31), and (55,20).  Now, suppose I have two pairs, say $A = \\{v_{1},v_{2}\\}$ and $B = \\{v_{3},v_{4}\\}$.  How would I then sort the list $\\{v_{1},v_{2},v_{3},v_{4}\\}$ ? We perform a list *merge*.  To do this, we first create an empty list, say $C$. Now, we check\n",
    "\n",
    "$v_{1} \\leq v_{3}$\n",
    "\n",
    "If `True`, we append $v_{1}$ to $C$ and remove $v_{1}$ from $A$.  \n",
    "Else, we append $v_{3}$ to $C$ and remove $v_{3}$ from $B$.\n",
    "\n",
    "Suppose we triggered `True` from above.  To continue, we would then compare\n",
    "\n",
    "$v_{2} \\leq v_{3}$\n",
    "\n",
    "If `True`, we append $v_{2}$ to $C$ and remove $v_{2}$ from $A$.  Note, at this point, $A$ is now empty.  In this case, we can then simply append $B$ to $C$, and we are done.  \n",
    "\n",
    "Else, we append $v_{3}$ to $C$ and remove $v_{3}$ from $B$.  In this case, we need to make exactly one more comparison, and that is\n",
    "\n",
    "$v_{2} \\leq v_{4}$.\n",
    "\n",
    "Regardless of the outcome, either $A$ or $B$ will become empty, and whichever one is not will be appended, thus completing the sort.  \n",
    "\n",
    "Thus, in a worst case scenario, we can merge two pre-sorted lists of length two in three steps.  Compare this to an insertion sort for four elements, which in the worst case takes $\\frac{4*3}{2} = 6$ operations.  So by working with pre-sorted lists, we have cut the worst case forecast in half.  \n",
    "\n",
    "Now let's think about the algorithm we just traced out.  To do a list merge, of lists $A$ and $B$, we first\n",
    "\n",
    "Create a new, empty list $C$.  \n",
    "\n",
    "Now, while $A$ and $B$ are non-empty\n",
    "\n",
    "Compare $A_{1} \\leq B_{1}$ (Note, the first entries of $A$ and $B$ can change at every iteration)\n",
    "\n",
    "If `True`, append $A_{1}$ to $C$, cut $A_{1}$ from $A$.\n",
    "\n",
    "Else, append $B_{1}$ to $C$, cut $B_{1}$ from $B$. \n",
    "\n",
    "Following this process through, produces the kind of sequence of trees as seen in the following figure.\n",
    "\n",
    "![title](Merge_sort_algorithm_diagram.svg.png)\n",
    "\n",
    "Again, for ease of discussion, let's suppose that $A=\\{v_{1},\\cdots,v_{k}\\}$, and $B=\\{w_{1},\\cdots,w_{k}\\}$, and each list is pre-sorted.  What is the worst case scenario for the number of operations it will take to merge these lists?  Well, the worst case is that $v_{1}\\leq w_{1}$, but $v_{2}>w_{1}$, so that after two comparisons, $A$ and $B$ have only been reduced by one entry each.  Proceeding in this fashion, we see that to remove $1\\leq j<k$ entries each from $A$ and $B$, the worst case scenario is that we have to make $2j$ comparisons.  Following this logic, we see that the worst case scenario to merge $A$ and $B$ is that we have to make $2k-1$ comparisons.  Again, if we had performed an insertion sort on the combined list of $A$ and $B$, this would in the worst case scenario take \n",
    "\n",
    "$\\frac{2k(2k-1)}{2} = k(2k-1)$\n",
    "\n",
    "operations.  \n",
    "\n",
    "Now suppose that we have a list $v = \\{v_{1},v_{2},\\cdots,v_{2^{m}} \\}$, i.e. $v$ is a list with $2^{m}$ entries.  Then if we perform the above splitting, we will always be able to split exactly in halves so that at the end of the process we will have $2^{m-1}$ pairs to sort.  Each sort over a pair is exactly one comparison and therefore we perform $2^{m-1}$ comparisons in this first sorting stage.  Thinking like this, we see that the total operation count in the worst case scenario should be\n",
    "\n",
    "$$ \n",
    "(2\\cdot 1 - 1)2^{m-1} + (2\\cdot2 - 1)2^{m-2} + (2\\cdot 2^{2} - 1)2^{m-3} + \\cdots + (2\\cdot2^{m-1}-1)\n",
    "$$\n",
    "\n",
    "writing this in $\\Sigma$ notation, we get \n",
    "\n",
    "$$\n",
    "\\sum_{j=1}^{m} (2\\cdot 2^{j-1} - 1)2^{m-j} = 2^{m}\\left(m - 1 + 2^{-m-1}\\right).\n",
    "$$\n",
    "\n",
    "Now, how to code it."
   ]
  },
  {
   "cell_type": "code",
   "execution_count": 1,
   "metadata": {
    "collapsed": true
   },
   "outputs": [],
   "source": [
    "def merge_list(Alist,Blist):\n",
    "    Clist = []\n",
    "    while : # Run so long as neither list is empty.\n",
    "        if : # Compare beginning of lists to each other.  \n",
    "            nval = Alist.pop(0) # Pop removes an entry and returns it.  \n",
    "        else:\n",
    "            nval = Blist.pop(0)\n",
    "        Clist.append(nval)\n",
    "    if : # Decide which list is empty.\n",
    "        Clist.extend(Blist)\n",
    "    else:\n",
    "        Clist.extend(Alist)\n",
    "    return Clist"
   ]
  },
  {
   "cell_type": "code",
   "execution_count": 5,
   "metadata": {
    "collapsed": true
   },
   "outputs": [
    {
     "data": {
      "text/plain": [
       "[2, 4, 5, 7, 8]"
      ]
     },
     "execution_count": 5,
     "metadata": {},
     "output_type": "execute_result"
    }
   ],
   "source": [
    "merge_list([2,5,8],[4,7])"
   ]
  },
  {
   "cell_type": "code",
   "execution_count": 6,
   "metadata": {
    "collapsed": true
   },
   "outputs": [],
   "source": [
    "def merge_sort(vals):\n",
    "    nvals = len(vals)\n",
    "    if nvals==1:\n",
    "        # What do we do when we stop recursing.  Mercy but do you all have some dirty mouths...\n",
    "    else:\n",
    "        nhalf = nvals/2 # Okay this is the one time I'm going to let this fly.\n",
    "        # What do we do if we are not at a terminal point?  There is one and only one line to put here believe it or not.      "
   ]
  },
  {
   "cell_type": "code",
   "execution_count": 8,
   "metadata": {
    "collapsed": true
   },
   "outputs": [
    {
     "data": {
      "text/plain": [
       "[1, 2, 3, 4, 4, 5, 7, 8, 12, 13, 43, 900, 1283]"
      ]
     },
     "execution_count": 8,
     "metadata": {},
     "output_type": "execute_result"
    }
   ],
   "source": [
    "merge_sort([2,5,8,4,7,12,13,1,3,4,900,43,1283])"
   ]
  },
  {
   "cell_type": "code",
   "execution_count": null,
   "metadata": {
    "collapsed": true
   },
   "outputs": [],
   "source": []
  }
 ],
 "metadata": {
  "kernelspec": {
   "display_name": "Python [Root]",
   "language": "python",
   "name": "Python [Root]"
  },
  "language_info": {
   "codemirror_mode": {
    "name": "ipython",
    "version": 2
   },
   "file_extension": ".py",
   "mimetype": "text/x-python",
   "name": "python",
   "nbconvert_exporter": "python",
   "pygments_lexer": "ipython2",
   "version": "2.7.12"
  }
 },
 "nbformat": 4,
 "nbformat_minor": 0
}
