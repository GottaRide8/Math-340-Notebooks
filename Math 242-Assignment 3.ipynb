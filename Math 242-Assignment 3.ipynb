{
 "cells": [
  {
   "cell_type": "markdown",
   "metadata": {},
   "source": [
    "<strong> Problem 1 </strong>:[10 pts] Design a binary calculator.  By this I mean, write a function which takes in two integers which can only be $0$ or $1$.  Add them according to the following rules\n",
    "\n",
    "$$\n",
    "1 + 1 = 0, ~ 1 + 0 = 1, ~ 0 + 1 = 1, ~ 0 + 0 = 0\n",
    "$$\n",
    "\n",
    "Note, to do this, you will need to make use of the Python logical commands 'and' and 'or'.  Fill in the following code skeleton, and run the four necessary test cases to check that your function works correctly.  "
   ]
  },
  {
   "cell_type": "code",
   "execution_count": null,
   "metadata": {
    "collapsed": true
   },
   "outputs": [],
   "source": [
    "def bin_add(x,y):\n",
    "    if (x== and y==) or (x== and y==):\n",
    "        return \n",
    "    elif (x== and y==) or (x== and y==):\n",
    "        return "
   ]
  },
  {
   "cell_type": "code",
   "execution_count": null,
   "metadata": {
    "collapsed": true
   },
   "outputs": [],
   "source": [
    "# Test Case 1: \n",
    "print bin_add()"
   ]
  },
  {
   "cell_type": "code",
   "execution_count": null,
   "metadata": {
    "collapsed": true
   },
   "outputs": [],
   "source": [
    "# Test Case 2: \n",
    "print bin_add()"
   ]
  },
  {
   "cell_type": "code",
   "execution_count": null,
   "metadata": {
    "collapsed": true
   },
   "outputs": [],
   "source": [
    "# Test Case 3: \n",
    "print bin_add()"
   ]
  },
  {
   "cell_type": "code",
   "execution_count": null,
   "metadata": {
    "collapsed": true
   },
   "outputs": [],
   "source": [
    "# Test Case 4: \n",
    "print bin_add()"
   ]
  },
  {
   "cell_type": "markdown",
   "metadata": {},
   "source": [
    "<strong> Problem 2 </strong>:[10 pts]  From Wikipedia, we learn that \n",
    "\n",
    "''Every year that is exactly divisible by four is a leap year, except for years that are exactly divisible by 100, but these centurial years are leap years if they are exactly divisible by 400. For example, the years 1700, 1800, and 1900 are not leap years, but the years 1600 and 2000 are.''\n",
    "\n",
    "Given a year, write a function which determines how many days there are in February.  Fill in the following code skeleton below.  Produce several test cases which prove you have done this correctly.  Explain your reasoning.  "
   ]
  },
  {
   "cell_type": "code",
   "execution_count": null,
   "metadata": {
    "collapsed": true
   },
   "outputs": [],
   "source": [
    "# note, input 'year' is an integer\n",
    "def leap_year(year):\n",
    "    if year% == :\n",
    "        if year% != or year% == :\n",
    "            return 29\n",
    "        else:\n",
    "            return 28\n",
    "    else:\n",
    "        return 28"
   ]
  },
  {
   "cell_type": "code",
   "execution_count": null,
   "metadata": {
    "collapsed": true
   },
   "outputs": [],
   "source": [
    "# Give a test case"
   ]
  },
  {
   "cell_type": "code",
   "execution_count": null,
   "metadata": {
    "collapsed": true
   },
   "outputs": [],
   "source": [
    "# Give a test case"
   ]
  },
  {
   "cell_type": "code",
   "execution_count": null,
   "metadata": {
    "collapsed": true
   },
   "outputs": [],
   "source": [
    "#Give a test case"
   ]
  },
  {
   "cell_type": "markdown",
   "metadata": {},
   "source": [
    "Provide reasoning here."
   ]
  },
  {
   "cell_type": "markdown",
   "metadata": {},
   "source": [
    "<strong> Problem 3 </strong>:[10 pts] Now write a function which determines, given the day, month, and year, what day of the given year it is.  For example, February 7th, 2012, is the 38th day of the year.  But March 1st, 2012, is the 61st day of the year while March 1st, 2011 is the 60th day of that year.  \n",
    "\n",
    "Note, you will want to write two functions, with one calling the other.  Modify the function from <strong>Problem 2</strong> and then write another function which calls that one.  Fill in the code skeleton below.  Afterwards, provide test cases and reasoning which explains why your method is correct.  "
   ]
  },
  {
   "cell_type": "code",
   "execution_count": null,
   "metadata": {
    "collapsed": true
   },
   "outputs": [],
   "source": [
    "# helper function for dealing with all this leap year madness\n",
    "\n",
    "# 'day' is the current day of the month\n",
    "\n",
    "# 'nly_days' is the number of days in all the non-leap year months up to,\n",
    "# but not including the present month\n",
    "\n",
    "# 'year' is the current year\n",
    "\n",
    "def leap_count(day,nly_days,year):\n",
    "    if year% == :\n",
    "        if year% !=  or year% == :\n",
    "            return day + nly_days + 29\n",
    "        else:\n",
    "            return day + nly_days + 28\n",
    "    else:\n",
    "        return day + nly_days + 28"
   ]
  },
  {
   "cell_type": "code",
   "execution_count": null,
   "metadata": {
    "collapsed": true
   },
   "outputs": [],
   "source": [
    "# month, day, and year are integers representing the particular month and day within a given year\n",
    "def date_conv(month,day,year):\n",
    "    if month<3:\n",
    "        if month==1:\n",
    "            return day\n",
    "        elif month==2:\n",
    "            return day+31\n",
    "    else:\n",
    "        if month==3:\n",
    "            nly_days = 31\n",
    "        elif month==4:\n",
    "            nly_days = 2*31\n",
    "        elif month==5:\n",
    "            nly_days = \n",
    "        elif month==6:\n",
    "            nly_day = \n",
    "        elif month==7:\n",
    "            nly_days = \n",
    "        elif month==8:\n",
    "            nly_days = \n",
    "        elif month==9:\n",
    "            nly_days = \n",
    "        elif month==10:\n",
    "            nly_days =     \n",
    "        elif month==11:\n",
    "            nly_days = \n",
    "        else:\n",
    "            nly_days =  \n",
    "        return leap_count(day,nly_days,year)    "
   ]
  },
  {
   "cell_type": "code",
   "execution_count": null,
   "metadata": {
    "collapsed": true
   },
   "outputs": [],
   "source": [
    "# Present a test case\n",
    "print date_conv()"
   ]
  },
  {
   "cell_type": "code",
   "execution_count": null,
   "metadata": {
    "collapsed": true
   },
   "outputs": [],
   "source": [
    "# Present a test case\n",
    "print date_conv()"
   ]
  },
  {
   "cell_type": "code",
   "execution_count": null,
   "metadata": {
    "collapsed": true
   },
   "outputs": [],
   "source": [
    "# Present a test case\n",
    "print date_conv()"
   ]
  },
  {
   "cell_type": "markdown",
   "metadata": {},
   "source": [
    "Provide explanation for why your code is correct here.  "
   ]
  },
  {
   "cell_type": "markdown",
   "metadata": {},
   "source": [
    "<strong> Problem 4 </strong>:[10 pts] Now write a function which takes in two dates and returns the number of days between them.  Use the functions you developed above to help.  Start with the following code skeleton, and use the conventions for date formats explained therein.  "
   ]
  },
  {
   "cell_type": "code",
   "execution_count": 1,
   "metadata": {
    "collapsed": true
   },
   "outputs": [],
   "source": [
    "# Format for dates should be strings of the form mo/day/year = ##/##/####, \n",
    "# So January 22, 1958 should be input as: ''01/22/1958''.\n",
    "\n",
    "def date_dif(date1,date2):\n",
    "    month1 = int(date1[0:2])\n",
    "    day1 = int(date1[3:5])\n",
    "    year1 = int(date1[6:10])\n",
    "    \n",
    "    month2 = int(date2[0:2])\n",
    "    day2 = int(date2[3:5])\n",
    "    year2 = int(date2[6:10])\n",
    "    \n",
    "    # First find the current total day within the given year \n",
    "    \n",
    "    tot_day1 = date_conv(month1,day1,year1)\n",
    "    tot_day2 = date_conv(month2,day2,year2)\n",
    "\n",
    "    # Now start losing sleep over the year.  Each non-leap year has 365 days, \n",
    "    # while each leap year has 366.  You might want to write another helper \n",
    "    # function to determine when a year is a leap year or not.  A while loop \n",
    "    # may not hurt either actually, but I leave the rest to you."
   ]
  },
  {
   "cell_type": "code",
   "execution_count": null,
   "metadata": {
    "collapsed": true
   },
   "outputs": [],
   "source": [
    "# Present a test case\n",
    "print date_dif(\"01/22/1958\",\"01/22/1959\")"
   ]
  },
  {
   "cell_type": "code",
   "execution_count": null,
   "metadata": {
    "collapsed": true
   },
   "outputs": [],
   "source": [
    "# Present a test case\n",
    "print date_dif()"
   ]
  },
  {
   "cell_type": "code",
   "execution_count": null,
   "metadata": {
    "collapsed": true
   },
   "outputs": [],
   "source": [
    "# Present a test case\n",
    "print date_dif()"
   ]
  },
  {
   "cell_type": "code",
   "execution_count": null,
   "metadata": {
    "collapsed": true
   },
   "outputs": [],
   "source": [
    "# Present a test case\n",
    "print date_dif()"
   ]
  },
  {
   "cell_type": "markdown",
   "metadata": {},
   "source": [
    "Provide your reasoning for why your function works correctly here. "
   ]
  },
  {
   "cell_type": "markdown",
   "metadata": {},
   "source": [
    "<strong> Problem 5 </strong>: Problem 4 from Chapter 12 of the book.  3pts for each part.  Make a function for each and provide a test case.  I'll do the first one to get you started.  "
   ]
  },
  {
   "cell_type": "code",
   "execution_count": 5,
   "metadata": {
    "collapsed": true
   },
   "outputs": [],
   "source": [
    "# Problem 4a from Chapter 12\n",
    "\n",
    "def sum_4a(n):\n",
    "    count = 1\n",
    "    tot = 0\n",
    "    while(count<=n):\n",
    "        tot += count\n",
    "        count += 1                \n",
    "    return tot"
   ]
  },
  {
   "cell_type": "code",
   "execution_count": 8,
   "metadata": {
    "collapsed": false
   },
   "outputs": [
    {
     "name": "stdout",
     "output_type": "stream",
     "text": [
      "15\n"
     ]
    }
   ],
   "source": [
    "print sum_4a(5)"
   ]
  },
  {
   "cell_type": "code",
   "execution_count": null,
   "metadata": {
    "collapsed": true
   },
   "outputs": [],
   "source": []
  }
 ],
 "metadata": {
  "kernelspec": {
   "display_name": "Python 2",
   "language": "python",
   "name": "python2"
  },
  "language_info": {
   "codemirror_mode": {
    "name": "ipython",
    "version": 2
   },
   "file_extension": ".py",
   "mimetype": "text/x-python",
   "name": "python",
   "nbconvert_exporter": "python",
   "pygments_lexer": "ipython2",
   "version": "2.7.11"
  }
 },
 "nbformat": 4,
 "nbformat_minor": 0
}
