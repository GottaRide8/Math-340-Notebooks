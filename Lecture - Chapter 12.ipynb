{
 "cells": [
  {
   "cell_type": "markdown",
   "metadata": {},
   "source": [
    "<strong> Chapter 12 </strong>: Okay, now we are really getting into programing because now we get to talk about loops.  What if for reasons known only to me I wanted to print \"Hello World\" five times?  How might I make Python do that?  One way to do that is with a while loop.  Let me show you what I mean"
   ]
  },
  {
   "cell_type": "code",
   "execution_count": null,
   "metadata": {
    "collapsed": false
   },
   "outputs": [],
   "source": [
    "count = 1\n",
    "while count<=5:\n",
    "    print \"Hello World\"\n",
    "    count = count + 1"
   ]
  },
  {
   "cell_type": "markdown",
   "metadata": {},
   "source": [
    "Now that did what we wanted, but let's fuss a little about how that works.  For example we could add a little more information to get a better idea of how we update the variable 'count'."
   ]
  },
  {
   "cell_type": "code",
   "execution_count": null,
   "metadata": {
    "collapsed": true
   },
   "outputs": [],
   "source": [
    "count = 1\n",
    "while count<=5:\n",
    "    print \"Hello World\"\n",
    "    print \"The current iteration count is %d\" % count\n",
    "    count = count + 1"
   ]
  },
  {
   "cell_type": "markdown",
   "metadata": {},
   "source": [
    "So what do we see happening here?  We start with 'count = 1'.  This passes the test, 'count<=5', since one is less than five.  Then we print a couple of key things, and then we update 'count'.  Note, we can write this code in the more compact form "
   ]
  },
  {
   "cell_type": "code",
   "execution_count": null,
   "metadata": {
    "collapsed": false
   },
   "outputs": [],
   "source": [
    "count = 1\n",
    "while count<=5:\n",
    "    print \"Hello World\"\n",
    "    count += 1"
   ]
  },
  {
   "cell_type": "markdown",
   "metadata": {},
   "source": [
    "What happens though if you try to run "
   ]
  },
  {
   "cell_type": "code",
   "execution_count": null,
   "metadata": {
    "collapsed": true
   },
   "outputs": [],
   "source": [
    "count = 1\n",
    "while count<=5:\n",
    "    count += 1\n",
    "    print \"Hello World\"    "
   ]
  },
  {
   "cell_type": "markdown",
   "metadata": {},
   "source": [
    "Try talking to your neighbors and see if you can explain why you did not get the desired result.  "
   ]
  },
  {
   "cell_type": "markdown",
   "metadata": {},
   "source": [
    "Okay, now let's do something cool.  Let's build a program to compute the greatest common divisor, or gcd, between two positive integers 'a' and 'b'.  First, we need to learn something fundamental about integers.  You already know this, but we have to make it more formal.  First, let's suppose that $b>a>1$, which we can do without loss of generality.  Then, we can write \n",
    "\n",
    "$$\n",
    "b = n_{0}a + r_{0}, ~r_{0}=0,\\cdots,a-1\n",
    "$$\n",
    "\n",
    "All we are saying here is that if we divide $a$ into $b$, we get that $b$ is some multiple of $a$ plus a remainder $r_{0}$, and if we have a remainder, it must be *strictly* less than $a$.  This is a super important point.\n",
    "\n",
    "Now suppose that $b$ was a multiple of $a$, so that the remainder $r_{0}=0$.  Then we can see that \n",
    "\n",
    "$$\n",
    "gcd(a,b) = a, ~ \\mbox{if} ~ r_{0}=0\n",
    "$$\n",
    "\n",
    "Okay, but what if $r_{0}>0$?  Well, let's keep in mind that $r$ is strictly less than $a$, so using the logic from above, we can write\n",
    "\n",
    "$$\n",
    "a = n_{1} r_{0} + r_{1}, ~ r_{1} = 0,\\cdots,r_{0}-1\n",
    "$$\n",
    "\n",
    "Again, note, $r_{1}$ is *strictly* less than $r_{0}$.  We can now ask, what if $r_{1}=0$?  Well then that means\n",
    "\n",
    "$$\n",
    "a = n_{1} r_{0},\n",
    "$$\n",
    "\n",
    "and so that implies\n",
    "\n",
    "$$\n",
    "b = n_{0}n_{1}r_{0} + r_{0} = (n_{0}n_{1} + 1)r_{0}\n",
    "$$\n",
    "\n",
    "and so we see $r_{0}$ divides both $a$ and $b$, and without too much fuss, we can see that \n",
    "\n",
    "$$\n",
    "r_{0} = gcd(a,b), ~\\mbox{if} ~ r_{1} = 0.\n",
    "$$\n",
    "\n",
    "But what if $r_{1}>0$?  Then we will just do the same thing and compute \n",
    "\n",
    "$$\n",
    "r_{0} = n_{2}r_{1} + r_{2}, ~ r_{2} = 0,\\cdots,r_{1} - 1.\n",
    "$$\n",
    "\n",
    "Now we test, is $r_{2}=0$?  If it is, that makes $r_{1}$ the greatest common divisor.  If not, then we have to repeat the process.  Now, do you need to apply an explicit stopping criteria?  "
   ]
  },
  {
   "cell_type": "markdown",
   "metadata": {},
   "source": [
    "The next thing to fuss about is how do we find remainders?  That is where we use the 'mod(,)' command.  So we have "
   ]
  },
  {
   "cell_type": "code",
   "execution_count": null,
   "metadata": {
    "collapsed": true
   },
   "outputs": [],
   "source": [
    "from numpy import mod as nmod"
   ]
  },
  {
   "cell_type": "code",
   "execution_count": null,
   "metadata": {
    "collapsed": false
   },
   "outputs": [],
   "source": [
    "print nmod(7,2)"
   ]
  },
  {
   "cell_type": "code",
   "execution_count": null,
   "metadata": {
    "collapsed": false
   },
   "outputs": [],
   "source": [
    "print 7%2"
   ]
  },
  {
   "cell_type": "markdown",
   "metadata": {},
   "source": [
    "Okay, so 'mod' or '%' gives us remainders.  So let's start our program.  First we take as input $a$ and $b$, and the way we have this set up, we want to know which is bigger.  So before we do anything, we test and switch.  Let me show you what I mean"
   ]
  },
  {
   "cell_type": "code",
   "execution_count": null,
   "metadata": {
    "collapsed": true
   },
   "outputs": [],
   "source": [
    "def gcd(a,b):\n",
    "    # Test if a is bigger than b, if so, then switch the values. \n",
    "    if(a>b):\n",
    "        c = b\n",
    "        b = a\n",
    "        a = c\n",
    "    # Now proceed with the rest of the algorithm\n",
    "    r = b%a\n",
    "    while r!=0:\n",
    "        b=a\n",
    "        a=r\n",
    "        r=b%a            \n",
    "    return a"
   ]
  },
  {
   "cell_type": "code",
   "execution_count": null,
   "metadata": {
    "collapsed": true
   },
   "outputs": [],
   "source": [
    "gcd(302,44)"
   ]
  },
  {
   "cell_type": "code",
   "execution_count": null,
   "metadata": {
    "collapsed": true
   },
   "outputs": [],
   "source": [
    "def gcd_terse(a,b):\n",
    "    # Test if a is bigger than b, if so, then switch the values. \n",
    "    if(a>b):\n",
    "        b,a = a,b\n",
    "    # Now proceed with the rest of the algorithm\n",
    "    while b%a!=0:\n",
    "        b,a=a,b%a                    \n",
    "    return a    "
   ]
  },
  {
   "cell_type": "code",
   "execution_count": null,
   "metadata": {
    "collapsed": false
   },
   "outputs": [],
   "source": [
    "gcd_terse(302,44)"
   ]
  },
  {
   "cell_type": "code",
   "execution_count": null,
   "metadata": {
    "collapsed": true
   },
   "outputs": [],
   "source": []
  }
 ],
 "metadata": {
  "kernelspec": {
   "display_name": "Python 2",
   "language": "python",
   "name": "python2"
  },
  "language_info": {
   "codemirror_mode": {
    "name": "ipython",
    "version": 2
   },
   "file_extension": ".py",
   "mimetype": "text/x-python",
   "name": "python",
   "nbconvert_exporter": "python",
   "pygments_lexer": "ipython2",
   "version": "2.7.11"
  }
 },
 "nbformat": 4,
 "nbformat_minor": 0
}
